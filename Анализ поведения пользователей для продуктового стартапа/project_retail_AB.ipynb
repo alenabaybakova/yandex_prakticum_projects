{
 "cells": [
  {
   "cell_type": "markdown",
   "metadata": {},
   "source": [
    "## Описание проекта\n",
    "Вы работаете в стартапе, который продаёт продукты питания. Нужно разобраться, как ведут себя пользователи вашего мобильного приложения.\n",
    "\n",
    "Дизайнеры захотели поменять шрифты во всём приложении, а менеджеры испугались, что пользователям будет непривычно. Договорились принять решение по результатам A/A/B-теста. Пользователей разбили на 3 группы: 2 контрольные со старыми шрифтами и одну экспериментальную — с новыми. Выясните, какой шрифт лучше."
   ]
  },
  {
   "cell_type": "markdown",
   "metadata": {},
   "source": [
    "## Описание данных\n",
    "Каждая запись в логе — это действие пользователя, или событие.\n",
    "- EventName — название события;\n",
    "- DeviceIDHash — уникальный идентификатор пользователя;\n",
    "- EventTimestamp — время события;\n",
    "- ExpId — номер эксперимента: 246 и 247 — контрольные группы, а 248 — экспериментальная.\n"
   ]
  },
  {
   "cell_type": "markdown",
   "metadata": {},
   "source": [
    "## Импорт библиотек"
   ]
  },
  {
   "cell_type": "code",
   "execution_count": 100,
   "metadata": {},
   "outputs": [],
   "source": [
    "import pandas as pd\n",
    "import numpy as np\n",
    "from scipy import stats as st\n",
    "import math as mth\n",
    "\n",
    "import datetime\n",
    "from datetime import datetime, date, time\n",
    "\n",
    "import plotly.express as px\n",
    "from plotly import graph_objects as go\n",
    "import seaborn as sns\n",
    "import matplotlib.pyplot as plt\n",
    "\n",
    "import warnings\n",
    "warnings.filterwarnings(action='ignore')"
   ]
  },
  {
   "cell_type": "markdown",
   "metadata": {},
   "source": [
    "## Изучение и предобработка данных"
   ]
  },
  {
   "cell_type": "code",
   "execution_count": 101,
   "metadata": {},
   "outputs": [
    {
     "data": {
      "text/html": [
       "<div>\n",
       "<style scoped>\n",
       "    .dataframe tbody tr th:only-of-type {\n",
       "        vertical-align: middle;\n",
       "    }\n",
       "\n",
       "    .dataframe tbody tr th {\n",
       "        vertical-align: top;\n",
       "    }\n",
       "\n",
       "    .dataframe thead th {\n",
       "        text-align: right;\n",
       "    }\n",
       "</style>\n",
       "<table border=\"1\" class=\"dataframe\">\n",
       "  <thead>\n",
       "    <tr style=\"text-align: right;\">\n",
       "      <th></th>\n",
       "      <th>EventName</th>\n",
       "      <th>DeviceIDHash</th>\n",
       "      <th>EventTimestamp</th>\n",
       "      <th>ExpId</th>\n",
       "    </tr>\n",
       "  </thead>\n",
       "  <tbody>\n",
       "    <tr>\n",
       "      <th>0</th>\n",
       "      <td>MainScreenAppear</td>\n",
       "      <td>4575588528974610257</td>\n",
       "      <td>1564029816</td>\n",
       "      <td>246</td>\n",
       "    </tr>\n",
       "    <tr>\n",
       "      <th>1</th>\n",
       "      <td>MainScreenAppear</td>\n",
       "      <td>7416695313311560658</td>\n",
       "      <td>1564053102</td>\n",
       "      <td>246</td>\n",
       "    </tr>\n",
       "    <tr>\n",
       "      <th>2</th>\n",
       "      <td>PaymentScreenSuccessful</td>\n",
       "      <td>3518123091307005509</td>\n",
       "      <td>1564054127</td>\n",
       "      <td>248</td>\n",
       "    </tr>\n",
       "  </tbody>\n",
       "</table>\n",
       "</div>"
      ],
      "text/plain": [
       "                 EventName         DeviceIDHash  EventTimestamp  ExpId\n",
       "0         MainScreenAppear  4575588528974610257      1564029816    246\n",
       "1         MainScreenAppear  7416695313311560658      1564053102    246\n",
       "2  PaymentScreenSuccessful  3518123091307005509      1564054127    248"
      ]
     },
     "execution_count": 101,
     "metadata": {},
     "output_type": "execute_result"
    }
   ],
   "source": [
    "df = pd.read_csv('/Users/alena/Desktop/projects/AB_project/logs_exp.csv', sep ='\\t')\n",
    "df.head(3)"
   ]
  },
  {
   "cell_type": "markdown",
   "metadata": {},
   "source": [
    "### Переименуем столбцы:"
   ]
  },
  {
   "cell_type": "code",
   "execution_count": 102,
   "metadata": {},
   "outputs": [
    {
     "data": {
      "text/html": [
       "<div>\n",
       "<style scoped>\n",
       "    .dataframe tbody tr th:only-of-type {\n",
       "        vertical-align: middle;\n",
       "    }\n",
       "\n",
       "    .dataframe tbody tr th {\n",
       "        vertical-align: top;\n",
       "    }\n",
       "\n",
       "    .dataframe thead th {\n",
       "        text-align: right;\n",
       "    }\n",
       "</style>\n",
       "<table border=\"1\" class=\"dataframe\">\n",
       "  <thead>\n",
       "    <tr style=\"text-align: right;\">\n",
       "      <th></th>\n",
       "      <th>event_name</th>\n",
       "      <th>device_id</th>\n",
       "      <th>event_timestamp</th>\n",
       "      <th>exp_id</th>\n",
       "    </tr>\n",
       "  </thead>\n",
       "  <tbody>\n",
       "    <tr>\n",
       "      <th>0</th>\n",
       "      <td>MainScreenAppear</td>\n",
       "      <td>4575588528974610257</td>\n",
       "      <td>1564029816</td>\n",
       "      <td>246</td>\n",
       "    </tr>\n",
       "    <tr>\n",
       "      <th>1</th>\n",
       "      <td>MainScreenAppear</td>\n",
       "      <td>7416695313311560658</td>\n",
       "      <td>1564053102</td>\n",
       "      <td>246</td>\n",
       "    </tr>\n",
       "    <tr>\n",
       "      <th>2</th>\n",
       "      <td>PaymentScreenSuccessful</td>\n",
       "      <td>3518123091307005509</td>\n",
       "      <td>1564054127</td>\n",
       "      <td>248</td>\n",
       "    </tr>\n",
       "  </tbody>\n",
       "</table>\n",
       "</div>"
      ],
      "text/plain": [
       "                event_name            device_id  event_timestamp  exp_id\n",
       "0         MainScreenAppear  4575588528974610257       1564029816     246\n",
       "1         MainScreenAppear  7416695313311560658       1564053102     246\n",
       "2  PaymentScreenSuccessful  3518123091307005509       1564054127     248"
      ]
     },
     "execution_count": 102,
     "metadata": {},
     "output_type": "execute_result"
    }
   ],
   "source": [
    "df = df.rename(columns = {'EventName':'event_name',\n",
    "                          'DeviceIDHash':'device_id',\n",
    "                          'EventTimestamp':'event_timestamp',\n",
    "                          'ExpId':'exp_id'})\n",
    "df.head(3)"
   ]
  },
  {
   "cell_type": "markdown",
   "metadata": {},
   "source": [
    "### Типы данных"
   ]
  },
  {
   "cell_type": "code",
   "execution_count": 103,
   "metadata": {},
   "outputs": [
    {
     "name": "stdout",
     "output_type": "stream",
     "text": [
      "<class 'pandas.core.frame.DataFrame'>\n",
      "RangeIndex: 244126 entries, 0 to 244125\n",
      "Data columns (total 4 columns):\n",
      " #   Column           Non-Null Count   Dtype \n",
      "---  ------           --------------   ----- \n",
      " 0   event_name       244126 non-null  object\n",
      " 1   device_id        244126 non-null  int64 \n",
      " 2   event_timestamp  244126 non-null  int64 \n",
      " 3   exp_id           244126 non-null  int64 \n",
      "dtypes: int64(3), object(1)\n",
      "memory usage: 7.5+ MB\n"
     ]
    }
   ],
   "source": [
    "df.info()"
   ]
  },
  {
   "cell_type": "markdown",
   "metadata": {},
   "source": [
    "### Пропуски и дубликаты"
   ]
  },
  {
   "cell_type": "code",
   "execution_count": 104,
   "metadata": {},
   "outputs": [
    {
     "data": {
      "text/plain": [
       "event_name         0\n",
       "device_id          0\n",
       "event_timestamp    0\n",
       "exp_id             0\n",
       "dtype: int64"
      ]
     },
     "execution_count": 104,
     "metadata": {},
     "output_type": "execute_result"
    }
   ],
   "source": [
    "df.isna().sum()"
   ]
  },
  {
   "cell_type": "code",
   "execution_count": 105,
   "metadata": {},
   "outputs": [
    {
     "data": {
      "text/plain": [
       "413"
      ]
     },
     "execution_count": 105,
     "metadata": {},
     "output_type": "execute_result"
    }
   ],
   "source": [
    "df.duplicated().sum()"
   ]
  },
  {
   "cell_type": "code",
   "execution_count": 106,
   "metadata": {},
   "outputs": [
    {
     "data": {
      "text/html": [
       "<div>\n",
       "<style scoped>\n",
       "    .dataframe tbody tr th:only-of-type {\n",
       "        vertical-align: middle;\n",
       "    }\n",
       "\n",
       "    .dataframe tbody tr th {\n",
       "        vertical-align: top;\n",
       "    }\n",
       "\n",
       "    .dataframe thead th {\n",
       "        text-align: right;\n",
       "    }\n",
       "</style>\n",
       "<table border=\"1\" class=\"dataframe\">\n",
       "  <thead>\n",
       "    <tr style=\"text-align: right;\">\n",
       "      <th></th>\n",
       "      <th>event_name</th>\n",
       "      <th>device_id</th>\n",
       "      <th>event_timestamp</th>\n",
       "      <th>exp_id</th>\n",
       "    </tr>\n",
       "  </thead>\n",
       "  <tbody>\n",
       "    <tr>\n",
       "      <th>453</th>\n",
       "      <td>MainScreenAppear</td>\n",
       "      <td>5613408041324010552</td>\n",
       "      <td>1564474784</td>\n",
       "      <td>248</td>\n",
       "    </tr>\n",
       "  </tbody>\n",
       "</table>\n",
       "</div>"
      ],
      "text/plain": [
       "           event_name            device_id  event_timestamp  exp_id\n",
       "453  MainScreenAppear  5613408041324010552       1564474784     248"
      ]
     },
     "execution_count": 106,
     "metadata": {},
     "output_type": "execute_result"
    }
   ],
   "source": [
    "df_new = df[df.duplicated()].head()\n",
    "df_new.query('device_id == 5613408041324010552')"
   ]
  },
  {
   "cell_type": "code",
   "execution_count": 107,
   "metadata": {},
   "outputs": [
    {
     "data": {
      "text/html": [
       "<div>\n",
       "<style scoped>\n",
       "    .dataframe tbody tr th:only-of-type {\n",
       "        vertical-align: middle;\n",
       "    }\n",
       "\n",
       "    .dataframe tbody tr th {\n",
       "        vertical-align: top;\n",
       "    }\n",
       "\n",
       "    .dataframe thead th {\n",
       "        text-align: right;\n",
       "    }\n",
       "</style>\n",
       "<table border=\"1\" class=\"dataframe\">\n",
       "  <thead>\n",
       "    <tr style=\"text-align: right;\">\n",
       "      <th></th>\n",
       "      <th>event_name</th>\n",
       "      <th>device_id</th>\n",
       "      <th>event_timestamp</th>\n",
       "      <th>exp_id</th>\n",
       "    </tr>\n",
       "  </thead>\n",
       "  <tbody>\n",
       "    <tr>\n",
       "      <th>452</th>\n",
       "      <td>MainScreenAppear</td>\n",
       "      <td>5613408041324010552</td>\n",
       "      <td>1564474784</td>\n",
       "      <td>248</td>\n",
       "    </tr>\n",
       "    <tr>\n",
       "      <th>453</th>\n",
       "      <td>MainScreenAppear</td>\n",
       "      <td>5613408041324010552</td>\n",
       "      <td>1564474784</td>\n",
       "      <td>248</td>\n",
       "    </tr>\n",
       "  </tbody>\n",
       "</table>\n",
       "</div>"
      ],
      "text/plain": [
       "           event_name            device_id  event_timestamp  exp_id\n",
       "452  MainScreenAppear  5613408041324010552       1564474784     248\n",
       "453  MainScreenAppear  5613408041324010552       1564474784     248"
      ]
     },
     "execution_count": 107,
     "metadata": {},
     "output_type": "execute_result"
    }
   ],
   "source": [
    "df.query('device_id == 5613408041324010552 and event_timestamp ==1564474784')"
   ]
  },
  {
   "cell_type": "code",
   "execution_count": 108,
   "metadata": {},
   "outputs": [],
   "source": [
    "df = df.drop_duplicates()"
   ]
  },
  {
   "cell_type": "markdown",
   "metadata": {},
   "source": [
    "Дубликаты могут быть связаны с какой-то технической ошибкой - логи в одно время уходят дважды. Удаляем их."
   ]
  },
  {
   "cell_type": "markdown",
   "metadata": {},
   "source": [
    "### Даты\n",
    "\n",
    "Добавим столбец даты и времени:"
   ]
  },
  {
   "cell_type": "code",
   "execution_count": 109,
   "metadata": {},
   "outputs": [],
   "source": [
    "df['time'] = pd.to_datetime(df['event_timestamp'], unit = 's')"
   ]
  },
  {
   "cell_type": "markdown",
   "metadata": {},
   "source": [
    "Добавим столбец даты:"
   ]
  },
  {
   "cell_type": "code",
   "execution_count": 110,
   "metadata": {},
   "outputs": [],
   "source": [
    "df['date'] = df['time'].dt.date"
   ]
  },
  {
   "cell_type": "code",
   "execution_count": 111,
   "metadata": {},
   "outputs": [
    {
     "data": {
      "text/html": [
       "<div>\n",
       "<style scoped>\n",
       "    .dataframe tbody tr th:only-of-type {\n",
       "        vertical-align: middle;\n",
       "    }\n",
       "\n",
       "    .dataframe tbody tr th {\n",
       "        vertical-align: top;\n",
       "    }\n",
       "\n",
       "    .dataframe thead th {\n",
       "        text-align: right;\n",
       "    }\n",
       "</style>\n",
       "<table border=\"1\" class=\"dataframe\">\n",
       "  <thead>\n",
       "    <tr style=\"text-align: right;\">\n",
       "      <th></th>\n",
       "      <th>event_name</th>\n",
       "      <th>device_id</th>\n",
       "      <th>event_timestamp</th>\n",
       "      <th>exp_id</th>\n",
       "      <th>time</th>\n",
       "      <th>date</th>\n",
       "    </tr>\n",
       "  </thead>\n",
       "  <tbody>\n",
       "    <tr>\n",
       "      <th>0</th>\n",
       "      <td>MainScreenAppear</td>\n",
       "      <td>4575588528974610257</td>\n",
       "      <td>1564029816</td>\n",
       "      <td>246</td>\n",
       "      <td>2019-07-25 04:43:36</td>\n",
       "      <td>2019-07-25</td>\n",
       "    </tr>\n",
       "    <tr>\n",
       "      <th>1</th>\n",
       "      <td>MainScreenAppear</td>\n",
       "      <td>7416695313311560658</td>\n",
       "      <td>1564053102</td>\n",
       "      <td>246</td>\n",
       "      <td>2019-07-25 11:11:42</td>\n",
       "      <td>2019-07-25</td>\n",
       "    </tr>\n",
       "    <tr>\n",
       "      <th>2</th>\n",
       "      <td>PaymentScreenSuccessful</td>\n",
       "      <td>3518123091307005509</td>\n",
       "      <td>1564054127</td>\n",
       "      <td>248</td>\n",
       "      <td>2019-07-25 11:28:47</td>\n",
       "      <td>2019-07-25</td>\n",
       "    </tr>\n",
       "    <tr>\n",
       "      <th>3</th>\n",
       "      <td>CartScreenAppear</td>\n",
       "      <td>3518123091307005509</td>\n",
       "      <td>1564054127</td>\n",
       "      <td>248</td>\n",
       "      <td>2019-07-25 11:28:47</td>\n",
       "      <td>2019-07-25</td>\n",
       "    </tr>\n",
       "    <tr>\n",
       "      <th>4</th>\n",
       "      <td>PaymentScreenSuccessful</td>\n",
       "      <td>6217807653094995999</td>\n",
       "      <td>1564055322</td>\n",
       "      <td>248</td>\n",
       "      <td>2019-07-25 11:48:42</td>\n",
       "      <td>2019-07-25</td>\n",
       "    </tr>\n",
       "  </tbody>\n",
       "</table>\n",
       "</div>"
      ],
      "text/plain": [
       "                event_name            device_id  event_timestamp  exp_id  \\\n",
       "0         MainScreenAppear  4575588528974610257       1564029816     246   \n",
       "1         MainScreenAppear  7416695313311560658       1564053102     246   \n",
       "2  PaymentScreenSuccessful  3518123091307005509       1564054127     248   \n",
       "3         CartScreenAppear  3518123091307005509       1564054127     248   \n",
       "4  PaymentScreenSuccessful  6217807653094995999       1564055322     248   \n",
       "\n",
       "                 time        date  \n",
       "0 2019-07-25 04:43:36  2019-07-25  \n",
       "1 2019-07-25 11:11:42  2019-07-25  \n",
       "2 2019-07-25 11:28:47  2019-07-25  \n",
       "3 2019-07-25 11:28:47  2019-07-25  \n",
       "4 2019-07-25 11:48:42  2019-07-25  "
      ]
     },
     "execution_count": 111,
     "metadata": {},
     "output_type": "execute_result"
    }
   ],
   "source": [
    "df.head()"
   ]
  },
  {
   "cell_type": "markdown",
   "metadata": {},
   "source": [
    "### Вывод\n",
    "- изменены названия столбцов\n",
    "- изменен тип данных столбца с датой\n",
    "- пропусков не обнаружено\n",
    "- удалены дубликаты\n",
    "- добавлены два столбца: с датой, с датой и временем"
   ]
  },
  {
   "cell_type": "markdown",
   "metadata": {},
   "source": [
    "## Проверка данных"
   ]
  },
  {
   "cell_type": "markdown",
   "metadata": {},
   "source": [
    "### Сколько событий в логе:"
   ]
  },
  {
   "cell_type": "code",
   "execution_count": 112,
   "metadata": {},
   "outputs": [
    {
     "data": {
      "text/plain": [
       "243713"
      ]
     },
     "execution_count": 112,
     "metadata": {},
     "output_type": "execute_result"
    }
   ],
   "source": [
    "len_before = len(df)\n",
    "len_before"
   ]
  },
  {
   "cell_type": "markdown",
   "metadata": {},
   "source": [
    "### Сколько всего пользователей в логе:"
   ]
  },
  {
   "cell_type": "code",
   "execution_count": 113,
   "metadata": {},
   "outputs": [
    {
     "data": {
      "text/plain": [
       "7551"
      ]
     },
     "execution_count": 113,
     "metadata": {},
     "output_type": "execute_result"
    }
   ],
   "source": [
    "users_before = df.groupby('device_id').agg({'device_id':'nunique'})['device_id'].sum()\n",
    "users_before"
   ]
  },
  {
   "cell_type": "markdown",
   "metadata": {},
   "source": [
    "### Сколько в среднем событий приходится на пользователя:"
   ]
  },
  {
   "cell_type": "code",
   "execution_count": 114,
   "metadata": {},
   "outputs": [
    {
     "data": {
      "text/html": [
       "<div>\n",
       "<style scoped>\n",
       "    .dataframe tbody tr th:only-of-type {\n",
       "        vertical-align: middle;\n",
       "    }\n",
       "\n",
       "    .dataframe tbody tr th {\n",
       "        vertical-align: top;\n",
       "    }\n",
       "\n",
       "    .dataframe thead th {\n",
       "        text-align: right;\n",
       "    }\n",
       "</style>\n",
       "<table border=\"1\" class=\"dataframe\">\n",
       "  <thead>\n",
       "    <tr style=\"text-align: right;\">\n",
       "      <th></th>\n",
       "      <th>event_name</th>\n",
       "      <th>device_id</th>\n",
       "      <th>event_timestamp</th>\n",
       "      <th>exp_id</th>\n",
       "      <th>time</th>\n",
       "      <th>date</th>\n",
       "    </tr>\n",
       "  </thead>\n",
       "  <tbody>\n",
       "    <tr>\n",
       "      <th>0</th>\n",
       "      <td>MainScreenAppear</td>\n",
       "      <td>4575588528974610257</td>\n",
       "      <td>1564029816</td>\n",
       "      <td>246</td>\n",
       "      <td>2019-07-25 04:43:36</td>\n",
       "      <td>2019-07-25</td>\n",
       "    </tr>\n",
       "    <tr>\n",
       "      <th>1</th>\n",
       "      <td>MainScreenAppear</td>\n",
       "      <td>7416695313311560658</td>\n",
       "      <td>1564053102</td>\n",
       "      <td>246</td>\n",
       "      <td>2019-07-25 11:11:42</td>\n",
       "      <td>2019-07-25</td>\n",
       "    </tr>\n",
       "    <tr>\n",
       "      <th>2</th>\n",
       "      <td>PaymentScreenSuccessful</td>\n",
       "      <td>3518123091307005509</td>\n",
       "      <td>1564054127</td>\n",
       "      <td>248</td>\n",
       "      <td>2019-07-25 11:28:47</td>\n",
       "      <td>2019-07-25</td>\n",
       "    </tr>\n",
       "    <tr>\n",
       "      <th>3</th>\n",
       "      <td>CartScreenAppear</td>\n",
       "      <td>3518123091307005509</td>\n",
       "      <td>1564054127</td>\n",
       "      <td>248</td>\n",
       "      <td>2019-07-25 11:28:47</td>\n",
       "      <td>2019-07-25</td>\n",
       "    </tr>\n",
       "    <tr>\n",
       "      <th>4</th>\n",
       "      <td>PaymentScreenSuccessful</td>\n",
       "      <td>6217807653094995999</td>\n",
       "      <td>1564055322</td>\n",
       "      <td>248</td>\n",
       "      <td>2019-07-25 11:48:42</td>\n",
       "      <td>2019-07-25</td>\n",
       "    </tr>\n",
       "  </tbody>\n",
       "</table>\n",
       "</div>"
      ],
      "text/plain": [
       "                event_name            device_id  event_timestamp  exp_id  \\\n",
       "0         MainScreenAppear  4575588528974610257       1564029816     246   \n",
       "1         MainScreenAppear  7416695313311560658       1564053102     246   \n",
       "2  PaymentScreenSuccessful  3518123091307005509       1564054127     248   \n",
       "3         CartScreenAppear  3518123091307005509       1564054127     248   \n",
       "4  PaymentScreenSuccessful  6217807653094995999       1564055322     248   \n",
       "\n",
       "                 time        date  \n",
       "0 2019-07-25 04:43:36  2019-07-25  \n",
       "1 2019-07-25 11:11:42  2019-07-25  \n",
       "2 2019-07-25 11:28:47  2019-07-25  \n",
       "3 2019-07-25 11:28:47  2019-07-25  \n",
       "4 2019-07-25 11:48:42  2019-07-25  "
      ]
     },
     "execution_count": 114,
     "metadata": {},
     "output_type": "execute_result"
    }
   ],
   "source": [
    "df.head()"
   ]
  },
  {
   "cell_type": "code",
   "execution_count": 115,
   "metadata": {},
   "outputs": [
    {
     "data": {
      "text/plain": [
       "count    7551.000000\n",
       "mean       32.275593\n",
       "std        65.154219\n",
       "min         1.000000\n",
       "25%         9.000000\n",
       "50%        20.000000\n",
       "75%        37.000000\n",
       "max      2307.000000\n",
       "Name: event_timestamp, dtype: float64"
      ]
     },
     "execution_count": 115,
     "metadata": {},
     "output_type": "execute_result"
    }
   ],
   "source": [
    "df_timestamp = df.groupby('device_id').agg({'event_timestamp':'count'}).reset_index()\n",
    "\n",
    "df_timestamp['event_timestamp'].describe()"
   ]
  },
  {
   "cell_type": "markdown",
   "metadata": {},
   "source": [
    "32 события на пользователя - это не много, так событие != заход на сайт.\n",
    "За одну сессию пользователь может совершить хоть 2, хоть 32 события"
   ]
  },
  {
   "cell_type": "markdown",
   "metadata": {},
   "source": [
    "### Определим период событий, найдем максимальную и минимальную дату"
   ]
  },
  {
   "cell_type": "code",
   "execution_count": 116,
   "metadata": {},
   "outputs": [
    {
     "data": {
      "text/plain": [
       "datetime.date(2019, 8, 7)"
      ]
     },
     "execution_count": 116,
     "metadata": {},
     "output_type": "execute_result"
    }
   ],
   "source": [
    "df.date.max() "
   ]
  },
  {
   "cell_type": "code",
   "execution_count": 117,
   "metadata": {},
   "outputs": [
    {
     "data": {
      "text/plain": [
       "datetime.date(2019, 7, 25)"
      ]
     },
     "execution_count": 117,
     "metadata": {},
     "output_type": "execute_result"
    }
   ],
   "source": [
    "df.date.min()"
   ]
  },
  {
   "cell_type": "code",
   "execution_count": 118,
   "metadata": {},
   "outputs": [
    {
     "data": {
      "text/plain": [
       "Text(0.5, 1.0, 'Гистограмма по дате')"
      ]
     },
     "execution_count": 118,
     "metadata": {},
     "output_type": "execute_result"
    },
    {
     "data": {
      "image/png": "[encoded data removed]",
      "text/plain": [
       "<Figure size 1080x360 with 1 Axes>"
      ]
     },
     "metadata": {},
     "output_type": "display_data"
    }
   ],
   "source": [
    "df['date'].hist(bins = 100, figsize = (15,5))\n",
    "\n",
    "plt.title('Гистограмма по дате')"
   ]
  },
  {
   "cell_type": "code",
   "execution_count": 119,
   "metadata": {},
   "outputs": [
    {
     "data": {
      "image/png": "[encoded data removed]",
      "text/plain": [
       "<Figure size 1080x360 with 1 Axes>"
      ]
     },
     "metadata": {},
     "output_type": "display_data"
    }
   ],
   "source": [
    "df['time'].hist(bins = 1000, figsize = (15,5))\n",
    "\n",
    "plt.title('Гистограмма по времени')\n",
    "\n",
    "plt.show()"
   ]
  },
  {
   "cell_type": "markdown",
   "metadata": {},
   "source": [
    "Фактически мы располагаем данными за период с 1 августа по 7 августа.\n",
    "\n",
    "### Удалим неполные данные ранее 1 августа:"
   ]
  },
  {
   "cell_type": "code",
   "execution_count": 120,
   "metadata": {},
   "outputs": [
    {
     "data": {
      "text/html": [
       "<div>\n",
       "<style scoped>\n",
       "    .dataframe tbody tr th:only-of-type {\n",
       "        vertical-align: middle;\n",
       "    }\n",
       "\n",
       "    .dataframe tbody tr th {\n",
       "        vertical-align: top;\n",
       "    }\n",
       "\n",
       "    .dataframe thead th {\n",
       "        text-align: right;\n",
       "    }\n",
       "</style>\n",
       "<table border=\"1\" class=\"dataframe\">\n",
       "  <thead>\n",
       "    <tr style=\"text-align: right;\">\n",
       "      <th></th>\n",
       "      <th>event_name</th>\n",
       "      <th>device_id</th>\n",
       "      <th>event_timestamp</th>\n",
       "      <th>exp_id</th>\n",
       "      <th>time</th>\n",
       "      <th>date</th>\n",
       "    </tr>\n",
       "  </thead>\n",
       "  <tbody>\n",
       "    <tr>\n",
       "      <th>2828</th>\n",
       "      <td>Tutorial</td>\n",
       "      <td>3737462046622621720</td>\n",
       "      <td>1564618048</td>\n",
       "      <td>246</td>\n",
       "      <td>2019-08-01 00:07:28</td>\n",
       "      <td>2019-08-01</td>\n",
       "    </tr>\n",
       "    <tr>\n",
       "      <th>2829</th>\n",
       "      <td>MainScreenAppear</td>\n",
       "      <td>3737462046622621720</td>\n",
       "      <td>1564618080</td>\n",
       "      <td>246</td>\n",
       "      <td>2019-08-01 00:08:00</td>\n",
       "      <td>2019-08-01</td>\n",
       "    </tr>\n",
       "    <tr>\n",
       "      <th>2830</th>\n",
       "      <td>MainScreenAppear</td>\n",
       "      <td>3737462046622621720</td>\n",
       "      <td>1564618135</td>\n",
       "      <td>246</td>\n",
       "      <td>2019-08-01 00:08:55</td>\n",
       "      <td>2019-08-01</td>\n",
       "    </tr>\n",
       "    <tr>\n",
       "      <th>2831</th>\n",
       "      <td>OffersScreenAppear</td>\n",
       "      <td>3737462046622621720</td>\n",
       "      <td>1564618138</td>\n",
       "      <td>246</td>\n",
       "      <td>2019-08-01 00:08:58</td>\n",
       "      <td>2019-08-01</td>\n",
       "    </tr>\n",
       "    <tr>\n",
       "      <th>2832</th>\n",
       "      <td>MainScreenAppear</td>\n",
       "      <td>1433840883824088890</td>\n",
       "      <td>1564618139</td>\n",
       "      <td>247</td>\n",
       "      <td>2019-08-01 00:08:59</td>\n",
       "      <td>2019-08-01</td>\n",
       "    </tr>\n",
       "  </tbody>\n",
       "</table>\n",
       "</div>"
      ],
      "text/plain": [
       "              event_name            device_id  event_timestamp  exp_id  \\\n",
       "2828            Tutorial  3737462046622621720       1564618048     246   \n",
       "2829    MainScreenAppear  3737462046622621720       1564618080     246   \n",
       "2830    MainScreenAppear  3737462046622621720       1564618135     246   \n",
       "2831  OffersScreenAppear  3737462046622621720       1564618138     246   \n",
       "2832    MainScreenAppear  1433840883824088890       1564618139     247   \n",
       "\n",
       "                    time       date  \n",
       "2828 2019-08-01 00:07:28 2019-08-01  \n",
       "2829 2019-08-01 00:08:00 2019-08-01  \n",
       "2830 2019-08-01 00:08:55 2019-08-01  \n",
       "2831 2019-08-01 00:08:58 2019-08-01  \n",
       "2832 2019-08-01 00:08:59 2019-08-01  "
      ]
     },
     "execution_count": 120,
     "metadata": {},
     "output_type": "execute_result"
    }
   ],
   "source": [
    "df['date'] = pd.to_datetime(df['date'])\n",
    "df = df[df['date'] > '2019-07-31']\n",
    "df.head()"
   ]
  },
  {
   "cell_type": "code",
   "execution_count": 121,
   "metadata": {},
   "outputs": [
    {
     "data": {
      "text/plain": [
       "240887"
      ]
     },
     "execution_count": 121,
     "metadata": {},
     "output_type": "execute_result"
    }
   ],
   "source": [
    "len_after = len(df)\n",
    "len_after"
   ]
  },
  {
   "cell_type": "code",
   "execution_count": 122,
   "metadata": {},
   "outputs": [
    {
     "data": {
      "text/plain": [
       "7534"
      ]
     },
     "execution_count": 122,
     "metadata": {},
     "output_type": "execute_result"
    }
   ],
   "source": [
    "#Кол-во пользователей после удаления\n",
    "users_after = df.groupby('device_id').agg({'device_id':'nunique'})['device_id'].sum()\n",
    "users_after"
   ]
  },
  {
   "cell_type": "code",
   "execution_count": 123,
   "metadata": {},
   "outputs": [
    {
     "name": "stdout",
     "output_type": "stream",
     "text": [
      "Было удалено строк: 2826\n",
      "Было удалено строк в %: 1.159560630741897\n",
      "\n",
      "Было удалено пользователей: 17\n",
      "Было удалено пользователей в %: 0.22513574361011784\n"
     ]
    }
   ],
   "source": [
    "print('Было удалено строк:', (len_before - len_after))\n",
    "print('Было удалено строк в %:', ((len_before - len_after)/len_before)*100)\n",
    "\n",
    "print()\n",
    "\n",
    "print('Было удалено пользователей:', (users_before - users_after))\n",
    "print('Было удалено пользователей в %:', ((users_before - users_after)/users_before)*100)"
   ]
  },
  {
   "cell_type": "markdown",
   "metadata": {},
   "source": [
    "### Проверим, что у нас есть пользователи из всех экспериментальных групп:"
   ]
  },
  {
   "cell_type": "markdown",
   "metadata": {},
   "source": [
    "Для удобства переименуем группы:"
   ]
  },
  {
   "cell_type": "code",
   "execution_count": 124,
   "metadata": {},
   "outputs": [],
   "source": [
    "df.exp_id = df.exp_id.replace(246,'A1')\n",
    "df.exp_id = df.exp_id.replace(247,'A2')\n",
    "df.exp_id = df.exp_id.replace(248,'B')"
   ]
  },
  {
   "cell_type": "markdown",
   "metadata": {},
   "source": [
    "Количество пользователей по группам:"
   ]
  },
  {
   "cell_type": "code",
   "execution_count": 125,
   "metadata": {},
   "outputs": [
    {
     "data": {
      "text/html": [
       "<div>\n",
       "<style scoped>\n",
       "    .dataframe tbody tr th:only-of-type {\n",
       "        vertical-align: middle;\n",
       "    }\n",
       "\n",
       "    .dataframe tbody tr th {\n",
       "        vertical-align: top;\n",
       "    }\n",
       "\n",
       "    .dataframe thead th {\n",
       "        text-align: right;\n",
       "    }\n",
       "</style>\n",
       "<table border=\"1\" class=\"dataframe\">\n",
       "  <thead>\n",
       "    <tr style=\"text-align: right;\">\n",
       "      <th></th>\n",
       "      <th>exp_id</th>\n",
       "      <th>device_id</th>\n",
       "    </tr>\n",
       "  </thead>\n",
       "  <tbody>\n",
       "    <tr>\n",
       "      <th>0</th>\n",
       "      <td>A1</td>\n",
       "      <td>2484</td>\n",
       "    </tr>\n",
       "    <tr>\n",
       "      <th>1</th>\n",
       "      <td>A2</td>\n",
       "      <td>2513</td>\n",
       "    </tr>\n",
       "    <tr>\n",
       "      <th>2</th>\n",
       "      <td>B</td>\n",
       "      <td>2537</td>\n",
       "    </tr>\n",
       "  </tbody>\n",
       "</table>\n",
       "</div>"
      ],
      "text/plain": [
       "  exp_id  device_id\n",
       "0     A1       2484\n",
       "1     A2       2513\n",
       "2      B       2537"
      ]
     },
     "execution_count": 125,
     "metadata": {},
     "output_type": "execute_result"
    }
   ],
   "source": [
    "df.groupby('exp_id', as_index=False).agg({'device_id':'nunique'})"
   ]
  },
  {
   "cell_type": "markdown",
   "metadata": {},
   "source": [
    "### Вывод\n",
    "- Изначально в логе 244 126 событий, данные 7551 пользователей\n",
    "- В среднем на одного пользователя приходится 32 события, медианное значение - 20 событий\n",
    "- Представлены данные с 25.07.19 по 07.08.19, c  25.07.19 по 31.07.19 данные неполные\n",
    "- Фактически мы располагаем данными за период с 1 августа по 7 августа 2019 года\n",
    "- После очистки данных было удалено 0,32% строк, 0.12% уникальных пользователей\n",
    "- Присутствуют все 3 группы, число пользователей в группах примерно одинаковое."
   ]
  },
  {
   "cell_type": "markdown",
   "metadata": {},
   "source": [
    "## Воронка событий"
   ]
  },
  {
   "cell_type": "markdown",
   "metadata": {},
   "source": [
    "### Какие события есть в логах, как часто они встречаются"
   ]
  },
  {
   "cell_type": "code",
   "execution_count": 126,
   "metadata": {},
   "outputs": [
    {
     "data": {
      "text/html": [
       "<div>\n",
       "<style scoped>\n",
       "    .dataframe tbody tr th:only-of-type {\n",
       "        vertical-align: middle;\n",
       "    }\n",
       "\n",
       "    .dataframe tbody tr th {\n",
       "        vertical-align: top;\n",
       "    }\n",
       "\n",
       "    .dataframe thead th {\n",
       "        text-align: right;\n",
       "    }\n",
       "</style>\n",
       "<table border=\"1\" class=\"dataframe\">\n",
       "  <thead>\n",
       "    <tr style=\"text-align: right;\">\n",
       "      <th></th>\n",
       "      <th>event_name</th>\n",
       "      <th>device_id</th>\n",
       "      <th>event_timestamp</th>\n",
       "      <th>exp_id</th>\n",
       "      <th>time</th>\n",
       "      <th>date</th>\n",
       "    </tr>\n",
       "  </thead>\n",
       "  <tbody>\n",
       "    <tr>\n",
       "      <th>2828</th>\n",
       "      <td>Tutorial</td>\n",
       "      <td>3737462046622621720</td>\n",
       "      <td>1564618048</td>\n",
       "      <td>A1</td>\n",
       "      <td>2019-08-01 00:07:28</td>\n",
       "      <td>2019-08-01</td>\n",
       "    </tr>\n",
       "    <tr>\n",
       "      <th>2829</th>\n",
       "      <td>MainScreenAppear</td>\n",
       "      <td>3737462046622621720</td>\n",
       "      <td>1564618080</td>\n",
       "      <td>A1</td>\n",
       "      <td>2019-08-01 00:08:00</td>\n",
       "      <td>2019-08-01</td>\n",
       "    </tr>\n",
       "    <tr>\n",
       "      <th>2830</th>\n",
       "      <td>MainScreenAppear</td>\n",
       "      <td>3737462046622621720</td>\n",
       "      <td>1564618135</td>\n",
       "      <td>A1</td>\n",
       "      <td>2019-08-01 00:08:55</td>\n",
       "      <td>2019-08-01</td>\n",
       "    </tr>\n",
       "    <tr>\n",
       "      <th>2831</th>\n",
       "      <td>OffersScreenAppear</td>\n",
       "      <td>3737462046622621720</td>\n",
       "      <td>1564618138</td>\n",
       "      <td>A1</td>\n",
       "      <td>2019-08-01 00:08:58</td>\n",
       "      <td>2019-08-01</td>\n",
       "    </tr>\n",
       "    <tr>\n",
       "      <th>2832</th>\n",
       "      <td>MainScreenAppear</td>\n",
       "      <td>1433840883824088890</td>\n",
       "      <td>1564618139</td>\n",
       "      <td>A2</td>\n",
       "      <td>2019-08-01 00:08:59</td>\n",
       "      <td>2019-08-01</td>\n",
       "    </tr>\n",
       "  </tbody>\n",
       "</table>\n",
       "</div>"
      ],
      "text/plain": [
       "              event_name            device_id  event_timestamp exp_id  \\\n",
       "2828            Tutorial  3737462046622621720       1564618048     A1   \n",
       "2829    MainScreenAppear  3737462046622621720       1564618080     A1   \n",
       "2830    MainScreenAppear  3737462046622621720       1564618135     A1   \n",
       "2831  OffersScreenAppear  3737462046622621720       1564618138     A1   \n",
       "2832    MainScreenAppear  1433840883824088890       1564618139     A2   \n",
       "\n",
       "                    time       date  \n",
       "2828 2019-08-01 00:07:28 2019-08-01  \n",
       "2829 2019-08-01 00:08:00 2019-08-01  \n",
       "2830 2019-08-01 00:08:55 2019-08-01  \n",
       "2831 2019-08-01 00:08:58 2019-08-01  \n",
       "2832 2019-08-01 00:08:59 2019-08-01  "
      ]
     },
     "execution_count": 126,
     "metadata": {},
     "output_type": "execute_result"
    }
   ],
   "source": [
    "df.head()"
   ]
  },
  {
   "cell_type": "code",
   "execution_count": 127,
   "metadata": {},
   "outputs": [
    {
     "data": {
      "text/html": [
       "<div>\n",
       "<style scoped>\n",
       "    .dataframe tbody tr th:only-of-type {\n",
       "        vertical-align: middle;\n",
       "    }\n",
       "\n",
       "    .dataframe tbody tr th {\n",
       "        vertical-align: top;\n",
       "    }\n",
       "\n",
       "    .dataframe thead th {\n",
       "        text-align: right;\n",
       "    }\n",
       "</style>\n",
       "<table border=\"1\" class=\"dataframe\">\n",
       "  <thead>\n",
       "    <tr style=\"text-align: right;\">\n",
       "      <th></th>\n",
       "      <th>event_name</th>\n",
       "      <th>event_counted</th>\n",
       "    </tr>\n",
       "  </thead>\n",
       "  <tbody>\n",
       "    <tr>\n",
       "      <th>0</th>\n",
       "      <td>MainScreenAppear</td>\n",
       "      <td>117328</td>\n",
       "    </tr>\n",
       "    <tr>\n",
       "      <th>1</th>\n",
       "      <td>OffersScreenAppear</td>\n",
       "      <td>46333</td>\n",
       "    </tr>\n",
       "    <tr>\n",
       "      <th>2</th>\n",
       "      <td>CartScreenAppear</td>\n",
       "      <td>42303</td>\n",
       "    </tr>\n",
       "    <tr>\n",
       "      <th>3</th>\n",
       "      <td>PaymentScreenSuccessful</td>\n",
       "      <td>33918</td>\n",
       "    </tr>\n",
       "    <tr>\n",
       "      <th>4</th>\n",
       "      <td>Tutorial</td>\n",
       "      <td>1005</td>\n",
       "    </tr>\n",
       "  </tbody>\n",
       "</table>\n",
       "</div>"
      ],
      "text/plain": [
       "                event_name  event_counted\n",
       "0         MainScreenAppear         117328\n",
       "1       OffersScreenAppear          46333\n",
       "2         CartScreenAppear          42303\n",
       "3  PaymentScreenSuccessful          33918\n",
       "4                 Tutorial           1005"
      ]
     },
     "execution_count": 127,
     "metadata": {},
     "output_type": "execute_result"
    }
   ],
   "source": [
    "df_event_amount = df.groupby('event_name').agg({'event_name':'count'})\\\n",
    "        .rename(columns = {'event_name':'event_counted'})\\\n",
    "        .sort_values(by = 'event_counted', ascending = False)\\\n",
    "        .reset_index()\n",
    "df_event_amount"
   ]
  },
  {
   "cell_type": "code",
   "execution_count": 128,
   "metadata": {},
   "outputs": [
    {
     "data": {
      "image/png": "[encoded data removed]",
      "text/plain": [
       "<Figure size 1800x504 with 1 Axes>"
      ]
     },
     "metadata": {},
     "output_type": "display_data"
    }
   ],
   "source": [
    "plt.style.use('ggplot')\n",
    "plt.figure(figsize=(25, 7))  \n",
    "sns.barplot(x='event_name', y='event_counted', data=df_event_amount)\n",
    "\n",
    "plt.title('Amount of events')\n",
    "plt.xlabel('Event name')\n",
    "plt.ylabel('Amount of events')\n",
    "plt.show()"
   ]
  },
  {
   "cell_type": "markdown",
   "metadata": {},
   "source": [
    "### Посчитайте, сколько пользователей совершали каждое из этих событий. Отсортируйте события по числу пользователей."
   ]
  },
  {
   "cell_type": "code",
   "execution_count": 129,
   "metadata": {},
   "outputs": [
    {
     "data": {
      "text/html": [
       "<div>\n",
       "<style scoped>\n",
       "    .dataframe tbody tr th:only-of-type {\n",
       "        vertical-align: middle;\n",
       "    }\n",
       "\n",
       "    .dataframe tbody tr th {\n",
       "        vertical-align: top;\n",
       "    }\n",
       "\n",
       "    .dataframe thead th {\n",
       "        text-align: right;\n",
       "    }\n",
       "</style>\n",
       "<table border=\"1\" class=\"dataframe\">\n",
       "  <thead>\n",
       "    <tr style=\"text-align: right;\">\n",
       "      <th></th>\n",
       "      <th>event_name</th>\n",
       "      <th>users_counted</th>\n",
       "    </tr>\n",
       "  </thead>\n",
       "  <tbody>\n",
       "    <tr>\n",
       "      <th>0</th>\n",
       "      <td>MainScreenAppear</td>\n",
       "      <td>7419</td>\n",
       "    </tr>\n",
       "    <tr>\n",
       "      <th>1</th>\n",
       "      <td>OffersScreenAppear</td>\n",
       "      <td>4593</td>\n",
       "    </tr>\n",
       "    <tr>\n",
       "      <th>2</th>\n",
       "      <td>CartScreenAppear</td>\n",
       "      <td>3734</td>\n",
       "    </tr>\n",
       "    <tr>\n",
       "      <th>3</th>\n",
       "      <td>PaymentScreenSuccessful</td>\n",
       "      <td>3539</td>\n",
       "    </tr>\n",
       "    <tr>\n",
       "      <th>4</th>\n",
       "      <td>Tutorial</td>\n",
       "      <td>840</td>\n",
       "    </tr>\n",
       "  </tbody>\n",
       "</table>\n",
       "</div>"
      ],
      "text/plain": [
       "                event_name  users_counted\n",
       "0         MainScreenAppear           7419\n",
       "1       OffersScreenAppear           4593\n",
       "2         CartScreenAppear           3734\n",
       "3  PaymentScreenSuccessful           3539\n",
       "4                 Tutorial            840"
      ]
     },
     "execution_count": 129,
     "metadata": {},
     "output_type": "execute_result"
    }
   ],
   "source": [
    "df_users_event = df.groupby('event_name').agg({'device_id':'nunique'})\\\n",
    "        .rename(columns = {'device_id':'users_counted'})\\\n",
    "        .sort_values(by = 'users_counted', ascending = False)\\\n",
    "        .reset_index()\n",
    "\n",
    "df_users_event"
   ]
  },
  {
   "cell_type": "code",
   "execution_count": 130,
   "metadata": {},
   "outputs": [
    {
     "data": {
      "image/png": "[encoded data removed]",
      "text/plain": [
       "<Figure size 1800x504 with 1 Axes>"
      ]
     },
     "metadata": {},
     "output_type": "display_data"
    }
   ],
   "source": [
    "plt.figure(figsize=(25, 7))  \n",
    "sns.barplot(x='event_name', y='users_counted', data=df_users_event)\n",
    "\n",
    "plt.title('Users - event')\n",
    "plt.xlabel('Event name')\n",
    "plt.ylabel('Amount of users')\n",
    "plt.show()"
   ]
  },
  {
   "cell_type": "markdown",
   "metadata": {},
   "source": [
    "### Посчитайте долю пользователей, которые хоть раз совершали событие.\n",
    "\n",
    "Уникальные пользователи каждого шага/общее число уникумов."
   ]
  },
  {
   "cell_type": "code",
   "execution_count": 131,
   "metadata": {},
   "outputs": [
    {
     "data": {
      "text/plain": [
       "7534"
      ]
     },
     "execution_count": 131,
     "metadata": {},
     "output_type": "execute_result"
    }
   ],
   "source": [
    "users_after"
   ]
  },
  {
   "cell_type": "code",
   "execution_count": 132,
   "metadata": {},
   "outputs": [
    {
     "data": {
      "text/html": [
       "<div>\n",
       "<style scoped>\n",
       "    .dataframe tbody tr th:only-of-type {\n",
       "        vertical-align: middle;\n",
       "    }\n",
       "\n",
       "    .dataframe tbody tr th {\n",
       "        vertical-align: top;\n",
       "    }\n",
       "\n",
       "    .dataframe thead th {\n",
       "        text-align: right;\n",
       "    }\n",
       "</style>\n",
       "<table border=\"1\" class=\"dataframe\">\n",
       "  <thead>\n",
       "    <tr style=\"text-align: right;\">\n",
       "      <th></th>\n",
       "      <th>event_name</th>\n",
       "      <th>users_counted</th>\n",
       "    </tr>\n",
       "  </thead>\n",
       "  <tbody>\n",
       "    <tr>\n",
       "      <th>0</th>\n",
       "      <td>MainScreenAppear</td>\n",
       "      <td>7419</td>\n",
       "    </tr>\n",
       "    <tr>\n",
       "      <th>1</th>\n",
       "      <td>OffersScreenAppear</td>\n",
       "      <td>4593</td>\n",
       "    </tr>\n",
       "    <tr>\n",
       "      <th>2</th>\n",
       "      <td>CartScreenAppear</td>\n",
       "      <td>3734</td>\n",
       "    </tr>\n",
       "    <tr>\n",
       "      <th>3</th>\n",
       "      <td>PaymentScreenSuccessful</td>\n",
       "      <td>3539</td>\n",
       "    </tr>\n",
       "    <tr>\n",
       "      <th>4</th>\n",
       "      <td>Tutorial</td>\n",
       "      <td>840</td>\n",
       "    </tr>\n",
       "  </tbody>\n",
       "</table>\n",
       "</div>"
      ],
      "text/plain": [
       "                event_name  users_counted\n",
       "0         MainScreenAppear           7419\n",
       "1       OffersScreenAppear           4593\n",
       "2         CartScreenAppear           3734\n",
       "3  PaymentScreenSuccessful           3539\n",
       "4                 Tutorial            840"
      ]
     },
     "execution_count": 132,
     "metadata": {},
     "output_type": "execute_result"
    }
   ],
   "source": [
    "df_users_event.head()"
   ]
  },
  {
   "cell_type": "code",
   "execution_count": 133,
   "metadata": {},
   "outputs": [
    {
     "data": {
      "text/html": [
       "<div>\n",
       "<style scoped>\n",
       "    .dataframe tbody tr th:only-of-type {\n",
       "        vertical-align: middle;\n",
       "    }\n",
       "\n",
       "    .dataframe tbody tr th {\n",
       "        vertical-align: top;\n",
       "    }\n",
       "\n",
       "    .dataframe thead th {\n",
       "        text-align: right;\n",
       "    }\n",
       "</style>\n",
       "<table border=\"1\" class=\"dataframe\">\n",
       "  <thead>\n",
       "    <tr style=\"text-align: right;\">\n",
       "      <th></th>\n",
       "      <th>event_name</th>\n",
       "      <th>users_counted</th>\n",
       "      <th>unique_users_total</th>\n",
       "      <th>percentage</th>\n",
       "    </tr>\n",
       "  </thead>\n",
       "  <tbody>\n",
       "    <tr>\n",
       "      <th>0</th>\n",
       "      <td>MainScreenAppear</td>\n",
       "      <td>7419</td>\n",
       "      <td>7534</td>\n",
       "      <td>0.984736</td>\n",
       "    </tr>\n",
       "    <tr>\n",
       "      <th>1</th>\n",
       "      <td>OffersScreenAppear</td>\n",
       "      <td>4593</td>\n",
       "      <td>7534</td>\n",
       "      <td>0.609636</td>\n",
       "    </tr>\n",
       "    <tr>\n",
       "      <th>2</th>\n",
       "      <td>CartScreenAppear</td>\n",
       "      <td>3734</td>\n",
       "      <td>7534</td>\n",
       "      <td>0.495620</td>\n",
       "    </tr>\n",
       "    <tr>\n",
       "      <th>3</th>\n",
       "      <td>PaymentScreenSuccessful</td>\n",
       "      <td>3539</td>\n",
       "      <td>7534</td>\n",
       "      <td>0.469737</td>\n",
       "    </tr>\n",
       "    <tr>\n",
       "      <th>4</th>\n",
       "      <td>Tutorial</td>\n",
       "      <td>840</td>\n",
       "      <td>7534</td>\n",
       "      <td>0.111495</td>\n",
       "    </tr>\n",
       "  </tbody>\n",
       "</table>\n",
       "</div>"
      ],
      "text/plain": [
       "                event_name  users_counted  unique_users_total  percentage\n",
       "0         MainScreenAppear           7419                7534    0.984736\n",
       "1       OffersScreenAppear           4593                7534    0.609636\n",
       "2         CartScreenAppear           3734                7534    0.495620\n",
       "3  PaymentScreenSuccessful           3539                7534    0.469737\n",
       "4                 Tutorial            840                7534    0.111495"
      ]
     },
     "execution_count": 133,
     "metadata": {},
     "output_type": "execute_result"
    }
   ],
   "source": [
    "df_users_event['unique_users_total'] = users_after\n",
    "df_users_event['percentage'] = df_users_event['users_counted']/df_users_event['unique_users_total']\n",
    "df_users_event"
   ]
  },
  {
   "cell_type": "code",
   "execution_count": 134,
   "metadata": {},
   "outputs": [
    {
     "data": {
      "image/png": "[encoded data removed]",
      "text/plain": [
       "<Figure size 1800x504 with 1 Axes>"
      ]
     },
     "metadata": {},
     "output_type": "display_data"
    }
   ],
   "source": [
    "plt.figure(figsize=(25, 7))  \n",
    "sns.barplot(x='event_name', y='percentage', data=df_users_event)\n",
    "\n",
    "plt.title('Доля пользователей, которые хоть раз совершали событие')\n",
    "plt.xlabel('Event name')\n",
    "plt.ylabel('Amount of users')\n",
    "plt.show()"
   ]
  },
  {
   "cell_type": "markdown",
   "metadata": {},
   "source": [
    "Даже на первом шаге воронки мы не имеем 1, это говорит о том, что проход через все шаги воронки не обязателен. Покупатель может попасть сразу на страницу товара, минуя главный экран.\n",
    "\n",
    "Конверсию целесообразно сравнивать не пошагово, а от общего числа пользователей."
   ]
  },
  {
   "cell_type": "markdown",
   "metadata": {},
   "source": [
    "### Предположите, в каком порядке происходят события. Все ли они выстраиваются в последовательную цепочку? Их не нужно учитывать при расчёте воронки."
   ]
  },
  {
   "cell_type": "markdown",
   "metadata": {},
   "source": [
    "Вероятная последовательность событий:\n",
    "   - main screen\n",
    "   - offers screen\n",
    "   - cart screen\n",
    "   - payment screen\n",
    "   \n",
    "Этап tutorial не встраивается в цепочку. Предполагает обучение, которое актуально либо только для новых пользователей, либо в произвольное время."
   ]
  },
  {
   "cell_type": "code",
   "execution_count": 135,
   "metadata": {},
   "outputs": [
    {
     "data": {
      "text/html": [
       "<div>\n",
       "<style scoped>\n",
       "    .dataframe tbody tr th:only-of-type {\n",
       "        vertical-align: middle;\n",
       "    }\n",
       "\n",
       "    .dataframe tbody tr th {\n",
       "        vertical-align: top;\n",
       "    }\n",
       "\n",
       "    .dataframe thead th {\n",
       "        text-align: right;\n",
       "    }\n",
       "</style>\n",
       "<table border=\"1\" class=\"dataframe\">\n",
       "  <thead>\n",
       "    <tr style=\"text-align: right;\">\n",
       "      <th>event_name</th>\n",
       "      <th>CartScreenAppear</th>\n",
       "      <th>MainScreenAppear</th>\n",
       "      <th>OffersScreenAppear</th>\n",
       "      <th>PaymentScreenSuccessful</th>\n",
       "      <th>Tutorial</th>\n",
       "    </tr>\n",
       "    <tr>\n",
       "      <th>exp_id</th>\n",
       "      <th></th>\n",
       "      <th></th>\n",
       "      <th></th>\n",
       "      <th></th>\n",
       "      <th></th>\n",
       "    </tr>\n",
       "  </thead>\n",
       "  <tbody>\n",
       "    <tr>\n",
       "      <th>A1</th>\n",
       "      <td>1266</td>\n",
       "      <td>2450</td>\n",
       "      <td>1542</td>\n",
       "      <td>1200</td>\n",
       "      <td>278</td>\n",
       "    </tr>\n",
       "    <tr>\n",
       "      <th>A2</th>\n",
       "      <td>1238</td>\n",
       "      <td>2476</td>\n",
       "      <td>1520</td>\n",
       "      <td>1158</td>\n",
       "      <td>283</td>\n",
       "    </tr>\n",
       "    <tr>\n",
       "      <th>B</th>\n",
       "      <td>1230</td>\n",
       "      <td>2493</td>\n",
       "      <td>1531</td>\n",
       "      <td>1181</td>\n",
       "      <td>279</td>\n",
       "    </tr>\n",
       "  </tbody>\n",
       "</table>\n",
       "</div>"
      ],
      "text/plain": [
       "event_name  CartScreenAppear  MainScreenAppear  OffersScreenAppear  \\\n",
       "exp_id                                                               \n",
       "A1                      1266              2450                1542   \n",
       "A2                      1238              2476                1520   \n",
       "B                       1230              2493                1531   \n",
       "\n",
       "event_name  PaymentScreenSuccessful  Tutorial  \n",
       "exp_id                                         \n",
       "A1                             1200       278  \n",
       "A2                             1158       283  \n",
       "B                              1181       279  "
      ]
     },
     "execution_count": 135,
     "metadata": {},
     "output_type": "execute_result"
    }
   ],
   "source": [
    "df.pivot_table(\n",
    "    index = 'exp_id',\n",
    "    values = 'device_id',\n",
    "    columns = 'event_name',\n",
    "    aggfunc = 'nunique')"
   ]
  },
  {
   "cell_type": "markdown",
   "metadata": {},
   "source": [
    "Данные групп согласуются между собой - число пользователей в группах +/- одинаковое"
   ]
  },
  {
   "cell_type": "markdown",
   "metadata": {},
   "source": [
    "### По воронке событий посчитайте, какая доля пользователей проходит на следующий шаг воронки."
   ]
  },
  {
   "cell_type": "code",
   "execution_count": 136,
   "metadata": {},
   "outputs": [
    {
     "data": {
      "text/html": [
       "<div>\n",
       "<style scoped>\n",
       "    .dataframe tbody tr th:only-of-type {\n",
       "        vertical-align: middle;\n",
       "    }\n",
       "\n",
       "    .dataframe tbody tr th {\n",
       "        vertical-align: top;\n",
       "    }\n",
       "\n",
       "    .dataframe thead th {\n",
       "        text-align: right;\n",
       "    }\n",
       "</style>\n",
       "<table border=\"1\" class=\"dataframe\">\n",
       "  <thead>\n",
       "    <tr style=\"text-align: right;\">\n",
       "      <th></th>\n",
       "      <th>index</th>\n",
       "      <th>event_name</th>\n",
       "      <th>users_counted</th>\n",
       "      <th>unique_users_total</th>\n",
       "      <th>percentage</th>\n",
       "    </tr>\n",
       "  </thead>\n",
       "  <tbody>\n",
       "    <tr>\n",
       "      <th>0</th>\n",
       "      <td>0</td>\n",
       "      <td>MainScreenAppear</td>\n",
       "      <td>7419</td>\n",
       "      <td>7534</td>\n",
       "      <td>0.984736</td>\n",
       "    </tr>\n",
       "    <tr>\n",
       "      <th>1</th>\n",
       "      <td>1</td>\n",
       "      <td>OffersScreenAppear</td>\n",
       "      <td>4593</td>\n",
       "      <td>7534</td>\n",
       "      <td>0.609636</td>\n",
       "    </tr>\n",
       "    <tr>\n",
       "      <th>2</th>\n",
       "      <td>2</td>\n",
       "      <td>CartScreenAppear</td>\n",
       "      <td>3734</td>\n",
       "      <td>7534</td>\n",
       "      <td>0.495620</td>\n",
       "    </tr>\n",
       "    <tr>\n",
       "      <th>3</th>\n",
       "      <td>3</td>\n",
       "      <td>PaymentScreenSuccessful</td>\n",
       "      <td>3539</td>\n",
       "      <td>7534</td>\n",
       "      <td>0.469737</td>\n",
       "    </tr>\n",
       "    <tr>\n",
       "      <th>4</th>\n",
       "      <td>4</td>\n",
       "      <td>Tutorial</td>\n",
       "      <td>840</td>\n",
       "      <td>7534</td>\n",
       "      <td>0.111495</td>\n",
       "    </tr>\n",
       "  </tbody>\n",
       "</table>\n",
       "</div>"
      ],
      "text/plain": [
       "   index               event_name  users_counted  unique_users_total  \\\n",
       "0      0         MainScreenAppear           7419                7534   \n",
       "1      1       OffersScreenAppear           4593                7534   \n",
       "2      2         CartScreenAppear           3734                7534   \n",
       "3      3  PaymentScreenSuccessful           3539                7534   \n",
       "4      4                 Tutorial            840                7534   \n",
       "\n",
       "   percentage  \n",
       "0    0.984736  \n",
       "1    0.609636  \n",
       "2    0.495620  \n",
       "3    0.469737  \n",
       "4    0.111495  "
      ]
     },
     "execution_count": 136,
     "metadata": {},
     "output_type": "execute_result"
    }
   ],
   "source": [
    "df_users_event = df_users_event.reset_index().sort_values(by = 'users_counted', ascending = False)\n",
    "df_users_event"
   ]
  },
  {
   "cell_type": "code",
   "execution_count": 137,
   "metadata": {},
   "outputs": [
    {
     "data": {
      "application/vnd.plotly.v1+json": {
       "config": {
        "plotlyServerURL": "https://plot.ly"
       },
       "data": [
        {
         "type": "funnel",
         "x": [
          7419,
          4593,
          3734,
          3539
         ],
         "y": [
          "Зашли на главный экран",
          "Зашли на страницу с товаром",
          "Добавили товар в корзину",
          "Оплатили товар"
         ]
        }
       ],
       "layout": {
        "template": {
         "data": {
          "bar": [
           {
            "error_x": {
             "color": "#2a3f5f"
            },
            "error_y": {
             "color": "#2a3f5f"
            },
            "marker": {
             "line": {
              "color": "#E5ECF6",
              "width": 0.5
             },
             "pattern": {
              "fillmode": "overlay",
              "size": 10,
              "solidity": 0.2
             }
            },
            "type": "bar"
           }
          ],
          "barpolar": [
           {
            "marker": {
             "line": {
              "color": "#E5ECF6",
              "width": 0.5
             },
             "pattern": {
              "fillmode": "overlay",
              "size": 10,
              "solidity": 0.2
             }
            },
            "type": "barpolar"
           }
          ],
          "carpet": [
           {
            "aaxis": {
             "endlinecolor": "#2a3f5f",
             "gridcolor": "white",
             "linecolor": "white",
             "minorgridcolor": "white",
             "startlinecolor": "#2a3f5f"
            },
            "baxis": {
             "endlinecolor": "#2a3f5f",
             "gridcolor": "white",
             "linecolor": "white",
             "minorgridcolor": "white",
             "startlinecolor": "#2a3f5f"
            },
            "type": "carpet"
           }
          ],
          "choropleth": [
           {
            "colorbar": {
             "outlinewidth": 0,
             "ticks": ""
            },
            "type": "choropleth"
           }
          ],
          "contour": [
           {
            "colorbar": {
             "outlinewidth": 0,
             "ticks": ""
            },
            "colorscale": [
             [
              0,
              "#0d0887"
             ],
             [
              0.1111111111111111,
              "#46039f"
             ],
             [
              0.2222222222222222,
              "#7201a8"
             ],
             [
              0.3333333333333333,
              "#9c179e"
             ],
             [
              0.4444444444444444,
              "#bd3786"
             ],
             [
              0.5555555555555556,
              "#d8576b"
             ],
             [
              0.6666666666666666,
              "#ed7953"
             ],
             [
              0.7777777777777778,
              "#fb9f3a"
             ],
             [
              0.8888888888888888,
              "#fdca26"
             ],
             [
              1,
              "#f0f921"
             ]
            ],
            "type": "contour"
           }
          ],
          "contourcarpet": [
           {
            "colorbar": {
             "outlinewidth": 0,
             "ticks": ""
            },
            "type": "contourcarpet"
           }
          ],
          "heatmap": [
           {
            "colorbar": {
             "outlinewidth": 0,
             "ticks": ""
            },
            "colorscale": [
             [
              0,
              "#0d0887"
             ],
             [
              0.1111111111111111,
              "#46039f"
             ],
             [
              0.2222222222222222,
              "#7201a8"
             ],
             [
              0.3333333333333333,
              "#9c179e"
             ],
             [
              0.4444444444444444,
              "#bd3786"
             ],
             [
              0.5555555555555556,
              "#d8576b"
             ],
             [
              0.6666666666666666,
              "#ed7953"
             ],
             [
              0.7777777777777778,
              "#fb9f3a"
             ],
             [
              0.8888888888888888,
              "#fdca26"
             ],
             [
              1,
              "#f0f921"
             ]
            ],
            "type": "heatmap"
           }
          ],
          "heatmapgl": [
           {
            "colorbar": {
             "outlinewidth": 0,
             "ticks": ""
            },
            "colorscale": [
             [
              0,
              "#0d0887"
             ],
             [
              0.1111111111111111,
              "#46039f"
             ],
             [
              0.2222222222222222,
              "#7201a8"
             ],
             [
              0.3333333333333333,
              "#9c179e"
             ],
             [
              0.4444444444444444,
              "#bd3786"
             ],
             [
              0.5555555555555556,
              "#d8576b"
             ],
             [
              0.6666666666666666,
              "#ed7953"
             ],
             [
              0.7777777777777778,
              "#fb9f3a"
             ],
             [
              0.8888888888888888,
              "#fdca26"
             ],
             [
              1,
              "#f0f921"
             ]
            ],
            "type": "heatmapgl"
           }
          ],
          "histogram": [
           {
            "marker": {
             "pattern": {
              "fillmode": "overlay",
              "size": 10,
              "solidity": 0.2
             }
            },
            "type": "histogram"
           }
          ],
          "histogram2d": [
           {
            "colorbar": {
             "outlinewidth": 0,
             "ticks": ""
            },
            "colorscale": [
             [
              0,
              "#0d0887"
             ],
             [
              0.1111111111111111,
              "#46039f"
             ],
             [
              0.2222222222222222,
              "#7201a8"
             ],
             [
              0.3333333333333333,
              "#9c179e"
             ],
             [
              0.4444444444444444,
              "#bd3786"
             ],
             [
              0.5555555555555556,
              "#d8576b"
             ],
             [
              0.6666666666666666,
              "#ed7953"
             ],
             [
              0.7777777777777778,
              "#fb9f3a"
             ],
             [
              0.8888888888888888,
              "#fdca26"
             ],
             [
              1,
              "#f0f921"
             ]
            ],
            "type": "histogram2d"
           }
          ],
          "histogram2dcontour": [
           {
            "colorbar": {
             "outlinewidth": 0,
             "ticks": ""
            },
            "colorscale": [
             [
              0,
              "#0d0887"
             ],
             [
              0.1111111111111111,
              "#46039f"
             ],
             [
              0.2222222222222222,
              "#7201a8"
             ],
             [
              0.3333333333333333,
              "#9c179e"
             ],
             [
              0.4444444444444444,
              "#bd3786"
             ],
             [
              0.5555555555555556,
              "#d8576b"
             ],
             [
              0.6666666666666666,
              "#ed7953"
             ],
             [
              0.7777777777777778,
              "#fb9f3a"
             ],
             [
              0.8888888888888888,
              "#fdca26"
             ],
             [
              1,
              "#f0f921"
             ]
            ],
            "type": "histogram2dcontour"
           }
          ],
          "mesh3d": [
           {
            "colorbar": {
             "outlinewidth": 0,
             "ticks": ""
            },
            "type": "mesh3d"
           }
          ],
          "parcoords": [
           {
            "line": {
             "colorbar": {
              "outlinewidth": 0,
              "ticks": ""
             }
            },
            "type": "parcoords"
           }
          ],
          "pie": [
           {
            "automargin": true,
            "type": "pie"
           }
          ],
          "scatter": [
           {
            "marker": {
             "colorbar": {
              "outlinewidth": 0,
              "ticks": ""
             }
            },
            "type": "scatter"
           }
          ],
          "scatter3d": [
           {
            "line": {
             "colorbar": {
              "outlinewidth": 0,
              "ticks": ""
             }
            },
            "marker": {
             "colorbar": {
              "outlinewidth": 0,
              "ticks": ""
             }
            },
            "type": "scatter3d"
           }
          ],
          "scattercarpet": [
           {
            "marker": {
             "colorbar": {
              "outlinewidth": 0,
              "ticks": ""
             }
            },
            "type": "scattercarpet"
           }
          ],
          "scattergeo": [
           {
            "marker": {
             "colorbar": {
              "outlinewidth": 0,
              "ticks": ""
             }
            },
            "type": "scattergeo"
           }
          ],
          "scattergl": [
           {
            "marker": {
             "colorbar": {
              "outlinewidth": 0,
              "ticks": ""
             }
            },
            "type": "scattergl"
           }
          ],
          "scattermapbox": [
           {
            "marker": {
             "colorbar": {
              "outlinewidth": 0,
              "ticks": ""
             }
            },
            "type": "scattermapbox"
           }
          ],
          "scatterpolar": [
           {
            "marker": {
             "colorbar": {
              "outlinewidth": 0,
              "ticks": ""
             }
            },
            "type": "scatterpolar"
           }
          ],
          "scatterpolargl": [
           {
            "marker": {
             "colorbar": {
              "outlinewidth": 0,
              "ticks": ""
             }
            },
            "type": "scatterpolargl"
           }
          ],
          "scatterternary": [
           {
            "marker": {
             "colorbar": {
              "outlinewidth": 0,
              "ticks": ""
             }
            },
            "type": "scatterternary"
           }
          ],
          "surface": [
           {
            "colorbar": {
             "outlinewidth": 0,
             "ticks": ""
            },
            "colorscale": [
             [
              0,
              "#0d0887"
             ],
             [
              0.1111111111111111,
              "#46039f"
             ],
             [
              0.2222222222222222,
              "#7201a8"
             ],
             [
              0.3333333333333333,
              "#9c179e"
             ],
             [
              0.4444444444444444,
              "#bd3786"
             ],
             [
              0.5555555555555556,
              "#d8576b"
             ],
             [
              0.6666666666666666,
              "#ed7953"
             ],
             [
              0.7777777777777778,
              "#fb9f3a"
             ],
             [
              0.8888888888888888,
              "#fdca26"
             ],
             [
              1,
              "#f0f921"
             ]
            ],
            "type": "surface"
           }
          ],
          "table": [
           {
            "cells": {
             "fill": {
              "color": "#EBF0F8"
             },
             "line": {
              "color": "white"
             }
            },
            "header": {
             "fill": {
              "color": "#C8D4E3"
             },
             "line": {
              "color": "white"
             }
            },
            "type": "table"
           }
          ]
         },
         "layout": {
          "annotationdefaults": {
           "arrowcolor": "#2a3f5f",
           "arrowhead": 0,
           "arrowwidth": 1
          },
          "autotypenumbers": "strict",
          "coloraxis": {
           "colorbar": {
            "outlinewidth": 0,
            "ticks": ""
           }
          },
          "colorscale": {
           "diverging": [
            [
             0,
             "#8e0152"
            ],
            [
             0.1,
             "#c51b7d"
            ],
            [
             0.2,
             "#de77ae"
            ],
            [
             0.3,
             "#f1b6da"
            ],
            [
             0.4,
             "#fde0ef"
            ],
            [
             0.5,
             "#f7f7f7"
            ],
            [
             0.6,
             "#e6f5d0"
            ],
            [
             0.7,
             "#b8e186"
            ],
            [
             0.8,
             "#7fbc41"
            ],
            [
             0.9,
             "#4d9221"
            ],
            [
             1,
             "#276419"
            ]
           ],
           "sequential": [
            [
             0,
             "#0d0887"
            ],
            [
             0.1111111111111111,
             "#46039f"
            ],
            [
             0.2222222222222222,
             "#7201a8"
            ],
            [
             0.3333333333333333,
             "#9c179e"
            ],
            [
             0.4444444444444444,
             "#bd3786"
            ],
            [
             0.5555555555555556,
             "#d8576b"
            ],
            [
             0.6666666666666666,
             "#ed7953"
            ],
            [
             0.7777777777777778,
             "#fb9f3a"
            ],
            [
             0.8888888888888888,
             "#fdca26"
            ],
            [
             1,
             "#f0f921"
            ]
           ],
           "sequentialminus": [
            [
             0,
             "#0d0887"
            ],
            [
             0.1111111111111111,
             "#46039f"
            ],
            [
             0.2222222222222222,
             "#7201a8"
            ],
            [
             0.3333333333333333,
             "#9c179e"
            ],
            [
             0.4444444444444444,
             "#bd3786"
            ],
            [
             0.5555555555555556,
             "#d8576b"
            ],
            [
             0.6666666666666666,
             "#ed7953"
            ],
            [
             0.7777777777777778,
             "#fb9f3a"
            ],
            [
             0.8888888888888888,
             "#fdca26"
            ],
            [
             1,
             "#f0f921"
            ]
           ]
          },
          "colorway": [
           "#636efa",
           "#EF553B",
           "#00cc96",
           "#ab63fa",
           "#FFA15A",
           "#19d3f3",
           "#FF6692",
           "#B6E880",
           "#FF97FF",
           "#FECB52"
          ],
          "font": {
           "color": "#2a3f5f"
          },
          "geo": {
           "bgcolor": "white",
           "lakecolor": "white",
           "landcolor": "#E5ECF6",
           "showlakes": true,
           "showland": true,
           "subunitcolor": "white"
          },
          "hoverlabel": {
           "align": "left"
          },
          "hovermode": "closest",
          "mapbox": {
           "style": "light"
          },
          "paper_bgcolor": "white",
          "plot_bgcolor": "#E5ECF6",
          "polar": {
           "angularaxis": {
            "gridcolor": "white",
            "linecolor": "white",
            "ticks": ""
           },
           "bgcolor": "#E5ECF6",
           "radialaxis": {
            "gridcolor": "white",
            "linecolor": "white",
            "ticks": ""
           }
          },
          "scene": {
           "xaxis": {
            "backgroundcolor": "#E5ECF6",
            "gridcolor": "white",
            "gridwidth": 2,
            "linecolor": "white",
            "showbackground": true,
            "ticks": "",
            "zerolinecolor": "white"
           },
           "yaxis": {
            "backgroundcolor": "#E5ECF6",
            "gridcolor": "white",
            "gridwidth": 2,
            "linecolor": "white",
            "showbackground": true,
            "ticks": "",
            "zerolinecolor": "white"
           },
           "zaxis": {
            "backgroundcolor": "#E5ECF6",
            "gridcolor": "white",
            "gridwidth": 2,
            "linecolor": "white",
            "showbackground": true,
            "ticks": "",
            "zerolinecolor": "white"
           }
          },
          "shapedefaults": {
           "line": {
            "color": "#2a3f5f"
           }
          },
          "ternary": {
           "aaxis": {
            "gridcolor": "white",
            "linecolor": "white",
            "ticks": ""
           },
           "baxis": {
            "gridcolor": "white",
            "linecolor": "white",
            "ticks": ""
           },
           "bgcolor": "#E5ECF6",
           "caxis": {
            "gridcolor": "white",
            "linecolor": "white",
            "ticks": ""
           }
          },
          "title": {
           "x": 0.05
          },
          "xaxis": {
           "automargin": true,
           "gridcolor": "white",
           "linecolor": "white",
           "ticks": "",
           "title": {
            "standoff": 15
           },
           "zerolinecolor": "white",
           "zerolinewidth": 2
          },
          "yaxis": {
           "automargin": true,
           "gridcolor": "white",
           "linecolor": "white",
           "ticks": "",
           "title": {
            "standoff": 15
           },
           "zerolinecolor": "white",
           "zerolinewidth": 2
          }
         }
        }
       }
      },
      "text/html": [
       "<div>                            <div id=\"25cc8483-c19e-4701-aa39-d2bb8a07c57e\" class=\"plotly-graph-div\" style=\"height:525px; width:100%;\"></div>            <script type=\"text/javascript\">                require([\"plotly\"], function(Plotly) {                    window.PLOTLYENV=window.PLOTLYENV || {};                                    if (document.getElementById(\"25cc8483-c19e-4701-aa39-d2bb8a07c57e\")) {                    Plotly.newPlot(                        \"25cc8483-c19e-4701-aa39-d2bb8a07c57e\",                        [{\"type\":\"funnel\",\"x\":[7419,4593,3734,3539],\"y\":[\"\\u0417\\u0430\\u0448\\u043b\\u0438 \\u043d\\u0430 \\u0433\\u043b\\u0430\\u0432\\u043d\\u044b\\u0439 \\u044d\\u043a\\u0440\\u0430\\u043d\",\"\\u0417\\u0430\\u0448\\u043b\\u0438 \\u043d\\u0430 \\u0441\\u0442\\u0440\\u0430\\u043d\\u0438\\u0446\\u0443 \\u0441 \\u0442\\u043e\\u0432\\u0430\\u0440\\u043e\\u043c\",\"\\u0414\\u043e\\u0431\\u0430\\u0432\\u0438\\u043b\\u0438 \\u0442\\u043e\\u0432\\u0430\\u0440 \\u0432 \\u043a\\u043e\\u0440\\u0437\\u0438\\u043d\\u0443\",\"\\u041e\\u043f\\u043b\\u0430\\u0442\\u0438\\u043b\\u0438 \\u0442\\u043e\\u0432\\u0430\\u0440\"]}],                        {\"template\":{\"data\":{\"bar\":[{\"error_x\":{\"color\":\"#2a3f5f\"},\"error_y\":{\"color\":\"#2a3f5f\"},\"marker\":{\"line\":{\"color\":\"#E5ECF6\",\"width\":0.5},\"pattern\":{\"fillmode\":\"overlay\",\"size\":10,\"solidity\":0.2}},\"type\":\"bar\"}],\"barpolar\":[{\"marker\":{\"line\":{\"color\":\"#E5ECF6\",\"width\":0.5},\"pattern\":{\"fillmode\":\"overlay\",\"size\":10,\"solidity\":0.2}},\"type\":\"barpolar\"}],\"carpet\":[{\"aaxis\":{\"endlinecolor\":\"#2a3f5f\",\"gridcolor\":\"white\",\"linecolor\":\"white\",\"minorgridcolor\":\"white\",\"startlinecolor\":\"#2a3f5f\"},\"baxis\":{\"endlinecolor\":\"#2a3f5f\",\"gridcolor\":\"white\",\"linecolor\":\"white\",\"minorgridcolor\":\"white\",\"startlinecolor\":\"#2a3f5f\"},\"type\":\"carpet\"}],\"choropleth\":[{\"colorbar\":{\"outlinewidth\":0,\"ticks\":\"\"},\"type\":\"choropleth\"}],\"contour\":[{\"colorbar\":{\"outlinewidth\":0,\"ticks\":\"\"},\"colorscale\":[[0.0,\"#0d0887\"],[0.1111111111111111,\"#46039f\"],[0.2222222222222222,\"#7201a8\"],[0.3333333333333333,\"#9c179e\"],[0.4444444444444444,\"#bd3786\"],[0.5555555555555556,\"#d8576b\"],[0.6666666666666666,\"#ed7953\"],[0.7777777777777778,\"#fb9f3a\"],[0.8888888888888888,\"#fdca26\"],[1.0,\"#f0f921\"]],\"type\":\"contour\"}],\"contourcarpet\":[{\"colorbar\":{\"outlinewidth\":0,\"ticks\":\"\"},\"type\":\"contourcarpet\"}],\"heatmap\":[{\"colorbar\":{\"outlinewidth\":0,\"ticks\":\"\"},\"colorscale\":[[0.0,\"#0d0887\"],[0.1111111111111111,\"#46039f\"],[0.2222222222222222,\"#7201a8\"],[0.3333333333333333,\"#9c179e\"],[0.4444444444444444,\"#bd3786\"],[0.5555555555555556,\"#d8576b\"],[0.6666666666666666,\"#ed7953\"],[0.7777777777777778,\"#fb9f3a\"],[0.8888888888888888,\"#fdca26\"],[1.0,\"#f0f921\"]],\"type\":\"heatmap\"}],\"heatmapgl\":[{\"colorbar\":{\"outlinewidth\":0,\"ticks\":\"\"},\"colorscale\":[[0.0,\"#0d0887\"],[0.1111111111111111,\"#46039f\"],[0.2222222222222222,\"#7201a8\"],[0.3333333333333333,\"#9c179e\"],[0.4444444444444444,\"#bd3786\"],[0.5555555555555556,\"#d8576b\"],[0.6666666666666666,\"#ed7953\"],[0.7777777777777778,\"#fb9f3a\"],[0.8888888888888888,\"#fdca26\"],[1.0,\"#f0f921\"]],\"type\":\"heatmapgl\"}],\"histogram\":[{\"marker\":{\"pattern\":{\"fillmode\":\"overlay\",\"size\":10,\"solidity\":0.2}},\"type\":\"histogram\"}],\"histogram2d\":[{\"colorbar\":{\"outlinewidth\":0,\"ticks\":\"\"},\"colorscale\":[[0.0,\"#0d0887\"],[0.1111111111111111,\"#46039f\"],[0.2222222222222222,\"#7201a8\"],[0.3333333333333333,\"#9c179e\"],[0.4444444444444444,\"#bd3786\"],[0.5555555555555556,\"#d8576b\"],[0.6666666666666666,\"#ed7953\"],[0.7777777777777778,\"#fb9f3a\"],[0.8888888888888888,\"#fdca26\"],[1.0,\"#f0f921\"]],\"type\":\"histogram2d\"}],\"histogram2dcontour\":[{\"colorbar\":{\"outlinewidth\":0,\"ticks\":\"\"},\"colorscale\":[[0.0,\"#0d0887\"],[0.1111111111111111,\"#46039f\"],[0.2222222222222222,\"#7201a8\"],[0.3333333333333333,\"#9c179e\"],[0.4444444444444444,\"#bd3786\"],[0.5555555555555556,\"#d8576b\"],[0.6666666666666666,\"#ed7953\"],[0.7777777777777778,\"#fb9f3a\"],[0.8888888888888888,\"#fdca26\"],[1.0,\"#f0f921\"]],\"type\":\"histogram2dcontour\"}],\"mesh3d\":[{\"colorbar\":{\"outlinewidth\":0,\"ticks\":\"\"},\"type\":\"mesh3d\"}],\"parcoords\":[{\"line\":{\"colorbar\":{\"outlinewidth\":0,\"ticks\":\"\"}},\"type\":\"parcoords\"}],\"pie\":[{\"automargin\":true,\"type\":\"pie\"}],\"scatter\":[{\"marker\":{\"colorbar\":{\"outlinewidth\":0,\"ticks\":\"\"}},\"type\":\"scatter\"}],\"scatter3d\":[{\"line\":{\"colorbar\":{\"outlinewidth\":0,\"ticks\":\"\"}},\"marker\":{\"colorbar\":{\"outlinewidth\":0,\"ticks\":\"\"}},\"type\":\"scatter3d\"}],\"scattercarpet\":[{\"marker\":{\"colorbar\":{\"outlinewidth\":0,\"ticks\":\"\"}},\"type\":\"scattercarpet\"}],\"scattergeo\":[{\"marker\":{\"colorbar\":{\"outlinewidth\":0,\"ticks\":\"\"}},\"type\":\"scattergeo\"}],\"scattergl\":[{\"marker\":{\"colorbar\":{\"outlinewidth\":0,\"ticks\":\"\"}},\"type\":\"scattergl\"}],\"scattermapbox\":[{\"marker\":{\"colorbar\":{\"outlinewidth\":0,\"ticks\":\"\"}},\"type\":\"scattermapbox\"}],\"scatterpolar\":[{\"marker\":{\"colorbar\":{\"outlinewidth\":0,\"ticks\":\"\"}},\"type\":\"scatterpolar\"}],\"scatterpolargl\":[{\"marker\":{\"colorbar\":{\"outlinewidth\":0,\"ticks\":\"\"}},\"type\":\"scatterpolargl\"}],\"scatterternary\":[{\"marker\":{\"colorbar\":{\"outlinewidth\":0,\"ticks\":\"\"}},\"type\":\"scatterternary\"}],\"surface\":[{\"colorbar\":{\"outlinewidth\":0,\"ticks\":\"\"},\"colorscale\":[[0.0,\"#0d0887\"],[0.1111111111111111,\"#46039f\"],[0.2222222222222222,\"#7201a8\"],[0.3333333333333333,\"#9c179e\"],[0.4444444444444444,\"#bd3786\"],[0.5555555555555556,\"#d8576b\"],[0.6666666666666666,\"#ed7953\"],[0.7777777777777778,\"#fb9f3a\"],[0.8888888888888888,\"#fdca26\"],[1.0,\"#f0f921\"]],\"type\":\"surface\"}],\"table\":[{\"cells\":{\"fill\":{\"color\":\"#EBF0F8\"},\"line\":{\"color\":\"white\"}},\"header\":{\"fill\":{\"color\":\"#C8D4E3\"},\"line\":{\"color\":\"white\"}},\"type\":\"table\"}]},\"layout\":{\"annotationdefaults\":{\"arrowcolor\":\"#2a3f5f\",\"arrowhead\":0,\"arrowwidth\":1},\"autotypenumbers\":\"strict\",\"coloraxis\":{\"colorbar\":{\"outlinewidth\":0,\"ticks\":\"\"}},\"colorscale\":{\"diverging\":[[0,\"#8e0152\"],[0.1,\"#c51b7d\"],[0.2,\"#de77ae\"],[0.3,\"#f1b6da\"],[0.4,\"#fde0ef\"],[0.5,\"#f7f7f7\"],[0.6,\"#e6f5d0\"],[0.7,\"#b8e186\"],[0.8,\"#7fbc41\"],[0.9,\"#4d9221\"],[1,\"#276419\"]],\"sequential\":[[0.0,\"#0d0887\"],[0.1111111111111111,\"#46039f\"],[0.2222222222222222,\"#7201a8\"],[0.3333333333333333,\"#9c179e\"],[0.4444444444444444,\"#bd3786\"],[0.5555555555555556,\"#d8576b\"],[0.6666666666666666,\"#ed7953\"],[0.7777777777777778,\"#fb9f3a\"],[0.8888888888888888,\"#fdca26\"],[1.0,\"#f0f921\"]],\"sequentialminus\":[[0.0,\"#0d0887\"],[0.1111111111111111,\"#46039f\"],[0.2222222222222222,\"#7201a8\"],[0.3333333333333333,\"#9c179e\"],[0.4444444444444444,\"#bd3786\"],[0.5555555555555556,\"#d8576b\"],[0.6666666666666666,\"#ed7953\"],[0.7777777777777778,\"#fb9f3a\"],[0.8888888888888888,\"#fdca26\"],[1.0,\"#f0f921\"]]},\"colorway\":[\"#636efa\",\"#EF553B\",\"#00cc96\",\"#ab63fa\",\"#FFA15A\",\"#19d3f3\",\"#FF6692\",\"#B6E880\",\"#FF97FF\",\"#FECB52\"],\"font\":{\"color\":\"#2a3f5f\"},\"geo\":{\"bgcolor\":\"white\",\"lakecolor\":\"white\",\"landcolor\":\"#E5ECF6\",\"showlakes\":true,\"showland\":true,\"subunitcolor\":\"white\"},\"hoverlabel\":{\"align\":\"left\"},\"hovermode\":\"closest\",\"mapbox\":{\"style\":\"light\"},\"paper_bgcolor\":\"white\",\"plot_bgcolor\":\"#E5ECF6\",\"polar\":{\"angularaxis\":{\"gridcolor\":\"white\",\"linecolor\":\"white\",\"ticks\":\"\"},\"bgcolor\":\"#E5ECF6\",\"radialaxis\":{\"gridcolor\":\"white\",\"linecolor\":\"white\",\"ticks\":\"\"}},\"scene\":{\"xaxis\":{\"backgroundcolor\":\"#E5ECF6\",\"gridcolor\":\"white\",\"gridwidth\":2,\"linecolor\":\"white\",\"showbackground\":true,\"ticks\":\"\",\"zerolinecolor\":\"white\"},\"yaxis\":{\"backgroundcolor\":\"#E5ECF6\",\"gridcolor\":\"white\",\"gridwidth\":2,\"linecolor\":\"white\",\"showbackground\":true,\"ticks\":\"\",\"zerolinecolor\":\"white\"},\"zaxis\":{\"backgroundcolor\":\"#E5ECF6\",\"gridcolor\":\"white\",\"gridwidth\":2,\"linecolor\":\"white\",\"showbackground\":true,\"ticks\":\"\",\"zerolinecolor\":\"white\"}},\"shapedefaults\":{\"line\":{\"color\":\"#2a3f5f\"}},\"ternary\":{\"aaxis\":{\"gridcolor\":\"white\",\"linecolor\":\"white\",\"ticks\":\"\"},\"baxis\":{\"gridcolor\":\"white\",\"linecolor\":\"white\",\"ticks\":\"\"},\"bgcolor\":\"#E5ECF6\",\"caxis\":{\"gridcolor\":\"white\",\"linecolor\":\"white\",\"ticks\":\"\"}},\"title\":{\"x\":0.05},\"xaxis\":{\"automargin\":true,\"gridcolor\":\"white\",\"linecolor\":\"white\",\"ticks\":\"\",\"title\":{\"standoff\":15},\"zerolinecolor\":\"white\",\"zerolinewidth\":2},\"yaxis\":{\"automargin\":true,\"gridcolor\":\"white\",\"linecolor\":\"white\",\"ticks\":\"\",\"title\":{\"standoff\":15},\"zerolinecolor\":\"white\",\"zerolinewidth\":2}}}},                        {\"responsive\": true}                    ).then(function(){\n",
       "                            \n",
       "var gd = document.getElementById('25cc8483-c19e-4701-aa39-d2bb8a07c57e');\n",
       "var x = new MutationObserver(function (mutations, observer) {{\n",
       "        var display = window.getComputedStyle(gd).display;\n",
       "        if (!display || display === 'none') {{\n",
       "            console.log([gd, 'removed!']);\n",
       "            Plotly.purge(gd);\n",
       "            observer.disconnect();\n",
       "        }}\n",
       "}});\n",
       "\n",
       "// Listen for the removal of the full notebook cells\n",
       "var notebookContainer = gd.closest('#notebook-container');\n",
       "if (notebookContainer) {{\n",
       "    x.observe(notebookContainer, {childList: true});\n",
       "}}\n",
       "\n",
       "// Listen for the clearing of the current output cell\n",
       "var outputEl = gd.closest('.output');\n",
       "if (outputEl) {{\n",
       "    x.observe(outputEl, {childList: true});\n",
       "}}\n",
       "\n",
       "                        })                };                });            </script>        </div>"
      ]
     },
     "metadata": {},
     "output_type": "display_data"
    }
   ],
   "source": [
    "fig = go.Figure(\n",
    "    go.Funnel(\n",
    "        y=[\n",
    "            'Зашли на главный экран',\n",
    "            'Зашли на страницу с товаром',\n",
    "            'Добавили товар в корзину',\n",
    "            'Оплатили товар',\n",
    "        ],\n",
    "        x=[df_users_event['users_counted'][0],\n",
    "           df_users_event['users_counted'][1],\n",
    "           df_users_event['users_counted'][2],\n",
    "           df_users_event['users_counted'][3]],\n",
    "    )\n",
    ")\n",
    "\n",
    "fig.show()"
   ]
  },
  {
   "cell_type": "markdown",
   "metadata": {},
   "source": [
    "### Вывод\n",
    "- Большое число пользователей минует этап tutorial, поэтому данный этап не учитываем. Малое число пользователей на этом этапе может быть связано с тем, что tutorial показывается только новым пользователям. \n",
    "\n",
    "- Главный экран => страница товара - 62% пользователей\n",
    "- Страница товара => корзина - 81% пользователей\n",
    "- Корзина => оплата - 95% пользователей\n",
    "\n",
    "Теряем много пользователей на этапе перехода с главного экрана на странийцу товара. Возможно, неудобный интрефейс, который затрудняет переход.\n",
    "\n",
    "Всего до оплаты доходит 47% пользователей от их изначального числа."
   ]
  },
  {
   "cell_type": "markdown",
   "metadata": {},
   "source": [
    "## Результаты экперимента\n",
    "\n",
    "Оценим результаты проведенного эксперимента."
   ]
  },
  {
   "cell_type": "markdown",
   "metadata": {},
   "source": [
    "### Сколько пользователей в каждой экспериментальной группе?"
   ]
  },
  {
   "cell_type": "code",
   "execution_count": 138,
   "metadata": {},
   "outputs": [
    {
     "data": {
      "text/html": [
       "<div>\n",
       "<style scoped>\n",
       "    .dataframe tbody tr th:only-of-type {\n",
       "        vertical-align: middle;\n",
       "    }\n",
       "\n",
       "    .dataframe tbody tr th {\n",
       "        vertical-align: top;\n",
       "    }\n",
       "\n",
       "    .dataframe thead th {\n",
       "        text-align: right;\n",
       "    }\n",
       "</style>\n",
       "<table border=\"1\" class=\"dataframe\">\n",
       "  <thead>\n",
       "    <tr style=\"text-align: right;\">\n",
       "      <th></th>\n",
       "      <th>exp_id</th>\n",
       "      <th>device_id</th>\n",
       "    </tr>\n",
       "  </thead>\n",
       "  <tbody>\n",
       "    <tr>\n",
       "      <th>0</th>\n",
       "      <td>A1</td>\n",
       "      <td>2484</td>\n",
       "    </tr>\n",
       "    <tr>\n",
       "      <th>1</th>\n",
       "      <td>A2</td>\n",
       "      <td>2513</td>\n",
       "    </tr>\n",
       "    <tr>\n",
       "      <th>2</th>\n",
       "      <td>B</td>\n",
       "      <td>2537</td>\n",
       "    </tr>\n",
       "  </tbody>\n",
       "</table>\n",
       "</div>"
      ],
      "text/plain": [
       "  exp_id  device_id\n",
       "0     A1       2484\n",
       "1     A2       2513\n",
       "2      B       2537"
      ]
     },
     "execution_count": 138,
     "metadata": {},
     "output_type": "execute_result"
    }
   ],
   "source": [
    "df.groupby('exp_id', as_index=False).agg({'device_id':'nunique'})"
   ]
  },
  {
   "cell_type": "markdown",
   "metadata": {},
   "source": [
    "Размеры групп несколько отличаются. Это говорит нам о неоптимальности разбиения данных по группам. Для будующих тестов стоит поработать с механикой выделения групп."
   ]
  },
  {
   "cell_type": "markdown",
   "metadata": {},
   "source": [
    "### Проверим, находят ли статистические критерии разницу между контрольными группами"
   ]
  },
  {
   "cell_type": "markdown",
   "metadata": {},
   "source": [
    "Найдем общее число уникальных пользователей в каждой группе:"
   ]
  },
  {
   "cell_type": "code",
   "execution_count": 139,
   "metadata": {},
   "outputs": [
    {
     "data": {
      "text/html": [
       "<div>\n",
       "<style scoped>\n",
       "    .dataframe tbody tr th:only-of-type {\n",
       "        vertical-align: middle;\n",
       "    }\n",
       "\n",
       "    .dataframe tbody tr th {\n",
       "        vertical-align: top;\n",
       "    }\n",
       "\n",
       "    .dataframe thead th {\n",
       "        text-align: right;\n",
       "    }\n",
       "</style>\n",
       "<table border=\"1\" class=\"dataframe\">\n",
       "  <thead>\n",
       "    <tr style=\"text-align: right;\">\n",
       "      <th></th>\n",
       "      <th>exp_id</th>\n",
       "      <th>unique_users</th>\n",
       "    </tr>\n",
       "  </thead>\n",
       "  <tbody>\n",
       "    <tr>\n",
       "      <th>0</th>\n",
       "      <td>A1</td>\n",
       "      <td>2484</td>\n",
       "    </tr>\n",
       "    <tr>\n",
       "      <th>1</th>\n",
       "      <td>A2</td>\n",
       "      <td>2513</td>\n",
       "    </tr>\n",
       "    <tr>\n",
       "      <th>2</th>\n",
       "      <td>B</td>\n",
       "      <td>2537</td>\n",
       "    </tr>\n",
       "  </tbody>\n",
       "</table>\n",
       "</div>"
      ],
      "text/plain": [
       "  exp_id  unique_users\n",
       "0     A1          2484\n",
       "1     A2          2513\n",
       "2      B          2537"
      ]
     },
     "execution_count": 139,
     "metadata": {},
     "output_type": "execute_result"
    }
   ],
   "source": [
    "unique_users_by_group = df.groupby('exp_id')\\\n",
    "                .agg({'device_id':'nunique'})\\\n",
    "                .rename(columns ={'device_id':'unique_users'})\\\n",
    "                .reset_index()\n",
    "unique_users_by_group"
   ]
  },
  {
   "cell_type": "markdown",
   "metadata": {},
   "source": [
    "- Найдем число уникальных пользователей в группах по действиям.\n",
    "- Объеденим с таблицей unique_users_by_group"
   ]
  },
  {
   "cell_type": "code",
   "execution_count": 140,
   "metadata": {},
   "outputs": [
    {
     "data": {
      "text/html": [
       "<div>\n",
       "<style scoped>\n",
       "    .dataframe tbody tr th:only-of-type {\n",
       "        vertical-align: middle;\n",
       "    }\n",
       "\n",
       "    .dataframe tbody tr th {\n",
       "        vertical-align: top;\n",
       "    }\n",
       "\n",
       "    .dataframe thead th {\n",
       "        text-align: right;\n",
       "    }\n",
       "</style>\n",
       "<table border=\"1\" class=\"dataframe\">\n",
       "  <thead>\n",
       "    <tr style=\"text-align: right;\">\n",
       "      <th></th>\n",
       "      <th>exp_id</th>\n",
       "      <th>CartScreenAppear</th>\n",
       "      <th>MainScreenAppear</th>\n",
       "      <th>OffersScreenAppear</th>\n",
       "      <th>PaymentScreenSuccessful</th>\n",
       "      <th>Tutorial</th>\n",
       "      <th>unique_users</th>\n",
       "    </tr>\n",
       "  </thead>\n",
       "  <tbody>\n",
       "    <tr>\n",
       "      <th>0</th>\n",
       "      <td>A1</td>\n",
       "      <td>1266</td>\n",
       "      <td>2450</td>\n",
       "      <td>1542</td>\n",
       "      <td>1200</td>\n",
       "      <td>278</td>\n",
       "      <td>2484</td>\n",
       "    </tr>\n",
       "    <tr>\n",
       "      <th>1</th>\n",
       "      <td>A2</td>\n",
       "      <td>1238</td>\n",
       "      <td>2476</td>\n",
       "      <td>1520</td>\n",
       "      <td>1158</td>\n",
       "      <td>283</td>\n",
       "      <td>2513</td>\n",
       "    </tr>\n",
       "    <tr>\n",
       "      <th>2</th>\n",
       "      <td>B</td>\n",
       "      <td>1230</td>\n",
       "      <td>2493</td>\n",
       "      <td>1531</td>\n",
       "      <td>1181</td>\n",
       "      <td>279</td>\n",
       "      <td>2537</td>\n",
       "    </tr>\n",
       "  </tbody>\n",
       "</table>\n",
       "</div>"
      ],
      "text/plain": [
       "  exp_id  CartScreenAppear  MainScreenAppear  OffersScreenAppear  \\\n",
       "0     A1              1266              2450                1542   \n",
       "1     A2              1238              2476                1520   \n",
       "2      B              1230              2493                1531   \n",
       "\n",
       "   PaymentScreenSuccessful  Tutorial  unique_users  \n",
       "0                     1200       278          2484  \n",
       "1                     1158       283          2513  \n",
       "2                     1181       279          2537  "
      ]
     },
     "execution_count": 140,
     "metadata": {},
     "output_type": "execute_result"
    }
   ],
   "source": [
    "df_grouped = df.pivot_table(\n",
    "    index = 'exp_id',\n",
    "    columns = 'event_name',\n",
    "    values = 'device_id',\n",
    "    aggfunc = 'nunique').reset_index()\n",
    "\n",
    "df_grouped = df_grouped.merge(unique_users_by_group, on ='exp_id')\n",
    "df_grouped"
   ]
  },
  {
   "cell_type": "markdown",
   "metadata": {},
   "source": [
    "Проверим статистическую разницу в конверсии между группами А1 и А2."
   ]
  },
  {
   "cell_type": "code",
   "execution_count": 141,
   "metadata": {},
   "outputs": [],
   "source": [
    "def unique_to_group (df, event):\n",
    "    alpha = .01 # критический уровень статистической значимости\n",
    "\n",
    "    successes = np.array([df[event][0],\n",
    "                          df[event][1]])\n",
    "    trials = np.array([df_grouped['unique_users'][0],\n",
    "                       df_grouped['unique_users'][1]])\n",
    "\n",
    "    # пропорция успехов в первой группе:\n",
    "    p1 = successes[0]/trials[0]\n",
    "\n",
    "    # пропорция успехов во второй группе:\n",
    "    p2 = successes[1]/trials[1]\n",
    "\n",
    "    # пропорция успехов в комбинированном датасете:\n",
    "    p_combined = (successes[0] + successes[1]) / (trials[0] + trials[1])\n",
    "\n",
    "    # разница пропорций в датасетах\n",
    "    difference = p1 - p2 \n",
    "\n",
    "    # считаем статистику в ст.отклонениях стандартного нормального распределения\n",
    "    z_value = difference / mth.sqrt(p_combined * (1 - p_combined) * (1/trials[0] + 1/trials[1]))\n",
    "\n",
    "    # задаем стандартное нормальное распределение (среднее 0, ст.отклонение 1)\n",
    "    distr = st.norm(0, 1) \n",
    "\n",
    "    p_value = (1 - distr.cdf(abs(z_value))) * 2\n",
    "\n",
    "    print('p-значение: ', p_value)\n",
    "\n",
    "    if p_value < alpha:\n",
    "        print('Отвергаем нулевую гипотезу: между долями есть значимая разница')\n",
    "    else:\n",
    "        print(\n",
    "            'Не получилось отвергнуть нулевую гипотезу, нет оснований считать доли разными'\n",
    "        ) "
   ]
  },
  {
   "cell_type": "markdown",
   "metadata": {},
   "source": [
    "За нулевую гипотезу примем отсутствие разницы в долях, тогда альтернативная будет означать наличие этой разницы.\n",
    "\n",
    "$\\begin{equation*}\n",
    " \\begin{cases}\n",
    "H_0 :\\text{Доли равны}\\\\\n",
    "H_1 :\\text{Доли различаются}\n",
    " \\end{cases}\n",
    "\\end{equation*}$\n"
   ]
  },
  {
   "cell_type": "code",
   "execution_count": 142,
   "metadata": {},
   "outputs": [
    {
     "name": "stdout",
     "output_type": "stream",
     "text": [
      "p-значение:  0.22883372237997213\n",
      "Не получилось отвергнуть нулевую гипотезу, нет оснований считать доли разными\n"
     ]
    }
   ],
   "source": [
    "unique_to_group(df_grouped, 'CartScreenAppear')"
   ]
  },
  {
   "cell_type": "code",
   "execution_count": 143,
   "metadata": {},
   "outputs": [
    {
     "name": "stdout",
     "output_type": "stream",
     "text": [
      "p-значение:  0.7570597232046099\n",
      "Не получилось отвергнуть нулевую гипотезу, нет оснований считать доли разными\n"
     ]
    }
   ],
   "source": [
    "unique_to_group(df_grouped, 'MainScreenAppear')"
   ]
  },
  {
   "cell_type": "code",
   "execution_count": 144,
   "metadata": {},
   "outputs": [
    {
     "name": "stdout",
     "output_type": "stream",
     "text": [
      "p-значение:  0.2480954578522181\n",
      "Не получилось отвергнуть нулевую гипотезу, нет оснований считать доли разными\n"
     ]
    }
   ],
   "source": [
    "unique_to_group(df_grouped, 'OffersScreenAppear')"
   ]
  },
  {
   "cell_type": "code",
   "execution_count": 145,
   "metadata": {},
   "outputs": [
    {
     "name": "stdout",
     "output_type": "stream",
     "text": [
      "p-значение:  0.11456679313141849\n",
      "Не получилось отвергнуть нулевую гипотезу, нет оснований считать доли разными\n"
     ]
    }
   ],
   "source": [
    "unique_to_group(df_grouped, 'PaymentScreenSuccessful')"
   ]
  },
  {
   "cell_type": "markdown",
   "metadata": {},
   "source": [
    "Статистической разницы в конверсии между контрольными группами нет, можем признать разбиение корректным"
   ]
  },
  {
   "cell_type": "markdown",
   "metadata": {},
   "source": [
    "### Самое популярное событие\n",
    "\n",
    "- Посчитаем разницу в конверсии по самому популярному действию. \n",
    "- Определим статистическуб значимость отличия между группами.\n"
   ]
  },
  {
   "cell_type": "code",
   "execution_count": 146,
   "metadata": {
    "scrolled": true
   },
   "outputs": [
    {
     "data": {
      "text/html": [
       "<div>\n",
       "<style scoped>\n",
       "    .dataframe tbody tr th:only-of-type {\n",
       "        vertical-align: middle;\n",
       "    }\n",
       "\n",
       "    .dataframe tbody tr th {\n",
       "        vertical-align: top;\n",
       "    }\n",
       "\n",
       "    .dataframe thead th {\n",
       "        text-align: right;\n",
       "    }\n",
       "</style>\n",
       "<table border=\"1\" class=\"dataframe\">\n",
       "  <thead>\n",
       "    <tr style=\"text-align: right;\">\n",
       "      <th></th>\n",
       "      <th>exp_id</th>\n",
       "      <th>CartScreenAppear</th>\n",
       "      <th>MainScreenAppear</th>\n",
       "      <th>OffersScreenAppear</th>\n",
       "      <th>PaymentScreenSuccessful</th>\n",
       "      <th>Tutorial</th>\n",
       "      <th>unique_users</th>\n",
       "      <th>perc</th>\n",
       "    </tr>\n",
       "  </thead>\n",
       "  <tbody>\n",
       "    <tr>\n",
       "      <th>0</th>\n",
       "      <td>A1</td>\n",
       "      <td>1266</td>\n",
       "      <td>2450</td>\n",
       "      <td>1542</td>\n",
       "      <td>1200</td>\n",
       "      <td>278</td>\n",
       "      <td>2484</td>\n",
       "      <td>0.986312</td>\n",
       "    </tr>\n",
       "    <tr>\n",
       "      <th>1</th>\n",
       "      <td>A2</td>\n",
       "      <td>1238</td>\n",
       "      <td>2476</td>\n",
       "      <td>1520</td>\n",
       "      <td>1158</td>\n",
       "      <td>283</td>\n",
       "      <td>2513</td>\n",
       "      <td>0.985277</td>\n",
       "    </tr>\n",
       "    <tr>\n",
       "      <th>2</th>\n",
       "      <td>B</td>\n",
       "      <td>1230</td>\n",
       "      <td>2493</td>\n",
       "      <td>1531</td>\n",
       "      <td>1181</td>\n",
       "      <td>279</td>\n",
       "      <td>2537</td>\n",
       "      <td>0.982657</td>\n",
       "    </tr>\n",
       "  </tbody>\n",
       "</table>\n",
       "</div>"
      ],
      "text/plain": [
       "  exp_id  CartScreenAppear  MainScreenAppear  OffersScreenAppear  \\\n",
       "0     A1              1266              2450                1542   \n",
       "1     A2              1238              2476                1520   \n",
       "2      B              1230              2493                1531   \n",
       "\n",
       "   PaymentScreenSuccessful  Tutorial  unique_users      perc  \n",
       "0                     1200       278          2484  0.986312  \n",
       "1                     1158       283          2513  0.985277  \n",
       "2                     1181       279          2537  0.982657  "
      ]
     },
     "execution_count": 146,
     "metadata": {},
     "output_type": "execute_result"
    }
   ],
   "source": [
    "df_grouped['perc'] = df_grouped['MainScreenAppear']/df_grouped['unique_users']\n",
    "df_grouped"
   ]
  },
  {
   "cell_type": "markdown",
   "metadata": {},
   "source": [
    "Самое популярное событие - MainScreenAppear - его совершают 98% пользователей.\n",
    "\n",
    "Проверим стат достоверность отличий между группами:"
   ]
  },
  {
   "cell_type": "markdown",
   "metadata": {},
   "source": [
    "Проверим различие долей: главный экран - число уникальных пользователей"
   ]
  },
  {
   "cell_type": "code",
   "execution_count": 169,
   "metadata": {},
   "outputs": [
    {
     "name": "stdout",
     "output_type": "stream",
     "text": [
      "p-значение:  0.8596219697710694\n",
      "Не получилось отвергнуть нулевую гипотезу, нет оснований считать доли разными\n"
     ]
    }
   ],
   "source": [
    "unique_to_group(df_grouped, 'MainScreenAppear')"
   ]
  },
  {
   "cell_type": "markdown",
   "metadata": {},
   "source": [
    "Сделаем то же самое для всех остальных событий.\n",
    "\n",
    "Страница с товаром:"
   ]
  },
  {
   "cell_type": "code",
   "execution_count": 149,
   "metadata": {},
   "outputs": [
    {
     "name": "stdout",
     "output_type": "stream",
     "text": [
      "p-значение:  0.2480954578522181\n",
      "Не получилось отвергнуть нулевую гипотезу, нет оснований считать доли разными\n"
     ]
    }
   ],
   "source": [
    "unique_to_group(df_grouped, 'OffersScreenAppear')"
   ]
  },
  {
   "cell_type": "markdown",
   "metadata": {},
   "source": [
    "Корзина:"
   ]
  },
  {
   "cell_type": "code",
   "execution_count": 150,
   "metadata": {},
   "outputs": [
    {
     "name": "stdout",
     "output_type": "stream",
     "text": [
      "p-значение:  0.22883372237997213\n",
      "Не получилось отвергнуть нулевую гипотезу, нет оснований считать доли разными\n"
     ]
    }
   ],
   "source": [
    "unique_to_group(df_grouped, 'CartScreenAppear')"
   ]
  },
  {
   "cell_type": "markdown",
   "metadata": {},
   "source": [
    "Оплата:"
   ]
  },
  {
   "cell_type": "code",
   "execution_count": 151,
   "metadata": {},
   "outputs": [
    {
     "name": "stdout",
     "output_type": "stream",
     "text": [
      "p-значение:  0.11456679313141849\n",
      "Не получилось отвергнуть нулевую гипотезу, нет оснований считать доли разными\n"
     ]
    }
   ],
   "source": [
    "unique_to_group(df_grouped, 'PaymentScreenSuccessful')"
   ]
  },
  {
   "cell_type": "markdown",
   "metadata": {},
   "source": [
    "<b> Можем сказать, что разбиение на группы работает корректно </b>"
   ]
  },
  {
   "cell_type": "markdown",
   "metadata": {},
   "source": [
    "### Сравнение результатов тестовой и контрольных групп\n",
    "\n",
    "- Сравним результаты с каждой из контрольных групп в отдельности по каждому событию.\n",
    "- Сравним результаты с объединённой контрольной группой.\n",
    "- Сделаем выводы"
   ]
  },
  {
   "cell_type": "code",
   "execution_count": 170,
   "metadata": {},
   "outputs": [],
   "source": [
    "def unique_to_group_2 (df, event, group_1, group_2):\n",
    "    alpha = .01 # критический уровень статистической значимости\n",
    "\n",
    "    successes = np.array([df[event][group_1],\n",
    "                          df[event][group_2]])\n",
    "    trials = np.array([df_grouped['unique_users'][group_1],\n",
    "                       df_grouped['unique_users'][group_2]])\n",
    "\n",
    "    # пропорция успехов в первой группе:\n",
    "    p1 = successes[0]/trials[0]\n",
    "\n",
    "    # пропорция успехов во второй группе:\n",
    "    p2 = successes[1]/trials[1]\n",
    "\n",
    "    # пропорция успехов в комбинированном датасете:\n",
    "    p_combined = (successes[0] + successes[1]) / (trials[0] + trials[1])\n",
    "\n",
    "    # разница пропорций в датасетах\n",
    "    difference = p1 - p2 \n",
    "\n",
    "    # считаем статистику в ст.отклонениях стандартного нормального распределения\n",
    "    z_value = difference / mth.sqrt(p_combined * (1 - p_combined) * (1/trials[0] + 1/trials[1]))\n",
    "\n",
    "    # задаем стандартное нормальное распределение (среднее 0, ст.отклонение 1)\n",
    "    distr = st.norm(0, 1) \n",
    "\n",
    "    p_value = (1 - distr.cdf(abs(z_value))) * 2\n",
    "\n",
    "    print('p-значение: ', p_value)\n",
    "\n",
    "    if p_value < alpha:\n",
    "        print('Отвергаем нулевую гипотезу: между долями есть значимая разница')\n",
    "    else:\n",
    "        print(\n",
    "            'Не получилось отвергнуть нулевую гипотезу, нет оснований считать доли разными'\n",
    "        ) "
   ]
  },
  {
   "cell_type": "markdown",
   "metadata": {},
   "source": [
    "Сравним группу А1 с группой В:"
   ]
  },
  {
   "cell_type": "code",
   "execution_count": 171,
   "metadata": {},
   "outputs": [
    {
     "name": "stdout",
     "output_type": "stream",
     "text": [
      "p-значение:  0.29424526837179577\n",
      "Не получилось отвергнуть нулевую гипотезу, нет оснований считать доли разными\n"
     ]
    }
   ],
   "source": [
    "unique_to_group_2(df_grouped, 'MainScreenAppear', 0, 2)"
   ]
  },
  {
   "cell_type": "code",
   "execution_count": 172,
   "metadata": {},
   "outputs": [
    {
     "name": "stdout",
     "output_type": "stream",
     "text": [
      "p-значение:  0.43425549655188256\n",
      "Не получилось отвергнуть нулевую гипотезу, нет оснований считать доли разными\n"
     ]
    }
   ],
   "source": [
    "unique_to_group_2(df_grouped, 'OffersScreenAppear', 0, 2)"
   ]
  },
  {
   "cell_type": "code",
   "execution_count": 173,
   "metadata": {},
   "outputs": [
    {
     "name": "stdout",
     "output_type": "stream",
     "text": [
      "p-значение:  0.18175875284404386\n",
      "Не получилось отвергнуть нулевую гипотезу, нет оснований считать доли разными\n"
     ]
    }
   ],
   "source": [
    "unique_to_group_2(df_grouped, 'CartScreenAppear', 0, 2)"
   ]
  },
  {
   "cell_type": "code",
   "execution_count": 174,
   "metadata": {},
   "outputs": [
    {
     "name": "stdout",
     "output_type": "stream",
     "text": [
      "p-значение:  0.6004294282308704\n",
      "Не получилось отвергнуть нулевую гипотезу, нет оснований считать доли разными\n"
     ]
    }
   ],
   "source": [
    "unique_to_group_2(df_grouped, 'PaymentScreenSuccessful', 0, 2)"
   ]
  },
  {
   "cell_type": "markdown",
   "metadata": {},
   "source": [
    "Сравним группу А2 с группой В:"
   ]
  },
  {
   "cell_type": "code",
   "execution_count": 175,
   "metadata": {},
   "outputs": [
    {
     "name": "stdout",
     "output_type": "stream",
     "text": [
      "p-значение:  0.4587053616621515\n",
      "Не получилось отвергнуть нулевую гипотезу, нет оснований считать доли разными\n"
     ]
    }
   ],
   "source": [
    "unique_to_group_2(df_grouped, 'MainScreenAppear', 1, 2)"
   ]
  },
  {
   "cell_type": "code",
   "execution_count": 176,
   "metadata": {},
   "outputs": [
    {
     "name": "stdout",
     "output_type": "stream",
     "text": [
      "p-значение:  0.9197817830592261\n",
      "Не получилось отвергнуть нулевую гипотезу, нет оснований считать доли разными\n"
     ]
    }
   ],
   "source": [
    "unique_to_group_2(df_grouped, 'OffersScreenAppear', 1, 2)"
   ]
  },
  {
   "cell_type": "code",
   "execution_count": 177,
   "metadata": {},
   "outputs": [
    {
     "name": "stdout",
     "output_type": "stream",
     "text": [
      "p-значение:  0.5786197879539783\n",
      "Не получилось отвергнуть нулевую гипотезу, нет оснований считать доли разными\n"
     ]
    }
   ],
   "source": [
    "unique_to_group_2(df_grouped, 'CartScreenAppear', 1, 2)"
   ]
  },
  {
   "cell_type": "code",
   "execution_count": 178,
   "metadata": {},
   "outputs": [
    {
     "name": "stdout",
     "output_type": "stream",
     "text": [
      "p-значение:  0.7373415053803964\n",
      "Не получилось отвергнуть нулевую гипотезу, нет оснований считать доли разными\n"
     ]
    }
   ],
   "source": [
    "unique_to_group_2(df_grouped, 'PaymentScreenSuccessful', 1, 2)"
   ]
  },
  {
   "cell_type": "markdown",
   "metadata": {},
   "source": [
    "Сравним результаты с объединённой контрольной группой."
   ]
  },
  {
   "cell_type": "code",
   "execution_count": 179,
   "metadata": {},
   "outputs": [],
   "source": [
    "for element in df_grouped:\n",
    "    df_grouped[element][0] = df_grouped[element][0]+df_grouped[element][1]\n"
   ]
  },
  {
   "cell_type": "code",
   "execution_count": 180,
   "metadata": {},
   "outputs": [
    {
     "data": {
      "text/html": [
       "<div>\n",
       "<style scoped>\n",
       "    .dataframe tbody tr th:only-of-type {\n",
       "        vertical-align: middle;\n",
       "    }\n",
       "\n",
       "    .dataframe tbody tr th {\n",
       "        vertical-align: top;\n",
       "    }\n",
       "\n",
       "    .dataframe thead th {\n",
       "        text-align: right;\n",
       "    }\n",
       "</style>\n",
       "<table border=\"1\" class=\"dataframe\">\n",
       "  <thead>\n",
       "    <tr style=\"text-align: right;\">\n",
       "      <th></th>\n",
       "      <th>exp_id</th>\n",
       "      <th>CartScreenAppear</th>\n",
       "      <th>MainScreenAppear</th>\n",
       "      <th>OffersScreenAppear</th>\n",
       "      <th>PaymentScreenSuccessful</th>\n",
       "      <th>Tutorial</th>\n",
       "      <th>unique_users</th>\n",
       "      <th>perc</th>\n",
       "    </tr>\n",
       "  </thead>\n",
       "  <tbody>\n",
       "    <tr>\n",
       "      <th>2</th>\n",
       "      <td>B</td>\n",
       "      <td>1230</td>\n",
       "      <td>2493</td>\n",
       "      <td>1531</td>\n",
       "      <td>1181</td>\n",
       "      <td>279</td>\n",
       "      <td>2537</td>\n",
       "      <td>0.982657</td>\n",
       "    </tr>\n",
       "  </tbody>\n",
       "</table>\n",
       "</div>"
      ],
      "text/plain": [
       "  exp_id  CartScreenAppear  MainScreenAppear  OffersScreenAppear  \\\n",
       "2      B              1230              2493                1531   \n",
       "\n",
       "   PaymentScreenSuccessful  Tutorial  unique_users      perc  \n",
       "2                     1181       279          2537  0.982657  "
      ]
     },
     "execution_count": 180,
     "metadata": {},
     "output_type": "execute_result"
    }
   ],
   "source": [
    "df_grouped_together = df_grouped.query('exp_id == \"A1A2\" or exp_id == \"B\"')\n",
    "df_grouped_together"
   ]
  },
  {
   "cell_type": "code",
   "execution_count": 181,
   "metadata": {},
   "outputs": [
    {
     "name": "stdout",
     "output_type": "stream",
     "text": [
      "p-значение:  0.2905659024875895\n",
      "Не получилось отвергнуть нулевую гипотезу, нет оснований считать доли разными\n"
     ]
    }
   ],
   "source": [
    "unique_to_group_2(df_grouped, 'MainScreenAppear', 0, 2)"
   ]
  },
  {
   "cell_type": "code",
   "execution_count": 182,
   "metadata": {},
   "outputs": [
    {
     "name": "stdout",
     "output_type": "stream",
     "text": [
      "p-значение:  0.5529089597837467\n",
      "Не получилось отвергнуть нулевую гипотезу, нет оснований считать доли разными\n"
     ]
    }
   ],
   "source": [
    "unique_to_group_2(df_grouped, 'OffersScreenAppear', 0, 2)"
   ]
  },
  {
   "cell_type": "code",
   "execution_count": 183,
   "metadata": {},
   "outputs": [
    {
     "name": "stdout",
     "output_type": "stream",
     "text": [
      "p-значение:  0.24160022652158952\n",
      "Не получилось отвергнуть нулевую гипотезу, нет оснований считать доли разными\n"
     ]
    }
   ],
   "source": [
    "unique_to_group_2(df_grouped, 'CartScreenAppear', 0, 2)"
   ]
  },
  {
   "cell_type": "code",
   "execution_count": 184,
   "metadata": {},
   "outputs": [
    {
     "name": "stdout",
     "output_type": "stream",
     "text": [
      "p-значение:  0.8160508476853812\n",
      "Не получилось отвергнуть нулевую гипотезу, нет оснований считать доли разными\n"
     ]
    }
   ],
   "source": [
    "unique_to_group_2(df_grouped, 'PaymentScreenSuccessful', 0, 2)"
   ]
  },
  {
   "cell_type": "markdown",
   "metadata": {},
   "source": [
    "###  Вывод\n",
    "\n",
    "- Значимых различий между контрольными группами и тестовой не обнаружено\n",
    "- Был выбран уровень значимости 5%, что предполагает вероятность ошибки в 1/20 случаев\n",
    "- При изменении уровня значимости до 0.01 результат не меняется - различия по-прежнему не значимы."
   ]
  },
  {
   "cell_type": "markdown",
   "metadata": {},
   "source": [
    "## Вывод по проекту\n",
    "\n",
    "<b> Изучение данных </b>\n",
    "\n",
    "- Изначально в логе 244 126 событий, данные 7551 пользователей\n",
    "- В среднем на одного пользователя приходится 32 события, медианное значение - 20 событий\n",
    "- Фактически мы располагали данными за период с 1 августа по 7 августа 2019 года\n",
    "\n",
    "<b> Изучение воронки </b>\n",
    "\n",
    "Конверсия из этапа в этап следующая:\n",
    "- Главный экран => страница товара - 62% пользователей\n",
    "- Страница товара => корзина - 81% пользователей\n",
    "- Корзина => оплата - 95% пользователей\n",
    "\n",
    "Теряем много пользователей на этапе перехода с главного экрана на странийцу товара. Возможно, неудобный интрефейс, который затрудняет переход.\n",
    "\n",
    "Всего до оплаты доходит 47% пользователей от их изначального числа.\n",
    "\n",
    "\n",
    "<b> Анализ А/В теста </b>\n",
    "\n",
    "- Статистически значимых различий между группами не обнаружено. \n",
    "- Выбранный уровень значимости - 5%. При корректировке уровня значимости до 1% результат не меняется.\n",
    "\n",
    "<b> Можно провести изменение шрифтов, но это не увеличит показатели конверсии. </b>"
   ]
  }
 ],
 "metadata": {
  "ExecuteTimeLog": [
   {
    "duration": 858,
    "start_time": "2021-10-18T07:35:59.136Z"
   },
   {
    "duration": 3696,
    "start_time": "2021-10-18T07:36:18.750Z"
   },
   {
    "duration": 364,
    "start_time": "2021-10-18T07:36:31.067Z"
   },
   {
    "duration": 372,
    "start_time": "2021-10-18T07:36:44.809Z"
   },
   {
    "duration": 145,
    "start_time": "2021-10-18T07:36:50.373Z"
   },
   {
    "duration": 1480,
    "start_time": "2021-10-18T07:36:53.892Z"
   },
   {
    "duration": 359,
    "start_time": "2021-10-18T07:37:21.032Z"
   },
   {
    "duration": 117,
    "start_time": "2021-10-18T07:37:51.162Z"
   },
   {
    "duration": 342,
    "start_time": "2021-10-18T07:38:11.541Z"
   },
   {
    "duration": 334,
    "start_time": "2021-10-18T07:38:17.808Z"
   },
   {
    "duration": 112,
    "start_time": "2021-10-18T07:38:23.089Z"
   },
   {
    "duration": 104,
    "start_time": "2021-10-18T07:38:25.748Z"
   },
   {
    "duration": 1383,
    "start_time": "2021-10-18T07:48:34.112Z"
   },
   {
    "duration": 354,
    "start_time": "2021-10-18T07:48:39.060Z"
   },
   {
    "duration": 869,
    "start_time": "2021-10-18T07:48:46.357Z"
   },
   {
    "duration": 166,
    "start_time": "2021-10-18T07:48:58.198Z"
   },
   {
    "duration": 346,
    "start_time": "2021-10-18T07:51:35.155Z"
   },
   {
    "duration": 13,
    "start_time": "2021-10-18T07:52:54.569Z"
   },
   {
    "duration": 12,
    "start_time": "2021-10-18T07:54:46.295Z"
   },
   {
    "duration": 20,
    "start_time": "2021-10-18T07:54:55.238Z"
   },
   {
    "duration": 20,
    "start_time": "2021-10-18T07:55:49.661Z"
   },
   {
    "duration": 171,
    "start_time": "2021-10-18T07:55:52.167Z"
   },
   {
    "duration": 62,
    "start_time": "2021-10-18T07:57:59.029Z"
   },
   {
    "duration": 20,
    "start_time": "2021-10-18T07:58:15.926Z"
   },
   {
    "duration": 21,
    "start_time": "2021-10-18T07:58:26.499Z"
   },
   {
    "duration": 20,
    "start_time": "2021-10-18T07:58:27.554Z"
   },
   {
    "duration": 8062,
    "start_time": "2021-10-18T07:58:28.693Z"
   },
   {
    "duration": 3,
    "start_time": "2021-10-18T07:58:43.605Z"
   },
   {
    "duration": 44,
    "start_time": "2021-10-18T08:00:37.496Z"
   },
   {
    "duration": 7,
    "start_time": "2021-10-18T08:01:09.496Z"
   },
   {
    "duration": 21,
    "start_time": "2021-10-18T08:01:30.295Z"
   },
   {
    "duration": 11,
    "start_time": "2021-10-18T08:01:39.330Z"
   },
   {
    "duration": 108,
    "start_time": "2021-10-18T08:02:23.397Z"
   },
   {
    "duration": 121,
    "start_time": "2021-10-18T08:02:25.230Z"
   },
   {
    "duration": 20,
    "start_time": "2021-10-18T08:02:28.235Z"
   },
   {
    "duration": 22,
    "start_time": "2021-10-18T08:02:40.486Z"
   },
   {
    "duration": 25,
    "start_time": "2021-10-18T08:02:53.468Z"
   },
   {
    "duration": 20,
    "start_time": "2021-10-18T08:02:57.563Z"
   },
   {
    "duration": 4,
    "start_time": "2021-10-18T08:07:31.549Z"
   },
   {
    "duration": 25,
    "start_time": "2021-10-18T08:09:42.553Z"
   },
   {
    "duration": 6,
    "start_time": "2021-10-18T08:13:12.187Z"
   },
   {
    "duration": 25,
    "start_time": "2021-10-18T08:14:56.584Z"
   },
   {
    "duration": 8,
    "start_time": "2021-10-18T08:14:57.419Z"
   },
   {
    "duration": 3,
    "start_time": "2021-10-18T08:15:00.854Z"
   },
   {
    "duration": 181,
    "start_time": "2021-10-18T08:15:00.860Z"
   },
   {
    "duration": 20,
    "start_time": "2021-10-18T08:15:01.044Z"
   },
   {
    "duration": 37,
    "start_time": "2021-10-18T08:15:01.067Z"
   },
   {
    "duration": 20,
    "start_time": "2021-10-18T08:15:01.106Z"
   },
   {
    "duration": 57,
    "start_time": "2021-10-18T08:15:01.128Z"
   },
   {
    "duration": 43,
    "start_time": "2021-10-18T08:15:05.680Z"
   },
   {
    "duration": 41,
    "start_time": "2021-10-18T08:15:11.390Z"
   },
   {
    "duration": 370,
    "start_time": "2021-10-18T08:15:13.573Z"
   },
   {
    "duration": 330,
    "start_time": "2021-10-18T08:15:30.080Z"
   },
   {
    "duration": 44,
    "start_time": "2021-10-18T08:16:06.451Z"
   },
   {
    "duration": 27,
    "start_time": "2021-10-18T08:16:09.800Z"
   },
   {
    "duration": 7,
    "start_time": "2021-10-18T08:16:10.793Z"
   },
   {
    "duration": 335,
    "start_time": "2021-10-18T08:16:11.681Z"
   },
   {
    "duration": 388,
    "start_time": "2021-10-18T08:16:21.077Z"
   },
   {
    "duration": 213,
    "start_time": "2021-10-18T08:19:02.299Z"
   },
   {
    "duration": 230,
    "start_time": "2021-10-18T08:19:05.294Z"
   },
   {
    "duration": 371,
    "start_time": "2021-10-18T08:19:08.419Z"
   },
   {
    "duration": 37,
    "start_time": "2021-10-18T08:19:20.078Z"
   },
   {
    "duration": 7,
    "start_time": "2021-10-18T08:19:34.578Z"
   },
   {
    "duration": 20,
    "start_time": "2021-10-18T08:19:35.732Z"
   },
   {
    "duration": 179,
    "start_time": "2021-10-18T08:20:10.746Z"
   },
   {
    "duration": 149,
    "start_time": "2021-10-18T08:20:14.391Z"
   },
   {
    "duration": 500,
    "start_time": "2021-10-18T08:20:21.356Z"
   },
   {
    "duration": 155,
    "start_time": "2021-10-18T08:20:26.966Z"
   },
   {
    "duration": 149,
    "start_time": "2021-10-18T08:20:32.324Z"
   },
   {
    "duration": 155,
    "start_time": "2021-10-18T08:20:39.862Z"
   },
   {
    "duration": 322,
    "start_time": "2021-10-18T08:21:28.642Z"
   },
   {
    "duration": 355,
    "start_time": "2021-10-18T08:21:39.790Z"
   },
   {
    "duration": 456,
    "start_time": "2021-10-18T08:22:45.760Z"
   },
   {
    "duration": 35,
    "start_time": "2021-10-18T08:23:12.069Z"
   },
   {
    "duration": 434,
    "start_time": "2021-10-18T08:23:30.728Z"
   },
   {
    "duration": 364,
    "start_time": "2021-10-18T08:24:00.653Z"
   },
   {
    "duration": 38,
    "start_time": "2021-10-18T08:24:11.881Z"
   },
   {
    "duration": 50,
    "start_time": "2021-10-18T08:24:20.194Z"
   },
   {
    "duration": 402,
    "start_time": "2021-10-18T08:24:27.157Z"
   },
   {
    "duration": 49,
    "start_time": "2021-10-18T08:24:39.186Z"
   },
   {
    "duration": 406,
    "start_time": "2021-10-18T08:24:51.052Z"
   },
   {
    "duration": 52,
    "start_time": "2021-10-18T08:24:58.681Z"
   },
   {
    "duration": 56,
    "start_time": "2021-10-18T08:25:03.874Z"
   },
   {
    "duration": 147,
    "start_time": "2021-10-18T08:26:09.026Z"
   },
   {
    "duration": 151,
    "start_time": "2021-10-18T08:26:13.335Z"
   },
   {
    "duration": 20,
    "start_time": "2021-10-18T08:26:57.897Z"
   },
   {
    "duration": 145,
    "start_time": "2021-10-18T08:28:17.347Z"
   },
   {
    "duration": 161,
    "start_time": "2021-10-18T08:28:27.638Z"
   },
   {
    "duration": 17,
    "start_time": "2021-10-18T08:29:01.853Z"
   },
   {
    "duration": 16,
    "start_time": "2021-10-18T08:29:10.166Z"
   },
   {
    "duration": 15,
    "start_time": "2021-10-18T08:29:15.262Z"
   },
   {
    "duration": 16,
    "start_time": "2021-10-18T08:29:44.822Z"
   },
   {
    "duration": 4,
    "start_time": "2021-10-18T08:33:03.334Z"
   },
   {
    "duration": 173,
    "start_time": "2021-10-18T08:33:03.835Z"
   },
   {
    "duration": 21,
    "start_time": "2021-10-18T08:33:05.187Z"
   },
   {
    "duration": 21,
    "start_time": "2021-10-18T08:33:06.202Z"
   },
   {
    "duration": 44,
    "start_time": "2021-10-18T08:33:06.452Z"
   },
   {
    "duration": 21,
    "start_time": "2021-10-18T08:33:06.906Z"
   },
   {
    "duration": 70,
    "start_time": "2021-10-18T08:33:07.131Z"
   },
   {
    "duration": 74,
    "start_time": "2021-10-18T08:33:07.390Z"
   },
   {
    "duration": 14,
    "start_time": "2021-10-18T08:33:07.683Z"
   },
   {
    "duration": 6,
    "start_time": "2021-10-18T08:33:08.930Z"
   },
   {
    "duration": 21,
    "start_time": "2021-10-18T08:33:10.768Z"
   },
   {
    "duration": 15,
    "start_time": "2021-10-18T08:36:52.432Z"
   },
   {
    "duration": 27,
    "start_time": "2021-10-18T08:37:00.925Z"
   },
   {
    "duration": 13,
    "start_time": "2021-10-18T08:37:43.810Z"
   },
   {
    "duration": 8,
    "start_time": "2021-10-18T08:38:11.899Z"
   },
   {
    "duration": 8,
    "start_time": "2021-10-18T08:38:15.836Z"
   },
   {
    "duration": 365,
    "start_time": "2021-10-18T08:38:22.722Z"
   },
   {
    "duration": 14,
    "start_time": "2021-10-18T08:38:29.688Z"
   },
   {
    "duration": 14,
    "start_time": "2021-10-18T08:38:58.576Z"
   },
   {
    "duration": 13,
    "start_time": "2021-10-18T08:39:03.143Z"
   },
   {
    "duration": 24,
    "start_time": "2021-10-18T08:39:44.913Z"
   },
   {
    "duration": 14,
    "start_time": "2021-10-18T08:40:28.948Z"
   },
   {
    "duration": 339,
    "start_time": "2021-10-18T08:47:32.467Z"
   },
   {
    "duration": 21,
    "start_time": "2021-10-18T08:47:44.922Z"
   },
   {
    "duration": 25,
    "start_time": "2021-10-18T08:47:57.769Z"
   },
   {
    "duration": 18,
    "start_time": "2021-10-18T08:49:42.464Z"
   },
   {
    "duration": 17,
    "start_time": "2021-10-18T08:49:59.799Z"
   },
   {
    "duration": 117,
    "start_time": "2021-10-18T08:50:19.397Z"
   },
   {
    "duration": 103,
    "start_time": "2021-10-18T08:50:46.217Z"
   },
   {
    "duration": 21,
    "start_time": "2021-10-18T08:51:05.927Z"
   },
   {
    "duration": 14,
    "start_time": "2021-10-18T08:52:54.028Z"
   },
   {
    "duration": 6,
    "start_time": "2021-10-18T08:53:11.953Z"
   },
   {
    "duration": 7,
    "start_time": "2021-10-18T08:55:26.791Z"
   },
   {
    "duration": 6,
    "start_time": "2021-10-18T08:55:37.571Z"
   },
   {
    "duration": 6,
    "start_time": "2021-10-18T08:55:38.869Z"
   },
   {
    "duration": 12,
    "start_time": "2021-10-18T08:56:04.579Z"
   },
   {
    "duration": 9,
    "start_time": "2021-10-18T08:56:09.809Z"
   },
   {
    "duration": 8,
    "start_time": "2021-10-18T08:57:07.166Z"
   },
   {
    "duration": 443,
    "start_time": "2021-10-18T08:57:11.812Z"
   },
   {
    "duration": 273,
    "start_time": "2021-10-18T08:57:28.879Z"
   },
   {
    "duration": 321,
    "start_time": "2021-10-18T08:57:42.504Z"
   },
   {
    "duration": 312,
    "start_time": "2021-10-18T08:57:50.510Z"
   },
   {
    "duration": 569,
    "start_time": "2021-10-18T08:57:52.640Z"
   },
   {
    "duration": 322,
    "start_time": "2021-10-18T08:57:55.980Z"
   },
   {
    "duration": 350,
    "start_time": "2021-10-18T08:58:01.865Z"
   },
   {
    "duration": 379,
    "start_time": "2021-10-18T08:58:04.857Z"
   },
   {
    "duration": 632,
    "start_time": "2021-10-18T08:58:07.778Z"
   },
   {
    "duration": 559,
    "start_time": "2021-10-18T08:58:28.673Z"
   },
   {
    "duration": 911,
    "start_time": "2021-10-18T08:58:34.696Z"
   },
   {
    "duration": 532,
    "start_time": "2021-10-18T08:58:40.137Z"
   },
   {
    "duration": 706,
    "start_time": "2021-10-18T08:58:54.300Z"
   },
   {
    "duration": 412,
    "start_time": "2021-10-18T08:59:06.361Z"
   },
   {
    "duration": 411,
    "start_time": "2021-10-18T08:59:27.170Z"
   },
   {
    "duration": 376,
    "start_time": "2021-10-18T09:01:57.587Z"
   },
   {
    "duration": 24,
    "start_time": "2021-10-18T09:02:00.950Z"
   },
   {
    "duration": 25,
    "start_time": "2021-10-18T09:02:07.937Z"
   },
   {
    "duration": 22,
    "start_time": "2021-10-18T09:02:09.960Z"
   },
   {
    "duration": 16,
    "start_time": "2021-10-18T09:02:16.737Z"
   },
   {
    "duration": 634,
    "start_time": "2021-10-18T09:02:28.266Z"
   },
   {
    "duration": 717,
    "start_time": "2021-10-18T09:02:31.944Z"
   },
   {
    "duration": 4,
    "start_time": "2021-10-18T09:02:35.196Z"
   },
   {
    "duration": 286,
    "start_time": "2021-10-18T09:02:35.204Z"
   },
   {
    "duration": 30,
    "start_time": "2021-10-18T09:02:35.494Z"
   },
   {
    "duration": 34,
    "start_time": "2021-10-18T09:02:35.528Z"
   },
   {
    "duration": 114,
    "start_time": "2021-10-18T09:02:35.565Z"
   },
   {
    "duration": 40,
    "start_time": "2021-10-18T09:02:35.682Z"
   },
   {
    "duration": 82,
    "start_time": "2021-10-18T09:02:35.724Z"
   },
   {
    "duration": 76,
    "start_time": "2021-10-18T09:02:35.809Z"
   },
   {
    "duration": 14,
    "start_time": "2021-10-18T09:02:35.900Z"
   },
   {
    "duration": 14,
    "start_time": "2021-10-18T09:02:35.916Z"
   },
   {
    "duration": 30,
    "start_time": "2021-10-18T09:02:35.932Z"
   },
   {
    "duration": 41,
    "start_time": "2021-10-18T09:02:35.964Z"
   },
   {
    "duration": 29,
    "start_time": "2021-10-18T09:02:36.007Z"
   },
   {
    "duration": 11,
    "start_time": "2021-10-18T09:02:36.039Z"
   },
   {
    "duration": 47,
    "start_time": "2021-10-18T09:02:36.053Z"
   },
   {
    "duration": 22,
    "start_time": "2021-10-18T09:02:36.103Z"
   },
   {
    "duration": 14,
    "start_time": "2021-10-18T09:02:36.128Z"
   },
   {
    "duration": 6,
    "start_time": "2021-10-18T09:02:36.145Z"
   },
   {
    "duration": 46,
    "start_time": "2021-10-18T09:02:36.154Z"
   },
   {
    "duration": 435,
    "start_time": "2021-10-18T09:02:36.204Z"
   },
   {
    "duration": 650,
    "start_time": "2021-10-18T09:02:44.533Z"
   },
   {
    "duration": 740,
    "start_time": "2021-10-18T09:02:51.555Z"
   },
   {
    "duration": 764,
    "start_time": "2021-10-18T09:03:01.351Z"
   },
   {
    "duration": 4,
    "start_time": "2021-10-18T09:03:17.186Z"
   },
   {
    "duration": 1623,
    "start_time": "2021-10-18T09:03:17.192Z"
   },
   {
    "duration": 19,
    "start_time": "2021-10-18T09:03:18.818Z"
   },
   {
    "duration": 20,
    "start_time": "2021-10-18T09:03:18.839Z"
   },
   {
    "duration": 77,
    "start_time": "2021-10-18T09:03:18.862Z"
   },
   {
    "duration": 20,
    "start_time": "2021-10-18T09:03:18.942Z"
   },
   {
    "duration": 89,
    "start_time": "2021-10-18T09:03:18.966Z"
   },
   {
    "duration": 85,
    "start_time": "2021-10-18T09:03:19.058Z"
   },
   {
    "duration": 14,
    "start_time": "2021-10-18T09:03:19.145Z"
   },
   {
    "duration": 25,
    "start_time": "2021-10-18T09:03:19.161Z"
   },
   {
    "duration": 28,
    "start_time": "2021-10-18T09:03:19.189Z"
   },
   {
    "duration": 27,
    "start_time": "2021-10-18T09:03:19.220Z"
   },
   {
    "duration": 11,
    "start_time": "2021-10-18T09:03:19.249Z"
   },
   {
    "duration": 41,
    "start_time": "2021-10-18T09:03:19.262Z"
   },
   {
    "duration": 33,
    "start_time": "2021-10-18T09:03:19.306Z"
   },
   {
    "duration": 15,
    "start_time": "2021-10-18T09:03:19.342Z"
   },
   {
    "duration": 11,
    "start_time": "2021-10-18T09:03:19.360Z"
   },
   {
    "duration": 8,
    "start_time": "2021-10-18T09:03:19.401Z"
   },
   {
    "duration": 433,
    "start_time": "2021-10-18T09:03:19.415Z"
   },
   {
    "duration": 648,
    "start_time": "2021-10-18T09:03:19.852Z"
   },
   {
    "duration": 138,
    "start_time": "2021-10-18T09:10:53.439Z"
   },
   {
    "duration": 8361,
    "start_time": "2021-10-18T09:10:59.389Z"
   },
   {
    "duration": 7,
    "start_time": "2021-10-18T09:11:10.918Z"
   },
   {
    "duration": 16,
    "start_time": "2021-10-18T09:11:22.373Z"
   },
   {
    "duration": 641,
    "start_time": "2021-10-18T09:11:35.605Z"
   },
   {
    "duration": 625,
    "start_time": "2021-10-18T09:11:45.881Z"
   },
   {
    "duration": 3,
    "start_time": "2021-10-18T09:12:06.184Z"
   },
   {
    "duration": 172,
    "start_time": "2021-10-18T09:12:06.190Z"
   },
   {
    "duration": 37,
    "start_time": "2021-10-18T09:12:06.366Z"
   },
   {
    "duration": 21,
    "start_time": "2021-10-18T09:12:06.406Z"
   },
   {
    "duration": 70,
    "start_time": "2021-10-18T09:12:06.430Z"
   },
   {
    "duration": 19,
    "start_time": "2021-10-18T09:12:06.503Z"
   },
   {
    "duration": 94,
    "start_time": "2021-10-18T09:12:06.525Z"
   },
   {
    "duration": 85,
    "start_time": "2021-10-18T09:12:06.621Z"
   },
   {
    "duration": 13,
    "start_time": "2021-10-18T09:12:06.709Z"
   },
   {
    "duration": 6,
    "start_time": "2021-10-18T09:12:06.725Z"
   },
   {
    "duration": 25,
    "start_time": "2021-10-18T09:12:06.734Z"
   },
   {
    "duration": 26,
    "start_time": "2021-10-18T09:12:19.771Z"
   },
   {
    "duration": 15,
    "start_time": "2021-10-18T09:12:24.068Z"
   },
   {
    "duration": 7,
    "start_time": "2021-10-18T09:19:11.684Z"
   },
   {
    "duration": 18,
    "start_time": "2021-10-18T09:19:17.262Z"
   },
   {
    "duration": 4,
    "start_time": "2021-10-18T09:19:25.579Z"
   },
   {
    "duration": 176,
    "start_time": "2021-10-18T09:19:25.586Z"
   },
   {
    "duration": 19,
    "start_time": "2021-10-18T09:19:25.764Z"
   },
   {
    "duration": 20,
    "start_time": "2021-10-18T09:19:25.801Z"
   },
   {
    "duration": 47,
    "start_time": "2021-10-18T09:19:25.824Z"
   },
   {
    "duration": 40,
    "start_time": "2021-10-18T09:19:25.874Z"
   },
   {
    "duration": 85,
    "start_time": "2021-10-18T09:19:25.917Z"
   },
   {
    "duration": 75,
    "start_time": "2021-10-18T09:19:26.005Z"
   },
   {
    "duration": 26,
    "start_time": "2021-10-18T09:19:26.083Z"
   },
   {
    "duration": 10,
    "start_time": "2021-10-18T09:19:26.111Z"
   },
   {
    "duration": 22,
    "start_time": "2021-10-18T09:19:26.123Z"
   },
   {
    "duration": 7,
    "start_time": "2021-10-18T09:19:26.147Z"
   },
   {
    "duration": 66,
    "start_time": "2021-10-18T09:19:26.157Z"
   },
   {
    "duration": 12,
    "start_time": "2021-10-18T09:19:26.225Z"
   },
   {
    "duration": 16,
    "start_time": "2021-10-18T09:19:26.239Z"
   },
   {
    "duration": 55,
    "start_time": "2021-10-18T09:19:26.257Z"
   },
   {
    "duration": 15,
    "start_time": "2021-10-18T09:19:26.314Z"
   },
   {
    "duration": 11,
    "start_time": "2021-10-18T09:19:26.331Z"
   },
   {
    "duration": 5,
    "start_time": "2021-10-18T09:19:26.346Z"
   },
   {
    "duration": 447,
    "start_time": "2021-10-18T09:19:26.353Z"
   },
   {
    "duration": 775,
    "start_time": "2021-10-18T09:19:26.803Z"
   },
   {
    "duration": 631,
    "start_time": "2021-10-18T09:19:32.569Z"
   },
   {
    "duration": 625,
    "start_time": "2021-10-18T09:19:38.007Z"
   },
   {
    "duration": 115,
    "start_time": "2021-10-18T09:22:06.653Z"
   },
   {
    "duration": 84,
    "start_time": "2021-10-18T09:22:22.601Z"
   },
   {
    "duration": 9851,
    "start_time": "2021-10-18T09:22:42.350Z"
   },
   {
    "duration": 15,
    "start_time": "2021-10-18T09:23:08.327Z"
   },
   {
    "duration": 637,
    "start_time": "2021-10-18T09:23:11.470Z"
   },
   {
    "duration": 15,
    "start_time": "2021-10-18T09:23:29.465Z"
   },
   {
    "duration": 661,
    "start_time": "2021-10-18T09:23:30.184Z"
   },
   {
    "duration": 737,
    "start_time": "2021-10-18T09:23:40.446Z"
   },
   {
    "duration": 4,
    "start_time": "2021-10-18T09:28:24.923Z"
   },
   {
    "duration": 174,
    "start_time": "2021-10-18T09:28:24.930Z"
   },
   {
    "duration": 20,
    "start_time": "2021-10-18T09:28:25.106Z"
   },
   {
    "duration": 21,
    "start_time": "2021-10-18T09:28:25.128Z"
   },
   {
    "duration": 79,
    "start_time": "2021-10-18T09:28:25.151Z"
   },
   {
    "duration": 21,
    "start_time": "2021-10-18T09:28:25.232Z"
   },
   {
    "duration": 95,
    "start_time": "2021-10-18T09:28:25.258Z"
   },
   {
    "duration": 88,
    "start_time": "2021-10-18T09:28:25.356Z"
   },
   {
    "duration": 13,
    "start_time": "2021-10-18T09:28:25.446Z"
   },
   {
    "duration": 10,
    "start_time": "2021-10-18T09:28:25.462Z"
   },
   {
    "duration": 39,
    "start_time": "2021-10-18T09:28:25.474Z"
   },
   {
    "duration": 25,
    "start_time": "2021-10-18T09:28:25.516Z"
   },
   {
    "duration": 12,
    "start_time": "2021-10-18T09:28:25.543Z"
   },
   {
    "duration": 45,
    "start_time": "2021-10-18T09:28:25.557Z"
   },
   {
    "duration": 21,
    "start_time": "2021-10-18T09:28:25.604Z"
   },
   {
    "duration": 14,
    "start_time": "2021-10-18T09:28:28.632Z"
   },
   {
    "duration": 6,
    "start_time": "2021-10-18T09:28:39.185Z"
   },
   {
    "duration": 7,
    "start_time": "2021-10-18T09:28:39.878Z"
   },
   {
    "duration": 7,
    "start_time": "2021-10-18T09:29:05.190Z"
   },
   {
    "duration": 7,
    "start_time": "2021-10-18T09:29:05.669Z"
   },
   {
    "duration": 169,
    "start_time": "2021-10-18T09:30:08.421Z"
   },
   {
    "duration": 21,
    "start_time": "2021-10-18T09:30:11.353Z"
   },
   {
    "duration": 22,
    "start_time": "2021-10-18T09:30:12.364Z"
   },
   {
    "duration": 53,
    "start_time": "2021-10-18T09:30:12.953Z"
   },
   {
    "duration": 21,
    "start_time": "2021-10-18T09:30:14.653Z"
   },
   {
    "duration": 71,
    "start_time": "2021-10-18T09:30:16.260Z"
   },
   {
    "duration": 73,
    "start_time": "2021-10-18T09:30:17.320Z"
   },
   {
    "duration": 14,
    "start_time": "2021-10-18T09:30:18.053Z"
   },
   {
    "duration": 7,
    "start_time": "2021-10-18T09:30:27.481Z"
   },
   {
    "duration": 20,
    "start_time": "2021-10-18T09:30:31.802Z"
   },
   {
    "duration": 15,
    "start_time": "2021-10-18T09:30:42.869Z"
   },
   {
    "duration": 7,
    "start_time": "2021-10-18T09:32:12.740Z"
   },
   {
    "duration": 7,
    "start_time": "2021-10-18T09:32:16.229Z"
   },
   {
    "duration": 21,
    "start_time": "2021-10-18T09:32:17.059Z"
   },
   {
    "duration": 16,
    "start_time": "2021-10-18T09:32:17.466Z"
   },
   {
    "duration": 632,
    "start_time": "2021-10-18T09:32:31.674Z"
   },
   {
    "duration": 631,
    "start_time": "2021-10-18T09:32:37.289Z"
   },
   {
    "duration": 813,
    "start_time": "2021-10-18T09:34:06.041Z"
   },
   {
    "duration": 740,
    "start_time": "2021-10-18T09:34:18.753Z"
   },
   {
    "duration": 632,
    "start_time": "2021-10-18T09:34:36.023Z"
   },
   {
    "duration": 7,
    "start_time": "2021-10-18T09:36:56.967Z"
   },
   {
    "duration": 14,
    "start_time": "2021-10-18T09:37:01.125Z"
   },
   {
    "duration": 7,
    "start_time": "2021-10-18T09:37:01.684Z"
   },
   {
    "duration": 7,
    "start_time": "2021-10-18T09:37:01.862Z"
   },
   {
    "duration": 20,
    "start_time": "2021-10-18T09:37:02.211Z"
   },
   {
    "duration": 15,
    "start_time": "2021-10-18T09:37:02.392Z"
   },
   {
    "duration": 23,
    "start_time": "2021-10-18T09:37:03.121Z"
   },
   {
    "duration": 12,
    "start_time": "2021-10-18T09:37:03.470Z"
   },
   {
    "duration": 15,
    "start_time": "2021-10-18T09:37:03.853Z"
   },
   {
    "duration": 22,
    "start_time": "2021-10-18T09:37:04.098Z"
   },
   {
    "duration": 14,
    "start_time": "2021-10-18T09:37:04.390Z"
   },
   {
    "duration": 7,
    "start_time": "2021-10-18T09:37:04.584Z"
   },
   {
    "duration": 7,
    "start_time": "2021-10-18T09:37:04.787Z"
   },
   {
    "duration": 426,
    "start_time": "2021-10-18T09:37:04.968Z"
   },
   {
    "duration": 767,
    "start_time": "2021-10-18T09:37:05.397Z"
   },
   {
    "duration": 8432,
    "start_time": "2021-10-18T09:37:17.581Z"
   },
   {
    "duration": 627,
    "start_time": "2021-10-18T09:37:31.037Z"
   },
   {
    "duration": 15,
    "start_time": "2021-10-18T09:38:28.561Z"
   },
   {
    "duration": 7,
    "start_time": "2021-10-18T09:38:32.486Z"
   },
   {
    "duration": 6,
    "start_time": "2021-10-18T09:38:35.846Z"
   },
   {
    "duration": 4,
    "start_time": "2021-10-18T09:39:18.773Z"
   },
   {
    "duration": 1180,
    "start_time": "2021-10-18T09:39:31.902Z"
   },
   {
    "duration": 177,
    "start_time": "2021-10-18T09:39:37.967Z"
   },
   {
    "duration": 20,
    "start_time": "2021-10-18T09:39:38.328Z"
   },
   {
    "duration": 21,
    "start_time": "2021-10-18T09:39:38.709Z"
   },
   {
    "duration": 52,
    "start_time": "2021-10-18T09:39:38.909Z"
   },
   {
    "duration": 20,
    "start_time": "2021-10-18T09:39:39.695Z"
   },
   {
    "duration": 72,
    "start_time": "2021-10-18T09:39:39.776Z"
   },
   {
    "duration": 74,
    "start_time": "2021-10-18T09:39:40.056Z"
   },
   {
    "duration": 13,
    "start_time": "2021-10-18T09:39:40.444Z"
   },
   {
    "duration": 7,
    "start_time": "2021-10-18T09:39:41.762Z"
   },
   {
    "duration": 7,
    "start_time": "2021-10-18T09:39:42.155Z"
   },
   {
    "duration": 20,
    "start_time": "2021-10-18T09:39:43.003Z"
   },
   {
    "duration": 16,
    "start_time": "2021-10-18T09:39:43.203Z"
   },
   {
    "duration": 29,
    "start_time": "2021-10-18T09:39:43.861Z"
   },
   {
    "duration": 12,
    "start_time": "2021-10-18T09:39:44.252Z"
   },
   {
    "duration": 15,
    "start_time": "2021-10-18T09:39:44.603Z"
   },
   {
    "duration": 21,
    "start_time": "2021-10-18T09:39:44.907Z"
   },
   {
    "duration": 15,
    "start_time": "2021-10-18T09:39:45.372Z"
   },
   {
    "duration": 6,
    "start_time": "2021-10-18T09:39:45.663Z"
   },
   {
    "duration": 6,
    "start_time": "2021-10-18T09:39:46.067Z"
   },
   {
    "duration": 420,
    "start_time": "2021-10-18T09:39:46.611Z"
   },
   {
    "duration": 755,
    "start_time": "2021-10-18T09:39:47.133Z"
   },
   {
    "duration": 14,
    "start_time": "2021-10-18T09:40:58.310Z"
   },
   {
    "duration": 7,
    "start_time": "2021-10-18T09:40:59.702Z"
   },
   {
    "duration": 437,
    "start_time": "2021-10-18T09:41:00.849Z"
   },
   {
    "duration": 18,
    "start_time": "2021-10-18T09:41:01.422Z"
   },
   {
    "duration": 113,
    "start_time": "2021-10-18T09:41:20.225Z"
   },
   {
    "duration": 17,
    "start_time": "2021-10-18T09:41:22.846Z"
   },
   {
    "duration": 25,
    "start_time": "2021-10-18T09:41:34.624Z"
   },
   {
    "duration": 26,
    "start_time": "2021-10-18T09:41:36.031Z"
   },
   {
    "duration": 485,
    "start_time": "2021-10-18T09:41:39.069Z"
   },
   {
    "duration": 630,
    "start_time": "2021-10-18T09:41:40.273Z"
   },
   {
    "duration": 4,
    "start_time": "2021-10-18T09:41:56.081Z"
   },
   {
    "duration": 182,
    "start_time": "2021-10-18T09:41:56.088Z"
   },
   {
    "duration": 31,
    "start_time": "2021-10-18T09:41:56.273Z"
   },
   {
    "duration": 20,
    "start_time": "2021-10-18T09:41:56.306Z"
   },
   {
    "duration": 77,
    "start_time": "2021-10-18T09:41:56.328Z"
   },
   {
    "duration": 19,
    "start_time": "2021-10-18T09:41:56.407Z"
   },
   {
    "duration": 83,
    "start_time": "2021-10-18T09:41:56.429Z"
   },
   {
    "duration": 86,
    "start_time": "2021-10-18T09:41:56.514Z"
   },
   {
    "duration": 13,
    "start_time": "2021-10-18T09:41:56.603Z"
   },
   {
    "duration": 9,
    "start_time": "2021-10-18T09:41:56.619Z"
   },
   {
    "duration": 138,
    "start_time": "2021-10-18T09:41:56.631Z"
   },
   {
    "duration": 14,
    "start_time": "2021-10-18T09:41:56.772Z"
   },
   {
    "duration": 42,
    "start_time": "2021-10-18T09:41:56.800Z"
   },
   {
    "duration": 11,
    "start_time": "2021-10-18T09:41:56.845Z"
   },
   {
    "duration": 13,
    "start_time": "2021-10-18T09:41:56.859Z"
   },
   {
    "duration": 26,
    "start_time": "2021-10-18T09:41:56.902Z"
   },
   {
    "duration": 14,
    "start_time": "2021-10-18T09:41:56.930Z"
   },
   {
    "duration": 68,
    "start_time": "2021-10-18T09:41:56.947Z"
   },
   {
    "duration": 27,
    "start_time": "2021-10-18T09:41:57.018Z"
   },
   {
    "duration": 514,
    "start_time": "2021-10-18T09:41:57.049Z"
   },
   {
    "duration": 6,
    "start_time": "2021-10-18T09:42:24.418Z"
   },
   {
    "duration": 7,
    "start_time": "2021-10-18T09:42:28.422Z"
   },
   {
    "duration": 166,
    "start_time": "2021-10-18T09:42:53.041Z"
   },
   {
    "duration": 21,
    "start_time": "2021-10-18T09:42:54.778Z"
   },
   {
    "duration": 23,
    "start_time": "2021-10-18T09:43:01.728Z"
   },
   {
    "duration": 53,
    "start_time": "2021-10-18T09:43:02.329Z"
   },
   {
    "duration": 5,
    "start_time": "2021-10-18T09:43:19.624Z"
   },
   {
    "duration": 175,
    "start_time": "2021-10-18T09:43:19.633Z"
   },
   {
    "duration": 21,
    "start_time": "2021-10-18T09:43:19.811Z"
   },
   {
    "duration": 28,
    "start_time": "2021-10-18T09:43:19.835Z"
   },
   {
    "duration": 41,
    "start_time": "2021-10-18T09:43:19.866Z"
   },
   {
    "duration": 66,
    "start_time": "2021-10-18T09:43:19.909Z"
   },
   {
    "duration": 96,
    "start_time": "2021-10-18T09:43:19.977Z"
   },
   {
    "duration": 25,
    "start_time": "2021-10-18T09:43:20.075Z"
   },
   {
    "duration": 8,
    "start_time": "2021-10-18T09:43:20.103Z"
   },
   {
    "duration": 350,
    "start_time": "2021-10-18T09:43:20.114Z"
   },
   {
    "duration": 111,
    "start_time": "2021-10-18T09:44:29.383Z"
   },
   {
    "duration": 14,
    "start_time": "2021-10-18T09:44:31.666Z"
   },
   {
    "duration": 14,
    "start_time": "2021-10-18T09:44:45.052Z"
   },
   {
    "duration": 43,
    "start_time": "2021-10-18T09:44:50.163Z"
   },
   {
    "duration": 12,
    "start_time": "2021-10-18T09:44:50.542Z"
   },
   {
    "duration": 13,
    "start_time": "2021-10-18T09:44:51.170Z"
   },
   {
    "duration": 21,
    "start_time": "2021-10-18T09:44:51.482Z"
   },
   {
    "duration": 13,
    "start_time": "2021-10-18T09:44:52.060Z"
   },
   {
    "duration": 6,
    "start_time": "2021-10-18T09:44:52.549Z"
   },
   {
    "duration": 6,
    "start_time": "2021-10-18T09:44:52.926Z"
   },
   {
    "duration": 485,
    "start_time": "2021-10-18T09:44:53.577Z"
   },
   {
    "duration": 9098,
    "start_time": "2021-10-18T09:44:55.568Z"
   },
   {
    "duration": 649,
    "start_time": "2021-10-18T09:45:11.483Z"
   },
   {
    "duration": 11,
    "start_time": "2021-10-18T09:45:49.877Z"
   },
   {
    "duration": 117,
    "start_time": "2021-10-18T09:45:50.460Z"
   },
   {
    "duration": 14,
    "start_time": "2021-10-18T09:45:50.673Z"
   },
   {
    "duration": 35,
    "start_time": "2021-10-18T09:45:51.505Z"
   },
   {
    "duration": 13,
    "start_time": "2021-10-18T09:45:51.943Z"
   },
   {
    "duration": 14,
    "start_time": "2021-10-18T09:45:52.380Z"
   },
   {
    "duration": 23,
    "start_time": "2021-10-18T09:45:52.607Z"
   },
   {
    "duration": 13,
    "start_time": "2021-10-18T09:45:53.059Z"
   },
   {
    "duration": 8,
    "start_time": "2021-10-18T09:45:53.248Z"
   },
   {
    "duration": 7,
    "start_time": "2021-10-18T09:45:53.470Z"
   },
   {
    "duration": 502,
    "start_time": "2021-10-18T09:45:53.711Z"
   },
   {
    "duration": 669,
    "start_time": "2021-10-18T09:45:54.586Z"
   },
   {
    "duration": 10,
    "start_time": "2021-10-18T09:48:54.218Z"
   },
   {
    "duration": 115,
    "start_time": "2021-10-18T09:48:56.039Z"
   },
   {
    "duration": 342,
    "start_time": "2021-10-18T09:51:17.344Z"
   },
   {
    "duration": 335,
    "start_time": "2021-10-18T09:51:25.501Z"
   },
   {
    "duration": 2344,
    "start_time": "2021-10-18T09:51:32.283Z"
   },
   {
    "duration": -78,
    "start_time": "2021-10-18T09:51:34.708Z"
   },
   {
    "duration": 113,
    "start_time": "2021-10-18T09:51:35.050Z"
   },
   {
    "duration": 6268,
    "start_time": "2021-10-18T09:51:54.031Z"
   },
   {
    "duration": 13,
    "start_time": "2021-10-18T09:52:21.867Z"
   },
   {
    "duration": 9,
    "start_time": "2021-10-18T09:52:22.929Z"
   },
   {
    "duration": 115,
    "start_time": "2021-10-18T09:52:23.898Z"
   },
   {
    "duration": 10,
    "start_time": "2021-10-18T09:58:16.175Z"
   },
   {
    "duration": 111,
    "start_time": "2021-10-18T10:00:09.968Z"
   },
   {
    "duration": 9,
    "start_time": "2021-10-18T10:00:12.813Z"
   },
   {
    "duration": 15,
    "start_time": "2021-10-18T10:00:14.906Z"
   },
   {
    "duration": 29,
    "start_time": "2021-10-18T10:00:24.354Z"
   },
   {
    "duration": 11,
    "start_time": "2021-10-18T10:00:24.907Z"
   },
   {
    "duration": 14,
    "start_time": "2021-10-18T10:00:25.503Z"
   },
   {
    "duration": 20,
    "start_time": "2021-10-18T10:00:25.818Z"
   },
   {
    "duration": 13,
    "start_time": "2021-10-18T10:00:28.007Z"
   },
   {
    "duration": 7,
    "start_time": "2021-10-18T10:00:28.199Z"
   },
   {
    "duration": 7,
    "start_time": "2021-10-18T10:00:28.543Z"
   },
   {
    "duration": 402,
    "start_time": "2021-10-18T10:00:28.620Z"
   },
   {
    "duration": 831,
    "start_time": "2021-10-18T10:00:32.488Z"
   },
   {
    "duration": 7,
    "start_time": "2021-10-18T10:00:52.537Z"
   },
   {
    "duration": 14,
    "start_time": "2021-10-18T10:00:53.843Z"
   },
   {
    "duration": 656,
    "start_time": "2021-10-18T10:03:54.148Z"
   },
   {
    "duration": 3719,
    "start_time": "2021-10-18T10:04:48.137Z"
   },
   {
    "duration": 3524,
    "start_time": "2021-10-18T10:06:33.694Z"
   },
   {
    "duration": 5,
    "start_time": "2021-10-18T10:08:59.272Z"
   },
   {
    "duration": 172,
    "start_time": "2021-10-18T10:08:59.280Z"
   },
   {
    "duration": 22,
    "start_time": "2021-10-18T10:08:59.455Z"
   },
   {
    "duration": 39,
    "start_time": "2021-10-18T10:08:59.480Z"
   },
   {
    "duration": 19,
    "start_time": "2021-10-18T10:08:59.521Z"
   },
   {
    "duration": 94,
    "start_time": "2021-10-18T10:08:59.543Z"
   },
   {
    "duration": 87,
    "start_time": "2021-10-18T10:08:59.639Z"
   },
   {
    "duration": 12,
    "start_time": "2021-10-18T10:08:59.730Z"
   },
   {
    "duration": 16,
    "start_time": "2021-10-18T10:08:59.744Z"
   },
   {
    "duration": 135,
    "start_time": "2021-10-18T10:08:59.762Z"
   },
   {
    "duration": 14,
    "start_time": "2021-10-18T10:08:59.901Z"
   },
   {
    "duration": 41,
    "start_time": "2021-10-18T10:08:59.917Z"
   },
   {
    "duration": 41,
    "start_time": "2021-10-18T10:08:59.960Z"
   },
   {
    "duration": 16,
    "start_time": "2021-10-18T10:09:00.005Z"
   },
   {
    "duration": 26,
    "start_time": "2021-10-18T10:09:00.024Z"
   },
   {
    "duration": 13,
    "start_time": "2021-10-18T10:09:00.052Z"
   },
   {
    "duration": 38,
    "start_time": "2021-10-18T10:09:00.067Z"
   },
   {
    "duration": 19,
    "start_time": "2021-10-18T10:09:00.107Z"
   },
   {
    "duration": 3237,
    "start_time": "2021-10-18T10:09:00.128Z"
   },
   {
    "duration": 3732,
    "start_time": "2021-10-18T10:09:03.369Z"
   },
   {
    "duration": 491,
    "start_time": "2021-10-18T10:09:31.515Z"
   },
   {
    "duration": 3488,
    "start_time": "2021-10-18T10:09:35.257Z"
   },
   {
    "duration": 112,
    "start_time": "2021-10-18T10:09:44.823Z"
   },
   {
    "duration": 3592,
    "start_time": "2021-10-18T10:10:02.126Z"
   },
   {
    "duration": 735,
    "start_time": "2021-10-18T10:12:34.317Z"
   },
   {
    "duration": 3620,
    "start_time": "2021-10-18T10:12:45.882Z"
   },
   {
    "duration": 1014,
    "start_time": "2021-10-18T10:12:50.280Z"
   },
   {
    "duration": 6,
    "start_time": "2021-10-18T11:40:57.009Z"
   },
   {
    "duration": 5,
    "start_time": "2021-10-18T11:41:22.851Z"
   },
   {
    "duration": 11,
    "start_time": "2021-10-18T11:41:24.109Z"
   },
   {
    "duration": 14,
    "start_time": "2021-10-18T11:41:27.023Z"
   },
   {
    "duration": 32,
    "start_time": "2021-10-18T11:41:33.120Z"
   },
   {
    "duration": 33,
    "start_time": "2021-10-18T11:42:17.356Z"
   },
   {
    "duration": 41,
    "start_time": "2021-10-18T11:42:17.993Z"
   },
   {
    "duration": 24,
    "start_time": "2021-10-18T11:42:32.194Z"
   },
   {
    "duration": 26,
    "start_time": "2021-10-18T11:42:37.280Z"
   },
   {
    "duration": 13,
    "start_time": "2021-10-18T11:42:43.763Z"
   },
   {
    "duration": 730,
    "start_time": "2021-10-18T11:42:52.299Z"
   },
   {
    "duration": 3125,
    "start_time": "2021-10-18T11:42:53.185Z"
   },
   {
    "duration": 14,
    "start_time": "2021-10-18T11:45:06.593Z"
   },
   {
    "duration": 122,
    "start_time": "2021-10-18T11:45:41.591Z"
   },
   {
    "duration": 1356,
    "start_time": "2021-10-18T11:45:49.206Z"
   },
   {
    "duration": 15,
    "start_time": "2021-10-18T11:46:12.910Z"
   },
   {
    "duration": 327,
    "start_time": "2021-10-18T11:48:02.758Z"
   },
   {
    "duration": 28,
    "start_time": "2021-10-18T11:48:18.322Z"
   },
   {
    "duration": 735,
    "start_time": "2021-10-18T11:48:52.143Z"
   },
   {
    "duration": 26,
    "start_time": "2021-10-18T11:49:15.781Z"
   },
   {
    "duration": 38,
    "start_time": "2021-10-18T11:49:22.065Z"
   },
   {
    "duration": 29,
    "start_time": "2021-10-18T11:49:40.046Z"
   },
   {
    "duration": 342,
    "start_time": "2021-10-18T11:51:51.042Z"
   },
   {
    "duration": 6,
    "start_time": "2021-10-18T11:51:54.867Z"
   },
   {
    "duration": 11,
    "start_time": "2021-10-18T11:52:06.004Z"
   },
   {
    "duration": 5,
    "start_time": "2021-10-18T11:52:09.247Z"
   },
   {
    "duration": 188,
    "start_time": "2021-10-18T11:52:09.256Z"
   },
   {
    "duration": 22,
    "start_time": "2021-10-18T11:52:09.447Z"
   },
   {
    "duration": 47,
    "start_time": "2021-10-18T11:52:09.472Z"
   },
   {
    "duration": 19,
    "start_time": "2021-10-18T11:52:09.523Z"
   },
   {
    "duration": 108,
    "start_time": "2021-10-18T11:52:09.545Z"
   },
   {
    "duration": 99,
    "start_time": "2021-10-18T11:52:09.655Z"
   },
   {
    "duration": 13,
    "start_time": "2021-10-18T11:52:09.756Z"
   },
   {
    "duration": 36,
    "start_time": "2021-10-18T11:52:09.774Z"
   },
   {
    "duration": 131,
    "start_time": "2021-10-18T11:52:09.813Z"
   },
   {
    "duration": 18,
    "start_time": "2021-10-18T11:52:09.946Z"
   },
   {
    "duration": 4,
    "start_time": "2021-10-18T11:52:33.926Z"
   },
   {
    "duration": 6,
    "start_time": "2021-10-18T11:52:38.932Z"
   },
   {
    "duration": 6,
    "start_time": "2021-10-18T11:52:47.080Z"
   },
   {
    "duration": 6,
    "start_time": "2021-10-18T11:52:56.482Z"
   },
   {
    "duration": 5,
    "start_time": "2021-10-18T11:52:59.617Z"
   },
   {
    "duration": 6,
    "start_time": "2021-10-18T11:53:00.039Z"
   },
   {
    "duration": 4,
    "start_time": "2021-10-18T11:53:09.533Z"
   },
   {
    "duration": 278,
    "start_time": "2021-10-18T11:53:09.540Z"
   },
   {
    "duration": 20,
    "start_time": "2021-10-18T11:53:09.821Z"
   },
   {
    "duration": 21,
    "start_time": "2021-10-18T11:53:09.844Z"
   },
   {
    "duration": 53,
    "start_time": "2021-10-18T11:53:09.868Z"
   },
   {
    "duration": 95,
    "start_time": "2021-10-18T11:53:09.924Z"
   },
   {
    "duration": 95,
    "start_time": "2021-10-18T11:53:10.021Z"
   },
   {
    "duration": 20,
    "start_time": "2021-10-18T11:53:10.121Z"
   },
   {
    "duration": 12,
    "start_time": "2021-10-18T11:53:10.144Z"
   },
   {
    "duration": 225,
    "start_time": "2021-10-18T11:53:10.160Z"
   },
   {
    "duration": 28,
    "start_time": "2021-10-18T11:53:10.388Z"
   },
   {
    "duration": 7,
    "start_time": "2021-10-18T11:53:10.420Z"
   },
   {
    "duration": 13,
    "start_time": "2021-10-18T11:53:10.430Z"
   },
   {
    "duration": 82,
    "start_time": "2021-10-18T11:53:10.446Z"
   },
   {
    "duration": 43,
    "start_time": "2021-10-18T11:53:10.531Z"
   },
   {
    "duration": 56,
    "start_time": "2021-10-18T11:53:10.577Z"
   },
   {
    "duration": 833,
    "start_time": "2021-10-18T11:53:10.636Z"
   },
   {
    "duration": 3466,
    "start_time": "2021-10-18T11:53:11.471Z"
   },
   {
    "duration": 30,
    "start_time": "2021-10-18T11:53:14.940Z"
   },
   {
    "duration": 5,
    "start_time": "2021-10-18T11:53:14.973Z"
   },
   {
    "duration": 8,
    "start_time": "2021-10-18T11:53:18.411Z"
   },
   {
    "duration": 354,
    "start_time": "2021-10-18T11:54:16.268Z"
   },
   {
    "duration": 5,
    "start_time": "2021-10-18T11:54:24.874Z"
   },
   {
    "duration": 7,
    "start_time": "2021-10-18T11:55:07.918Z"
   },
   {
    "duration": 7,
    "start_time": "2021-10-18T11:55:12.745Z"
   },
   {
    "duration": 123,
    "start_time": "2021-10-18T11:55:21.676Z"
   },
   {
    "duration": 120,
    "start_time": "2021-10-18T11:56:32.383Z"
   },
   {
    "duration": 15,
    "start_time": "2021-10-18T11:56:37.008Z"
   },
   {
    "duration": 7,
    "start_time": "2021-10-18T11:56:40.907Z"
   },
   {
    "duration": 140,
    "start_time": "2021-10-18T12:01:40.262Z"
   },
   {
    "duration": 10,
    "start_time": "2021-10-18T12:01:41.950Z"
   },
   {
    "duration": 7,
    "start_time": "2021-10-18T12:01:47.204Z"
   },
   {
    "duration": 306,
    "start_time": "2021-10-18T12:01:47.214Z"
   },
   {
    "duration": 25,
    "start_time": "2021-10-18T12:01:47.524Z"
   },
   {
    "duration": 58,
    "start_time": "2021-10-18T12:01:47.552Z"
   },
   {
    "duration": 32,
    "start_time": "2021-10-18T12:01:47.614Z"
   },
   {
    "duration": 125,
    "start_time": "2021-10-18T12:01:47.649Z"
   },
   {
    "duration": 99,
    "start_time": "2021-10-18T12:01:47.778Z"
   },
   {
    "duration": 31,
    "start_time": "2021-10-18T12:01:47.881Z"
   },
   {
    "duration": 171,
    "start_time": "2021-10-18T12:01:47.917Z"
   },
   {
    "duration": 19,
    "start_time": "2021-10-18T12:01:48.090Z"
   },
   {
    "duration": 14,
    "start_time": "2021-10-18T12:01:48.112Z"
   },
   {
    "duration": 20,
    "start_time": "2021-10-18T12:01:48.129Z"
   },
   {
    "duration": 66,
    "start_time": "2021-10-18T12:01:48.152Z"
   },
   {
    "duration": 28,
    "start_time": "2021-10-18T12:01:48.221Z"
   },
   {
    "duration": 52,
    "start_time": "2021-10-18T12:01:48.251Z"
   },
   {
    "duration": 1169,
    "start_time": "2021-10-18T12:01:48.307Z"
   },
   {
    "duration": 3783,
    "start_time": "2021-10-18T12:01:49.479Z"
   },
   {
    "duration": 52,
    "start_time": "2021-10-18T12:01:53.264Z"
   },
   {
    "duration": 6,
    "start_time": "2021-10-18T12:01:53.320Z"
   },
   {
    "duration": 6,
    "start_time": "2021-10-18T12:01:53.527Z"
   },
   {
    "duration": 105,
    "start_time": "2021-10-18T12:02:27.469Z"
   },
   {
    "duration": 131,
    "start_time": "2021-10-18T12:02:29.674Z"
   },
   {
    "duration": 6,
    "start_time": "2021-10-18T12:02:37.492Z"
   },
   {
    "duration": 224,
    "start_time": "2021-10-18T12:02:46.340Z"
   },
   {
    "duration": 6,
    "start_time": "2021-10-18T12:03:08.595Z"
   },
   {
    "duration": 121,
    "start_time": "2021-10-18T12:03:15.277Z"
   },
   {
    "duration": 5,
    "start_time": "2021-10-18T12:03:19.430Z"
   },
   {
    "duration": 7,
    "start_time": "2021-10-18T12:03:27.140Z"
   },
   {
    "duration": 9,
    "start_time": "2021-10-18T12:03:32.099Z"
   },
   {
    "duration": 8,
    "start_time": "2021-10-18T12:03:40.107Z"
   },
   {
    "duration": 315,
    "start_time": "2021-10-18T12:03:47.064Z"
   },
   {
    "duration": 5,
    "start_time": "2021-10-18T12:03:51.617Z"
   },
   {
    "duration": 3,
    "start_time": "2021-10-18T12:05:49.631Z"
   },
   {
    "duration": 13,
    "start_time": "2021-10-18T12:06:12.784Z"
   },
   {
    "duration": 378,
    "start_time": "2021-10-18T12:06:29.580Z"
   },
   {
    "duration": 14,
    "start_time": "2021-10-18T12:06:32.102Z"
   },
   {
    "duration": 14,
    "start_time": "2021-10-18T12:06:42.687Z"
   },
   {
    "duration": 116,
    "start_time": "2021-10-18T12:07:58.132Z"
   },
   {
    "duration": 80,
    "start_time": "2021-10-18T12:08:04.744Z"
   },
   {
    "duration": 238,
    "start_time": "2021-10-18T12:09:12.685Z"
   },
   {
    "duration": 12,
    "start_time": "2021-10-18T12:09:28.434Z"
   },
   {
    "duration": 218,
    "start_time": "2021-10-18T12:09:33.281Z"
   },
   {
    "duration": 11,
    "start_time": "2021-10-18T12:09:33.820Z"
   },
   {
    "duration": 228,
    "start_time": "2021-10-18T12:09:40.280Z"
   },
   {
    "duration": 54,
    "start_time": "2021-10-18T12:10:03.245Z"
   },
   {
    "duration": 45,
    "start_time": "2021-10-18T12:10:06.357Z"
   },
   {
    "duration": 43,
    "start_time": "2021-10-18T12:10:06.728Z"
   },
   {
    "duration": 41,
    "start_time": "2021-10-18T12:10:11.409Z"
   },
   {
    "duration": 32,
    "start_time": "2021-10-18T12:10:12.782Z"
   },
   {
    "duration": 4,
    "start_time": "2021-10-18T12:10:17.118Z"
   },
   {
    "duration": 180,
    "start_time": "2021-10-18T12:10:17.125Z"
   },
   {
    "duration": 19,
    "start_time": "2021-10-18T12:10:17.307Z"
   },
   {
    "duration": 20,
    "start_time": "2021-10-18T12:10:17.329Z"
   },
   {
    "duration": 53,
    "start_time": "2021-10-18T12:10:17.352Z"
   },
   {
    "duration": 67,
    "start_time": "2021-10-18T12:10:17.407Z"
   },
   {
    "duration": 90,
    "start_time": "2021-10-18T12:10:17.477Z"
   },
   {
    "duration": 9,
    "start_time": "2021-10-18T12:10:17.570Z"
   },
   {
    "duration": 136,
    "start_time": "2021-10-18T12:10:17.581Z"
   },
   {
    "duration": 16,
    "start_time": "2021-10-18T12:10:17.720Z"
   },
   {
    "duration": 15,
    "start_time": "2021-10-18T12:10:17.738Z"
   },
   {
    "duration": 25,
    "start_time": "2021-10-18T12:10:17.755Z"
   },
   {
    "duration": 47,
    "start_time": "2021-10-18T12:10:17.782Z"
   },
   {
    "duration": 26,
    "start_time": "2021-10-18T12:10:17.832Z"
   },
   {
    "duration": 50,
    "start_time": "2021-10-18T12:10:17.860Z"
   },
   {
    "duration": 755,
    "start_time": "2021-10-18T12:10:17.913Z"
   },
   {
    "duration": 3696,
    "start_time": "2021-10-18T12:10:18.670Z"
   },
   {
    "duration": 49,
    "start_time": "2021-10-18T12:10:22.368Z"
   },
   {
    "duration": 5,
    "start_time": "2021-10-18T12:10:22.420Z"
   },
   {
    "duration": 9,
    "start_time": "2021-10-18T12:10:22.427Z"
   },
   {
    "duration": 24,
    "start_time": "2021-10-18T12:10:22.439Z"
   },
   {
    "duration": 34,
    "start_time": "2021-10-18T12:10:22.466Z"
   },
   {
    "duration": 56,
    "start_time": "2021-10-18T12:10:22.504Z"
   },
   {
    "duration": 77,
    "start_time": "2021-10-18T12:15:39.432Z"
   },
   {
    "duration": 63,
    "start_time": "2021-10-18T12:17:54.533Z"
   },
   {
    "duration": 61,
    "start_time": "2021-10-18T12:17:55.071Z"
   },
   {
    "duration": 14,
    "start_time": "2021-10-18T12:19:38.448Z"
   },
   {
    "duration": 31,
    "start_time": "2021-10-18T12:21:16.321Z"
   },
   {
    "duration": 35,
    "start_time": "2021-10-18T12:22:57.001Z"
   },
   {
    "duration": 105,
    "start_time": "2021-10-18T12:24:01.652Z"
   },
   {
    "duration": 67,
    "start_time": "2021-10-18T12:24:07.154Z"
   },
   {
    "duration": 43,
    "start_time": "2021-10-18T12:24:28.642Z"
   },
   {
    "duration": 45,
    "start_time": "2021-10-18T12:24:37.175Z"
   },
   {
    "duration": 31,
    "start_time": "2021-10-18T12:25:17.186Z"
   },
   {
    "duration": 33,
    "start_time": "2021-10-18T12:25:31.562Z"
   },
   {
    "duration": 44,
    "start_time": "2021-10-18T12:25:45.771Z"
   },
   {
    "duration": 620,
    "start_time": "2021-10-18T12:26:08.506Z"
   },
   {
    "duration": 433,
    "start_time": "2021-10-18T12:26:12.491Z"
   },
   {
    "duration": 40,
    "start_time": "2021-10-18T12:26:20.515Z"
   },
   {
    "duration": 205,
    "start_time": "2021-10-18T12:26:36.451Z"
   },
   {
    "duration": 361,
    "start_time": "2021-10-18T12:27:02.274Z"
   },
   {
    "duration": 370,
    "start_time": "2021-10-18T12:27:10.834Z"
   },
   {
    "duration": 105,
    "start_time": "2021-10-18T12:28:13.047Z"
   },
   {
    "duration": 42,
    "start_time": "2021-10-18T12:28:29.775Z"
   },
   {
    "duration": 140,
    "start_time": "2021-10-18T12:28:38.168Z"
   },
   {
    "duration": 44,
    "start_time": "2021-10-18T12:28:41.309Z"
   },
   {
    "duration": 50,
    "start_time": "2021-10-18T12:28:51.297Z"
   },
   {
    "duration": 3,
    "start_time": "2021-10-18T12:29:11.694Z"
   },
   {
    "duration": 4,
    "start_time": "2021-10-18T12:29:59.168Z"
   },
   {
    "duration": 15,
    "start_time": "2021-10-18T12:30:30.825Z"
   },
   {
    "duration": 44,
    "start_time": "2021-10-18T12:31:13.698Z"
   },
   {
    "duration": 21,
    "start_time": "2021-10-18T12:31:27.448Z"
   },
   {
    "duration": 34,
    "start_time": "2021-10-18T12:31:43.557Z"
   },
   {
    "duration": 69,
    "start_time": "2021-10-18T13:13:23.771Z"
   },
   {
    "duration": 302,
    "start_time": "2021-10-18T13:14:16.114Z"
   },
   {
    "duration": 682,
    "start_time": "2021-10-18T13:14:23.954Z"
   },
   {
    "duration": 634,
    "start_time": "2021-10-18T13:16:46.870Z"
   },
   {
    "duration": 456,
    "start_time": "2021-10-18T13:16:54.053Z"
   },
   {
    "duration": 537,
    "start_time": "2021-10-18T13:16:57.743Z"
   },
   {
    "duration": 633,
    "start_time": "2021-10-18T13:17:07.410Z"
   },
   {
    "duration": 544,
    "start_time": "2021-10-18T13:17:22.459Z"
   },
   {
    "duration": 593,
    "start_time": "2021-10-18T13:17:32.477Z"
   },
   {
    "duration": 544,
    "start_time": "2021-10-18T13:17:53.022Z"
   },
   {
    "duration": 46,
    "start_time": "2021-10-18T13:18:09.574Z"
   },
   {
    "duration": 515,
    "start_time": "2021-10-18T13:18:11.206Z"
   },
   {
    "duration": 1168,
    "start_time": "2021-10-18T13:18:30.354Z"
   },
   {
    "duration": 494,
    "start_time": "2021-10-18T13:18:41.570Z"
   },
   {
    "duration": 524,
    "start_time": "2021-10-18T13:19:13.465Z"
   },
   {
    "duration": 513,
    "start_time": "2021-10-18T13:19:20.480Z"
   },
   {
    "duration": 14,
    "start_time": "2021-10-18T13:19:35.469Z"
   },
   {
    "duration": 72,
    "start_time": "2021-10-18T13:19:36.497Z"
   },
   {
    "duration": 69,
    "start_time": "2021-10-18T13:19:56.698Z"
   },
   {
    "duration": 533,
    "start_time": "2021-10-18T13:20:30.404Z"
   },
   {
    "duration": 641,
    "start_time": "2021-10-18T13:21:01.995Z"
   },
   {
    "duration": 529,
    "start_time": "2021-10-18T13:21:25.034Z"
   },
   {
    "duration": 16,
    "start_time": "2021-10-18T13:21:27.081Z"
   },
   {
    "duration": 63,
    "start_time": "2021-10-18T13:21:29.893Z"
   },
   {
    "duration": 535,
    "start_time": "2021-10-18T13:21:30.652Z"
   },
   {
    "duration": 71,
    "start_time": "2021-10-18T13:21:35.473Z"
   },
   {
    "duration": 9,
    "start_time": "2021-10-18T13:28:11.330Z"
   },
   {
    "duration": 7,
    "start_time": "2021-10-18T13:29:16.366Z"
   },
   {
    "duration": 11,
    "start_time": "2021-10-18T13:29:22.660Z"
   },
   {
    "duration": 5,
    "start_time": "2021-10-18T13:29:32.391Z"
   },
   {
    "duration": 10,
    "start_time": "2021-10-18T13:29:33.719Z"
   },
   {
    "duration": 111,
    "start_time": "2021-10-18T13:32:15.765Z"
   },
   {
    "duration": 229,
    "start_time": "2021-10-18T13:32:18.964Z"
   },
   {
    "duration": 808,
    "start_time": "2021-10-18T13:32:36.560Z"
   },
   {
    "duration": 232,
    "start_time": "2021-10-18T13:32:43.435Z"
   },
   {
    "duration": 359,
    "start_time": "2021-10-18T13:33:45.389Z"
   },
   {
    "duration": 206,
    "start_time": "2021-10-18T13:34:40.773Z"
   },
   {
    "duration": 202,
    "start_time": "2021-10-18T13:35:07.437Z"
   },
   {
    "duration": 239,
    "start_time": "2021-10-18T13:35:16.149Z"
   },
   {
    "duration": 13,
    "start_time": "2021-10-18T13:37:34.409Z"
   },
   {
    "duration": 18,
    "start_time": "2021-10-18T13:37:40.300Z"
   },
   {
    "duration": 12,
    "start_time": "2021-10-18T13:37:52.313Z"
   },
   {
    "duration": 22,
    "start_time": "2021-10-18T13:38:14.501Z"
   },
   {
    "duration": 6,
    "start_time": "2021-10-18T13:38:21.858Z"
   },
   {
    "duration": 20,
    "start_time": "2021-10-18T13:38:22.713Z"
   },
   {
    "duration": 281,
    "start_time": "2021-10-18T13:38:24.741Z"
   },
   {
    "duration": 231,
    "start_time": "2021-10-18T13:38:35.528Z"
   },
   {
    "duration": 365,
    "start_time": "2021-10-18T13:38:39.835Z"
   },
   {
    "duration": 325,
    "start_time": "2021-10-18T13:38:43.144Z"
   },
   {
    "duration": 337,
    "start_time": "2021-10-18T13:39:05.549Z"
   },
   {
    "duration": 339,
    "start_time": "2021-10-18T13:39:08.072Z"
   },
   {
    "duration": 14,
    "start_time": "2021-10-18T13:43:37.266Z"
   },
   {
    "duration": 11,
    "start_time": "2021-10-18T13:43:49.100Z"
   },
   {
    "duration": 5,
    "start_time": "2021-10-18T13:44:02.420Z"
   },
   {
    "duration": 14,
    "start_time": "2021-10-18T13:44:08.936Z"
   },
   {
    "duration": 354,
    "start_time": "2021-10-18T13:44:47.860Z"
   },
   {
    "duration": 16,
    "start_time": "2021-10-18T13:44:50.211Z"
   },
   {
    "duration": 4,
    "start_time": "2021-10-18T14:39:37.876Z"
   },
   {
    "duration": 190,
    "start_time": "2021-10-18T14:39:37.887Z"
   },
   {
    "duration": 36,
    "start_time": "2021-10-18T14:39:38.081Z"
   },
   {
    "duration": 22,
    "start_time": "2021-10-18T14:39:38.120Z"
   },
   {
    "duration": 19,
    "start_time": "2021-10-18T14:39:38.145Z"
   },
   {
    "duration": 76,
    "start_time": "2021-10-18T14:39:38.201Z"
   },
   {
    "duration": 88,
    "start_time": "2021-10-18T14:39:38.280Z"
   },
   {
    "duration": 9,
    "start_time": "2021-10-18T14:39:38.370Z"
   },
   {
    "duration": 128,
    "start_time": "2021-10-18T14:39:38.381Z"
   },
   {
    "duration": 17,
    "start_time": "2021-10-18T14:39:38.513Z"
   },
   {
    "duration": 13,
    "start_time": "2021-10-18T14:39:38.534Z"
   },
   {
    "duration": 15,
    "start_time": "2021-10-18T14:39:38.549Z"
   },
   {
    "duration": 62,
    "start_time": "2021-10-18T14:39:38.566Z"
   },
   {
    "duration": 27,
    "start_time": "2021-10-18T14:39:38.630Z"
   },
   {
    "duration": 51,
    "start_time": "2021-10-18T14:39:38.659Z"
   },
   {
    "duration": 751,
    "start_time": "2021-10-18T14:39:38.713Z"
   },
   {
    "duration": 3560,
    "start_time": "2021-10-18T14:39:39.466Z"
   },
   {
    "duration": 30,
    "start_time": "2021-10-18T14:39:43.028Z"
   },
   {
    "duration": 5,
    "start_time": "2021-10-18T14:39:43.060Z"
   },
   {
    "duration": 34,
    "start_time": "2021-10-18T14:39:43.067Z"
   },
   {
    "duration": 11,
    "start_time": "2021-10-18T14:39:43.104Z"
   },
   {
    "duration": 12,
    "start_time": "2021-10-18T14:39:43.118Z"
   },
   {
    "duration": 86,
    "start_time": "2021-10-18T14:39:43.133Z"
   },
   {
    "duration": 43,
    "start_time": "2021-10-18T14:39:43.221Z"
   },
   {
    "duration": 33,
    "start_time": "2021-10-18T14:39:43.267Z"
   },
   {
    "duration": 4,
    "start_time": "2021-10-18T14:39:43.303Z"
   },
   {
    "duration": 61,
    "start_time": "2021-10-18T14:39:43.310Z"
   },
   {
    "duration": 543,
    "start_time": "2021-10-18T14:39:43.405Z"
   },
   {
    "duration": 14,
    "start_time": "2021-10-18T14:39:43.951Z"
   },
   {
    "duration": 95,
    "start_time": "2021-10-18T14:39:43.968Z"
   },
   {
    "duration": 573,
    "start_time": "2021-10-18T14:39:44.066Z"
   },
   {
    "duration": 9,
    "start_time": "2021-10-18T14:39:44.641Z"
   },
   {
    "duration": 8,
    "start_time": "2021-10-18T14:39:44.653Z"
   },
   {
    "duration": 31,
    "start_time": "2021-10-18T14:39:44.678Z"
   },
   {
    "duration": 354,
    "start_time": "2021-10-18T14:39:44.712Z"
   },
   {
    "duration": 14,
    "start_time": "2021-10-18T14:39:45.069Z"
   },
   {
    "duration": 316,
    "start_time": "2021-10-18T14:41:24.742Z"
   },
   {
    "duration": 6,
    "start_time": "2021-10-18T14:41:34.182Z"
   },
   {
    "duration": 6,
    "start_time": "2021-10-18T14:41:45.016Z"
   },
   {
    "duration": 7,
    "start_time": "2021-10-18T14:42:21.083Z"
   },
   {
    "duration": 7,
    "start_time": "2021-10-18T14:44:14.654Z"
   },
   {
    "duration": 7,
    "start_time": "2021-10-18T14:44:26.903Z"
   },
   {
    "duration": 9,
    "start_time": "2021-10-18T14:45:12.301Z"
   },
   {
    "duration": 8,
    "start_time": "2021-10-18T14:45:30.916Z"
   },
   {
    "duration": 8,
    "start_time": "2021-10-18T14:46:17.877Z"
   },
   {
    "duration": 7,
    "start_time": "2021-10-18T14:47:06.344Z"
   },
   {
    "duration": 681,
    "start_time": "2021-10-18T14:48:41.381Z"
   },
   {
    "duration": 192,
    "start_time": "2021-10-18T14:49:15.292Z"
   },
   {
    "duration": 190,
    "start_time": "2021-10-18T14:49:36.137Z"
   },
   {
    "duration": 182,
    "start_time": "2021-10-18T14:50:19.671Z"
   },
   {
    "duration": 666,
    "start_time": "2021-10-18T14:50:53.457Z"
   },
   {
    "duration": 180,
    "start_time": "2021-10-18T14:51:41.084Z"
   },
   {
    "duration": 179,
    "start_time": "2021-10-18T14:51:55.163Z"
   },
   {
    "duration": 181,
    "start_time": "2021-10-18T15:03:00.131Z"
   },
   {
    "duration": 113,
    "start_time": "2021-10-19T08:27:09.250Z"
   },
   {
    "duration": 511,
    "start_time": "2021-10-19T08:28:10.021Z"
   },
   {
    "duration": 1498,
    "start_time": "2021-10-19T08:28:14.046Z"
   },
   {
    "duration": 131,
    "start_time": "2021-10-19T08:28:15.546Z"
   },
   {
    "duration": 14,
    "start_time": "2021-10-19T08:28:15.679Z"
   },
   {
    "duration": 23,
    "start_time": "2021-10-19T08:28:15.695Z"
   },
   {
    "duration": 15,
    "start_time": "2021-10-19T08:28:15.720Z"
   },
   {
    "duration": 52,
    "start_time": "2021-10-19T08:28:15.745Z"
   },
   {
    "duration": 70,
    "start_time": "2021-10-19T08:28:15.798Z"
   },
   {
    "duration": 8,
    "start_time": "2021-10-19T08:28:15.871Z"
   },
   {
    "duration": 87,
    "start_time": "2021-10-19T08:28:15.881Z"
   },
   {
    "duration": 10,
    "start_time": "2021-10-19T08:28:15.970Z"
   },
   {
    "duration": 8,
    "start_time": "2021-10-19T08:28:15.982Z"
   },
   {
    "duration": 13,
    "start_time": "2021-10-19T08:28:15.992Z"
   },
   {
    "duration": 50,
    "start_time": "2021-10-19T08:28:16.007Z"
   },
   {
    "duration": 19,
    "start_time": "2021-10-19T08:28:16.059Z"
   },
   {
    "duration": 21,
    "start_time": "2021-10-19T08:28:16.080Z"
   },
   {
    "duration": 769,
    "start_time": "2021-10-19T08:28:16.103Z"
   },
   {
    "duration": -50,
    "start_time": "2021-10-19T08:28:16.924Z"
   },
   {
    "duration": -58,
    "start_time": "2021-10-19T08:28:16.933Z"
   },
   {
    "duration": -68,
    "start_time": "2021-10-19T08:28:16.944Z"
   },
   {
    "duration": -75,
    "start_time": "2021-10-19T08:28:16.952Z"
   },
   {
    "duration": -87,
    "start_time": "2021-10-19T08:28:16.965Z"
   },
   {
    "duration": -98,
    "start_time": "2021-10-19T08:28:16.976Z"
   },
   {
    "duration": -104,
    "start_time": "2021-10-19T08:28:16.983Z"
   },
   {
    "duration": -108,
    "start_time": "2021-10-19T08:28:16.988Z"
   },
   {
    "duration": -112,
    "start_time": "2021-10-19T08:28:16.993Z"
   },
   {
    "duration": -116,
    "start_time": "2021-10-19T08:28:16.998Z"
   },
   {
    "duration": -118,
    "start_time": "2021-10-19T08:28:17.001Z"
   },
   {
    "duration": -123,
    "start_time": "2021-10-19T08:28:17.006Z"
   },
   {
    "duration": -126,
    "start_time": "2021-10-19T08:28:17.010Z"
   },
   {
    "duration": -129,
    "start_time": "2021-10-19T08:28:17.014Z"
   },
   {
    "duration": -134,
    "start_time": "2021-10-19T08:28:17.020Z"
   },
   {
    "duration": -150,
    "start_time": "2021-10-19T08:28:17.037Z"
   },
   {
    "duration": -155,
    "start_time": "2021-10-19T08:28:17.043Z"
   },
   {
    "duration": -159,
    "start_time": "2021-10-19T08:28:17.048Z"
   },
   {
    "duration": -164,
    "start_time": "2021-10-19T08:28:17.054Z"
   },
   {
    "duration": -171,
    "start_time": "2021-10-19T08:28:17.062Z"
   },
   {
    "duration": -175,
    "start_time": "2021-10-19T08:28:17.067Z"
   },
   {
    "duration": 9,
    "start_time": "2021-10-19T08:28:27.217Z"
   },
   {
    "duration": 9,
    "start_time": "2021-10-19T08:28:41.021Z"
   },
   {
    "duration": 3,
    "start_time": "2021-10-19T08:28:52.255Z"
   },
   {
    "duration": 123,
    "start_time": "2021-10-19T08:28:52.397Z"
   },
   {
    "duration": 15,
    "start_time": "2021-10-19T08:28:52.789Z"
   },
   {
    "duration": 15,
    "start_time": "2021-10-19T08:28:53.154Z"
   },
   {
    "duration": 14,
    "start_time": "2021-10-19T08:28:53.515Z"
   },
   {
    "duration": 53,
    "start_time": "2021-10-19T08:28:53.701Z"
   },
   {
    "duration": 59,
    "start_time": "2021-10-19T08:28:53.899Z"
   },
   {
    "duration": 8,
    "start_time": "2021-10-19T08:28:54.296Z"
   },
   {
    "duration": 70,
    "start_time": "2021-10-19T08:28:54.715Z"
   },
   {
    "duration": 10,
    "start_time": "2021-10-19T08:28:54.948Z"
   },
   {
    "duration": 3,
    "start_time": "2021-10-19T08:28:55.771Z"
   },
   {
    "duration": 11,
    "start_time": "2021-10-19T08:28:56.185Z"
   },
   {
    "duration": 23,
    "start_time": "2021-10-19T08:28:56.622Z"
   },
   {
    "duration": 18,
    "start_time": "2021-10-19T08:28:57.052Z"
   },
   {
    "duration": 18,
    "start_time": "2021-10-19T08:28:57.259Z"
   },
   {
    "duration": 673,
    "start_time": "2021-10-19T08:28:57.502Z"
   },
   {
    "duration": -19,
    "start_time": "2021-10-19T08:28:58.196Z"
   },
   {
    "duration": 21,
    "start_time": "2021-10-19T08:28:58.181Z"
   },
   {
    "duration": 4,
    "start_time": "2021-10-19T08:28:58.405Z"
   },
   {
    "duration": 3,
    "start_time": "2021-10-19T08:28:58.641Z"
   },
   {
    "duration": 8,
    "start_time": "2021-10-19T08:28:59.104Z"
   },
   {
    "duration": 10,
    "start_time": "2021-10-19T08:28:59.328Z"
   },
   {
    "duration": 37,
    "start_time": "2021-10-19T08:28:59.542Z"
   },
   {
    "duration": 26,
    "start_time": "2021-10-19T08:28:59.780Z"
   },
   {
    "duration": 10,
    "start_time": "2021-10-19T08:29:00.725Z"
   },
   {
    "duration": 3,
    "start_time": "2021-10-19T08:29:00.949Z"
   },
   {
    "duration": 53,
    "start_time": "2021-10-19T08:29:01.149Z"
   },
   {
    "duration": 277,
    "start_time": "2021-10-19T08:29:01.348Z"
   },
   {
    "duration": 10,
    "start_time": "2021-10-19T08:29:01.798Z"
   },
   {
    "duration": 50,
    "start_time": "2021-10-19T08:29:02.005Z"
   },
   {
    "duration": 715,
    "start_time": "2021-10-19T08:29:02.208Z"
   },
   {
    "duration": 9,
    "start_time": "2021-10-19T08:29:02.917Z"
   },
   {
    "duration": 9,
    "start_time": "2021-10-19T08:29:03.268Z"
   },
   {
    "duration": 14,
    "start_time": "2021-10-19T08:29:06.603Z"
   },
   {
    "duration": 443,
    "start_time": "2021-10-19T08:29:06.919Z"
   },
   {
    "duration": 10,
    "start_time": "2021-10-19T08:29:07.741Z"
   },
   {
    "duration": 567,
    "start_time": "2021-10-19T08:29:07.957Z"
   },
   {
    "duration": 10,
    "start_time": "2021-10-19T08:29:08.849Z"
   },
   {
    "duration": 4,
    "start_time": "2021-10-19T08:29:17.394Z"
   },
   {
    "duration": 118,
    "start_time": "2021-10-19T08:29:19.021Z"
   },
   {
    "duration": 14,
    "start_time": "2021-10-19T08:29:19.904Z"
   },
   {
    "duration": 16,
    "start_time": "2021-10-19T08:29:20.422Z"
   },
   {
    "duration": 15,
    "start_time": "2021-10-19T08:29:20.918Z"
   },
   {
    "duration": 52,
    "start_time": "2021-10-19T08:29:21.221Z"
   },
   {
    "duration": 54,
    "start_time": "2021-10-19T08:29:21.483Z"
   },
   {
    "duration": 9,
    "start_time": "2021-10-19T08:29:23.425Z"
   },
   {
    "duration": 68,
    "start_time": "2021-10-19T08:29:23.860Z"
   },
   {
    "duration": 10,
    "start_time": "2021-10-19T08:29:24.116Z"
   },
   {
    "duration": 3,
    "start_time": "2021-10-19T08:29:25.102Z"
   },
   {
    "duration": 11,
    "start_time": "2021-10-19T08:29:25.631Z"
   },
   {
    "duration": 25,
    "start_time": "2021-10-19T08:29:26.523Z"
   },
   {
    "duration": 20,
    "start_time": "2021-10-19T08:29:27.187Z"
   },
   {
    "duration": 18,
    "start_time": "2021-10-19T08:29:27.866Z"
   },
   {
    "duration": 687,
    "start_time": "2021-10-19T08:29:28.413Z"
   },
   {
    "duration": 2158,
    "start_time": "2021-10-19T08:29:39.260Z"
   },
   {
    "duration": 23,
    "start_time": "2021-10-19T08:29:50.620Z"
   },
   {
    "duration": 4,
    "start_time": "2021-10-19T08:29:50.840Z"
   },
   {
    "duration": 4,
    "start_time": "2021-10-19T08:29:51.161Z"
   },
   {
    "duration": 7,
    "start_time": "2021-10-19T08:29:51.800Z"
   },
   {
    "duration": 9,
    "start_time": "2021-10-19T08:29:52.193Z"
   },
   {
    "duration": 39,
    "start_time": "2021-10-19T08:29:58.794Z"
   },
   {
    "duration": 26,
    "start_time": "2021-10-19T08:29:59.361Z"
   },
   {
    "duration": 9,
    "start_time": "2021-10-19T08:30:03.358Z"
   },
   {
    "duration": 2,
    "start_time": "2021-10-19T08:30:03.588Z"
   },
   {
    "duration": 43,
    "start_time": "2021-10-19T08:30:03.862Z"
   },
   {
    "duration": 294,
    "start_time": "2021-10-19T08:30:04.127Z"
   },
   {
    "duration": 9,
    "start_time": "2021-10-19T08:30:10.914Z"
   },
   {
    "duration": 52,
    "start_time": "2021-10-19T08:30:11.606Z"
   },
   {
    "duration": 267,
    "start_time": "2021-10-19T08:30:12.189Z"
   },
   {
    "duration": 6,
    "start_time": "2021-10-19T08:30:14.188Z"
   },
   {
    "duration": 4,
    "start_time": "2021-10-19T08:30:14.536Z"
   },
   {
    "duration": 14,
    "start_time": "2021-10-19T08:30:15.263Z"
   },
   {
    "duration": 471,
    "start_time": "2021-10-19T08:30:15.883Z"
   },
   {
    "duration": 10,
    "start_time": "2021-10-19T08:30:18.655Z"
   },
   {
    "duration": 106,
    "start_time": "2021-10-19T08:30:18.875Z"
   },
   {
    "duration": 9,
    "start_time": "2021-10-19T08:30:19.825Z"
   },
   {
    "duration": 3,
    "start_time": "2021-10-19T08:31:52.542Z"
   },
   {
    "duration": 119,
    "start_time": "2021-10-19T08:31:53.230Z"
   },
   {
    "duration": 13,
    "start_time": "2021-10-19T08:31:53.762Z"
   },
   {
    "duration": 14,
    "start_time": "2021-10-19T08:31:54.131Z"
   },
   {
    "duration": 15,
    "start_time": "2021-10-19T08:31:54.526Z"
   },
   {
    "duration": 49,
    "start_time": "2021-10-19T08:31:54.739Z"
   },
   {
    "duration": 53,
    "start_time": "2021-10-19T08:31:54.960Z"
   },
   {
    "duration": 8,
    "start_time": "2021-10-19T08:31:55.314Z"
   },
   {
    "duration": 72,
    "start_time": "2021-10-19T08:31:55.730Z"
   },
   {
    "duration": 9,
    "start_time": "2021-10-19T08:31:55.925Z"
   },
   {
    "duration": 4,
    "start_time": "2021-10-19T08:31:56.707Z"
   },
   {
    "duration": 10,
    "start_time": "2021-10-19T08:31:57.170Z"
   },
   {
    "duration": 24,
    "start_time": "2021-10-19T08:31:57.598Z"
   },
   {
    "duration": 18,
    "start_time": "2021-10-19T08:31:57.993Z"
   },
   {
    "duration": 18,
    "start_time": "2021-10-19T08:31:58.191Z"
   },
   {
    "duration": 604,
    "start_time": "2021-10-19T08:31:58.397Z"
   },
   {
    "duration": 1869,
    "start_time": "2021-10-19T08:31:59.172Z"
   },
   {
    "duration": 21,
    "start_time": "2021-10-19T08:32:03.912Z"
   },
   {
    "duration": 3,
    "start_time": "2021-10-19T08:32:04.126Z"
   },
   {
    "duration": 4,
    "start_time": "2021-10-19T08:32:04.350Z"
   },
   {
    "duration": 8,
    "start_time": "2021-10-19T08:32:04.771Z"
   },
   {
    "duration": 9,
    "start_time": "2021-10-19T08:32:04.953Z"
   },
   {
    "duration": 41,
    "start_time": "2021-10-19T08:32:05.164Z"
   },
   {
    "duration": 26,
    "start_time": "2021-10-19T08:32:05.353Z"
   },
   {
    "duration": 9,
    "start_time": "2021-10-19T08:32:06.384Z"
   },
   {
    "duration": 3,
    "start_time": "2021-10-19T08:32:06.563Z"
   },
   {
    "duration": 46,
    "start_time": "2021-10-19T08:32:06.773Z"
   },
   {
    "duration": 295,
    "start_time": "2021-10-19T08:32:06.990Z"
   },
   {
    "duration": 9,
    "start_time": "2021-10-19T08:32:07.377Z"
   },
   {
    "duration": 49,
    "start_time": "2021-10-19T08:32:07.593Z"
   },
   {
    "duration": 452,
    "start_time": "2021-10-19T08:32:07.794Z"
   },
   {
    "duration": 6,
    "start_time": "2021-10-19T08:32:08.948Z"
   },
   {
    "duration": 5,
    "start_time": "2021-10-19T08:32:09.145Z"
   },
   {
    "duration": 14,
    "start_time": "2021-10-19T08:32:09.346Z"
   },
   {
    "duration": 191,
    "start_time": "2021-10-19T08:32:09.560Z"
   },
   {
    "duration": 10,
    "start_time": "2021-10-19T08:32:10.593Z"
   },
   {
    "duration": 111,
    "start_time": "2021-10-19T08:32:10.854Z"
   },
   {
    "duration": 25,
    "start_time": "2021-10-19T08:33:40.387Z"
   },
   {
    "duration": 9,
    "start_time": "2021-10-19T08:36:29.737Z"
   },
   {
    "duration": 10,
    "start_time": "2021-10-19T08:36:32.802Z"
   },
   {
    "duration": 1302,
    "start_time": "2021-10-19T08:37:04.630Z"
   },
   {
    "duration": 302,
    "start_time": "2021-10-19T08:37:19.280Z"
   },
   {
    "duration": 22,
    "start_time": "2021-10-19T08:37:28.090Z"
   },
   {
    "duration": 34,
    "start_time": "2021-10-19T08:37:45.691Z"
   },
   {
    "duration": 18,
    "start_time": "2021-10-19T08:38:58.110Z"
   },
   {
    "duration": 17,
    "start_time": "2021-10-19T08:39:18.820Z"
   },
   {
    "duration": 27,
    "start_time": "2021-10-19T08:39:24.916Z"
   },
   {
    "duration": 24,
    "start_time": "2021-10-19T08:39:29.058Z"
   },
   {
    "duration": 28,
    "start_time": "2021-10-19T08:39:34.421Z"
   },
   {
    "duration": 23,
    "start_time": "2021-10-19T08:39:40.083Z"
   },
   {
    "duration": 24,
    "start_time": "2021-10-19T08:41:33.324Z"
   },
   {
    "duration": 16,
    "start_time": "2021-10-19T08:42:06.721Z"
   },
   {
    "duration": 22,
    "start_time": "2021-10-19T08:43:03.900Z"
   },
   {
    "duration": 22,
    "start_time": "2021-10-19T08:47:16.960Z"
   },
   {
    "duration": 270,
    "start_time": "2021-10-19T08:51:22.550Z"
   },
   {
    "duration": 5,
    "start_time": "2021-10-19T08:51:43.845Z"
   },
   {
    "duration": 12,
    "start_time": "2021-10-19T09:01:17.160Z"
   },
   {
    "duration": 3,
    "start_time": "2021-10-19T09:01:23.079Z"
   },
   {
    "duration": 129,
    "start_time": "2021-10-19T09:01:23.086Z"
   },
   {
    "duration": 32,
    "start_time": "2021-10-19T09:01:23.217Z"
   },
   {
    "duration": 15,
    "start_time": "2021-10-19T09:01:23.251Z"
   },
   {
    "duration": 15,
    "start_time": "2021-10-19T09:01:23.267Z"
   },
   {
    "duration": 77,
    "start_time": "2021-10-19T09:01:23.283Z"
   },
   {
    "duration": 55,
    "start_time": "2021-10-19T09:01:23.362Z"
   },
   {
    "duration": 8,
    "start_time": "2021-10-19T09:01:23.418Z"
   },
   {
    "duration": 69,
    "start_time": "2021-10-19T09:01:23.445Z"
   },
   {
    "duration": 13,
    "start_time": "2021-10-19T09:01:23.516Z"
   },
   {
    "duration": 15,
    "start_time": "2021-10-19T09:01:23.530Z"
   },
   {
    "duration": 10,
    "start_time": "2021-10-19T09:01:23.547Z"
   },
   {
    "duration": 25,
    "start_time": "2021-10-19T09:01:23.559Z"
   },
   {
    "duration": 18,
    "start_time": "2021-10-19T09:01:23.586Z"
   },
   {
    "duration": 43,
    "start_time": "2021-10-19T09:01:23.606Z"
   },
   {
    "duration": 453,
    "start_time": "2021-10-19T09:01:23.651Z"
   },
   {
    "duration": 2020,
    "start_time": "2021-10-19T09:01:24.106Z"
   },
   {
    "duration": 30,
    "start_time": "2021-10-19T09:01:26.127Z"
   },
   {
    "duration": 3,
    "start_time": "2021-10-19T09:01:26.159Z"
   },
   {
    "duration": 6,
    "start_time": "2021-10-19T09:01:26.164Z"
   },
   {
    "duration": 10,
    "start_time": "2021-10-19T09:01:26.172Z"
   },
   {
    "duration": 12,
    "start_time": "2021-10-19T09:01:26.183Z"
   },
   {
    "duration": 61,
    "start_time": "2021-10-19T09:01:26.197Z"
   },
   {
    "duration": 25,
    "start_time": "2021-10-19T09:01:26.261Z"
   },
   {
    "duration": 14,
    "start_time": "2021-10-19T09:01:26.288Z"
   },
   {
    "duration": 4,
    "start_time": "2021-10-19T09:01:26.304Z"
   },
   {
    "duration": 64,
    "start_time": "2021-10-19T09:01:26.309Z"
   },
   {
    "duration": 305,
    "start_time": "2021-10-19T09:01:26.375Z"
   },
   {
    "duration": 10,
    "start_time": "2021-10-19T09:01:26.681Z"
   },
   {
    "duration": 70,
    "start_time": "2021-10-19T09:01:26.693Z"
   },
   {
    "duration": 333,
    "start_time": "2021-10-19T09:01:26.764Z"
   },
   {
    "duration": 10,
    "start_time": "2021-10-19T09:01:27.098Z"
   },
   {
    "duration": 388,
    "start_time": "2021-10-19T09:03:09.997Z"
   },
   {
    "duration": 6,
    "start_time": "2021-10-19T09:03:13.464Z"
   },
   {
    "duration": 4,
    "start_time": "2021-10-19T09:03:13.974Z"
   },
   {
    "duration": 8,
    "start_time": "2021-10-19T09:03:19.433Z"
   },
   {
    "duration": 23,
    "start_time": "2021-10-19T09:05:33.136Z"
   },
   {
    "duration": 49,
    "start_time": "2021-10-19T09:05:40.980Z"
   },
   {
    "duration": 314,
    "start_time": "2021-10-19T09:05:43.459Z"
   },
   {
    "duration": 5,
    "start_time": "2021-10-19T09:05:48.482Z"
   },
   {
    "duration": 10,
    "start_time": "2021-10-19T09:05:51.511Z"
   },
   {
    "duration": 273,
    "start_time": "2021-10-19T09:07:07.905Z"
   },
   {
    "duration": 6,
    "start_time": "2021-10-19T09:07:10.982Z"
   },
   {
    "duration": 9,
    "start_time": "2021-10-19T09:07:11.431Z"
   },
   {
    "duration": 185,
    "start_time": "2021-10-19T09:07:18.516Z"
   },
   {
    "duration": 8,
    "start_time": "2021-10-19T09:07:31.076Z"
   },
   {
    "duration": 177,
    "start_time": "2021-10-19T09:07:31.713Z"
   },
   {
    "duration": 502,
    "start_time": "2021-10-19T09:08:39.399Z"
   },
   {
    "duration": 4,
    "start_time": "2021-10-19T09:14:58.613Z"
   },
   {
    "duration": 311,
    "start_time": "2021-10-19T09:14:59.411Z"
   },
   {
    "duration": 307,
    "start_time": "2021-10-19T09:15:10.369Z"
   },
   {
    "duration": 11,
    "start_time": "2021-10-19T09:15:19.639Z"
   },
   {
    "duration": 11,
    "start_time": "2021-10-19T09:15:37.100Z"
   },
   {
    "duration": 1241,
    "start_time": "2021-10-19T09:23:42.737Z"
   },
   {
    "duration": 309,
    "start_time": "2021-10-19T09:23:47.043Z"
   },
   {
    "duration": 9,
    "start_time": "2021-10-19T09:25:15.316Z"
   },
   {
    "duration": 62,
    "start_time": "2021-10-19T09:26:00.039Z"
   },
   {
    "duration": 262,
    "start_time": "2021-10-19T09:26:55.907Z"
   },
   {
    "duration": 6,
    "start_time": "2021-10-19T09:30:00.102Z"
   },
   {
    "duration": 4,
    "start_time": "2021-10-19T09:30:45.081Z"
   },
   {
    "duration": 8,
    "start_time": "2021-10-19T09:30:49.422Z"
   },
   {
    "duration": 304,
    "start_time": "2021-10-19T09:31:04.696Z"
   },
   {
    "duration": 257,
    "start_time": "2021-10-19T09:33:05.393Z"
   },
   {
    "duration": 117,
    "start_time": "2021-10-19T09:33:12.670Z"
   },
   {
    "duration": 92,
    "start_time": "2021-10-19T09:33:41.920Z"
   },
   {
    "duration": 93,
    "start_time": "2021-10-19T09:34:12.440Z"
   },
   {
    "duration": 108,
    "start_time": "2021-10-19T09:34:17.869Z"
   },
   {
    "duration": 114,
    "start_time": "2021-10-19T09:34:36.633Z"
   },
   {
    "duration": 130,
    "start_time": "2021-10-19T09:34:51.033Z"
   },
   {
    "duration": 298,
    "start_time": "2021-10-19T09:35:30.074Z"
   },
   {
    "duration": 11,
    "start_time": "2021-10-19T09:36:56.570Z"
   },
   {
    "duration": 8,
    "start_time": "2021-10-19T09:37:14.322Z"
   },
   {
    "duration": 8,
    "start_time": "2021-10-19T09:37:19.204Z"
   },
   {
    "duration": 9,
    "start_time": "2021-10-19T09:37:34.865Z"
   },
   {
    "duration": 322,
    "start_time": "2021-10-19T09:37:41.137Z"
   },
   {
    "duration": 93,
    "start_time": "2021-10-19T09:43:14.752Z"
   },
   {
    "duration": 329,
    "start_time": "2021-10-19T09:44:13.909Z"
   },
   {
    "duration": 804,
    "start_time": "2021-10-19T09:44:54.191Z"
   },
   {
    "duration": 819,
    "start_time": "2021-10-19T09:45:15.012Z"
   },
   {
    "duration": 33,
    "start_time": "2021-10-19T09:46:32.696Z"
   },
   {
    "duration": 30,
    "start_time": "2021-10-19T09:46:37.557Z"
   },
   {
    "duration": 93,
    "start_time": "2021-10-19T09:47:12.385Z"
   },
   {
    "duration": 32,
    "start_time": "2021-10-19T09:47:27.426Z"
   },
   {
    "duration": 26,
    "start_time": "2021-10-19T09:47:43.559Z"
   },
   {
    "duration": 103,
    "start_time": "2021-10-19T09:47:53.583Z"
   },
   {
    "duration": 30,
    "start_time": "2021-10-19T09:48:07.837Z"
   },
   {
    "duration": 1540,
    "start_time": "2021-10-19T09:48:34.501Z"
   },
   {
    "duration": 106,
    "start_time": "2021-10-19T09:48:48.362Z"
   },
   {
    "duration": 3334,
    "start_time": "2021-10-19T09:49:06.541Z"
   },
   {
    "duration": -94,
    "start_time": "2021-10-19T09:49:09.971Z"
   },
   {
    "duration": 811,
    "start_time": "2021-10-19T09:49:22.933Z"
   },
   {
    "duration": 107,
    "start_time": "2021-10-19T09:49:27.190Z"
   },
   {
    "duration": 31,
    "start_time": "2021-10-19T09:51:30.385Z"
   },
   {
    "duration": 31,
    "start_time": "2021-10-19T09:52:22.167Z"
   },
   {
    "duration": 29,
    "start_time": "2021-10-19T09:52:25.519Z"
   },
   {
    "duration": 33,
    "start_time": "2021-10-19T09:53:28.304Z"
   },
   {
    "duration": 31,
    "start_time": "2021-10-19T09:53:58.063Z"
   },
   {
    "duration": 26,
    "start_time": "2021-10-19T09:54:42.356Z"
   },
   {
    "duration": 23,
    "start_time": "2021-10-19T09:54:49.599Z"
   },
   {
    "duration": 331,
    "start_time": "2021-10-19T09:56:06.877Z"
   },
   {
    "duration": 331,
    "start_time": "2021-10-19T09:56:12.872Z"
   },
   {
    "duration": 30,
    "start_time": "2021-10-19T09:56:14.299Z"
   },
   {
    "duration": 87,
    "start_time": "2021-10-19T09:56:32.762Z"
   },
   {
    "duration": 18,
    "start_time": "2021-10-19T09:56:55.753Z"
   },
   {
    "duration": 30,
    "start_time": "2021-10-19T09:57:06.625Z"
   },
   {
    "duration": 21,
    "start_time": "2021-10-19T09:57:15.169Z"
   },
   {
    "duration": 24,
    "start_time": "2021-10-19T09:57:15.795Z"
   },
   {
    "duration": 9,
    "start_time": "2021-10-19T10:00:30.252Z"
   },
   {
    "duration": 21,
    "start_time": "2021-10-19T10:00:42.054Z"
   },
   {
    "duration": 20,
    "start_time": "2021-10-19T10:00:51.818Z"
   },
   {
    "duration": 9,
    "start_time": "2021-10-19T10:01:21.256Z"
   },
   {
    "duration": 20,
    "start_time": "2021-10-19T10:01:43.563Z"
   },
   {
    "duration": 15,
    "start_time": "2021-10-19T10:02:22.768Z"
   },
   {
    "duration": 15,
    "start_time": "2021-10-19T10:02:34.204Z"
   },
   {
    "duration": 17,
    "start_time": "2021-10-19T10:02:58.383Z"
   },
   {
    "duration": 19,
    "start_time": "2021-10-19T10:03:26.193Z"
   },
   {
    "duration": 24,
    "start_time": "2021-10-19T10:03:33.031Z"
   },
   {
    "duration": 18,
    "start_time": "2021-10-19T10:03:51.054Z"
   },
   {
    "duration": 21,
    "start_time": "2021-10-19T10:04:25.637Z"
   },
   {
    "duration": 18,
    "start_time": "2021-10-19T10:04:49.520Z"
   },
   {
    "duration": 19,
    "start_time": "2021-10-19T10:04:58.768Z"
   },
   {
    "duration": 19,
    "start_time": "2021-10-19T10:05:08.634Z"
   },
   {
    "duration": 17,
    "start_time": "2021-10-19T10:05:13.057Z"
   },
   {
    "duration": 26,
    "start_time": "2021-10-19T10:05:17.240Z"
   },
   {
    "duration": 23,
    "start_time": "2021-10-19T10:06:03.865Z"
   },
   {
    "duration": 22,
    "start_time": "2021-10-19T10:06:40.135Z"
   },
   {
    "duration": 6,
    "start_time": "2021-10-19T10:07:50.756Z"
   },
   {
    "duration": 109,
    "start_time": "2021-10-19T10:08:39.127Z"
   },
   {
    "duration": 13,
    "start_time": "2021-10-19T10:09:22.726Z"
   },
   {
    "duration": 12,
    "start_time": "2021-10-19T10:09:38.309Z"
   },
   {
    "duration": 99,
    "start_time": "2021-10-19T10:10:39.319Z"
   },
   {
    "duration": 27,
    "start_time": "2021-10-19T10:10:47.114Z"
   },
   {
    "duration": 32,
    "start_time": "2021-10-19T10:11:12.327Z"
   },
   {
    "duration": 6,
    "start_time": "2021-10-19T10:11:25.510Z"
   },
   {
    "duration": 20,
    "start_time": "2021-10-19T10:11:45.289Z"
   },
   {
    "duration": 13,
    "start_time": "2021-10-19T10:12:10.717Z"
   },
   {
    "duration": 11,
    "start_time": "2021-10-19T10:59:47.612Z"
   },
   {
    "duration": 12,
    "start_time": "2021-10-19T10:59:50.658Z"
   },
   {
    "duration": 10,
    "start_time": "2021-10-19T11:00:27.524Z"
   },
   {
    "duration": 11,
    "start_time": "2021-10-19T11:00:32.418Z"
   },
   {
    "duration": 9,
    "start_time": "2021-10-19T11:00:49.834Z"
   },
   {
    "duration": 7,
    "start_time": "2021-10-19T11:01:42.539Z"
   },
   {
    "duration": 6,
    "start_time": "2021-10-19T11:01:47.531Z"
   },
   {
    "duration": 3,
    "start_time": "2021-10-19T11:01:50.747Z"
   },
   {
    "duration": 121,
    "start_time": "2021-10-19T11:01:50.752Z"
   },
   {
    "duration": 11,
    "start_time": "2021-10-19T11:01:50.875Z"
   },
   {
    "duration": 15,
    "start_time": "2021-10-19T11:01:50.888Z"
   },
   {
    "duration": 42,
    "start_time": "2021-10-19T11:01:50.905Z"
   },
   {
    "duration": 43,
    "start_time": "2021-10-19T11:01:50.949Z"
   },
   {
    "duration": 66,
    "start_time": "2021-10-19T11:01:50.995Z"
   },
   {
    "duration": 6,
    "start_time": "2021-10-19T11:01:51.064Z"
   },
   {
    "duration": 78,
    "start_time": "2021-10-19T11:01:51.072Z"
   },
   {
    "duration": 13,
    "start_time": "2021-10-19T11:01:51.151Z"
   },
   {
    "duration": 9,
    "start_time": "2021-10-19T11:01:51.166Z"
   },
   {
    "duration": 10,
    "start_time": "2021-10-19T11:01:51.177Z"
   },
   {
    "duration": 24,
    "start_time": "2021-10-19T11:01:51.188Z"
   },
   {
    "duration": 38,
    "start_time": "2021-10-19T11:01:51.213Z"
   },
   {
    "duration": 18,
    "start_time": "2021-10-19T11:01:51.253Z"
   },
   {
    "duration": 451,
    "start_time": "2021-10-19T11:01:51.273Z"
   },
   {
    "duration": 2213,
    "start_time": "2021-10-19T11:01:51.726Z"
   },
   {
    "duration": 21,
    "start_time": "2021-10-19T11:01:53.944Z"
   },
   {
    "duration": 3,
    "start_time": "2021-10-19T11:01:53.968Z"
   },
   {
    "duration": 14,
    "start_time": "2021-10-19T11:01:53.973Z"
   },
   {
    "duration": 13,
    "start_time": "2021-10-19T11:01:53.988Z"
   },
   {
    "duration": 8,
    "start_time": "2021-10-19T11:01:54.003Z"
   },
   {
    "duration": 57,
    "start_time": "2021-10-19T11:01:54.013Z"
   },
   {
    "duration": 24,
    "start_time": "2021-10-19T11:01:54.072Z"
   },
   {
    "duration": 12,
    "start_time": "2021-10-19T11:01:54.098Z"
   },
   {
    "duration": 2,
    "start_time": "2021-10-19T11:01:54.112Z"
   },
   {
    "duration": 62,
    "start_time": "2021-10-19T11:01:54.115Z"
   },
   {
    "duration": 296,
    "start_time": "2021-10-19T11:01:54.179Z"
   },
   {
    "duration": 9,
    "start_time": "2021-10-19T11:01:54.476Z"
   },
   {
    "duration": 80,
    "start_time": "2021-10-19T11:01:54.487Z"
   },
   {
    "duration": 351,
    "start_time": "2021-10-19T11:01:54.569Z"
   },
   {
    "duration": 10,
    "start_time": "2021-10-19T11:01:54.922Z"
   },
   {
    "duration": 8,
    "start_time": "2021-10-19T11:01:54.944Z"
   },
   {
    "duration": 314,
    "start_time": "2021-10-19T11:01:54.954Z"
   },
   {
    "duration": 9,
    "start_time": "2021-10-19T11:01:55.270Z"
   },
   {
    "duration": 118,
    "start_time": "2021-10-19T11:01:55.280Z"
   },
   {
    "duration": 9,
    "start_time": "2021-10-19T11:01:55.399Z"
   },
   {
    "duration": 37,
    "start_time": "2021-10-19T11:01:55.409Z"
   },
   {
    "duration": 23,
    "start_time": "2021-10-19T11:01:55.448Z"
   },
   {
    "duration": 20,
    "start_time": "2021-10-19T11:01:55.472Z"
   },
   {
    "duration": 354,
    "start_time": "2021-10-19T11:01:55.494Z"
   },
   {
    "duration": 29,
    "start_time": "2021-10-19T11:01:55.850Z"
   },
   {
    "duration": 20,
    "start_time": "2021-10-19T11:01:55.881Z"
   },
   {
    "duration": 43,
    "start_time": "2021-10-19T11:01:55.902Z"
   },
   {
    "duration": 5,
    "start_time": "2021-10-19T11:01:55.947Z"
   },
   {
    "duration": 14,
    "start_time": "2021-10-19T11:01:55.953Z"
   },
   {
    "duration": 12,
    "start_time": "2021-10-19T11:02:01.894Z"
   },
   {
    "duration": 14,
    "start_time": "2021-10-19T11:02:02.593Z"
   },
   {
    "duration": 16,
    "start_time": "2021-10-19T11:02:34.713Z"
   },
   {
    "duration": 11,
    "start_time": "2021-10-19T11:02:48.013Z"
   },
   {
    "duration": 4,
    "start_time": "2021-10-19T11:04:07.942Z"
   },
   {
    "duration": 132,
    "start_time": "2021-10-19T11:04:07.948Z"
   },
   {
    "duration": 16,
    "start_time": "2021-10-19T11:04:08.082Z"
   },
   {
    "duration": 13,
    "start_time": "2021-10-19T11:04:08.100Z"
   },
   {
    "duration": 15,
    "start_time": "2021-10-19T11:04:08.144Z"
   },
   {
    "duration": 46,
    "start_time": "2021-10-19T11:04:08.161Z"
   },
   {
    "duration": 65,
    "start_time": "2021-10-19T11:04:08.210Z"
   },
   {
    "duration": 8,
    "start_time": "2021-10-19T11:04:08.278Z"
   },
   {
    "duration": 94,
    "start_time": "2021-10-19T11:04:08.287Z"
   },
   {
    "duration": 10,
    "start_time": "2021-10-19T11:04:08.384Z"
   },
   {
    "duration": 4,
    "start_time": "2021-10-19T11:04:08.396Z"
   },
   {
    "duration": 10,
    "start_time": "2021-10-19T11:04:08.402Z"
   },
   {
    "duration": 46,
    "start_time": "2021-10-19T11:04:08.414Z"
   },
   {
    "duration": 18,
    "start_time": "2021-10-19T11:04:08.462Z"
   },
   {
    "duration": 18,
    "start_time": "2021-10-19T11:04:08.482Z"
   },
   {
    "duration": 439,
    "start_time": "2021-10-19T11:04:08.502Z"
   },
   {
    "duration": 1956,
    "start_time": "2021-10-19T11:04:08.945Z"
   },
   {
    "duration": 21,
    "start_time": "2021-10-19T11:04:10.903Z"
   },
   {
    "duration": 4,
    "start_time": "2021-10-19T11:04:10.944Z"
   },
   {
    "duration": 7,
    "start_time": "2021-10-19T11:04:10.951Z"
   },
   {
    "duration": 8,
    "start_time": "2021-10-19T11:04:10.960Z"
   },
   {
    "duration": 9,
    "start_time": "2021-10-19T11:04:10.970Z"
   },
   {
    "duration": 63,
    "start_time": "2021-10-19T11:04:10.981Z"
   },
   {
    "duration": 26,
    "start_time": "2021-10-19T11:04:11.047Z"
   },
   {
    "duration": 13,
    "start_time": "2021-10-19T11:04:11.075Z"
   },
   {
    "duration": 5,
    "start_time": "2021-10-19T11:04:11.090Z"
   },
   {
    "duration": 65,
    "start_time": "2021-10-19T11:04:11.096Z"
   },
   {
    "duration": 302,
    "start_time": "2021-10-19T11:04:11.163Z"
   },
   {
    "duration": 10,
    "start_time": "2021-10-19T11:04:11.466Z"
   },
   {
    "duration": 49,
    "start_time": "2021-10-19T11:04:11.477Z"
   },
   {
    "duration": 331,
    "start_time": "2021-10-19T11:04:11.528Z"
   },
   {
    "duration": 10,
    "start_time": "2021-10-19T11:04:11.861Z"
   },
   {
    "duration": 10,
    "start_time": "2021-10-19T11:04:11.873Z"
   },
   {
    "duration": 321,
    "start_time": "2021-10-19T11:04:11.885Z"
   },
   {
    "duration": 8,
    "start_time": "2021-10-19T11:04:12.208Z"
   },
   {
    "duration": 116,
    "start_time": "2021-10-19T11:04:12.218Z"
   },
   {
    "duration": 13,
    "start_time": "2021-10-19T11:04:12.335Z"
   },
   {
    "duration": 29,
    "start_time": "2021-10-19T11:04:12.350Z"
   },
   {
    "duration": 25,
    "start_time": "2021-10-19T11:04:12.381Z"
   },
   {
    "duration": 37,
    "start_time": "2021-10-19T11:04:12.407Z"
   },
   {
    "duration": 569,
    "start_time": "2021-10-19T11:04:12.446Z"
   },
   {
    "duration": 37,
    "start_time": "2021-10-19T11:04:13.016Z"
   },
   {
    "duration": 19,
    "start_time": "2021-10-19T11:04:13.055Z"
   },
   {
    "duration": 18,
    "start_time": "2021-10-19T11:04:13.075Z"
   },
   {
    "duration": 4,
    "start_time": "2021-10-19T11:04:13.095Z"
   },
   {
    "duration": 9,
    "start_time": "2021-10-19T11:04:30.142Z"
   },
   {
    "duration": 12,
    "start_time": "2021-10-19T11:04:58.036Z"
   },
   {
    "duration": 12,
    "start_time": "2021-10-19T11:05:04.860Z"
   },
   {
    "duration": 11,
    "start_time": "2021-10-19T11:06:07.355Z"
   },
   {
    "duration": 15,
    "start_time": "2021-10-19T11:06:12.051Z"
   },
   {
    "duration": 15,
    "start_time": "2021-10-19T11:06:28.943Z"
   },
   {
    "duration": 14,
    "start_time": "2021-10-19T11:07:09.114Z"
   },
   {
    "duration": 15,
    "start_time": "2021-10-19T11:08:04.330Z"
   },
   {
    "duration": 4,
    "start_time": "2021-10-19T11:08:11.263Z"
   },
   {
    "duration": 16,
    "start_time": "2021-10-19T11:08:32.132Z"
   },
   {
    "duration": 14,
    "start_time": "2021-10-19T11:08:34.307Z"
   },
   {
    "duration": 435,
    "start_time": "2021-10-19T11:08:37.528Z"
   },
   {
    "duration": 287,
    "start_time": "2021-10-19T11:08:51.673Z"
   },
   {
    "duration": 4,
    "start_time": "2021-10-19T11:09:11.968Z"
   },
   {
    "duration": 1197,
    "start_time": "2021-10-19T11:10:14.834Z"
   },
   {
    "duration": 3,
    "start_time": "2021-10-19T11:10:21.201Z"
   },
   {
    "duration": 146,
    "start_time": "2021-10-19T11:10:21.207Z"
   },
   {
    "duration": 14,
    "start_time": "2021-10-19T11:10:21.355Z"
   },
   {
    "duration": 15,
    "start_time": "2021-10-19T11:10:21.371Z"
   },
   {
    "duration": 14,
    "start_time": "2021-10-19T11:10:21.388Z"
   },
   {
    "duration": 78,
    "start_time": "2021-10-19T11:10:21.404Z"
   },
   {
    "duration": 71,
    "start_time": "2021-10-19T11:10:21.485Z"
   },
   {
    "duration": 7,
    "start_time": "2021-10-19T11:10:21.559Z"
   },
   {
    "duration": 81,
    "start_time": "2021-10-19T11:10:21.568Z"
   },
   {
    "duration": 9,
    "start_time": "2021-10-19T11:10:21.651Z"
   },
   {
    "duration": 6,
    "start_time": "2021-10-19T11:10:21.662Z"
   },
   {
    "duration": 14,
    "start_time": "2021-10-19T11:10:21.670Z"
   },
   {
    "duration": 28,
    "start_time": "2021-10-19T11:10:21.686Z"
   },
   {
    "duration": 45,
    "start_time": "2021-10-19T11:10:21.715Z"
   },
   {
    "duration": 19,
    "start_time": "2021-10-19T11:10:21.761Z"
   },
   {
    "duration": 480,
    "start_time": "2021-10-19T11:10:21.781Z"
   },
   {
    "duration": 1783,
    "start_time": "2021-10-19T11:10:22.262Z"
   },
   {
    "duration": 23,
    "start_time": "2021-10-19T11:10:24.046Z"
   },
   {
    "duration": 3,
    "start_time": "2021-10-19T11:10:24.073Z"
   },
   {
    "duration": 7,
    "start_time": "2021-10-19T11:10:24.078Z"
   },
   {
    "duration": 9,
    "start_time": "2021-10-19T11:10:24.087Z"
   },
   {
    "duration": 9,
    "start_time": "2021-10-19T11:10:24.098Z"
   },
   {
    "duration": 73,
    "start_time": "2021-10-19T11:10:24.109Z"
   },
   {
    "duration": 26,
    "start_time": "2021-10-19T11:10:24.184Z"
   },
   {
    "duration": 11,
    "start_time": "2021-10-19T11:10:24.212Z"
   },
   {
    "duration": 3,
    "start_time": "2021-10-19T11:10:24.245Z"
   },
   {
    "duration": 49,
    "start_time": "2021-10-19T11:10:24.250Z"
   },
   {
    "duration": 561,
    "start_time": "2021-10-19T11:10:24.301Z"
   },
   {
    "duration": 9,
    "start_time": "2021-10-19T11:10:24.864Z"
   },
   {
    "duration": 55,
    "start_time": "2021-10-19T11:10:24.875Z"
   },
   {
    "duration": 342,
    "start_time": "2021-10-19T11:10:24.932Z"
   },
   {
    "duration": 9,
    "start_time": "2021-10-19T11:10:25.276Z"
   },
   {
    "duration": 19,
    "start_time": "2021-10-19T11:10:25.287Z"
   },
   {
    "duration": 331,
    "start_time": "2021-10-19T11:10:25.308Z"
   },
   {
    "duration": 12,
    "start_time": "2021-10-19T11:10:25.640Z"
   },
   {
    "duration": 124,
    "start_time": "2021-10-19T11:10:25.653Z"
   },
   {
    "duration": 9,
    "start_time": "2021-10-19T11:10:25.779Z"
   },
   {
    "duration": 28,
    "start_time": "2021-10-19T11:10:25.789Z"
   },
   {
    "duration": 38,
    "start_time": "2021-10-19T11:10:25.819Z"
   },
   {
    "duration": 20,
    "start_time": "2021-10-19T11:10:25.859Z"
   },
   {
    "duration": 353,
    "start_time": "2021-10-19T11:10:25.881Z"
   },
   {
    "duration": 34,
    "start_time": "2021-10-19T11:10:26.235Z"
   },
   {
    "duration": 20,
    "start_time": "2021-10-19T11:10:26.271Z"
   },
   {
    "duration": 19,
    "start_time": "2021-10-19T11:10:26.293Z"
   },
   {
    "duration": 5,
    "start_time": "2021-10-19T11:10:26.313Z"
   },
   {
    "duration": 40,
    "start_time": "2021-10-19T11:10:26.319Z"
   },
   {
    "duration": 14,
    "start_time": "2021-10-19T11:10:26.360Z"
   },
   {
    "duration": 301,
    "start_time": "2021-10-19T11:10:26.375Z"
   },
   {
    "duration": 731,
    "start_time": "2021-10-19T11:10:51.835Z"
   },
   {
    "duration": 15,
    "start_time": "2021-10-19T11:12:32.827Z"
   },
   {
    "duration": 89,
    "start_time": "2021-10-19T11:12:35.009Z"
   },
   {
    "duration": 103,
    "start_time": "2021-10-19T11:12:37.482Z"
   },
   {
    "duration": 24,
    "start_time": "2021-10-19T11:12:40.734Z"
   },
   {
    "duration": 333,
    "start_time": "2021-10-19T11:12:53.301Z"
   },
   {
    "duration": 6,
    "start_time": "2021-10-19T11:13:07.081Z"
   },
   {
    "duration": 306,
    "start_time": "2021-10-19T11:13:35.400Z"
   },
   {
    "duration": 5,
    "start_time": "2021-10-19T11:13:39.958Z"
   },
   {
    "duration": 145,
    "start_time": "2021-10-19T11:13:39.965Z"
   },
   {
    "duration": 35,
    "start_time": "2021-10-19T11:13:40.112Z"
   },
   {
    "duration": 19,
    "start_time": "2021-10-19T11:13:40.150Z"
   },
   {
    "duration": 15,
    "start_time": "2021-10-19T11:13:40.171Z"
   },
   {
    "duration": 78,
    "start_time": "2021-10-19T11:13:40.188Z"
   },
   {
    "duration": 55,
    "start_time": "2021-10-19T11:13:40.269Z"
   },
   {
    "duration": 18,
    "start_time": "2021-10-19T11:13:40.326Z"
   },
   {
    "duration": 73,
    "start_time": "2021-10-19T11:13:40.346Z"
   },
   {
    "duration": 9,
    "start_time": "2021-10-19T11:13:40.421Z"
   },
   {
    "duration": 15,
    "start_time": "2021-10-19T11:13:40.432Z"
   },
   {
    "duration": 12,
    "start_time": "2021-10-19T11:13:40.450Z"
   },
   {
    "duration": 26,
    "start_time": "2021-10-19T11:13:40.464Z"
   },
   {
    "duration": 55,
    "start_time": "2021-10-19T11:13:40.492Z"
   },
   {
    "duration": 21,
    "start_time": "2021-10-19T11:13:40.549Z"
   },
   {
    "duration": 470,
    "start_time": "2021-10-19T11:13:40.571Z"
   },
   {
    "duration": 1976,
    "start_time": "2021-10-19T11:13:41.044Z"
   },
   {
    "duration": 28,
    "start_time": "2021-10-19T11:13:43.022Z"
   },
   {
    "duration": 4,
    "start_time": "2021-10-19T11:13:43.054Z"
   },
   {
    "duration": 6,
    "start_time": "2021-10-19T11:13:43.061Z"
   },
   {
    "duration": 9,
    "start_time": "2021-10-19T11:13:43.069Z"
   },
   {
    "duration": 10,
    "start_time": "2021-10-19T11:13:43.080Z"
   },
   {
    "duration": 83,
    "start_time": "2021-10-19T11:13:43.091Z"
   },
   {
    "duration": 25,
    "start_time": "2021-10-19T11:13:43.176Z"
   },
   {
    "duration": 20,
    "start_time": "2021-10-19T11:13:43.203Z"
   },
   {
    "duration": 16,
    "start_time": "2021-10-19T11:13:43.225Z"
   },
   {
    "duration": 59,
    "start_time": "2021-10-19T11:13:43.243Z"
   },
   {
    "duration": 328,
    "start_time": "2021-10-19T11:13:43.304Z"
   },
   {
    "duration": 22,
    "start_time": "2021-10-19T11:13:43.634Z"
   },
   {
    "duration": 56,
    "start_time": "2021-10-19T11:13:43.658Z"
   },
   {
    "duration": 363,
    "start_time": "2021-10-19T11:13:43.715Z"
   },
   {
    "duration": 11,
    "start_time": "2021-10-19T11:13:44.080Z"
   },
   {
    "duration": 18,
    "start_time": "2021-10-19T11:13:44.093Z"
   },
   {
    "duration": 384,
    "start_time": "2021-10-19T11:13:44.113Z"
   },
   {
    "duration": 8,
    "start_time": "2021-10-19T11:13:44.499Z"
   },
   {
    "duration": 135,
    "start_time": "2021-10-19T11:13:44.509Z"
   },
   {
    "duration": 13,
    "start_time": "2021-10-19T11:13:44.646Z"
   },
   {
    "duration": 28,
    "start_time": "2021-10-19T11:13:44.662Z"
   },
   {
    "duration": 25,
    "start_time": "2021-10-19T11:13:44.692Z"
   },
   {
    "duration": 51,
    "start_time": "2021-10-19T11:13:44.719Z"
   },
   {
    "duration": 403,
    "start_time": "2021-10-19T11:13:44.772Z"
   },
   {
    "duration": 32,
    "start_time": "2021-10-19T11:13:45.177Z"
   },
   {
    "duration": 40,
    "start_time": "2021-10-19T11:13:45.210Z"
   },
   {
    "duration": 25,
    "start_time": "2021-10-19T11:13:45.253Z"
   },
   {
    "duration": 20,
    "start_time": "2021-10-19T11:13:45.280Z"
   },
   {
    "duration": 41,
    "start_time": "2021-10-19T11:13:45.301Z"
   },
   {
    "duration": 33,
    "start_time": "2021-10-19T11:13:45.344Z"
   },
   {
    "duration": 630,
    "start_time": "2021-10-19T11:13:45.378Z"
   },
   {
    "duration": 339,
    "start_time": "2021-10-19T11:26:44.798Z"
   },
   {
    "duration": 6,
    "start_time": "2021-10-19T11:27:42.833Z"
   },
   {
    "duration": 11,
    "start_time": "2021-10-19T11:43:00.157Z"
   },
   {
    "duration": 21,
    "start_time": "2021-10-19T11:45:28.457Z"
   },
   {
    "duration": 20,
    "start_time": "2021-10-19T11:45:30.635Z"
   },
   {
    "duration": 5,
    "start_time": "2021-10-19T11:45:44.027Z"
   },
   {
    "duration": 16,
    "start_time": "2021-10-19T11:47:46.254Z"
   },
   {
    "duration": 15,
    "start_time": "2021-10-19T11:47:56.148Z"
   },
   {
    "duration": 15,
    "start_time": "2021-10-19T11:47:59.909Z"
   },
   {
    "duration": 13,
    "start_time": "2021-10-19T11:48:05.455Z"
   },
   {
    "duration": 14,
    "start_time": "2021-10-19T11:48:18.843Z"
   },
   {
    "duration": 9,
    "start_time": "2021-10-19T11:48:22.342Z"
   },
   {
    "duration": 15,
    "start_time": "2021-10-19T11:51:11.540Z"
   },
   {
    "duration": 16,
    "start_time": "2021-10-19T11:51:36.528Z"
   },
   {
    "duration": 4,
    "start_time": "2021-10-19T11:51:40.745Z"
   },
   {
    "duration": 133,
    "start_time": "2021-10-19T11:51:40.750Z"
   },
   {
    "duration": 16,
    "start_time": "2021-10-19T11:51:40.885Z"
   },
   {
    "duration": 44,
    "start_time": "2021-10-19T11:51:40.903Z"
   },
   {
    "duration": 15,
    "start_time": "2021-10-19T11:51:40.948Z"
   },
   {
    "duration": 49,
    "start_time": "2021-10-19T11:51:40.964Z"
   },
   {
    "duration": 69,
    "start_time": "2021-10-19T11:51:41.016Z"
   },
   {
    "duration": 8,
    "start_time": "2021-10-19T11:51:41.087Z"
   },
   {
    "duration": 89,
    "start_time": "2021-10-19T11:51:41.097Z"
   },
   {
    "duration": 10,
    "start_time": "2021-10-19T11:51:41.188Z"
   },
   {
    "duration": 10,
    "start_time": "2021-10-19T11:51:41.200Z"
   },
   {
    "duration": 12,
    "start_time": "2021-10-19T11:51:41.212Z"
   },
   {
    "duration": 37,
    "start_time": "2021-10-19T11:51:41.225Z"
   },
   {
    "duration": 17,
    "start_time": "2021-10-19T11:51:41.264Z"
   },
   {
    "duration": 22,
    "start_time": "2021-10-19T11:51:41.283Z"
   },
   {
    "duration": 441,
    "start_time": "2021-10-19T11:51:41.306Z"
   },
   {
    "duration": 2019,
    "start_time": "2021-10-19T11:51:41.749Z"
   },
   {
    "duration": 19,
    "start_time": "2021-10-19T11:51:43.770Z"
   },
   {
    "duration": 3,
    "start_time": "2021-10-19T11:51:43.793Z"
   },
   {
    "duration": 14,
    "start_time": "2021-10-19T11:51:43.798Z"
   },
   {
    "duration": 9,
    "start_time": "2021-10-19T11:51:43.813Z"
   },
   {
    "duration": 27,
    "start_time": "2021-10-19T11:51:43.824Z"
   },
   {
    "duration": 41,
    "start_time": "2021-10-19T11:51:43.853Z"
   },
   {
    "duration": 24,
    "start_time": "2021-10-19T11:51:43.896Z"
   },
   {
    "duration": 26,
    "start_time": "2021-10-19T11:51:43.922Z"
   },
   {
    "duration": 3,
    "start_time": "2021-10-19T11:51:43.949Z"
   },
   {
    "duration": 60,
    "start_time": "2021-10-19T11:51:43.953Z"
   },
   {
    "duration": 313,
    "start_time": "2021-10-19T11:51:44.015Z"
   },
   {
    "duration": 19,
    "start_time": "2021-10-19T11:51:44.330Z"
   },
   {
    "duration": 54,
    "start_time": "2021-10-19T11:51:44.350Z"
   },
   {
    "duration": 551,
    "start_time": "2021-10-19T11:51:44.406Z"
   },
   {
    "duration": 9,
    "start_time": "2021-10-19T11:51:44.959Z"
   },
   {
    "duration": 22,
    "start_time": "2021-10-19T11:51:44.970Z"
   },
   {
    "duration": 311,
    "start_time": "2021-10-19T11:51:44.993Z"
   },
   {
    "duration": 8,
    "start_time": "2021-10-19T11:51:45.306Z"
   },
   {
    "duration": 116,
    "start_time": "2021-10-19T11:51:45.316Z"
   },
   {
    "duration": 13,
    "start_time": "2021-10-19T11:51:45.434Z"
   },
   {
    "duration": 28,
    "start_time": "2021-10-19T11:51:45.448Z"
   },
   {
    "duration": 23,
    "start_time": "2021-10-19T11:51:45.477Z"
   },
   {
    "duration": 44,
    "start_time": "2021-10-19T11:51:45.502Z"
   },
   {
    "duration": 361,
    "start_time": "2021-10-19T11:51:45.547Z"
   },
   {
    "duration": 43,
    "start_time": "2021-10-19T11:51:45.909Z"
   },
   {
    "duration": 20,
    "start_time": "2021-10-19T11:51:45.954Z"
   },
   {
    "duration": 18,
    "start_time": "2021-10-19T11:51:45.975Z"
   },
   {
    "duration": 5,
    "start_time": "2021-10-19T11:51:45.994Z"
   },
   {
    "duration": 13,
    "start_time": "2021-10-19T11:51:46.000Z"
   },
   {
    "duration": 37,
    "start_time": "2021-10-19T11:51:46.015Z"
   },
   {
    "duration": 15,
    "start_time": "2021-10-19T11:52:04.599Z"
   },
   {
    "duration": 3777,
    "start_time": "2021-10-19T11:52:32.037Z"
   },
   {
    "duration": 14,
    "start_time": "2021-10-19T11:52:44.850Z"
   },
   {
    "duration": 14,
    "start_time": "2021-10-19T11:52:48.020Z"
   },
   {
    "duration": 3,
    "start_time": "2021-10-19T11:52:52.467Z"
   },
   {
    "duration": 132,
    "start_time": "2021-10-19T11:52:52.472Z"
   },
   {
    "duration": 14,
    "start_time": "2021-10-19T11:52:52.605Z"
   },
   {
    "duration": 38,
    "start_time": "2021-10-19T11:52:52.620Z"
   },
   {
    "duration": 14,
    "start_time": "2021-10-19T11:52:52.660Z"
   },
   {
    "duration": 72,
    "start_time": "2021-10-19T11:52:52.676Z"
   },
   {
    "duration": 54,
    "start_time": "2021-10-19T11:52:52.750Z"
   },
   {
    "duration": 7,
    "start_time": "2021-10-19T11:52:52.806Z"
   },
   {
    "duration": 89,
    "start_time": "2021-10-19T11:52:52.815Z"
   },
   {
    "duration": 10,
    "start_time": "2021-10-19T11:52:52.906Z"
   },
   {
    "duration": 7,
    "start_time": "2021-10-19T11:52:52.917Z"
   },
   {
    "duration": 23,
    "start_time": "2021-10-19T11:52:52.926Z"
   },
   {
    "duration": 25,
    "start_time": "2021-10-19T11:52:52.951Z"
   },
   {
    "duration": 20,
    "start_time": "2021-10-19T11:52:52.978Z"
   },
   {
    "duration": 47,
    "start_time": "2021-10-19T11:52:53.000Z"
   },
   {
    "duration": 429,
    "start_time": "2021-10-19T11:52:53.048Z"
   },
   {
    "duration": 1947,
    "start_time": "2021-10-19T11:52:53.479Z"
   },
   {
    "duration": 34,
    "start_time": "2021-10-19T11:52:55.428Z"
   },
   {
    "duration": 4,
    "start_time": "2021-10-19T11:52:55.465Z"
   },
   {
    "duration": 5,
    "start_time": "2021-10-19T11:52:55.471Z"
   },
   {
    "duration": 10,
    "start_time": "2021-10-19T11:52:55.478Z"
   },
   {
    "duration": 11,
    "start_time": "2021-10-19T11:52:55.490Z"
   },
   {
    "duration": 59,
    "start_time": "2021-10-19T11:52:55.503Z"
   },
   {
    "duration": 26,
    "start_time": "2021-10-19T11:52:55.563Z"
   },
   {
    "duration": 10,
    "start_time": "2021-10-19T11:52:55.591Z"
   },
   {
    "duration": 4,
    "start_time": "2021-10-19T11:52:55.603Z"
   },
   {
    "duration": 71,
    "start_time": "2021-10-19T11:52:55.609Z"
   },
   {
    "duration": 305,
    "start_time": "2021-10-19T11:52:55.682Z"
   },
   {
    "duration": 9,
    "start_time": "2021-10-19T11:52:55.988Z"
   },
   {
    "duration": 64,
    "start_time": "2021-10-19T11:52:55.998Z"
   },
   {
    "duration": 307,
    "start_time": "2021-10-19T11:52:56.063Z"
   },
   {
    "duration": 9,
    "start_time": "2021-10-19T11:52:56.372Z"
   },
   {
    "duration": 20,
    "start_time": "2021-10-19T11:52:56.382Z"
   },
   {
    "duration": 312,
    "start_time": "2021-10-19T11:52:56.403Z"
   },
   {
    "duration": 9,
    "start_time": "2021-10-19T11:52:56.717Z"
   },
   {
    "duration": 123,
    "start_time": "2021-10-19T11:52:56.728Z"
   },
   {
    "duration": 9,
    "start_time": "2021-10-19T11:52:56.853Z"
   },
   {
    "duration": 29,
    "start_time": "2021-10-19T11:52:56.864Z"
   },
   {
    "duration": 22,
    "start_time": "2021-10-19T11:52:56.895Z"
   },
   {
    "duration": 43,
    "start_time": "2021-10-19T11:52:56.918Z"
   },
   {
    "duration": 360,
    "start_time": "2021-10-19T11:52:56.962Z"
   },
   {
    "duration": 38,
    "start_time": "2021-10-19T11:52:57.324Z"
   },
   {
    "duration": 21,
    "start_time": "2021-10-19T11:52:57.364Z"
   },
   {
    "duration": 20,
    "start_time": "2021-10-19T11:52:57.386Z"
   },
   {
    "duration": 5,
    "start_time": "2021-10-19T11:52:57.408Z"
   },
   {
    "duration": 35,
    "start_time": "2021-10-19T11:52:57.415Z"
   },
   {
    "duration": 25,
    "start_time": "2021-10-19T11:52:57.452Z"
   },
   {
    "duration": 13,
    "start_time": "2021-10-19T11:52:57.478Z"
   },
   {
    "duration": 267,
    "start_time": "2021-10-19T11:53:20.878Z"
   },
   {
    "duration": 317,
    "start_time": "2021-10-19T11:53:41.874Z"
   },
   {
    "duration": 18,
    "start_time": "2021-10-19T12:02:42.262Z"
   },
   {
    "duration": 17,
    "start_time": "2021-10-19T12:02:58.922Z"
   },
   {
    "duration": 30,
    "start_time": "2021-10-19T12:03:08.933Z"
   },
   {
    "duration": 19,
    "start_time": "2021-10-19T12:03:25.811Z"
   },
   {
    "duration": 886,
    "start_time": "2021-10-19T12:03:49.506Z"
   },
   {
    "duration": 21,
    "start_time": "2021-10-19T12:04:09.204Z"
   },
   {
    "duration": 17,
    "start_time": "2021-10-19T12:04:28.024Z"
   },
   {
    "duration": 20,
    "start_time": "2021-10-19T12:04:34.875Z"
   },
   {
    "duration": 20,
    "start_time": "2021-10-19T12:04:38.869Z"
   },
   {
    "duration": 643,
    "start_time": "2021-10-19T12:04:52.621Z"
   },
   {
    "duration": 330,
    "start_time": "2021-10-19T12:04:55.632Z"
   },
   {
    "duration": 4,
    "start_time": "2021-10-19T12:05:14.207Z"
   },
   {
    "duration": 16,
    "start_time": "2021-10-19T12:06:33.802Z"
   },
   {
    "duration": 14,
    "start_time": "2021-10-19T12:06:34.429Z"
   },
   {
    "duration": 329,
    "start_time": "2021-10-19T12:06:35.141Z"
   },
   {
    "duration": 5,
    "start_time": "2021-10-19T12:06:38.339Z"
   },
   {
    "duration": 21,
    "start_time": "2021-10-19T12:08:19.494Z"
   },
   {
    "duration": 24,
    "start_time": "2021-10-19T12:08:21.688Z"
   },
   {
    "duration": 21,
    "start_time": "2021-10-19T12:08:22.233Z"
   },
   {
    "duration": 312,
    "start_time": "2021-10-19T12:08:22.835Z"
   },
   {
    "duration": 6,
    "start_time": "2021-10-19T12:08:26.558Z"
   },
   {
    "duration": 298,
    "start_time": "2021-10-19T12:09:56.684Z"
   },
   {
    "duration": 294,
    "start_time": "2021-10-19T12:10:07.743Z"
   },
   {
    "duration": 289,
    "start_time": "2021-10-19T12:10:16.552Z"
   },
   {
    "duration": 850,
    "start_time": "2021-10-19T12:10:41.334Z"
   },
   {
    "duration": 156,
    "start_time": "2021-10-19T12:10:50.290Z"
   },
   {
    "duration": 22,
    "start_time": "2021-10-19T12:11:01.942Z"
   },
   {
    "duration": 90,
    "start_time": "2021-10-19T12:11:15.367Z"
   },
   {
    "duration": 22,
    "start_time": "2021-10-19T12:11:20.347Z"
   },
   {
    "duration": 97,
    "start_time": "2021-10-19T12:11:32.498Z"
   },
   {
    "duration": 21,
    "start_time": "2021-10-19T12:11:38.070Z"
   },
   {
    "duration": 4,
    "start_time": "2021-10-19T12:11:54.862Z"
   },
   {
    "duration": 5,
    "start_time": "2021-10-19T12:12:59.144Z"
   },
   {
    "duration": 6,
    "start_time": "2021-10-19T12:15:05.937Z"
   },
   {
    "duration": 6,
    "start_time": "2021-10-19T12:15:41.623Z"
   },
   {
    "duration": 6,
    "start_time": "2021-10-19T12:16:15.416Z"
   },
   {
    "duration": 273,
    "start_time": "2021-10-19T12:16:22.291Z"
   },
   {
    "duration": 6,
    "start_time": "2021-10-19T12:16:25.655Z"
   },
   {
    "duration": 6,
    "start_time": "2021-10-19T12:17:09.332Z"
   },
   {
    "duration": 5,
    "start_time": "2021-10-19T12:17:28.385Z"
   },
   {
    "duration": 6,
    "start_time": "2021-10-19T12:28:16.895Z"
   },
   {
    "duration": 9,
    "start_time": "2021-10-19T12:30:04.154Z"
   },
   {
    "duration": 40,
    "start_time": "2021-10-19T12:31:36.841Z"
   },
   {
    "duration": 45,
    "start_time": "2021-10-19T12:31:49.757Z"
   },
   {
    "duration": 115,
    "start_time": "2021-10-19T12:32:12.771Z"
   },
   {
    "duration": 22,
    "start_time": "2021-10-19T12:32:32.665Z"
   },
   {
    "duration": 35,
    "start_time": "2021-10-19T12:33:48.007Z"
   },
   {
    "duration": 45,
    "start_time": "2021-10-19T12:33:51.890Z"
   },
   {
    "duration": 22,
    "start_time": "2021-10-19T12:34:04.365Z"
   },
   {
    "duration": 18,
    "start_time": "2021-10-19T12:34:08.010Z"
   },
   {
    "duration": 36,
    "start_time": "2021-10-19T12:34:28.034Z"
   },
   {
    "duration": 22,
    "start_time": "2021-10-19T12:34:57.742Z"
   },
   {
    "duration": 30,
    "start_time": "2021-10-19T12:35:14.461Z"
   },
   {
    "duration": 97,
    "start_time": "2021-10-19T12:35:56.944Z"
   },
   {
    "duration": 44,
    "start_time": "2021-10-19T12:36:01.343Z"
   },
   {
    "duration": 45,
    "start_time": "2021-10-19T12:36:29.569Z"
   },
   {
    "duration": 4,
    "start_time": "2021-10-19T12:37:00.092Z"
   },
   {
    "duration": 10,
    "start_time": "2021-10-19T12:37:04.485Z"
   },
   {
    "duration": 10,
    "start_time": "2021-10-19T12:37:08.180Z"
   },
   {
    "duration": 7705,
    "start_time": "2021-10-19T12:38:19.539Z"
   },
   {
    "duration": 10,
    "start_time": "2021-10-19T12:38:39.114Z"
   },
   {
    "duration": 8,
    "start_time": "2021-10-19T12:38:53.345Z"
   },
   {
    "duration": 2,
    "start_time": "2021-10-19T12:39:04.066Z"
   },
   {
    "duration": 2,
    "start_time": "2021-10-19T12:39:08.774Z"
   },
   {
    "duration": 7,
    "start_time": "2021-10-19T12:39:30.392Z"
   },
   {
    "duration": 10,
    "start_time": "2021-10-19T12:39:50.866Z"
   },
   {
    "duration": 123,
    "start_time": "2021-10-19T12:40:48.472Z"
   },
   {
    "duration": 19,
    "start_time": "2021-10-19T12:40:48.968Z"
   },
   {
    "duration": 18,
    "start_time": "2021-10-19T12:40:50.012Z"
   },
   {
    "duration": 15,
    "start_time": "2021-10-19T12:40:51.149Z"
   },
   {
    "duration": 52,
    "start_time": "2021-10-19T12:40:51.404Z"
   },
   {
    "duration": 56,
    "start_time": "2021-10-19T12:40:51.617Z"
   },
   {
    "duration": 9,
    "start_time": "2021-10-19T12:40:52.072Z"
   },
   {
    "duration": 75,
    "start_time": "2021-10-19T12:40:52.634Z"
   },
   {
    "duration": 9,
    "start_time": "2021-10-19T12:40:52.904Z"
   },
   {
    "duration": 4,
    "start_time": "2021-10-19T12:40:55.968Z"
   },
   {
    "duration": 10,
    "start_time": "2021-10-19T12:40:57.528Z"
   },
   {
    "duration": 24,
    "start_time": "2021-10-19T12:40:58.069Z"
   },
   {
    "duration": 9,
    "start_time": "2021-10-19T12:41:19.842Z"
   },
   {
    "duration": 346,
    "start_time": "2021-10-19T12:41:32.443Z"
   },
   {
    "duration": 8604,
    "start_time": "2021-10-19T12:41:47.796Z"
   },
   {
    "duration": 15,
    "start_time": "2021-10-19T12:41:59.793Z"
   },
   {
    "duration": 15,
    "start_time": "2021-10-19T12:42:05.124Z"
   },
   {
    "duration": 18,
    "start_time": "2021-10-19T12:42:09.882Z"
   },
   {
    "duration": 17,
    "start_time": "2021-10-19T12:42:10.260Z"
   },
   {
    "duration": 412,
    "start_time": "2021-10-19T12:42:11.673Z"
   },
   {
    "duration": 2068,
    "start_time": "2021-10-19T12:42:14.907Z"
   },
   {
    "duration": 18,
    "start_time": "2021-10-19T12:42:16.992Z"
   },
   {
    "duration": 4,
    "start_time": "2021-10-19T12:42:17.842Z"
   },
   {
    "duration": 4,
    "start_time": "2021-10-19T12:42:18.089Z"
   },
   {
    "duration": 7,
    "start_time": "2021-10-19T12:42:22.431Z"
   },
   {
    "duration": 9,
    "start_time": "2021-10-19T12:42:23.211Z"
   },
   {
    "duration": 49,
    "start_time": "2021-10-19T12:44:24.304Z"
   },
   {
    "duration": 28,
    "start_time": "2021-10-19T12:44:24.764Z"
   },
   {
    "duration": 26,
    "start_time": "2021-10-19T12:44:35.955Z"
   },
   {
    "duration": 8,
    "start_time": "2021-10-19T12:46:41.425Z"
   },
   {
    "duration": 40,
    "start_time": "2021-10-19T12:47:29.722Z"
   },
   {
    "duration": 10,
    "start_time": "2021-10-19T12:48:01.717Z"
   },
   {
    "duration": 103,
    "start_time": "2021-10-19T12:48:22.689Z"
   },
   {
    "duration": 354,
    "start_time": "2021-10-19T12:48:31.363Z"
   },
   {
    "duration": 6,
    "start_time": "2021-10-19T12:48:37.408Z"
   },
   {
    "duration": 8,
    "start_time": "2021-10-19T12:48:43.044Z"
   },
   {
    "duration": 279,
    "start_time": "2021-10-19T12:48:47.465Z"
   },
   {
    "duration": 9,
    "start_time": "2021-10-19T12:48:53.974Z"
   },
   {
    "duration": 9,
    "start_time": "2021-10-19T12:49:23.112Z"
   },
   {
    "duration": 48,
    "start_time": "2021-10-19T12:50:49.255Z"
   },
   {
    "duration": 9,
    "start_time": "2021-10-19T12:51:07.626Z"
   },
   {
    "duration": 23,
    "start_time": "2021-10-19T12:53:08.164Z"
   },
   {
    "duration": 10,
    "start_time": "2021-10-19T12:53:08.853Z"
   },
   {
    "duration": 9,
    "start_time": "2021-10-19T12:53:12.193Z"
   },
   {
    "duration": 4,
    "start_time": "2021-10-19T12:53:20.278Z"
   },
   {
    "duration": 129,
    "start_time": "2021-10-19T12:53:20.285Z"
   },
   {
    "duration": 36,
    "start_time": "2021-10-19T12:53:20.416Z"
   },
   {
    "duration": 16,
    "start_time": "2021-10-19T12:53:20.455Z"
   },
   {
    "duration": 15,
    "start_time": "2021-10-19T12:53:20.473Z"
   },
   {
    "duration": 71,
    "start_time": "2021-10-19T12:53:20.490Z"
   },
   {
    "duration": 44,
    "start_time": "2021-10-19T12:53:20.564Z"
   },
   {
    "duration": 6,
    "start_time": "2021-10-19T12:53:20.610Z"
   },
   {
    "duration": 84,
    "start_time": "2021-10-19T12:53:20.617Z"
   },
   {
    "duration": 21,
    "start_time": "2021-10-19T12:53:20.703Z"
   },
   {
    "duration": 13,
    "start_time": "2021-10-19T12:53:20.726Z"
   },
   {
    "duration": 16,
    "start_time": "2021-10-19T12:53:20.741Z"
   },
   {
    "duration": 13,
    "start_time": "2021-10-19T12:53:20.759Z"
   },
   {
    "duration": 29,
    "start_time": "2021-10-19T12:53:20.774Z"
   },
   {
    "duration": 17,
    "start_time": "2021-10-19T12:53:20.804Z"
   },
   {
    "duration": 24,
    "start_time": "2021-10-19T12:53:20.823Z"
   },
   {
    "duration": 678,
    "start_time": "2021-10-19T12:53:20.848Z"
   },
   {
    "duration": 1749,
    "start_time": "2021-10-19T12:53:21.528Z"
   },
   {
    "duration": 21,
    "start_time": "2021-10-19T12:53:23.281Z"
   },
   {
    "duration": 4,
    "start_time": "2021-10-19T12:53:23.303Z"
   },
   {
    "duration": 7,
    "start_time": "2021-10-19T12:53:23.308Z"
   },
   {
    "duration": 59,
    "start_time": "2021-10-19T12:53:23.317Z"
   },
   {
    "duration": 25,
    "start_time": "2021-10-19T12:53:23.378Z"
   },
   {
    "duration": 13,
    "start_time": "2021-10-19T12:53:23.405Z"
   },
   {
    "duration": 4,
    "start_time": "2021-10-19T12:53:23.420Z"
   },
   {
    "duration": 61,
    "start_time": "2021-10-19T12:53:23.425Z"
   },
   {
    "duration": 310,
    "start_time": "2021-10-19T12:53:23.488Z"
   },
   {
    "duration": 9,
    "start_time": "2021-10-19T12:53:23.800Z"
   },
   {
    "duration": 62,
    "start_time": "2021-10-19T12:53:23.810Z"
   },
   {
    "duration": 310,
    "start_time": "2021-10-19T12:53:23.874Z"
   },
   {
    "duration": 24,
    "start_time": "2021-10-19T12:53:24.186Z"
   },
   {
    "duration": 9,
    "start_time": "2021-10-19T12:53:24.211Z"
   },
   {
    "duration": 28,
    "start_time": "2021-10-19T12:53:24.221Z"
   },
   {
    "duration": 697,
    "start_time": "2021-10-19T12:53:24.251Z"
   },
   {
    "duration": 50,
    "start_time": "2021-10-19T12:53:56.790Z"
   },
   {
    "duration": 298,
    "start_time": "2021-10-19T12:53:57.689Z"
   },
   {
    "duration": 23,
    "start_time": "2021-10-19T12:53:59.104Z"
   },
   {
    "duration": 10,
    "start_time": "2021-10-19T12:54:01.500Z"
   },
   {
    "duration": 3,
    "start_time": "2021-10-19T12:54:17.782Z"
   },
   {
    "duration": 123,
    "start_time": "2021-10-19T12:54:17.788Z"
   },
   {
    "duration": 32,
    "start_time": "2021-10-19T12:54:17.913Z"
   },
   {
    "duration": 15,
    "start_time": "2021-10-19T12:54:17.947Z"
   },
   {
    "duration": 14,
    "start_time": "2021-10-19T12:54:17.964Z"
   },
   {
    "duration": 68,
    "start_time": "2021-10-19T12:54:17.980Z"
   },
   {
    "duration": 52,
    "start_time": "2021-10-19T12:54:18.050Z"
   },
   {
    "duration": 7,
    "start_time": "2021-10-19T12:54:18.104Z"
   },
   {
    "duration": 89,
    "start_time": "2021-10-19T12:54:18.113Z"
   },
   {
    "duration": 13,
    "start_time": "2021-10-19T12:54:18.204Z"
   },
   {
    "duration": 6,
    "start_time": "2021-10-19T12:54:18.219Z"
   },
   {
    "duration": 19,
    "start_time": "2021-10-19T12:54:18.227Z"
   },
   {
    "duration": 9,
    "start_time": "2021-10-19T12:54:18.247Z"
   },
   {
    "duration": 25,
    "start_time": "2021-10-19T12:54:18.257Z"
   },
   {
    "duration": 18,
    "start_time": "2021-10-19T12:54:18.283Z"
   },
   {
    "duration": 42,
    "start_time": "2021-10-19T12:54:18.303Z"
   },
   {
    "duration": 427,
    "start_time": "2021-10-19T12:54:18.347Z"
   },
   {
    "duration": 1708,
    "start_time": "2021-10-19T12:54:18.776Z"
   },
   {
    "duration": 20,
    "start_time": "2021-10-19T12:54:20.487Z"
   },
   {
    "duration": 3,
    "start_time": "2021-10-19T12:54:20.509Z"
   },
   {
    "duration": 7,
    "start_time": "2021-10-19T12:54:20.513Z"
   },
   {
    "duration": 54,
    "start_time": "2021-10-19T12:54:20.522Z"
   },
   {
    "duration": 25,
    "start_time": "2021-10-19T12:54:20.578Z"
   },
   {
    "duration": 12,
    "start_time": "2021-10-19T12:54:20.604Z"
   },
   {
    "duration": 7,
    "start_time": "2021-10-19T12:54:20.617Z"
   },
   {
    "duration": 57,
    "start_time": "2021-10-19T12:54:20.625Z"
   },
   {
    "duration": 555,
    "start_time": "2021-10-19T12:54:20.684Z"
   },
   {
    "duration": 9,
    "start_time": "2021-10-19T12:54:21.244Z"
   },
   {
    "duration": 48,
    "start_time": "2021-10-19T12:54:21.255Z"
   },
   {
    "duration": 324,
    "start_time": "2021-10-19T12:54:21.305Z"
   },
   {
    "duration": 14,
    "start_time": "2021-10-19T12:54:21.631Z"
   },
   {
    "duration": 10,
    "start_time": "2021-10-19T12:54:35.631Z"
   },
   {
    "duration": 10,
    "start_time": "2021-10-19T12:54:36.157Z"
   },
   {
    "duration": 325,
    "start_time": "2021-10-19T12:54:38.930Z"
   },
   {
    "duration": 9,
    "start_time": "2021-10-19T12:55:47.750Z"
   },
   {
    "duration": 109,
    "start_time": "2021-10-19T12:55:56.957Z"
   },
   {
    "duration": 22,
    "start_time": "2021-10-19T12:56:59.477Z"
   },
   {
    "duration": 22,
    "start_time": "2021-10-19T12:57:00.288Z"
   },
   {
    "duration": 5,
    "start_time": "2021-10-19T12:57:03.858Z"
   },
   {
    "duration": 5,
    "start_time": "2021-10-19T12:57:18.045Z"
   },
   {
    "duration": 10,
    "start_time": "2021-10-19T12:59:05.184Z"
   },
   {
    "duration": 20,
    "start_time": "2021-10-19T12:59:05.709Z"
   },
   {
    "duration": 39,
    "start_time": "2021-10-19T12:59:06.608Z"
   },
   {
    "duration": 4,
    "start_time": "2021-10-19T12:59:09.430Z"
   },
   {
    "duration": 10,
    "start_time": "2021-10-19T12:59:15.512Z"
   },
   {
    "duration": 8,
    "start_time": "2021-10-19T12:59:17.764Z"
   },
   {
    "duration": 10,
    "start_time": "2021-10-19T12:59:18.381Z"
   },
   {
    "duration": 9,
    "start_time": "2021-10-19T12:59:20.248Z"
   },
   {
    "duration": 3,
    "start_time": "2021-10-19T13:00:04.387Z"
   },
   {
    "duration": 9,
    "start_time": "2021-10-19T13:00:18.608Z"
   },
   {
    "duration": 12,
    "start_time": "2021-10-19T13:00:39.276Z"
   },
   {
    "duration": 12,
    "start_time": "2021-10-19T13:01:07.855Z"
   },
   {
    "duration": 10,
    "start_time": "2021-10-19T13:01:24.319Z"
   },
   {
    "duration": 11,
    "start_time": "2021-10-19T13:01:54.548Z"
   },
   {
    "duration": 10,
    "start_time": "2021-10-19T13:02:14.090Z"
   },
   {
    "duration": 11,
    "start_time": "2021-10-19T13:02:21.796Z"
   },
   {
    "duration": 11,
    "start_time": "2021-10-19T13:05:54.793Z"
   },
   {
    "duration": 11,
    "start_time": "2021-10-19T13:05:55.378Z"
   },
   {
    "duration": 10,
    "start_time": "2021-10-19T13:05:56.331Z"
   },
   {
    "duration": 17,
    "start_time": "2021-10-19T13:06:40.599Z"
   },
   {
    "duration": 10,
    "start_time": "2021-10-19T13:07:15.592Z"
   },
   {
    "duration": 12,
    "start_time": "2021-10-19T13:07:45.189Z"
   },
   {
    "duration": 11,
    "start_time": "2021-10-19T13:07:53.875Z"
   },
   {
    "duration": 15,
    "start_time": "2021-10-19T13:07:57.623Z"
   },
   {
    "duration": 12,
    "start_time": "2021-10-19T13:07:58.022Z"
   },
   {
    "duration": 15,
    "start_time": "2021-10-19T13:08:31.933Z"
   },
   {
    "duration": 11,
    "start_time": "2021-10-19T13:08:50.837Z"
   },
   {
    "duration": 17,
    "start_time": "2021-10-19T13:09:27.039Z"
   },
   {
    "duration": 11,
    "start_time": "2021-10-19T13:09:40.955Z"
   },
   {
    "duration": 10,
    "start_time": "2021-10-19T13:09:45.094Z"
   },
   {
    "duration": 11,
    "start_time": "2021-10-19T13:09:48.198Z"
   },
   {
    "duration": 11,
    "start_time": "2021-10-19T13:09:52.925Z"
   },
   {
    "duration": 11,
    "start_time": "2021-10-19T13:09:55.792Z"
   },
   {
    "duration": 11,
    "start_time": "2021-10-19T13:10:00.202Z"
   },
   {
    "duration": 21,
    "start_time": "2021-10-19T13:57:23.315Z"
   },
   {
    "duration": 20,
    "start_time": "2021-10-19T13:57:24.674Z"
   },
   {
    "duration": 2,
    "start_time": "2021-10-19T14:11:48.262Z"
   },
   {
    "duration": 25,
    "start_time": "2021-10-19T14:11:48.266Z"
   },
   {
    "duration": 11,
    "start_time": "2021-10-19T14:11:48.294Z"
   },
   {
    "duration": 35,
    "start_time": "2021-10-19T14:11:48.307Z"
   },
   {
    "duration": 25,
    "start_time": "2021-10-19T14:11:48.344Z"
   },
   {
    "duration": 3,
    "start_time": "2021-10-19T14:11:49.655Z"
   },
   {
    "duration": 10,
    "start_time": "2021-10-19T14:12:01.136Z"
   },
   {
    "duration": 34,
    "start_time": "2021-10-19T14:13:58.049Z"
   },
   {
    "duration": 35,
    "start_time": "2021-10-19T14:14:27.275Z"
   },
   {
    "duration": 30,
    "start_time": "2021-10-19T14:14:48.650Z"
   },
   {
    "duration": 35,
    "start_time": "2021-10-19T14:14:53.443Z"
   },
   {
    "duration": 36,
    "start_time": "2021-10-19T14:15:48.838Z"
   },
   {
    "duration": 8426,
    "start_time": "2021-10-19T14:16:06.680Z"
   },
   {
    "duration": 7418,
    "start_time": "2021-10-19T14:16:16.925Z"
   },
   {
    "duration": -59,
    "start_time": "2021-10-19T14:16:24.404Z"
   },
   {
    "duration": 7067,
    "start_time": "2021-10-19T14:16:35.986Z"
   },
   {
    "duration": 7437,
    "start_time": "2021-10-19T14:16:56.249Z"
   },
   {
    "duration": 9,
    "start_time": "2021-10-19T14:51:05.145Z"
   },
   {
    "duration": 97,
    "start_time": "2021-10-19T14:51:28.555Z"
   },
   {
    "duration": 114,
    "start_time": "2021-10-19T14:51:34.226Z"
   },
   {
    "duration": 78,
    "start_time": "2021-10-19T14:51:58.515Z"
   },
   {
    "duration": 74,
    "start_time": "2021-10-19T14:52:04.049Z"
   },
   {
    "duration": 9,
    "start_time": "2021-10-19T14:53:50.798Z"
   },
   {
    "duration": 100,
    "start_time": "2021-10-19T14:53:54.514Z"
   },
   {
    "duration": 303,
    "start_time": "2021-10-19T14:54:55.720Z"
   },
   {
    "duration": 13,
    "start_time": "2021-10-19T14:55:26.000Z"
   },
   {
    "duration": 13,
    "start_time": "2021-10-19T14:59:04.898Z"
   },
   {
    "duration": 9,
    "start_time": "2021-10-19T15:03:53.240Z"
   },
   {
    "duration": 72,
    "start_time": "2021-10-19T15:03:54.107Z"
   },
   {
    "duration": 14,
    "start_time": "2021-10-19T15:03:54.761Z"
   },
   {
    "duration": 4,
    "start_time": "2021-10-19T15:06:46.944Z"
   },
   {
    "duration": 5,
    "start_time": "2021-10-19T15:07:03.285Z"
   },
   {
    "duration": 8,
    "start_time": "2021-10-19T15:07:29.982Z"
   },
   {
    "duration": 7,
    "start_time": "2021-10-19T15:08:39.209Z"
   },
   {
    "duration": 7,
    "start_time": "2021-10-19T15:12:41.900Z"
   },
   {
    "duration": 8,
    "start_time": "2021-10-19T15:12:46.382Z"
   },
   {
    "duration": 7,
    "start_time": "2021-10-19T15:12:52.300Z"
   },
   {
    "duration": 313,
    "start_time": "2021-10-19T15:20:58.719Z"
   },
   {
    "duration": 16,
    "start_time": "2021-10-19T15:21:10.263Z"
   },
   {
    "duration": 26,
    "start_time": "2021-10-19T15:21:13.986Z"
   },
   {
    "duration": 287,
    "start_time": "2021-10-19T15:21:39.163Z"
   },
   {
    "duration": 300,
    "start_time": "2021-10-19T15:21:49.376Z"
   },
   {
    "duration": 17,
    "start_time": "2021-10-19T15:21:58.198Z"
   },
   {
    "duration": 281,
    "start_time": "2021-10-19T15:22:02.485Z"
   },
   {
    "duration": 80,
    "start_time": "2021-10-19T15:22:07.952Z"
   },
   {
    "duration": 347,
    "start_time": "2021-10-19T15:22:12.981Z"
   },
   {
    "duration": 26,
    "start_time": "2021-10-19T15:22:28.595Z"
   },
   {
    "duration": 88,
    "start_time": "2021-10-19T15:22:39.337Z"
   },
   {
    "duration": 25,
    "start_time": "2021-10-19T15:22:46.485Z"
   },
   {
    "duration": 90,
    "start_time": "2021-10-19T15:22:49.983Z"
   },
   {
    "duration": 285,
    "start_time": "2021-10-19T15:23:17.422Z"
   },
   {
    "duration": 382,
    "start_time": "2021-10-19T15:23:26.342Z"
   },
   {
    "duration": 29,
    "start_time": "2021-10-19T15:23:36.877Z"
   },
   {
    "duration": 170,
    "start_time": "2021-10-19T15:23:37.163Z"
   },
   {
    "duration": 277,
    "start_time": "2021-10-19T15:25:28.061Z"
   },
   {
    "duration": 8,
    "start_time": "2021-10-19T15:25:50.217Z"
   },
   {
    "duration": 8,
    "start_time": "2021-10-19T15:26:33.398Z"
   },
   {
    "duration": 10,
    "start_time": "2021-10-19T15:32:24.826Z"
   },
   {
    "duration": 280,
    "start_time": "2021-10-19T15:33:49.342Z"
   },
   {
    "duration": 10,
    "start_time": "2021-10-19T15:33:58.365Z"
   },
   {
    "duration": 610,
    "start_time": "2021-10-19T15:33:59.578Z"
   },
   {
    "duration": 24,
    "start_time": "2021-10-19T16:43:13.536Z"
   },
   {
    "duration": 3,
    "start_time": "2021-10-20T07:16:56.644Z"
   },
   {
    "duration": 127,
    "start_time": "2021-10-20T07:16:56.651Z"
   },
   {
    "duration": 17,
    "start_time": "2021-10-20T07:16:56.780Z"
   },
   {
    "duration": 24,
    "start_time": "2021-10-20T07:16:56.799Z"
   },
   {
    "duration": 16,
    "start_time": "2021-10-20T07:16:56.845Z"
   },
   {
    "duration": 54,
    "start_time": "2021-10-20T07:16:56.862Z"
   },
   {
    "duration": 71,
    "start_time": "2021-10-20T07:16:56.918Z"
   },
   {
    "duration": 8,
    "start_time": "2021-10-20T07:16:56.990Z"
   },
   {
    "duration": 85,
    "start_time": "2021-10-20T07:16:57.001Z"
   },
   {
    "duration": 10,
    "start_time": "2021-10-20T07:16:57.088Z"
   },
   {
    "duration": 19,
    "start_time": "2021-10-20T07:16:57.099Z"
   },
   {
    "duration": 21,
    "start_time": "2021-10-20T07:16:57.119Z"
   },
   {
    "duration": 8,
    "start_time": "2021-10-20T07:16:57.142Z"
   },
   {
    "duration": 30,
    "start_time": "2021-10-20T07:16:57.151Z"
   },
   {
    "duration": 18,
    "start_time": "2021-10-20T07:16:57.183Z"
   },
   {
    "duration": 28,
    "start_time": "2021-10-20T07:16:57.203Z"
   },
   {
    "duration": 466,
    "start_time": "2021-10-20T07:16:57.232Z"
   },
   {
    "duration": 2039,
    "start_time": "2021-10-20T07:16:57.699Z"
   },
   {
    "duration": 22,
    "start_time": "2021-10-20T07:16:59.740Z"
   },
   {
    "duration": 4,
    "start_time": "2021-10-20T07:16:59.764Z"
   },
   {
    "duration": 12,
    "start_time": "2021-10-20T07:16:59.769Z"
   },
   {
    "duration": 42,
    "start_time": "2021-10-20T07:16:59.783Z"
   },
   {
    "duration": 27,
    "start_time": "2021-10-20T07:16:59.845Z"
   },
   {
    "duration": 11,
    "start_time": "2021-10-20T07:16:59.875Z"
   },
   {
    "duration": 5,
    "start_time": "2021-10-20T07:16:59.888Z"
   },
   {
    "duration": 65,
    "start_time": "2021-10-20T07:16:59.895Z"
   },
   {
    "duration": 326,
    "start_time": "2021-10-20T07:16:59.962Z"
   },
   {
    "duration": 59,
    "start_time": "2021-10-20T07:17:00.290Z"
   },
   {
    "duration": 328,
    "start_time": "2021-10-20T07:17:00.352Z"
   },
   {
    "duration": 11,
    "start_time": "2021-10-20T07:17:00.682Z"
   },
   {
    "duration": 14,
    "start_time": "2021-10-20T07:17:00.695Z"
   },
   {
    "duration": 329,
    "start_time": "2021-10-20T07:17:00.711Z"
   },
   {
    "duration": 9,
    "start_time": "2021-10-20T07:17:01.042Z"
   },
   {
    "duration": 122,
    "start_time": "2021-10-20T07:17:01.053Z"
   },
   {
    "duration": 113,
    "start_time": "2021-10-20T07:17:08.043Z"
   },
   {
    "duration": 9,
    "start_time": "2021-10-20T07:17:18.111Z"
   },
   {
    "duration": 27,
    "start_time": "2021-10-20T07:17:55.704Z"
   },
   {
    "duration": 107,
    "start_time": "2021-10-20T07:18:25.347Z"
   },
   {
    "duration": 28,
    "start_time": "2021-10-20T07:18:27.564Z"
   },
   {
    "duration": 28,
    "start_time": "2021-10-20T07:27:41.831Z"
   },
   {
    "duration": 43,
    "start_time": "2021-10-20T07:27:45.530Z"
   },
   {
    "duration": 34,
    "start_time": "2021-10-20T07:27:49.131Z"
   },
   {
    "duration": 88,
    "start_time": "2021-10-20T07:28:53.764Z"
   },
   {
    "duration": 178,
    "start_time": "2021-10-20T07:29:11.898Z"
   },
   {
    "duration": 174,
    "start_time": "2021-10-20T07:30:09.173Z"
   },
   {
    "duration": 175,
    "start_time": "2021-10-20T07:30:57.389Z"
   },
   {
    "duration": 175,
    "start_time": "2021-10-20T07:32:34.523Z"
   },
   {
    "duration": 300,
    "start_time": "2021-10-20T07:32:40.440Z"
   },
   {
    "duration": 180,
    "start_time": "2021-10-20T07:32:46.338Z"
   },
   {
    "duration": 271,
    "start_time": "2021-10-20T07:33:43.350Z"
   },
   {
    "duration": 269,
    "start_time": "2021-10-20T07:34:06.310Z"
   },
   {
    "duration": 177,
    "start_time": "2021-10-20T07:34:11.033Z"
   },
   {
    "duration": 322,
    "start_time": "2021-10-20T07:34:11.755Z"
   },
   {
    "duration": 8,
    "start_time": "2021-10-20T07:35:00.819Z"
   },
   {
    "duration": 226,
    "start_time": "2021-10-20T07:35:43.813Z"
   },
   {
    "duration": 190,
    "start_time": "2021-10-20T07:35:49.015Z"
   },
   {
    "duration": 10,
    "start_time": "2021-10-20T07:35:52.130Z"
   },
   {
    "duration": 85,
    "start_time": "2021-10-20T07:40:52.223Z"
   },
   {
    "duration": 96,
    "start_time": "2021-10-20T07:40:58.550Z"
   },
   {
    "duration": 8,
    "start_time": "2021-10-20T07:41:13.870Z"
   },
   {
    "duration": 6,
    "start_time": "2021-10-20T07:41:17.559Z"
   },
   {
    "duration": 113,
    "start_time": "2021-10-20T07:42:00.615Z"
   },
   {
    "duration": 276,
    "start_time": "2021-10-20T07:42:03.090Z"
   },
   {
    "duration": 537,
    "start_time": "2021-10-20T07:42:06.703Z"
   },
   {
    "duration": 552,
    "start_time": "2021-10-20T07:42:15.197Z"
   },
   {
    "duration": 6,
    "start_time": "2021-10-20T07:43:03.796Z"
   },
   {
    "duration": 639,
    "start_time": "2021-10-20T07:43:05.261Z"
   },
   {
    "duration": 562,
    "start_time": "2021-10-20T07:43:15.037Z"
   },
   {
    "duration": 6,
    "start_time": "2021-10-20T07:43:47.885Z"
   },
   {
    "duration": 601,
    "start_time": "2021-10-20T07:43:49.169Z"
   },
   {
    "duration": 549,
    "start_time": "2021-10-20T07:43:57.615Z"
   },
   {
    "duration": 6,
    "start_time": "2021-10-20T07:44:33.706Z"
   },
   {
    "duration": 533,
    "start_time": "2021-10-20T07:44:34.596Z"
   },
   {
    "duration": 8,
    "start_time": "2021-10-20T07:45:01.731Z"
   },
   {
    "duration": 722,
    "start_time": "2021-10-20T07:45:02.654Z"
   },
   {
    "duration": 780,
    "start_time": "2021-10-20T07:46:00.851Z"
   },
   {
    "duration": 6,
    "start_time": "2021-10-20T07:47:07.820Z"
   },
   {
    "duration": 971,
    "start_time": "2021-10-20T07:47:09.442Z"
   },
   {
    "duration": 7,
    "start_time": "2021-10-20T07:48:07.230Z"
   },
   {
    "duration": 856,
    "start_time": "2021-10-20T07:48:08.752Z"
   },
   {
    "duration": 147,
    "start_time": "2021-10-20T07:49:47.122Z"
   },
   {
    "duration": 89,
    "start_time": "2021-10-20T07:49:54.973Z"
   },
   {
    "duration": 6,
    "start_time": "2021-10-20T07:50:01.593Z"
   },
   {
    "duration": 184,
    "start_time": "2021-10-20T07:50:03.463Z"
   },
   {
    "duration": 6,
    "start_time": "2021-10-20T07:50:48.886Z"
   },
   {
    "duration": 8794,
    "start_time": "2021-10-20T07:50:50.277Z"
   },
   {
    "duration": 8,
    "start_time": "2021-10-20T07:51:16.784Z"
   },
   {
    "duration": 188,
    "start_time": "2021-10-20T07:51:17.409Z"
   },
   {
    "duration": 7,
    "start_time": "2021-10-20T07:52:10.162Z"
   },
   {
    "duration": 94,
    "start_time": "2021-10-20T07:52:35.433Z"
   },
   {
    "duration": 191,
    "start_time": "2021-10-20T07:52:38.342Z"
   },
   {
    "duration": 88,
    "start_time": "2021-10-20T07:53:27.105Z"
   },
   {
    "duration": 801,
    "start_time": "2021-10-20T07:54:25.081Z"
   },
   {
    "duration": 713,
    "start_time": "2021-10-20T07:54:30.669Z"
   },
   {
    "duration": 1,
    "start_time": "2021-10-20T07:54:53.488Z"
   },
   {
    "duration": 6,
    "start_time": "2021-10-20T07:54:54.993Z"
   },
   {
    "duration": 202,
    "start_time": "2021-10-20T07:54:56.231Z"
   },
   {
    "duration": 7487,
    "start_time": "2021-10-20T07:55:21.519Z"
   },
   {
    "duration": 184,
    "start_time": "2021-10-20T07:55:39.508Z"
   },
   {
    "duration": 182,
    "start_time": "2021-10-20T07:56:10.905Z"
   },
   {
    "duration": 83,
    "start_time": "2021-10-20T07:57:51.075Z"
   },
   {
    "duration": 10,
    "start_time": "2021-10-20T07:58:32.015Z"
   },
   {
    "duration": 4,
    "start_time": "2021-10-20T07:58:48.237Z"
   },
   {
    "duration": 88,
    "start_time": "2021-10-20T07:59:46.225Z"
   },
   {
    "duration": 90,
    "start_time": "2021-10-20T07:59:50.677Z"
   },
   {
    "duration": 3,
    "start_time": "2021-10-20T07:59:53.194Z"
   },
   {
    "duration": 5,
    "start_time": "2021-10-20T08:00:04.807Z"
   },
   {
    "duration": 9,
    "start_time": "2021-10-20T08:00:20.421Z"
   },
   {
    "duration": 9,
    "start_time": "2021-10-20T08:01:09.134Z"
   },
   {
    "duration": 272,
    "start_time": "2021-10-20T08:01:25.368Z"
   },
   {
    "duration": 527,
    "start_time": "2021-10-20T08:01:32.704Z"
   },
   {
    "duration": 5,
    "start_time": "2021-10-20T08:02:56.179Z"
   },
   {
    "duration": 5,
    "start_time": "2021-10-20T08:03:00.973Z"
   },
   {
    "duration": 7,
    "start_time": "2021-10-20T08:03:07.497Z"
   },
   {
    "duration": 8,
    "start_time": "2021-10-20T08:03:13.762Z"
   },
   {
    "duration": 9,
    "start_time": "2021-10-20T08:08:03.104Z"
   },
   {
    "duration": 5,
    "start_time": "2021-10-20T08:09:05.155Z"
   },
   {
    "duration": 10,
    "start_time": "2021-10-20T08:09:09.862Z"
   },
   {
    "duration": 284,
    "start_time": "2021-10-20T08:09:36.636Z"
   },
   {
    "duration": 10,
    "start_time": "2021-10-20T08:09:48.572Z"
   },
   {
    "duration": 13,
    "start_time": "2021-10-20T08:10:30.220Z"
   },
   {
    "duration": 299,
    "start_time": "2021-10-20T08:10:46.971Z"
   },
   {
    "duration": 13,
    "start_time": "2021-10-20T08:10:57.725Z"
   },
   {
    "duration": 12,
    "start_time": "2021-10-20T08:11:18.968Z"
   },
   {
    "duration": 11,
    "start_time": "2021-10-20T08:11:25.750Z"
   },
   {
    "duration": 15,
    "start_time": "2021-10-20T08:13:05.268Z"
   },
   {
    "duration": 14,
    "start_time": "2021-10-20T08:13:15.338Z"
   },
   {
    "duration": 10,
    "start_time": "2021-10-20T08:13:51.731Z"
   },
   {
    "duration": 5,
    "start_time": "2021-10-20T08:14:41.209Z"
   },
   {
    "duration": 5,
    "start_time": "2021-10-20T08:14:44.932Z"
   },
   {
    "duration": 4,
    "start_time": "2021-10-20T08:14:50.851Z"
   },
   {
    "duration": 5,
    "start_time": "2021-10-20T08:15:01.335Z"
   },
   {
    "duration": 782,
    "start_time": "2021-10-20T08:18:57.767Z"
   },
   {
    "duration": 764,
    "start_time": "2021-10-20T08:19:09.065Z"
   },
   {
    "duration": 203,
    "start_time": "2021-10-20T08:19:31.866Z"
   },
   {
    "duration": 194,
    "start_time": "2021-10-20T08:20:34.725Z"
   },
   {
    "duration": 7,
    "start_time": "2021-10-20T08:24:11.686Z"
   },
   {
    "duration": 185,
    "start_time": "2021-10-20T08:24:15.058Z"
   },
   {
    "duration": 189,
    "start_time": "2021-10-20T08:24:16.244Z"
   },
   {
    "duration": 187,
    "start_time": "2021-10-20T08:24:17.448Z"
   },
   {
    "duration": 116,
    "start_time": "2021-10-20T09:46:21.764Z"
   },
   {
    "duration": 3,
    "start_time": "2021-10-20T09:46:34.869Z"
   },
   {
    "duration": 131,
    "start_time": "2021-10-20T09:46:34.876Z"
   },
   {
    "duration": 37,
    "start_time": "2021-10-20T09:46:35.009Z"
   },
   {
    "duration": 15,
    "start_time": "2021-10-20T09:46:35.048Z"
   },
   {
    "duration": 14,
    "start_time": "2021-10-20T09:46:35.065Z"
   },
   {
    "duration": 71,
    "start_time": "2021-10-20T09:46:35.081Z"
   },
   {
    "duration": 55,
    "start_time": "2021-10-20T09:46:35.154Z"
   },
   {
    "duration": 8,
    "start_time": "2021-10-20T09:46:35.211Z"
   },
   {
    "duration": 92,
    "start_time": "2021-10-20T09:46:35.222Z"
   },
   {
    "duration": 9,
    "start_time": "2021-10-20T09:46:35.316Z"
   },
   {
    "duration": 32,
    "start_time": "2021-10-20T09:46:35.326Z"
   },
   {
    "duration": 30,
    "start_time": "2021-10-20T09:46:35.360Z"
   },
   {
    "duration": 19,
    "start_time": "2021-10-20T09:46:35.391Z"
   },
   {
    "duration": 57,
    "start_time": "2021-10-20T09:46:35.412Z"
   },
   {
    "duration": 30,
    "start_time": "2021-10-20T09:46:35.471Z"
   },
   {
    "duration": 30,
    "start_time": "2021-10-20T09:46:35.503Z"
   },
   {
    "duration": 453,
    "start_time": "2021-10-20T09:46:35.534Z"
   },
   {
    "duration": 2204,
    "start_time": "2021-10-20T09:46:35.988Z"
   },
   {
    "duration": 19,
    "start_time": "2021-10-20T09:46:38.194Z"
   },
   {
    "duration": 3,
    "start_time": "2021-10-20T09:46:38.215Z"
   },
   {
    "duration": 25,
    "start_time": "2021-10-20T09:46:38.219Z"
   },
   {
    "duration": 47,
    "start_time": "2021-10-20T09:46:38.246Z"
   },
   {
    "duration": 28,
    "start_time": "2021-10-20T09:46:38.295Z"
   },
   {
    "duration": 19,
    "start_time": "2021-10-20T09:46:38.326Z"
   },
   {
    "duration": 60,
    "start_time": "2021-10-20T09:46:38.347Z"
   },
   {
    "duration": 317,
    "start_time": "2021-10-20T09:46:38.409Z"
   },
   {
    "duration": 54,
    "start_time": "2021-10-20T09:46:38.728Z"
   },
   {
    "duration": 322,
    "start_time": "2021-10-20T09:46:38.784Z"
   },
   {
    "duration": 10,
    "start_time": "2021-10-20T09:46:39.109Z"
   },
   {
    "duration": 24,
    "start_time": "2021-10-20T09:46:39.121Z"
   },
   {
    "duration": 328,
    "start_time": "2021-10-20T09:46:39.148Z"
   },
   {
    "duration": 12,
    "start_time": "2021-10-20T09:46:39.478Z"
   },
   {
    "duration": 259,
    "start_time": "2021-10-20T09:46:39.493Z"
   },
   {
    "duration": 13,
    "start_time": "2021-10-20T09:47:47.169Z"
   },
   {
    "duration": 44,
    "start_time": "2021-10-20T09:48:22.302Z"
   },
   {
    "duration": 9,
    "start_time": "2021-10-20T09:48:37.793Z"
   },
   {
    "duration": 38,
    "start_time": "2021-10-20T09:48:58.818Z"
   },
   {
    "duration": 43,
    "start_time": "2021-10-20T09:49:09.338Z"
   },
   {
    "duration": 271,
    "start_time": "2021-10-20T09:51:27.903Z"
   },
   {
    "duration": 76,
    "start_time": "2021-10-20T09:51:34.758Z"
   },
   {
    "duration": 13,
    "start_time": "2021-10-20T09:51:35.109Z"
   },
   {
    "duration": 14,
    "start_time": "2021-10-20T09:51:58.020Z"
   },
   {
    "duration": 12,
    "start_time": "2021-10-20T09:52:04.771Z"
   },
   {
    "duration": 7,
    "start_time": "2021-10-20T09:54:13.134Z"
   },
   {
    "duration": 192,
    "start_time": "2021-10-20T09:54:23.973Z"
   },
   {
    "duration": 9,
    "start_time": "2021-10-20T10:16:09.106Z"
   },
   {
    "duration": 9,
    "start_time": "2021-10-20T10:16:36.812Z"
   },
   {
    "duration": 191,
    "start_time": "2021-10-20T10:21:04.513Z"
   },
   {
    "duration": 10,
    "start_time": "2021-10-20T10:23:03.807Z"
   },
   {
    "duration": 9,
    "start_time": "2021-10-20T10:23:34.351Z"
   },
   {
    "duration": 26,
    "start_time": "2021-10-20T10:23:53.837Z"
   },
   {
    "duration": 29,
    "start_time": "2021-10-20T10:24:14.211Z"
   },
   {
    "duration": 5,
    "start_time": "2021-10-20T10:24:26.045Z"
   },
   {
    "duration": 9,
    "start_time": "2021-10-20T10:25:45.538Z"
   },
   {
    "duration": 26,
    "start_time": "2021-10-20T10:26:26.489Z"
   },
   {
    "duration": 28,
    "start_time": "2021-10-20T10:26:36.758Z"
   },
   {
    "duration": 3,
    "start_time": "2021-10-20T10:27:53.642Z"
   },
   {
    "duration": 9,
    "start_time": "2021-10-20T10:31:48.633Z"
   },
   {
    "duration": 298,
    "start_time": "2021-10-20T10:32:29.663Z"
   },
   {
    "duration": 299,
    "start_time": "2021-10-20T10:32:34.736Z"
   },
   {
    "duration": 200,
    "start_time": "2021-10-20T10:34:30.366Z"
   },
   {
    "duration": 206,
    "start_time": "2021-10-20T10:35:22.812Z"
   },
   {
    "duration": 383,
    "start_time": "2021-10-20T10:35:55.055Z"
   },
   {
    "duration": 431,
    "start_time": "2021-10-20T10:36:00.533Z"
   },
   {
    "duration": 395,
    "start_time": "2021-10-20T10:36:04.010Z"
   },
   {
    "duration": 5,
    "start_time": "2021-10-20T10:38:01.325Z"
   },
   {
    "duration": 8160,
    "start_time": "2021-10-20T10:38:30.508Z"
   },
   {
    "duration": 7076,
    "start_time": "2021-10-20T10:38:48.026Z"
   },
   {
    "duration": 13,
    "start_time": "2021-10-20T10:40:35.329Z"
   },
   {
    "duration": 27,
    "start_time": "2021-10-20T10:40:55.725Z"
   },
   {
    "duration": 23,
    "start_time": "2021-10-20T10:41:08.314Z"
   },
   {
    "duration": 7170,
    "start_time": "2021-10-20T10:41:31.802Z"
   },
   {
    "duration": 305,
    "start_time": "2021-10-20T10:41:47.632Z"
   },
   {
    "duration": 9,
    "start_time": "2021-10-20T10:42:12.011Z"
   },
   {
    "duration": 6,
    "start_time": "2021-10-20T10:42:19.264Z"
   },
   {
    "duration": 26,
    "start_time": "2021-10-20T10:42:28.395Z"
   },
   {
    "duration": 7,
    "start_time": "2021-10-20T10:42:36.389Z"
   },
   {
    "duration": 22,
    "start_time": "2021-10-20T10:42:43.612Z"
   },
   {
    "duration": 9,
    "start_time": "2021-10-20T10:42:54.513Z"
   },
   {
    "duration": 43,
    "start_time": "2021-10-20T10:46:00.576Z"
   },
   {
    "duration": 40,
    "start_time": "2021-10-20T10:46:11.975Z"
   },
   {
    "duration": 39,
    "start_time": "2021-10-20T10:46:42.191Z"
   },
   {
    "duration": 45,
    "start_time": "2021-10-20T10:46:45.758Z"
   },
   {
    "duration": 41,
    "start_time": "2021-10-20T10:47:15.959Z"
   },
   {
    "duration": 41,
    "start_time": "2021-10-20T10:47:55.645Z"
   },
   {
    "duration": 44,
    "start_time": "2021-10-20T10:47:58.040Z"
   },
   {
    "duration": 3,
    "start_time": "2021-10-20T10:48:03.074Z"
   },
   {
    "duration": 126,
    "start_time": "2021-10-20T10:48:03.081Z"
   },
   {
    "duration": 38,
    "start_time": "2021-10-20T10:48:03.208Z"
   },
   {
    "duration": 15,
    "start_time": "2021-10-20T10:48:03.248Z"
   },
   {
    "duration": 18,
    "start_time": "2021-10-20T10:48:03.265Z"
   },
   {
    "duration": 67,
    "start_time": "2021-10-20T10:48:03.285Z"
   },
   {
    "duration": 53,
    "start_time": "2021-10-20T10:48:03.354Z"
   },
   {
    "duration": 9,
    "start_time": "2021-10-20T10:48:03.409Z"
   },
   {
    "duration": 92,
    "start_time": "2021-10-20T10:48:03.421Z"
   },
   {
    "duration": 11,
    "start_time": "2021-10-20T10:48:03.515Z"
   },
   {
    "duration": 19,
    "start_time": "2021-10-20T10:48:03.527Z"
   },
   {
    "duration": 12,
    "start_time": "2021-10-20T10:48:03.548Z"
   },
   {
    "duration": 9,
    "start_time": "2021-10-20T10:48:03.561Z"
   },
   {
    "duration": 28,
    "start_time": "2021-10-20T10:48:03.572Z"
   },
   {
    "duration": 44,
    "start_time": "2021-10-20T10:48:03.601Z"
   },
   {
    "duration": 20,
    "start_time": "2021-10-20T10:48:03.646Z"
   },
   {
    "duration": 442,
    "start_time": "2021-10-20T10:48:03.667Z"
   },
   {
    "duration": 2049,
    "start_time": "2021-10-20T10:48:04.111Z"
   },
   {
    "duration": 21,
    "start_time": "2021-10-20T10:48:06.162Z"
   },
   {
    "duration": 3,
    "start_time": "2021-10-20T10:48:06.185Z"
   },
   {
    "duration": 5,
    "start_time": "2021-10-20T10:48:06.190Z"
   },
   {
    "duration": 66,
    "start_time": "2021-10-20T10:48:06.196Z"
   },
   {
    "duration": 27,
    "start_time": "2021-10-20T10:48:06.264Z"
   },
   {
    "duration": 9,
    "start_time": "2021-10-20T10:48:06.295Z"
   },
   {
    "duration": 67,
    "start_time": "2021-10-20T10:48:06.306Z"
   },
   {
    "duration": 322,
    "start_time": "2021-10-20T10:48:06.374Z"
   },
   {
    "duration": 57,
    "start_time": "2021-10-20T10:48:06.698Z"
   },
   {
    "duration": 308,
    "start_time": "2021-10-20T10:48:06.757Z"
   },
   {
    "duration": 9,
    "start_time": "2021-10-20T10:48:07.066Z"
   },
   {
    "duration": 11,
    "start_time": "2021-10-20T10:48:07.077Z"
   },
   {
    "duration": 321,
    "start_time": "2021-10-20T10:48:07.089Z"
   },
   {
    "duration": 8,
    "start_time": "2021-10-20T10:48:07.412Z"
   },
   {
    "duration": 122,
    "start_time": "2021-10-20T10:48:07.422Z"
   },
   {
    "duration": 41,
    "start_time": "2021-10-20T10:48:07.545Z"
   },
   {
    "duration": 84,
    "start_time": "2021-10-20T10:48:07.588Z"
   },
   {
    "duration": 13,
    "start_time": "2021-10-20T10:48:07.673Z"
   },
   {
    "duration": 9,
    "start_time": "2021-10-20T10:48:07.687Z"
   },
   {
    "duration": 217,
    "start_time": "2021-10-20T10:48:07.698Z"
   },
   {
    "duration": 8,
    "start_time": "2021-10-20T10:48:07.917Z"
   },
   {
    "duration": 434,
    "start_time": "2021-10-20T10:48:07.927Z"
   },
   {
    "duration": 42,
    "start_time": "2021-10-20T10:48:08.362Z"
   },
   {
    "duration": 43,
    "start_time": "2021-10-20T10:48:11.338Z"
   },
   {
    "duration": 353,
    "start_time": "2021-10-20T10:48:44.812Z"
   },
   {
    "duration": 36,
    "start_time": "2021-10-20T10:48:47.925Z"
   },
   {
    "duration": 10,
    "start_time": "2021-10-20T10:48:48.462Z"
   },
   {
    "duration": 40,
    "start_time": "2021-10-20T10:48:59.352Z"
   },
   {
    "duration": 12,
    "start_time": "2021-10-20T10:50:22.140Z"
   },
   {
    "duration": 4,
    "start_time": "2021-10-20T10:50:27.087Z"
   },
   {
    "duration": 130,
    "start_time": "2021-10-20T10:50:27.093Z"
   },
   {
    "duration": 339,
    "start_time": "2021-10-20T10:50:27.225Z"
   },
   {
    "duration": 16,
    "start_time": "2021-10-20T10:50:27.566Z"
   },
   {
    "duration": 16,
    "start_time": "2021-10-20T10:50:27.583Z"
   },
   {
    "duration": 73,
    "start_time": "2021-10-20T10:50:27.600Z"
   },
   {
    "duration": 48,
    "start_time": "2021-10-20T10:50:27.676Z"
   },
   {
    "duration": 20,
    "start_time": "2021-10-20T10:50:27.726Z"
   },
   {
    "duration": 70,
    "start_time": "2021-10-20T10:50:27.747Z"
   },
   {
    "duration": 18,
    "start_time": "2021-10-20T10:50:27.818Z"
   },
   {
    "duration": 9,
    "start_time": "2021-10-20T10:50:27.837Z"
   },
   {
    "duration": 12,
    "start_time": "2021-10-20T10:50:27.847Z"
   },
   {
    "duration": 11,
    "start_time": "2021-10-20T10:50:27.860Z"
   },
   {
    "duration": 30,
    "start_time": "2021-10-20T10:50:27.872Z"
   },
   {
    "duration": 19,
    "start_time": "2021-10-20T10:50:27.904Z"
   },
   {
    "duration": 33,
    "start_time": "2021-10-20T10:50:27.925Z"
   },
   {
    "duration": 423,
    "start_time": "2021-10-20T10:50:27.959Z"
   },
   {
    "duration": 1795,
    "start_time": "2021-10-20T10:50:28.384Z"
   },
   {
    "duration": 20,
    "start_time": "2021-10-20T10:50:30.183Z"
   },
   {
    "duration": 4,
    "start_time": "2021-10-20T10:50:30.205Z"
   },
   {
    "duration": 32,
    "start_time": "2021-10-20T10:50:30.210Z"
   },
   {
    "duration": 90,
    "start_time": "2021-10-20T10:50:30.244Z"
   },
   {
    "duration": 31,
    "start_time": "2021-10-20T10:50:30.336Z"
   },
   {
    "duration": 30,
    "start_time": "2021-10-20T10:50:30.369Z"
   },
   {
    "duration": 64,
    "start_time": "2021-10-20T10:50:30.401Z"
   },
   {
    "duration": 314,
    "start_time": "2021-10-20T10:50:30.467Z"
   },
   {
    "duration": 64,
    "start_time": "2021-10-20T10:50:30.782Z"
   },
   {
    "duration": 324,
    "start_time": "2021-10-20T10:50:30.848Z"
   },
   {
    "duration": 13,
    "start_time": "2021-10-20T10:50:31.174Z"
   },
   {
    "duration": 32,
    "start_time": "2021-10-20T10:50:31.189Z"
   },
   {
    "duration": 332,
    "start_time": "2021-10-20T10:50:31.223Z"
   },
   {
    "duration": 9,
    "start_time": "2021-10-20T10:50:31.557Z"
   },
   {
    "duration": 442,
    "start_time": "2021-10-20T10:50:31.568Z"
   },
   {
    "duration": 48,
    "start_time": "2021-10-20T10:50:32.012Z"
   },
   {
    "duration": 70,
    "start_time": "2021-10-20T10:50:32.062Z"
   },
   {
    "duration": 14,
    "start_time": "2021-10-20T10:50:32.145Z"
   },
   {
    "duration": 28,
    "start_time": "2021-10-20T10:50:32.161Z"
   },
   {
    "duration": 220,
    "start_time": "2021-10-20T10:50:32.190Z"
   },
   {
    "duration": 9,
    "start_time": "2021-10-20T10:50:32.412Z"
   },
   {
    "duration": 313,
    "start_time": "2021-10-20T10:50:32.423Z"
   },
   {
    "duration": 45,
    "start_time": "2021-10-20T10:50:32.737Z"
   },
   {
    "duration": 10,
    "start_time": "2021-10-20T10:50:32.784Z"
   },
   {
    "duration": 10,
    "start_time": "2021-10-20T10:51:25.523Z"
   },
   {
    "duration": 5,
    "start_time": "2021-10-20T10:54:58.887Z"
   },
   {
    "duration": 4,
    "start_time": "2021-10-20T10:55:03.018Z"
   },
   {
    "duration": 298,
    "start_time": "2021-10-20T10:55:59.280Z"
   },
   {
    "duration": 9,
    "start_time": "2021-10-20T10:58:46.246Z"
   },
   {
    "duration": 9,
    "start_time": "2021-10-20T10:59:03.886Z"
   },
   {
    "duration": 9,
    "start_time": "2021-10-20T11:00:23.198Z"
   },
   {
    "duration": 92,
    "start_time": "2021-10-20T11:00:57.566Z"
   },
   {
    "duration": 29,
    "start_time": "2021-10-20T11:02:08.720Z"
   },
   {
    "duration": 18,
    "start_time": "2021-10-20T11:02:08.734Z"
   },
   {
    "duration": 10,
    "start_time": "2021-10-20T11:23:25.877Z"
   },
   {
    "duration": 294,
    "start_time": "2021-10-20T11:23:26.069Z"
   },
   {
    "duration": 40,
    "start_time": "2021-10-20T11:23:33.581Z"
   },
   {
    "duration": 10,
    "start_time": "2021-10-20T11:23:34.015Z"
   },
   {
    "duration": 9,
    "start_time": "2021-10-20T11:23:34.685Z"
   },
   {
    "duration": 7,
    "start_time": "2021-10-20T11:24:39.023Z"
   },
   {
    "duration": 4,
    "start_time": "2021-10-20T11:27:19.641Z"
   },
   {
    "duration": 7241,
    "start_time": "2021-10-20T11:27:26.733Z"
   },
   {
    "duration": 4,
    "start_time": "2021-10-20T11:27:50.224Z"
   },
   {
    "duration": 8,
    "start_time": "2021-10-20T11:27:57.438Z"
   },
   {
    "duration": 8,
    "start_time": "2021-10-20T11:28:08.561Z"
   },
   {
    "duration": 8,
    "start_time": "2021-10-20T11:28:14.066Z"
   },
   {
    "duration": 8,
    "start_time": "2021-10-20T11:28:40.617Z"
   },
   {
    "duration": 86,
    "start_time": "2021-10-20T11:30:37.201Z"
   },
   {
    "duration": 5,
    "start_time": "2021-10-20T11:30:41.895Z"
   },
   {
    "duration": 5,
    "start_time": "2021-10-20T11:31:19.409Z"
   },
   {
    "duration": 388,
    "start_time": "2021-10-20T11:32:00.574Z"
   },
   {
    "duration": 9,
    "start_time": "2021-10-20T11:32:05.748Z"
   },
   {
    "duration": 5,
    "start_time": "2021-10-20T11:33:04.091Z"
   },
   {
    "duration": 4,
    "start_time": "2021-10-20T11:33:45.486Z"
   },
   {
    "duration": 91,
    "start_time": "2021-10-20T11:34:18.263Z"
   },
   {
    "duration": 5,
    "start_time": "2021-10-20T11:34:18.724Z"
   },
   {
    "duration": 5,
    "start_time": "2021-10-20T11:34:24.089Z"
   },
   {
    "duration": 89,
    "start_time": "2021-10-20T11:34:24.597Z"
   },
   {
    "duration": 5,
    "start_time": "2021-10-20T11:34:25.181Z"
   },
   {
    "duration": 5,
    "start_time": "2021-10-20T11:34:30.212Z"
   },
   {
    "duration": 9,
    "start_time": "2021-10-20T11:37:24.794Z"
   },
   {
    "duration": 6,
    "start_time": "2021-10-20T12:17:32.380Z"
   },
   {
    "duration": 226,
    "start_time": "2021-10-20T12:17:34.595Z"
   },
   {
    "duration": 10,
    "start_time": "2021-10-20T12:17:55.915Z"
   },
   {
    "duration": 191,
    "start_time": "2021-10-20T12:18:08.764Z"
   },
   {
    "duration": 193,
    "start_time": "2021-10-20T12:18:21.068Z"
   },
   {
    "duration": 24,
    "start_time": "2021-10-20T12:18:42.668Z"
   },
   {
    "duration": 198,
    "start_time": "2021-10-20T12:19:47.384Z"
   },
   {
    "duration": 199,
    "start_time": "2021-10-20T12:19:47.857Z"
   },
   {
    "duration": 196,
    "start_time": "2021-10-20T12:19:48.448Z"
   },
   {
    "duration": 201,
    "start_time": "2021-10-20T12:20:41.863Z"
   },
   {
    "duration": 218,
    "start_time": "2021-10-20T12:20:42.066Z"
   },
   {
    "duration": 197,
    "start_time": "2021-10-20T12:20:42.583Z"
   },
   {
    "duration": 205,
    "start_time": "2021-10-20T12:20:49.558Z"
   },
   {
    "duration": 196,
    "start_time": "2021-10-20T12:20:53.123Z"
   },
   {
    "duration": 7010,
    "start_time": "2021-10-20T12:21:46.795Z"
   },
   {
    "duration": 8068,
    "start_time": "2021-10-20T12:22:32.978Z"
   },
   {
    "duration": 21,
    "start_time": "2021-10-20T12:23:39.851Z"
   },
   {
    "duration": 24,
    "start_time": "2021-10-20T12:23:45.167Z"
   },
   {
    "duration": 24,
    "start_time": "2021-10-20T12:23:49.880Z"
   },
   {
    "duration": 25,
    "start_time": "2021-10-20T12:23:53.226Z"
   },
   {
    "duration": 116,
    "start_time": "2021-10-20T12:24:02.159Z"
   },
   {
    "duration": 27,
    "start_time": "2021-10-20T12:24:09.934Z"
   },
   {
    "duration": 24,
    "start_time": "2021-10-20T12:24:16.942Z"
   },
   {
    "duration": 25,
    "start_time": "2021-10-20T12:24:19.742Z"
   },
   {
    "duration": 25,
    "start_time": "2021-10-20T12:24:40.445Z"
   },
   {
    "duration": 1892,
    "start_time": "2021-10-20T12:24:48.981Z"
   },
   {
    "duration": 684,
    "start_time": "2021-10-20T12:24:59.703Z"
   },
   {
    "duration": 165,
    "start_time": "2021-10-20T12:25:05.370Z"
   },
   {
    "duration": 631,
    "start_time": "2021-10-20T12:25:06.465Z"
   },
   {
    "duration": 25,
    "start_time": "2021-10-20T12:25:11.259Z"
   },
   {
    "duration": 107,
    "start_time": "2021-10-20T12:25:15.229Z"
   },
   {
    "duration": 25,
    "start_time": "2021-10-20T12:25:43.927Z"
   },
   {
    "duration": 25,
    "start_time": "2021-10-20T12:25:49.586Z"
   },
   {
    "duration": 652,
    "start_time": "2021-10-20T12:26:57.985Z"
   },
   {
    "duration": 90,
    "start_time": "2021-10-20T12:27:16.211Z"
   },
   {
    "duration": 165,
    "start_time": "2021-10-20T12:27:24.205Z"
   },
   {
    "duration": 163,
    "start_time": "2021-10-20T12:27:41.468Z"
   },
   {
    "duration": 284,
    "start_time": "2021-10-20T12:29:24.565Z"
   },
   {
    "duration": 6,
    "start_time": "2021-10-20T12:29:28.536Z"
   },
   {
    "duration": 256,
    "start_time": "2021-10-20T12:29:29.431Z"
   },
   {
    "duration": 288,
    "start_time": "2021-10-20T12:30:02.106Z"
   },
   {
    "duration": 255,
    "start_time": "2021-10-20T12:30:03.899Z"
   },
   {
    "duration": 273,
    "start_time": "2021-10-20T12:30:09.293Z"
   },
   {
    "duration": 248,
    "start_time": "2021-10-20T12:30:13.376Z"
   },
   {
    "duration": 297,
    "start_time": "2021-10-20T12:30:16.999Z"
   },
   {
    "duration": 95,
    "start_time": "2021-10-20T12:32:15.638Z"
   },
   {
    "duration": 93,
    "start_time": "2021-10-20T12:32:18.486Z"
   },
   {
    "duration": 3,
    "start_time": "2021-10-20T12:34:14.061Z"
   },
   {
    "duration": 108,
    "start_time": "2021-10-20T12:34:14.436Z"
   },
   {
    "duration": 12,
    "start_time": "2021-10-20T12:34:14.952Z"
   },
   {
    "duration": 15,
    "start_time": "2021-10-20T12:34:15.160Z"
   },
   {
    "duration": 15,
    "start_time": "2021-10-20T12:34:15.506Z"
   },
   {
    "duration": 41,
    "start_time": "2021-10-20T12:34:15.687Z"
   },
   {
    "duration": 48,
    "start_time": "2021-10-20T12:34:15.888Z"
   },
   {
    "duration": 8,
    "start_time": "2021-10-20T12:34:16.240Z"
   },
   {
    "duration": 69,
    "start_time": "2021-10-20T12:34:16.616Z"
   },
   {
    "duration": 10,
    "start_time": "2021-10-20T12:34:16.809Z"
   },
   {
    "duration": 4,
    "start_time": "2021-10-20T12:34:17.563Z"
   },
   {
    "duration": 8,
    "start_time": "2021-10-20T12:34:17.911Z"
   },
   {
    "duration": 9,
    "start_time": "2021-10-20T12:34:18.287Z"
   },
   {
    "duration": 20,
    "start_time": "2021-10-20T12:34:18.464Z"
   },
   {
    "duration": 18,
    "start_time": "2021-10-20T12:34:18.857Z"
   },
   {
    "duration": 18,
    "start_time": "2021-10-20T12:34:19.047Z"
   },
   {
    "duration": 411,
    "start_time": "2021-10-20T12:34:19.241Z"
   },
   {
    "duration": 1714,
    "start_time": "2021-10-20T12:34:19.654Z"
   },
   {
    "duration": 19,
    "start_time": "2021-10-20T12:34:21.370Z"
   },
   {
    "duration": 4,
    "start_time": "2021-10-20T12:34:21.391Z"
   },
   {
    "duration": 6,
    "start_time": "2021-10-20T12:34:21.396Z"
   },
   {
    "duration": 63,
    "start_time": "2021-10-20T12:34:21.403Z"
   },
   {
    "duration": 27,
    "start_time": "2021-10-20T12:34:21.468Z"
   },
   {
    "duration": 10,
    "start_time": "2021-10-20T12:34:22.181Z"
   },
   {
    "duration": 45,
    "start_time": "2021-10-20T12:34:22.367Z"
   },
   {
    "duration": 308,
    "start_time": "2021-10-20T12:34:22.557Z"
   },
   {
    "duration": 53,
    "start_time": "2021-10-20T12:34:22.931Z"
   },
   {
    "duration": 306,
    "start_time": "2021-10-20T12:34:23.143Z"
   },
   {
    "duration": 10,
    "start_time": "2021-10-20T12:34:23.495Z"
   },
   {
    "duration": 12,
    "start_time": "2021-10-20T12:34:23.697Z"
   },
   {
    "duration": 313,
    "start_time": "2021-10-20T12:34:23.885Z"
   },
   {
    "duration": 10,
    "start_time": "2021-10-20T12:34:24.663Z"
   },
   {
    "duration": 111,
    "start_time": "2021-10-20T12:34:24.873Z"
   },
   {
    "duration": 43,
    "start_time": "2021-10-20T12:34:25.674Z"
   },
   {
    "duration": 72,
    "start_time": "2021-10-20T12:34:26.283Z"
   },
   {
    "duration": 14,
    "start_time": "2021-10-20T12:34:26.498Z"
   },
   {
    "duration": 8,
    "start_time": "2021-10-20T12:34:26.890Z"
   },
   {
    "duration": 209,
    "start_time": "2021-10-20T12:34:27.284Z"
   },
   {
    "duration": 10,
    "start_time": "2021-10-20T12:34:27.673Z"
   },
   {
    "duration": 301,
    "start_time": "2021-10-20T12:34:27.878Z"
   },
   {
    "duration": 38,
    "start_time": "2021-10-20T12:34:28.181Z"
   },
   {
    "duration": 11,
    "start_time": "2021-10-20T12:34:28.269Z"
   },
   {
    "duration": 9,
    "start_time": "2021-10-20T12:34:28.434Z"
   },
   {
    "duration": 6,
    "start_time": "2021-10-20T12:34:28.801Z"
   },
   {
    "duration": 8,
    "start_time": "2021-10-20T12:34:28.993Z"
   },
   {
    "duration": 5,
    "start_time": "2021-10-20T12:34:29.368Z"
   },
   {
    "duration": 4,
    "start_time": "2021-10-20T12:34:29.747Z"
   },
   {
    "duration": 5,
    "start_time": "2021-10-20T12:34:30.120Z"
   },
   {
    "duration": 5,
    "start_time": "2021-10-20T12:34:30.480Z"
   },
   {
    "duration": 9,
    "start_time": "2021-10-20T12:34:31.029Z"
   },
   {
    "duration": 23,
    "start_time": "2021-10-20T12:34:31.234Z"
   },
   {
    "duration": 191,
    "start_time": "2021-10-20T12:34:31.640Z"
   },
   {
    "duration": 192,
    "start_time": "2021-10-20T12:34:31.834Z"
   },
   {
    "duration": 207,
    "start_time": "2021-10-20T12:34:32.028Z"
   },
   {
    "duration": 182,
    "start_time": "2021-10-20T12:34:32.397Z"
   },
   {
    "duration": 194,
    "start_time": "2021-10-20T12:34:32.588Z"
   },
   {
    "duration": 184,
    "start_time": "2021-10-20T12:34:32.795Z"
   },
   {
    "duration": 6,
    "start_time": "2021-10-20T12:34:33.177Z"
   },
   {
    "duration": 253,
    "start_time": "2021-10-20T12:34:33.380Z"
   },
   {
    "duration": 266,
    "start_time": "2021-10-20T12:34:33.635Z"
   },
   {
    "duration": 259,
    "start_time": "2021-10-20T12:34:33.903Z"
   },
   {
    "duration": 9,
    "start_time": "2021-10-20T12:38:34.025Z"
   },
   {
    "duration": 110,
    "start_time": "2021-10-20T12:38:34.765Z"
   },
   {
    "duration": 267,
    "start_time": "2021-10-20T12:40:57.236Z"
   },
   {
    "duration": 267,
    "start_time": "2021-10-20T12:41:01.312Z"
   },
   {
    "duration": 6,
    "start_time": "2021-10-20T14:22:19.378Z"
   },
   {
    "duration": 8,
    "start_time": "2021-10-20T14:22:20.214Z"
   },
   {
    "duration": 5,
    "start_time": "2021-10-20T14:22:22.678Z"
   },
   {
    "duration": 5,
    "start_time": "2021-10-20T14:22:23.119Z"
   },
   {
    "duration": 5,
    "start_time": "2021-10-20T14:22:23.627Z"
   },
   {
    "duration": 6,
    "start_time": "2021-10-20T14:22:24.742Z"
   },
   {
    "duration": 6,
    "start_time": "2021-10-20T14:22:30.202Z"
   },
   {
    "duration": 12,
    "start_time": "2021-10-20T14:22:30.701Z"
   },
   {
    "duration": 5,
    "start_time": "2021-10-20T14:22:34.968Z"
   },
   {
    "duration": 4,
    "start_time": "2021-10-20T14:22:35.402Z"
   },
   {
    "duration": 5,
    "start_time": "2021-10-20T14:22:35.832Z"
   },
   {
    "duration": 5,
    "start_time": "2021-10-20T14:22:36.778Z"
   },
   {
    "duration": 117,
    "start_time": "2021-10-20T14:25:38.744Z"
   },
   {
    "duration": 3,
    "start_time": "2021-10-20T14:26:22.304Z"
   },
   {
    "duration": 3,
    "start_time": "2021-10-20T14:26:28.202Z"
   },
   {
    "duration": 111,
    "start_time": "2021-10-20T14:26:28.598Z"
   },
   {
    "duration": 12,
    "start_time": "2021-10-20T14:26:28.977Z"
   },
   {
    "duration": 15,
    "start_time": "2021-10-20T14:26:29.517Z"
   },
   {
    "duration": 14,
    "start_time": "2021-10-20T14:26:29.682Z"
   },
   {
    "duration": 42,
    "start_time": "2021-10-20T14:26:29.881Z"
   },
   {
    "duration": 46,
    "start_time": "2021-10-20T14:26:30.067Z"
   },
   {
    "duration": 7,
    "start_time": "2021-10-20T14:26:30.387Z"
   },
   {
    "duration": 71,
    "start_time": "2021-10-20T14:26:30.747Z"
   },
   {
    "duration": 9,
    "start_time": "2021-10-20T14:26:30.925Z"
   },
   {
    "duration": 3,
    "start_time": "2021-10-20T14:26:31.670Z"
   },
   {
    "duration": 7,
    "start_time": "2021-10-20T14:26:32.016Z"
   },
   {
    "duration": 22,
    "start_time": "2021-10-20T14:26:32.400Z"
   },
   {
    "duration": 17,
    "start_time": "2021-10-20T14:26:32.777Z"
   },
   {
    "duration": 18,
    "start_time": "2021-10-20T14:26:32.983Z"
   },
   {
    "duration": 418,
    "start_time": "2021-10-20T14:26:33.194Z"
   },
   {
    "duration": 1857,
    "start_time": "2021-10-20T14:26:33.614Z"
   },
   {
    "duration": 24,
    "start_time": "2021-10-20T14:26:35.474Z"
   },
   {
    "duration": 4,
    "start_time": "2021-10-20T14:26:35.502Z"
   },
   {
    "duration": 8,
    "start_time": "2021-10-20T14:26:35.508Z"
   },
   {
    "duration": 79,
    "start_time": "2021-10-20T14:26:35.518Z"
   },
   {
    "duration": 50,
    "start_time": "2021-10-20T14:26:35.599Z"
   },
   {
    "duration": 9,
    "start_time": "2021-10-20T14:26:36.008Z"
   },
   {
    "duration": 43,
    "start_time": "2021-10-20T14:26:36.205Z"
   },
   {
    "duration": 295,
    "start_time": "2021-10-20T14:26:36.349Z"
   },
   {
    "duration": 52,
    "start_time": "2021-10-20T14:26:36.754Z"
   },
   {
    "duration": 302,
    "start_time": "2021-10-20T14:26:36.994Z"
   },
   {
    "duration": 9,
    "start_time": "2021-10-20T14:26:37.417Z"
   },
   {
    "duration": 9,
    "start_time": "2021-10-20T14:26:37.577Z"
   },
   {
    "duration": 308,
    "start_time": "2021-10-20T14:26:37.776Z"
   },
   {
    "duration": 8,
    "start_time": "2021-10-20T14:26:38.582Z"
   },
   {
    "duration": 104,
    "start_time": "2021-10-20T14:26:38.873Z"
   },
   {
    "duration": 156,
    "start_time": "2021-10-20T14:26:44.346Z"
   },
   {
    "duration": 106,
    "start_time": "2021-10-20T14:26:47.982Z"
   },
   {
    "duration": 108,
    "start_time": "2021-10-20T14:27:00.991Z"
   },
   {
    "duration": 573,
    "start_time": "2021-10-20T14:28:16.394Z"
   },
   {
    "duration": 169,
    "start_time": "2021-10-20T14:28:41.206Z"
   },
   {
    "duration": 10,
    "start_time": "2021-10-20T14:29:53.745Z"
   },
   {
    "duration": 28,
    "start_time": "2021-10-20T14:29:53.948Z"
   },
   {
    "duration": 308,
    "start_time": "2021-10-20T14:29:54.147Z"
   },
   {
    "duration": 55,
    "start_time": "2021-10-20T14:29:54.537Z"
   },
   {
    "duration": 317,
    "start_time": "2021-10-20T14:29:54.778Z"
   },
   {
    "duration": 10,
    "start_time": "2021-10-20T14:29:55.445Z"
   },
   {
    "duration": 10,
    "start_time": "2021-10-20T14:29:55.720Z"
   },
   {
    "duration": 302,
    "start_time": "2021-10-20T14:29:55.992Z"
   },
   {
    "duration": 10,
    "start_time": "2021-10-20T14:29:57.665Z"
   },
   {
    "duration": 109,
    "start_time": "2021-10-20T14:29:58.019Z"
   },
   {
    "duration": 108,
    "start_time": "2021-10-20T14:30:10.801Z"
   },
   {
    "duration": 209,
    "start_time": "2021-10-21T07:29:52.095Z"
   },
   {
    "duration": 1351,
    "start_time": "2021-10-21T07:29:56.734Z"
   },
   {
    "duration": 124,
    "start_time": "2021-10-21T07:29:58.087Z"
   },
   {
    "duration": 14,
    "start_time": "2021-10-21T07:29:58.214Z"
   },
   {
    "duration": 14,
    "start_time": "2021-10-21T07:29:58.230Z"
   },
   {
    "duration": 13,
    "start_time": "2021-10-21T07:29:58.246Z"
   },
   {
    "duration": 74,
    "start_time": "2021-10-21T07:29:58.261Z"
   },
   {
    "duration": 64,
    "start_time": "2021-10-21T07:29:58.337Z"
   },
   {
    "duration": 8,
    "start_time": "2021-10-21T07:29:58.403Z"
   },
   {
    "duration": 83,
    "start_time": "2021-10-21T07:29:58.413Z"
   },
   {
    "duration": 10,
    "start_time": "2021-10-21T07:29:58.498Z"
   },
   {
    "duration": 6,
    "start_time": "2021-10-21T07:29:58.509Z"
   },
   {
    "duration": 10,
    "start_time": "2021-10-21T07:29:58.517Z"
   },
   {
    "duration": 9,
    "start_time": "2021-10-21T07:29:58.529Z"
   },
   {
    "duration": 31,
    "start_time": "2021-10-21T07:29:58.539Z"
   },
   {
    "duration": 17,
    "start_time": "2021-10-21T07:29:58.592Z"
   },
   {
    "duration": 16,
    "start_time": "2021-10-21T07:29:58.610Z"
   },
   {
    "duration": 471,
    "start_time": "2021-10-21T07:29:58.628Z"
   },
   {
    "duration": 2188,
    "start_time": "2021-10-21T07:29:59.101Z"
   },
   {
    "duration": 25,
    "start_time": "2021-10-21T07:30:01.291Z"
   },
   {
    "duration": 3,
    "start_time": "2021-10-21T07:30:01.318Z"
   },
   {
    "duration": 24,
    "start_time": "2021-10-21T07:30:01.322Z"
   },
   {
    "duration": 66,
    "start_time": "2021-10-21T07:30:01.347Z"
   },
   {
    "duration": 28,
    "start_time": "2021-10-21T07:30:01.417Z"
   },
   {
    "duration": 22,
    "start_time": "2021-10-21T07:30:01.447Z"
   },
   {
    "duration": 68,
    "start_time": "2021-10-21T07:30:01.470Z"
   },
   {
    "duration": 314,
    "start_time": "2021-10-21T07:30:01.539Z"
   },
   {
    "duration": 58,
    "start_time": "2021-10-21T07:30:01.855Z"
   },
   {
    "duration": 312,
    "start_time": "2021-10-21T07:30:01.915Z"
   },
   {
    "duration": 10,
    "start_time": "2021-10-21T07:30:02.229Z"
   },
   {
    "duration": 20,
    "start_time": "2021-10-21T07:30:02.240Z"
   },
   {
    "duration": 330,
    "start_time": "2021-10-21T07:30:02.261Z"
   },
   {
    "duration": 9,
    "start_time": "2021-10-21T07:30:02.593Z"
   },
   {
    "duration": 657,
    "start_time": "2021-10-21T07:30:02.604Z"
   },
   {
    "duration": 59,
    "start_time": "2021-10-21T07:30:03.262Z"
   },
   {
    "duration": 126,
    "start_time": "2021-10-21T07:30:03.323Z"
   },
   {
    "duration": 53,
    "start_time": "2021-10-21T07:30:03.451Z"
   },
   {
    "duration": 7,
    "start_time": "2021-10-21T07:30:03.505Z"
   },
   {
    "duration": 216,
    "start_time": "2021-10-21T07:30:03.513Z"
   },
   {
    "duration": 9,
    "start_time": "2021-10-21T07:30:03.731Z"
   },
   {
    "duration": 304,
    "start_time": "2021-10-21T07:30:03.741Z"
   },
   {
    "duration": 49,
    "start_time": "2021-10-21T07:30:04.047Z"
   },
   {
    "duration": 11,
    "start_time": "2021-10-21T07:30:04.098Z"
   },
   {
    "duration": 15,
    "start_time": "2021-10-21T07:30:04.111Z"
   },
   {
    "duration": 7,
    "start_time": "2021-10-21T07:30:04.127Z"
   },
   {
    "duration": 14,
    "start_time": "2021-10-21T07:30:04.135Z"
   },
   {
    "duration": 7,
    "start_time": "2021-10-21T07:30:04.150Z"
   },
   {
    "duration": 8,
    "start_time": "2021-10-21T07:30:04.158Z"
   },
   {
    "duration": 24,
    "start_time": "2021-10-21T07:30:04.168Z"
   },
   {
    "duration": 6,
    "start_time": "2021-10-21T07:30:04.194Z"
   },
   {
    "duration": 11,
    "start_time": "2021-10-21T07:30:04.202Z"
   },
   {
    "duration": 25,
    "start_time": "2021-10-21T07:30:04.215Z"
   },
   {
    "duration": 216,
    "start_time": "2021-10-21T07:30:04.242Z"
   },
   {
    "duration": 215,
    "start_time": "2021-10-21T07:30:04.459Z"
   },
   {
    "duration": 207,
    "start_time": "2021-10-21T07:30:04.676Z"
   },
   {
    "duration": 215,
    "start_time": "2021-10-21T07:30:04.885Z"
   },
   {
    "duration": 205,
    "start_time": "2021-10-21T07:30:05.102Z"
   },
   {
    "duration": 189,
    "start_time": "2021-10-21T07:30:05.308Z"
   },
   {
    "duration": 7,
    "start_time": "2021-10-21T07:30:05.498Z"
   },
   {
    "duration": 270,
    "start_time": "2021-10-21T07:30:05.506Z"
   },
   {
    "duration": 266,
    "start_time": "2021-10-21T07:30:05.778Z"
   },
   {
    "duration": 273,
    "start_time": "2021-10-21T07:30:06.046Z"
   },
   {
    "duration": 6,
    "start_time": "2021-10-21T07:30:19.241Z"
   },
   {
    "duration": 1178,
    "start_time": "2021-10-21T07:30:24.551Z"
   },
   {
    "duration": 64,
    "start_time": "2021-10-21T07:31:00.471Z"
   },
   {
    "duration": 113,
    "start_time": "2021-10-21T07:31:02.936Z"
   },
   {
    "duration": 6,
    "start_time": "2021-10-21T07:31:27.039Z"
   },
   {
    "duration": 6,
    "start_time": "2021-10-21T07:31:37.029Z"
   },
   {
    "duration": 4,
    "start_time": "2021-10-21T07:31:40.927Z"
   },
   {
    "duration": 10,
    "start_time": "2021-10-21T07:32:04.102Z"
   },
   {
    "duration": 203,
    "start_time": "2021-10-21T07:32:37.359Z"
   },
   {
    "duration": 40,
    "start_time": "2021-10-21T07:32:41.466Z"
   },
   {
    "duration": 38,
    "start_time": "2021-10-21T07:32:51.645Z"
   },
   {
    "duration": 386,
    "start_time": "2021-10-21T07:33:40.640Z"
   },
   {
    "duration": 322,
    "start_time": "2021-10-21T07:33:44.755Z"
   },
   {
    "duration": 6,
    "start_time": "2021-10-21T07:44:09.497Z"
   },
   {
    "duration": 8,
    "start_time": "2021-10-21T07:44:10.192Z"
   },
   {
    "duration": 4,
    "start_time": "2021-10-21T07:44:11.706Z"
   },
   {
    "duration": 5,
    "start_time": "2021-10-21T07:44:13.205Z"
   },
   {
    "duration": 5,
    "start_time": "2021-10-21T07:44:15.002Z"
   },
   {
    "duration": 4,
    "start_time": "2021-10-21T07:44:17.009Z"
   },
   {
    "duration": 9,
    "start_time": "2021-10-21T07:44:20.524Z"
   },
   {
    "duration": 23,
    "start_time": "2021-10-21T07:44:20.997Z"
   },
   {
    "duration": 193,
    "start_time": "2021-10-21T07:44:37.500Z"
   },
   {
    "duration": 189,
    "start_time": "2021-10-21T07:44:38.805Z"
   },
   {
    "duration": 207,
    "start_time": "2021-10-21T07:44:39.357Z"
   },
   {
    "duration": 189,
    "start_time": "2021-10-21T07:44:40.608Z"
   },
   {
    "duration": 185,
    "start_time": "2021-10-21T07:44:41.190Z"
   },
   {
    "duration": 184,
    "start_time": "2021-10-21T07:44:41.800Z"
   },
   {
    "duration": 6,
    "start_time": "2021-10-21T07:44:44.807Z"
   },
   {
    "duration": 258,
    "start_time": "2021-10-21T07:44:53.393Z"
   },
   {
    "duration": 255,
    "start_time": "2021-10-21T07:44:53.910Z"
   },
   {
    "duration": 254,
    "start_time": "2021-10-21T07:44:54.722Z"
   },
   {
    "duration": 52191,
    "start_time": "2021-10-21T10:59:02.534Z"
   },
   {
    "duration": 147,
    "start_time": "2021-10-21T10:59:54.727Z"
   },
   {
    "duration": 15,
    "start_time": "2021-10-21T10:59:54.876Z"
   },
   {
    "duration": 17,
    "start_time": "2021-10-21T10:59:54.893Z"
   },
   {
    "duration": 23,
    "start_time": "2021-10-21T10:59:54.912Z"
   },
   {
    "duration": 61,
    "start_time": "2021-10-21T10:59:54.937Z"
   },
   {
    "duration": 68,
    "start_time": "2021-10-21T10:59:54.999Z"
   },
   {
    "duration": 8,
    "start_time": "2021-10-21T10:59:55.070Z"
   },
   {
    "duration": 75,
    "start_time": "2021-10-21T10:59:55.081Z"
   },
   {
    "duration": 18,
    "start_time": "2021-10-21T10:59:55.158Z"
   },
   {
    "duration": 6,
    "start_time": "2021-10-21T10:59:55.177Z"
   },
   {
    "duration": 12,
    "start_time": "2021-10-21T10:59:55.185Z"
   },
   {
    "duration": 29,
    "start_time": "2021-10-21T10:59:55.199Z"
   },
   {
    "duration": 44,
    "start_time": "2021-10-21T10:59:55.230Z"
   },
   {
    "duration": 19,
    "start_time": "2021-10-21T10:59:55.276Z"
   },
   {
    "duration": 863,
    "start_time": "2021-10-21T10:59:55.297Z"
   },
   {
    "duration": 1894,
    "start_time": "2021-10-21T10:59:56.162Z"
   },
   {
    "duration": 41,
    "start_time": "2021-10-21T10:59:58.058Z"
   },
   {
    "duration": 4,
    "start_time": "2021-10-21T10:59:58.101Z"
   },
   {
    "duration": 6,
    "start_time": "2021-10-21T10:59:58.107Z"
   },
   {
    "duration": 76,
    "start_time": "2021-10-21T10:59:58.115Z"
   },
   {
    "duration": 87,
    "start_time": "2021-10-21T10:59:58.193Z"
   },
   {
    "duration": 9,
    "start_time": "2021-10-21T10:59:58.284Z"
   },
   {
    "duration": 37,
    "start_time": "2021-10-21T10:59:58.295Z"
   },
   {
    "duration": 342,
    "start_time": "2021-10-21T10:59:58.334Z"
   },
   {
    "duration": 58,
    "start_time": "2021-10-21T10:59:58.678Z"
   },
   {
    "duration": 349,
    "start_time": "2021-10-21T10:59:58.738Z"
   },
   {
    "duration": 10,
    "start_time": "2021-10-21T10:59:59.089Z"
   },
   {
    "duration": 16,
    "start_time": "2021-10-21T10:59:59.101Z"
   },
   {
    "duration": 347,
    "start_time": "2021-10-21T10:59:59.119Z"
   },
   {
    "duration": 10,
    "start_time": "2021-10-21T10:59:59.467Z"
   },
   {
    "duration": 759,
    "start_time": "2021-10-21T10:59:59.479Z"
   },
   {
    "duration": 68,
    "start_time": "2021-10-21T11:00:00.239Z"
   },
   {
    "duration": 135,
    "start_time": "2021-10-21T11:00:00.364Z"
   },
   {
    "duration": 14,
    "start_time": "2021-10-21T11:00:00.501Z"
   },
   {
    "duration": 15,
    "start_time": "2021-10-21T11:00:00.517Z"
   },
   {
    "duration": 242,
    "start_time": "2021-10-21T11:00:00.534Z"
   },
   {
    "duration": 9,
    "start_time": "2021-10-21T11:00:00.778Z"
   },
   {
    "duration": 322,
    "start_time": "2021-10-21T11:00:00.788Z"
   },
   {
    "duration": 55,
    "start_time": "2021-10-21T11:00:01.112Z"
   },
   {
    "duration": 14,
    "start_time": "2021-10-21T11:00:01.169Z"
   },
   {
    "duration": 46,
    "start_time": "2021-10-21T11:00:01.185Z"
   },
   {
    "duration": 117,
    "start_time": "2021-10-21T11:00:01.233Z"
   },
   {
    "duration": 56,
    "start_time": "2021-10-21T11:00:01.352Z"
   },
   {
    "duration": 22,
    "start_time": "2021-10-21T11:00:01.410Z"
   },
   {
    "duration": 44,
    "start_time": "2021-10-21T11:00:01.434Z"
   },
   {
    "duration": 26,
    "start_time": "2021-10-21T11:00:01.480Z"
   },
   {
    "duration": 24,
    "start_time": "2021-10-21T11:00:01.508Z"
   },
   {
    "duration": 34,
    "start_time": "2021-10-21T11:00:01.534Z"
   },
   {
    "duration": 70,
    "start_time": "2021-10-21T11:00:01.570Z"
   },
   {
    "duration": 264,
    "start_time": "2021-10-21T11:00:01.642Z"
   },
   {
    "duration": 220,
    "start_time": "2021-10-21T11:00:01.907Z"
   },
   {
    "duration": 234,
    "start_time": "2021-10-21T11:00:02.129Z"
   },
   {
    "duration": 221,
    "start_time": "2021-10-21T11:00:02.365Z"
   },
   {
    "duration": 214,
    "start_time": "2021-10-21T11:00:02.588Z"
   },
   {
    "duration": 229,
    "start_time": "2021-10-21T11:00:02.803Z"
   },
   {
    "duration": 7,
    "start_time": "2021-10-21T11:00:03.034Z"
   },
   {
    "duration": 301,
    "start_time": "2021-10-21T11:00:03.043Z"
   },
   {
    "duration": 299,
    "start_time": "2021-10-21T11:00:03.346Z"
   },
   {
    "duration": 297,
    "start_time": "2021-10-21T11:00:03.647Z"
   },
   {
    "duration": 3,
    "start_time": "2021-10-21T11:44:03.062Z"
   },
   {
    "duration": 225,
    "start_time": "2021-10-21T11:47:47.797Z"
   },
   {
    "duration": 1375,
    "start_time": "2021-10-21T11:47:51.999Z"
   },
   {
    "duration": 126,
    "start_time": "2021-10-21T11:47:53.376Z"
   },
   {
    "duration": 13,
    "start_time": "2021-10-21T11:47:53.504Z"
   },
   {
    "duration": 14,
    "start_time": "2021-10-21T11:47:53.518Z"
   },
   {
    "duration": 13,
    "start_time": "2021-10-21T11:47:53.533Z"
   },
   {
    "duration": 76,
    "start_time": "2021-10-21T11:47:53.548Z"
   },
   {
    "duration": 53,
    "start_time": "2021-10-21T11:47:53.626Z"
   },
   {
    "duration": 15,
    "start_time": "2021-10-21T11:47:53.682Z"
   },
   {
    "duration": 70,
    "start_time": "2021-10-21T11:47:53.699Z"
   },
   {
    "duration": 21,
    "start_time": "2021-10-21T11:47:53.771Z"
   },
   {
    "duration": 6,
    "start_time": "2021-10-21T11:47:53.794Z"
   },
   {
    "duration": 10,
    "start_time": "2021-10-21T11:47:53.802Z"
   },
   {
    "duration": 25,
    "start_time": "2021-10-21T11:47:53.814Z"
   },
   {
    "duration": 16,
    "start_time": "2021-10-21T11:47:53.841Z"
   },
   {
    "duration": 46,
    "start_time": "2021-10-21T11:47:53.859Z"
   },
   {
    "duration": 443,
    "start_time": "2021-10-21T11:47:53.907Z"
   },
   {
    "duration": 1927,
    "start_time": "2021-10-21T11:47:54.351Z"
   },
   {
    "duration": 34,
    "start_time": "2021-10-21T11:47:56.280Z"
   },
   {
    "duration": 3,
    "start_time": "2021-10-21T11:47:56.315Z"
   },
   {
    "duration": 255,
    "start_time": "2021-10-21T11:47:58.768Z"
   },
   {
    "duration": 7,
    "start_time": "2021-10-21T11:48:03.307Z"
   },
   {
    "duration": 9,
    "start_time": "2021-10-21T11:48:10.270Z"
   },
   {
    "duration": 8,
    "start_time": "2021-10-21T11:48:17.032Z"
   },
   {
    "duration": 5,
    "start_time": "2021-10-21T11:48:37.441Z"
   },
   {
    "duration": 291,
    "start_time": "2021-10-21T11:48:43.233Z"
   },
   {
    "duration": 176,
    "start_time": "2021-10-21T11:48:54.260Z"
   },
   {
    "duration": 5,
    "start_time": "2021-10-21T11:48:57.646Z"
   },
   {
    "duration": 11,
    "start_time": "2021-10-21T11:49:45.311Z"
   },
   {
    "duration": 28,
    "start_time": "2021-10-21T11:49:52.400Z"
   },
   {
    "duration": 30,
    "start_time": "2021-10-21T11:49:54.863Z"
   },
   {
    "duration": 30,
    "start_time": "2021-10-21T11:50:07.428Z"
   },
   {
    "duration": 30,
    "start_time": "2021-10-21T11:50:19.521Z"
   },
   {
    "duration": 27,
    "start_time": "2021-10-21T11:50:24.821Z"
   },
   {
    "duration": 27,
    "start_time": "2021-10-21T11:50:29.073Z"
   },
   {
    "duration": 3,
    "start_time": "2021-10-21T11:52:01.156Z"
   },
   {
    "duration": 123,
    "start_time": "2021-10-21T11:52:01.163Z"
   },
   {
    "duration": 14,
    "start_time": "2021-10-21T11:52:01.291Z"
   },
   {
    "duration": 15,
    "start_time": "2021-10-21T11:52:01.306Z"
   },
   {
    "duration": 19,
    "start_time": "2021-10-21T11:52:01.322Z"
   },
   {
    "duration": 71,
    "start_time": "2021-10-21T11:52:01.342Z"
   },
   {
    "duration": 55,
    "start_time": "2021-10-21T11:52:01.415Z"
   },
   {
    "duration": 19,
    "start_time": "2021-10-21T11:52:01.472Z"
   },
   {
    "duration": 72,
    "start_time": "2021-10-21T11:52:01.493Z"
   },
   {
    "duration": 24,
    "start_time": "2021-10-21T11:52:01.568Z"
   },
   {
    "duration": 15,
    "start_time": "2021-10-21T11:52:01.593Z"
   },
   {
    "duration": 46,
    "start_time": "2021-10-21T11:52:01.609Z"
   },
   {
    "duration": 4,
    "start_time": "2021-10-21T11:52:50.352Z"
   },
   {
    "duration": 4,
    "start_time": "2021-10-21T11:52:55.629Z"
   },
   {
    "duration": 57,
    "start_time": "2021-10-21T11:53:45.478Z"
   },
   {
    "duration": 4,
    "start_time": "2021-10-21T11:54:57.813Z"
   },
   {
    "duration": 126,
    "start_time": "2021-10-21T11:55:02.291Z"
   },
   {
    "duration": 12,
    "start_time": "2021-10-21T11:55:02.668Z"
   },
   {
    "duration": 15,
    "start_time": "2021-10-21T11:55:03.037Z"
   },
   {
    "duration": 14,
    "start_time": "2021-10-21T11:55:03.406Z"
   },
   {
    "duration": 51,
    "start_time": "2021-10-21T11:55:03.604Z"
   },
   {
    "duration": 52,
    "start_time": "2021-10-21T11:55:03.804Z"
   },
   {
    "duration": 7,
    "start_time": "2021-10-21T11:55:04.097Z"
   },
   {
    "duration": 75,
    "start_time": "2021-10-21T11:55:04.463Z"
   },
   {
    "duration": 9,
    "start_time": "2021-10-21T11:55:04.637Z"
   },
   {
    "duration": 3,
    "start_time": "2021-10-21T11:55:05.526Z"
   },
   {
    "duration": 41,
    "start_time": "2021-10-21T11:55:05.734Z"
   },
   {
    "duration": 8,
    "start_time": "2021-10-21T11:55:06.183Z"
   },
   {
    "duration": 16,
    "start_time": "2021-10-21T11:55:06.632Z"
   },
   {
    "duration": 17,
    "start_time": "2021-10-21T11:55:07.054Z"
   },
   {
    "duration": 17,
    "start_time": "2021-10-21T11:55:07.926Z"
   },
   {
    "duration": 435,
    "start_time": "2021-10-21T11:55:08.797Z"
   },
   {
    "duration": 60,
    "start_time": "2021-10-21T11:55:32.421Z"
   },
   {
    "duration": 178,
    "start_time": "2021-10-21T12:00:38.413Z"
   },
   {
    "duration": 4,
    "start_time": "2021-10-21T12:00:41.714Z"
   },
   {
    "duration": 130,
    "start_time": "2021-10-21T12:00:41.719Z"
   },
   {
    "duration": 18,
    "start_time": "2021-10-21T12:00:41.851Z"
   },
   {
    "duration": 25,
    "start_time": "2021-10-21T12:00:41.871Z"
   },
   {
    "duration": 14,
    "start_time": "2021-10-21T12:00:41.897Z"
   },
   {
    "duration": 60,
    "start_time": "2021-10-21T12:00:41.913Z"
   },
   {
    "duration": 64,
    "start_time": "2021-10-21T12:00:41.974Z"
   },
   {
    "duration": 7,
    "start_time": "2021-10-21T12:00:42.039Z"
   },
   {
    "duration": 76,
    "start_time": "2021-10-21T12:00:42.049Z"
   },
   {
    "duration": 10,
    "start_time": "2021-10-21T12:00:42.127Z"
   },
   {
    "duration": 3,
    "start_time": "2021-10-21T12:00:42.138Z"
   },
   {
    "duration": 62,
    "start_time": "2021-10-21T12:00:42.143Z"
   },
   {
    "duration": 15,
    "start_time": "2021-10-21T12:00:42.207Z"
   },
   {
    "duration": 18,
    "start_time": "2021-10-21T12:00:42.224Z"
   },
   {
    "duration": 16,
    "start_time": "2021-10-21T12:00:42.244Z"
   },
   {
    "duration": 488,
    "start_time": "2021-10-21T12:00:42.261Z"
   },
   {
    "duration": 2027,
    "start_time": "2021-10-21T12:00:42.751Z"
   },
   {
    "duration": 30,
    "start_time": "2021-10-21T12:00:44.780Z"
   },
   {
    "duration": 4,
    "start_time": "2021-10-21T12:00:44.811Z"
   },
   {
    "duration": 39,
    "start_time": "2021-10-21T12:00:44.816Z"
   },
   {
    "duration": 5,
    "start_time": "2021-10-21T12:00:44.857Z"
   },
   {
    "duration": 51,
    "start_time": "2021-10-21T12:00:44.863Z"
   },
   {
    "duration": 53,
    "start_time": "2021-10-21T12:00:44.915Z"
   },
   {
    "duration": 22,
    "start_time": "2021-10-21T12:00:44.969Z"
   },
   {
    "duration": 29,
    "start_time": "2021-10-21T12:00:44.993Z"
   },
   {
    "duration": 324,
    "start_time": "2021-10-21T12:00:45.023Z"
   },
   {
    "duration": 60,
    "start_time": "2021-10-21T12:00:45.350Z"
   },
   {
    "duration": 336,
    "start_time": "2021-10-21T12:00:45.412Z"
   },
   {
    "duration": 6,
    "start_time": "2021-10-21T12:00:45.750Z"
   },
   {
    "duration": 4,
    "start_time": "2021-10-21T12:01:57.891Z"
   },
   {
    "duration": 31,
    "start_time": "2021-10-21T12:02:06.184Z"
   },
   {
    "duration": 30,
    "start_time": "2021-10-21T12:02:24.838Z"
   },
   {
    "duration": 5,
    "start_time": "2021-10-21T12:02:45.683Z"
   },
   {
    "duration": 4,
    "start_time": "2021-10-21T12:03:27.015Z"
   },
   {
    "duration": 8,
    "start_time": "2021-10-21T12:03:30.505Z"
   },
   {
    "duration": 8,
    "start_time": "2021-10-21T12:03:41.646Z"
   },
   {
    "duration": 5,
    "start_time": "2021-10-21T12:03:45.815Z"
   },
   {
    "duration": 7,
    "start_time": "2021-10-21T12:03:48.626Z"
   },
   {
    "duration": 5,
    "start_time": "2021-10-21T12:04:07.111Z"
   },
   {
    "duration": 5,
    "start_time": "2021-10-21T12:04:10.879Z"
   },
   {
    "duration": 4,
    "start_time": "2021-10-21T12:04:20.051Z"
   },
   {
    "duration": 8,
    "start_time": "2021-10-21T12:05:38.649Z"
   },
   {
    "duration": 12,
    "start_time": "2021-10-21T12:06:27.298Z"
   },
   {
    "duration": 468,
    "start_time": "2021-10-21T12:06:46.164Z"
   },
   {
    "duration": 72,
    "start_time": "2021-10-21T12:07:16.089Z"
   },
   {
    "duration": 3,
    "start_time": "2021-10-21T12:14:03.074Z"
   },
   {
    "duration": 75,
    "start_time": "2021-10-21T12:17:56.052Z"
   },
   {
    "duration": 3,
    "start_time": "2021-10-21T12:18:06.939Z"
   },
   {
    "duration": 3,
    "start_time": "2021-10-21T12:18:07.592Z"
   },
   {
    "duration": 8,
    "start_time": "2021-10-21T12:19:42.805Z"
   },
   {
    "duration": 9,
    "start_time": "2021-10-21T12:20:46.366Z"
   },
   {
    "duration": 75,
    "start_time": "2021-10-21T12:21:06.389Z"
   },
   {
    "duration": 182,
    "start_time": "2021-10-21T12:23:03.483Z"
   },
   {
    "duration": 3,
    "start_time": "2021-10-21T12:23:10.880Z"
   },
   {
    "duration": 122,
    "start_time": "2021-10-21T12:23:10.887Z"
   },
   {
    "duration": 13,
    "start_time": "2021-10-21T12:23:11.011Z"
   },
   {
    "duration": 14,
    "start_time": "2021-10-21T12:23:11.026Z"
   },
   {
    "duration": 14,
    "start_time": "2021-10-21T12:23:11.042Z"
   },
   {
    "duration": 81,
    "start_time": "2021-10-21T12:23:11.058Z"
   },
   {
    "duration": 70,
    "start_time": "2021-10-21T12:23:11.140Z"
   },
   {
    "duration": 7,
    "start_time": "2021-10-21T12:23:11.212Z"
   },
   {
    "duration": 75,
    "start_time": "2021-10-21T12:23:11.221Z"
   },
   {
    "duration": 8,
    "start_time": "2021-10-21T12:23:11.299Z"
   },
   {
    "duration": 5,
    "start_time": "2021-10-21T12:23:11.309Z"
   },
   {
    "duration": 45,
    "start_time": "2021-10-21T12:23:11.315Z"
   },
   {
    "duration": 34,
    "start_time": "2021-10-21T12:23:11.361Z"
   },
   {
    "duration": 18,
    "start_time": "2021-10-21T12:23:11.396Z"
   },
   {
    "duration": 19,
    "start_time": "2021-10-21T12:23:11.416Z"
   },
   {
    "duration": 464,
    "start_time": "2021-10-21T12:23:11.437Z"
   },
   {
    "duration": 1952,
    "start_time": "2021-10-21T12:23:11.902Z"
   },
   {
    "duration": 21,
    "start_time": "2021-10-21T12:23:13.856Z"
   },
   {
    "duration": 14,
    "start_time": "2021-10-21T12:23:13.879Z"
   },
   {
    "duration": 31,
    "start_time": "2021-10-21T12:23:13.894Z"
   },
   {
    "duration": 4,
    "start_time": "2021-10-21T12:23:13.927Z"
   },
   {
    "duration": 38,
    "start_time": "2021-10-21T12:23:13.932Z"
   },
   {
    "duration": 69,
    "start_time": "2021-10-21T12:23:13.971Z"
   },
   {
    "duration": 8,
    "start_time": "2021-10-21T12:23:14.043Z"
   },
   {
    "duration": 48,
    "start_time": "2021-10-21T12:23:14.054Z"
   },
   {
    "duration": 319,
    "start_time": "2021-10-21T12:23:14.103Z"
   },
   {
    "duration": 50,
    "start_time": "2021-10-21T12:23:14.424Z"
   },
   {
    "duration": 338,
    "start_time": "2021-10-21T12:23:14.475Z"
   },
   {
    "duration": 4,
    "start_time": "2021-10-21T12:23:14.814Z"
   },
   {
    "duration": 13,
    "start_time": "2021-10-21T12:23:14.819Z"
   },
   {
    "duration": 174,
    "start_time": "2021-10-21T12:23:14.834Z"
   },
   {
    "duration": -61,
    "start_time": "2021-10-21T12:23:15.071Z"
   },
   {
    "duration": -64,
    "start_time": "2021-10-21T12:23:15.075Z"
   },
   {
    "duration": -69,
    "start_time": "2021-10-21T12:23:15.081Z"
   },
   {
    "duration": -74,
    "start_time": "2021-10-21T12:23:15.086Z"
   },
   {
    "duration": -78,
    "start_time": "2021-10-21T12:23:15.091Z"
   },
   {
    "duration": -82,
    "start_time": "2021-10-21T12:23:15.096Z"
   },
   {
    "duration": -87,
    "start_time": "2021-10-21T12:23:15.102Z"
   },
   {
    "duration": -90,
    "start_time": "2021-10-21T12:23:15.106Z"
   },
   {
    "duration": -95,
    "start_time": "2021-10-21T12:23:15.112Z"
   },
   {
    "duration": 175,
    "start_time": "2021-10-21T12:23:15.991Z"
   },
   {
    "duration": 309,
    "start_time": "2021-10-21T12:23:43.744Z"
   },
   {
    "duration": 190,
    "start_time": "2021-10-21T12:24:06.684Z"
   },
   {
    "duration": 78,
    "start_time": "2021-10-21T12:24:18.107Z"
   },
   {
    "duration": 10,
    "start_time": "2021-10-21T12:24:30.030Z"
   },
   {
    "duration": 41,
    "start_time": "2021-10-21T12:25:02.664Z"
   },
   {
    "duration": 39,
    "start_time": "2021-10-21T12:25:08.996Z"
   },
   {
    "duration": 39,
    "start_time": "2021-10-21T12:25:27.178Z"
   },
   {
    "duration": 304,
    "start_time": "2021-10-21T12:26:06.158Z"
   },
   {
    "duration": 64,
    "start_time": "2021-10-21T12:26:58.798Z"
   },
   {
    "duration": 41,
    "start_time": "2021-10-21T12:27:02.240Z"
   },
   {
    "duration": 299,
    "start_time": "2021-10-21T12:27:07.416Z"
   },
   {
    "duration": 2,
    "start_time": "2021-10-21T12:27:22.545Z"
   },
   {
    "duration": 292,
    "start_time": "2021-10-21T12:28:41.237Z"
   },
   {
    "duration": 6,
    "start_time": "2021-10-21T12:30:10.455Z"
   },
   {
    "duration": 302,
    "start_time": "2021-10-21T12:30:32.213Z"
   },
   {
    "duration": 40,
    "start_time": "2021-10-21T12:30:51.945Z"
   },
   {
    "duration": 304,
    "start_time": "2021-10-21T12:30:52.967Z"
   },
   {
    "duration": 5,
    "start_time": "2021-10-21T12:31:46.936Z"
   },
   {
    "duration": 5,
    "start_time": "2021-10-21T12:32:09.763Z"
   },
   {
    "duration": 5,
    "start_time": "2021-10-21T12:32:10.196Z"
   },
   {
    "duration": 5,
    "start_time": "2021-10-21T12:32:24.387Z"
   },
   {
    "duration": 64,
    "start_time": "2021-10-21T12:33:22.225Z"
   },
   {
    "duration": 64,
    "start_time": "2021-10-21T12:34:21.533Z"
   },
   {
    "duration": 8,
    "start_time": "2021-10-21T12:35:18.851Z"
   },
   {
    "duration": 66,
    "start_time": "2021-10-21T12:42:59.756Z"
   },
   {
    "duration": 6,
    "start_time": "2021-10-21T12:43:56.009Z"
   },
   {
    "duration": 11,
    "start_time": "2021-10-21T12:44:40.955Z"
   },
   {
    "duration": 201,
    "start_time": "2021-10-21T12:46:21.189Z"
   },
   {
    "duration": 190,
    "start_time": "2021-10-21T12:46:29.737Z"
   },
   {
    "duration": 6,
    "start_time": "2021-10-21T12:46:34.353Z"
   },
   {
    "duration": 10,
    "start_time": "2021-10-21T12:46:35.229Z"
   },
   {
    "duration": 22,
    "start_time": "2021-10-21T12:46:35.762Z"
   },
   {
    "duration": 5,
    "start_time": "2021-10-21T12:46:41.439Z"
   },
   {
    "duration": 4,
    "start_time": "2021-10-21T12:47:20.602Z"
   },
   {
    "duration": 5,
    "start_time": "2021-10-21T12:47:21.155Z"
   },
   {
    "duration": 4,
    "start_time": "2021-10-21T12:47:21.938Z"
   },
   {
    "duration": 6,
    "start_time": "2021-10-21T12:47:23.057Z"
   },
   {
    "duration": 5,
    "start_time": "2021-10-21T12:48:10.414Z"
   },
   {
    "duration": 5,
    "start_time": "2021-10-21T12:48:10.863Z"
   },
   {
    "duration": 4,
    "start_time": "2021-10-21T12:48:11.426Z"
   },
   {
    "duration": 4,
    "start_time": "2021-10-21T12:48:12.326Z"
   },
   {
    "duration": 5,
    "start_time": "2021-10-21T12:49:02.389Z"
   },
   {
    "duration": 4,
    "start_time": "2021-10-21T12:49:40.146Z"
   },
   {
    "duration": 5,
    "start_time": "2021-10-21T12:49:46.344Z"
   },
   {
    "duration": 5,
    "start_time": "2021-10-21T12:52:23.969Z"
   },
   {
    "duration": 7,
    "start_time": "2021-10-21T12:52:32.127Z"
   },
   {
    "duration": 4,
    "start_time": "2021-10-21T12:52:39.767Z"
   },
   {
    "duration": 196,
    "start_time": "2021-10-21T12:52:47.354Z"
   },
   {
    "duration": 5,
    "start_time": "2021-10-21T12:52:53.859Z"
   },
   {
    "duration": 6,
    "start_time": "2021-10-21T12:53:03.614Z"
   },
   {
    "duration": 60,
    "start_time": "2021-10-21T12:53:29.653Z"
   },
   {
    "duration": 57,
    "start_time": "2021-10-21T12:53:34.566Z"
   },
   {
    "duration": 57,
    "start_time": "2021-10-21T12:53:53.439Z"
   },
   {
    "duration": 67,
    "start_time": "2021-10-21T12:54:01.490Z"
   },
   {
    "duration": 6,
    "start_time": "2021-10-21T12:54:17.010Z"
   },
   {
    "duration": 7,
    "start_time": "2021-10-21T12:56:07.239Z"
   },
   {
    "duration": 4399,
    "start_time": "2021-10-21T12:56:18.802Z"
   },
   {
    "duration": 7,
    "start_time": "2021-10-21T12:56:24.360Z"
   },
   {
    "duration": 12,
    "start_time": "2021-10-21T12:57:14.028Z"
   },
   {
    "duration": 11,
    "start_time": "2021-10-21T12:57:16.537Z"
   },
   {
    "duration": 8,
    "start_time": "2021-10-21T12:57:24.524Z"
   },
   {
    "duration": 9,
    "start_time": "2021-10-21T12:57:36.708Z"
   },
   {
    "duration": 11,
    "start_time": "2021-10-21T12:57:47.779Z"
   },
   {
    "duration": 9,
    "start_time": "2021-10-21T12:57:54.291Z"
   },
   {
    "duration": 9,
    "start_time": "2021-10-21T12:57:57.366Z"
   },
   {
    "duration": 9,
    "start_time": "2021-10-21T12:58:03.450Z"
   },
   {
    "duration": 9,
    "start_time": "2021-10-21T12:58:22.215Z"
   },
   {
    "duration": 11,
    "start_time": "2021-10-21T12:58:45.199Z"
   },
   {
    "duration": 9,
    "start_time": "2021-10-21T12:59:37.512Z"
   },
   {
    "duration": 10,
    "start_time": "2021-10-21T12:59:42.101Z"
   },
   {
    "duration": 9,
    "start_time": "2021-10-21T13:00:27.484Z"
   },
   {
    "duration": 8,
    "start_time": "2021-10-21T13:01:02.145Z"
   },
   {
    "duration": 4,
    "start_time": "2021-10-21T13:02:56.154Z"
   },
   {
    "duration": 10,
    "start_time": "2021-10-21T13:03:06.818Z"
   },
   {
    "duration": 4,
    "start_time": "2021-10-21T13:03:08.483Z"
   },
   {
    "duration": 3,
    "start_time": "2021-10-21T13:04:29.687Z"
   },
   {
    "duration": 9,
    "start_time": "2021-10-21T13:04:35.020Z"
   },
   {
    "duration": 4,
    "start_time": "2021-10-21T13:05:35.353Z"
   },
   {
    "duration": 8,
    "start_time": "2021-10-21T13:05:43.870Z"
   },
   {
    "duration": 9,
    "start_time": "2021-10-21T13:05:56.785Z"
   },
   {
    "duration": 4,
    "start_time": "2021-10-21T13:06:05.385Z"
   },
   {
    "duration": 129,
    "start_time": "2021-10-21T13:06:05.391Z"
   },
   {
    "duration": 15,
    "start_time": "2021-10-21T13:06:05.522Z"
   },
   {
    "duration": 15,
    "start_time": "2021-10-21T13:06:05.538Z"
   },
   {
    "duration": 42,
    "start_time": "2021-10-21T13:06:05.555Z"
   },
   {
    "duration": 52,
    "start_time": "2021-10-21T13:06:05.599Z"
   },
   {
    "duration": 74,
    "start_time": "2021-10-21T13:06:05.654Z"
   },
   {
    "duration": 7,
    "start_time": "2021-10-21T13:06:05.730Z"
   },
   {
    "duration": 87,
    "start_time": "2021-10-21T13:06:05.738Z"
   },
   {
    "duration": 9,
    "start_time": "2021-10-21T13:06:05.827Z"
   },
   {
    "duration": 7,
    "start_time": "2021-10-21T13:06:05.837Z"
   },
   {
    "duration": 65,
    "start_time": "2021-10-21T13:06:05.846Z"
   },
   {
    "duration": 14,
    "start_time": "2021-10-21T13:06:05.913Z"
   },
   {
    "duration": 17,
    "start_time": "2021-10-21T13:06:05.929Z"
   },
   {
    "duration": 23,
    "start_time": "2021-10-21T13:06:05.947Z"
   },
   {
    "duration": 475,
    "start_time": "2021-10-21T13:06:05.972Z"
   },
   {
    "duration": 2084,
    "start_time": "2021-10-21T13:06:06.448Z"
   },
   {
    "duration": 20,
    "start_time": "2021-10-21T13:06:08.533Z"
   },
   {
    "duration": 3,
    "start_time": "2021-10-21T13:06:08.556Z"
   },
   {
    "duration": 51,
    "start_time": "2021-10-21T13:06:08.561Z"
   },
   {
    "duration": 4,
    "start_time": "2021-10-21T13:06:08.613Z"
   },
   {
    "duration": 37,
    "start_time": "2021-10-21T13:06:08.619Z"
   },
   {
    "duration": 69,
    "start_time": "2021-10-21T13:06:08.657Z"
   },
   {
    "duration": 7,
    "start_time": "2021-10-21T13:06:08.728Z"
   },
   {
    "duration": 31,
    "start_time": "2021-10-21T13:06:08.737Z"
   },
   {
    "duration": 334,
    "start_time": "2021-10-21T13:06:08.770Z"
   },
   {
    "duration": 49,
    "start_time": "2021-10-21T13:06:09.105Z"
   },
   {
    "duration": 327,
    "start_time": "2021-10-21T13:06:09.155Z"
   },
   {
    "duration": 3,
    "start_time": "2021-10-21T13:06:09.491Z"
   },
   {
    "duration": 10,
    "start_time": "2021-10-21T13:06:09.496Z"
   },
   {
    "duration": 185,
    "start_time": "2021-10-21T13:06:09.507Z"
   },
   {
    "duration": -242,
    "start_time": "2021-10-21T13:06:09.936Z"
   },
   {
    "duration": -247,
    "start_time": "2021-10-21T13:06:09.942Z"
   },
   {
    "duration": -253,
    "start_time": "2021-10-21T13:06:09.949Z"
   },
   {
    "duration": -258,
    "start_time": "2021-10-21T13:06:09.955Z"
   },
   {
    "duration": -263,
    "start_time": "2021-10-21T13:06:09.961Z"
   },
   {
    "duration": -267,
    "start_time": "2021-10-21T13:06:09.966Z"
   },
   {
    "duration": -272,
    "start_time": "2021-10-21T13:06:09.972Z"
   },
   {
    "duration": -276,
    "start_time": "2021-10-21T13:06:09.977Z"
   },
   {
    "duration": -280,
    "start_time": "2021-10-21T13:06:09.982Z"
   },
   {
    "duration": -286,
    "start_time": "2021-10-21T13:06:09.988Z"
   },
   {
    "duration": -291,
    "start_time": "2021-10-21T13:06:09.994Z"
   },
   {
    "duration": -295,
    "start_time": "2021-10-21T13:06:09.999Z"
   },
   {
    "duration": -300,
    "start_time": "2021-10-21T13:06:10.005Z"
   },
   {
    "duration": -304,
    "start_time": "2021-10-21T13:06:10.010Z"
   },
   {
    "duration": -308,
    "start_time": "2021-10-21T13:06:10.015Z"
   },
   {
    "duration": -312,
    "start_time": "2021-10-21T13:06:10.020Z"
   },
   {
    "duration": -316,
    "start_time": "2021-10-21T13:06:10.025Z"
   },
   {
    "duration": -333,
    "start_time": "2021-10-21T13:06:10.043Z"
   },
   {
    "duration": -340,
    "start_time": "2021-10-21T13:06:10.051Z"
   },
   {
    "duration": -344,
    "start_time": "2021-10-21T13:06:10.057Z"
   },
   {
    "duration": -350,
    "start_time": "2021-10-21T13:06:10.064Z"
   },
   {
    "duration": -355,
    "start_time": "2021-10-21T13:06:10.070Z"
   },
   {
    "duration": -359,
    "start_time": "2021-10-21T13:06:10.076Z"
   },
   {
    "duration": -363,
    "start_time": "2021-10-21T13:06:10.081Z"
   },
   {
    "duration": -368,
    "start_time": "2021-10-21T13:06:10.087Z"
   },
   {
    "duration": -372,
    "start_time": "2021-10-21T13:06:10.093Z"
   },
   {
    "duration": -376,
    "start_time": "2021-10-21T13:06:10.098Z"
   },
   {
    "duration": -381,
    "start_time": "2021-10-21T13:06:10.104Z"
   },
   {
    "duration": -384,
    "start_time": "2021-10-21T13:06:10.109Z"
   },
   {
    "duration": -389,
    "start_time": "2021-10-21T13:06:10.115Z"
   },
   {
    "duration": -393,
    "start_time": "2021-10-21T13:06:10.121Z"
   },
   {
    "duration": 10,
    "start_time": "2021-10-21T13:06:14.553Z"
   },
   {
    "duration": 4,
    "start_time": "2021-10-21T13:06:19.694Z"
   },
   {
    "duration": 131,
    "start_time": "2021-10-21T13:06:19.700Z"
   },
   {
    "duration": 15,
    "start_time": "2021-10-21T13:06:19.833Z"
   },
   {
    "duration": 42,
    "start_time": "2021-10-21T13:06:19.850Z"
   },
   {
    "duration": 15,
    "start_time": "2021-10-21T13:06:19.894Z"
   },
   {
    "duration": 51,
    "start_time": "2021-10-21T13:06:19.911Z"
   },
   {
    "duration": 83,
    "start_time": "2021-10-21T13:06:19.964Z"
   },
   {
    "duration": 8,
    "start_time": "2021-10-21T13:06:20.049Z"
   },
   {
    "duration": 126,
    "start_time": "2021-10-21T13:06:20.059Z"
   },
   {
    "duration": 12,
    "start_time": "2021-10-21T13:06:20.187Z"
   },
   {
    "duration": 5,
    "start_time": "2021-10-21T13:06:20.201Z"
   },
   {
    "duration": 45,
    "start_time": "2021-10-21T13:06:20.208Z"
   },
   {
    "duration": 15,
    "start_time": "2021-10-21T13:06:20.254Z"
   },
   {
    "duration": 39,
    "start_time": "2021-10-21T13:06:20.270Z"
   },
   {
    "duration": 17,
    "start_time": "2021-10-21T13:06:20.311Z"
   },
   {
    "duration": 472,
    "start_time": "2021-10-21T13:06:20.330Z"
   },
   {
    "duration": 2096,
    "start_time": "2021-10-21T13:06:20.804Z"
   },
   {
    "duration": 22,
    "start_time": "2021-10-21T13:06:22.902Z"
   },
   {
    "duration": 4,
    "start_time": "2021-10-21T13:06:22.927Z"
   },
   {
    "duration": 32,
    "start_time": "2021-10-21T13:06:22.934Z"
   },
   {
    "duration": 26,
    "start_time": "2021-10-21T13:06:22.967Z"
   },
   {
    "duration": 40,
    "start_time": "2021-10-21T13:06:22.995Z"
   },
   {
    "duration": 68,
    "start_time": "2021-10-21T13:06:23.037Z"
   },
   {
    "duration": 10,
    "start_time": "2021-10-21T13:06:23.107Z"
   },
   {
    "duration": 32,
    "start_time": "2021-10-21T13:06:23.119Z"
   },
   {
    "duration": 346,
    "start_time": "2021-10-21T13:06:23.153Z"
   },
   {
    "duration": 50,
    "start_time": "2021-10-21T13:06:23.501Z"
   },
   {
    "duration": 346,
    "start_time": "2021-10-21T13:06:23.553Z"
   },
   {
    "duration": 4,
    "start_time": "2021-10-21T13:06:23.901Z"
   },
   {
    "duration": 12,
    "start_time": "2021-10-21T13:06:23.908Z"
   },
   {
    "duration": 207,
    "start_time": "2021-10-21T13:06:23.922Z"
   },
   {
    "duration": -38,
    "start_time": "2021-10-21T13:06:24.170Z"
   },
   {
    "duration": -45,
    "start_time": "2021-10-21T13:06:24.178Z"
   },
   {
    "duration": -52,
    "start_time": "2021-10-21T13:06:24.186Z"
   },
   {
    "duration": -56,
    "start_time": "2021-10-21T13:06:24.192Z"
   },
   {
    "duration": -60,
    "start_time": "2021-10-21T13:06:24.197Z"
   },
   {
    "duration": -64,
    "start_time": "2021-10-21T13:06:24.202Z"
   },
   {
    "duration": -67,
    "start_time": "2021-10-21T13:06:24.207Z"
   },
   {
    "duration": -72,
    "start_time": "2021-10-21T13:06:24.213Z"
   },
   {
    "duration": -75,
    "start_time": "2021-10-21T13:06:24.218Z"
   },
   {
    "duration": -165,
    "start_time": "2021-10-21T13:06:24.309Z"
   },
   {
    "duration": -169,
    "start_time": "2021-10-21T13:06:24.314Z"
   },
   {
    "duration": -173,
    "start_time": "2021-10-21T13:06:24.320Z"
   },
   {
    "duration": -178,
    "start_time": "2021-10-21T13:06:24.326Z"
   },
   {
    "duration": -183,
    "start_time": "2021-10-21T13:06:24.332Z"
   },
   {
    "duration": -185,
    "start_time": "2021-10-21T13:06:24.336Z"
   },
   {
    "duration": -190,
    "start_time": "2021-10-21T13:06:24.342Z"
   },
   {
    "duration": -194,
    "start_time": "2021-10-21T13:06:24.347Z"
   },
   {
    "duration": -199,
    "start_time": "2021-10-21T13:06:24.354Z"
   },
   {
    "duration": -202,
    "start_time": "2021-10-21T13:06:24.358Z"
   },
   {
    "duration": -207,
    "start_time": "2021-10-21T13:06:24.364Z"
   },
   {
    "duration": -210,
    "start_time": "2021-10-21T13:06:24.369Z"
   },
   {
    "duration": -214,
    "start_time": "2021-10-21T13:06:24.374Z"
   },
   {
    "duration": -217,
    "start_time": "2021-10-21T13:06:24.379Z"
   },
   {
    "duration": -234,
    "start_time": "2021-10-21T13:06:24.397Z"
   },
   {
    "duration": -240,
    "start_time": "2021-10-21T13:06:24.404Z"
   },
   {
    "duration": -245,
    "start_time": "2021-10-21T13:06:24.410Z"
   },
   {
    "duration": -249,
    "start_time": "2021-10-21T13:06:24.416Z"
   },
   {
    "duration": -254,
    "start_time": "2021-10-21T13:06:24.422Z"
   },
   {
    "duration": -257,
    "start_time": "2021-10-21T13:06:24.426Z"
   },
   {
    "duration": -262,
    "start_time": "2021-10-21T13:06:24.432Z"
   },
   {
    "duration": -266,
    "start_time": "2021-10-21T13:06:24.437Z"
   },
   {
    "duration": -251,
    "start_time": "2021-10-21T13:06:24.442Z"
   },
   {
    "duration": 8,
    "start_time": "2021-10-21T13:06:34.190Z"
   },
   {
    "duration": 7,
    "start_time": "2021-10-21T13:06:51.416Z"
   },
   {
    "duration": 4,
    "start_time": "2021-10-21T13:06:56.131Z"
   },
   {
    "duration": 128,
    "start_time": "2021-10-21T13:06:56.138Z"
   },
   {
    "duration": 31,
    "start_time": "2021-10-21T13:06:56.268Z"
   },
   {
    "duration": 15,
    "start_time": "2021-10-21T13:06:56.301Z"
   },
   {
    "duration": 14,
    "start_time": "2021-10-21T13:06:56.317Z"
   },
   {
    "duration": 80,
    "start_time": "2021-10-21T13:06:56.333Z"
   },
   {
    "duration": 52,
    "start_time": "2021-10-21T13:06:56.415Z"
   },
   {
    "duration": 23,
    "start_time": "2021-10-21T13:06:56.468Z"
   },
   {
    "duration": 71,
    "start_time": "2021-10-21T13:06:56.494Z"
   },
   {
    "duration": 25,
    "start_time": "2021-10-21T13:06:56.567Z"
   },
   {
    "duration": 3,
    "start_time": "2021-10-21T13:06:56.594Z"
   },
   {
    "duration": 44,
    "start_time": "2021-10-21T13:06:56.599Z"
   },
   {
    "duration": 47,
    "start_time": "2021-10-21T13:06:56.645Z"
   },
   {
    "duration": 19,
    "start_time": "2021-10-21T13:06:56.694Z"
   },
   {
    "duration": 17,
    "start_time": "2021-10-21T13:06:56.715Z"
   },
   {
    "duration": 634,
    "start_time": "2021-10-21T13:06:56.734Z"
   },
   {
    "duration": 1846,
    "start_time": "2021-10-21T13:06:57.371Z"
   },
   {
    "duration": 20,
    "start_time": "2021-10-21T13:06:59.218Z"
   },
   {
    "duration": 3,
    "start_time": "2021-10-21T13:06:59.240Z"
   },
   {
    "duration": 46,
    "start_time": "2021-10-21T13:06:59.245Z"
   },
   {
    "duration": 4,
    "start_time": "2021-10-21T13:06:59.293Z"
   },
   {
    "duration": 43,
    "start_time": "2021-10-21T13:06:59.298Z"
   },
   {
    "duration": 58,
    "start_time": "2021-10-21T13:06:59.343Z"
   },
   {
    "duration": 167,
    "start_time": "2021-10-21T13:06:59.405Z"
   },
   {
    "duration": 38,
    "start_time": "2021-10-21T13:06:59.574Z"
   },
   {
    "duration": 314,
    "start_time": "2021-10-21T13:06:59.614Z"
   },
   {
    "duration": 47,
    "start_time": "2021-10-21T13:06:59.930Z"
   },
   {
    "duration": 336,
    "start_time": "2021-10-21T13:06:59.979Z"
   },
   {
    "duration": 3,
    "start_time": "2021-10-21T13:07:00.316Z"
   },
   {
    "duration": 10,
    "start_time": "2021-10-21T13:07:00.321Z"
   },
   {
    "duration": 225,
    "start_time": "2021-10-21T13:07:00.332Z"
   },
   {
    "duration": -11,
    "start_time": "2021-10-21T13:07:00.569Z"
   },
   {
    "duration": -15,
    "start_time": "2021-10-21T13:07:00.574Z"
   },
   {
    "duration": -65,
    "start_time": "2021-10-21T13:07:00.625Z"
   },
   {
    "duration": -72,
    "start_time": "2021-10-21T13:07:00.633Z"
   },
   {
    "duration": -77,
    "start_time": "2021-10-21T13:07:00.639Z"
   },
   {
    "duration": -81,
    "start_time": "2021-10-21T13:07:00.644Z"
   },
   {
    "duration": -89,
    "start_time": "2021-10-21T13:07:00.653Z"
   },
   {
    "duration": -92,
    "start_time": "2021-10-21T13:07:00.657Z"
   },
   {
    "duration": -98,
    "start_time": "2021-10-21T13:07:00.663Z"
   },
   {
    "duration": -102,
    "start_time": "2021-10-21T13:07:00.668Z"
   },
   {
    "duration": -106,
    "start_time": "2021-10-21T13:07:00.673Z"
   },
   {
    "duration": -110,
    "start_time": "2021-10-21T13:07:00.678Z"
   },
   {
    "duration": -115,
    "start_time": "2021-10-21T13:07:00.684Z"
   },
   {
    "duration": -119,
    "start_time": "2021-10-21T13:07:00.689Z"
   },
   {
    "duration": -123,
    "start_time": "2021-10-21T13:07:00.694Z"
   },
   {
    "duration": -127,
    "start_time": "2021-10-21T13:07:00.699Z"
   },
   {
    "duration": -131,
    "start_time": "2021-10-21T13:07:00.704Z"
   },
   {
    "duration": -135,
    "start_time": "2021-10-21T13:07:00.709Z"
   },
   {
    "duration": -140,
    "start_time": "2021-10-21T13:07:00.715Z"
   },
   {
    "duration": -156,
    "start_time": "2021-10-21T13:07:00.732Z"
   },
   {
    "duration": -162,
    "start_time": "2021-10-21T13:07:00.739Z"
   },
   {
    "duration": -166,
    "start_time": "2021-10-21T13:07:00.744Z"
   },
   {
    "duration": -172,
    "start_time": "2021-10-21T13:07:00.751Z"
   },
   {
    "duration": -176,
    "start_time": "2021-10-21T13:07:00.756Z"
   },
   {
    "duration": -180,
    "start_time": "2021-10-21T13:07:00.761Z"
   },
   {
    "duration": -186,
    "start_time": "2021-10-21T13:07:00.768Z"
   },
   {
    "duration": -190,
    "start_time": "2021-10-21T13:07:00.773Z"
   },
   {
    "duration": -194,
    "start_time": "2021-10-21T13:07:00.778Z"
   },
   {
    "duration": -200,
    "start_time": "2021-10-21T13:07:00.784Z"
   },
   {
    "duration": -204,
    "start_time": "2021-10-21T13:07:00.789Z"
   },
   {
    "duration": 7,
    "start_time": "2021-10-21T13:07:02.737Z"
   },
   {
    "duration": 4,
    "start_time": "2021-10-21T13:07:11.777Z"
   },
   {
    "duration": 135,
    "start_time": "2021-10-21T13:07:11.785Z"
   },
   {
    "duration": 16,
    "start_time": "2021-10-21T13:07:11.921Z"
   },
   {
    "duration": 24,
    "start_time": "2021-10-21T13:07:11.939Z"
   },
   {
    "duration": 37,
    "start_time": "2021-10-21T13:07:11.965Z"
   },
   {
    "duration": 54,
    "start_time": "2021-10-21T13:07:12.004Z"
   },
   {
    "duration": 86,
    "start_time": "2021-10-21T13:07:12.059Z"
   },
   {
    "duration": 8,
    "start_time": "2021-10-21T13:07:12.146Z"
   },
   {
    "duration": 83,
    "start_time": "2021-10-21T13:07:12.157Z"
   },
   {
    "duration": 10,
    "start_time": "2021-10-21T13:07:12.242Z"
   },
   {
    "duration": 10,
    "start_time": "2021-10-21T13:07:12.253Z"
   },
   {
    "duration": 59,
    "start_time": "2021-10-21T13:07:12.265Z"
   },
   {
    "duration": 16,
    "start_time": "2021-10-21T13:07:12.326Z"
   },
   {
    "duration": 18,
    "start_time": "2021-10-21T13:07:12.343Z"
   },
   {
    "duration": 39,
    "start_time": "2021-10-21T13:07:12.363Z"
   },
   {
    "duration": 464,
    "start_time": "2021-10-21T13:07:12.404Z"
   },
   {
    "duration": 2095,
    "start_time": "2021-10-21T13:07:12.870Z"
   },
   {
    "duration": 30,
    "start_time": "2021-10-21T13:07:14.967Z"
   },
   {
    "duration": 4,
    "start_time": "2021-10-21T13:07:14.999Z"
   },
   {
    "duration": 40,
    "start_time": "2021-10-21T13:07:15.004Z"
   },
   {
    "duration": 5,
    "start_time": "2021-10-21T13:07:15.045Z"
   },
   {
    "duration": 53,
    "start_time": "2021-10-21T13:07:15.052Z"
   },
   {
    "duration": 54,
    "start_time": "2021-10-21T13:07:15.107Z"
   },
   {
    "duration": 9,
    "start_time": "2021-10-21T13:07:15.164Z"
   },
   {
    "duration": 29,
    "start_time": "2021-10-21T13:07:15.191Z"
   },
   {
    "duration": 326,
    "start_time": "2021-10-21T13:07:15.221Z"
   },
   {
    "duration": 58,
    "start_time": "2021-10-21T13:07:15.549Z"
   },
   {
    "duration": 324,
    "start_time": "2021-10-21T13:07:15.608Z"
   },
   {
    "duration": 4,
    "start_time": "2021-10-21T13:07:15.933Z"
   },
   {
    "duration": 9,
    "start_time": "2021-10-21T13:07:15.938Z"
   },
   {
    "duration": 207,
    "start_time": "2021-10-21T13:07:15.948Z"
   },
   {
    "duration": -17,
    "start_time": "2021-10-21T13:07:16.175Z"
   },
   {
    "duration": -22,
    "start_time": "2021-10-21T13:07:16.181Z"
   },
   {
    "duration": -27,
    "start_time": "2021-10-21T13:07:16.187Z"
   },
   {
    "duration": -31,
    "start_time": "2021-10-21T13:07:16.192Z"
   },
   {
    "duration": -38,
    "start_time": "2021-10-21T13:07:16.200Z"
   },
   {
    "duration": -42,
    "start_time": "2021-10-21T13:07:16.205Z"
   },
   {
    "duration": -47,
    "start_time": "2021-10-21T13:07:16.211Z"
   },
   {
    "duration": -50,
    "start_time": "2021-10-21T13:07:16.215Z"
   },
   {
    "duration": -55,
    "start_time": "2021-10-21T13:07:16.221Z"
   },
   {
    "duration": -59,
    "start_time": "2021-10-21T13:07:16.226Z"
   },
   {
    "duration": -63,
    "start_time": "2021-10-21T13:07:16.231Z"
   },
   {
    "duration": -67,
    "start_time": "2021-10-21T13:07:16.236Z"
   },
   {
    "duration": -72,
    "start_time": "2021-10-21T13:07:16.242Z"
   },
   {
    "duration": -145,
    "start_time": "2021-10-21T13:07:16.316Z"
   },
   {
    "duration": -149,
    "start_time": "2021-10-21T13:07:16.321Z"
   },
   {
    "duration": -154,
    "start_time": "2021-10-21T13:07:16.327Z"
   },
   {
    "duration": -158,
    "start_time": "2021-10-21T13:07:16.332Z"
   },
   {
    "duration": -162,
    "start_time": "2021-10-21T13:07:16.337Z"
   },
   {
    "duration": -167,
    "start_time": "2021-10-21T13:07:16.343Z"
   },
   {
    "duration": -171,
    "start_time": "2021-10-21T13:07:16.348Z"
   },
   {
    "duration": -176,
    "start_time": "2021-10-21T13:07:16.354Z"
   },
   {
    "duration": -180,
    "start_time": "2021-10-21T13:07:16.359Z"
   },
   {
    "duration": -184,
    "start_time": "2021-10-21T13:07:16.364Z"
   },
   {
    "duration": -188,
    "start_time": "2021-10-21T13:07:16.369Z"
   },
   {
    "duration": -193,
    "start_time": "2021-10-21T13:07:16.375Z"
   },
   {
    "duration": -207,
    "start_time": "2021-10-21T13:07:16.390Z"
   },
   {
    "duration": -213,
    "start_time": "2021-10-21T13:07:16.397Z"
   },
   {
    "duration": -217,
    "start_time": "2021-10-21T13:07:16.402Z"
   },
   {
    "duration": -225,
    "start_time": "2021-10-21T13:07:16.411Z"
   },
   {
    "duration": -231,
    "start_time": "2021-10-21T13:07:16.418Z"
   },
   {
    "duration": 8,
    "start_time": "2021-10-21T13:07:22.556Z"
   },
   {
    "duration": 8,
    "start_time": "2021-10-21T13:07:29.879Z"
   },
   {
    "duration": 301,
    "start_time": "2021-10-21T13:07:36.463Z"
   },
   {
    "duration": 6,
    "start_time": "2021-10-21T13:07:56.224Z"
   },
   {
    "duration": 15,
    "start_time": "2021-10-21T13:07:56.580Z"
   },
   {
    "duration": 6,
    "start_time": "2021-10-21T13:07:56.787Z"
   },
   {
    "duration": 5,
    "start_time": "2021-10-21T13:07:56.958Z"
   },
   {
    "duration": 4,
    "start_time": "2021-10-21T13:07:57.153Z"
   },
   {
    "duration": 10,
    "start_time": "2021-10-21T13:07:58.074Z"
   },
   {
    "duration": 8,
    "start_time": "2021-10-21T13:07:58.257Z"
   },
   {
    "duration": 10,
    "start_time": "2021-10-21T13:07:58.441Z"
   },
   {
    "duration": 9,
    "start_time": "2021-10-21T13:08:00.246Z"
   },
   {
    "duration": 5,
    "start_time": "2021-10-21T13:08:00.774Z"
   },
   {
    "duration": 4,
    "start_time": "2021-10-21T13:08:01.838Z"
   },
   {
    "duration": 5,
    "start_time": "2021-10-21T13:08:03.005Z"
   },
   {
    "duration": 5,
    "start_time": "2021-10-21T13:08:04.994Z"
   },
   {
    "duration": 8,
    "start_time": "2021-10-21T13:08:06.761Z"
   },
   {
    "duration": 6,
    "start_time": "2021-10-21T13:08:10.481Z"
   },
   {
    "duration": 23,
    "start_time": "2021-10-21T13:08:10.665Z"
   },
   {
    "duration": 5,
    "start_time": "2021-10-21T13:08:11.586Z"
   },
   {
    "duration": 5,
    "start_time": "2021-10-21T13:08:11.913Z"
   },
   {
    "duration": 5,
    "start_time": "2021-10-21T13:08:12.114Z"
   },
   {
    "duration": 4,
    "start_time": "2021-10-21T13:08:12.867Z"
   },
   {
    "duration": 4,
    "start_time": "2021-10-21T13:08:13.252Z"
   },
   {
    "duration": 5,
    "start_time": "2021-10-21T13:08:13.442Z"
   },
   {
    "duration": 5,
    "start_time": "2021-10-21T13:08:13.614Z"
   },
   {
    "duration": 5,
    "start_time": "2021-10-21T13:08:13.818Z"
   },
   {
    "duration": 13,
    "start_time": "2021-10-21T13:08:16.400Z"
   },
   {
    "duration": 6,
    "start_time": "2021-10-21T13:08:18.732Z"
   },
   {
    "duration": 14,
    "start_time": "2021-10-21T13:08:19.446Z"
   },
   {
    "duration": 56,
    "start_time": "2021-10-21T13:09:21.874Z"
   },
   {
    "duration": 6,
    "start_time": "2021-10-21T13:09:26.442Z"
   },
   {
    "duration": 10,
    "start_time": "2021-10-21T13:09:31.300Z"
   },
   {
    "duration": 13,
    "start_time": "2021-10-21T13:09:36.833Z"
   },
   {
    "duration": 4,
    "start_time": "2021-10-21T13:10:33.615Z"
   },
   {
    "duration": 5,
    "start_time": "2021-10-21T13:10:36.712Z"
   },
   {
    "duration": 5,
    "start_time": "2021-10-21T13:10:36.899Z"
   },
   {
    "duration": 5,
    "start_time": "2021-10-21T13:10:37.173Z"
   },
   {
    "duration": 64,
    "start_time": "2021-10-21T13:11:29.844Z"
   },
   {
    "duration": 36,
    "start_time": "2021-10-21T14:00:11.713Z"
   },
   {
    "duration": 16,
    "start_time": "2021-10-21T14:00:20.579Z"
   },
   {
    "duration": 185,
    "start_time": "2021-10-21T14:01:28.253Z"
   },
   {
    "duration": 6,
    "start_time": "2021-10-21T14:01:32.147Z"
   },
   {
    "duration": 175,
    "start_time": "2021-10-21T14:01:34.853Z"
   },
   {
    "duration": 4,
    "start_time": "2021-10-21T14:01:41.835Z"
   },
   {
    "duration": 10,
    "start_time": "2021-10-21T14:01:45.899Z"
   },
   {
    "duration": 4,
    "start_time": "2021-10-21T14:01:58.868Z"
   },
   {
    "duration": 8,
    "start_time": "2021-10-21T14:01:59.706Z"
   },
   {
    "duration": 9,
    "start_time": "2021-10-21T14:02:00.236Z"
   },
   {
    "duration": 323,
    "start_time": "2021-10-21T14:02:02.700Z"
   },
   {
    "duration": 4,
    "start_time": "2021-10-21T14:03:00.245Z"
   },
   {
    "duration": 143,
    "start_time": "2021-10-21T14:03:00.253Z"
   },
   {
    "duration": 14,
    "start_time": "2021-10-21T14:03:00.398Z"
   },
   {
    "duration": 14,
    "start_time": "2021-10-21T14:03:00.414Z"
   },
   {
    "duration": 18,
    "start_time": "2021-10-21T14:03:00.430Z"
   },
   {
    "duration": 83,
    "start_time": "2021-10-21T14:03:00.449Z"
   },
   {
    "duration": 70,
    "start_time": "2021-10-21T14:03:00.533Z"
   },
   {
    "duration": 8,
    "start_time": "2021-10-21T14:03:00.605Z"
   },
   {
    "duration": 82,
    "start_time": "2021-10-21T14:03:00.616Z"
   },
   {
    "duration": 9,
    "start_time": "2021-10-21T14:03:00.701Z"
   },
   {
    "duration": 8,
    "start_time": "2021-10-21T14:03:00.711Z"
   },
   {
    "duration": 47,
    "start_time": "2021-10-21T14:03:00.721Z"
   },
   {
    "duration": 31,
    "start_time": "2021-10-21T14:03:00.770Z"
   },
   {
    "duration": 17,
    "start_time": "2021-10-21T14:03:00.803Z"
   },
   {
    "duration": 17,
    "start_time": "2021-10-21T14:03:00.822Z"
   },
   {
    "duration": 466,
    "start_time": "2021-10-21T14:03:00.841Z"
   },
   {
    "duration": 2110,
    "start_time": "2021-10-21T14:03:01.308Z"
   },
   {
    "duration": 21,
    "start_time": "2021-10-21T14:03:03.420Z"
   },
   {
    "duration": 4,
    "start_time": "2021-10-21T14:03:03.443Z"
   },
   {
    "duration": 50,
    "start_time": "2021-10-21T14:03:03.448Z"
   },
   {
    "duration": 5,
    "start_time": "2021-10-21T14:03:03.500Z"
   },
   {
    "duration": 46,
    "start_time": "2021-10-21T14:03:03.506Z"
   },
   {
    "duration": 64,
    "start_time": "2021-10-21T14:03:03.554Z"
   },
   {
    "duration": 9,
    "start_time": "2021-10-21T14:03:03.621Z"
   },
   {
    "duration": 32,
    "start_time": "2021-10-21T14:03:03.632Z"
   },
   {
    "duration": 335,
    "start_time": "2021-10-21T14:03:03.665Z"
   },
   {
    "duration": 51,
    "start_time": "2021-10-21T14:03:04.002Z"
   },
   {
    "duration": 331,
    "start_time": "2021-10-21T14:03:04.054Z"
   },
   {
    "duration": 5,
    "start_time": "2021-10-21T14:03:04.387Z"
   },
   {
    "duration": 11,
    "start_time": "2021-10-21T14:03:04.394Z"
   },
   {
    "duration": 13,
    "start_time": "2021-10-21T14:03:04.407Z"
   },
   {
    "duration": 334,
    "start_time": "2021-10-21T14:03:04.422Z"
   },
   {
    "duration": 11,
    "start_time": "2021-10-21T14:03:04.757Z"
   },
   {
    "duration": 780,
    "start_time": "2021-10-21T14:03:04.769Z"
   },
   {
    "duration": 64,
    "start_time": "2021-10-21T14:03:05.551Z"
   },
   {
    "duration": 92,
    "start_time": "2021-10-21T14:03:05.616Z"
   },
   {
    "duration": 340,
    "start_time": "2021-10-21T14:03:05.709Z"
   },
   {
    "duration": 5,
    "start_time": "2021-10-21T14:03:06.051Z"
   },
   {
    "duration": 12,
    "start_time": "2021-10-21T14:03:06.057Z"
   },
   {
    "duration": 5,
    "start_time": "2021-10-21T14:03:06.071Z"
   },
   {
    "duration": 14,
    "start_time": "2021-10-21T14:03:06.078Z"
   },
   {
    "duration": 6,
    "start_time": "2021-10-21T14:03:06.094Z"
   },
   {
    "duration": 83628,
    "start_time": "2021-10-22T06:14:40.516Z"
   },
   {
    "duration": 136,
    "start_time": "2021-10-22T06:16:04.146Z"
   },
   {
    "duration": 16,
    "start_time": "2021-10-22T06:16:04.285Z"
   },
   {
    "duration": 16,
    "start_time": "2021-10-22T06:16:04.303Z"
   },
   {
    "duration": 34,
    "start_time": "2021-10-22T06:16:04.320Z"
   },
   {
    "duration": 68,
    "start_time": "2021-10-22T06:16:04.356Z"
   },
   {
    "duration": 92,
    "start_time": "2021-10-22T06:16:04.426Z"
   },
   {
    "duration": 22,
    "start_time": "2021-10-22T06:16:04.522Z"
   },
   {
    "duration": 85,
    "start_time": "2021-10-22T06:16:04.547Z"
   },
   {
    "duration": 15,
    "start_time": "2021-10-22T06:16:04.633Z"
   },
   {
    "duration": 8,
    "start_time": "2021-10-22T06:16:04.650Z"
   },
   {
    "duration": 46,
    "start_time": "2021-10-22T06:16:04.660Z"
   },
   {
    "duration": 39,
    "start_time": "2021-10-22T06:16:04.707Z"
   },
   {
    "duration": 19,
    "start_time": "2021-10-22T06:16:04.748Z"
   },
   {
    "duration": 17,
    "start_time": "2021-10-22T06:16:04.769Z"
   },
   {
    "duration": 472,
    "start_time": "2021-10-22T06:16:04.788Z"
   },
   {
    "duration": 2269,
    "start_time": "2021-10-22T06:16:05.262Z"
   },
   {
    "duration": 27,
    "start_time": "2021-10-22T06:16:07.533Z"
   },
   {
    "duration": 4,
    "start_time": "2021-10-22T06:16:07.562Z"
   },
   {
    "duration": 35,
    "start_time": "2021-10-22T06:16:07.567Z"
   },
   {
    "duration": 5,
    "start_time": "2021-10-22T06:16:07.603Z"
   },
   {
    "duration": 66,
    "start_time": "2021-10-22T06:16:07.610Z"
   },
   {
    "duration": 69,
    "start_time": "2021-10-22T06:16:07.681Z"
   },
   {
    "duration": 9,
    "start_time": "2021-10-22T06:16:07.753Z"
   },
   {
    "duration": 31,
    "start_time": "2021-10-22T06:16:07.764Z"
   },
   {
    "duration": 340,
    "start_time": "2021-10-22T06:16:07.797Z"
   },
   {
    "duration": 56,
    "start_time": "2021-10-22T06:16:08.138Z"
   },
   {
    "duration": 338,
    "start_time": "2021-10-22T06:16:08.196Z"
   },
   {
    "duration": 9,
    "start_time": "2021-10-22T06:16:08.536Z"
   },
   {
    "duration": 6,
    "start_time": "2021-10-22T06:16:08.547Z"
   },
   {
    "duration": 17,
    "start_time": "2021-10-22T06:16:08.555Z"
   },
   {
    "duration": 342,
    "start_time": "2021-10-22T06:16:08.574Z"
   },
   {
    "duration": 11,
    "start_time": "2021-10-22T06:16:08.918Z"
   },
   {
    "duration": 667,
    "start_time": "2021-10-22T06:16:08.930Z"
   },
   {
    "duration": 80,
    "start_time": "2021-10-22T06:16:09.599Z"
   },
   {
    "duration": 164,
    "start_time": "2021-10-22T06:16:09.681Z"
   },
   {
    "duration": 368,
    "start_time": "2021-10-22T06:16:09.847Z"
   },
   {
    "duration": 5,
    "start_time": "2021-10-22T06:16:10.217Z"
   },
   {
    "duration": 20,
    "start_time": "2021-10-22T06:16:10.224Z"
   },
   {
    "duration": 4,
    "start_time": "2021-10-22T06:16:10.246Z"
   },
   {
    "duration": 9,
    "start_time": "2021-10-22T06:16:10.252Z"
   },
   {
    "duration": 8,
    "start_time": "2021-10-22T06:16:10.262Z"
   },
   {
    "duration": 11,
    "start_time": "2021-10-22T06:16:10.272Z"
   },
   {
    "duration": 15,
    "start_time": "2021-10-22T06:16:10.284Z"
   },
   {
    "duration": 15,
    "start_time": "2021-10-22T06:16:10.300Z"
   },
   {
    "duration": 30,
    "start_time": "2021-10-22T06:16:10.317Z"
   },
   {
    "duration": 6,
    "start_time": "2021-10-22T06:16:10.349Z"
   },
   {
    "duration": 8,
    "start_time": "2021-10-22T06:16:10.357Z"
   },
   {
    "duration": 5,
    "start_time": "2021-10-22T06:16:10.367Z"
   },
   {
    "duration": 10,
    "start_time": "2021-10-22T06:16:10.373Z"
   },
   {
    "duration": 9,
    "start_time": "2021-10-22T06:16:10.385Z"
   },
   {
    "duration": 5,
    "start_time": "2021-10-22T06:16:10.396Z"
   },
   {
    "duration": 24,
    "start_time": "2021-10-22T06:16:10.444Z"
   },
   {
    "duration": 6,
    "start_time": "2021-10-22T06:16:10.470Z"
   },
   {
    "duration": 6,
    "start_time": "2021-10-22T06:16:10.477Z"
   },
   {
    "duration": 11,
    "start_time": "2021-10-22T06:16:10.484Z"
   },
   {
    "duration": 6,
    "start_time": "2021-10-22T06:16:10.496Z"
   },
   {
    "duration": 42,
    "start_time": "2021-10-22T06:16:10.504Z"
   },
   {
    "duration": 4,
    "start_time": "2021-10-22T06:16:10.547Z"
   },
   {
    "duration": 7,
    "start_time": "2021-10-22T06:16:10.553Z"
   },
   {
    "duration": 8,
    "start_time": "2021-10-22T06:16:10.561Z"
   },
   {
    "duration": 7,
    "start_time": "2021-10-22T06:16:10.570Z"
   },
   {
    "duration": 17,
    "start_time": "2021-10-22T06:16:10.578Z"
   },
   {
    "duration": 14,
    "start_time": "2021-10-22T06:16:10.596Z"
   },
   {
    "duration": 34,
    "start_time": "2021-10-22T06:16:10.612Z"
   },
   {
    "duration": 4,
    "start_time": "2021-10-22T06:16:10.647Z"
   },
   {
    "duration": 8,
    "start_time": "2021-10-22T06:16:10.653Z"
   },
   {
    "duration": 332,
    "start_time": "2021-10-22T07:49:36.117Z"
   },
   {
    "duration": 2355,
    "start_time": "2021-10-22T07:49:41.360Z"
   },
   {
    "duration": 182,
    "start_time": "2021-10-22T07:49:43.718Z"
   },
   {
    "duration": 29,
    "start_time": "2021-10-22T07:49:43.904Z"
   },
   {
    "duration": 50,
    "start_time": "2021-10-22T07:49:43.936Z"
   },
   {
    "duration": 23,
    "start_time": "2021-10-22T07:49:43.989Z"
   },
   {
    "duration": 98,
    "start_time": "2021-10-22T07:49:44.014Z"
   },
   {
    "duration": 101,
    "start_time": "2021-10-22T07:49:44.115Z"
   },
   {
    "duration": 10,
    "start_time": "2021-10-22T07:49:44.220Z"
   },
   {
    "duration": 134,
    "start_time": "2021-10-22T07:49:44.233Z"
   },
   {
    "duration": 28,
    "start_time": "2021-10-22T07:49:44.369Z"
   },
   {
    "duration": 6,
    "start_time": "2021-10-22T07:49:44.399Z"
   },
   {
    "duration": 83,
    "start_time": "2021-10-22T07:49:44.408Z"
   },
   {
    "duration": 25,
    "start_time": "2021-10-22T07:49:44.494Z"
   },
   {
    "duration": 35,
    "start_time": "2021-10-22T07:49:44.522Z"
   },
   {
    "duration": 27,
    "start_time": "2021-10-22T07:49:44.584Z"
   },
   {
    "duration": 827,
    "start_time": "2021-10-22T07:49:44.614Z"
   },
   {
    "duration": 3579,
    "start_time": "2021-10-22T07:49:45.444Z"
   },
   {
    "duration": 1498,
    "start_time": "2021-10-22T07:49:49.025Z"
   },
   {
    "duration": 68,
    "start_time": "2021-10-22T07:49:50.461Z"
   },
   {
    "duration": -42,
    "start_time": "2021-10-22T07:49:50.572Z"
   },
   {
    "duration": -108,
    "start_time": "2021-10-22T07:49:50.639Z"
   },
   {
    "duration": -115,
    "start_time": "2021-10-22T07:49:50.647Z"
   },
   {
    "duration": -120,
    "start_time": "2021-10-22T07:49:50.654Z"
   },
   {
    "duration": -127,
    "start_time": "2021-10-22T07:49:50.662Z"
   },
   {
    "duration": -133,
    "start_time": "2021-10-22T07:49:50.670Z"
   },
   {
    "duration": -138,
    "start_time": "2021-10-22T07:49:50.676Z"
   },
   {
    "duration": -144,
    "start_time": "2021-10-22T07:49:50.684Z"
   },
   {
    "duration": -149,
    "start_time": "2021-10-22T07:49:50.690Z"
   },
   {
    "duration": -154,
    "start_time": "2021-10-22T07:49:50.696Z"
   },
   {
    "duration": -159,
    "start_time": "2021-10-22T07:49:50.703Z"
   },
   {
    "duration": -164,
    "start_time": "2021-10-22T07:49:50.709Z"
   },
   {
    "duration": -169,
    "start_time": "2021-10-22T07:49:50.716Z"
   },
   {
    "duration": -174,
    "start_time": "2021-10-22T07:49:50.723Z"
   },
   {
    "duration": -178,
    "start_time": "2021-10-22T07:49:50.729Z"
   },
   {
    "duration": -205,
    "start_time": "2021-10-22T07:49:50.758Z"
   },
   {
    "duration": -210,
    "start_time": "2021-10-22T07:49:50.764Z"
   },
   {
    "duration": -215,
    "start_time": "2021-10-22T07:49:50.771Z"
   },
   {
    "duration": -220,
    "start_time": "2021-10-22T07:49:50.778Z"
   },
   {
    "duration": -225,
    "start_time": "2021-10-22T07:49:50.785Z"
   },
   {
    "duration": -230,
    "start_time": "2021-10-22T07:49:50.791Z"
   },
   {
    "duration": -234,
    "start_time": "2021-10-22T07:49:50.797Z"
   },
   {
    "duration": -238,
    "start_time": "2021-10-22T07:49:50.802Z"
   },
   {
    "duration": -227,
    "start_time": "2021-10-22T07:49:50.809Z"
   },
   {
    "duration": -230,
    "start_time": "2021-10-22T07:49:50.814Z"
   },
   {
    "duration": -235,
    "start_time": "2021-10-22T07:49:50.821Z"
   },
   {
    "duration": -238,
    "start_time": "2021-10-22T07:49:50.826Z"
   },
   {
    "duration": -242,
    "start_time": "2021-10-22T07:49:50.832Z"
   },
   {
    "duration": -247,
    "start_time": "2021-10-22T07:49:50.838Z"
   },
   {
    "duration": -347,
    "start_time": "2021-10-22T07:49:50.940Z"
   },
   {
    "duration": -400,
    "start_time": "2021-10-22T07:49:50.995Z"
   },
   {
    "duration": -453,
    "start_time": "2021-10-22T07:49:51.050Z"
   },
   {
    "duration": -515,
    "start_time": "2021-10-22T07:49:51.113Z"
   },
   {
    "duration": -566,
    "start_time": "2021-10-22T07:49:51.166Z"
   },
   {
    "duration": -595,
    "start_time": "2021-10-22T07:49:51.196Z"
   },
   {
    "duration": -628,
    "start_time": "2021-10-22T07:49:51.231Z"
   },
   {
    "duration": -660,
    "start_time": "2021-10-22T07:49:51.264Z"
   },
   {
    "duration": -714,
    "start_time": "2021-10-22T07:49:51.319Z"
   },
   {
    "duration": -765,
    "start_time": "2021-10-22T07:49:51.371Z"
   },
   {
    "duration": -792,
    "start_time": "2021-10-22T07:49:51.400Z"
   },
   {
    "duration": -809,
    "start_time": "2021-10-22T07:49:51.418Z"
   },
   {
    "duration": -865,
    "start_time": "2021-10-22T07:49:51.476Z"
   },
   {
    "duration": -894,
    "start_time": "2021-10-22T07:49:51.506Z"
   },
   {
    "duration": -955,
    "start_time": "2021-10-22T07:49:51.569Z"
   },
   {
    "duration": -983,
    "start_time": "2021-10-22T07:49:51.598Z"
   },
   {
    "duration": -1016,
    "start_time": "2021-10-22T07:49:51.632Z"
   },
   {
    "duration": -1043,
    "start_time": "2021-10-22T07:49:51.661Z"
   },
   {
    "duration": -1034,
    "start_time": "2021-10-22T07:49:51.717Z"
   },
   {
    "duration": 1090,
    "start_time": "2021-10-22T07:49:58.136Z"
   },
   {
    "duration": 32,
    "start_time": "2021-10-22T07:50:05.928Z"
   },
   {
    "duration": 7,
    "start_time": "2021-10-22T07:52:01.785Z"
   },
   {
    "duration": 219,
    "start_time": "2021-10-22T07:52:01.795Z"
   },
   {
    "duration": 26,
    "start_time": "2021-10-22T07:52:02.017Z"
   },
   {
    "duration": 29,
    "start_time": "2021-10-22T07:52:02.082Z"
   },
   {
    "duration": 39,
    "start_time": "2021-10-22T07:52:02.114Z"
   },
   {
    "duration": 103,
    "start_time": "2021-10-22T07:52:02.156Z"
   },
   {
    "duration": 95,
    "start_time": "2021-10-22T07:52:02.263Z"
   },
   {
    "duration": 22,
    "start_time": "2021-10-22T07:52:02.361Z"
   },
   {
    "duration": 207,
    "start_time": "2021-10-22T07:52:02.386Z"
   },
   {
    "duration": 16,
    "start_time": "2021-10-22T07:52:02.596Z"
   },
   {
    "duration": 22,
    "start_time": "2021-10-22T07:52:02.615Z"
   },
   {
    "duration": 87,
    "start_time": "2021-10-22T07:52:02.640Z"
   },
   {
    "duration": 28,
    "start_time": "2021-10-22T07:52:02.730Z"
   },
   {
    "duration": 49,
    "start_time": "2021-10-22T07:52:02.761Z"
   },
   {
    "duration": 42,
    "start_time": "2021-10-22T07:52:02.812Z"
   },
   {
    "duration": 860,
    "start_time": "2021-10-22T07:52:02.856Z"
   },
   {
    "duration": 3549,
    "start_time": "2021-10-22T07:52:03.719Z"
   },
   {
    "duration": 48,
    "start_time": "2021-10-22T07:52:07.270Z"
   },
   {
    "duration": 5,
    "start_time": "2021-10-22T07:52:07.326Z"
   },
   {
    "duration": 77,
    "start_time": "2021-10-22T07:52:07.336Z"
   },
   {
    "duration": 11,
    "start_time": "2021-10-22T07:52:07.416Z"
   },
   {
    "duration": 84,
    "start_time": "2021-10-22T07:52:07.430Z"
   },
   {
    "duration": 96,
    "start_time": "2021-10-22T07:52:07.516Z"
   },
   {
    "duration": 15,
    "start_time": "2021-10-22T07:52:07.615Z"
   },
   {
    "duration": 78,
    "start_time": "2021-10-22T07:52:07.633Z"
   },
   {
    "duration": 583,
    "start_time": "2021-10-22T07:52:07.714Z"
   },
   {
    "duration": 84,
    "start_time": "2021-10-22T07:52:08.301Z"
   },
   {
    "duration": 758,
    "start_time": "2021-10-22T07:52:08.388Z"
   },
   {
    "duration": 6,
    "start_time": "2021-10-22T07:52:09.149Z"
   },
   {
    "duration": 32,
    "start_time": "2021-10-22T07:52:09.158Z"
   },
   {
    "duration": 31,
    "start_time": "2021-10-22T07:52:09.194Z"
   },
   {
    "duration": 564,
    "start_time": "2021-10-22T07:52:09.228Z"
   },
   {
    "duration": 19,
    "start_time": "2021-10-22T07:52:09.795Z"
   },
   {
    "duration": 999,
    "start_time": "2021-10-22T07:52:09.817Z"
   },
   {
    "duration": 98,
    "start_time": "2021-10-22T07:52:10.819Z"
   },
   {
    "duration": 173,
    "start_time": "2021-10-22T07:52:10.920Z"
   },
   {
    "duration": 491,
    "start_time": "2021-10-22T07:52:11.096Z"
   },
   {
    "duration": 9,
    "start_time": "2021-10-22T07:52:11.590Z"
   },
   {
    "duration": 14,
    "start_time": "2021-10-22T07:52:11.602Z"
   },
   {
    "duration": 9,
    "start_time": "2021-10-22T07:52:11.619Z"
   },
   {
    "duration": 13,
    "start_time": "2021-10-22T07:52:11.630Z"
   },
   {
    "duration": 42,
    "start_time": "2021-10-22T07:52:11.646Z"
   },
   {
    "duration": 19,
    "start_time": "2021-10-22T07:52:11.693Z"
   },
   {
    "duration": 13,
    "start_time": "2021-10-22T07:52:11.715Z"
   },
   {
    "duration": 64,
    "start_time": "2021-10-22T07:52:11.730Z"
   },
   {
    "duration": 18,
    "start_time": "2021-10-22T07:52:11.800Z"
   },
   {
    "duration": 9,
    "start_time": "2021-10-22T07:52:11.820Z"
   },
   {
    "duration": 16,
    "start_time": "2021-10-22T07:52:11.832Z"
   },
   {
    "duration": 36,
    "start_time": "2021-10-22T07:52:11.851Z"
   },
   {
    "duration": 16,
    "start_time": "2021-10-22T07:52:11.890Z"
   },
   {
    "duration": 19,
    "start_time": "2021-10-22T07:52:11.909Z"
   },
   {
    "duration": 12,
    "start_time": "2021-10-22T07:52:11.931Z"
   },
   {
    "duration": 86,
    "start_time": "2021-10-22T07:52:11.945Z"
   },
   {
    "duration": 9,
    "start_time": "2021-10-22T07:52:12.034Z"
   },
   {
    "duration": 8,
    "start_time": "2021-10-22T07:52:12.054Z"
   },
   {
    "duration": 20,
    "start_time": "2021-10-22T07:52:12.066Z"
   },
   {
    "duration": 16,
    "start_time": "2021-10-22T07:52:12.088Z"
   },
   {
    "duration": 8,
    "start_time": "2021-10-22T07:52:12.107Z"
   },
   {
    "duration": 6,
    "start_time": "2021-10-22T07:52:12.118Z"
   },
   {
    "duration": 9,
    "start_time": "2021-10-22T07:52:12.127Z"
   },
   {
    "duration": 54,
    "start_time": "2021-10-22T07:52:12.138Z"
   },
   {
    "duration": 8,
    "start_time": "2021-10-22T07:52:12.194Z"
   },
   {
    "duration": 23,
    "start_time": "2021-10-22T07:52:12.205Z"
   },
   {
    "duration": 9,
    "start_time": "2021-10-22T07:52:12.232Z"
   },
   {
    "duration": 40,
    "start_time": "2021-10-22T07:52:12.244Z"
   },
   {
    "duration": 6,
    "start_time": "2021-10-22T07:52:12.287Z"
   },
   {
    "duration": 10,
    "start_time": "2021-10-22T07:52:12.295Z"
   },
   {
    "duration": 10,
    "start_time": "2021-10-22T07:52:37.407Z"
   },
   {
    "duration": 47,
    "start_time": "2021-10-22T07:52:37.419Z"
   },
   {
    "duration": 7,
    "start_time": "2021-10-22T07:52:37.539Z"
   },
   {
    "duration": 7,
    "start_time": "2021-10-22T07:52:37.814Z"
   },
   {
    "duration": 7,
    "start_time": "2021-10-22T07:52:38.043Z"
   },
   {
    "duration": 7,
    "start_time": "2021-10-22T07:52:38.257Z"
   },
   {
    "duration": 6,
    "start_time": "2021-10-22T07:52:39.142Z"
   },
   {
    "duration": 6,
    "start_time": "2021-10-22T07:52:40.929Z"
   },
   {
    "duration": 7,
    "start_time": "2021-10-22T07:52:41.553Z"
   },
   {
    "duration": 7,
    "start_time": "2021-10-22T07:52:42.194Z"
   },
   {
    "duration": 13,
    "start_time": "2021-10-22T07:52:54.183Z"
   },
   {
    "duration": 16,
    "start_time": "2021-10-22T07:52:54.384Z"
   },
   {
    "duration": 7,
    "start_time": "2021-10-22T07:52:54.598Z"
   },
   {
    "duration": 8,
    "start_time": "2021-10-22T07:52:54.795Z"
   },
   {
    "duration": 6,
    "start_time": "2021-10-22T07:52:55.236Z"
   },
   {
    "duration": 7,
    "start_time": "2021-10-22T07:52:55.915Z"
   },
   {
    "duration": 10,
    "start_time": "2021-10-22T07:53:01.303Z"
   },
   {
    "duration": 36,
    "start_time": "2021-10-22T07:53:02.997Z"
   },
   {
    "duration": 6,
    "start_time": "2021-10-22T07:53:03.344Z"
   },
   {
    "duration": 6,
    "start_time": "2021-10-22T07:53:03.524Z"
   },
   {
    "duration": 6,
    "start_time": "2021-10-22T07:53:03.734Z"
   },
   {
    "duration": 6,
    "start_time": "2021-10-22T07:53:04.078Z"
   },
   {
    "duration": 6,
    "start_time": "2021-10-22T07:53:04.468Z"
   },
   {
    "duration": 6,
    "start_time": "2021-10-22T07:53:04.668Z"
   },
   {
    "duration": 7,
    "start_time": "2021-10-22T07:53:04.885Z"
   },
   {
    "duration": 7,
    "start_time": "2021-10-22T07:53:06.731Z"
   },
   {
    "duration": 11,
    "start_time": "2021-10-22T07:53:08.181Z"
   },
   {
    "duration": 20,
    "start_time": "2021-10-22T07:53:08.393Z"
   },
   {
    "duration": 7,
    "start_time": "2021-10-22T07:53:08.644Z"
   },
   {
    "duration": 11,
    "start_time": "2021-10-22T07:53:10.075Z"
   },
   {
    "duration": 6,
    "start_time": "2021-10-22T07:53:10.312Z"
   },
   {
    "duration": 6,
    "start_time": "2021-10-22T07:53:10.508Z"
   }
  ],
  "kernelspec": {
   "display_name": "Python 3",
   "language": "python",
   "name": "python3"
  },
  "language_info": {
   "codemirror_mode": {
    "name": "ipython",
    "version": 3
   },
   "file_extension": ".py",
   "mimetype": "text/x-python",
   "name": "python",
   "nbconvert_exporter": "python",
   "pygments_lexer": "ipython3",
   "version": "3.8.8"
  },
  "toc": {
   "base_numbering": 1,
   "nav_menu": {},
   "number_sections": true,
   "sideBar": true,
   "skip_h1_title": true,
   "title_cell": "Table of Contents",
   "title_sidebar": "Contents",
   "toc_cell": false,
   "toc_position": {
    "height": "calc(100% - 180px)",
    "left": "10px",
    "top": "150px",
    "width": "165px"
   },
   "toc_section_display": true,
   "toc_window_display": true
  }
 },
 "nbformat": 4,
 "nbformat_minor": 2
}
