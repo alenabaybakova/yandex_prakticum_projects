{
 "cells": [
  {
   "cell_type": "markdown",
   "metadata": {
    "toc": true
   },
   "source": [
    "<h1>Содержание<span class=\"tocSkip\"></span></h1>\n",
    "<div class=\"toc\"><ul class=\"toc-item\"><li><span><a href=\"#Задача\" data-toc-modified-id=\"Задача-1\"><span class=\"toc-item-num\">1&nbsp;&nbsp;</span>Задача</a></span></li><li><span><a href=\"#Описание-данных\" data-toc-modified-id=\"Описание-данных-2\"><span class=\"toc-item-num\">2&nbsp;&nbsp;</span>Описание данных</a></span></li><li><span><a href=\"#Изучение-данных-из-файла\" data-toc-modified-id=\"Изучение-данных-из-файла-3\"><span class=\"toc-item-num\">3&nbsp;&nbsp;</span>Изучение данных из файла</a></span></li><li><span><a href=\"#Предобработка-данных\" data-toc-modified-id=\"Предобработка-данных-4\"><span class=\"toc-item-num\">4&nbsp;&nbsp;</span>Предобработка данных</a></span></li><li><span><a href=\"#Расчёты-и-добавление-результатов-в-таблицу\" data-toc-modified-id=\"Расчёты-и-добавление-результатов-в-таблицу-5\"><span class=\"toc-item-num\">5&nbsp;&nbsp;</span>Расчёты и добавление результатов в таблицу</a></span><ul class=\"toc-item\"><li><span><a href=\"#Стоимость-квадратного-метра\" data-toc-modified-id=\"Стоимость-квадратного-метра-5.1\"><span class=\"toc-item-num\">5.1&nbsp;&nbsp;</span>Стоимость квадратного метра</a></span></li><li><span><a href=\"#День-недели,-месяц-и-год-публикации-объявления\" data-toc-modified-id=\"День-недели,-месяц-и-год-публикации-объявления-5.2\"><span class=\"toc-item-num\">5.2&nbsp;&nbsp;</span>День недели, месяц и год публикации объявления</a></span></li><li><span><a href=\"#Этаж-квартиры\" data-toc-modified-id=\"Этаж-квартиры-5.3\"><span class=\"toc-item-num\">5.3&nbsp;&nbsp;</span>Этаж квартиры</a></span></li><li><span><a href=\"#Соотношение-площадей\" data-toc-modified-id=\"Соотношение-площадей-5.4\"><span class=\"toc-item-num\">5.4&nbsp;&nbsp;</span>Соотношение площадей</a></span></li></ul></li><li><span><a href=\"#Характеристики-квартир\" data-toc-modified-id=\"Характеристики-квартир-6\"><span class=\"toc-item-num\">6&nbsp;&nbsp;</span>Характеристики квартир</a></span><ul class=\"toc-item\"><li><span><a href=\"#Площадь-квартир\" data-toc-modified-id=\"Площадь-квартир-6.1\"><span class=\"toc-item-num\">6.1&nbsp;&nbsp;</span>Площадь квартир</a></span></li><li><span><a href=\"#Цена-квартир\" data-toc-modified-id=\"Цена-квартир-6.2\"><span class=\"toc-item-num\">6.2&nbsp;&nbsp;</span>Цена квартир</a></span></li><li><span><a href=\"#Количество-комнат\" data-toc-modified-id=\"Количество-комнат-6.3\"><span class=\"toc-item-num\">6.3&nbsp;&nbsp;</span>Количество комнат</a></span></li><li><span><a href=\"#Высота-потолков\" data-toc-modified-id=\"Высота-потолков-6.4\"><span class=\"toc-item-num\">6.4&nbsp;&nbsp;</span>Высота потолков</a></span></li><li><span><a href=\"#Время-продажи-квартиры\" data-toc-modified-id=\"Время-продажи-квартиры-6.5\"><span class=\"toc-item-num\">6.5&nbsp;&nbsp;</span>Время продажи квартиры</a></span></li></ul></li><li><span><a href=\"#Факторы,-влияющие-на-стоимость\" data-toc-modified-id=\"Факторы,-влияющие-на-стоимость-7\"><span class=\"toc-item-num\">7&nbsp;&nbsp;</span>Факторы, влияющие на стоимость</a></span><ul class=\"toc-item\"><li><span><a href=\"#Число-комнат\" data-toc-modified-id=\"Число-комнат-7.1\"><span class=\"toc-item-num\">7.1&nbsp;&nbsp;</span>Число комнат</a></span></li><li><span><a href=\"#Этаж\" data-toc-modified-id=\"Этаж-7.2\"><span class=\"toc-item-num\">7.2&nbsp;&nbsp;</span>Этаж</a></span></li><li><span><a href=\"#Удаленность-от-центра\" data-toc-modified-id=\"Удаленность-от-центра-7.3\"><span class=\"toc-item-num\">7.3&nbsp;&nbsp;</span>Удаленность от центра</a></span></li><li><span><a href=\"#Дата-размещения\" data-toc-modified-id=\"Дата-размещения-7.4\"><span class=\"toc-item-num\">7.4&nbsp;&nbsp;</span>Дата размещения</a></span></li><li><span><a href=\"#Населенный-пункт\" data-toc-modified-id=\"Населенный-пункт-7.5\"><span class=\"toc-item-num\">7.5&nbsp;&nbsp;</span>Населенный пункт</a></span></li></ul></li><li><span><a href=\"#Характеристики-центрального-района\" data-toc-modified-id=\"Характеристики-центрального-района-8\"><span class=\"toc-item-num\">8&nbsp;&nbsp;</span>Характеристики центрального района</a></span><ul class=\"toc-item\"><li><span><a href=\"#Площадь\" data-toc-modified-id=\"Площадь-8.1\"><span class=\"toc-item-num\">8.1&nbsp;&nbsp;</span>Площадь</a></span></li><li><span><a href=\"#Цена\" data-toc-modified-id=\"Цена-8.2\"><span class=\"toc-item-num\">8.2&nbsp;&nbsp;</span>Цена</a></span></li><li><span><a href=\"#Количество-комнат\" data-toc-modified-id=\"Количество-комнат-8.3\"><span class=\"toc-item-num\">8.3&nbsp;&nbsp;</span>Количество комнат</a></span></li><li><span><a href=\"#Высота-потолков\" data-toc-modified-id=\"Высота-потолков-8.4\"><span class=\"toc-item-num\">8.4&nbsp;&nbsp;</span>Высота потолков</a></span></li></ul></li><li><span><a href=\"#Факторы,-влияющие-на-стоимость-квартир-в-центре\" data-toc-modified-id=\"Факторы,-влияющие-на-стоимость-квартир-в-центре-9\"><span class=\"toc-item-num\">9&nbsp;&nbsp;</span>Факторы, влияющие на стоимость квартир в центре</a></span><ul class=\"toc-item\"><li><span><a href=\"#Стоимость-квадратного-метра-и-число-комнат\" data-toc-modified-id=\"Стоимость-квадратного-метра-и-число-комнат-9.1\"><span class=\"toc-item-num\">9.1&nbsp;&nbsp;</span>Стоимость квадратного метра и число комнат</a></span></li><li><span><a href=\"#Стоимость-квадратного-метра-и-этаж\" data-toc-modified-id=\"Стоимость-квадратного-метра-и-этаж-9.2\"><span class=\"toc-item-num\">9.2&nbsp;&nbsp;</span>Стоимость квадратного метра и этаж</a></span></li><li><span><a href=\"#Стоимость-квадратного-метра-и-близость-к-центру\" data-toc-modified-id=\"Стоимость-квадратного-метра-и-близость-к-центру-9.3\"><span class=\"toc-item-num\">9.3&nbsp;&nbsp;</span>Стоимость квадратного метра и близость к центру</a></span></li><li><span><a href=\"#Стоимость-квадратного-метра-и-дата-размещения\" data-toc-modified-id=\"Стоимость-квадратного-метра-и-дата-размещения-9.4\"><span class=\"toc-item-num\">9.4&nbsp;&nbsp;</span>Стоимость квадратного метра и дата размещения</a></span></li></ul></li><li><span><a href=\"#Вывод\" data-toc-modified-id=\"Вывод-10\"><span class=\"toc-item-num\">10&nbsp;&nbsp;</span>Вывод</a></span></li></ul></div>"
   ]
  },
  {
   "cell_type": "markdown",
   "metadata": {},
   "source": [
    "## Задача\n",
    "\n",
    "В нашем распоряжении данные сервиса Яндекс.Недвижимость — архив объявлений о продаже квартир в Санкт-Петербурге и соседних населённых пунктах за несколько лет. Нужно научиться определять рыночную стоимость объектов недвижимости.\n",
    "\n",
    "Задача — установить параметры.\n",
    "\n",
    "По каждой квартире на продажу доступны два вида данных. Первые вписаны пользователем, вторые получены автоматически на основе картографических данных. Например, расстояние до центра, аэропорта, ближайшего парка и водоёма. "
   ]
  },
  {
   "cell_type": "markdown",
   "metadata": {},
   "source": [
    "## Описание данных\n",
    "    \n",
    "- airports_nearest — расстояние до ближайшего аэропорта в метрах (м)\n",
    "- balcony — число балконов\n",
    "- ceiling_height — высота потолков (м)\n",
    "- cityCenters_nearest — расстояние до центра города (м)\n",
    "- days_exposition — сколько дней было размещено объявление (от публикации до снятия)\n",
    "- first_day_exposition — дата публикации\n",
    "- floor — этаж\n",
    "- floors_total — всего этажей в доме\n",
    "- is_apartment — апартаменты (булев тип)\n",
    "- kitchen_area — площадь кухни в квадратных метрах (м²)\n",
    "- last_price — цена на момент снятия с публикации\n",
    "- living_area — жилая площадь в квадратных метрах(м²)\n",
    "- locality_name — название населённого пункта\n",
    "- open_plan — свободная планировка (булев тип)\n",
    "- parks_around3000 — число парков в радиусе 3 км\n",
    "- parks_nearest — расстояние до ближайшего парка (м)\n",
    "- ponds_around3000 — число водоёмов в радиусе 3 км\n",
    "- ponds_nearest — расстояние до ближайшего водоёма (м)\n",
    "- rooms — число комнат\n",
    "- studio — квартира-студия (булев тип)\n",
    "- total_area — площадь квартиры в квадратных метрах (м²)\n",
    "- total_images — число фотографий квартиры в объявлении"
   ]
  },
  {
   "cell_type": "markdown",
   "metadata": {},
   "source": [
    "## Изучение данных из файла"
   ]
  },
  {
   "cell_type": "markdown",
   "metadata": {},
   "source": [
    "Изначально данные были склеены в одну строку, мы разбили их знаком табуляции '\\t'"
   ]
  },
  {
   "cell_type": "code",
   "execution_count": 78,
   "metadata": {},
   "outputs": [],
   "source": [
    "import pandas as pd\n",
    "df = pd.read_csv('/Users/alena/Desktop/projects/issledovanie_kvartir/real_estate_data.csv', sep='\\t')"
   ]
  },
  {
   "cell_type": "markdown",
   "metadata": {},
   "source": [
    "Просмотрим общую информацию о таблице:"
   ]
  },
  {
   "cell_type": "code",
   "execution_count": 79,
   "metadata": {},
   "outputs": [
    {
     "name": "stdout",
     "output_type": "stream",
     "text": [
      "<class 'pandas.core.frame.DataFrame'>\n",
      "RangeIndex: 23699 entries, 0 to 23698\n",
      "Data columns (total 22 columns):\n",
      " #   Column                Non-Null Count  Dtype  \n",
      "---  ------                --------------  -----  \n",
      " 0   total_images          23699 non-null  int64  \n",
      " 1   last_price            23699 non-null  float64\n",
      " 2   total_area            23699 non-null  float64\n",
      " 3   first_day_exposition  23699 non-null  object \n",
      " 4   rooms                 23699 non-null  int64  \n",
      " 5   ceiling_height        14504 non-null  float64\n",
      " 6   floors_total          23613 non-null  float64\n",
      " 7   living_area           21796 non-null  float64\n",
      " 8   floor                 23699 non-null  int64  \n",
      " 9   is_apartment          2775 non-null   object \n",
      " 10  studio                23699 non-null  bool   \n",
      " 11  open_plan             23699 non-null  bool   \n",
      " 12  kitchen_area          21421 non-null  float64\n",
      " 13  balcony               12180 non-null  float64\n",
      " 14  locality_name         23650 non-null  object \n",
      " 15  airports_nearest      18157 non-null  float64\n",
      " 16  cityCenters_nearest   18180 non-null  float64\n",
      " 17  parks_around3000      18181 non-null  float64\n",
      " 18  parks_nearest         8079 non-null   float64\n",
      " 19  ponds_around3000      18181 non-null  float64\n",
      " 20  ponds_nearest         9110 non-null   float64\n",
      " 21  days_exposition       20518 non-null  float64\n",
      "dtypes: bool(2), float64(14), int64(3), object(3)\n",
      "memory usage: 3.7+ MB\n"
     ]
    }
   ],
   "source": [
    "df.info()"
   ]
  },
  {
   "cell_type": "markdown",
   "metadata": {},
   "source": [
    "Просмотрим первые 10 строк:"
   ]
  },
  {
   "cell_type": "code",
   "execution_count": 80,
   "metadata": {},
   "outputs": [
    {
     "data": {
      "text/html": [
       "<div>\n",
       "<style scoped>\n",
       "    .dataframe tbody tr th:only-of-type {\n",
       "        vertical-align: middle;\n",
       "    }\n",
       "\n",
       "    .dataframe tbody tr th {\n",
       "        vertical-align: top;\n",
       "    }\n",
       "\n",
       "    .dataframe thead th {\n",
       "        text-align: right;\n",
       "    }\n",
       "</style>\n",
       "<table border=\"1\" class=\"dataframe\">\n",
       "  <thead>\n",
       "    <tr style=\"text-align: right;\">\n",
       "      <th></th>\n",
       "      <th>total_images</th>\n",
       "      <th>last_price</th>\n",
       "      <th>total_area</th>\n",
       "      <th>first_day_exposition</th>\n",
       "      <th>rooms</th>\n",
       "      <th>ceiling_height</th>\n",
       "      <th>floors_total</th>\n",
       "      <th>living_area</th>\n",
       "      <th>floor</th>\n",
       "      <th>is_apartment</th>\n",
       "      <th>...</th>\n",
       "      <th>kitchen_area</th>\n",
       "      <th>balcony</th>\n",
       "      <th>locality_name</th>\n",
       "      <th>airports_nearest</th>\n",
       "      <th>cityCenters_nearest</th>\n",
       "      <th>parks_around3000</th>\n",
       "      <th>parks_nearest</th>\n",
       "      <th>ponds_around3000</th>\n",
       "      <th>ponds_nearest</th>\n",
       "      <th>days_exposition</th>\n",
       "    </tr>\n",
       "  </thead>\n",
       "  <tbody>\n",
       "    <tr>\n",
       "      <th>0</th>\n",
       "      <td>20</td>\n",
       "      <td>13000000.0</td>\n",
       "      <td>108.00</td>\n",
       "      <td>2019-03-07T00:00:00</td>\n",
       "      <td>3</td>\n",
       "      <td>2.70</td>\n",
       "      <td>16.0</td>\n",
       "      <td>51.00</td>\n",
       "      <td>8</td>\n",
       "      <td>NaN</td>\n",
       "      <td>...</td>\n",
       "      <td>25.00</td>\n",
       "      <td>NaN</td>\n",
       "      <td>Санкт-Петербург</td>\n",
       "      <td>18863.0</td>\n",
       "      <td>16028.0</td>\n",
       "      <td>1.0</td>\n",
       "      <td>482.0</td>\n",
       "      <td>2.0</td>\n",
       "      <td>755.0</td>\n",
       "      <td>NaN</td>\n",
       "    </tr>\n",
       "    <tr>\n",
       "      <th>1</th>\n",
       "      <td>7</td>\n",
       "      <td>3350000.0</td>\n",
       "      <td>40.40</td>\n",
       "      <td>2018-12-04T00:00:00</td>\n",
       "      <td>1</td>\n",
       "      <td>NaN</td>\n",
       "      <td>11.0</td>\n",
       "      <td>18.60</td>\n",
       "      <td>1</td>\n",
       "      <td>NaN</td>\n",
       "      <td>...</td>\n",
       "      <td>11.00</td>\n",
       "      <td>2.0</td>\n",
       "      <td>посёлок Шушары</td>\n",
       "      <td>12817.0</td>\n",
       "      <td>18603.0</td>\n",
       "      <td>0.0</td>\n",
       "      <td>NaN</td>\n",
       "      <td>0.0</td>\n",
       "      <td>NaN</td>\n",
       "      <td>81.0</td>\n",
       "    </tr>\n",
       "    <tr>\n",
       "      <th>2</th>\n",
       "      <td>10</td>\n",
       "      <td>5196000.0</td>\n",
       "      <td>56.00</td>\n",
       "      <td>2015-08-20T00:00:00</td>\n",
       "      <td>2</td>\n",
       "      <td>NaN</td>\n",
       "      <td>5.0</td>\n",
       "      <td>34.30</td>\n",
       "      <td>4</td>\n",
       "      <td>NaN</td>\n",
       "      <td>...</td>\n",
       "      <td>8.30</td>\n",
       "      <td>0.0</td>\n",
       "      <td>Санкт-Петербург</td>\n",
       "      <td>21741.0</td>\n",
       "      <td>13933.0</td>\n",
       "      <td>1.0</td>\n",
       "      <td>90.0</td>\n",
       "      <td>2.0</td>\n",
       "      <td>574.0</td>\n",
       "      <td>558.0</td>\n",
       "    </tr>\n",
       "    <tr>\n",
       "      <th>3</th>\n",
       "      <td>0</td>\n",
       "      <td>64900000.0</td>\n",
       "      <td>159.00</td>\n",
       "      <td>2015-07-24T00:00:00</td>\n",
       "      <td>3</td>\n",
       "      <td>NaN</td>\n",
       "      <td>14.0</td>\n",
       "      <td>NaN</td>\n",
       "      <td>9</td>\n",
       "      <td>NaN</td>\n",
       "      <td>...</td>\n",
       "      <td>NaN</td>\n",
       "      <td>0.0</td>\n",
       "      <td>Санкт-Петербург</td>\n",
       "      <td>28098.0</td>\n",
       "      <td>6800.0</td>\n",
       "      <td>2.0</td>\n",
       "      <td>84.0</td>\n",
       "      <td>3.0</td>\n",
       "      <td>234.0</td>\n",
       "      <td>424.0</td>\n",
       "    </tr>\n",
       "    <tr>\n",
       "      <th>4</th>\n",
       "      <td>2</td>\n",
       "      <td>10000000.0</td>\n",
       "      <td>100.00</td>\n",
       "      <td>2018-06-19T00:00:00</td>\n",
       "      <td>2</td>\n",
       "      <td>3.03</td>\n",
       "      <td>14.0</td>\n",
       "      <td>32.00</td>\n",
       "      <td>13</td>\n",
       "      <td>NaN</td>\n",
       "      <td>...</td>\n",
       "      <td>41.00</td>\n",
       "      <td>NaN</td>\n",
       "      <td>Санкт-Петербург</td>\n",
       "      <td>31856.0</td>\n",
       "      <td>8098.0</td>\n",
       "      <td>2.0</td>\n",
       "      <td>112.0</td>\n",
       "      <td>1.0</td>\n",
       "      <td>48.0</td>\n",
       "      <td>121.0</td>\n",
       "    </tr>\n",
       "    <tr>\n",
       "      <th>5</th>\n",
       "      <td>10</td>\n",
       "      <td>2890000.0</td>\n",
       "      <td>30.40</td>\n",
       "      <td>2018-09-10T00:00:00</td>\n",
       "      <td>1</td>\n",
       "      <td>NaN</td>\n",
       "      <td>12.0</td>\n",
       "      <td>14.40</td>\n",
       "      <td>5</td>\n",
       "      <td>NaN</td>\n",
       "      <td>...</td>\n",
       "      <td>9.10</td>\n",
       "      <td>NaN</td>\n",
       "      <td>городской посёлок Янино-1</td>\n",
       "      <td>NaN</td>\n",
       "      <td>NaN</td>\n",
       "      <td>NaN</td>\n",
       "      <td>NaN</td>\n",
       "      <td>NaN</td>\n",
       "      <td>NaN</td>\n",
       "      <td>55.0</td>\n",
       "    </tr>\n",
       "    <tr>\n",
       "      <th>6</th>\n",
       "      <td>6</td>\n",
       "      <td>3700000.0</td>\n",
       "      <td>37.30</td>\n",
       "      <td>2017-11-02T00:00:00</td>\n",
       "      <td>1</td>\n",
       "      <td>NaN</td>\n",
       "      <td>26.0</td>\n",
       "      <td>10.60</td>\n",
       "      <td>6</td>\n",
       "      <td>NaN</td>\n",
       "      <td>...</td>\n",
       "      <td>14.40</td>\n",
       "      <td>1.0</td>\n",
       "      <td>посёлок Парголово</td>\n",
       "      <td>52996.0</td>\n",
       "      <td>19143.0</td>\n",
       "      <td>0.0</td>\n",
       "      <td>NaN</td>\n",
       "      <td>0.0</td>\n",
       "      <td>NaN</td>\n",
       "      <td>155.0</td>\n",
       "    </tr>\n",
       "    <tr>\n",
       "      <th>7</th>\n",
       "      <td>5</td>\n",
       "      <td>7915000.0</td>\n",
       "      <td>71.60</td>\n",
       "      <td>2019-04-18T00:00:00</td>\n",
       "      <td>2</td>\n",
       "      <td>NaN</td>\n",
       "      <td>24.0</td>\n",
       "      <td>NaN</td>\n",
       "      <td>22</td>\n",
       "      <td>NaN</td>\n",
       "      <td>...</td>\n",
       "      <td>18.90</td>\n",
       "      <td>2.0</td>\n",
       "      <td>Санкт-Петербург</td>\n",
       "      <td>23982.0</td>\n",
       "      <td>11634.0</td>\n",
       "      <td>0.0</td>\n",
       "      <td>NaN</td>\n",
       "      <td>0.0</td>\n",
       "      <td>NaN</td>\n",
       "      <td>NaN</td>\n",
       "    </tr>\n",
       "    <tr>\n",
       "      <th>8</th>\n",
       "      <td>20</td>\n",
       "      <td>2900000.0</td>\n",
       "      <td>33.16</td>\n",
       "      <td>2018-05-23T00:00:00</td>\n",
       "      <td>1</td>\n",
       "      <td>NaN</td>\n",
       "      <td>27.0</td>\n",
       "      <td>15.43</td>\n",
       "      <td>26</td>\n",
       "      <td>NaN</td>\n",
       "      <td>...</td>\n",
       "      <td>8.81</td>\n",
       "      <td>NaN</td>\n",
       "      <td>посёлок Мурино</td>\n",
       "      <td>NaN</td>\n",
       "      <td>NaN</td>\n",
       "      <td>NaN</td>\n",
       "      <td>NaN</td>\n",
       "      <td>NaN</td>\n",
       "      <td>NaN</td>\n",
       "      <td>189.0</td>\n",
       "    </tr>\n",
       "    <tr>\n",
       "      <th>9</th>\n",
       "      <td>18</td>\n",
       "      <td>5400000.0</td>\n",
       "      <td>61.00</td>\n",
       "      <td>2017-02-26T00:00:00</td>\n",
       "      <td>3</td>\n",
       "      <td>2.50</td>\n",
       "      <td>9.0</td>\n",
       "      <td>43.60</td>\n",
       "      <td>7</td>\n",
       "      <td>NaN</td>\n",
       "      <td>...</td>\n",
       "      <td>6.50</td>\n",
       "      <td>2.0</td>\n",
       "      <td>Санкт-Петербург</td>\n",
       "      <td>50898.0</td>\n",
       "      <td>15008.0</td>\n",
       "      <td>0.0</td>\n",
       "      <td>NaN</td>\n",
       "      <td>0.0</td>\n",
       "      <td>NaN</td>\n",
       "      <td>289.0</td>\n",
       "    </tr>\n",
       "  </tbody>\n",
       "</table>\n",
       "<p>10 rows × 22 columns</p>\n",
       "</div>"
      ],
      "text/plain": [
       "   total_images  last_price  total_area first_day_exposition  rooms  \\\n",
       "0            20  13000000.0      108.00  2019-03-07T00:00:00      3   \n",
       "1             7   3350000.0       40.40  2018-12-04T00:00:00      1   \n",
       "2            10   5196000.0       56.00  2015-08-20T00:00:00      2   \n",
       "3             0  64900000.0      159.00  2015-07-24T00:00:00      3   \n",
       "4             2  10000000.0      100.00  2018-06-19T00:00:00      2   \n",
       "5            10   2890000.0       30.40  2018-09-10T00:00:00      1   \n",
       "6             6   3700000.0       37.30  2017-11-02T00:00:00      1   \n",
       "7             5   7915000.0       71.60  2019-04-18T00:00:00      2   \n",
       "8            20   2900000.0       33.16  2018-05-23T00:00:00      1   \n",
       "9            18   5400000.0       61.00  2017-02-26T00:00:00      3   \n",
       "\n",
       "   ceiling_height  floors_total  living_area  floor is_apartment  ...  \\\n",
       "0            2.70          16.0        51.00      8          NaN  ...   \n",
       "1             NaN          11.0        18.60      1          NaN  ...   \n",
       "2             NaN           5.0        34.30      4          NaN  ...   \n",
       "3             NaN          14.0          NaN      9          NaN  ...   \n",
       "4            3.03          14.0        32.00     13          NaN  ...   \n",
       "5             NaN          12.0        14.40      5          NaN  ...   \n",
       "6             NaN          26.0        10.60      6          NaN  ...   \n",
       "7             NaN          24.0          NaN     22          NaN  ...   \n",
       "8             NaN          27.0        15.43     26          NaN  ...   \n",
       "9            2.50           9.0        43.60      7          NaN  ...   \n",
       "\n",
       "   kitchen_area  balcony              locality_name  airports_nearest  \\\n",
       "0         25.00      NaN            Санкт-Петербург           18863.0   \n",
       "1         11.00      2.0             посёлок Шушары           12817.0   \n",
       "2          8.30      0.0            Санкт-Петербург           21741.0   \n",
       "3           NaN      0.0            Санкт-Петербург           28098.0   \n",
       "4         41.00      NaN            Санкт-Петербург           31856.0   \n",
       "5          9.10      NaN  городской посёлок Янино-1               NaN   \n",
       "6         14.40      1.0          посёлок Парголово           52996.0   \n",
       "7         18.90      2.0            Санкт-Петербург           23982.0   \n",
       "8          8.81      NaN             посёлок Мурино               NaN   \n",
       "9          6.50      2.0            Санкт-Петербург           50898.0   \n",
       "\n",
       "  cityCenters_nearest  parks_around3000  parks_nearest  ponds_around3000  \\\n",
       "0             16028.0               1.0          482.0               2.0   \n",
       "1             18603.0               0.0            NaN               0.0   \n",
       "2             13933.0               1.0           90.0               2.0   \n",
       "3              6800.0               2.0           84.0               3.0   \n",
       "4              8098.0               2.0          112.0               1.0   \n",
       "5                 NaN               NaN            NaN               NaN   \n",
       "6             19143.0               0.0            NaN               0.0   \n",
       "7             11634.0               0.0            NaN               0.0   \n",
       "8                 NaN               NaN            NaN               NaN   \n",
       "9             15008.0               0.0            NaN               0.0   \n",
       "\n",
       "   ponds_nearest  days_exposition  \n",
       "0          755.0              NaN  \n",
       "1            NaN             81.0  \n",
       "2          574.0            558.0  \n",
       "3          234.0            424.0  \n",
       "4           48.0            121.0  \n",
       "5            NaN             55.0  \n",
       "6            NaN            155.0  \n",
       "7            NaN              NaN  \n",
       "8            NaN            189.0  \n",
       "9            NaN            289.0  \n",
       "\n",
       "[10 rows x 22 columns]"
      ]
     },
     "metadata": {},
     "output_type": "display_data"
    }
   ],
   "source": [
    "display(df.head(10))"
   ]
  },
  {
   "cell_type": "markdown",
   "metadata": {},
   "source": [
    "Получим числовое описание данных:"
   ]
  },
  {
   "cell_type": "code",
   "execution_count": 30,
   "metadata": {},
   "outputs": [
    {
     "data": {
      "text/html": [
       "<div>\n",
       "<style scoped>\n",
       "    .dataframe tbody tr th:only-of-type {\n",
       "        vertical-align: middle;\n",
       "    }\n",
       "\n",
       "    .dataframe tbody tr th {\n",
       "        vertical-align: top;\n",
       "    }\n",
       "\n",
       "    .dataframe thead th {\n",
       "        text-align: right;\n",
       "    }\n",
       "</style>\n",
       "<table border=\"1\" class=\"dataframe\">\n",
       "  <thead>\n",
       "    <tr style=\"text-align: right;\">\n",
       "      <th></th>\n",
       "      <th>total_images</th>\n",
       "      <th>last_price</th>\n",
       "      <th>total_area</th>\n",
       "      <th>rooms</th>\n",
       "      <th>ceiling_height</th>\n",
       "      <th>floors_total</th>\n",
       "      <th>living_area</th>\n",
       "      <th>floor</th>\n",
       "      <th>kitchen_area</th>\n",
       "      <th>balcony</th>\n",
       "      <th>airports_nearest</th>\n",
       "      <th>cityCenters_nearest</th>\n",
       "      <th>parks_around3000</th>\n",
       "      <th>parks_nearest</th>\n",
       "      <th>ponds_around3000</th>\n",
       "      <th>ponds_nearest</th>\n",
       "      <th>days_exposition</th>\n",
       "    </tr>\n",
       "  </thead>\n",
       "  <tbody>\n",
       "    <tr>\n",
       "      <th>count</th>\n",
       "      <td>23699.000000</td>\n",
       "      <td>2.369900e+04</td>\n",
       "      <td>23699.000000</td>\n",
       "      <td>23699.000000</td>\n",
       "      <td>14504.000000</td>\n",
       "      <td>23613.000000</td>\n",
       "      <td>21796.000000</td>\n",
       "      <td>23699.000000</td>\n",
       "      <td>21421.000000</td>\n",
       "      <td>12180.000000</td>\n",
       "      <td>18157.000000</td>\n",
       "      <td>18180.000000</td>\n",
       "      <td>18181.000000</td>\n",
       "      <td>8079.000000</td>\n",
       "      <td>18181.000000</td>\n",
       "      <td>9110.000000</td>\n",
       "      <td>20518.000000</td>\n",
       "    </tr>\n",
       "    <tr>\n",
       "      <th>mean</th>\n",
       "      <td>9.858475</td>\n",
       "      <td>6.541549e+06</td>\n",
       "      <td>60.348651</td>\n",
       "      <td>2.070636</td>\n",
       "      <td>2.771499</td>\n",
       "      <td>10.673824</td>\n",
       "      <td>34.457852</td>\n",
       "      <td>5.892358</td>\n",
       "      <td>10.569807</td>\n",
       "      <td>1.150082</td>\n",
       "      <td>28793.672193</td>\n",
       "      <td>14191.277833</td>\n",
       "      <td>0.611408</td>\n",
       "      <td>490.804555</td>\n",
       "      <td>0.770255</td>\n",
       "      <td>517.980900</td>\n",
       "      <td>180.888634</td>\n",
       "    </tr>\n",
       "    <tr>\n",
       "      <th>std</th>\n",
       "      <td>5.682529</td>\n",
       "      <td>1.088701e+07</td>\n",
       "      <td>35.654083</td>\n",
       "      <td>1.078405</td>\n",
       "      <td>1.261056</td>\n",
       "      <td>6.597173</td>\n",
       "      <td>22.030445</td>\n",
       "      <td>4.885249</td>\n",
       "      <td>5.905438</td>\n",
       "      <td>1.071300</td>\n",
       "      <td>12630.880622</td>\n",
       "      <td>8608.386210</td>\n",
       "      <td>0.802074</td>\n",
       "      <td>342.317995</td>\n",
       "      <td>0.938346</td>\n",
       "      <td>277.720643</td>\n",
       "      <td>219.727988</td>\n",
       "    </tr>\n",
       "    <tr>\n",
       "      <th>min</th>\n",
       "      <td>0.000000</td>\n",
       "      <td>1.219000e+04</td>\n",
       "      <td>12.000000</td>\n",
       "      <td>0.000000</td>\n",
       "      <td>1.000000</td>\n",
       "      <td>1.000000</td>\n",
       "      <td>2.000000</td>\n",
       "      <td>1.000000</td>\n",
       "      <td>1.300000</td>\n",
       "      <td>0.000000</td>\n",
       "      <td>0.000000</td>\n",
       "      <td>181.000000</td>\n",
       "      <td>0.000000</td>\n",
       "      <td>1.000000</td>\n",
       "      <td>0.000000</td>\n",
       "      <td>13.000000</td>\n",
       "      <td>1.000000</td>\n",
       "    </tr>\n",
       "    <tr>\n",
       "      <th>25%</th>\n",
       "      <td>6.000000</td>\n",
       "      <td>3.400000e+06</td>\n",
       "      <td>40.000000</td>\n",
       "      <td>1.000000</td>\n",
       "      <td>2.520000</td>\n",
       "      <td>5.000000</td>\n",
       "      <td>18.600000</td>\n",
       "      <td>2.000000</td>\n",
       "      <td>7.000000</td>\n",
       "      <td>0.000000</td>\n",
       "      <td>18585.000000</td>\n",
       "      <td>9238.000000</td>\n",
       "      <td>0.000000</td>\n",
       "      <td>288.000000</td>\n",
       "      <td>0.000000</td>\n",
       "      <td>294.000000</td>\n",
       "      <td>45.000000</td>\n",
       "    </tr>\n",
       "    <tr>\n",
       "      <th>50%</th>\n",
       "      <td>9.000000</td>\n",
       "      <td>4.650000e+06</td>\n",
       "      <td>52.000000</td>\n",
       "      <td>2.000000</td>\n",
       "      <td>2.650000</td>\n",
       "      <td>9.000000</td>\n",
       "      <td>30.000000</td>\n",
       "      <td>4.000000</td>\n",
       "      <td>9.100000</td>\n",
       "      <td>1.000000</td>\n",
       "      <td>26726.000000</td>\n",
       "      <td>13098.500000</td>\n",
       "      <td>0.000000</td>\n",
       "      <td>455.000000</td>\n",
       "      <td>1.000000</td>\n",
       "      <td>502.000000</td>\n",
       "      <td>95.000000</td>\n",
       "    </tr>\n",
       "    <tr>\n",
       "      <th>75%</th>\n",
       "      <td>14.000000</td>\n",
       "      <td>6.800000e+06</td>\n",
       "      <td>69.900000</td>\n",
       "      <td>3.000000</td>\n",
       "      <td>2.800000</td>\n",
       "      <td>16.000000</td>\n",
       "      <td>42.300000</td>\n",
       "      <td>8.000000</td>\n",
       "      <td>12.000000</td>\n",
       "      <td>2.000000</td>\n",
       "      <td>37273.000000</td>\n",
       "      <td>16293.000000</td>\n",
       "      <td>1.000000</td>\n",
       "      <td>612.000000</td>\n",
       "      <td>1.000000</td>\n",
       "      <td>729.000000</td>\n",
       "      <td>232.000000</td>\n",
       "    </tr>\n",
       "    <tr>\n",
       "      <th>max</th>\n",
       "      <td>50.000000</td>\n",
       "      <td>7.630000e+08</td>\n",
       "      <td>900.000000</td>\n",
       "      <td>19.000000</td>\n",
       "      <td>100.000000</td>\n",
       "      <td>60.000000</td>\n",
       "      <td>409.700000</td>\n",
       "      <td>33.000000</td>\n",
       "      <td>112.000000</td>\n",
       "      <td>5.000000</td>\n",
       "      <td>84869.000000</td>\n",
       "      <td>65968.000000</td>\n",
       "      <td>3.000000</td>\n",
       "      <td>3190.000000</td>\n",
       "      <td>3.000000</td>\n",
       "      <td>1344.000000</td>\n",
       "      <td>1580.000000</td>\n",
       "    </tr>\n",
       "  </tbody>\n",
       "</table>\n",
       "</div>"
      ],
      "text/plain": [
       "       total_images    last_price    total_area         rooms  ceiling_height  \\\n",
       "count  23699.000000  2.369900e+04  23699.000000  23699.000000    14504.000000   \n",
       "mean       9.858475  6.541549e+06     60.348651      2.070636        2.771499   \n",
       "std        5.682529  1.088701e+07     35.654083      1.078405        1.261056   \n",
       "min        0.000000  1.219000e+04     12.000000      0.000000        1.000000   \n",
       "25%        6.000000  3.400000e+06     40.000000      1.000000        2.520000   \n",
       "50%        9.000000  4.650000e+06     52.000000      2.000000        2.650000   \n",
       "75%       14.000000  6.800000e+06     69.900000      3.000000        2.800000   \n",
       "max       50.000000  7.630000e+08    900.000000     19.000000      100.000000   \n",
       "\n",
       "       floors_total   living_area         floor  kitchen_area       balcony  \\\n",
       "count  23613.000000  21796.000000  23699.000000  21421.000000  12180.000000   \n",
       "mean      10.673824     34.457852      5.892358     10.569807      1.150082   \n",
       "std        6.597173     22.030445      4.885249      5.905438      1.071300   \n",
       "min        1.000000      2.000000      1.000000      1.300000      0.000000   \n",
       "25%        5.000000     18.600000      2.000000      7.000000      0.000000   \n",
       "50%        9.000000     30.000000      4.000000      9.100000      1.000000   \n",
       "75%       16.000000     42.300000      8.000000     12.000000      2.000000   \n",
       "max       60.000000    409.700000     33.000000    112.000000      5.000000   \n",
       "\n",
       "       airports_nearest  cityCenters_nearest  parks_around3000  parks_nearest  \\\n",
       "count      18157.000000         18180.000000      18181.000000    8079.000000   \n",
       "mean       28793.672193         14191.277833          0.611408     490.804555   \n",
       "std        12630.880622          8608.386210          0.802074     342.317995   \n",
       "min            0.000000           181.000000          0.000000       1.000000   \n",
       "25%        18585.000000          9238.000000          0.000000     288.000000   \n",
       "50%        26726.000000         13098.500000          0.000000     455.000000   \n",
       "75%        37273.000000         16293.000000          1.000000     612.000000   \n",
       "max        84869.000000         65968.000000          3.000000    3190.000000   \n",
       "\n",
       "       ponds_around3000  ponds_nearest  days_exposition  \n",
       "count      18181.000000    9110.000000     20518.000000  \n",
       "mean           0.770255     517.980900       180.888634  \n",
       "std            0.938346     277.720643       219.727988  \n",
       "min            0.000000      13.000000         1.000000  \n",
       "25%            0.000000     294.000000        45.000000  \n",
       "50%            1.000000     502.000000        95.000000  \n",
       "75%            1.000000     729.000000       232.000000  \n",
       "max            3.000000    1344.000000      1580.000000  "
      ]
     },
     "metadata": {},
     "output_type": "display_data"
    }
   ],
   "source": [
    "display(df.describe())"
   ]
  },
  {
   "cell_type": "markdown",
   "metadata": {},
   "source": [
    "<b>Вывод</b>"
   ]
  },
  {
   "cell_type": "markdown",
   "metadata": {},
   "source": [
    "<b>Просмотрели общую информацию о таблице, исходя их этого составим план на обработку данных:</b>\n",
    "\n",
    "<b>1) Обработать пропущенные значения в столбцах</b>\n",
    "\n",
    "- living_area (жилая площадь)\n",
    "- kitchen_area\n",
    "- balcony (кол-во балконов) \n",
    "- is_apartment\n",
    "\n",
    "<b>2) Обработать пропущенные значения, полученные автоматически:</b>\n",
    "\n",
    "- airports_nearest\n",
    "- cityCenters_nearest\n",
    "- parks_around3000\n",
    "- parks_nearest\n",
    "- ponds_around3000\n",
    "- ponds_nearest\n",
    "\n",
    "<b>3) Изменить тип данных (float=>int) в столбцах:</b>\n",
    "\n",
    "- floors_total - количество этажей\n",
    "- parks_around3000\n",
    "- ponds_around3000\n",
    "- days_exposition\n",
    "- balcony\n",
    "- ceiling_height\n",
    "\n",
    "<b>4) is_apartment - заменить тип на bool</b>\n",
    "\n",
    "<b>5) first_day_exposition - заменить тип на datetime</b>\n"
   ]
  },
  {
   "cell_type": "markdown",
   "metadata": {},
   "source": [
    "## Предобработка данных"
   ]
  },
  {
   "cell_type": "markdown",
   "metadata": {},
   "source": [
    "Проведем замену типа данных.\n",
    "\n",
    "В столбцах с пропусками сначала поставим значения-маркеры, чтобы избавиться от Nan.\n",
    "\n",
    "Также:\n",
    "- first_day_exposition - переводим в формат даты\n",
    "- is_apartment - переводим в тип bool"
   ]
  },
  {
   "cell_type": "code",
   "execution_count": 31,
   "metadata": {},
   "outputs": [
    {
     "data": {
      "text/plain": [
       "0    2019-03-07T00:00:00\n",
       "1    2018-12-04T00:00:00\n",
       "2    2015-08-20T00:00:00\n",
       "3    2015-07-24T00:00:00\n",
       "4    2018-06-19T00:00:00\n",
       "5    2018-09-10T00:00:00\n",
       "6    2017-11-02T00:00:00\n",
       "7    2019-04-18T00:00:00\n",
       "8    2018-05-23T00:00:00\n",
       "9    2017-02-26T00:00:00\n",
       "Name: first_day_exposition, dtype: object"
      ]
     },
     "execution_count": 31,
     "metadata": {},
     "output_type": "execute_result"
    }
   ],
   "source": [
    "df['first_day_exposition'].head(10)"
   ]
  },
  {
   "cell_type": "code",
   "execution_count": 32,
   "metadata": {},
   "outputs": [],
   "source": [
    "df['floors_total'] = df['floors_total'].fillna(-777).astype('int')\n",
    "df['days_exposition'] = df['days_exposition'].fillna(-777).astype('int')\n",
    "df['ceiling_height'] = df['ceiling_height'].fillna(-777).astype('int')\n",
    "\n",
    "\n",
    "df['first_day_exposition'] = pd.to_datetime(df['first_day_exposition'], format = '%Y-%m-%d')\n",
    "df['is_apartment'] = (df['is_apartment'] == 'True')"
   ]
  },
  {
   "cell_type": "markdown",
   "metadata": {},
   "source": [
    "Просмотрим общее число пропущенных значений."
   ]
  },
  {
   "cell_type": "code",
   "execution_count": 33,
   "metadata": {},
   "outputs": [
    {
     "data": {
      "text/plain": [
       "total_images                0\n",
       "last_price                  0\n",
       "total_area                  0\n",
       "first_day_exposition        0\n",
       "rooms                       0\n",
       "ceiling_height              0\n",
       "floors_total                0\n",
       "living_area              1903\n",
       "floor                       0\n",
       "is_apartment                0\n",
       "studio                      0\n",
       "open_plan                   0\n",
       "kitchen_area             2278\n",
       "balcony                 11519\n",
       "locality_name              49\n",
       "airports_nearest         5542\n",
       "cityCenters_nearest      5519\n",
       "parks_around3000         5518\n",
       "parks_nearest           15620\n",
       "ponds_around3000         5518\n",
       "ponds_nearest           14589\n",
       "days_exposition             0\n",
       "dtype: int64"
      ]
     },
     "execution_count": 33,
     "metadata": {},
     "output_type": "execute_result"
    }
   ],
   "source": [
    "df.isnull().sum()"
   ]
  },
  {
   "cell_type": "markdown",
   "metadata": {},
   "source": [
    "Просмотрим пропуски столбца \"living_area\". \n",
    "\n",
    "Их можно заполнить, посчитав % жилой прощади от общей в заполненных столбцах. Чтобы исключить влияние выбросов - расчет будем вести в медианах."
   ]
  },
  {
   "cell_type": "code",
   "execution_count": 34,
   "metadata": {},
   "outputs": [
    {
     "data": {
      "text/html": [
       "<div>\n",
       "<style scoped>\n",
       "    .dataframe tbody tr th:only-of-type {\n",
       "        vertical-align: middle;\n",
       "    }\n",
       "\n",
       "    .dataframe tbody tr th {\n",
       "        vertical-align: top;\n",
       "    }\n",
       "\n",
       "    .dataframe thead th {\n",
       "        text-align: right;\n",
       "    }\n",
       "</style>\n",
       "<table border=\"1\" class=\"dataframe\">\n",
       "  <thead>\n",
       "    <tr style=\"text-align: right;\">\n",
       "      <th></th>\n",
       "      <th>total_images</th>\n",
       "      <th>last_price</th>\n",
       "      <th>total_area</th>\n",
       "      <th>first_day_exposition</th>\n",
       "      <th>rooms</th>\n",
       "      <th>ceiling_height</th>\n",
       "      <th>floors_total</th>\n",
       "      <th>living_area</th>\n",
       "      <th>floor</th>\n",
       "      <th>is_apartment</th>\n",
       "      <th>...</th>\n",
       "      <th>kitchen_area</th>\n",
       "      <th>balcony</th>\n",
       "      <th>locality_name</th>\n",
       "      <th>airports_nearest</th>\n",
       "      <th>cityCenters_nearest</th>\n",
       "      <th>parks_around3000</th>\n",
       "      <th>parks_nearest</th>\n",
       "      <th>ponds_around3000</th>\n",
       "      <th>ponds_nearest</th>\n",
       "      <th>days_exposition</th>\n",
       "    </tr>\n",
       "  </thead>\n",
       "  <tbody>\n",
       "    <tr>\n",
       "      <th>3</th>\n",
       "      <td>0</td>\n",
       "      <td>64900000.0</td>\n",
       "      <td>159.0</td>\n",
       "      <td>2015-07-24</td>\n",
       "      <td>3</td>\n",
       "      <td>-777</td>\n",
       "      <td>14</td>\n",
       "      <td>NaN</td>\n",
       "      <td>9</td>\n",
       "      <td>False</td>\n",
       "      <td>...</td>\n",
       "      <td>NaN</td>\n",
       "      <td>0.0</td>\n",
       "      <td>Санкт-Петербург</td>\n",
       "      <td>28098.0</td>\n",
       "      <td>6800.0</td>\n",
       "      <td>2.0</td>\n",
       "      <td>84.0</td>\n",
       "      <td>3.0</td>\n",
       "      <td>234.0</td>\n",
       "      <td>424</td>\n",
       "    </tr>\n",
       "    <tr>\n",
       "      <th>7</th>\n",
       "      <td>5</td>\n",
       "      <td>7915000.0</td>\n",
       "      <td>71.6</td>\n",
       "      <td>2019-04-18</td>\n",
       "      <td>2</td>\n",
       "      <td>-777</td>\n",
       "      <td>24</td>\n",
       "      <td>NaN</td>\n",
       "      <td>22</td>\n",
       "      <td>False</td>\n",
       "      <td>...</td>\n",
       "      <td>18.9</td>\n",
       "      <td>2.0</td>\n",
       "      <td>Санкт-Петербург</td>\n",
       "      <td>23982.0</td>\n",
       "      <td>11634.0</td>\n",
       "      <td>0.0</td>\n",
       "      <td>NaN</td>\n",
       "      <td>0.0</td>\n",
       "      <td>NaN</td>\n",
       "      <td>-777</td>\n",
       "    </tr>\n",
       "    <tr>\n",
       "      <th>30</th>\n",
       "      <td>12</td>\n",
       "      <td>2200000.0</td>\n",
       "      <td>32.8</td>\n",
       "      <td>2018-02-19</td>\n",
       "      <td>1</td>\n",
       "      <td>-777</td>\n",
       "      <td>9</td>\n",
       "      <td>NaN</td>\n",
       "      <td>2</td>\n",
       "      <td>False</td>\n",
       "      <td>...</td>\n",
       "      <td>NaN</td>\n",
       "      <td>NaN</td>\n",
       "      <td>Коммунар</td>\n",
       "      <td>NaN</td>\n",
       "      <td>NaN</td>\n",
       "      <td>NaN</td>\n",
       "      <td>NaN</td>\n",
       "      <td>NaN</td>\n",
       "      <td>NaN</td>\n",
       "      <td>63</td>\n",
       "    </tr>\n",
       "    <tr>\n",
       "      <th>37</th>\n",
       "      <td>10</td>\n",
       "      <td>1990000.0</td>\n",
       "      <td>45.8</td>\n",
       "      <td>2017-10-28</td>\n",
       "      <td>2</td>\n",
       "      <td>2</td>\n",
       "      <td>5</td>\n",
       "      <td>NaN</td>\n",
       "      <td>1</td>\n",
       "      <td>False</td>\n",
       "      <td>...</td>\n",
       "      <td>NaN</td>\n",
       "      <td>NaN</td>\n",
       "      <td>поселок городского типа Красный Бор</td>\n",
       "      <td>NaN</td>\n",
       "      <td>NaN</td>\n",
       "      <td>NaN</td>\n",
       "      <td>NaN</td>\n",
       "      <td>NaN</td>\n",
       "      <td>NaN</td>\n",
       "      <td>196</td>\n",
       "    </tr>\n",
       "    <tr>\n",
       "      <th>44</th>\n",
       "      <td>13</td>\n",
       "      <td>5350000.0</td>\n",
       "      <td>40.0</td>\n",
       "      <td>2018-11-18</td>\n",
       "      <td>1</td>\n",
       "      <td>-777</td>\n",
       "      <td>22</td>\n",
       "      <td>NaN</td>\n",
       "      <td>3</td>\n",
       "      <td>False</td>\n",
       "      <td>...</td>\n",
       "      <td>NaN</td>\n",
       "      <td>1.0</td>\n",
       "      <td>Санкт-Петербург</td>\n",
       "      <td>30471.0</td>\n",
       "      <td>11603.0</td>\n",
       "      <td>1.0</td>\n",
       "      <td>620.0</td>\n",
       "      <td>1.0</td>\n",
       "      <td>1152.0</td>\n",
       "      <td>-777</td>\n",
       "    </tr>\n",
       "  </tbody>\n",
       "</table>\n",
       "<p>5 rows × 22 columns</p>\n",
       "</div>"
      ],
      "text/plain": [
       "    total_images  last_price  total_area first_day_exposition  rooms  \\\n",
       "3              0  64900000.0       159.0           2015-07-24      3   \n",
       "7              5   7915000.0        71.6           2019-04-18      2   \n",
       "30            12   2200000.0        32.8           2018-02-19      1   \n",
       "37            10   1990000.0        45.8           2017-10-28      2   \n",
       "44            13   5350000.0        40.0           2018-11-18      1   \n",
       "\n",
       "    ceiling_height  floors_total  living_area  floor  is_apartment  ...  \\\n",
       "3             -777            14          NaN      9         False  ...   \n",
       "7             -777            24          NaN     22         False  ...   \n",
       "30            -777             9          NaN      2         False  ...   \n",
       "37               2             5          NaN      1         False  ...   \n",
       "44            -777            22          NaN      3         False  ...   \n",
       "\n",
       "    kitchen_area  balcony                        locality_name  \\\n",
       "3            NaN      0.0                      Санкт-Петербург   \n",
       "7           18.9      2.0                      Санкт-Петербург   \n",
       "30           NaN      NaN                             Коммунар   \n",
       "37           NaN      NaN  поселок городского типа Красный Бор   \n",
       "44           NaN      1.0                      Санкт-Петербург   \n",
       "\n",
       "    airports_nearest cityCenters_nearest  parks_around3000  parks_nearest  \\\n",
       "3            28098.0              6800.0               2.0           84.0   \n",
       "7            23982.0             11634.0               0.0            NaN   \n",
       "30               NaN                 NaN               NaN            NaN   \n",
       "37               NaN                 NaN               NaN            NaN   \n",
       "44           30471.0             11603.0               1.0          620.0   \n",
       "\n",
       "    ponds_around3000  ponds_nearest  days_exposition  \n",
       "3                3.0          234.0              424  \n",
       "7                0.0            NaN             -777  \n",
       "30               NaN            NaN               63  \n",
       "37               NaN            NaN              196  \n",
       "44               1.0         1152.0             -777  \n",
       "\n",
       "[5 rows x 22 columns]"
      ]
     },
     "execution_count": 34,
     "metadata": {},
     "output_type": "execute_result"
    }
   ],
   "source": [
    "df[df['living_area'].isna()].head()"
   ]
  },
  {
   "cell_type": "code",
   "execution_count": 35,
   "metadata": {},
   "outputs": [
    {
     "name": "stdout",
     "output_type": "stream",
     "text": [
      "Соотношение жилой к общей: 0.5769230769230769\n",
      "Соотношение кухни к общей: 0.175\n"
     ]
    }
   ],
   "source": [
    "living_to_total = df['living_area'].median()/ df['total_area'].median()\n",
    "kitchen_to_total = df['kitchen_area'].median()/ df['total_area'].median()\n",
    "\n",
    "print('Соотношение жилой к общей: {}'.format(living_to_total))\n",
    "print('Соотношение кухни к общей: {}'.format(kitchen_to_total))"
   ]
  },
  {
   "cell_type": "markdown",
   "metadata": {},
   "source": [
    "Замена пропусков"
   ]
  },
  {
   "cell_type": "code",
   "execution_count": 36,
   "metadata": {},
   "outputs": [],
   "source": [
    "df.loc[df['living_area'].isnull(), 'living_area'] = df.loc[df['living_area'].isnull(), 'total_area'] * living_to_total\n",
    "df.loc[df['kitchen_area'].isnull(), 'kitchen_area'] = df.loc[df['kitchen_area'].isnull(), 'total_area'] * kitchen_to_total"
   ]
  },
  {
   "cell_type": "markdown",
   "metadata": {},
   "source": [
    "Просмотрим столбец ceiling_height.\n",
    "Есть аномально-большие значения, пока оставим их.\n",
    "\n",
    "Пропущенные значения можно будет заменить медианой."
   ]
  },
  {
   "cell_type": "code",
   "execution_count": 37,
   "metadata": {},
   "outputs": [
    {
     "data": {
      "text/plain": [
       " 2      11860\n",
       "-777     9195\n",
       " 3       2527\n",
       " 4         77\n",
       " 27         9\n",
       " 25         7\n",
       " 5          7\n",
       " 8          4\n",
       " 1          3\n",
       " 32         2\n",
       " 26         1\n",
       " 10         1\n",
       " 22         1\n",
       " 24         1\n",
       " 6          1\n",
       " 100        1\n",
       " 20         1\n",
       " 14         1\n",
       "Name: ceiling_height, dtype: int64"
      ]
     },
     "execution_count": 37,
     "metadata": {},
     "output_type": "execute_result"
    }
   ],
   "source": [
    "df['ceiling_height'].value_counts()"
   ]
  },
  {
   "cell_type": "markdown",
   "metadata": {},
   "source": [
    "Просмотрим пропуски столбца 'balcony'"
   ]
  },
  {
   "cell_type": "code",
   "execution_count": 38,
   "metadata": {},
   "outputs": [
    {
     "data": {
      "text/html": [
       "<div>\n",
       "<style scoped>\n",
       "    .dataframe tbody tr th:only-of-type {\n",
       "        vertical-align: middle;\n",
       "    }\n",
       "\n",
       "    .dataframe tbody tr th {\n",
       "        vertical-align: top;\n",
       "    }\n",
       "\n",
       "    .dataframe thead th {\n",
       "        text-align: right;\n",
       "    }\n",
       "</style>\n",
       "<table border=\"1\" class=\"dataframe\">\n",
       "  <thead>\n",
       "    <tr style=\"text-align: right;\">\n",
       "      <th></th>\n",
       "      <th>total_images</th>\n",
       "      <th>last_price</th>\n",
       "      <th>total_area</th>\n",
       "      <th>first_day_exposition</th>\n",
       "      <th>rooms</th>\n",
       "      <th>ceiling_height</th>\n",
       "      <th>floors_total</th>\n",
       "      <th>living_area</th>\n",
       "      <th>floor</th>\n",
       "      <th>is_apartment</th>\n",
       "      <th>...</th>\n",
       "      <th>kitchen_area</th>\n",
       "      <th>balcony</th>\n",
       "      <th>locality_name</th>\n",
       "      <th>airports_nearest</th>\n",
       "      <th>cityCenters_nearest</th>\n",
       "      <th>parks_around3000</th>\n",
       "      <th>parks_nearest</th>\n",
       "      <th>ponds_around3000</th>\n",
       "      <th>ponds_nearest</th>\n",
       "      <th>days_exposition</th>\n",
       "    </tr>\n",
       "  </thead>\n",
       "  <tbody>\n",
       "    <tr>\n",
       "      <th>0</th>\n",
       "      <td>20</td>\n",
       "      <td>13000000.0</td>\n",
       "      <td>108.00</td>\n",
       "      <td>2019-03-07</td>\n",
       "      <td>3</td>\n",
       "      <td>2</td>\n",
       "      <td>16</td>\n",
       "      <td>51.00</td>\n",
       "      <td>8</td>\n",
       "      <td>False</td>\n",
       "      <td>...</td>\n",
       "      <td>25.00</td>\n",
       "      <td>NaN</td>\n",
       "      <td>Санкт-Петербург</td>\n",
       "      <td>18863.0</td>\n",
       "      <td>16028.0</td>\n",
       "      <td>1.0</td>\n",
       "      <td>482.0</td>\n",
       "      <td>2.0</td>\n",
       "      <td>755.0</td>\n",
       "      <td>-777</td>\n",
       "    </tr>\n",
       "    <tr>\n",
       "      <th>4</th>\n",
       "      <td>2</td>\n",
       "      <td>10000000.0</td>\n",
       "      <td>100.00</td>\n",
       "      <td>2018-06-19</td>\n",
       "      <td>2</td>\n",
       "      <td>3</td>\n",
       "      <td>14</td>\n",
       "      <td>32.00</td>\n",
       "      <td>13</td>\n",
       "      <td>False</td>\n",
       "      <td>...</td>\n",
       "      <td>41.00</td>\n",
       "      <td>NaN</td>\n",
       "      <td>Санкт-Петербург</td>\n",
       "      <td>31856.0</td>\n",
       "      <td>8098.0</td>\n",
       "      <td>2.0</td>\n",
       "      <td>112.0</td>\n",
       "      <td>1.0</td>\n",
       "      <td>48.0</td>\n",
       "      <td>121</td>\n",
       "    </tr>\n",
       "    <tr>\n",
       "      <th>5</th>\n",
       "      <td>10</td>\n",
       "      <td>2890000.0</td>\n",
       "      <td>30.40</td>\n",
       "      <td>2018-09-10</td>\n",
       "      <td>1</td>\n",
       "      <td>-777</td>\n",
       "      <td>12</td>\n",
       "      <td>14.40</td>\n",
       "      <td>5</td>\n",
       "      <td>False</td>\n",
       "      <td>...</td>\n",
       "      <td>9.10</td>\n",
       "      <td>NaN</td>\n",
       "      <td>городской посёлок Янино-1</td>\n",
       "      <td>NaN</td>\n",
       "      <td>NaN</td>\n",
       "      <td>NaN</td>\n",
       "      <td>NaN</td>\n",
       "      <td>NaN</td>\n",
       "      <td>NaN</td>\n",
       "      <td>55</td>\n",
       "    </tr>\n",
       "    <tr>\n",
       "      <th>8</th>\n",
       "      <td>20</td>\n",
       "      <td>2900000.0</td>\n",
       "      <td>33.16</td>\n",
       "      <td>2018-05-23</td>\n",
       "      <td>1</td>\n",
       "      <td>-777</td>\n",
       "      <td>27</td>\n",
       "      <td>15.43</td>\n",
       "      <td>26</td>\n",
       "      <td>False</td>\n",
       "      <td>...</td>\n",
       "      <td>8.81</td>\n",
       "      <td>NaN</td>\n",
       "      <td>посёлок Мурино</td>\n",
       "      <td>NaN</td>\n",
       "      <td>NaN</td>\n",
       "      <td>NaN</td>\n",
       "      <td>NaN</td>\n",
       "      <td>NaN</td>\n",
       "      <td>NaN</td>\n",
       "      <td>189</td>\n",
       "    </tr>\n",
       "    <tr>\n",
       "      <th>10</th>\n",
       "      <td>5</td>\n",
       "      <td>5050000.0</td>\n",
       "      <td>39.60</td>\n",
       "      <td>2017-11-16</td>\n",
       "      <td>1</td>\n",
       "      <td>2</td>\n",
       "      <td>12</td>\n",
       "      <td>20.30</td>\n",
       "      <td>3</td>\n",
       "      <td>False</td>\n",
       "      <td>...</td>\n",
       "      <td>8.50</td>\n",
       "      <td>NaN</td>\n",
       "      <td>Санкт-Петербург</td>\n",
       "      <td>38357.0</td>\n",
       "      <td>13878.0</td>\n",
       "      <td>1.0</td>\n",
       "      <td>310.0</td>\n",
       "      <td>2.0</td>\n",
       "      <td>553.0</td>\n",
       "      <td>137</td>\n",
       "    </tr>\n",
       "  </tbody>\n",
       "</table>\n",
       "<p>5 rows × 22 columns</p>\n",
       "</div>"
      ],
      "text/plain": [
       "    total_images  last_price  total_area first_day_exposition  rooms  \\\n",
       "0             20  13000000.0      108.00           2019-03-07      3   \n",
       "4              2  10000000.0      100.00           2018-06-19      2   \n",
       "5             10   2890000.0       30.40           2018-09-10      1   \n",
       "8             20   2900000.0       33.16           2018-05-23      1   \n",
       "10             5   5050000.0       39.60           2017-11-16      1   \n",
       "\n",
       "    ceiling_height  floors_total  living_area  floor  is_apartment  ...  \\\n",
       "0                2            16        51.00      8         False  ...   \n",
       "4                3            14        32.00     13         False  ...   \n",
       "5             -777            12        14.40      5         False  ...   \n",
       "8             -777            27        15.43     26         False  ...   \n",
       "10               2            12        20.30      3         False  ...   \n",
       "\n",
       "    kitchen_area  balcony              locality_name  airports_nearest  \\\n",
       "0          25.00      NaN            Санкт-Петербург           18863.0   \n",
       "4          41.00      NaN            Санкт-Петербург           31856.0   \n",
       "5           9.10      NaN  городской посёлок Янино-1               NaN   \n",
       "8           8.81      NaN             посёлок Мурино               NaN   \n",
       "10          8.50      NaN            Санкт-Петербург           38357.0   \n",
       "\n",
       "   cityCenters_nearest  parks_around3000  parks_nearest  ponds_around3000  \\\n",
       "0              16028.0               1.0          482.0               2.0   \n",
       "4               8098.0               2.0          112.0               1.0   \n",
       "5                  NaN               NaN            NaN               NaN   \n",
       "8                  NaN               NaN            NaN               NaN   \n",
       "10             13878.0               1.0          310.0               2.0   \n",
       "\n",
       "    ponds_nearest  days_exposition  \n",
       "0           755.0             -777  \n",
       "4            48.0              121  \n",
       "5             NaN               55  \n",
       "8             NaN              189  \n",
       "10          553.0              137  \n",
       "\n",
       "[5 rows x 22 columns]"
      ]
     },
     "execution_count": 38,
     "metadata": {},
     "output_type": "execute_result"
    }
   ],
   "source": [
    "df[df['balcony'].isna()].head()"
   ]
  },
  {
   "cell_type": "markdown",
   "metadata": {},
   "source": [
    "Пропуски связаны с отсутствием балкона. Поэтому заменим Nan на 0.\n",
    "\n",
    "Заодно изменим тип данных, тк количество балконов - всегда целое число."
   ]
  },
  {
   "cell_type": "code",
   "execution_count": 39,
   "metadata": {},
   "outputs": [],
   "source": [
    "df['balcony'] = df['balcony'].fillna(0).astype('int')"
   ]
  },
  {
   "cell_type": "markdown",
   "metadata": {},
   "source": [
    "Столбец is_apartment - заменим Nan на False.\n",
    "\n",
    "Связано с тем, что апартаменты появились недавно. Отсутствие данных скорее означает то, что это не апартаменты - обычные квартиры.\n"
   ]
  },
  {
   "cell_type": "code",
   "execution_count": 40,
   "metadata": {},
   "outputs": [],
   "source": [
    "df['is_apartment'] = df['is_apartment'].fillna(False)"
   ]
  },
  {
   "cell_type": "markdown",
   "metadata": {},
   "source": [
    "Рассмотрим пропуски в данных, полученных автоматически.\n",
    "Во всех столбцах Nan можно заменить на 0, тк скорей всего этих данных и нет. \n",
    "\n",
    "Аэропорты рядом с домом, близость центра города, парки, пруды и проч. - рокошь, доступная не каждому."
   ]
  },
  {
   "cell_type": "code",
   "execution_count": 41,
   "metadata": {},
   "outputs": [
    {
     "name": "stdout",
     "output_type": "stream",
     "text": [
      "<class 'pandas.core.frame.DataFrame'>\n",
      "RangeIndex: 23699 entries, 0 to 23698\n",
      "Data columns (total 22 columns):\n",
      " #   Column                Non-Null Count  Dtype         \n",
      "---  ------                --------------  -----         \n",
      " 0   total_images          23699 non-null  int64         \n",
      " 1   last_price            23699 non-null  float64       \n",
      " 2   total_area            23699 non-null  float64       \n",
      " 3   first_day_exposition  23699 non-null  datetime64[ns]\n",
      " 4   rooms                 23699 non-null  int64         \n",
      " 5   ceiling_height        23699 non-null  int64         \n",
      " 6   floors_total          23699 non-null  int64         \n",
      " 7   living_area           23699 non-null  float64       \n",
      " 8   floor                 23699 non-null  int64         \n",
      " 9   is_apartment          23699 non-null  bool          \n",
      " 10  studio                23699 non-null  bool          \n",
      " 11  open_plan             23699 non-null  bool          \n",
      " 12  kitchen_area          23699 non-null  float64       \n",
      " 13  balcony               23699 non-null  int64         \n",
      " 14  locality_name         23650 non-null  object        \n",
      " 15  airports_nearest      23699 non-null  int64         \n",
      " 16  cityCenters_nearest   23699 non-null  int64         \n",
      " 17  parks_around3000      23699 non-null  int64         \n",
      " 18  parks_nearest         23699 non-null  int64         \n",
      " 19  ponds_around3000      23699 non-null  int64         \n",
      " 20  ponds_nearest         23699 non-null  int64         \n",
      " 21  days_exposition       23699 non-null  int64         \n",
      "dtypes: bool(3), datetime64[ns](1), float64(4), int64(13), object(1)\n",
      "memory usage: 3.5+ MB\n"
     ]
    }
   ],
   "source": [
    "df['airports_nearest'] = df['airports_nearest'].fillna(0).astype('int')\n",
    "df['cityCenters_nearest'] = df['cityCenters_nearest'].fillna(0).astype('int')\n",
    "df['parks_around3000'] = df['parks_around3000'].fillna(0).astype('int')\n",
    "df['parks_nearest'] = df['parks_nearest'].fillna(0).astype('int')\n",
    "df['ponds_around3000'] = df['ponds_around3000'].fillna(0).astype('int')\n",
    "df['ponds_nearest'] = df['ponds_nearest'].fillna(0).astype('int')\n",
    "\n",
    "df.info()"
   ]
  },
  {
   "cell_type": "markdown",
   "metadata": {},
   "source": [
    "Выведем пропущенные значения столбца \"locality_name\""
   ]
  },
  {
   "cell_type": "code",
   "execution_count": 42,
   "metadata": {},
   "outputs": [
    {
     "data": {
      "text/html": [
       "<div>\n",
       "<style scoped>\n",
       "    .dataframe tbody tr th:only-of-type {\n",
       "        vertical-align: middle;\n",
       "    }\n",
       "\n",
       "    .dataframe tbody tr th {\n",
       "        vertical-align: top;\n",
       "    }\n",
       "\n",
       "    .dataframe thead th {\n",
       "        text-align: right;\n",
       "    }\n",
       "</style>\n",
       "<table border=\"1\" class=\"dataframe\">\n",
       "  <thead>\n",
       "    <tr style=\"text-align: right;\">\n",
       "      <th></th>\n",
       "      <th>total_images</th>\n",
       "      <th>last_price</th>\n",
       "      <th>total_area</th>\n",
       "      <th>first_day_exposition</th>\n",
       "      <th>rooms</th>\n",
       "      <th>ceiling_height</th>\n",
       "      <th>floors_total</th>\n",
       "      <th>living_area</th>\n",
       "      <th>floor</th>\n",
       "      <th>is_apartment</th>\n",
       "      <th>...</th>\n",
       "      <th>kitchen_area</th>\n",
       "      <th>balcony</th>\n",
       "      <th>locality_name</th>\n",
       "      <th>airports_nearest</th>\n",
       "      <th>cityCenters_nearest</th>\n",
       "      <th>parks_around3000</th>\n",
       "      <th>parks_nearest</th>\n",
       "      <th>ponds_around3000</th>\n",
       "      <th>ponds_nearest</th>\n",
       "      <th>days_exposition</th>\n",
       "    </tr>\n",
       "  </thead>\n",
       "  <tbody>\n",
       "    <tr>\n",
       "      <th>1097</th>\n",
       "      <td>3</td>\n",
       "      <td>8600000.0</td>\n",
       "      <td>81.7</td>\n",
       "      <td>2016-04-15</td>\n",
       "      <td>3</td>\n",
       "      <td>3</td>\n",
       "      <td>5</td>\n",
       "      <td>50.800000</td>\n",
       "      <td>2</td>\n",
       "      <td>False</td>\n",
       "      <td>...</td>\n",
       "      <td>8.800</td>\n",
       "      <td>0</td>\n",
       "      <td>NaN</td>\n",
       "      <td>23478</td>\n",
       "      <td>4258</td>\n",
       "      <td>0</td>\n",
       "      <td>0</td>\n",
       "      <td>0</td>\n",
       "      <td>0</td>\n",
       "      <td>147</td>\n",
       "    </tr>\n",
       "    <tr>\n",
       "      <th>2033</th>\n",
       "      <td>6</td>\n",
       "      <td>5398000.0</td>\n",
       "      <td>80.0</td>\n",
       "      <td>2017-05-30</td>\n",
       "      <td>3</td>\n",
       "      <td>-777</td>\n",
       "      <td>4</td>\n",
       "      <td>42.600000</td>\n",
       "      <td>2</td>\n",
       "      <td>False</td>\n",
       "      <td>...</td>\n",
       "      <td>18.600</td>\n",
       "      <td>0</td>\n",
       "      <td>NaN</td>\n",
       "      <td>0</td>\n",
       "      <td>0</td>\n",
       "      <td>0</td>\n",
       "      <td>0</td>\n",
       "      <td>0</td>\n",
       "      <td>0</td>\n",
       "      <td>34</td>\n",
       "    </tr>\n",
       "    <tr>\n",
       "      <th>2603</th>\n",
       "      <td>20</td>\n",
       "      <td>3351765.0</td>\n",
       "      <td>42.7</td>\n",
       "      <td>2015-09-20</td>\n",
       "      <td>1</td>\n",
       "      <td>-777</td>\n",
       "      <td>24</td>\n",
       "      <td>15.600000</td>\n",
       "      <td>3</td>\n",
       "      <td>False</td>\n",
       "      <td>...</td>\n",
       "      <td>10.700</td>\n",
       "      <td>0</td>\n",
       "      <td>NaN</td>\n",
       "      <td>22041</td>\n",
       "      <td>17369</td>\n",
       "      <td>0</td>\n",
       "      <td>0</td>\n",
       "      <td>1</td>\n",
       "      <td>374</td>\n",
       "      <td>276</td>\n",
       "    </tr>\n",
       "    <tr>\n",
       "      <th>2632</th>\n",
       "      <td>2</td>\n",
       "      <td>5130593.0</td>\n",
       "      <td>62.4</td>\n",
       "      <td>2015-10-11</td>\n",
       "      <td>2</td>\n",
       "      <td>-777</td>\n",
       "      <td>24</td>\n",
       "      <td>33.100000</td>\n",
       "      <td>21</td>\n",
       "      <td>False</td>\n",
       "      <td>...</td>\n",
       "      <td>8.200</td>\n",
       "      <td>0</td>\n",
       "      <td>NaN</td>\n",
       "      <td>22041</td>\n",
       "      <td>17369</td>\n",
       "      <td>0</td>\n",
       "      <td>0</td>\n",
       "      <td>1</td>\n",
       "      <td>374</td>\n",
       "      <td>256</td>\n",
       "    </tr>\n",
       "    <tr>\n",
       "      <th>3574</th>\n",
       "      <td>10</td>\n",
       "      <td>4200000.0</td>\n",
       "      <td>46.5</td>\n",
       "      <td>2016-05-28</td>\n",
       "      <td>2</td>\n",
       "      <td>-777</td>\n",
       "      <td>5</td>\n",
       "      <td>30.800000</td>\n",
       "      <td>5</td>\n",
       "      <td>False</td>\n",
       "      <td>...</td>\n",
       "      <td>6.500</td>\n",
       "      <td>0</td>\n",
       "      <td>NaN</td>\n",
       "      <td>27419</td>\n",
       "      <td>8127</td>\n",
       "      <td>0</td>\n",
       "      <td>0</td>\n",
       "      <td>1</td>\n",
       "      <td>603</td>\n",
       "      <td>45</td>\n",
       "    </tr>\n",
       "    <tr>\n",
       "      <th>4151</th>\n",
       "      <td>17</td>\n",
       "      <td>17600000.0</td>\n",
       "      <td>89.5</td>\n",
       "      <td>2014-12-09</td>\n",
       "      <td>2</td>\n",
       "      <td>3</td>\n",
       "      <td>8</td>\n",
       "      <td>39.620000</td>\n",
       "      <td>7</td>\n",
       "      <td>False</td>\n",
       "      <td>...</td>\n",
       "      <td>13.380</td>\n",
       "      <td>0</td>\n",
       "      <td>NaN</td>\n",
       "      <td>25054</td>\n",
       "      <td>3902</td>\n",
       "      <td>1</td>\n",
       "      <td>485</td>\n",
       "      <td>3</td>\n",
       "      <td>722</td>\n",
       "      <td>869</td>\n",
       "    </tr>\n",
       "    <tr>\n",
       "      <th>4189</th>\n",
       "      <td>7</td>\n",
       "      <td>9200000.0</td>\n",
       "      <td>80.0</td>\n",
       "      <td>2015-12-10</td>\n",
       "      <td>3</td>\n",
       "      <td>4</td>\n",
       "      <td>4</td>\n",
       "      <td>52.300000</td>\n",
       "      <td>3</td>\n",
       "      <td>False</td>\n",
       "      <td>...</td>\n",
       "      <td>10.400</td>\n",
       "      <td>0</td>\n",
       "      <td>NaN</td>\n",
       "      <td>21774</td>\n",
       "      <td>3039</td>\n",
       "      <td>1</td>\n",
       "      <td>690</td>\n",
       "      <td>1</td>\n",
       "      <td>953</td>\n",
       "      <td>223</td>\n",
       "    </tr>\n",
       "    <tr>\n",
       "      <th>4670</th>\n",
       "      <td>1</td>\n",
       "      <td>5500000.0</td>\n",
       "      <td>83.0</td>\n",
       "      <td>2015-08-14</td>\n",
       "      <td>3</td>\n",
       "      <td>-777</td>\n",
       "      <td>7</td>\n",
       "      <td>47.884615</td>\n",
       "      <td>6</td>\n",
       "      <td>False</td>\n",
       "      <td>...</td>\n",
       "      <td>14.525</td>\n",
       "      <td>0</td>\n",
       "      <td>NaN</td>\n",
       "      <td>26534</td>\n",
       "      <td>5382</td>\n",
       "      <td>1</td>\n",
       "      <td>446</td>\n",
       "      <td>1</td>\n",
       "      <td>376</td>\n",
       "      <td>350</td>\n",
       "    </tr>\n",
       "    <tr>\n",
       "      <th>5343</th>\n",
       "      <td>19</td>\n",
       "      <td>13540000.0</td>\n",
       "      <td>85.5</td>\n",
       "      <td>2016-01-20</td>\n",
       "      <td>3</td>\n",
       "      <td>-777</td>\n",
       "      <td>7</td>\n",
       "      <td>59.100000</td>\n",
       "      <td>5</td>\n",
       "      <td>False</td>\n",
       "      <td>...</td>\n",
       "      <td>8.300</td>\n",
       "      <td>4</td>\n",
       "      <td>NaN</td>\n",
       "      <td>10556</td>\n",
       "      <td>9538</td>\n",
       "      <td>1</td>\n",
       "      <td>67</td>\n",
       "      <td>0</td>\n",
       "      <td>0</td>\n",
       "      <td>303</td>\n",
       "    </tr>\n",
       "    <tr>\n",
       "      <th>5707</th>\n",
       "      <td>7</td>\n",
       "      <td>3700000.0</td>\n",
       "      <td>30.0</td>\n",
       "      <td>2016-04-29</td>\n",
       "      <td>1</td>\n",
       "      <td>-777</td>\n",
       "      <td>24</td>\n",
       "      <td>20.000000</td>\n",
       "      <td>23</td>\n",
       "      <td>False</td>\n",
       "      <td>...</td>\n",
       "      <td>5.250</td>\n",
       "      <td>0</td>\n",
       "      <td>NaN</td>\n",
       "      <td>21460</td>\n",
       "      <td>16788</td>\n",
       "      <td>0</td>\n",
       "      <td>0</td>\n",
       "      <td>1</td>\n",
       "      <td>170</td>\n",
       "      <td>49</td>\n",
       "    </tr>\n",
       "  </tbody>\n",
       "</table>\n",
       "<p>10 rows × 22 columns</p>\n",
       "</div>"
      ],
      "text/plain": [
       "      total_images  last_price  total_area first_day_exposition  rooms  \\\n",
       "1097             3   8600000.0        81.7           2016-04-15      3   \n",
       "2033             6   5398000.0        80.0           2017-05-30      3   \n",
       "2603            20   3351765.0        42.7           2015-09-20      1   \n",
       "2632             2   5130593.0        62.4           2015-10-11      2   \n",
       "3574            10   4200000.0        46.5           2016-05-28      2   \n",
       "4151            17  17600000.0        89.5           2014-12-09      2   \n",
       "4189             7   9200000.0        80.0           2015-12-10      3   \n",
       "4670             1   5500000.0        83.0           2015-08-14      3   \n",
       "5343            19  13540000.0        85.5           2016-01-20      3   \n",
       "5707             7   3700000.0        30.0           2016-04-29      1   \n",
       "\n",
       "      ceiling_height  floors_total  living_area  floor  is_apartment  ...  \\\n",
       "1097               3             5    50.800000      2         False  ...   \n",
       "2033            -777             4    42.600000      2         False  ...   \n",
       "2603            -777            24    15.600000      3         False  ...   \n",
       "2632            -777            24    33.100000     21         False  ...   \n",
       "3574            -777             5    30.800000      5         False  ...   \n",
       "4151               3             8    39.620000      7         False  ...   \n",
       "4189               4             4    52.300000      3         False  ...   \n",
       "4670            -777             7    47.884615      6         False  ...   \n",
       "5343            -777             7    59.100000      5         False  ...   \n",
       "5707            -777            24    20.000000     23         False  ...   \n",
       "\n",
       "      kitchen_area  balcony  locality_name  airports_nearest  \\\n",
       "1097         8.800        0            NaN             23478   \n",
       "2033        18.600        0            NaN                 0   \n",
       "2603        10.700        0            NaN             22041   \n",
       "2632         8.200        0            NaN             22041   \n",
       "3574         6.500        0            NaN             27419   \n",
       "4151        13.380        0            NaN             25054   \n",
       "4189        10.400        0            NaN             21774   \n",
       "4670        14.525        0            NaN             26534   \n",
       "5343         8.300        4            NaN             10556   \n",
       "5707         5.250        0            NaN             21460   \n",
       "\n",
       "     cityCenters_nearest  parks_around3000  parks_nearest  ponds_around3000  \\\n",
       "1097                4258                 0              0                 0   \n",
       "2033                   0                 0              0                 0   \n",
       "2603               17369                 0              0                 1   \n",
       "2632               17369                 0              0                 1   \n",
       "3574                8127                 0              0                 1   \n",
       "4151                3902                 1            485                 3   \n",
       "4189                3039                 1            690                 1   \n",
       "4670                5382                 1            446                 1   \n",
       "5343                9538                 1             67                 0   \n",
       "5707               16788                 0              0                 1   \n",
       "\n",
       "      ponds_nearest  days_exposition  \n",
       "1097              0              147  \n",
       "2033              0               34  \n",
       "2603            374              276  \n",
       "2632            374              256  \n",
       "3574            603               45  \n",
       "4151            722              869  \n",
       "4189            953              223  \n",
       "4670            376              350  \n",
       "5343              0              303  \n",
       "5707            170               49  \n",
       "\n",
       "[10 rows x 22 columns]"
      ]
     },
     "metadata": {},
     "output_type": "display_data"
    }
   ],
   "source": [
    "display(df[df['locality_name'].isna()].head(10))"
   ]
  },
  {
   "cell_type": "markdown",
   "metadata": {},
   "source": [
    "Закономерности в появлении пропусков нет.\n",
    "49 строк - это 0,2% от всего датасета, поэтому удалим их."
   ]
  },
  {
   "cell_type": "code",
   "execution_count": 43,
   "metadata": {},
   "outputs": [],
   "source": [
    "df.dropna(subset=['locality_name'], inplace=True) "
   ]
  },
  {
   "cell_type": "code",
   "execution_count": 44,
   "metadata": {},
   "outputs": [
    {
     "data": {
      "text/plain": [
       "total_images            0\n",
       "last_price              0\n",
       "total_area              0\n",
       "first_day_exposition    0\n",
       "rooms                   0\n",
       "ceiling_height          0\n",
       "floors_total            0\n",
       "living_area             0\n",
       "floor                   0\n",
       "is_apartment            0\n",
       "studio                  0\n",
       "open_plan               0\n",
       "kitchen_area            0\n",
       "balcony                 0\n",
       "locality_name           0\n",
       "airports_nearest        0\n",
       "cityCenters_nearest     0\n",
       "parks_around3000        0\n",
       "parks_nearest           0\n",
       "ponds_around3000        0\n",
       "ponds_nearest           0\n",
       "days_exposition         0\n",
       "dtype: int64"
      ]
     },
     "execution_count": 44,
     "metadata": {},
     "output_type": "execute_result"
    }
   ],
   "source": [
    "df.isnull().sum()"
   ]
  },
  {
   "cell_type": "markdown",
   "metadata": {},
   "source": [
    "## Расчёты и добавление результатов в таблицу"
   ]
  },
  {
   "cell_type": "markdown",
   "metadata": {},
   "source": [
    "### Стоимость квадратного метра\n"
   ]
  },
  {
   "cell_type": "code",
   "execution_count": 45,
   "metadata": {},
   "outputs": [],
   "source": [
    "df['price_for_metr'] = df['last_price']/df['total_area']"
   ]
  },
  {
   "cell_type": "markdown",
   "metadata": {},
   "source": [
    "### День недели, месяц и год публикации объявления\n",
    "Добавим в таблицу день недели, месяц и год публикации объявления"
   ]
  },
  {
   "cell_type": "code",
   "execution_count": 46,
   "metadata": {},
   "outputs": [
    {
     "data": {
      "text/html": [
       "<div>\n",
       "<style scoped>\n",
       "    .dataframe tbody tr th:only-of-type {\n",
       "        vertical-align: middle;\n",
       "    }\n",
       "\n",
       "    .dataframe tbody tr th {\n",
       "        vertical-align: top;\n",
       "    }\n",
       "\n",
       "    .dataframe thead th {\n",
       "        text-align: right;\n",
       "    }\n",
       "</style>\n",
       "<table border=\"1\" class=\"dataframe\">\n",
       "  <thead>\n",
       "    <tr style=\"text-align: right;\">\n",
       "      <th></th>\n",
       "      <th>total_images</th>\n",
       "      <th>last_price</th>\n",
       "      <th>total_area</th>\n",
       "      <th>first_day_exposition</th>\n",
       "      <th>rooms</th>\n",
       "      <th>ceiling_height</th>\n",
       "      <th>floors_total</th>\n",
       "      <th>living_area</th>\n",
       "      <th>floor</th>\n",
       "      <th>is_apartment</th>\n",
       "      <th>...</th>\n",
       "      <th>cityCenters_nearest</th>\n",
       "      <th>parks_around3000</th>\n",
       "      <th>parks_nearest</th>\n",
       "      <th>ponds_around3000</th>\n",
       "      <th>ponds_nearest</th>\n",
       "      <th>days_exposition</th>\n",
       "      <th>price_for_metr</th>\n",
       "      <th>year_exposition</th>\n",
       "      <th>month_exposition</th>\n",
       "      <th>day_exposition</th>\n",
       "    </tr>\n",
       "  </thead>\n",
       "  <tbody>\n",
       "    <tr>\n",
       "      <th>0</th>\n",
       "      <td>20</td>\n",
       "      <td>13000000.0</td>\n",
       "      <td>108.0</td>\n",
       "      <td>2019-03-07</td>\n",
       "      <td>3</td>\n",
       "      <td>2</td>\n",
       "      <td>16</td>\n",
       "      <td>51.000000</td>\n",
       "      <td>8</td>\n",
       "      <td>False</td>\n",
       "      <td>...</td>\n",
       "      <td>16028</td>\n",
       "      <td>1</td>\n",
       "      <td>482</td>\n",
       "      <td>2</td>\n",
       "      <td>755</td>\n",
       "      <td>-777</td>\n",
       "      <td>120370.370370</td>\n",
       "      <td>2019</td>\n",
       "      <td>3</td>\n",
       "      <td>3</td>\n",
       "    </tr>\n",
       "    <tr>\n",
       "      <th>1</th>\n",
       "      <td>7</td>\n",
       "      <td>3350000.0</td>\n",
       "      <td>40.4</td>\n",
       "      <td>2018-12-04</td>\n",
       "      <td>1</td>\n",
       "      <td>-777</td>\n",
       "      <td>11</td>\n",
       "      <td>18.600000</td>\n",
       "      <td>1</td>\n",
       "      <td>False</td>\n",
       "      <td>...</td>\n",
       "      <td>18603</td>\n",
       "      <td>0</td>\n",
       "      <td>0</td>\n",
       "      <td>0</td>\n",
       "      <td>0</td>\n",
       "      <td>81</td>\n",
       "      <td>82920.792079</td>\n",
       "      <td>2018</td>\n",
       "      <td>12</td>\n",
       "      <td>1</td>\n",
       "    </tr>\n",
       "    <tr>\n",
       "      <th>2</th>\n",
       "      <td>10</td>\n",
       "      <td>5196000.0</td>\n",
       "      <td>56.0</td>\n",
       "      <td>2015-08-20</td>\n",
       "      <td>2</td>\n",
       "      <td>-777</td>\n",
       "      <td>5</td>\n",
       "      <td>34.300000</td>\n",
       "      <td>4</td>\n",
       "      <td>False</td>\n",
       "      <td>...</td>\n",
       "      <td>13933</td>\n",
       "      <td>1</td>\n",
       "      <td>90</td>\n",
       "      <td>2</td>\n",
       "      <td>574</td>\n",
       "      <td>558</td>\n",
       "      <td>92785.714286</td>\n",
       "      <td>2015</td>\n",
       "      <td>8</td>\n",
       "      <td>3</td>\n",
       "    </tr>\n",
       "    <tr>\n",
       "      <th>3</th>\n",
       "      <td>0</td>\n",
       "      <td>64900000.0</td>\n",
       "      <td>159.0</td>\n",
       "      <td>2015-07-24</td>\n",
       "      <td>3</td>\n",
       "      <td>-777</td>\n",
       "      <td>14</td>\n",
       "      <td>91.730769</td>\n",
       "      <td>9</td>\n",
       "      <td>False</td>\n",
       "      <td>...</td>\n",
       "      <td>6800</td>\n",
       "      <td>2</td>\n",
       "      <td>84</td>\n",
       "      <td>3</td>\n",
       "      <td>234</td>\n",
       "      <td>424</td>\n",
       "      <td>408176.100629</td>\n",
       "      <td>2015</td>\n",
       "      <td>7</td>\n",
       "      <td>4</td>\n",
       "    </tr>\n",
       "    <tr>\n",
       "      <th>4</th>\n",
       "      <td>2</td>\n",
       "      <td>10000000.0</td>\n",
       "      <td>100.0</td>\n",
       "      <td>2018-06-19</td>\n",
       "      <td>2</td>\n",
       "      <td>3</td>\n",
       "      <td>14</td>\n",
       "      <td>32.000000</td>\n",
       "      <td>13</td>\n",
       "      <td>False</td>\n",
       "      <td>...</td>\n",
       "      <td>8098</td>\n",
       "      <td>2</td>\n",
       "      <td>112</td>\n",
       "      <td>1</td>\n",
       "      <td>48</td>\n",
       "      <td>121</td>\n",
       "      <td>100000.000000</td>\n",
       "      <td>2018</td>\n",
       "      <td>6</td>\n",
       "      <td>1</td>\n",
       "    </tr>\n",
       "  </tbody>\n",
       "</table>\n",
       "<p>5 rows × 26 columns</p>\n",
       "</div>"
      ],
      "text/plain": [
       "   total_images  last_price  total_area first_day_exposition  rooms  \\\n",
       "0            20  13000000.0       108.0           2019-03-07      3   \n",
       "1             7   3350000.0        40.4           2018-12-04      1   \n",
       "2            10   5196000.0        56.0           2015-08-20      2   \n",
       "3             0  64900000.0       159.0           2015-07-24      3   \n",
       "4             2  10000000.0       100.0           2018-06-19      2   \n",
       "\n",
       "   ceiling_height  floors_total  living_area  floor  is_apartment  ...  \\\n",
       "0               2            16    51.000000      8         False  ...   \n",
       "1            -777            11    18.600000      1         False  ...   \n",
       "2            -777             5    34.300000      4         False  ...   \n",
       "3            -777            14    91.730769      9         False  ...   \n",
       "4               3            14    32.000000     13         False  ...   \n",
       "\n",
       "   cityCenters_nearest  parks_around3000  parks_nearest  ponds_around3000  \\\n",
       "0                16028                 1            482                 2   \n",
       "1                18603                 0              0                 0   \n",
       "2                13933                 1             90                 2   \n",
       "3                 6800                 2             84                 3   \n",
       "4                 8098                 2            112                 1   \n",
       "\n",
       "  ponds_nearest  days_exposition  price_for_metr  year_exposition  \\\n",
       "0           755             -777   120370.370370             2019   \n",
       "1             0               81    82920.792079             2018   \n",
       "2           574              558    92785.714286             2015   \n",
       "3           234              424   408176.100629             2015   \n",
       "4            48              121   100000.000000             2018   \n",
       "\n",
       "   month_exposition  day_exposition  \n",
       "0                 3               3  \n",
       "1                12               1  \n",
       "2                 8               3  \n",
       "3                 7               4  \n",
       "4                 6               1  \n",
       "\n",
       "[5 rows x 26 columns]"
      ]
     },
     "execution_count": 46,
     "metadata": {},
     "output_type": "execute_result"
    }
   ],
   "source": [
    "df['year_exposition'] = pd.DatetimeIndex(df['first_day_exposition']).year\n",
    "df['month_exposition'] =  pd.DatetimeIndex(df['first_day_exposition']).month\n",
    "df['day_exposition'] = pd.DatetimeIndex(df['first_day_exposition']).weekday\n",
    "\n",
    "df.head()"
   ]
  },
  {
   "cell_type": "markdown",
   "metadata": {},
   "source": [
    "### Этаж квартиры\n",
    "\n",
    "Добавим столбец \"floors_sort\", в котором отсортируем этаж квартиры по трем вариантам: первый, последний, другой.    "
   ]
  },
  {
   "cell_type": "code",
   "execution_count": 49,
   "metadata": {},
   "outputs": [
    {
     "data": {
      "text/html": [
       "<div>\n",
       "<style scoped>\n",
       "    .dataframe tbody tr th:only-of-type {\n",
       "        vertical-align: middle;\n",
       "    }\n",
       "\n",
       "    .dataframe tbody tr th {\n",
       "        vertical-align: top;\n",
       "    }\n",
       "\n",
       "    .dataframe thead th {\n",
       "        text-align: right;\n",
       "    }\n",
       "</style>\n",
       "<table border=\"1\" class=\"dataframe\">\n",
       "  <thead>\n",
       "    <tr style=\"text-align: right;\">\n",
       "      <th></th>\n",
       "      <th>total_images</th>\n",
       "      <th>last_price</th>\n",
       "      <th>total_area</th>\n",
       "      <th>first_day_exposition</th>\n",
       "      <th>rooms</th>\n",
       "      <th>ceiling_height</th>\n",
       "      <th>floors_total</th>\n",
       "      <th>living_area</th>\n",
       "      <th>floor</th>\n",
       "      <th>is_apartment</th>\n",
       "      <th>...</th>\n",
       "      <th>ponds_around3000</th>\n",
       "      <th>ponds_nearest</th>\n",
       "      <th>days_exposition</th>\n",
       "      <th>price_for_metr</th>\n",
       "      <th>year_exposition</th>\n",
       "      <th>month_exposition</th>\n",
       "      <th>day_exposition</th>\n",
       "      <th>living_to_total</th>\n",
       "      <th>kitchen_to_total</th>\n",
       "      <th>floors_sort</th>\n",
       "    </tr>\n",
       "  </thead>\n",
       "  <tbody>\n",
       "    <tr>\n",
       "      <th>0</th>\n",
       "      <td>20</td>\n",
       "      <td>13000000.0</td>\n",
       "      <td>108.0</td>\n",
       "      <td>2019-03-07</td>\n",
       "      <td>3</td>\n",
       "      <td>2</td>\n",
       "      <td>16</td>\n",
       "      <td>51.000000</td>\n",
       "      <td>8</td>\n",
       "      <td>False</td>\n",
       "      <td>...</td>\n",
       "      <td>2</td>\n",
       "      <td>755</td>\n",
       "      <td>-777</td>\n",
       "      <td>120370.370370</td>\n",
       "      <td>2019</td>\n",
       "      <td>3</td>\n",
       "      <td>3</td>\n",
       "      <td>0.472222</td>\n",
       "      <td>0.231481</td>\n",
       "      <td>другой</td>\n",
       "    </tr>\n",
       "    <tr>\n",
       "      <th>1</th>\n",
       "      <td>7</td>\n",
       "      <td>3350000.0</td>\n",
       "      <td>40.4</td>\n",
       "      <td>2018-12-04</td>\n",
       "      <td>1</td>\n",
       "      <td>-777</td>\n",
       "      <td>11</td>\n",
       "      <td>18.600000</td>\n",
       "      <td>1</td>\n",
       "      <td>False</td>\n",
       "      <td>...</td>\n",
       "      <td>0</td>\n",
       "      <td>0</td>\n",
       "      <td>81</td>\n",
       "      <td>82920.792079</td>\n",
       "      <td>2018</td>\n",
       "      <td>12</td>\n",
       "      <td>1</td>\n",
       "      <td>0.460396</td>\n",
       "      <td>0.272277</td>\n",
       "      <td>первый</td>\n",
       "    </tr>\n",
       "    <tr>\n",
       "      <th>2</th>\n",
       "      <td>10</td>\n",
       "      <td>5196000.0</td>\n",
       "      <td>56.0</td>\n",
       "      <td>2015-08-20</td>\n",
       "      <td>2</td>\n",
       "      <td>-777</td>\n",
       "      <td>5</td>\n",
       "      <td>34.300000</td>\n",
       "      <td>4</td>\n",
       "      <td>False</td>\n",
       "      <td>...</td>\n",
       "      <td>2</td>\n",
       "      <td>574</td>\n",
       "      <td>558</td>\n",
       "      <td>92785.714286</td>\n",
       "      <td>2015</td>\n",
       "      <td>8</td>\n",
       "      <td>3</td>\n",
       "      <td>0.612500</td>\n",
       "      <td>0.148214</td>\n",
       "      <td>другой</td>\n",
       "    </tr>\n",
       "    <tr>\n",
       "      <th>3</th>\n",
       "      <td>0</td>\n",
       "      <td>64900000.0</td>\n",
       "      <td>159.0</td>\n",
       "      <td>2015-07-24</td>\n",
       "      <td>3</td>\n",
       "      <td>-777</td>\n",
       "      <td>14</td>\n",
       "      <td>91.730769</td>\n",
       "      <td>9</td>\n",
       "      <td>False</td>\n",
       "      <td>...</td>\n",
       "      <td>3</td>\n",
       "      <td>234</td>\n",
       "      <td>424</td>\n",
       "      <td>408176.100629</td>\n",
       "      <td>2015</td>\n",
       "      <td>7</td>\n",
       "      <td>4</td>\n",
       "      <td>0.576923</td>\n",
       "      <td>0.175000</td>\n",
       "      <td>другой</td>\n",
       "    </tr>\n",
       "    <tr>\n",
       "      <th>4</th>\n",
       "      <td>2</td>\n",
       "      <td>10000000.0</td>\n",
       "      <td>100.0</td>\n",
       "      <td>2018-06-19</td>\n",
       "      <td>2</td>\n",
       "      <td>3</td>\n",
       "      <td>14</td>\n",
       "      <td>32.000000</td>\n",
       "      <td>13</td>\n",
       "      <td>False</td>\n",
       "      <td>...</td>\n",
       "      <td>1</td>\n",
       "      <td>48</td>\n",
       "      <td>121</td>\n",
       "      <td>100000.000000</td>\n",
       "      <td>2018</td>\n",
       "      <td>6</td>\n",
       "      <td>1</td>\n",
       "      <td>0.320000</td>\n",
       "      <td>0.410000</td>\n",
       "      <td>другой</td>\n",
       "    </tr>\n",
       "  </tbody>\n",
       "</table>\n",
       "<p>5 rows × 29 columns</p>\n",
       "</div>"
      ],
      "text/plain": [
       "   total_images  last_price  total_area first_day_exposition  rooms  \\\n",
       "0            20  13000000.0       108.0           2019-03-07      3   \n",
       "1             7   3350000.0        40.4           2018-12-04      1   \n",
       "2            10   5196000.0        56.0           2015-08-20      2   \n",
       "3             0  64900000.0       159.0           2015-07-24      3   \n",
       "4             2  10000000.0       100.0           2018-06-19      2   \n",
       "\n",
       "   ceiling_height  floors_total  living_area  floor  is_apartment  ...  \\\n",
       "0               2            16    51.000000      8         False  ...   \n",
       "1            -777            11    18.600000      1         False  ...   \n",
       "2            -777             5    34.300000      4         False  ...   \n",
       "3            -777            14    91.730769      9         False  ...   \n",
       "4               3            14    32.000000     13         False  ...   \n",
       "\n",
       "   ponds_around3000  ponds_nearest  days_exposition  price_for_metr  \\\n",
       "0                 2            755             -777   120370.370370   \n",
       "1                 0              0               81    82920.792079   \n",
       "2                 2            574              558    92785.714286   \n",
       "3                 3            234              424   408176.100629   \n",
       "4                 1             48              121   100000.000000   \n",
       "\n",
       "  year_exposition  month_exposition  day_exposition  living_to_total  \\\n",
       "0            2019                 3               3         0.472222   \n",
       "1            2018                12               1         0.460396   \n",
       "2            2015                 8               3         0.612500   \n",
       "3            2015                 7               4         0.576923   \n",
       "4            2018                 6               1         0.320000   \n",
       "\n",
       "   kitchen_to_total  floors_sort  \n",
       "0          0.231481       другой  \n",
       "1          0.272277       первый  \n",
       "2          0.148214       другой  \n",
       "3          0.175000       другой  \n",
       "4          0.410000       другой  \n",
       "\n",
       "[5 rows x 29 columns]"
      ]
     },
     "metadata": {},
     "output_type": "display_data"
    }
   ],
   "source": [
    "def floors_sort(row):\n",
    "\n",
    "    if row['floor'] == 1:\n",
    "        return 'первый'\n",
    "\n",
    "    if row['floor'] == row['floors_total']:\n",
    "        return 'последний'\n",
    "    \n",
    "    else:\n",
    "        return 'другой'\n",
    "\n",
    "df['floors_sort'] = df.apply(floors_sort, axis=1)\n",
    "display(df.head())"
   ]
  },
  {
   "cell_type": "markdown",
   "metadata": {},
   "source": [
    "### Соотношение площадей\n",
    "\n",
    "<b>Добавим столбцы:</b>\n",
    "- соотношение жилой и общей площади\n",
    "- отношение площади кухни к общей"
   ]
  },
  {
   "cell_type": "code",
   "execution_count": 50,
   "metadata": {},
   "outputs": [
    {
     "data": {
      "text/html": [
       "<div>\n",
       "<style scoped>\n",
       "    .dataframe tbody tr th:only-of-type {\n",
       "        vertical-align: middle;\n",
       "    }\n",
       "\n",
       "    .dataframe tbody tr th {\n",
       "        vertical-align: top;\n",
       "    }\n",
       "\n",
       "    .dataframe thead th {\n",
       "        text-align: right;\n",
       "    }\n",
       "</style>\n",
       "<table border=\"1\" class=\"dataframe\">\n",
       "  <thead>\n",
       "    <tr style=\"text-align: right;\">\n",
       "      <th></th>\n",
       "      <th>total_images</th>\n",
       "      <th>last_price</th>\n",
       "      <th>total_area</th>\n",
       "      <th>first_day_exposition</th>\n",
       "      <th>rooms</th>\n",
       "      <th>ceiling_height</th>\n",
       "      <th>floors_total</th>\n",
       "      <th>living_area</th>\n",
       "      <th>floor</th>\n",
       "      <th>is_apartment</th>\n",
       "      <th>...</th>\n",
       "      <th>ponds_around3000</th>\n",
       "      <th>ponds_nearest</th>\n",
       "      <th>days_exposition</th>\n",
       "      <th>price_for_metr</th>\n",
       "      <th>year_exposition</th>\n",
       "      <th>month_exposition</th>\n",
       "      <th>day_exposition</th>\n",
       "      <th>living_to_total</th>\n",
       "      <th>kitchen_to_total</th>\n",
       "      <th>floors_sort</th>\n",
       "    </tr>\n",
       "  </thead>\n",
       "  <tbody>\n",
       "    <tr>\n",
       "      <th>0</th>\n",
       "      <td>20</td>\n",
       "      <td>13000000.0</td>\n",
       "      <td>108.0</td>\n",
       "      <td>2019-03-07</td>\n",
       "      <td>3</td>\n",
       "      <td>2</td>\n",
       "      <td>16</td>\n",
       "      <td>51.000000</td>\n",
       "      <td>8</td>\n",
       "      <td>False</td>\n",
       "      <td>...</td>\n",
       "      <td>2</td>\n",
       "      <td>755</td>\n",
       "      <td>-777</td>\n",
       "      <td>120370.370370</td>\n",
       "      <td>2019</td>\n",
       "      <td>3</td>\n",
       "      <td>3</td>\n",
       "      <td>0.472222</td>\n",
       "      <td>0.231481</td>\n",
       "      <td>другой</td>\n",
       "    </tr>\n",
       "    <tr>\n",
       "      <th>1</th>\n",
       "      <td>7</td>\n",
       "      <td>3350000.0</td>\n",
       "      <td>40.4</td>\n",
       "      <td>2018-12-04</td>\n",
       "      <td>1</td>\n",
       "      <td>-777</td>\n",
       "      <td>11</td>\n",
       "      <td>18.600000</td>\n",
       "      <td>1</td>\n",
       "      <td>False</td>\n",
       "      <td>...</td>\n",
       "      <td>0</td>\n",
       "      <td>0</td>\n",
       "      <td>81</td>\n",
       "      <td>82920.792079</td>\n",
       "      <td>2018</td>\n",
       "      <td>12</td>\n",
       "      <td>1</td>\n",
       "      <td>0.460396</td>\n",
       "      <td>0.272277</td>\n",
       "      <td>первый</td>\n",
       "    </tr>\n",
       "    <tr>\n",
       "      <th>2</th>\n",
       "      <td>10</td>\n",
       "      <td>5196000.0</td>\n",
       "      <td>56.0</td>\n",
       "      <td>2015-08-20</td>\n",
       "      <td>2</td>\n",
       "      <td>-777</td>\n",
       "      <td>5</td>\n",
       "      <td>34.300000</td>\n",
       "      <td>4</td>\n",
       "      <td>False</td>\n",
       "      <td>...</td>\n",
       "      <td>2</td>\n",
       "      <td>574</td>\n",
       "      <td>558</td>\n",
       "      <td>92785.714286</td>\n",
       "      <td>2015</td>\n",
       "      <td>8</td>\n",
       "      <td>3</td>\n",
       "      <td>0.612500</td>\n",
       "      <td>0.148214</td>\n",
       "      <td>другой</td>\n",
       "    </tr>\n",
       "    <tr>\n",
       "      <th>3</th>\n",
       "      <td>0</td>\n",
       "      <td>64900000.0</td>\n",
       "      <td>159.0</td>\n",
       "      <td>2015-07-24</td>\n",
       "      <td>3</td>\n",
       "      <td>-777</td>\n",
       "      <td>14</td>\n",
       "      <td>91.730769</td>\n",
       "      <td>9</td>\n",
       "      <td>False</td>\n",
       "      <td>...</td>\n",
       "      <td>3</td>\n",
       "      <td>234</td>\n",
       "      <td>424</td>\n",
       "      <td>408176.100629</td>\n",
       "      <td>2015</td>\n",
       "      <td>7</td>\n",
       "      <td>4</td>\n",
       "      <td>0.576923</td>\n",
       "      <td>0.175000</td>\n",
       "      <td>другой</td>\n",
       "    </tr>\n",
       "    <tr>\n",
       "      <th>4</th>\n",
       "      <td>2</td>\n",
       "      <td>10000000.0</td>\n",
       "      <td>100.0</td>\n",
       "      <td>2018-06-19</td>\n",
       "      <td>2</td>\n",
       "      <td>3</td>\n",
       "      <td>14</td>\n",
       "      <td>32.000000</td>\n",
       "      <td>13</td>\n",
       "      <td>False</td>\n",
       "      <td>...</td>\n",
       "      <td>1</td>\n",
       "      <td>48</td>\n",
       "      <td>121</td>\n",
       "      <td>100000.000000</td>\n",
       "      <td>2018</td>\n",
       "      <td>6</td>\n",
       "      <td>1</td>\n",
       "      <td>0.320000</td>\n",
       "      <td>0.410000</td>\n",
       "      <td>другой</td>\n",
       "    </tr>\n",
       "  </tbody>\n",
       "</table>\n",
       "<p>5 rows × 29 columns</p>\n",
       "</div>"
      ],
      "text/plain": [
       "   total_images  last_price  total_area first_day_exposition  rooms  \\\n",
       "0            20  13000000.0       108.0           2019-03-07      3   \n",
       "1             7   3350000.0        40.4           2018-12-04      1   \n",
       "2            10   5196000.0        56.0           2015-08-20      2   \n",
       "3             0  64900000.0       159.0           2015-07-24      3   \n",
       "4             2  10000000.0       100.0           2018-06-19      2   \n",
       "\n",
       "   ceiling_height  floors_total  living_area  floor  is_apartment  ...  \\\n",
       "0               2            16    51.000000      8         False  ...   \n",
       "1            -777            11    18.600000      1         False  ...   \n",
       "2            -777             5    34.300000      4         False  ...   \n",
       "3            -777            14    91.730769      9         False  ...   \n",
       "4               3            14    32.000000     13         False  ...   \n",
       "\n",
       "   ponds_around3000  ponds_nearest  days_exposition  price_for_metr  \\\n",
       "0                 2            755             -777   120370.370370   \n",
       "1                 0              0               81    82920.792079   \n",
       "2                 2            574              558    92785.714286   \n",
       "3                 3            234              424   408176.100629   \n",
       "4                 1             48              121   100000.000000   \n",
       "\n",
       "  year_exposition  month_exposition  day_exposition  living_to_total  \\\n",
       "0            2019                 3               3         0.472222   \n",
       "1            2018                12               1         0.460396   \n",
       "2            2015                 8               3         0.612500   \n",
       "3            2015                 7               4         0.576923   \n",
       "4            2018                 6               1         0.320000   \n",
       "\n",
       "   kitchen_to_total  floors_sort  \n",
       "0          0.231481       другой  \n",
       "1          0.272277       первый  \n",
       "2          0.148214       другой  \n",
       "3          0.175000       другой  \n",
       "4          0.410000       другой  \n",
       "\n",
       "[5 rows x 29 columns]"
      ]
     },
     "execution_count": 50,
     "metadata": {},
     "output_type": "execute_result"
    }
   ],
   "source": [
    "df['living_to_total'] = df['living_area']/ df['total_area']\n",
    "df['kitchen_to_total'] = df['kitchen_area']/ df['total_area']\n",
    "\n",
    "df.head()"
   ]
  },
  {
   "cell_type": "markdown",
   "metadata": {},
   "source": [
    "## Характеристики квартир"
   ]
  },
  {
   "cell_type": "markdown",
   "metadata": {},
   "source": [
    "Посмотрим данные столбцов с площадью, ценой, числом комнат и высотой потолков.\n",
    "\n",
    "Для их оценки построим диаграмму размаха - увидим медиану и квартили, а также выбросы (аномальные значения, которые впоследствии могут исказить результаты исследования).\n",
    "\n",
    "Для визуализации значений столбцов построим графики методом plot().\n",
    "\n",
    "Для получения числовых данных столбца прибегнем к методу describe()."
   ]
  },
  {
   "cell_type": "markdown",
   "metadata": {},
   "source": [
    "### Площадь квартир"
   ]
  },
  {
   "cell_type": "code",
   "execution_count": 51,
   "metadata": {},
   "outputs": [
    {
     "data": {
      "text/plain": [
       "count    23650.000000\n",
       "mean        60.329069\n",
       "std         35.661808\n",
       "min         12.000000\n",
       "25%         40.000000\n",
       "50%         52.000000\n",
       "75%         69.700000\n",
       "max        900.000000\n",
       "Name: total_area, dtype: float64"
      ]
     },
     "execution_count": 51,
     "metadata": {},
     "output_type": "execute_result"
    },
    {
     "data": {
      "image/png": "[encoded data removed]",
      "text/plain": [
       "<Figure size 432x288 with 1 Axes>"
      ]
     },
     "metadata": {
      "needs_background": "light"
     },
     "output_type": "display_data"
    },
    {
     "data": {
      "image/png": "[encoded data removed]",
      "text/plain": [
       "<Figure size 360x216 with 1 Axes>"
      ]
     },
     "metadata": {
      "needs_background": "light"
     },
     "output_type": "display_data"
    }
   ],
   "source": [
    "#Диаграмма размаха\n",
    "df.boxplot('total_area')\n",
    "\n",
    "import matplotlib.pyplot as plt \n",
    "plt.ylim(0, 500)\n",
    "\n",
    "df.plot(y = 'total_area', kind = 'hist', bins = 100, grid = True, figsize = (5,3), range = (0,400))\n",
    "\n",
    "df['total_area'].describe()"
   ]
  },
  {
   "cell_type": "markdown",
   "metadata": {},
   "source": [
    "На первом графике видим, что присутствуют аномально большие значения - свыше 113м2.\n",
    "\n",
    "Второй график показывает - значения квартир, площадь которых >150 можно смело отсекать.\n",
    "Недвижимость с большой площадью относится к элитному классу и заслуживает отдельного исследования.\n",
    "Распределение визуально напоминает распределение Пуассона.\n",
    "\n",
    "Медианное значение данного столбца - 52м2."
   ]
  },
  {
   "cell_type": "markdown",
   "metadata": {},
   "source": [
    "Уберем квартиры с площадью свыше 150м2:"
   ]
  },
  {
   "cell_type": "code",
   "execution_count": 52,
   "metadata": {},
   "outputs": [
    {
     "data": {
      "text/plain": [
       "<AxesSubplot:ylabel='Frequency'>"
      ]
     },
     "execution_count": 52,
     "metadata": {},
     "output_type": "execute_result"
    },
    {
     "data": {
      "image/png": "[encoded data removed]",
      "text/plain": [
       "<Figure size 432x288 with 1 Axes>"
      ]
     },
     "metadata": {
      "needs_background": "light"
     },
     "output_type": "display_data"
    },
    {
     "data": {
      "image/png": "[encoded data removed]",
      "text/plain": [
       "<Figure size 360x216 with 1 Axes>"
      ]
     },
     "metadata": {
      "needs_background": "light"
     },
     "output_type": "display_data"
    }
   ],
   "source": [
    "df_sorted_by_total_area = df.query('total_area <= 150')\n",
    "\n",
    "\n",
    "df_sorted_by_total_area.boxplot('total_area')\n",
    "import matplotlib.pyplot as plt \n",
    "plt.ylim(0, 500)\n",
    "df_sorted_by_total_area.plot(y = 'total_area', kind = 'hist', bins = 100, grid = True, figsize = (5,3), range = (0,400))"
   ]
  },
  {
   "cell_type": "markdown",
   "metadata": {},
   "source": [
    "### Цена квартир"
   ]
  },
  {
   "cell_type": "markdown",
   "metadata": {},
   "source": [
    "Посмотрим данные столбца \"last_price\":"
   ]
  },
  {
   "cell_type": "code",
   "execution_count": 53,
   "metadata": {},
   "outputs": [
    {
     "data": {
      "text/plain": [
       "count    2.365000e+04\n",
       "mean     6.541127e+06\n",
       "std      1.089640e+07\n",
       "min      1.219000e+04\n",
       "25%      3.400000e+06\n",
       "50%      4.650000e+06\n",
       "75%      6.799000e+06\n",
       "max      7.630000e+08\n",
       "Name: last_price, dtype: float64"
      ]
     },
     "execution_count": 53,
     "metadata": {},
     "output_type": "execute_result"
    },
    {
     "data": {
      "image/png": "[encoded data removed]",
      "text/plain": [
       "<Figure size 432x288 with 1 Axes>"
      ]
     },
     "metadata": {
      "needs_background": "light"
     },
     "output_type": "display_data"
    },
    {
     "data": {
      "image/png": "[encoded data removed]",
      "text/plain": [
       "<Figure size 360x216 with 1 Axes>"
      ]
     },
     "metadata": {
      "needs_background": "light"
     },
     "output_type": "display_data"
    }
   ],
   "source": [
    "df['last_price'] = df['last_price'].fillna(-777).astype('int')\n",
    "df.boxplot('last_price')\n",
    "\n",
    "import matplotlib.pyplot as plt \n",
    "plt.ylim(0, 50000000)\n",
    "\n",
    "df.plot(y = 'last_price', kind = 'hist', bins = 100, grid = True, figsize = (5,3), range = (0,15000000))\n",
    "\n",
    "#Пыталась получить не экспоненциальную запись числа\n",
    "df.style.format({'last_price': '{:.2f}'})\n",
    "df[df['last_price']!= -777]['last_price'].describe()\n",
    "\n"
   ]
  },
  {
   "cell_type": "markdown",
   "metadata": {},
   "source": [
    "Также видим аномально большие значения. \n",
    "\n",
    "Медианное значение данноого столбца (наиболее часто-встречающаяся цена квартир) - 4 590 000 руб.\n",
    "Минимальное значение - 1 219 000 руб.\n",
    "\n",
    "Избавимся от выбросов:"
   ]
  },
  {
   "cell_type": "code",
   "execution_count": 54,
   "metadata": {},
   "outputs": [
    {
     "data": {
      "text/plain": [
       "<AxesSubplot:>"
      ]
     },
     "execution_count": 54,
     "metadata": {},
     "output_type": "execute_result"
    },
    {
     "data": {
      "image/png": "[encoded data removed]",
      "text/plain": [
       "<Figure size 432x288 with 1 Axes>"
      ]
     },
     "metadata": {
      "needs_background": "light"
     },
     "output_type": "display_data"
    }
   ],
   "source": [
    "df_sorted_by_total_area\n",
    "\n",
    "df_sorted_by_price = df_sorted_by_total_area.query('last_price <=9000000')\n",
    "\n",
    "df_sorted_by_price.boxplot('last_price')"
   ]
  },
  {
   "cell_type": "markdown",
   "metadata": {},
   "source": [
    "### Количество комнат"
   ]
  },
  {
   "cell_type": "markdown",
   "metadata": {},
   "source": [
    "Посмотрим данные столбца 'rooms':"
   ]
  },
  {
   "cell_type": "code",
   "execution_count": 55,
   "metadata": {},
   "outputs": [
    {
     "data": {
      "text/plain": [
       "count    23650.000000\n",
       "mean         2.070106\n",
       "std          1.078620\n",
       "min          0.000000\n",
       "25%          1.000000\n",
       "50%          2.000000\n",
       "75%          3.000000\n",
       "max         19.000000\n",
       "Name: rooms, dtype: float64"
      ]
     },
     "execution_count": 55,
     "metadata": {},
     "output_type": "execute_result"
    },
    {
     "data": {
      "image/png": "[encoded data removed]",
      "text/plain": [
       "<Figure size 432x288 with 1 Axes>"
      ]
     },
     "metadata": {
      "needs_background": "light"
     },
     "output_type": "display_data"
    },
    {
     "data": {
      "image/png": "[encoded data removed]",
      "text/plain": [
       "<Figure size 360x216 with 1 Axes>"
      ]
     },
     "metadata": {
      "needs_background": "light"
     },
     "output_type": "display_data"
    }
   ],
   "source": [
    "df.boxplot('rooms')\n",
    "df.plot(y = 'rooms', kind = 'hist', bins = 10, grid=True, figsize = (5,3))\n",
    "\n",
    "df['rooms'].describe()"
   ]
  },
  {
   "cell_type": "markdown",
   "metadata": {},
   "source": [
    "Данные в рамках нормы, выбросов не обнаружено. \n",
    "\n",
    "Чаще всего встречаются квартиры с 2-мя комнатами.\n",
    "Минимально значение - 0 комнат, большинство из них квартиры-студии.\n",
    "Максимальное значение - 6 комнат."
   ]
  },
  {
   "cell_type": "markdown",
   "metadata": {},
   "source": [
    "### Высота потолков"
   ]
  },
  {
   "cell_type": "code",
   "execution_count": 56,
   "metadata": {},
   "outputs": [
    {
     "data": {
      "text/plain": [
       "count    14490.000000\n",
       "mean         2.232367\n",
       "std          1.313369\n",
       "min          1.000000\n",
       "25%          2.000000\n",
       "50%          2.000000\n",
       "75%          2.000000\n",
       "max        100.000000\n",
       "Name: ceiling_height, dtype: float64"
      ]
     },
     "execution_count": 56,
     "metadata": {},
     "output_type": "execute_result"
    },
    {
     "data": {
      "image/png": "[encoded data removed]",
      "text/plain": [
       "<Figure size 432x288 with 1 Axes>"
      ]
     },
     "metadata": {
      "needs_background": "light"
     },
     "output_type": "display_data"
    },
    {
     "data": {
      "image/png": "[encoded data removed]",
      "text/plain": [
       "<Figure size 360x216 with 1 Axes>"
      ]
     },
     "metadata": {
      "needs_background": "light"
     },
     "output_type": "display_data"
    }
   ],
   "source": [
    "df.boxplot('ceiling_height')\n",
    "df.plot(y = 'ceiling_height', kind = 'hist', bins = 10, grid=True, figsize = (5,3))\n",
    "\n",
    "df[df['ceiling_height']!= -777]['ceiling_height'].describe()"
   ]
  },
  {
   "cell_type": "markdown",
   "metadata": {},
   "source": [
    "Настораживают большие значения. Высота потолков более 5 метров - это уже многовато. \n",
    "Всего таких строк 28. Можно заменить значения на медиану."
   ]
  },
  {
   "cell_type": "code",
   "execution_count": 57,
   "metadata": {},
   "outputs": [
    {
     "data": {
      "text/html": [
       "<div>\n",
       "<style scoped>\n",
       "    .dataframe tbody tr th:only-of-type {\n",
       "        vertical-align: middle;\n",
       "    }\n",
       "\n",
       "    .dataframe tbody tr th {\n",
       "        vertical-align: top;\n",
       "    }\n",
       "\n",
       "    .dataframe thead th {\n",
       "        text-align: right;\n",
       "    }\n",
       "</style>\n",
       "<table border=\"1\" class=\"dataframe\">\n",
       "  <thead>\n",
       "    <tr style=\"text-align: right;\">\n",
       "      <th></th>\n",
       "      <th>total_images</th>\n",
       "      <th>last_price</th>\n",
       "      <th>total_area</th>\n",
       "      <th>first_day_exposition</th>\n",
       "      <th>rooms</th>\n",
       "      <th>ceiling_height</th>\n",
       "      <th>floors_total</th>\n",
       "      <th>living_area</th>\n",
       "      <th>floor</th>\n",
       "      <th>is_apartment</th>\n",
       "      <th>...</th>\n",
       "      <th>ponds_around3000</th>\n",
       "      <th>ponds_nearest</th>\n",
       "      <th>days_exposition</th>\n",
       "      <th>price_for_metr</th>\n",
       "      <th>year_exposition</th>\n",
       "      <th>month_exposition</th>\n",
       "      <th>day_exposition</th>\n",
       "      <th>living_to_total</th>\n",
       "      <th>kitchen_to_total</th>\n",
       "      <th>floors_sort</th>\n",
       "    </tr>\n",
       "  </thead>\n",
       "  <tbody>\n",
       "    <tr>\n",
       "      <th>355</th>\n",
       "      <td>17</td>\n",
       "      <td>3600000</td>\n",
       "      <td>55.2</td>\n",
       "      <td>2018-07-12</td>\n",
       "      <td>2</td>\n",
       "      <td>25</td>\n",
       "      <td>5</td>\n",
       "      <td>32.0</td>\n",
       "      <td>2</td>\n",
       "      <td>False</td>\n",
       "      <td>...</td>\n",
       "      <td>0</td>\n",
       "      <td>0</td>\n",
       "      <td>259</td>\n",
       "      <td>65217.391304</td>\n",
       "      <td>2018</td>\n",
       "      <td>7</td>\n",
       "      <td>3</td>\n",
       "      <td>0.579710</td>\n",
       "      <td>0.175000</td>\n",
       "      <td>другой</td>\n",
       "    </tr>\n",
       "    <tr>\n",
       "      <th>3148</th>\n",
       "      <td>14</td>\n",
       "      <td>2900000</td>\n",
       "      <td>75.0</td>\n",
       "      <td>2018-11-12</td>\n",
       "      <td>3</td>\n",
       "      <td>32</td>\n",
       "      <td>3</td>\n",
       "      <td>53.0</td>\n",
       "      <td>2</td>\n",
       "      <td>False</td>\n",
       "      <td>...</td>\n",
       "      <td>0</td>\n",
       "      <td>0</td>\n",
       "      <td>-777</td>\n",
       "      <td>38666.666667</td>\n",
       "      <td>2018</td>\n",
       "      <td>11</td>\n",
       "      <td>0</td>\n",
       "      <td>0.706667</td>\n",
       "      <td>0.106667</td>\n",
       "      <td>другой</td>\n",
       "    </tr>\n",
       "    <tr>\n",
       "      <th>3474</th>\n",
       "      <td>3</td>\n",
       "      <td>1400000</td>\n",
       "      <td>30.0</td>\n",
       "      <td>2018-03-16</td>\n",
       "      <td>1</td>\n",
       "      <td>8</td>\n",
       "      <td>5</td>\n",
       "      <td>15.3</td>\n",
       "      <td>2</td>\n",
       "      <td>False</td>\n",
       "      <td>...</td>\n",
       "      <td>0</td>\n",
       "      <td>0</td>\n",
       "      <td>125</td>\n",
       "      <td>46666.666667</td>\n",
       "      <td>2018</td>\n",
       "      <td>3</td>\n",
       "      <td>4</td>\n",
       "      <td>0.510000</td>\n",
       "      <td>0.243333</td>\n",
       "      <td>другой</td>\n",
       "    </tr>\n",
       "    <tr>\n",
       "      <th>4643</th>\n",
       "      <td>0</td>\n",
       "      <td>4300000</td>\n",
       "      <td>45.0</td>\n",
       "      <td>2018-02-01</td>\n",
       "      <td>2</td>\n",
       "      <td>25</td>\n",
       "      <td>9</td>\n",
       "      <td>30.0</td>\n",
       "      <td>2</td>\n",
       "      <td>False</td>\n",
       "      <td>...</td>\n",
       "      <td>1</td>\n",
       "      <td>331</td>\n",
       "      <td>181</td>\n",
       "      <td>95555.555556</td>\n",
       "      <td>2018</td>\n",
       "      <td>2</td>\n",
       "      <td>3</td>\n",
       "      <td>0.666667</td>\n",
       "      <td>0.155556</td>\n",
       "      <td>другой</td>\n",
       "    </tr>\n",
       "    <tr>\n",
       "      <th>4876</th>\n",
       "      <td>7</td>\n",
       "      <td>3000000</td>\n",
       "      <td>25.0</td>\n",
       "      <td>2017-09-27</td>\n",
       "      <td>0</td>\n",
       "      <td>27</td>\n",
       "      <td>25</td>\n",
       "      <td>17.0</td>\n",
       "      <td>17</td>\n",
       "      <td>False</td>\n",
       "      <td>...</td>\n",
       "      <td>0</td>\n",
       "      <td>0</td>\n",
       "      <td>28</td>\n",
       "      <td>120000.000000</td>\n",
       "      <td>2017</td>\n",
       "      <td>9</td>\n",
       "      <td>2</td>\n",
       "      <td>0.680000</td>\n",
       "      <td>0.175000</td>\n",
       "      <td>другой</td>\n",
       "    </tr>\n",
       "  </tbody>\n",
       "</table>\n",
       "<p>5 rows × 29 columns</p>\n",
       "</div>"
      ],
      "text/plain": [
       "      total_images  last_price  total_area first_day_exposition  rooms  \\\n",
       "355             17     3600000        55.2           2018-07-12      2   \n",
       "3148            14     2900000        75.0           2018-11-12      3   \n",
       "3474             3     1400000        30.0           2018-03-16      1   \n",
       "4643             0     4300000        45.0           2018-02-01      2   \n",
       "4876             7     3000000        25.0           2017-09-27      0   \n",
       "\n",
       "      ceiling_height  floors_total  living_area  floor  is_apartment  ...  \\\n",
       "355               25             5         32.0      2         False  ...   \n",
       "3148              32             3         53.0      2         False  ...   \n",
       "3474               8             5         15.3      2         False  ...   \n",
       "4643              25             9         30.0      2         False  ...   \n",
       "4876              27            25         17.0     17         False  ...   \n",
       "\n",
       "      ponds_around3000  ponds_nearest  days_exposition  price_for_metr  \\\n",
       "355                  0              0              259    65217.391304   \n",
       "3148                 0              0             -777    38666.666667   \n",
       "3474                 0              0              125    46666.666667   \n",
       "4643                 1            331              181    95555.555556   \n",
       "4876                 0              0               28   120000.000000   \n",
       "\n",
       "     year_exposition  month_exposition  day_exposition  living_to_total  \\\n",
       "355             2018                 7               3         0.579710   \n",
       "3148            2018                11               0         0.706667   \n",
       "3474            2018                 3               4         0.510000   \n",
       "4643            2018                 2               3         0.666667   \n",
       "4876            2017                 9               2         0.680000   \n",
       "\n",
       "      kitchen_to_total  floors_sort  \n",
       "355           0.175000       другой  \n",
       "3148          0.106667       другой  \n",
       "3474          0.243333       другой  \n",
       "4643          0.155556       другой  \n",
       "4876          0.175000       другой  \n",
       "\n",
       "[5 rows x 29 columns]"
      ]
     },
     "execution_count": 57,
     "metadata": {},
     "output_type": "execute_result"
    }
   ],
   "source": [
    "df[df['ceiling_height'] >5].head()"
   ]
  },
  {
   "cell_type": "markdown",
   "metadata": {},
   "source": [
    "### Время продажи квартиры"
   ]
  },
  {
   "cell_type": "code",
   "execution_count": 58,
   "metadata": {},
   "outputs": [
    {
     "data": {
      "text/plain": [
       "count    20470.000000\n",
       "mean       180.753200\n",
       "std        219.777916\n",
       "min          1.000000\n",
       "25%         45.000000\n",
       "50%         95.000000\n",
       "75%        231.000000\n",
       "max       1580.000000\n",
       "Name: days_exposition, dtype: float64"
      ]
     },
     "execution_count": 58,
     "metadata": {},
     "output_type": "execute_result"
    },
    {
     "data": {
      "image/png": "[encoded data removed]",
      "text/plain": [
       "<Figure size 432x288 with 1 Axes>"
      ]
     },
     "metadata": {
      "needs_background": "light"
     },
     "output_type": "display_data"
    },
    {
     "data": {
      "image/png": "[encoded data removed]",
      "text/plain": [
       "<Figure size 360x216 with 1 Axes>"
      ]
     },
     "metadata": {
      "needs_background": "light"
     },
     "output_type": "display_data"
    }
   ],
   "source": [
    "df.boxplot('days_exposition')\n",
    "import matplotlib.pyplot as plt \n",
    "plt.ylim(0, 1000)\n",
    "\n",
    "df.plot(y = 'days_exposition', kind = 'hist', bins = 100, grid=True, figsize = (5,3))\n",
    "\n",
    "df[df['days_exposition']!= -777]['days_exposition'].describe()"
   ]
  },
  {
   "cell_type": "markdown",
   "metadata": {},
   "source": [
    "В среднем продажа квартиры занимает 2-3 месяца.\n",
    "\n",
    "Если сделка длится около года - такую продажу можно считать долгой."
   ]
  },
  {
   "cell_type": "code",
   "execution_count": 59,
   "metadata": {},
   "outputs": [
    {
     "data": {
      "text/plain": [
       "-777     3180\n",
       " 45       879\n",
       " 60       538\n",
       " 7        234\n",
       " 30       208\n",
       "         ... \n",
       " 1112       1\n",
       " 1080       1\n",
       " 1064       1\n",
       " 1032       1\n",
       " 1391       1\n",
       "Name: days_exposition, Length: 1142, dtype: int64"
      ]
     },
     "execution_count": 59,
     "metadata": {},
     "output_type": "execute_result"
    }
   ],
   "source": [
    "df['days_exposition'].value_counts()"
   ]
  },
  {
   "cell_type": "markdown",
   "metadata": {},
   "source": [
    "Значения Nan мы заменяли на маркер.\n",
    "Вероятней всего, это объявления, которые на данный момент размещены. \n",
    "\n",
    "Также много обявлений, которые были сняты через 45, 60,  7 и 30 дней.\n",
    "Возможно, это правило сервиса - снимать объявления через такие промежутки времени.\n",
    "\n",
    "По предыдушей гистограмме значения свыше 500 дней являются выбросами - удалим их."
   ]
  },
  {
   "cell_type": "code",
   "execution_count": 60,
   "metadata": {},
   "outputs": [
    {
     "data": {
      "text/plain": [
       "-777    2392\n",
       " 45      874\n",
       " 60      514\n",
       " 7       217\n",
       " 30      188\n",
       "        ... \n",
       " 496       3\n",
       " 495       3\n",
       " 486       2\n",
       " 452       2\n",
       " 1         1\n",
       "Name: days_exposition, Length: 501, dtype: int64"
      ]
     },
     "execution_count": 60,
     "metadata": {},
     "output_type": "execute_result"
    }
   ],
   "source": [
    "df_sorted_by_days_final = df_sorted_by_price.query('days_exposition <= 500')\n",
    "\n",
    "df_sorted_by_days_final['days_exposition'].value_counts()"
   ]
  },
  {
   "cell_type": "markdown",
   "metadata": {},
   "source": [
    "## Факторы, влияющие на стоимость\n",
    "\n",
    "Определим факторы, которые влияют на стоимость квартиры"
   ]
  },
  {
   "cell_type": "markdown",
   "metadata": {},
   "source": [
    "### Число комнат\n",
    "Изучим зависимость стоимости квадратного метра от числа комнат:"
   ]
  },
  {
   "cell_type": "code",
   "execution_count": 61,
   "metadata": {},
   "outputs": [
    {
     "data": {
      "text/plain": [
       "Text(0, 0.5, 'Ст-ть квадратного метра')"
      ]
     },
     "execution_count": 61,
     "metadata": {},
     "output_type": "execute_result"
    },
    {
     "data": {
      "image/png": "[encoded data removed]",
      "text/plain": [
       "<Figure size 432x288 with 1 Axes>"
      ]
     },
     "metadata": {
      "needs_background": "light"
     },
     "output_type": "display_data"
    }
   ],
   "source": [
    "df_price_for_metr_rooms = df_sorted_by_days_final.pivot_table(index = 'rooms' , values = 'price_for_metr', aggfunc = ['mean', 'count', 'median'])\n",
    "df_price_for_metr_rooms.columns = ['mean', 'count', 'median']\n",
    "df_price_for_metr_rooms.plot(y= 'median', style='o-')\n",
    "\n",
    "plt.title('Стоимость квадратного метра - число комнат')\n",
    "plt.xlabel('Число комнат')\n",
    "plt.ylabel('Ст-ть квадратного метра')"
   ]
  },
  {
   "cell_type": "markdown",
   "metadata": {},
   "source": [
    "Самые высокие цены - на однокомнатные квартиры.\n",
    "Самые низкие - на пятикомнатные.\n",
    "\n",
    "От 1 до 5 комнат наблюдается обратная корреляция - чем меньше комнат, тем выше цена на квадратный метр. \n",
    "Для квартир от 5 комнат и выше наблюдается прямая корреляция: больше комнат, больше стоимость квадраного метра."
   ]
  },
  {
   "cell_type": "markdown",
   "metadata": {},
   "source": [
    "### Этаж"
   ]
  },
  {
   "cell_type": "markdown",
   "metadata": {},
   "source": [
    "Изучим зависимость цены за квадратный метр от этажа:"
   ]
  },
  {
   "cell_type": "code",
   "execution_count": 62,
   "metadata": {},
   "outputs": [
    {
     "data": {
      "text/plain": [
       "Text(0, 0.5, 'Ст-ть квадратного метра')"
      ]
     },
     "execution_count": 62,
     "metadata": {},
     "output_type": "execute_result"
    },
    {
     "data": {
      "image/png": "[encoded data removed]",
      "text/plain": [
       "<Figure size 432x288 with 1 Axes>"
      ]
     },
     "metadata": {
      "needs_background": "light"
     },
     "output_type": "display_data"
    }
   ],
   "source": [
    "df_price_for_metr_floor = df_sorted_by_days_final.query('floors_sort != \"другой\"').pivot_table(index = 'floors_sort' , values = 'price_for_metr', aggfunc = ['mean', 'count', 'median'])\n",
    "df_price_for_metr_floor.columns = ['mean', 'count', 'median']\n",
    "df_price_for_metr_floor\n",
    "df_price_for_metr_floor.plot(y = 'median', style='o-')\n",
    "\n",
    "df['floor'].corr(df['price_for_metr'])\n",
    "\n",
    "plt.title('Стоимость квадратного метра - этаж')\n",
    "plt.xlabel('Этаж')\n",
    "plt.ylabel('Ст-ть квадратного метра')"
   ]
  },
  {
   "cell_type": "markdown",
   "metadata": {},
   "source": [
    "Зависимость прямая: на первом этаже самая низкая цена за квадратный метр, на последнем - высокая."
   ]
  },
  {
   "cell_type": "markdown",
   "metadata": {},
   "source": [
    "### Удаленность от центра"
   ]
  },
  {
   "cell_type": "markdown",
   "metadata": {},
   "source": [
    "Изучим зависимость цены за квадратный метр от удаленности от центра:"
   ]
  },
  {
   "cell_type": "code",
   "execution_count": 63,
   "metadata": {},
   "outputs": [
    {
     "data": {
      "text/plain": [
       "Text(0, 0.5, 'Ст-ть квадратного метра')"
      ]
     },
     "execution_count": 63,
     "metadata": {},
     "output_type": "execute_result"
    },
    {
     "data": {
      "image/png": "[encoded data removed]",
      "text/plain": [
       "<Figure size 432x288 with 1 Axes>"
      ]
     },
     "metadata": {
      "needs_background": "light"
     },
     "output_type": "display_data"
    }
   ],
   "source": [
    "df_price_for_metr_cityCenters_nearest = df_sorted_by_days_final.pivot_table(index = 'cityCenters_nearest' , values = 'price_for_metr', aggfunc = ['mean', 'count', 'median'])\n",
    "df_price_for_metr_cityCenters_nearest.columns = ['mean', 'count', 'median']\n",
    "df_price_for_metr_cityCenters_nearest.plot(y = 'median', style='o', alpha=0.2)\n",
    "\n",
    "df['cityCenters_nearest'].corr(df['price_for_metr'])\n",
    "\n",
    "plt.title('Стоимость квадратного метра - центр')\n",
    "plt.xlabel('Расстояние до центра')\n",
    "plt.ylabel('Ст-ть квадратного метра')\n"
   ]
  },
  {
   "cell_type": "markdown",
   "metadata": {},
   "source": [
    "Зависимости цены на квадратный метр от удаленности от центра почти нет."
   ]
  },
  {
   "cell_type": "markdown",
   "metadata": {},
   "source": [
    "### Дата размещения"
   ]
  },
  {
   "cell_type": "markdown",
   "metadata": {},
   "source": [
    "Зависимость стоимости квадратного метра от даты размещения: дня недели, месяца и года"
   ]
  },
  {
   "cell_type": "code",
   "execution_count": 64,
   "metadata": {},
   "outputs": [
    {
     "data": {
      "text/plain": [
       "Text(0, 0.5, 'Ст-ть квадратного метра')"
      ]
     },
     "execution_count": 64,
     "metadata": {},
     "output_type": "execute_result"
    },
    {
     "data": {
      "image/png": "[encoded data removed]",
      "text/plain": [
       "<Figure size 432x288 with 1 Axes>"
      ]
     },
     "metadata": {
      "needs_background": "light"
     },
     "output_type": "display_data"
    }
   ],
   "source": [
    "df_price_for_metr_year = df_sorted_by_days_final.pivot_table(index = 'year_exposition', values = 'price_for_metr', aggfunc = ['mean', 'count', 'median'])\n",
    "df_price_for_metr_year.columns = ['mean', 'count', 'median']\n",
    "\n",
    "df_price_for_metr_year.plot(y = 'median')\n",
    "df_price_for_metr_year     \n",
    "\n",
    "plt.title('Стоимость квадратного метра - год')\n",
    "plt.xlabel('Год')\n",
    "plt.ylabel('Ст-ть квадратного метра')\n",
    "                                                               "
   ]
  },
  {
   "cell_type": "code",
   "execution_count": 65,
   "metadata": {},
   "outputs": [
    {
     "data": {
      "text/plain": [
       "Text(0, 0.5, 'Ст-ть квадратного метра')"
      ]
     },
     "execution_count": 65,
     "metadata": {},
     "output_type": "execute_result"
    },
    {
     "data": {
      "image/png": "[encoded data removed]",
      "text/plain": [
       "<Figure size 432x288 with 1 Axes>"
      ]
     },
     "metadata": {
      "needs_background": "light"
     },
     "output_type": "display_data"
    }
   ],
   "source": [
    "df_price_for_metr_month = df_sorted_by_days_final.pivot_table(index = 'month_exposition', values = 'price_for_metr', aggfunc = ['mean', 'count', 'median'])\n",
    "df_price_for_metr_month.columns = ['mean', 'count', 'median']\n",
    "\n",
    "df_price_for_metr_month.plot(y = 'median')\n",
    "#df_price_for_metr_month                                                            \n",
    "                          \n",
    "plt.title('Стоимость квадратного метра - месяц')\n",
    "plt.xlabel('Месяц')\n",
    "plt.ylabel('Ст-ть квадратного метра')"
   ]
  },
  {
   "cell_type": "code",
   "execution_count": 66,
   "metadata": {},
   "outputs": [
    {
     "data": {
      "text/plain": [
       "Text(0, 0.5, 'Ст-ть квадратного метра')"
      ]
     },
     "execution_count": 66,
     "metadata": {},
     "output_type": "execute_result"
    },
    {
     "data": {
      "image/png": "[encoded data removed]",
      "text/plain": [
       "<Figure size 432x288 with 1 Axes>"
      ]
     },
     "metadata": {
      "needs_background": "light"
     },
     "output_type": "display_data"
    }
   ],
   "source": [
    "df_price_for_metr_day = df_sorted_by_days_final.pivot_table(index = 'day_exposition', values = 'price_for_metr', aggfunc = ['mean', 'count', 'median'])\n",
    "df_price_for_metr_day.columns = ['mean', 'count', 'median']\n",
    "\n",
    "df_price_for_metr_day.plot(y = 'median', grid = True)\n",
    "\n",
    "plt.title('Стоимость квадратного метра - день')\n",
    "plt.xlabel('День')\n",
    "plt.ylabel('Ст-ть квадратного метра')"
   ]
  },
  {
   "cell_type": "markdown",
   "metadata": {},
   "source": [
    "Вывод:\n",
    "\n",
    "Ни день недели, ни месяц не влияют на стоимость жилья. Цена изменяется в пределах погрешности."
   ]
  },
  {
   "cell_type": "markdown",
   "metadata": {},
   "source": [
    "### Населенный пункт"
   ]
  },
  {
   "cell_type": "markdown",
   "metadata": {},
   "source": [
    "Выберем 10 населенных пунктов - лидеров по числу объявлений.\n",
    "\n",
    "Среди них определим населенные пункты с самой высокой и низкой стоимостью жилья."
   ]
  },
  {
   "cell_type": "code",
   "execution_count": 67,
   "metadata": {},
   "outputs": [
    {
     "data": {
      "text/html": [
       "<div>\n",
       "<style scoped>\n",
       "    .dataframe tbody tr th:only-of-type {\n",
       "        vertical-align: middle;\n",
       "    }\n",
       "\n",
       "    .dataframe tbody tr th {\n",
       "        vertical-align: top;\n",
       "    }\n",
       "\n",
       "    .dataframe thead th {\n",
       "        text-align: right;\n",
       "    }\n",
       "</style>\n",
       "<table border=\"1\" class=\"dataframe\">\n",
       "  <thead>\n",
       "    <tr style=\"text-align: right;\">\n",
       "      <th></th>\n",
       "      <th>mean</th>\n",
       "      <th>count</th>\n",
       "    </tr>\n",
       "    <tr>\n",
       "      <th>locality_name</th>\n",
       "      <th></th>\n",
       "      <th></th>\n",
       "    </tr>\n",
       "  </thead>\n",
       "  <tbody>\n",
       "    <tr>\n",
       "      <th>Санкт-Петербург</th>\n",
       "      <td>103766.493828</td>\n",
       "      <td>11719</td>\n",
       "    </tr>\n",
       "    <tr>\n",
       "      <th>посёлок Мурино</th>\n",
       "      <td>85996.968952</td>\n",
       "      <td>490</td>\n",
       "    </tr>\n",
       "    <tr>\n",
       "      <th>посёлок Шушары</th>\n",
       "      <td>78576.697551</td>\n",
       "      <td>414</td>\n",
       "    </tr>\n",
       "    <tr>\n",
       "      <th>Всеволожск</th>\n",
       "      <td>66563.188772</td>\n",
       "      <td>361</td>\n",
       "    </tr>\n",
       "    <tr>\n",
       "      <th>Колпино</th>\n",
       "      <td>75122.070861</td>\n",
       "      <td>321</td>\n",
       "    </tr>\n",
       "    <tr>\n",
       "      <th>посёлок Парголово</th>\n",
       "      <td>89990.520993</td>\n",
       "      <td>310</td>\n",
       "    </tr>\n",
       "    <tr>\n",
       "      <th>Пушкин</th>\n",
       "      <td>99039.890658</td>\n",
       "      <td>297</td>\n",
       "    </tr>\n",
       "    <tr>\n",
       "      <th>Гатчина</th>\n",
       "      <td>68278.109011</td>\n",
       "      <td>279</td>\n",
       "    </tr>\n",
       "    <tr>\n",
       "      <th>деревня Кудрово</th>\n",
       "      <td>92248.304128</td>\n",
       "      <td>262</td>\n",
       "    </tr>\n",
       "    <tr>\n",
       "      <th>Выборг</th>\n",
       "      <td>57982.216403</td>\n",
       "      <td>219</td>\n",
       "    </tr>\n",
       "  </tbody>\n",
       "</table>\n",
       "</div>"
      ],
      "text/plain": [
       "                            mean  count\n",
       "locality_name                          \n",
       "Санкт-Петербург    103766.493828  11719\n",
       "посёлок Мурино      85996.968952    490\n",
       "посёлок Шушары      78576.697551    414\n",
       "Всеволожск          66563.188772    361\n",
       "Колпино             75122.070861    321\n",
       "посёлок Парголово   89990.520993    310\n",
       "Пушкин              99039.890658    297\n",
       "Гатчина             68278.109011    279\n",
       "деревня Кудрово     92248.304128    262\n",
       "Выборг              57982.216403    219"
      ]
     },
     "execution_count": 67,
     "metadata": {},
     "output_type": "execute_result"
    }
   ],
   "source": [
    "df_price_for_metr_locality = df_sorted_by_days_final.pivot_table(index = 'locality_name', values = 'price_for_metr', aggfunc = ['mean', 'count'])\n",
    "df_price_for_metr_locality.columns = ['mean', 'count']\n",
    "df_price_for_metr_locality = df_price_for_metr_locality.sort_values('count', ascending = False).head(10)\n",
    "df_price_for_metr_locality"
   ]
  },
  {
   "cell_type": "markdown",
   "metadata": {},
   "source": [
    "Самая высокая стоимость жилья в Санкт-Петербурге, самая низкая - в Выборге"
   ]
  },
  {
   "cell_type": "markdown",
   "metadata": {},
   "source": [
    "## Характеристики центрального района"
   ]
  },
  {
   "cell_type": "markdown",
   "metadata": {},
   "source": [
    "Изучим расстояние до центра с целью определить, какая область входит в центр."
   ]
  },
  {
   "cell_type": "code",
   "execution_count": 68,
   "metadata": {},
   "outputs": [
    {
     "data": {
      "text/plain": [
       "<AxesSubplot:xlabel='cityCenters_nearest_km'>"
      ]
     },
     "execution_count": 68,
     "metadata": {},
     "output_type": "execute_result"
    },
    {
     "data": {
      "image/png": "[encoded data removed]",
      "text/plain": [
       "<Figure size 432x288 with 1 Axes>"
      ]
     },
     "metadata": {
      "needs_background": "light"
     },
     "output_type": "display_data"
    }
   ],
   "source": [
    "#Создаем столбец с расстоянием до центра в километрах:\n",
    "spb_city_centre = df_sorted_by_days_final.query('locality_name == \"Санкт-Петербург\"').copy()\n",
    "spb_city_centre['cityCenters_nearest_km'] = spb_city_centre['cityCenters_nearest']/1000\n",
    "\n",
    "sbp_city_centre_grouped = spb_city_centre.groupby('cityCenters_nearest_km')['price_for_metr'].median()\n",
    "\n",
    "sbp_city_centre_grouped.plot(style='o', alpha=0.2)\n"
   ]
  },
  {
   "cell_type": "markdown",
   "metadata": {},
   "source": [
    "Центральная область имеет радиус 20 км."
   ]
  },
  {
   "cell_type": "markdown",
   "metadata": {},
   "source": [
    "<b> Проанализируем характеристики центрального района </b>\n",
    "\n",
    "- Изучим следующие параметры: площадь, цена, число комнат, высота потолков.\n",
    "- Выделим факторы, которые влияют на стоимость квартиры (число комнат, этаж, удалённость от центра, дата размещения объявления)."
   ]
  },
  {
   "cell_type": "markdown",
   "metadata": {},
   "source": [
    "Выделим центр города с радиусом 20 км"
   ]
  },
  {
   "cell_type": "code",
   "execution_count": 69,
   "metadata": {},
   "outputs": [
    {
     "data": {
      "text/html": [
       "<div>\n",
       "<style scoped>\n",
       "    .dataframe tbody tr th:only-of-type {\n",
       "        vertical-align: middle;\n",
       "    }\n",
       "\n",
       "    .dataframe tbody tr th {\n",
       "        vertical-align: top;\n",
       "    }\n",
       "\n",
       "    .dataframe thead th {\n",
       "        text-align: right;\n",
       "    }\n",
       "</style>\n",
       "<table border=\"1\" class=\"dataframe\">\n",
       "  <thead>\n",
       "    <tr style=\"text-align: right;\">\n",
       "      <th></th>\n",
       "      <th>total_images</th>\n",
       "      <th>last_price</th>\n",
       "      <th>total_area</th>\n",
       "      <th>first_day_exposition</th>\n",
       "      <th>rooms</th>\n",
       "      <th>ceiling_height</th>\n",
       "      <th>floors_total</th>\n",
       "      <th>living_area</th>\n",
       "      <th>floor</th>\n",
       "      <th>is_apartment</th>\n",
       "      <th>...</th>\n",
       "      <th>ponds_nearest</th>\n",
       "      <th>days_exposition</th>\n",
       "      <th>price_for_metr</th>\n",
       "      <th>year_exposition</th>\n",
       "      <th>month_exposition</th>\n",
       "      <th>day_exposition</th>\n",
       "      <th>living_to_total</th>\n",
       "      <th>kitchen_to_total</th>\n",
       "      <th>floors_sort</th>\n",
       "      <th>cityCenters_nearest_km</th>\n",
       "    </tr>\n",
       "  </thead>\n",
       "  <tbody>\n",
       "    <tr>\n",
       "      <th>7</th>\n",
       "      <td>5</td>\n",
       "      <td>7915000.0</td>\n",
       "      <td>71.6</td>\n",
       "      <td>2019-04-18</td>\n",
       "      <td>2</td>\n",
       "      <td>-777</td>\n",
       "      <td>24</td>\n",
       "      <td>41.307692</td>\n",
       "      <td>22</td>\n",
       "      <td>False</td>\n",
       "      <td>...</td>\n",
       "      <td>0</td>\n",
       "      <td>-777</td>\n",
       "      <td>110544.692737</td>\n",
       "      <td>2019</td>\n",
       "      <td>4</td>\n",
       "      <td>3</td>\n",
       "      <td>0.576923</td>\n",
       "      <td>0.263966</td>\n",
       "      <td>другой</td>\n",
       "      <td>11.634</td>\n",
       "    </tr>\n",
       "    <tr>\n",
       "      <th>9</th>\n",
       "      <td>18</td>\n",
       "      <td>5400000.0</td>\n",
       "      <td>61.0</td>\n",
       "      <td>2017-02-26</td>\n",
       "      <td>3</td>\n",
       "      <td>2</td>\n",
       "      <td>9</td>\n",
       "      <td>43.600000</td>\n",
       "      <td>7</td>\n",
       "      <td>False</td>\n",
       "      <td>...</td>\n",
       "      <td>0</td>\n",
       "      <td>289</td>\n",
       "      <td>88524.590164</td>\n",
       "      <td>2017</td>\n",
       "      <td>2</td>\n",
       "      <td>6</td>\n",
       "      <td>0.714754</td>\n",
       "      <td>0.106557</td>\n",
       "      <td>другой</td>\n",
       "      <td>15.008</td>\n",
       "    </tr>\n",
       "    <tr>\n",
       "      <th>10</th>\n",
       "      <td>5</td>\n",
       "      <td>5050000.0</td>\n",
       "      <td>39.6</td>\n",
       "      <td>2017-11-16</td>\n",
       "      <td>1</td>\n",
       "      <td>2</td>\n",
       "      <td>12</td>\n",
       "      <td>20.300000</td>\n",
       "      <td>3</td>\n",
       "      <td>False</td>\n",
       "      <td>...</td>\n",
       "      <td>553</td>\n",
       "      <td>137</td>\n",
       "      <td>127525.252525</td>\n",
       "      <td>2017</td>\n",
       "      <td>11</td>\n",
       "      <td>3</td>\n",
       "      <td>0.512626</td>\n",
       "      <td>0.214646</td>\n",
       "      <td>другой</td>\n",
       "      <td>13.878</td>\n",
       "    </tr>\n",
       "    <tr>\n",
       "      <th>15</th>\n",
       "      <td>16</td>\n",
       "      <td>4650000.0</td>\n",
       "      <td>39.0</td>\n",
       "      <td>2017-11-18</td>\n",
       "      <td>1</td>\n",
       "      <td>-777</td>\n",
       "      <td>14</td>\n",
       "      <td>20.500000</td>\n",
       "      <td>5</td>\n",
       "      <td>False</td>\n",
       "      <td>...</td>\n",
       "      <td>296</td>\n",
       "      <td>19</td>\n",
       "      <td>119230.769231</td>\n",
       "      <td>2017</td>\n",
       "      <td>11</td>\n",
       "      <td>5</td>\n",
       "      <td>0.525641</td>\n",
       "      <td>0.194872</td>\n",
       "      <td>другой</td>\n",
       "      <td>14.259</td>\n",
       "    </tr>\n",
       "    <tr>\n",
       "      <th>16</th>\n",
       "      <td>11</td>\n",
       "      <td>6700000.0</td>\n",
       "      <td>82.0</td>\n",
       "      <td>2017-11-23</td>\n",
       "      <td>3</td>\n",
       "      <td>3</td>\n",
       "      <td>5</td>\n",
       "      <td>55.600000</td>\n",
       "      <td>1</td>\n",
       "      <td>False</td>\n",
       "      <td>...</td>\n",
       "      <td>0</td>\n",
       "      <td>397</td>\n",
       "      <td>81707.317073</td>\n",
       "      <td>2017</td>\n",
       "      <td>11</td>\n",
       "      <td>3</td>\n",
       "      <td>0.678049</td>\n",
       "      <td>0.109756</td>\n",
       "      <td>первый</td>\n",
       "      <td>10.698</td>\n",
       "    </tr>\n",
       "  </tbody>\n",
       "</table>\n",
       "<p>5 rows × 30 columns</p>\n",
       "</div>"
      ],
      "text/plain": [
       "    total_images  last_price  total_area first_day_exposition  rooms  \\\n",
       "7              5   7915000.0        71.6           2019-04-18      2   \n",
       "9             18   5400000.0        61.0           2017-02-26      3   \n",
       "10             5   5050000.0        39.6           2017-11-16      1   \n",
       "15            16   4650000.0        39.0           2017-11-18      1   \n",
       "16            11   6700000.0        82.0           2017-11-23      3   \n",
       "\n",
       "    ceiling_height  floors_total  living_area  floor  is_apartment  ...  \\\n",
       "7             -777            24    41.307692     22         False  ...   \n",
       "9                2             9    43.600000      7         False  ...   \n",
       "10               2            12    20.300000      3         False  ...   \n",
       "15            -777            14    20.500000      5         False  ...   \n",
       "16               3             5    55.600000      1         False  ...   \n",
       "\n",
       "    ponds_nearest  days_exposition  price_for_metr  year_exposition  \\\n",
       "7               0             -777   110544.692737             2019   \n",
       "9               0              289    88524.590164             2017   \n",
       "10            553              137   127525.252525             2017   \n",
       "15            296               19   119230.769231             2017   \n",
       "16              0              397    81707.317073             2017   \n",
       "\n",
       "   month_exposition  day_exposition  living_to_total  kitchen_to_total  \\\n",
       "7                 4               3         0.576923          0.263966   \n",
       "9                 2               6         0.714754          0.106557   \n",
       "10               11               3         0.512626          0.214646   \n",
       "15               11               5         0.525641          0.194872   \n",
       "16               11               3         0.678049          0.109756   \n",
       "\n",
       "    floors_sort  cityCenters_nearest_km  \n",
       "7        другой                  11.634  \n",
       "9        другой                  15.008  \n",
       "10       другой                  13.878  \n",
       "15       другой                  14.259  \n",
       "16       первый                  10.698  \n",
       "\n",
       "[5 rows x 30 columns]"
      ]
     },
     "execution_count": 69,
     "metadata": {},
     "output_type": "execute_result"
    }
   ],
   "source": [
    "spb_city_centre = spb_city_centre.query('cityCenters_nearest_km <= 20 and locality_name == \"Санкт-Петербург\"')\n",
    "spb_city_centre.head()\n"
   ]
  },
  {
   "cell_type": "markdown",
   "metadata": {},
   "source": [
    "Изучим основные параметры: площадь, цена, число комнат, высота потолков."
   ]
  },
  {
   "cell_type": "markdown",
   "metadata": {},
   "source": [
    "### Площадь"
   ]
  },
  {
   "cell_type": "code",
   "execution_count": 70,
   "metadata": {},
   "outputs": [
    {
     "data": {
      "text/html": [
       "<div>\n",
       "<style scoped>\n",
       "    .dataframe tbody tr th:only-of-type {\n",
       "        vertical-align: middle;\n",
       "    }\n",
       "\n",
       "    .dataframe tbody tr th {\n",
       "        vertical-align: top;\n",
       "    }\n",
       "\n",
       "    .dataframe thead th {\n",
       "        text-align: right;\n",
       "    }\n",
       "</style>\n",
       "<table border=\"1\" class=\"dataframe\">\n",
       "  <thead>\n",
       "    <tr style=\"text-align: right;\">\n",
       "      <th></th>\n",
       "      <th>mean</th>\n",
       "      <th>count</th>\n",
       "      <th>median</th>\n",
       "    </tr>\n",
       "    <tr>\n",
       "      <th>locality_name</th>\n",
       "      <th></th>\n",
       "      <th></th>\n",
       "      <th></th>\n",
       "    </tr>\n",
       "  </thead>\n",
       "  <tbody>\n",
       "    <tr>\n",
       "      <th>Санкт-Петербург</th>\n",
       "      <td>51.213877</td>\n",
       "      <td>11211</td>\n",
       "      <td>47.7</td>\n",
       "    </tr>\n",
       "  </tbody>\n",
       "</table>\n",
       "</div>"
      ],
      "text/plain": [
       "                      mean  count  median\n",
       "locality_name                            \n",
       "Санкт-Петербург  51.213877  11211    47.7"
      ]
     },
     "execution_count": 70,
     "metadata": {},
     "output_type": "execute_result"
    }
   ],
   "source": [
    "df_spb_city_centre = spb_city_centre.pivot_table(index = 'locality_name', values = ['total_area'], aggfunc = ['mean', 'count', 'median'])\n",
    "df_spb_city_centre.columns = ['mean', 'count', 'median']\n",
    "df_spb_city_centre"
   ]
  },
  {
   "cell_type": "markdown",
   "metadata": {},
   "source": [
    "### Цена"
   ]
  },
  {
   "cell_type": "code",
   "execution_count": 71,
   "metadata": {},
   "outputs": [
    {
     "data": {
      "text/html": [
       "<div>\n",
       "<style scoped>\n",
       "    .dataframe tbody tr th:only-of-type {\n",
       "        vertical-align: middle;\n",
       "    }\n",
       "\n",
       "    .dataframe tbody tr th {\n",
       "        vertical-align: top;\n",
       "    }\n",
       "\n",
       "    .dataframe thead th {\n",
       "        text-align: right;\n",
       "    }\n",
       "</style>\n",
       "<table border=\"1\" class=\"dataframe\">\n",
       "  <thead>\n",
       "    <tr style=\"text-align: right;\">\n",
       "      <th></th>\n",
       "      <th>mean</th>\n",
       "      <th>count</th>\n",
       "      <th>median</th>\n",
       "    </tr>\n",
       "    <tr>\n",
       "      <th>locality_name</th>\n",
       "      <th></th>\n",
       "      <th></th>\n",
       "      <th></th>\n",
       "    </tr>\n",
       "  </thead>\n",
       "  <tbody>\n",
       "    <tr>\n",
       "      <th>Санкт-Петербург</th>\n",
       "      <td>5.220449e+06</td>\n",
       "      <td>11211</td>\n",
       "      <td>4907999.0</td>\n",
       "    </tr>\n",
       "  </tbody>\n",
       "</table>\n",
       "</div>"
      ],
      "text/plain": [
       "                         mean  count     median\n",
       "locality_name                                  \n",
       "Санкт-Петербург  5.220449e+06  11211  4907999.0"
      ]
     },
     "execution_count": 71,
     "metadata": {},
     "output_type": "execute_result"
    }
   ],
   "source": [
    "df_spb_city_price = spb_city_centre.pivot_table(index = 'locality_name', values = ['last_price'], aggfunc = ['mean', 'count', 'median'])\n",
    "df_spb_city_price.columns = ['mean', 'count', 'median']\n",
    "df_spb_city_price"
   ]
  },
  {
   "cell_type": "markdown",
   "metadata": {},
   "source": [
    "### Количество комнат"
   ]
  },
  {
   "cell_type": "code",
   "execution_count": 72,
   "metadata": {},
   "outputs": [
    {
     "data": {
      "text/html": [
       "<div>\n",
       "<style scoped>\n",
       "    .dataframe tbody tr th:only-of-type {\n",
       "        vertical-align: middle;\n",
       "    }\n",
       "\n",
       "    .dataframe tbody tr th {\n",
       "        vertical-align: top;\n",
       "    }\n",
       "\n",
       "    .dataframe thead th {\n",
       "        text-align: right;\n",
       "    }\n",
       "</style>\n",
       "<table border=\"1\" class=\"dataframe\">\n",
       "  <thead>\n",
       "    <tr style=\"text-align: right;\">\n",
       "      <th></th>\n",
       "      <th>mean</th>\n",
       "      <th>count</th>\n",
       "      <th>median</th>\n",
       "    </tr>\n",
       "    <tr>\n",
       "      <th>locality_name</th>\n",
       "      <th></th>\n",
       "      <th></th>\n",
       "      <th></th>\n",
       "    </tr>\n",
       "  </thead>\n",
       "  <tbody>\n",
       "    <tr>\n",
       "      <th>Санкт-Петербург</th>\n",
       "      <td>1.886629</td>\n",
       "      <td>11211</td>\n",
       "      <td>2</td>\n",
       "    </tr>\n",
       "  </tbody>\n",
       "</table>\n",
       "</div>"
      ],
      "text/plain": [
       "                     mean  count  median\n",
       "locality_name                           \n",
       "Санкт-Петербург  1.886629  11211       2"
      ]
     },
     "execution_count": 72,
     "metadata": {},
     "output_type": "execute_result"
    }
   ],
   "source": [
    "df_spb_city_rooms = spb_city_centre.pivot_table(index = 'locality_name', values = ['rooms'], aggfunc = ['mean', 'count', 'median'])\n",
    "df_spb_city_rooms.columns = ['mean', 'count', 'median']\n",
    "df_spb_city_rooms"
   ]
  },
  {
   "cell_type": "markdown",
   "metadata": {},
   "source": [
    "### Высота потолков"
   ]
  },
  {
   "cell_type": "code",
   "execution_count": 73,
   "metadata": {},
   "outputs": [
    {
     "data": {
      "text/html": [
       "<div>\n",
       "<style scoped>\n",
       "    .dataframe tbody tr th:only-of-type {\n",
       "        vertical-align: middle;\n",
       "    }\n",
       "\n",
       "    .dataframe tbody tr th {\n",
       "        vertical-align: top;\n",
       "    }\n",
       "\n",
       "    .dataframe thead th {\n",
       "        text-align: right;\n",
       "    }\n",
       "</style>\n",
       "<table border=\"1\" class=\"dataframe\">\n",
       "  <thead>\n",
       "    <tr style=\"text-align: right;\">\n",
       "      <th></th>\n",
       "      <th>mean</th>\n",
       "      <th>count</th>\n",
       "      <th>median</th>\n",
       "    </tr>\n",
       "    <tr>\n",
       "      <th>locality_name</th>\n",
       "      <th></th>\n",
       "      <th></th>\n",
       "      <th></th>\n",
       "    </tr>\n",
       "  </thead>\n",
       "  <tbody>\n",
       "    <tr>\n",
       "      <th>Санкт-Петербург</th>\n",
       "      <td>2.168087</td>\n",
       "      <td>7157</td>\n",
       "      <td>2</td>\n",
       "    </tr>\n",
       "  </tbody>\n",
       "</table>\n",
       "</div>"
      ],
      "text/plain": [
       "                     mean  count  median\n",
       "locality_name                           \n",
       "Санкт-Петербург  2.168087   7157       2"
      ]
     },
     "execution_count": 73,
     "metadata": {},
     "output_type": "execute_result"
    }
   ],
   "source": [
    "df_spb_city_ceiling = spb_city_centre.query('ceiling_height != -777').pivot_table(index = 'locality_name', values = ['ceiling_height'], aggfunc = ['mean', 'count', 'median'])\n",
    "df_spb_city_ceiling.columns = ['mean', 'count', 'median']\n",
    "df_spb_city_ceiling"
   ]
  },
  {
   "cell_type": "markdown",
   "metadata": {},
   "source": [
    "В центральных районах есть несколько отличий: выше цена, в среднем больше площадь и количество комнат"
   ]
  },
  {
   "cell_type": "markdown",
   "metadata": {},
   "source": [
    "## Факторы, влияющие на стоимость квартир в центре"
   ]
  },
  {
   "cell_type": "markdown",
   "metadata": {},
   "source": [
    "Выделим факторы, которые влияют на стоимость квартиры (число комнат, этаж, удалённость от центра, дата размещения объявления)"
   ]
  },
  {
   "cell_type": "markdown",
   "metadata": {},
   "source": [
    "### Стоимость квадратного метра и число комнат"
   ]
  },
  {
   "cell_type": "code",
   "execution_count": 74,
   "metadata": {},
   "outputs": [
    {
     "data": {
      "text/plain": [
       "Text(0, 0.5, 'Ст-ть квадратного метра')"
      ]
     },
     "execution_count": 74,
     "metadata": {},
     "output_type": "execute_result"
    },
    {
     "data": {
      "image/png": "[encoded data removed]",
      "text/plain": [
       "<Figure size 432x288 with 1 Axes>"
      ]
     },
     "metadata": {
      "needs_background": "light"
     },
     "output_type": "display_data"
    }
   ],
   "source": [
    "df_spb_city_rooms = spb_city_centre.pivot_table(index = 'rooms', values = 'price_for_metr', aggfunc = ['mean', 'count', 'median'])\n",
    "df_spb_city_rooms.columns = ['mean', 'count', 'median']\n",
    "df_spb_city_rooms.plot(y = 'median', style='o-')\n",
    "\n",
    "plt.title('ЦЕНТР - Стоимость квадратного метра - комнаты')\n",
    "plt.xlabel('Количество комнат')\n",
    "plt.ylabel('Ст-ть квадратного метра')"
   ]
  },
  {
   "cell_type": "markdown",
   "metadata": {},
   "source": [
    "### Стоимость квадратного метра и этаж"
   ]
  },
  {
   "cell_type": "code",
   "execution_count": 75,
   "metadata": {},
   "outputs": [
    {
     "data": {
      "text/plain": [
       "Text(0, 0.5, 'Ст-ть квадратного метра')"
      ]
     },
     "execution_count": 75,
     "metadata": {},
     "output_type": "execute_result"
    },
    {
     "data": {
      "image/png": "[encoded data removed]",
      "text/plain": [
       "<Figure size 432x288 with 1 Axes>"
      ]
     },
     "metadata": {
      "needs_background": "light"
     },
     "output_type": "display_data"
    }
   ],
   "source": [
    "df_spb_city_floor = spb_city_centre.pivot_table(index = 'floors_sort', values = 'price_for_metr', aggfunc = ['mean', 'count', 'median'])\n",
    "df_spb_city_floor.columns = ['mean', 'count', 'median']\n",
    "df_spb_city_floor.plot(y = 'median', style='o-')\n",
    "\n",
    "plt.title('ЦЕНТР - Стоимость квадратного метра - этаж')\n",
    "plt.xlabel('Этаж')\n",
    "plt.ylabel('Ст-ть квадратного метра')\n"
   ]
  },
  {
   "cell_type": "markdown",
   "metadata": {},
   "source": [
    "### Стоимость квадратного метра и близость к центру"
   ]
  },
  {
   "cell_type": "code",
   "execution_count": 76,
   "metadata": {},
   "outputs": [
    {
     "data": {
      "text/plain": [
       "Text(0, 0.5, 'Ст-ть квадратного метра')"
      ]
     },
     "execution_count": 76,
     "metadata": {},
     "output_type": "execute_result"
    },
    {
     "data": {
      "image/png": "[encoded data removed]",
      "text/plain": [
       "<Figure size 432x288 with 1 Axes>"
      ]
     },
     "metadata": {
      "needs_background": "light"
     },
     "output_type": "display_data"
    }
   ],
   "source": [
    "df_spb_city_nearest = spb_city_centre.pivot_table(index = 'cityCenters_nearest', values = 'price_for_metr', aggfunc = ['mean', 'count', 'median'])\n",
    "df_spb_city_nearest.columns = ['mean', 'count', 'median']\n",
    "df_spb_city_nearest.plot(y = 'median', style='o', alpha=0.2)\n",
    "\n",
    "spb_city_centre['cityCenters_nearest'].corr(spb_city_centre['price_for_metr'])\n",
    "\n",
    "plt.title('ЦЕНТР - Стоимость квадратного метра - центр')\n",
    "plt.xlabel('Расстояние до центра')\n",
    "plt.ylabel('Ст-ть квадратного метра')"
   ]
  },
  {
   "cell_type": "markdown",
   "metadata": {},
   "source": [
    "### Стоимость квадратного метра и дата размещения"
   ]
  },
  {
   "cell_type": "code",
   "execution_count": 77,
   "metadata": {},
   "outputs": [
    {
     "data": {
      "text/plain": [
       "Text(0, 0.5, 'Ст-ть квадратного метра')"
      ]
     },
     "execution_count": 77,
     "metadata": {},
     "output_type": "execute_result"
    },
    {
     "data": {
      "image/png": "[encoded data removed]",
      "text/plain": [
       "<Figure size 432x288 with 1 Axes>"
      ]
     },
     "metadata": {
      "needs_background": "light"
     },
     "output_type": "display_data"
    },
    {
     "data": {
      "image/png": "[encoded data removed]",
      "text/plain": [
       "<Figure size 432x288 with 1 Axes>"
      ]
     },
     "metadata": {
      "needs_background": "light"
     },
     "output_type": "display_data"
    },
    {
     "data": {
      "image/png": "[encoded data removed]",
      "text/plain": [
       "<Figure size 432x288 with 1 Axes>"
      ]
     },
     "metadata": {
      "needs_background": "light"
     },
     "output_type": "display_data"
    }
   ],
   "source": [
    "df_spb_city_nearest = spb_city_centre.pivot_table(index = 'year_exposition', values = 'price_for_metr', aggfunc = ['mean', 'count', 'median'])\n",
    "df_spb_city_nearest.columns = ['mean', 'count', 'median']\n",
    "df_spb_city_nearest.plot(y = 'median', style='o-')\n",
    "\n",
    "plt.title('ЦЕНТР - Стоимость квадратного метра - год')\n",
    "plt.xlabel('Год')\n",
    "plt.ylabel('Ст-ть квадратного метра')\n",
    "\n",
    "df_spb_city_nearest = spb_city_centre.pivot_table(index = 'month_exposition', values = 'price_for_metr', aggfunc = ['mean', 'count', 'median'])\n",
    "df_spb_city_nearest.columns = ['mean', 'count', 'median']\n",
    "df_spb_city_nearest.plot(y = 'median', style='o-')\n",
    "\n",
    "plt.title('ЦЕНТР - Стоимость квадратного метра - месяц')\n",
    "plt.xlabel('Месяц')\n",
    "plt.ylabel('Ст-ть квадратного метра')\n",
    "\n",
    "df_spb_city_nearest = spb_city_centre.pivot_table(index = 'day_exposition', values = 'price_for_metr', aggfunc = ['mean', 'count', 'median'])\n",
    "df_spb_city_nearest.columns = ['mean', 'count', 'median']\n",
    "df_spb_city_nearest.plot(y = 'median', style='o-')\n",
    "\n",
    "plt.title('ЦЕНТР - Стоимость квадратного метра - день')\n",
    "plt.xlabel('День')\n",
    "plt.ylabel('Ст-ть квадратного метра')"
   ]
  },
  {
   "cell_type": "markdown",
   "metadata": {},
   "source": [
    "## Вывод"
   ]
  },
  {
   "cell_type": "markdown",
   "metadata": {},
   "source": [
    "Общая характеристика квартир:\n",
    "- Наиболее распространенная площадь - 50кв.м\n",
    "- Цена - 4 590 000\n",
    "- Чаще всего встречаются квартиры с двумя комнатами\n",
    "- Высота потолков - 2 метра\n",
    "- В среднем продажа квартиры занимает 2-3 месяца\n",
    "\n",
    "Факторы, влияющие на стоимость:\n",
    "- Самая высокая цена за квадратный метр - на однокомнатные квартиры. Самая низкая - на пятикомнатные\n",
    "- Дешевле всего квартиры на первом этаже\n",
    "- Зависимость цены на квадратный метр от удаленности от центра не очевидна.\n",
    "- Ни день недели, ни месяц не влияют на стоимость жилья. Цена изменяется в пределах погрешности\n",
    "- Самая высокая стоимость жилья в Санкт-Петербурге, самая низкая - в Выборге\n",
    "-----------------------------------------------------\n",
    "\n",
    "Характеристики центрального района:\n",
    "- Медианная площадь квартир - 47,7 кв.м\n",
    "- Цена - 4 907 000\n",
    "- Количество комнат - 2\n",
    "- Высота потолков - 2\n",
    "\n",
    "Факторы, влияющие на стоимость квартир в центре:\n",
    "- Самая высокая цена за кв метр - на студии и однокомнатные квартиры\n",
    "- На первом этаже квартиры дешевле.\n",
    "- Дата размещения не влияет на стоимость"
   ]
  }
 ],
 "metadata": {
  "ExecuteTimeLog": [
   {
    "duration": 844,
    "start_time": "2021-07-15T08:05:09.022Z"
   },
   {
    "duration": 18,
    "start_time": "2021-07-15T08:05:27.088Z"
   },
   {
    "duration": 16,
    "start_time": "2021-07-15T08:05:45.567Z"
   },
   {
    "duration": 11,
    "start_time": "2021-07-15T08:07:32.277Z"
   },
   {
    "duration": 113,
    "start_time": "2021-07-15T08:07:49.009Z"
   },
   {
    "duration": 9,
    "start_time": "2021-07-15T08:07:52.305Z"
   },
   {
    "duration": 9,
    "start_time": "2021-07-15T08:10:20.177Z"
   },
   {
    "duration": 1502,
    "start_time": "2021-07-15T08:14:38.173Z"
   },
   {
    "duration": 73,
    "start_time": "2021-07-15T08:17:39.964Z"
   },
   {
    "duration": 8,
    "start_time": "2021-07-15T08:17:40.686Z"
   },
   {
    "duration": 9,
    "start_time": "2021-07-15T08:17:41.635Z"
   },
   {
    "duration": 74,
    "start_time": "2021-07-15T08:18:25.006Z"
   },
   {
    "duration": 9,
    "start_time": "2021-07-15T08:18:26.462Z"
   },
   {
    "duration": 11,
    "start_time": "2021-07-15T08:18:26.473Z"
   },
   {
    "duration": 84,
    "start_time": "2021-07-15T08:18:52.026Z"
   },
   {
    "duration": 37,
    "start_time": "2021-07-15T08:18:53.310Z"
   },
   {
    "duration": 37,
    "start_time": "2021-07-15T08:18:54.877Z"
   },
   {
    "duration": 77,
    "start_time": "2021-07-15T08:22:40.374Z"
   },
   {
    "duration": 10,
    "start_time": "2021-07-15T08:22:41.814Z"
   },
   {
    "duration": 83,
    "start_time": "2021-07-15T08:22:46.451Z"
   },
   {
    "duration": 39,
    "start_time": "2021-07-15T08:22:47.436Z"
   },
   {
    "duration": 92,
    "start_time": "2021-07-15T08:23:14.769Z"
   },
   {
    "duration": 43,
    "start_time": "2021-07-15T08:26:55.897Z"
   },
   {
    "duration": 17,
    "start_time": "2021-07-15T08:35:41.705Z"
   },
   {
    "duration": 112,
    "start_time": "2021-07-15T08:40:51.892Z"
   },
   {
    "duration": 97,
    "start_time": "2021-07-15T08:44:44.933Z"
   },
   {
    "duration": 107,
    "start_time": "2021-07-15T08:52:08.925Z"
   },
   {
    "duration": 13,
    "start_time": "2021-07-15T09:04:09.091Z"
   },
   {
    "duration": 47,
    "start_time": "2021-07-15T09:07:20.643Z"
   },
   {
    "duration": 301,
    "start_time": "2021-07-15T09:09:44.196Z"
   },
   {
    "duration": 8,
    "start_time": "2021-07-15T09:09:49.529Z"
   },
   {
    "duration": 8,
    "start_time": "2021-07-15T09:10:10.285Z"
   },
   {
    "duration": 7932,
    "start_time": "2021-07-15T09:13:15.322Z"
   },
   {
    "duration": 1302,
    "start_time": "2021-07-15T09:13:35.198Z"
   },
   {
    "duration": 1854,
    "start_time": "2021-07-15T09:13:42.843Z"
   },
   {
    "duration": 295,
    "start_time": "2021-07-15T09:17:23.035Z"
   },
   {
    "duration": 297,
    "start_time": "2021-07-15T09:17:58.820Z"
   },
   {
    "duration": 288,
    "start_time": "2021-07-15T09:18:08.140Z"
   },
   {
    "duration": 326,
    "start_time": "2021-07-15T09:18:15.216Z"
   },
   {
    "duration": 117,
    "start_time": "2021-07-15T09:34:20.433Z"
   },
   {
    "duration": 109,
    "start_time": "2021-07-15T09:36:16.519Z"
   },
   {
    "duration": 364,
    "start_time": "2021-07-15T12:22:44.001Z"
   },
   {
    "duration": 933,
    "start_time": "2021-07-15T12:22:54.728Z"
   },
   {
    "duration": 21,
    "start_time": "2021-07-15T12:22:55.664Z"
   },
   {
    "duration": 47,
    "start_time": "2021-07-15T12:22:56.971Z"
   },
   {
    "duration": 39,
    "start_time": "2021-07-15T12:22:57.811Z"
   },
   {
    "duration": 103,
    "start_time": "2021-07-15T12:22:59.815Z"
   },
   {
    "duration": 12,
    "start_time": "2021-07-15T12:23:05.883Z"
   },
   {
    "duration": 10,
    "start_time": "2021-07-15T12:23:06.690Z"
   },
   {
    "duration": 10,
    "start_time": "2021-07-15T12:23:47.491Z"
   },
   {
    "duration": 10,
    "start_time": "2021-07-15T12:24:05.635Z"
   },
   {
    "duration": 9,
    "start_time": "2021-07-15T12:24:38.599Z"
   },
   {
    "duration": -154,
    "start_time": "2021-07-15T12:25:40.696Z"
   },
   {
    "duration": 10,
    "start_time": "2021-07-15T12:26:00.115Z"
   },
   {
    "duration": 9,
    "start_time": "2021-07-15T12:27:11.874Z"
   },
   {
    "duration": 8,
    "start_time": "2021-07-15T12:27:24.230Z"
   },
   {
    "duration": 10,
    "start_time": "2021-07-15T12:27:44.106Z"
   },
   {
    "duration": 9,
    "start_time": "2021-07-15T12:28:11.980Z"
   },
   {
    "duration": 21,
    "start_time": "2021-07-15T12:29:17.005Z"
   },
   {
    "duration": 11,
    "start_time": "2021-07-15T13:05:03.614Z"
   },
   {
    "duration": 10,
    "start_time": "2021-07-15T13:06:38.161Z"
   },
   {
    "duration": 10,
    "start_time": "2021-07-15T15:53:59.332Z"
   },
   {
    "duration": 108,
    "start_time": "2021-07-15T16:04:43.686Z"
   },
   {
    "duration": 3,
    "start_time": "2021-07-15T16:13:30.340Z"
   },
   {
    "duration": 41,
    "start_time": "2021-07-15T16:14:46.366Z"
   },
   {
    "duration": 848,
    "start_time": "2021-07-15T16:18:41.715Z"
   },
   {
    "duration": 20,
    "start_time": "2021-07-15T16:18:42.566Z"
   },
   {
    "duration": 49,
    "start_time": "2021-07-15T16:18:42.589Z"
   },
   {
    "duration": 3,
    "start_time": "2021-07-15T16:18:42.641Z"
   },
   {
    "duration": 44,
    "start_time": "2021-07-15T16:18:42.646Z"
   },
   {
    "duration": 3,
    "start_time": "2021-07-15T16:18:42.693Z"
   },
   {
    "duration": 99,
    "start_time": "2021-07-15T16:18:42.699Z"
   },
   {
    "duration": -241,
    "start_time": "2021-07-15T16:18:43.041Z"
   },
   {
    "duration": -243,
    "start_time": "2021-07-15T16:18:43.045Z"
   },
   {
    "duration": 9,
    "start_time": "2021-07-15T16:23:38.956Z"
   },
   {
    "duration": 6,
    "start_time": "2021-07-15T16:23:51.542Z"
   },
   {
    "duration": 10,
    "start_time": "2021-07-15T16:24:12.982Z"
   },
   {
    "duration": 6,
    "start_time": "2021-07-15T16:25:00.576Z"
   },
   {
    "duration": 9,
    "start_time": "2021-07-15T16:25:15.581Z"
   },
   {
    "duration": 7,
    "start_time": "2021-07-15T16:25:47.121Z"
   },
   {
    "duration": 6,
    "start_time": "2021-07-15T16:26:25.192Z"
   },
   {
    "duration": 9,
    "start_time": "2021-07-15T16:26:37.240Z"
   },
   {
    "duration": 41,
    "start_time": "2021-07-15T16:27:17.615Z"
   },
   {
    "duration": 47,
    "start_time": "2021-07-15T16:27:57.562Z"
   },
   {
    "duration": 221,
    "start_time": "2021-07-16T08:49:24.658Z"
   },
   {
    "duration": 637,
    "start_time": "2021-07-16T08:49:34.656Z"
   },
   {
    "duration": 10,
    "start_time": "2021-07-16T08:49:35.295Z"
   },
   {
    "duration": 29,
    "start_time": "2021-07-16T08:49:35.307Z"
   },
   {
    "duration": 2,
    "start_time": "2021-07-16T08:49:35.338Z"
   },
   {
    "duration": 12,
    "start_time": "2021-07-16T08:49:35.341Z"
   },
   {
    "duration": 52,
    "start_time": "2021-07-16T08:49:35.355Z"
   },
   {
    "duration": 3,
    "start_time": "2021-07-16T08:49:35.408Z"
   },
   {
    "duration": 63,
    "start_time": "2021-07-16T08:49:35.413Z"
   },
   {
    "duration": -2863,
    "start_time": "2021-07-16T08:49:38.341Z"
   },
   {
    "duration": -2865,
    "start_time": "2021-07-16T08:49:38.344Z"
   },
   {
    "duration": 25,
    "start_time": "2021-07-16T08:50:41.079Z"
   },
   {
    "duration": 7,
    "start_time": "2021-07-16T08:54:27.208Z"
   },
   {
    "duration": 61,
    "start_time": "2021-07-16T08:55:03.424Z"
   },
   {
    "duration": 26,
    "start_time": "2021-07-16T08:55:48.492Z"
   },
   {
    "duration": 248,
    "start_time": "2021-07-16T08:56:36.549Z"
   },
   {
    "duration": 31,
    "start_time": "2021-07-16T08:56:42.448Z"
   },
   {
    "duration": 25,
    "start_time": "2021-07-16T08:57:20.575Z"
   },
   {
    "duration": 7,
    "start_time": "2021-07-16T08:58:16.032Z"
   },
   {
    "duration": 180,
    "start_time": "2021-07-16T08:58:35.874Z"
   },
   {
    "duration": 24,
    "start_time": "2021-07-16T08:59:07.566Z"
   },
   {
    "duration": 70,
    "start_time": "2021-07-16T08:59:13.053Z"
   },
   {
    "duration": 25,
    "start_time": "2021-07-16T09:01:51.596Z"
   },
   {
    "duration": 180,
    "start_time": "2021-07-16T09:02:57.707Z"
   },
   {
    "duration": 7,
    "start_time": "2021-07-16T09:03:05.490Z"
   },
   {
    "duration": 7,
    "start_time": "2021-07-16T09:03:15.605Z"
   },
   {
    "duration": 6,
    "start_time": "2021-07-16T09:03:50.800Z"
   },
   {
    "duration": 3,
    "start_time": "2021-07-16T09:04:10.917Z"
   },
   {
    "duration": 12,
    "start_time": "2021-07-16T09:04:32.989Z"
   },
   {
    "duration": 15,
    "start_time": "2021-07-16T09:05:02.921Z"
   },
   {
    "duration": 11,
    "start_time": "2021-07-16T09:05:29.826Z"
   },
   {
    "duration": 15,
    "start_time": "2021-07-16T09:10:42.907Z"
   },
   {
    "duration": 29,
    "start_time": "2021-07-16T09:10:53.120Z"
   },
   {
    "duration": 26,
    "start_time": "2021-07-16T09:12:52.695Z"
   },
   {
    "duration": 28,
    "start_time": "2021-07-16T09:13:00.976Z"
   },
   {
    "duration": 198,
    "start_time": "2021-07-16T09:13:40.061Z"
   },
   {
    "duration": 9,
    "start_time": "2021-07-16T09:13:46.779Z"
   },
   {
    "duration": 17,
    "start_time": "2021-07-16T09:14:26.213Z"
   },
   {
    "duration": 5,
    "start_time": "2021-07-16T09:18:02.731Z"
   },
   {
    "duration": 16,
    "start_time": "2021-07-16T09:18:03.863Z"
   },
   {
    "duration": 202,
    "start_time": "2021-07-16T09:21:05.530Z"
   },
   {
    "duration": 186,
    "start_time": "2021-07-16T09:21:24.017Z"
   },
   {
    "duration": 3,
    "start_time": "2021-07-16T09:24:04.803Z"
   },
   {
    "duration": 5,
    "start_time": "2021-07-16T09:24:07.182Z"
   },
   {
    "duration": 190,
    "start_time": "2021-07-16T09:24:28.428Z"
   },
   {
    "duration": 5,
    "start_time": "2021-07-16T09:24:39.646Z"
   },
   {
    "duration": 6,
    "start_time": "2021-07-16T09:24:40.349Z"
   },
   {
    "duration": 6,
    "start_time": "2021-07-16T09:24:57.830Z"
   },
   {
    "duration": 6,
    "start_time": "2021-07-16T09:24:58.918Z"
   },
   {
    "duration": 183,
    "start_time": "2021-07-16T09:25:03.180Z"
   },
   {
    "duration": 6,
    "start_time": "2021-07-16T09:25:18.419Z"
   },
   {
    "duration": 6,
    "start_time": "2021-07-16T09:25:19.550Z"
   },
   {
    "duration": 202,
    "start_time": "2021-07-16T09:26:32.012Z"
   },
   {
    "duration": 6,
    "start_time": "2021-07-16T09:26:34.396Z"
   },
   {
    "duration": 7,
    "start_time": "2021-07-16T09:26:35.147Z"
   },
   {
    "duration": 8,
    "start_time": "2021-07-16T09:32:27.736Z"
   },
   {
    "duration": 20,
    "start_time": "2021-07-16T09:32:28.299Z"
   },
   {
    "duration": 6,
    "start_time": "2021-07-16T09:32:31.484Z"
   },
   {
    "duration": 6,
    "start_time": "2021-07-16T09:32:32.022Z"
   },
   {
    "duration": 7,
    "start_time": "2021-07-16T09:32:53.283Z"
   },
   {
    "duration": 15,
    "start_time": "2021-07-16T09:33:34.075Z"
   },
   {
    "duration": 58,
    "start_time": "2021-07-16T09:40:53.868Z"
   },
   {
    "duration": 68,
    "start_time": "2021-07-16T09:41:11.428Z"
   },
   {
    "duration": 885,
    "start_time": "2021-07-16T09:41:40.812Z"
   },
   {
    "duration": 475,
    "start_time": "2021-07-16T09:42:12.898Z"
   },
   {
    "duration": 59,
    "start_time": "2021-07-16T09:43:09.493Z"
   },
   {
    "duration": 13,
    "start_time": "2021-07-16T09:43:19.913Z"
   },
   {
    "duration": 8,
    "start_time": "2021-07-16T09:43:30.225Z"
   },
   {
    "duration": 13,
    "start_time": "2021-07-16T09:43:31.352Z"
   },
   {
    "duration": 11,
    "start_time": "2021-07-16T09:45:06.054Z"
   },
   {
    "duration": 8,
    "start_time": "2021-07-16T09:45:17.857Z"
   },
   {
    "duration": 14,
    "start_time": "2021-07-16T09:45:23.168Z"
   },
   {
    "duration": 9,
    "start_time": "2021-07-16T09:49:16.740Z"
   },
   {
    "duration": 5,
    "start_time": "2021-07-16T09:51:55.420Z"
   },
   {
    "duration": 9,
    "start_time": "2021-07-16T09:52:38.944Z"
   },
   {
    "duration": 6,
    "start_time": "2021-07-16T09:52:40.757Z"
   },
   {
    "duration": 9,
    "start_time": "2021-07-16T09:52:44.164Z"
   },
   {
    "duration": 9,
    "start_time": "2021-07-16T09:52:53.942Z"
   },
   {
    "duration": 622,
    "start_time": "2021-07-16T09:53:03.580Z"
   },
   {
    "duration": 11,
    "start_time": "2021-07-16T09:53:04.205Z"
   },
   {
    "duration": 32,
    "start_time": "2021-07-16T09:53:04.220Z"
   },
   {
    "duration": 92,
    "start_time": "2021-07-16T09:53:04.254Z"
   },
   {
    "duration": 7,
    "start_time": "2021-07-16T09:53:04.347Z"
   },
   {
    "duration": 30,
    "start_time": "2021-07-16T09:53:04.355Z"
   },
   {
    "duration": 8,
    "start_time": "2021-07-16T09:53:04.387Z"
   },
   {
    "duration": 25,
    "start_time": "2021-07-16T09:53:04.396Z"
   },
   {
    "duration": 15,
    "start_time": "2021-07-16T09:53:04.422Z"
   },
   {
    "duration": 50,
    "start_time": "2021-07-16T09:53:04.438Z"
   },
   {
    "duration": 5,
    "start_time": "2021-07-16T09:53:04.490Z"
   },
   {
    "duration": 13,
    "start_time": "2021-07-16T09:53:04.497Z"
   },
   {
    "duration": 4,
    "start_time": "2021-07-16T09:53:04.512Z"
   },
   {
    "duration": 18,
    "start_time": "2021-07-16T09:53:04.518Z"
   },
   {
    "duration": 12,
    "start_time": "2021-07-16T09:53:04.537Z"
   },
   {
    "duration": 35,
    "start_time": "2021-07-16T09:53:04.550Z"
   },
   {
    "duration": 2,
    "start_time": "2021-07-16T09:53:04.587Z"
   },
   {
    "duration": 64,
    "start_time": "2021-07-16T09:53:59.324Z"
   },
   {
    "duration": 11,
    "start_time": "2021-07-16T09:54:00.418Z"
   },
   {
    "duration": 26,
    "start_time": "2021-07-16T09:54:02.218Z"
   },
   {
    "duration": 68,
    "start_time": "2021-07-16T09:54:04.292Z"
   },
   {
    "duration": 7,
    "start_time": "2021-07-16T09:54:11.361Z"
   },
   {
    "duration": 16,
    "start_time": "2021-07-16T09:54:13.523Z"
   },
   {
    "duration": 9,
    "start_time": "2021-07-16T09:54:17.310Z"
   },
   {
    "duration": 8,
    "start_time": "2021-07-16T09:54:29.067Z"
   },
   {
    "duration": 8,
    "start_time": "2021-07-16T09:54:42.135Z"
   },
   {
    "duration": 7,
    "start_time": "2021-07-16T09:57:30.480Z"
   },
   {
    "duration": 10,
    "start_time": "2021-07-16T09:57:32.225Z"
   },
   {
    "duration": 68,
    "start_time": "2021-07-16T09:57:52.351Z"
   },
   {
    "duration": 10,
    "start_time": "2021-07-16T09:57:53.670Z"
   },
   {
    "duration": 24,
    "start_time": "2021-07-16T09:58:02.517Z"
   },
   {
    "duration": 68,
    "start_time": "2021-07-16T09:58:05.680Z"
   },
   {
    "duration": 8,
    "start_time": "2021-07-16T09:58:44.755Z"
   },
   {
    "duration": 17,
    "start_time": "2021-07-16T09:58:46.620Z"
   },
   {
    "duration": 10,
    "start_time": "2021-07-16T09:58:52.361Z"
   },
   {
    "duration": 8,
    "start_time": "2021-07-16T09:59:11.074Z"
   },
   {
    "duration": 7,
    "start_time": "2021-07-16T09:59:53.467Z"
   },
   {
    "duration": 9,
    "start_time": "2021-07-16T09:59:54.415Z"
   },
   {
    "duration": 10,
    "start_time": "2021-07-16T09:59:57.762Z"
   },
   {
    "duration": 28,
    "start_time": "2021-07-16T10:00:09.411Z"
   },
   {
    "duration": 25,
    "start_time": "2021-07-16T10:00:35.492Z"
   },
   {
    "duration": 5,
    "start_time": "2021-07-16T10:06:23.756Z"
   },
   {
    "duration": 6,
    "start_time": "2021-07-16T10:06:35.038Z"
   },
   {
    "duration": 26,
    "start_time": "2021-07-16T10:07:23.179Z"
   },
   {
    "duration": 15,
    "start_time": "2021-07-16T10:08:10.908Z"
   },
   {
    "duration": 16,
    "start_time": "2021-07-16T10:08:22.714Z"
   },
   {
    "duration": 241,
    "start_time": "2021-07-16T10:08:32.203Z"
   },
   {
    "duration": 15,
    "start_time": "2021-07-16T10:08:36.855Z"
   },
   {
    "duration": 36,
    "start_time": "2021-07-16T10:09:00.232Z"
   },
   {
    "duration": 56,
    "start_time": "2021-07-16T10:09:52.212Z"
   },
   {
    "duration": 5,
    "start_time": "2021-07-16T10:10:51.144Z"
   },
   {
    "duration": 6,
    "start_time": "2021-07-16T10:10:54.782Z"
   },
   {
    "duration": 65,
    "start_time": "2021-07-16T10:11:04.040Z"
   },
   {
    "duration": 5,
    "start_time": "2021-07-16T10:11:10.350Z"
   },
   {
    "duration": 61,
    "start_time": "2021-07-16T10:14:26.958Z"
   },
   {
    "duration": 4329,
    "start_time": "2021-07-16T10:14:32.486Z"
   },
   {
    "duration": 57,
    "start_time": "2021-07-16T10:15:57.968Z"
   },
   {
    "duration": 2,
    "start_time": "2021-07-16T10:16:05.856Z"
   },
   {
    "duration": 17,
    "start_time": "2021-07-16T10:16:17.915Z"
   },
   {
    "duration": 27,
    "start_time": "2021-07-16T10:16:20.609Z"
   },
   {
    "duration": 6,
    "start_time": "2021-07-16T10:16:22.992Z"
   },
   {
    "duration": 12,
    "start_time": "2021-07-16T10:16:24.324Z"
   },
   {
    "duration": 5,
    "start_time": "2021-07-16T10:16:33.137Z"
   },
   {
    "duration": 16,
    "start_time": "2021-07-16T10:16:33.645Z"
   },
   {
    "duration": 13,
    "start_time": "2021-07-16T10:16:35.417Z"
   },
   {
    "duration": 7,
    "start_time": "2021-07-16T10:16:39.365Z"
   },
   {
    "duration": 3,
    "start_time": "2021-07-16T10:16:45.355Z"
   },
   {
    "duration": 370,
    "start_time": "2021-07-16T10:18:55.544Z"
   },
   {
    "duration": 16,
    "start_time": "2021-07-16T10:40:15.435Z"
   },
   {
    "duration": 4,
    "start_time": "2021-07-16T10:40:22.606Z"
   },
   {
    "duration": 7,
    "start_time": "2021-07-16T10:40:29.769Z"
   },
   {
    "duration": 3,
    "start_time": "2021-07-16T10:40:30.352Z"
   },
   {
    "duration": 3,
    "start_time": "2021-07-16T10:40:31.222Z"
   },
   {
    "duration": 15,
    "start_time": "2021-07-16T10:40:33.151Z"
   },
   {
    "duration": 15,
    "start_time": "2021-07-16T10:40:34.785Z"
   },
   {
    "duration": 4,
    "start_time": "2021-07-16T10:40:35.629Z"
   },
   {
    "duration": 10,
    "start_time": "2021-07-16T10:40:40.949Z"
   },
   {
    "duration": 6,
    "start_time": "2021-07-16T10:41:14.659Z"
   },
   {
    "duration": 9,
    "start_time": "2021-07-16T10:41:15.598Z"
   },
   {
    "duration": 7,
    "start_time": "2021-07-16T10:41:16.709Z"
   },
   {
    "duration": 25,
    "start_time": "2021-07-16T10:41:17.647Z"
   },
   {
    "duration": 5,
    "start_time": "2021-07-16T10:41:18.287Z"
   },
   {
    "duration": 3,
    "start_time": "2021-07-16T10:41:18.613Z"
   },
   {
    "duration": 3,
    "start_time": "2021-07-16T10:41:18.817Z"
   },
   {
    "duration": 25,
    "start_time": "2021-07-16T10:41:19.589Z"
   },
   {
    "duration": 17,
    "start_time": "2021-07-16T10:41:20.420Z"
   },
   {
    "duration": 4,
    "start_time": "2021-07-16T10:41:21.174Z"
   },
   {
    "duration": 14,
    "start_time": "2021-07-16T10:41:21.819Z"
   },
   {
    "duration": 7,
    "start_time": "2021-07-16T10:41:22.989Z"
   },
   {
    "duration": 33,
    "start_time": "2021-07-16T10:41:23.275Z"
   },
   {
    "duration": 13,
    "start_time": "2021-07-16T10:41:24.360Z"
   },
   {
    "duration": 8,
    "start_time": "2021-07-16T10:41:24.960Z"
   },
   {
    "duration": 2,
    "start_time": "2021-07-16T10:41:25.765Z"
   },
   {
    "duration": 26,
    "start_time": "2021-07-16T10:46:24.511Z"
   },
   {
    "duration": 32,
    "start_time": "2021-07-16T10:46:28.172Z"
   },
   {
    "duration": 5,
    "start_time": "2021-07-16T10:47:13.798Z"
   },
   {
    "duration": 27,
    "start_time": "2021-07-16T10:47:25.487Z"
   },
   {
    "duration": 4,
    "start_time": "2021-07-16T10:50:47.812Z"
   },
   {
    "duration": 61,
    "start_time": "2021-07-16T10:54:09.798Z"
   },
   {
    "duration": 8,
    "start_time": "2021-07-16T10:54:24.172Z"
   },
   {
    "duration": 26,
    "start_time": "2021-07-16T10:54:34.844Z"
   },
   {
    "duration": 26,
    "start_time": "2021-07-16T10:56:50.817Z"
   },
   {
    "duration": 182,
    "start_time": "2021-07-16T10:57:16.522Z"
   },
   {
    "duration": 29,
    "start_time": "2021-07-16T10:57:28.808Z"
   },
   {
    "duration": 29,
    "start_time": "2021-07-16T10:57:45.421Z"
   },
   {
    "duration": 32,
    "start_time": "2021-07-16T10:58:16.148Z"
   },
   {
    "duration": 61,
    "start_time": "2021-07-16T12:36:49.653Z"
   },
   {
    "duration": 175,
    "start_time": "2021-07-16T12:36:56.755Z"
   },
   {
    "duration": 6,
    "start_time": "2021-07-16T12:42:44.824Z"
   },
   {
    "duration": 6,
    "start_time": "2021-07-16T12:43:12.541Z"
   },
   {
    "duration": 27,
    "start_time": "2021-07-16T12:43:22.424Z"
   },
   {
    "duration": 28,
    "start_time": "2021-07-16T12:44:15.760Z"
   },
   {
    "duration": 4897,
    "start_time": "2021-07-16T12:44:33.332Z"
   },
   {
    "duration": 30,
    "start_time": "2021-07-16T12:44:43.972Z"
   },
   {
    "duration": 26,
    "start_time": "2021-07-16T12:45:11.866Z"
   },
   {
    "duration": 187,
    "start_time": "2021-07-16T12:46:39.139Z"
   },
   {
    "duration": 174,
    "start_time": "2021-07-16T12:47:03.712Z"
   },
   {
    "duration": 26,
    "start_time": "2021-07-16T12:47:29.330Z"
   },
   {
    "duration": 297,
    "start_time": "2021-07-16T12:50:58.161Z"
   },
   {
    "duration": 27,
    "start_time": "2021-07-16T12:56:24.016Z"
   },
   {
    "duration": 182,
    "start_time": "2021-07-16T13:07:36.269Z"
   },
   {
    "duration": 191,
    "start_time": "2021-07-16T13:08:00.913Z"
   },
   {
    "duration": 431,
    "start_time": "2021-07-16T13:08:22.078Z"
   },
   {
    "duration": 571,
    "start_time": "2021-07-16T13:10:08.442Z"
   },
   {
    "duration": 584,
    "start_time": "2021-07-16T13:10:19.074Z"
   },
   {
    "duration": 607,
    "start_time": "2021-07-16T13:29:01.959Z"
   },
   {
    "duration": 575,
    "start_time": "2021-07-16T13:40:45.523Z"
   },
   {
    "duration": 773,
    "start_time": "2021-07-16T13:40:53.410Z"
   },
   {
    "duration": 611,
    "start_time": "2021-07-16T13:40:59.646Z"
   },
   {
    "duration": 589,
    "start_time": "2021-07-16T13:41:05.732Z"
   },
   {
    "duration": 576,
    "start_time": "2021-07-16T13:41:09.384Z"
   },
   {
    "duration": 570,
    "start_time": "2021-07-16T13:41:34.379Z"
   },
   {
    "duration": 621,
    "start_time": "2021-07-16T13:44:05.853Z"
   },
   {
    "duration": 30,
    "start_time": "2021-07-16T13:45:47.823Z"
   },
   {
    "duration": 28,
    "start_time": "2021-07-16T13:46:06.673Z"
   },
   {
    "duration": 190,
    "start_time": "2021-07-16T13:46:23.993Z"
   },
   {
    "duration": 27,
    "start_time": "2021-07-16T13:46:39.691Z"
   },
   {
    "duration": 567,
    "start_time": "2021-07-16T14:01:31.635Z"
   },
   {
    "duration": 8,
    "start_time": "2021-07-16T14:03:40.165Z"
   },
   {
    "duration": 8,
    "start_time": "2021-07-16T14:03:48.663Z"
   },
   {
    "duration": 8,
    "start_time": "2021-07-16T14:03:53.225Z"
   },
   {
    "duration": 8,
    "start_time": "2021-07-16T14:04:01.887Z"
   },
   {
    "duration": 8,
    "start_time": "2021-07-16T14:04:17.701Z"
   },
   {
    "duration": 8,
    "start_time": "2021-07-16T14:04:50.582Z"
   },
   {
    "duration": 7,
    "start_time": "2021-07-16T14:05:27.108Z"
   },
   {
    "duration": 61,
    "start_time": "2021-07-16T14:10:28.047Z"
   },
   {
    "duration": 3956,
    "start_time": "2021-07-16T14:10:34.268Z"
   },
   {
    "duration": 834,
    "start_time": "2021-07-17T15:21:56.977Z"
   },
   {
    "duration": 15,
    "start_time": "2021-07-17T15:21:57.814Z"
   },
   {
    "duration": 45,
    "start_time": "2021-07-17T15:21:57.832Z"
   },
   {
    "duration": 112,
    "start_time": "2021-07-17T15:21:57.901Z"
   },
   {
    "duration": 9,
    "start_time": "2021-07-17T15:21:58.015Z"
   },
   {
    "duration": 23,
    "start_time": "2021-07-17T15:21:58.026Z"
   },
   {
    "duration": 11,
    "start_time": "2021-07-17T15:21:58.052Z"
   },
   {
    "duration": 70,
    "start_time": "2021-07-17T15:21:58.066Z"
   },
   {
    "duration": 3,
    "start_time": "2021-07-17T15:21:58.140Z"
   },
   {
    "duration": 24,
    "start_time": "2021-07-17T15:21:58.145Z"
   },
   {
    "duration": 66,
    "start_time": "2021-07-17T15:21:58.171Z"
   },
   {
    "duration": 5,
    "start_time": "2021-07-17T15:21:58.239Z"
   },
   {
    "duration": 15,
    "start_time": "2021-07-17T15:21:58.246Z"
   },
   {
    "duration": 7,
    "start_time": "2021-07-17T15:21:58.263Z"
   },
   {
    "duration": 24,
    "start_time": "2021-07-17T15:21:58.299Z"
   },
   {
    "duration": 18,
    "start_time": "2021-07-17T15:21:58.325Z"
   },
   {
    "duration": 9,
    "start_time": "2021-07-17T15:21:58.345Z"
   },
   {
    "duration": 2,
    "start_time": "2021-07-17T15:21:58.357Z"
   },
   {
    "duration": 35,
    "start_time": "2021-07-17T15:21:58.401Z"
   },
   {
    "duration": 10,
    "start_time": "2021-07-17T15:21:58.439Z"
   },
   {
    "duration": 70,
    "start_time": "2021-07-17T15:21:58.451Z"
   },
   {
    "duration": 1003,
    "start_time": "2021-07-17T15:21:58.523Z"
   },
   {
    "duration": 10,
    "start_time": "2021-07-17T15:21:59.529Z"
   },
   {
    "duration": 5785,
    "start_time": "2021-07-17T15:21:59.542Z"
   },
   {
    "duration": -2759,
    "start_time": "2021-07-17T15:22:08.089Z"
   },
   {
    "duration": 973,
    "start_time": "2021-07-17T15:22:35.111Z"
   },
   {
    "duration": 5451,
    "start_time": "2021-07-17T15:23:05.971Z"
   },
   {
    "duration": 5880,
    "start_time": "2021-07-17T15:24:08.921Z"
   },
   {
    "duration": 295,
    "start_time": "2021-07-17T15:25:10.015Z"
   },
   {
    "duration": 5638,
    "start_time": "2021-07-17T15:25:20.700Z"
   },
   {
    "duration": 5616,
    "start_time": "2021-07-17T15:26:16.362Z"
   },
   {
    "duration": -2077,
    "start_time": "2021-07-17T15:46:37.921Z"
   },
   {
    "duration": 964,
    "start_time": "2021-07-17T15:46:35.983Z"
   },
   {
    "duration": 15,
    "start_time": "2021-07-17T15:46:36.950Z"
   },
   {
    "duration": 56,
    "start_time": "2021-07-17T15:46:36.968Z"
   },
   {
    "duration": 121,
    "start_time": "2021-07-17T15:46:37.027Z"
   },
   {
    "duration": 9,
    "start_time": "2021-07-17T15:46:37.150Z"
   },
   {
    "duration": 38,
    "start_time": "2021-07-17T15:46:37.162Z"
   },
   {
    "duration": 12,
    "start_time": "2021-07-17T15:46:37.203Z"
   },
   {
    "duration": 41,
    "start_time": "2021-07-17T15:46:37.217Z"
   },
   {
    "duration": 3,
    "start_time": "2021-07-17T15:46:37.263Z"
   },
   {
    "duration": 26,
    "start_time": "2021-07-17T15:46:37.302Z"
   },
   {
    "duration": 38,
    "start_time": "2021-07-17T15:46:37.331Z"
   },
   {
    "duration": 32,
    "start_time": "2021-07-17T15:46:37.371Z"
   },
   {
    "duration": 14,
    "start_time": "2021-07-17T15:46:37.405Z"
   },
   {
    "duration": 6,
    "start_time": "2021-07-17T15:46:37.422Z"
   },
   {
    "duration": 25,
    "start_time": "2021-07-17T15:46:37.430Z"
   },
   {
    "duration": 54,
    "start_time": "2021-07-17T15:46:37.458Z"
   },
   {
    "duration": 10,
    "start_time": "2021-07-17T15:46:37.515Z"
   },
   {
    "duration": 2,
    "start_time": "2021-07-17T15:46:37.528Z"
   },
   {
    "duration": 37,
    "start_time": "2021-07-17T15:46:37.532Z"
   },
   {
    "duration": 10,
    "start_time": "2021-07-17T15:46:37.601Z"
   },
   {
    "duration": 44,
    "start_time": "2021-07-17T15:46:37.614Z"
   },
   {
    "duration": 942,
    "start_time": "2021-07-17T15:46:37.661Z"
   },
   {
    "duration": 9,
    "start_time": "2021-07-17T15:46:38.606Z"
   },
   {
    "duration": 32,
    "start_time": "2021-07-17T15:46:38.618Z"
   },
   {
    "duration": 557,
    "start_time": "2021-07-17T15:46:38.653Z"
   },
   {
    "duration": -3638,
    "start_time": "2021-07-17T15:46:42.851Z"
   },
   {
    "duration": 514,
    "start_time": "2021-07-17T15:47:37.358Z"
   },
   {
    "duration": 857,
    "start_time": "2021-07-19T07:34:07.474Z"
   },
   {
    "duration": 18,
    "start_time": "2021-07-19T07:34:08.333Z"
   },
   {
    "duration": 58,
    "start_time": "2021-07-19T07:34:08.354Z"
   },
   {
    "duration": 115,
    "start_time": "2021-07-19T07:34:08.415Z"
   },
   {
    "duration": 8,
    "start_time": "2021-07-19T07:34:08.533Z"
   },
   {
    "duration": 44,
    "start_time": "2021-07-19T07:34:08.543Z"
   },
   {
    "duration": 12,
    "start_time": "2021-07-19T07:34:08.589Z"
   },
   {
    "duration": 40,
    "start_time": "2021-07-19T07:34:08.605Z"
   },
   {
    "duration": 35,
    "start_time": "2021-07-19T07:34:08.648Z"
   },
   {
    "duration": 28,
    "start_time": "2021-07-19T07:34:08.686Z"
   },
   {
    "duration": 42,
    "start_time": "2021-07-19T07:34:08.716Z"
   },
   {
    "duration": 7,
    "start_time": "2021-07-19T07:34:08.782Z"
   },
   {
    "duration": 16,
    "start_time": "2021-07-19T07:34:08.792Z"
   },
   {
    "duration": 6,
    "start_time": "2021-07-19T07:34:08.810Z"
   },
   {
    "duration": 27,
    "start_time": "2021-07-19T07:34:08.819Z"
   },
   {
    "duration": 48,
    "start_time": "2021-07-19T07:34:08.849Z"
   },
   {
    "duration": 8,
    "start_time": "2021-07-19T07:34:08.900Z"
   },
   {
    "duration": 4,
    "start_time": "2021-07-19T07:34:08.911Z"
   },
   {
    "duration": 67,
    "start_time": "2021-07-19T07:34:08.917Z"
   },
   {
    "duration": 10,
    "start_time": "2021-07-19T07:34:08.986Z"
   },
   {
    "duration": 45,
    "start_time": "2021-07-19T07:34:08.998Z"
   },
   {
    "duration": 1107,
    "start_time": "2021-07-19T07:34:09.046Z"
   },
   {
    "duration": 25,
    "start_time": "2021-07-19T07:34:10.157Z"
   },
   {
    "duration": 151,
    "start_time": "2021-07-19T07:34:10.185Z"
   },
   {
    "duration": -3288,
    "start_time": "2021-07-19T07:34:13.626Z"
   },
   {
    "duration": 142,
    "start_time": "2021-07-19T07:34:45.122Z"
   },
   {
    "duration": 10,
    "start_time": "2021-07-19T07:34:51.992Z"
   },
   {
    "duration": 10,
    "start_time": "2021-07-19T07:50:11.984Z"
   },
   {
    "duration": 14,
    "start_time": "2021-07-19T07:50:13.185Z"
   },
   {
    "duration": 85,
    "start_time": "2021-07-19T07:57:03.996Z"
   },
   {
    "duration": 15,
    "start_time": "2021-07-19T07:57:05.135Z"
   },
   {
    "duration": 37,
    "start_time": "2021-07-19T07:57:08.074Z"
   },
   {
    "duration": 103,
    "start_time": "2021-07-19T07:57:09.385Z"
   },
   {
    "duration": 9,
    "start_time": "2021-07-19T07:57:14.347Z"
   },
   {
    "duration": 21,
    "start_time": "2021-07-19T07:58:05.033Z"
   },
   {
    "duration": 12,
    "start_time": "2021-07-19T07:58:10.119Z"
   },
   {
    "duration": 40,
    "start_time": "2021-07-19T07:58:11.467Z"
   },
   {
    "duration": 3,
    "start_time": "2021-07-19T07:58:12.345Z"
   },
   {
    "duration": 24,
    "start_time": "2021-07-19T07:58:21.422Z"
   },
   {
    "duration": 39,
    "start_time": "2021-07-19T07:58:23.221Z"
   },
   {
    "duration": 6,
    "start_time": "2021-07-19T07:58:30.796Z"
   },
   {
    "duration": 14,
    "start_time": "2021-07-19T07:58:32.932Z"
   },
   {
    "duration": 7,
    "start_time": "2021-07-19T07:58:36.781Z"
   },
   {
    "duration": 24,
    "start_time": "2021-07-19T07:58:39.705Z"
   },
   {
    "duration": 20,
    "start_time": "2021-07-19T07:58:44.822Z"
   },
   {
    "duration": 12,
    "start_time": "2021-07-19T07:58:45.733Z"
   },
   {
    "duration": 4,
    "start_time": "2021-07-19T07:58:47.130Z"
   },
   {
    "duration": 40,
    "start_time": "2021-07-19T07:58:51.654Z"
   },
   {
    "duration": 7,
    "start_time": "2021-07-19T07:58:57.820Z"
   },
   {
    "duration": 45,
    "start_time": "2021-07-19T07:59:06.749Z"
   },
   {
    "duration": 1454,
    "start_time": "2021-07-19T07:59:10.215Z"
   },
   {
    "duration": 10,
    "start_time": "2021-07-19T07:59:16.926Z"
   },
   {
    "duration": 14,
    "start_time": "2021-07-19T07:59:19.357Z"
   },
   {
    "duration": 13,
    "start_time": "2021-07-19T07:59:34.967Z"
   },
   {
    "duration": 119,
    "start_time": "2021-07-19T08:17:56.833Z"
   },
   {
    "duration": 141,
    "start_time": "2021-07-19T08:19:22.625Z"
   },
   {
    "duration": 6,
    "start_time": "2021-07-19T08:19:29.679Z"
   },
   {
    "duration": 36,
    "start_time": "2021-07-19T08:21:02.536Z"
   },
   {
    "duration": 542,
    "start_time": "2021-07-19T08:29:08.208Z"
   },
   {
    "duration": 325,
    "start_time": "2021-07-19T08:29:10.943Z"
   },
   {
    "duration": 415,
    "start_time": "2021-07-19T08:29:21.608Z"
   },
   {
    "duration": 311,
    "start_time": "2021-07-19T08:29:40.856Z"
   },
   {
    "duration": 272,
    "start_time": "2021-07-19T08:29:44.647Z"
   },
   {
    "duration": 299,
    "start_time": "2021-07-19T08:29:50.824Z"
   },
   {
    "duration": 247,
    "start_time": "2021-07-19T08:29:56.029Z"
   },
   {
    "duration": 283,
    "start_time": "2021-07-19T08:29:59.564Z"
   },
   {
    "duration": 303,
    "start_time": "2021-07-19T08:32:20.865Z"
   },
   {
    "duration": 295,
    "start_time": "2021-07-19T08:32:24.387Z"
   },
   {
    "duration": 337,
    "start_time": "2021-07-19T08:33:15.159Z"
   },
   {
    "duration": 290,
    "start_time": "2021-07-19T08:33:20.826Z"
   },
   {
    "duration": 280,
    "start_time": "2021-07-19T08:33:27.028Z"
   },
   {
    "duration": 272,
    "start_time": "2021-07-19T08:33:32.315Z"
   },
   {
    "duration": 267,
    "start_time": "2021-07-19T08:33:57.696Z"
   },
   {
    "duration": 275,
    "start_time": "2021-07-19T08:34:06.019Z"
   },
   {
    "duration": 324,
    "start_time": "2021-07-19T08:34:12.106Z"
   },
   {
    "duration": 295,
    "start_time": "2021-07-19T08:34:16.090Z"
   },
   {
    "duration": 317,
    "start_time": "2021-07-19T08:34:26.213Z"
   },
   {
    "duration": 305,
    "start_time": "2021-07-19T08:34:32.829Z"
   },
   {
    "duration": 291,
    "start_time": "2021-07-19T08:34:37.336Z"
   },
   {
    "duration": 353,
    "start_time": "2021-07-19T08:34:41.705Z"
   },
   {
    "duration": 563,
    "start_time": "2021-07-19T08:36:07.251Z"
   },
   {
    "duration": 584,
    "start_time": "2021-07-19T08:36:15.316Z"
   },
   {
    "duration": 584,
    "start_time": "2021-07-19T08:36:26.357Z"
   },
   {
    "duration": 1145,
    "start_time": "2021-07-19T08:36:43.476Z"
   },
   {
    "duration": 1247,
    "start_time": "2021-07-19T08:36:53.118Z"
   },
   {
    "duration": 9,
    "start_time": "2021-07-19T08:40:44.288Z"
   },
   {
    "duration": 6,
    "start_time": "2021-07-19T08:40:59.797Z"
   },
   {
    "duration": 64,
    "start_time": "2021-07-19T08:41:06.025Z"
   },
   {
    "duration": 284,
    "start_time": "2021-07-19T08:51:13.985Z"
   },
   {
    "duration": 1160,
    "start_time": "2021-07-19T08:51:30.983Z"
   },
   {
    "duration": 372,
    "start_time": "2021-07-19T08:51:49.658Z"
   },
   {
    "duration": 1542,
    "start_time": "2021-07-19T08:52:33.768Z"
   },
   {
    "duration": 1616,
    "start_time": "2021-07-19T08:53:31.803Z"
   },
   {
    "duration": 1520,
    "start_time": "2021-07-19T08:54:04.289Z"
   },
   {
    "duration": 205,
    "start_time": "2021-07-19T09:05:40.846Z"
   },
   {
    "duration": 201,
    "start_time": "2021-07-19T09:05:50.712Z"
   },
   {
    "duration": 236,
    "start_time": "2021-07-19T09:06:37.339Z"
   },
   {
    "duration": 227,
    "start_time": "2021-07-19T09:06:41.628Z"
   },
   {
    "duration": 219,
    "start_time": "2021-07-19T09:07:22.085Z"
   },
   {
    "duration": 245,
    "start_time": "2021-07-19T09:07:38.753Z"
   },
   {
    "duration": 339,
    "start_time": "2021-07-19T09:08:06.068Z"
   },
   {
    "duration": 212,
    "start_time": "2021-07-19T09:08:24.005Z"
   },
   {
    "duration": 231,
    "start_time": "2021-07-19T09:08:28.235Z"
   },
   {
    "duration": 233,
    "start_time": "2021-07-19T09:08:34.861Z"
   },
   {
    "duration": 651,
    "start_time": "2021-07-19T09:13:40.989Z"
   },
   {
    "duration": 354,
    "start_time": "2021-07-19T09:13:47.186Z"
   },
   {
    "duration": 5,
    "start_time": "2021-07-19T09:14:35.898Z"
   },
   {
    "duration": 25,
    "start_time": "2021-07-19T09:14:51.186Z"
   },
   {
    "duration": 797,
    "start_time": "2021-07-19T09:18:34.536Z"
   },
   {
    "duration": 830,
    "start_time": "2021-07-19T09:18:52.699Z"
   },
   {
    "duration": 15,
    "start_time": "2021-07-19T09:18:53.531Z"
   },
   {
    "duration": 54,
    "start_time": "2021-07-19T09:18:53.549Z"
   },
   {
    "duration": 110,
    "start_time": "2021-07-19T09:18:53.606Z"
   },
   {
    "duration": 8,
    "start_time": "2021-07-19T09:18:53.718Z"
   },
   {
    "duration": 23,
    "start_time": "2021-07-19T09:18:53.729Z"
   },
   {
    "duration": 33,
    "start_time": "2021-07-19T09:18:53.754Z"
   },
   {
    "duration": 40,
    "start_time": "2021-07-19T09:18:53.791Z"
   },
   {
    "duration": 55,
    "start_time": "2021-07-19T09:18:53.834Z"
   },
   {
    "duration": 38,
    "start_time": "2021-07-19T09:18:53.891Z"
   },
   {
    "duration": 6,
    "start_time": "2021-07-19T09:18:53.932Z"
   },
   {
    "duration": 43,
    "start_time": "2021-07-19T09:18:53.940Z"
   },
   {
    "duration": 7,
    "start_time": "2021-07-19T09:18:53.986Z"
   },
   {
    "duration": 26,
    "start_time": "2021-07-19T09:18:53.995Z"
   },
   {
    "duration": 22,
    "start_time": "2021-07-19T09:18:54.024Z"
   },
   {
    "duration": 10,
    "start_time": "2021-07-19T09:18:54.082Z"
   },
   {
    "duration": 9,
    "start_time": "2021-07-19T09:18:54.095Z"
   },
   {
    "duration": 37,
    "start_time": "2021-07-19T09:18:54.106Z"
   },
   {
    "duration": 37,
    "start_time": "2021-07-19T09:18:54.145Z"
   },
   {
    "duration": 45,
    "start_time": "2021-07-19T09:18:54.184Z"
   },
   {
    "duration": 1011,
    "start_time": "2021-07-19T09:18:54.232Z"
   },
   {
    "duration": 10,
    "start_time": "2021-07-19T09:18:55.245Z"
   },
   {
    "duration": 34,
    "start_time": "2021-07-19T09:18:55.259Z"
   },
   {
    "duration": 11,
    "start_time": "2021-07-19T09:18:55.296Z"
   },
   {
    "duration": 35,
    "start_time": "2021-07-19T09:18:55.309Z"
   },
   {
    "duration": 1320,
    "start_time": "2021-07-19T09:18:55.346Z"
   },
   {
    "duration": 354,
    "start_time": "2021-07-19T09:18:56.669Z"
   },
   {
    "duration": 66,
    "start_time": "2021-07-19T09:21:08.839Z"
   },
   {
    "duration": 50,
    "start_time": "2021-07-19T09:21:22.180Z"
   },
   {
    "duration": 54,
    "start_time": "2021-07-19T09:22:23.114Z"
   },
   {
    "duration": 274,
    "start_time": "2021-07-19T09:44:46.337Z"
   },
   {
    "duration": 480,
    "start_time": "2021-07-19T09:46:31.018Z"
   },
   {
    "duration": 691,
    "start_time": "2021-07-19T09:47:28.371Z"
   },
   {
    "duration": 716,
    "start_time": "2021-07-19T09:48:13.789Z"
   },
   {
    "duration": 708,
    "start_time": "2021-07-19T09:48:41.945Z"
   },
   {
    "duration": 868,
    "start_time": "2021-07-19T09:49:19.532Z"
   },
   {
    "duration": 873,
    "start_time": "2021-07-19T09:49:37.182Z"
   },
   {
    "duration": 852,
    "start_time": "2021-07-19T09:50:48.035Z"
   },
   {
    "duration": 594,
    "start_time": "2021-07-19T09:50:59.308Z"
   },
   {
    "duration": 825,
    "start_time": "2021-07-19T09:51:53.095Z"
   },
   {
    "duration": 951,
    "start_time": "2021-07-19T09:53:12.134Z"
   },
   {
    "duration": 818,
    "start_time": "2021-07-19T09:54:36.347Z"
   },
   {
    "duration": 843,
    "start_time": "2021-07-19T09:56:41.693Z"
   },
   {
    "duration": 822,
    "start_time": "2021-07-19T09:56:57.600Z"
   },
   {
    "duration": 843,
    "start_time": "2021-07-19T09:57:12.866Z"
   },
   {
    "duration": 1075,
    "start_time": "2021-07-19T09:57:18.010Z"
   },
   {
    "duration": 800,
    "start_time": "2021-07-19T09:57:24.657Z"
   },
   {
    "duration": 812,
    "start_time": "2021-07-19T09:57:28.323Z"
   },
   {
    "duration": 828,
    "start_time": "2021-07-19T09:57:38.404Z"
   },
   {
    "duration": 831,
    "start_time": "2021-07-19T09:58:15.203Z"
   },
   {
    "duration": 835,
    "start_time": "2021-07-19T09:58:22.090Z"
   },
   {
    "duration": 947,
    "start_time": "2021-07-19T09:59:47.520Z"
   },
   {
    "duration": 798,
    "start_time": "2021-07-19T09:59:53.787Z"
   },
   {
    "duration": 888,
    "start_time": "2021-07-19T10:00:01.408Z"
   },
   {
    "duration": 497,
    "start_time": "2021-07-19T10:01:17.015Z"
   },
   {
    "duration": 358,
    "start_time": "2021-07-19T10:01:25.228Z"
   },
   {
    "duration": 598,
    "start_time": "2021-07-19T10:01:51.407Z"
   },
   {
    "duration": 567,
    "start_time": "2021-07-19T10:03:53.854Z"
   },
   {
    "duration": 730,
    "start_time": "2021-07-19T10:04:44.793Z"
   },
   {
    "duration": 591,
    "start_time": "2021-07-19T10:04:51.098Z"
   },
   {
    "duration": 588,
    "start_time": "2021-07-19T10:04:55.189Z"
   },
   {
    "duration": 633,
    "start_time": "2021-07-19T10:05:00.141Z"
   },
   {
    "duration": 596,
    "start_time": "2021-07-19T10:05:05.672Z"
   },
   {
    "duration": 546,
    "start_time": "2021-07-19T10:05:24.508Z"
   },
   {
    "duration": 588,
    "start_time": "2021-07-19T10:05:28.960Z"
   },
   {
    "duration": 553,
    "start_time": "2021-07-19T10:05:37.318Z"
   },
   {
    "duration": 32,
    "start_time": "2021-07-19T11:04:48.664Z"
   },
   {
    "duration": 366,
    "start_time": "2021-07-19T11:06:55.430Z"
   },
   {
    "duration": 6,
    "start_time": "2021-07-19T11:07:04.406Z"
   },
   {
    "duration": 794,
    "start_time": "2021-07-19T11:09:20.205Z"
   },
   {
    "duration": 1114,
    "start_time": "2021-07-19T11:10:51.201Z"
   },
   {
    "duration": 931,
    "start_time": "2021-07-19T11:12:24.513Z"
   },
   {
    "duration": 15,
    "start_time": "2021-07-19T11:13:26.129Z"
   },
   {
    "duration": 1129,
    "start_time": "2021-07-19T11:16:48.027Z"
   },
   {
    "duration": 557,
    "start_time": "2021-07-19T11:16:58.061Z"
   },
   {
    "duration": 921,
    "start_time": "2021-07-19T11:17:01.199Z"
   },
   {
    "duration": 99,
    "start_time": "2021-07-19T11:17:12.861Z"
   },
   {
    "duration": 836,
    "start_time": "2021-07-19T11:17:23.013Z"
   },
   {
    "duration": 806,
    "start_time": "2021-07-19T11:17:32.644Z"
   },
   {
    "duration": 25,
    "start_time": "2021-07-19T11:22:34.718Z"
   },
   {
    "duration": 9,
    "start_time": "2021-07-19T11:22:46.058Z"
   },
   {
    "duration": 9,
    "start_time": "2021-07-19T11:23:03.675Z"
   },
   {
    "duration": 127,
    "start_time": "2021-07-19T11:26:12.757Z"
   },
   {
    "duration": 820,
    "start_time": "2021-07-19T11:34:30.862Z"
   },
   {
    "duration": 842,
    "start_time": "2021-07-19T11:38:43.243Z"
   },
   {
    "duration": 1037,
    "start_time": "2021-07-19T11:38:47.616Z"
   },
   {
    "duration": 849,
    "start_time": "2021-07-19T11:38:51.221Z"
   },
   {
    "duration": 831,
    "start_time": "2021-07-19T11:38:56.771Z"
   },
   {
    "duration": 889,
    "start_time": "2021-07-19T11:39:00.945Z"
   },
   {
    "duration": 814,
    "start_time": "2021-07-19T11:39:04.813Z"
   },
   {
    "duration": 872,
    "start_time": "2021-07-19T11:39:08.182Z"
   },
   {
    "duration": 950,
    "start_time": "2021-07-19T11:39:11.215Z"
   },
   {
    "duration": 1069,
    "start_time": "2021-07-19T11:39:24.389Z"
   },
   {
    "duration": 104,
    "start_time": "2021-07-19T11:41:44.194Z"
   },
   {
    "duration": 122,
    "start_time": "2021-07-19T11:41:48.467Z"
   },
   {
    "duration": 57,
    "start_time": "2021-07-19T11:41:55.994Z"
   },
   {
    "duration": 46,
    "start_time": "2021-07-19T11:42:16.068Z"
   },
   {
    "duration": 36,
    "start_time": "2021-07-19T11:43:15.671Z"
   },
   {
    "duration": 928,
    "start_time": "2021-07-19T11:43:32.047Z"
   },
   {
    "duration": 1327,
    "start_time": "2021-07-19T11:43:42.477Z"
   },
   {
    "duration": 836,
    "start_time": "2021-07-19T11:43:49.563Z"
   },
   {
    "duration": 819,
    "start_time": "2021-07-19T11:43:53.524Z"
   },
   {
    "duration": 851,
    "start_time": "2021-07-19T11:43:56.977Z"
   },
   {
    "duration": 830,
    "start_time": "2021-07-19T11:44:01.789Z"
   },
   {
    "duration": 914,
    "start_time": "2021-07-19T11:44:05.550Z"
   },
   {
    "duration": 842,
    "start_time": "2021-07-19T11:44:10.580Z"
   },
   {
    "duration": 1111,
    "start_time": "2021-07-19T11:44:14.158Z"
   },
   {
    "duration": 39,
    "start_time": "2021-07-19T11:45:47.594Z"
   },
   {
    "duration": 62,
    "start_time": "2021-07-19T11:50:31.580Z"
   },
   {
    "duration": 41,
    "start_time": "2021-07-19T11:51:30.777Z"
   },
   {
    "duration": 9,
    "start_time": "2021-07-19T11:53:10.506Z"
   },
   {
    "duration": 402,
    "start_time": "2021-07-19T11:53:49.333Z"
   },
   {
    "duration": 535,
    "start_time": "2021-07-19T11:54:00.000Z"
   },
   {
    "duration": 519,
    "start_time": "2021-07-19T11:54:13.366Z"
   },
   {
    "duration": 540,
    "start_time": "2021-07-19T11:54:20.684Z"
   },
   {
    "duration": 540,
    "start_time": "2021-07-19T11:54:41.824Z"
   },
   {
    "duration": 554,
    "start_time": "2021-07-19T11:56:51.200Z"
   },
   {
    "duration": 553,
    "start_time": "2021-07-19T11:57:05.646Z"
   },
   {
    "duration": 830,
    "start_time": "2021-07-19T11:57:10.966Z"
   },
   {
    "duration": 611,
    "start_time": "2021-07-19T11:57:16.648Z"
   },
   {
    "duration": 1206,
    "start_time": "2021-07-19T12:02:51.878Z"
   },
   {
    "duration": 1426,
    "start_time": "2021-07-19T12:02:59.404Z"
   },
   {
    "duration": 1255,
    "start_time": "2021-07-19T12:04:02.986Z"
   },
   {
    "duration": 862,
    "start_time": "2021-07-19T12:05:21.865Z"
   },
   {
    "duration": 828,
    "start_time": "2021-07-19T12:12:15.479Z"
   },
   {
    "duration": 56,
    "start_time": "2021-07-19T12:16:18.813Z"
   },
   {
    "duration": 116,
    "start_time": "2021-07-19T12:19:44.286Z"
   },
   {
    "duration": 494,
    "start_time": "2021-07-19T12:19:50.702Z"
   },
   {
    "duration": 6381,
    "start_time": "2021-07-19T12:20:02.632Z"
   },
   {
    "duration": 60,
    "start_time": "2021-07-19T12:21:49.001Z"
   },
   {
    "duration": 878,
    "start_time": "2021-07-19T12:22:07.190Z"
   },
   {
    "duration": 873,
    "start_time": "2021-07-19T12:22:51.479Z"
   },
   {
    "duration": 808,
    "start_time": "2021-07-19T12:22:55.609Z"
   },
   {
    "duration": 1189,
    "start_time": "2021-07-19T12:23:03.664Z"
   },
   {
    "duration": 822,
    "start_time": "2021-07-19T12:23:39.310Z"
   },
   {
    "duration": 1216,
    "start_time": "2021-07-19T12:23:43.370Z"
   },
   {
    "duration": 47,
    "start_time": "2021-07-19T12:24:43.474Z"
   },
   {
    "duration": 1495,
    "start_time": "2021-07-19T12:24:44.376Z"
   },
   {
    "duration": 607,
    "start_time": "2021-07-19T12:25:14.594Z"
   },
   {
    "duration": 556,
    "start_time": "2021-07-19T12:25:33.159Z"
   },
   {
    "duration": 505,
    "start_time": "2021-07-19T12:25:49.359Z"
   },
   {
    "duration": 603,
    "start_time": "2021-07-19T12:25:56.265Z"
   },
   {
    "duration": 581,
    "start_time": "2021-07-19T12:26:07.695Z"
   },
   {
    "duration": 527,
    "start_time": "2021-07-19T12:32:04.301Z"
   },
   {
    "duration": 591,
    "start_time": "2021-07-19T12:35:54.343Z"
   },
   {
    "duration": 578,
    "start_time": "2021-07-19T12:36:05.850Z"
   },
   {
    "duration": 554,
    "start_time": "2021-07-19T12:36:14.344Z"
   },
   {
    "duration": 18,
    "start_time": "2021-07-19T12:37:00.513Z"
   },
   {
    "duration": 942,
    "start_time": "2021-07-19T12:39:26.967Z"
   },
   {
    "duration": 17,
    "start_time": "2021-07-19T12:39:33.125Z"
   },
   {
    "duration": 357,
    "start_time": "2021-07-19T12:40:42.455Z"
   },
   {
    "duration": 759,
    "start_time": "2021-07-19T12:40:51.961Z"
   },
   {
    "duration": 785,
    "start_time": "2021-07-19T12:41:11.671Z"
   },
   {
    "duration": 878,
    "start_time": "2021-07-19T12:41:18.252Z"
   },
   {
    "duration": 824,
    "start_time": "2021-07-19T12:41:51.281Z"
   },
   {
    "duration": 19,
    "start_time": "2021-07-19T12:42:13.382Z"
   },
   {
    "duration": 10,
    "start_time": "2021-07-19T12:42:16.727Z"
   },
   {
    "duration": 9,
    "start_time": "2021-07-19T12:44:14.899Z"
   },
   {
    "duration": 104,
    "start_time": "2021-07-19T12:44:53.678Z"
   },
   {
    "duration": 13,
    "start_time": "2021-07-19T12:44:55.468Z"
   },
   {
    "duration": 10,
    "start_time": "2021-07-19T12:45:06.087Z"
   },
   {
    "duration": 12,
    "start_time": "2021-07-19T12:45:16.008Z"
   },
   {
    "duration": 10,
    "start_time": "2021-07-19T12:45:41.310Z"
   },
   {
    "duration": 10,
    "start_time": "2021-07-19T12:46:10.583Z"
   },
   {
    "duration": 16,
    "start_time": "2021-07-19T12:48:14.358Z"
   },
   {
    "duration": 10,
    "start_time": "2021-07-19T12:48:22.339Z"
   },
   {
    "duration": 217,
    "start_time": "2021-07-19T12:49:06.514Z"
   },
   {
    "duration": 10,
    "start_time": "2021-07-19T12:50:14.409Z"
   },
   {
    "duration": 12,
    "start_time": "2021-07-19T12:50:28.944Z"
   },
   {
    "duration": 12,
    "start_time": "2021-07-19T12:50:35.275Z"
   },
   {
    "duration": 350,
    "start_time": "2021-07-19T12:52:20.071Z"
   },
   {
    "duration": 367,
    "start_time": "2021-07-19T12:52:24.954Z"
   },
   {
    "duration": 282,
    "start_time": "2021-07-19T12:52:51.486Z"
   },
   {
    "duration": 671,
    "start_time": "2021-07-19T12:53:00.881Z"
   },
   {
    "duration": 462,
    "start_time": "2021-07-19T12:53:08.321Z"
   },
   {
    "duration": 294,
    "start_time": "2021-07-19T12:53:13.883Z"
   },
   {
    "duration": 329,
    "start_time": "2021-07-19T12:53:24.568Z"
   },
   {
    "duration": 811,
    "start_time": "2021-07-19T12:53:29.372Z"
   },
   {
    "duration": 833,
    "start_time": "2021-07-19T12:54:56.959Z"
   },
   {
    "duration": 876,
    "start_time": "2021-07-19T12:55:01.120Z"
   },
   {
    "duration": 796,
    "start_time": "2021-07-19T12:55:05.238Z"
   },
   {
    "duration": 794,
    "start_time": "2021-07-19T12:55:14.721Z"
   },
   {
    "duration": 812,
    "start_time": "2021-07-19T12:55:26.208Z"
   },
   {
    "duration": 12,
    "start_time": "2021-07-19T12:55:33.116Z"
   },
   {
    "duration": 12,
    "start_time": "2021-07-19T12:56:20.784Z"
   },
   {
    "duration": 47,
    "start_time": "2021-07-19T12:57:16.865Z"
   },
   {
    "duration": 45,
    "start_time": "2021-07-19T12:57:23.803Z"
   },
   {
    "duration": 12392,
    "start_time": "2021-07-19T12:58:56.472Z"
   },
   {
    "duration": 40,
    "start_time": "2021-07-19T12:59:52.679Z"
   },
   {
    "duration": 47,
    "start_time": "2021-07-19T13:00:01.027Z"
   },
   {
    "duration": 121,
    "start_time": "2021-07-19T13:05:35.467Z"
   },
   {
    "duration": 37,
    "start_time": "2021-07-19T13:11:34.099Z"
   },
   {
    "duration": 901,
    "start_time": "2021-07-19T13:11:57.879Z"
   },
   {
    "duration": 25,
    "start_time": "2021-07-19T13:11:58.783Z"
   },
   {
    "duration": 52,
    "start_time": "2021-07-19T13:11:58.811Z"
   },
   {
    "duration": 126,
    "start_time": "2021-07-19T13:11:58.882Z"
   },
   {
    "duration": 8,
    "start_time": "2021-07-19T13:11:59.011Z"
   },
   {
    "duration": 23,
    "start_time": "2021-07-19T13:11:59.022Z"
   },
   {
    "duration": 44,
    "start_time": "2021-07-19T13:11:59.048Z"
   },
   {
    "duration": 50,
    "start_time": "2021-07-19T13:11:59.098Z"
   },
   {
    "duration": 48,
    "start_time": "2021-07-19T13:11:59.152Z"
   },
   {
    "duration": 44,
    "start_time": "2021-07-19T13:11:59.203Z"
   },
   {
    "duration": 7,
    "start_time": "2021-07-19T13:11:59.249Z"
   },
   {
    "duration": 35,
    "start_time": "2021-07-19T13:11:59.258Z"
   },
   {
    "duration": 6,
    "start_time": "2021-07-19T13:11:59.296Z"
   },
   {
    "duration": 26,
    "start_time": "2021-07-19T13:11:59.304Z"
   },
   {
    "duration": 19,
    "start_time": "2021-07-19T13:11:59.332Z"
   },
   {
    "duration": 11,
    "start_time": "2021-07-19T13:11:59.384Z"
   },
   {
    "duration": 3,
    "start_time": "2021-07-19T13:11:59.398Z"
   },
   {
    "duration": 37,
    "start_time": "2021-07-19T13:11:59.404Z"
   },
   {
    "duration": 39,
    "start_time": "2021-07-19T13:11:59.443Z"
   },
   {
    "duration": 57,
    "start_time": "2021-07-19T13:11:59.485Z"
   },
   {
    "duration": 967,
    "start_time": "2021-07-19T13:11:59.545Z"
   },
   {
    "duration": 9,
    "start_time": "2021-07-19T13:12:00.514Z"
   },
   {
    "duration": 23,
    "start_time": "2021-07-19T13:12:00.528Z"
   },
   {
    "duration": 29,
    "start_time": "2021-07-19T13:12:00.554Z"
   },
   {
    "duration": 36,
    "start_time": "2021-07-19T13:12:00.586Z"
   },
   {
    "duration": 1082,
    "start_time": "2021-07-19T13:12:00.625Z"
   },
   {
    "duration": 879,
    "start_time": "2021-07-19T13:12:01.710Z"
   },
   {
    "duration": 822,
    "start_time": "2021-07-19T13:12:02.591Z"
   },
   {
    "duration": 47,
    "start_time": "2021-07-19T13:12:03.415Z"
   },
   {
    "duration": 600,
    "start_time": "2021-07-19T13:12:03.465Z"
   },
   {
    "duration": 516,
    "start_time": "2021-07-19T13:12:04.067Z"
   },
   {
    "duration": 626,
    "start_time": "2021-07-19T13:12:04.585Z"
   },
   {
    "duration": 5,
    "start_time": "2021-07-19T13:12:05.213Z"
   },
   {
    "duration": 817,
    "start_time": "2021-07-19T13:12:05.220Z"
   },
   {
    "duration": 17,
    "start_time": "2021-07-19T13:12:06.039Z"
   },
   {
    "duration": 28,
    "start_time": "2021-07-19T13:12:06.058Z"
   },
   {
    "duration": 52,
    "start_time": "2021-07-19T13:12:06.088Z"
   },
   {
    "duration": 62,
    "start_time": "2021-07-19T13:12:06.143Z"
   },
   {
    "duration": 141,
    "start_time": "2021-07-19T13:12:06.207Z"
   },
   {
    "duration": 467,
    "start_time": "2021-07-19T13:13:20.518Z"
   },
   {
    "duration": 18,
    "start_time": "2021-07-19T13:13:45.187Z"
   },
   {
    "duration": 25,
    "start_time": "2021-07-19T13:13:57.016Z"
   },
   {
    "duration": 358,
    "start_time": "2021-07-19T13:14:39.543Z"
   },
   {
    "duration": 25,
    "start_time": "2021-07-19T13:14:52.108Z"
   },
   {
    "duration": 57,
    "start_time": "2021-07-19T13:15:23.389Z"
   },
   {
    "duration": 40,
    "start_time": "2021-07-19T13:15:43.910Z"
   },
   {
    "duration": 34,
    "start_time": "2021-07-19T13:16:47.122Z"
   },
   {
    "duration": 33,
    "start_time": "2021-07-19T13:16:52.139Z"
   },
   {
    "duration": 39,
    "start_time": "2021-07-19T13:16:58.764Z"
   },
   {
    "duration": 45,
    "start_time": "2021-07-19T13:18:58.515Z"
   },
   {
    "duration": 41,
    "start_time": "2021-07-19T13:19:24.864Z"
   },
   {
    "duration": 39,
    "start_time": "2021-07-19T13:20:57.854Z"
   },
   {
    "duration": 49,
    "start_time": "2021-07-19T13:21:46.781Z"
   },
   {
    "duration": 382,
    "start_time": "2021-07-19T13:23:04.909Z"
   },
   {
    "duration": 51,
    "start_time": "2021-07-19T13:23:21.226Z"
   },
   {
    "duration": 42,
    "start_time": "2021-07-19T13:23:33.457Z"
   },
   {
    "duration": 282,
    "start_time": "2021-07-19T13:24:58.346Z"
   },
   {
    "duration": 289,
    "start_time": "2021-07-19T13:25:23.456Z"
   },
   {
    "duration": 378,
    "start_time": "2021-07-19T13:25:41.851Z"
   },
   {
    "duration": 271,
    "start_time": "2021-07-19T13:25:53.202Z"
   },
   {
    "duration": 403,
    "start_time": "2021-07-19T13:26:16.975Z"
   },
   {
    "duration": 372,
    "start_time": "2021-07-19T13:26:27.153Z"
   },
   {
    "duration": 348,
    "start_time": "2021-07-19T13:26:33.071Z"
   },
   {
    "duration": 354,
    "start_time": "2021-07-19T13:26:42.759Z"
   },
   {
    "duration": 339,
    "start_time": "2021-07-19T13:27:41.867Z"
   },
   {
    "duration": 449,
    "start_time": "2021-07-19T13:28:01.666Z"
   },
   {
    "duration": 351,
    "start_time": "2021-07-19T13:28:08.520Z"
   },
   {
    "duration": 369,
    "start_time": "2021-07-19T13:28:12.983Z"
   },
   {
    "duration": 404,
    "start_time": "2021-07-19T13:28:16.459Z"
   },
   {
    "duration": 948,
    "start_time": "2021-07-19T13:32:52.979Z"
   },
   {
    "duration": 366,
    "start_time": "2021-07-19T13:33:06.375Z"
   },
   {
    "duration": 115,
    "start_time": "2021-07-19T13:34:10.252Z"
   },
   {
    "duration": 119,
    "start_time": "2021-07-19T13:34:16.765Z"
   },
   {
    "duration": 544,
    "start_time": "2021-07-19T13:34:22.638Z"
   },
   {
    "duration": 49,
    "start_time": "2021-07-19T13:43:19.562Z"
   },
   {
    "duration": 50,
    "start_time": "2021-07-19T13:43:52.394Z"
   },
   {
    "duration": 50,
    "start_time": "2021-07-19T13:43:58.350Z"
   },
   {
    "duration": 114,
    "start_time": "2021-07-19T13:44:27.884Z"
   },
   {
    "duration": 34,
    "start_time": "2021-07-19T13:44:36.589Z"
   },
   {
    "duration": 34,
    "start_time": "2021-07-19T13:44:41.639Z"
   },
   {
    "duration": 36,
    "start_time": "2021-07-19T13:44:54.825Z"
   },
   {
    "duration": 326,
    "start_time": "2021-07-19T13:45:11.854Z"
   },
   {
    "duration": 323,
    "start_time": "2021-07-19T13:45:25.903Z"
   },
   {
    "duration": 315,
    "start_time": "2021-07-19T13:45:44.709Z"
   },
   {
    "duration": 306,
    "start_time": "2021-07-19T13:46:44.827Z"
   },
   {
    "duration": 297,
    "start_time": "2021-07-19T13:46:55.528Z"
   },
   {
    "duration": 297,
    "start_time": "2021-07-19T13:47:35.724Z"
   },
   {
    "duration": 334,
    "start_time": "2021-07-19T13:53:40.193Z"
   },
   {
    "duration": 40,
    "start_time": "2021-07-19T13:53:46.163Z"
   },
   {
    "duration": 7,
    "start_time": "2021-07-19T13:55:21.890Z"
   },
   {
    "duration": 10,
    "start_time": "2021-07-19T13:55:42.117Z"
   },
   {
    "duration": 12,
    "start_time": "2021-07-19T13:56:09.545Z"
   },
   {
    "duration": 11,
    "start_time": "2021-07-19T13:56:18.197Z"
   },
   {
    "duration": 152,
    "start_time": "2021-07-19T13:58:22.174Z"
   },
   {
    "duration": 4623,
    "start_time": "2021-07-19T13:58:29.653Z"
   },
   {
    "duration": 11,
    "start_time": "2021-07-19T13:58:38.620Z"
   },
   {
    "duration": 352,
    "start_time": "2021-07-19T13:59:27.682Z"
   },
   {
    "duration": 65,
    "start_time": "2021-07-19T13:59:30.449Z"
   },
   {
    "duration": 334,
    "start_time": "2021-07-19T13:59:47.051Z"
   },
   {
    "duration": 55,
    "start_time": "2021-07-19T13:59:52.129Z"
   },
   {
    "duration": 35,
    "start_time": "2021-07-19T13:59:56.191Z"
   },
   {
    "duration": 75,
    "start_time": "2021-07-19T14:00:20.807Z"
   },
   {
    "duration": 1363,
    "start_time": "2021-07-19T14:03:18.432Z"
   },
   {
    "duration": 34,
    "start_time": "2021-07-19T14:03:33.759Z"
   },
   {
    "duration": 349,
    "start_time": "2021-07-19T14:03:58.755Z"
   },
   {
    "duration": 35,
    "start_time": "2021-07-19T14:04:13.220Z"
   },
   {
    "duration": 357,
    "start_time": "2021-07-19T14:05:17.919Z"
   },
   {
    "duration": 37,
    "start_time": "2021-07-19T14:05:55.169Z"
   },
   {
    "duration": 35,
    "start_time": "2021-07-19T14:06:26.510Z"
   },
   {
    "duration": 38,
    "start_time": "2021-07-19T14:06:41.741Z"
   },
   {
    "duration": 38,
    "start_time": "2021-07-19T14:06:45.106Z"
   },
   {
    "duration": 39,
    "start_time": "2021-07-19T14:06:54.646Z"
   },
   {
    "duration": 40,
    "start_time": "2021-07-19T14:07:04.042Z"
   },
   {
    "duration": 38,
    "start_time": "2021-07-19T14:07:45.285Z"
   },
   {
    "duration": 343,
    "start_time": "2021-07-19T14:08:18.708Z"
   },
   {
    "duration": 295,
    "start_time": "2021-07-19T14:08:24.430Z"
   },
   {
    "duration": 38,
    "start_time": "2021-07-19T14:08:39.487Z"
   },
   {
    "duration": 36,
    "start_time": "2021-07-19T14:08:44.449Z"
   },
   {
    "duration": 351,
    "start_time": "2021-07-19T14:19:37.847Z"
   },
   {
    "duration": 54,
    "start_time": "2021-07-19T14:19:41.905Z"
   },
   {
    "duration": 6,
    "start_time": "2021-07-19T14:20:11.934Z"
   },
   {
    "duration": 7,
    "start_time": "2021-07-19T14:20:31.770Z"
   },
   {
    "duration": 5,
    "start_time": "2021-07-19T14:21:49.633Z"
   },
   {
    "duration": 57,
    "start_time": "2021-07-19T14:21:53.467Z"
   },
   {
    "duration": 399,
    "start_time": "2021-07-19T14:24:10.083Z"
   },
   {
    "duration": 363,
    "start_time": "2021-07-19T14:24:19.032Z"
   },
   {
    "duration": 6,
    "start_time": "2021-07-19T14:24:26.953Z"
   },
   {
    "duration": 15,
    "start_time": "2021-07-19T14:26:25.370Z"
   },
   {
    "duration": 9,
    "start_time": "2021-07-19T14:26:42.898Z"
   },
   {
    "duration": 12,
    "start_time": "2021-07-19T14:26:56.787Z"
   },
   {
    "duration": 10,
    "start_time": "2021-07-19T14:27:23.420Z"
   },
   {
    "duration": 356,
    "start_time": "2021-07-19T14:27:52.569Z"
   },
   {
    "duration": 422,
    "start_time": "2021-07-19T14:28:00.190Z"
   },
   {
    "duration": 464,
    "start_time": "2021-07-19T14:28:14.282Z"
   },
   {
    "duration": 9,
    "start_time": "2021-07-19T14:28:18.891Z"
   },
   {
    "duration": 402,
    "start_time": "2021-07-19T14:28:23.731Z"
   },
   {
    "duration": 11,
    "start_time": "2021-07-19T14:28:38.375Z"
   },
   {
    "duration": 378,
    "start_time": "2021-07-19T14:29:20.120Z"
   },
   {
    "duration": 380,
    "start_time": "2021-07-19T14:29:33.587Z"
   },
   {
    "duration": 352,
    "start_time": "2021-07-19T14:31:43.533Z"
   },
   {
    "duration": 335,
    "start_time": "2021-07-19T14:32:10.955Z"
   },
   {
    "duration": 459,
    "start_time": "2021-07-19T14:32:17.826Z"
   },
   {
    "duration": 362,
    "start_time": "2021-07-19T14:32:24.587Z"
   },
   {
    "duration": 347,
    "start_time": "2021-07-19T14:34:09.720Z"
   },
   {
    "duration": 885,
    "start_time": "2021-07-19T14:35:37.595Z"
   },
   {
    "duration": 18,
    "start_time": "2021-07-19T14:35:38.483Z"
   },
   {
    "duration": 49,
    "start_time": "2021-07-19T14:35:38.504Z"
   },
   {
    "duration": 137,
    "start_time": "2021-07-19T14:35:38.556Z"
   },
   {
    "duration": 9,
    "start_time": "2021-07-19T14:35:38.695Z"
   },
   {
    "duration": 21,
    "start_time": "2021-07-19T14:35:38.707Z"
   },
   {
    "duration": 11,
    "start_time": "2021-07-19T14:35:38.730Z"
   },
   {
    "duration": 73,
    "start_time": "2021-07-19T14:35:38.745Z"
   },
   {
    "duration": 26,
    "start_time": "2021-07-19T14:35:38.821Z"
   },
   {
    "duration": 87,
    "start_time": "2021-07-19T14:35:38.850Z"
   },
   {
    "duration": 7,
    "start_time": "2021-07-19T14:35:38.940Z"
   },
   {
    "duration": 36,
    "start_time": "2021-07-19T14:35:38.950Z"
   },
   {
    "duration": 6,
    "start_time": "2021-07-19T14:35:38.988Z"
   },
   {
    "duration": 28,
    "start_time": "2021-07-19T14:35:38.997Z"
   },
   {
    "duration": 18,
    "start_time": "2021-07-19T14:35:39.028Z"
   },
   {
    "duration": 40,
    "start_time": "2021-07-19T14:35:39.048Z"
   },
   {
    "duration": 3,
    "start_time": "2021-07-19T14:35:39.090Z"
   },
   {
    "duration": 40,
    "start_time": "2021-07-19T14:35:39.096Z"
   },
   {
    "duration": 12,
    "start_time": "2021-07-19T14:35:39.138Z"
   },
   {
    "duration": 71,
    "start_time": "2021-07-19T14:35:39.153Z"
   },
   {
    "duration": 1031,
    "start_time": "2021-07-19T14:35:39.227Z"
   },
   {
    "duration": 22,
    "start_time": "2021-07-19T14:35:40.260Z"
   },
   {
    "duration": 14,
    "start_time": "2021-07-19T14:35:40.287Z"
   },
   {
    "duration": 10,
    "start_time": "2021-07-19T14:35:40.305Z"
   },
   {
    "duration": 74,
    "start_time": "2021-07-19T14:35:40.318Z"
   },
   {
    "duration": 53,
    "start_time": "2021-07-19T14:35:40.395Z"
   },
   {
    "duration": 1544,
    "start_time": "2021-07-19T14:35:40.451Z"
   },
   {
    "duration": 945,
    "start_time": "2021-07-19T14:35:41.998Z"
   },
   {
    "duration": 949,
    "start_time": "2021-07-19T14:35:42.946Z"
   },
   {
    "duration": 47,
    "start_time": "2021-07-19T14:35:43.897Z"
   },
   {
    "duration": 639,
    "start_time": "2021-07-19T14:35:43.947Z"
   },
   {
    "duration": 534,
    "start_time": "2021-07-19T14:35:44.588Z"
   },
   {
    "duration": 779,
    "start_time": "2021-07-19T14:35:45.125Z"
   },
   {
    "duration": 6,
    "start_time": "2021-07-19T14:35:45.907Z"
   },
   {
    "duration": 945,
    "start_time": "2021-07-19T14:35:45.916Z"
   },
   {
    "duration": 25,
    "start_time": "2021-07-19T14:35:46.864Z"
   },
   {
    "duration": 12,
    "start_time": "2021-07-19T14:35:46.891Z"
   },
   {
    "duration": 11,
    "start_time": "2021-07-19T14:35:46.906Z"
   },
   {
    "duration": 104,
    "start_time": "2021-07-19T14:35:46.919Z"
   },
   {
    "duration": 61,
    "start_time": "2021-07-19T14:35:47.026Z"
   },
   {
    "duration": 54,
    "start_time": "2021-07-19T14:35:47.090Z"
   },
   {
    "duration": 350,
    "start_time": "2021-07-19T14:35:47.147Z"
   },
   {
    "duration": 99,
    "start_time": "2021-07-19T14:35:47.500Z"
   },
   {
    "duration": 98,
    "start_time": "2021-07-19T14:35:47.504Z"
   },
   {
    "duration": 41,
    "start_time": "2021-07-19T14:35:47.563Z"
   },
   {
    "duration": 33,
    "start_time": "2021-07-19T14:35:47.573Z"
   },
   {
    "duration": 27,
    "start_time": "2021-07-19T14:35:47.581Z"
   },
   {
    "duration": 24,
    "start_time": "2021-07-19T14:35:47.586Z"
   },
   {
    "duration": 9,
    "start_time": "2021-07-19T14:35:47.603Z"
   },
   {
    "duration": 483,
    "start_time": "2021-07-19T14:36:42.896Z"
   },
   {
    "duration": 479,
    "start_time": "2021-07-19T14:41:05.608Z"
   },
   {
    "duration": 362,
    "start_time": "2021-07-19T14:41:25.407Z"
   },
   {
    "duration": 395,
    "start_time": "2021-07-19T14:42:14.145Z"
   },
   {
    "duration": 498,
    "start_time": "2021-07-19T14:42:51.992Z"
   },
   {
    "duration": 14,
    "start_time": "2021-07-19T14:46:27.878Z"
   },
   {
    "duration": 59,
    "start_time": "2021-07-19T14:46:34.435Z"
   },
   {
    "duration": 43,
    "start_time": "2021-07-19T14:46:52.211Z"
   },
   {
    "duration": 13,
    "start_time": "2021-07-19T14:52:43.268Z"
   },
   {
    "duration": 14,
    "start_time": "2021-07-19T14:53:30.429Z"
   },
   {
    "duration": 348,
    "start_time": "2021-07-19T14:54:54.940Z"
   },
   {
    "duration": 454,
    "start_time": "2021-07-19T14:55:11.053Z"
   },
   {
    "duration": 22,
    "start_time": "2021-07-19T14:55:33.258Z"
   },
   {
    "duration": 22,
    "start_time": "2021-07-19T14:55:44.337Z"
   },
   {
    "duration": 33,
    "start_time": "2021-07-19T14:55:58.896Z"
   },
   {
    "duration": 48,
    "start_time": "2021-07-19T14:56:28.074Z"
   },
   {
    "duration": 1460,
    "start_time": "2021-07-19T14:56:56.407Z"
   },
   {
    "duration": 368,
    "start_time": "2021-07-19T14:57:44.263Z"
   },
   {
    "duration": 39,
    "start_time": "2021-07-19T14:58:32.303Z"
   },
   {
    "duration": 1604,
    "start_time": "2021-07-19T15:01:40.672Z"
   },
   {
    "duration": 1085,
    "start_time": "2021-07-19T15:01:50.269Z"
   },
   {
    "duration": 849,
    "start_time": "2021-07-19T15:01:53.003Z"
   },
   {
    "duration": 367,
    "start_time": "2021-07-19T15:01:56.590Z"
   },
   {
    "duration": 1418,
    "start_time": "2021-07-19T15:02:00.686Z"
   },
   {
    "duration": 38,
    "start_time": "2021-07-19T15:02:06.116Z"
   },
   {
    "duration": 37,
    "start_time": "2021-07-19T15:02:25.157Z"
   },
   {
    "duration": 37,
    "start_time": "2021-07-19T15:02:49.095Z"
   },
   {
    "duration": 36,
    "start_time": "2021-07-19T15:03:10.730Z"
   },
   {
    "duration": 38,
    "start_time": "2021-07-19T15:04:39.111Z"
   },
   {
    "duration": 41,
    "start_time": "2021-07-19T15:04:43.488Z"
   },
   {
    "duration": 39,
    "start_time": "2021-07-19T15:05:46.829Z"
   },
   {
    "duration": 66,
    "start_time": "2021-07-19T15:06:36.299Z"
   },
   {
    "duration": 39,
    "start_time": "2021-07-19T15:06:44.448Z"
   },
   {
    "duration": 44,
    "start_time": "2021-07-19T15:07:14.971Z"
   },
   {
    "duration": 43,
    "start_time": "2021-07-19T15:08:49.723Z"
   },
   {
    "duration": 338,
    "start_time": "2021-07-19T15:09:37.305Z"
   },
   {
    "duration": 331,
    "start_time": "2021-07-19T15:09:45.645Z"
   },
   {
    "duration": 324,
    "start_time": "2021-07-19T15:10:04.496Z"
   },
   {
    "duration": 345,
    "start_time": "2021-07-19T15:10:21.067Z"
   },
   {
    "duration": 433,
    "start_time": "2021-07-19T15:10:30.966Z"
   },
   {
    "duration": 342,
    "start_time": "2021-07-19T15:10:36.459Z"
   },
   {
    "duration": 326,
    "start_time": "2021-07-19T15:11:13.087Z"
   },
   {
    "duration": 310,
    "start_time": "2021-07-19T15:11:20.601Z"
   },
   {
    "duration": 330,
    "start_time": "2021-07-19T15:11:25.824Z"
   },
   {
    "duration": 538,
    "start_time": "2021-07-19T15:11:32.506Z"
   },
   {
    "duration": 340,
    "start_time": "2021-07-19T15:11:37.615Z"
   },
   {
    "duration": 332,
    "start_time": "2021-07-19T15:12:01.181Z"
   },
   {
    "duration": 324,
    "start_time": "2021-07-19T15:12:05.793Z"
   },
   {
    "duration": 322,
    "start_time": "2021-07-19T15:12:09.550Z"
   },
   {
    "duration": 502,
    "start_time": "2021-07-19T15:12:42.436Z"
   },
   {
    "duration": 127,
    "start_time": "2021-07-19T15:12:48.143Z"
   },
   {
    "duration": 307,
    "start_time": "2021-07-19T15:12:52.570Z"
   },
   {
    "duration": 312,
    "start_time": "2021-07-19T15:13:08.861Z"
   },
   {
    "duration": 309,
    "start_time": "2021-07-19T15:13:19.491Z"
   },
   {
    "duration": 433,
    "start_time": "2021-07-19T15:14:36.365Z"
   },
   {
    "duration": 405,
    "start_time": "2021-07-19T15:16:18.045Z"
   },
   {
    "duration": 893,
    "start_time": "2021-07-20T12:17:40.025Z"
   },
   {
    "duration": 15,
    "start_time": "2021-07-20T12:17:40.921Z"
   },
   {
    "duration": 50,
    "start_time": "2021-07-20T12:17:40.955Z"
   },
   {
    "duration": 126,
    "start_time": "2021-07-20T12:17:41.008Z"
   },
   {
    "duration": 18,
    "start_time": "2021-07-20T12:17:41.136Z"
   },
   {
    "duration": 21,
    "start_time": "2021-07-20T12:17:41.157Z"
   },
   {
    "duration": 13,
    "start_time": "2021-07-20T12:17:41.181Z"
   },
   {
    "duration": 70,
    "start_time": "2021-07-20T12:17:41.199Z"
   },
   {
    "duration": 25,
    "start_time": "2021-07-20T12:17:41.272Z"
   },
   {
    "duration": 69,
    "start_time": "2021-07-20T12:17:41.300Z"
   },
   {
    "duration": 7,
    "start_time": "2021-07-20T12:17:41.372Z"
   },
   {
    "duration": 27,
    "start_time": "2021-07-20T12:17:41.381Z"
   },
   {
    "duration": 16,
    "start_time": "2021-07-20T12:17:41.411Z"
   },
   {
    "duration": 41,
    "start_time": "2021-07-20T12:17:41.430Z"
   },
   {
    "duration": 28,
    "start_time": "2021-07-20T12:17:41.474Z"
   },
   {
    "duration": 10,
    "start_time": "2021-07-20T12:17:41.504Z"
   },
   {
    "duration": 22,
    "start_time": "2021-07-20T12:17:41.516Z"
   },
   {
    "duration": 62,
    "start_time": "2021-07-20T12:17:41.540Z"
   },
   {
    "duration": 12,
    "start_time": "2021-07-20T12:17:41.604Z"
   },
   {
    "duration": 70,
    "start_time": "2021-07-20T12:17:41.619Z"
   },
   {
    "duration": 994,
    "start_time": "2021-07-20T12:17:41.692Z"
   },
   {
    "duration": 10,
    "start_time": "2021-07-20T12:17:42.688Z"
   },
   {
    "duration": 13,
    "start_time": "2021-07-20T12:17:42.704Z"
   },
   {
    "duration": 40,
    "start_time": "2021-07-20T12:17:42.721Z"
   },
   {
    "duration": 37,
    "start_time": "2021-07-20T12:17:42.764Z"
   },
   {
    "duration": 82,
    "start_time": "2021-07-20T12:17:42.804Z"
   },
   {
    "duration": 971,
    "start_time": "2021-07-20T12:17:42.890Z"
   },
   {
    "duration": 872,
    "start_time": "2021-07-20T12:17:43.863Z"
   },
   {
    "duration": 820,
    "start_time": "2021-07-20T12:17:44.737Z"
   },
   {
    "duration": 47,
    "start_time": "2021-07-20T12:17:45.560Z"
   },
   {
    "duration": 586,
    "start_time": "2021-07-20T12:17:45.609Z"
   },
   {
    "duration": 516,
    "start_time": "2021-07-20T12:17:46.197Z"
   },
   {
    "duration": 654,
    "start_time": "2021-07-20T12:17:46.715Z"
   },
   {
    "duration": 6,
    "start_time": "2021-07-20T12:17:47.372Z"
   },
   {
    "duration": 818,
    "start_time": "2021-07-20T12:17:47.380Z"
   },
   {
    "duration": 18,
    "start_time": "2021-07-20T12:17:48.201Z"
   },
   {
    "duration": 36,
    "start_time": "2021-07-20T12:17:48.222Z"
   },
   {
    "duration": 12,
    "start_time": "2021-07-20T12:17:48.261Z"
   },
   {
    "duration": 87,
    "start_time": "2021-07-20T12:17:48.276Z"
   },
   {
    "duration": 34,
    "start_time": "2021-07-20T12:17:48.366Z"
   },
   {
    "duration": 61,
    "start_time": "2021-07-20T12:17:48.403Z"
   },
   {
    "duration": 302,
    "start_time": "2021-07-20T12:17:48.467Z"
   },
   {
    "duration": 376,
    "start_time": "2021-07-20T12:17:48.771Z"
   },
   {
    "duration": 350,
    "start_time": "2021-07-20T12:17:49.150Z"
   },
   {
    "duration": 317,
    "start_time": "2021-07-20T12:17:49.502Z"
   },
   {
    "duration": 322,
    "start_time": "2021-07-20T12:17:49.823Z"
   },
   {
    "duration": 37,
    "start_time": "2021-07-20T12:17:50.149Z"
   },
   {
    "duration": 379,
    "start_time": "2021-07-20T12:17:50.189Z"
   },
   {
    "duration": 45,
    "start_time": "2021-07-20T12:17:50.571Z"
   },
   {
    "duration": 65,
    "start_time": "2021-07-20T12:17:50.620Z"
   },
   {
    "duration": 69,
    "start_time": "2021-07-20T12:17:50.688Z"
   },
   {
    "duration": 38,
    "start_time": "2021-07-20T12:17:50.760Z"
   },
   {
    "duration": 68,
    "start_time": "2021-07-20T12:17:50.800Z"
   },
   {
    "duration": 102,
    "start_time": "2021-07-20T12:17:50.870Z"
   },
   {
    "duration": -323,
    "start_time": "2021-07-20T12:17:51.298Z"
   },
   {
    "duration": -335,
    "start_time": "2021-07-20T12:17:51.312Z"
   },
   {
    "duration": -380,
    "start_time": "2021-07-20T12:17:51.359Z"
   },
   {
    "duration": -405,
    "start_time": "2021-07-20T12:17:51.386Z"
   },
   {
    "duration": 35,
    "start_time": "2021-07-20T12:20:02.405Z"
   },
   {
    "duration": 37,
    "start_time": "2021-07-20T12:20:18.206Z"
   },
   {
    "duration": 856,
    "start_time": "2021-07-20T12:20:25.950Z"
   },
   {
    "duration": 15,
    "start_time": "2021-07-20T12:20:26.809Z"
   },
   {
    "duration": 62,
    "start_time": "2021-07-20T12:20:26.828Z"
   },
   {
    "duration": 123,
    "start_time": "2021-07-20T12:20:26.893Z"
   },
   {
    "duration": 9,
    "start_time": "2021-07-20T12:20:27.018Z"
   },
   {
    "duration": 38,
    "start_time": "2021-07-20T12:20:27.029Z"
   },
   {
    "duration": 12,
    "start_time": "2021-07-20T12:20:27.070Z"
   },
   {
    "duration": 68,
    "start_time": "2021-07-20T12:20:27.086Z"
   },
   {
    "duration": 25,
    "start_time": "2021-07-20T12:20:27.158Z"
   },
   {
    "duration": 68,
    "start_time": "2021-07-20T12:20:27.186Z"
   },
   {
    "duration": 7,
    "start_time": "2021-07-20T12:20:27.256Z"
   },
   {
    "duration": 18,
    "start_time": "2021-07-20T12:20:27.265Z"
   },
   {
    "duration": 7,
    "start_time": "2021-07-20T12:20:27.286Z"
   },
   {
    "duration": 48,
    "start_time": "2021-07-20T12:20:27.295Z"
   },
   {
    "duration": 18,
    "start_time": "2021-07-20T12:20:27.346Z"
   },
   {
    "duration": 9,
    "start_time": "2021-07-20T12:20:27.366Z"
   },
   {
    "duration": 7,
    "start_time": "2021-07-20T12:20:27.377Z"
   },
   {
    "duration": 51,
    "start_time": "2021-07-20T12:20:27.386Z"
   },
   {
    "duration": 27,
    "start_time": "2021-07-20T12:20:27.440Z"
   },
   {
    "duration": 52,
    "start_time": "2021-07-20T12:20:27.469Z"
   },
   {
    "duration": 1444,
    "start_time": "2021-07-20T12:20:27.523Z"
   },
   {
    "duration": 11,
    "start_time": "2021-07-20T12:20:28.970Z"
   },
   {
    "duration": 24,
    "start_time": "2021-07-20T12:20:28.991Z"
   },
   {
    "duration": 38,
    "start_time": "2021-07-20T12:20:29.020Z"
   },
   {
    "duration": 59,
    "start_time": "2021-07-20T12:20:29.061Z"
   },
   {
    "duration": 103,
    "start_time": "2021-07-20T12:20:29.123Z"
   },
   {
    "duration": 1009,
    "start_time": "2021-07-20T12:20:29.230Z"
   },
   {
    "duration": 1012,
    "start_time": "2021-07-20T12:20:30.242Z"
   },
   {
    "duration": 837,
    "start_time": "2021-07-20T12:20:31.256Z"
   },
   {
    "duration": 60,
    "start_time": "2021-07-20T12:20:32.096Z"
   },
   {
    "duration": 599,
    "start_time": "2021-07-20T12:20:32.158Z"
   },
   {
    "duration": 567,
    "start_time": "2021-07-20T12:20:32.759Z"
   },
   {
    "duration": 671,
    "start_time": "2021-07-20T12:20:33.329Z"
   },
   {
    "duration": 5,
    "start_time": "2021-07-20T12:20:34.003Z"
   },
   {
    "duration": 847,
    "start_time": "2021-07-20T12:20:34.010Z"
   },
   {
    "duration": 17,
    "start_time": "2021-07-20T12:20:34.859Z"
   },
   {
    "duration": 8,
    "start_time": "2021-07-20T12:20:34.878Z"
   },
   {
    "duration": 9,
    "start_time": "2021-07-20T12:20:34.888Z"
   },
   {
    "duration": 91,
    "start_time": "2021-07-20T12:20:34.899Z"
   },
   {
    "duration": 34,
    "start_time": "2021-07-20T12:20:34.992Z"
   },
   {
    "duration": 63,
    "start_time": "2021-07-20T12:20:35.028Z"
   },
   {
    "duration": 307,
    "start_time": "2021-07-20T12:20:35.094Z"
   },
   {
    "duration": 387,
    "start_time": "2021-07-20T12:20:35.403Z"
   },
   {
    "duration": 339,
    "start_time": "2021-07-20T12:20:35.793Z"
   },
   {
    "duration": 323,
    "start_time": "2021-07-20T12:20:36.134Z"
   },
   {
    "duration": 359,
    "start_time": "2021-07-20T12:20:36.459Z"
   },
   {
    "duration": 81,
    "start_time": "2021-07-20T12:20:36.827Z"
   },
   {
    "duration": 439,
    "start_time": "2021-07-20T12:20:36.918Z"
   },
   {
    "duration": 44,
    "start_time": "2021-07-20T12:20:37.360Z"
   },
   {
    "duration": 66,
    "start_time": "2021-07-20T12:20:37.407Z"
   },
   {
    "duration": 37,
    "start_time": "2021-07-20T12:20:37.476Z"
   },
   {
    "duration": 64,
    "start_time": "2021-07-20T12:20:37.515Z"
   },
   {
    "duration": 40,
    "start_time": "2021-07-20T12:20:37.581Z"
   },
   {
    "duration": 96,
    "start_time": "2021-07-20T12:20:37.623Z"
   },
   {
    "duration": 197,
    "start_time": "2021-07-20T12:20:37.525Z"
   },
   {
    "duration": 192,
    "start_time": "2021-07-20T12:20:37.531Z"
   },
   {
    "duration": 186,
    "start_time": "2021-07-20T12:20:37.538Z"
   },
   {
    "duration": 184,
    "start_time": "2021-07-20T12:20:37.542Z"
   },
   {
    "duration": 37,
    "start_time": "2021-07-20T12:20:38.434Z"
   },
   {
    "duration": 35,
    "start_time": "2021-07-20T12:20:41.500Z"
   },
   {
    "duration": 848,
    "start_time": "2021-07-20T12:20:48.150Z"
   },
   {
    "duration": 17,
    "start_time": "2021-07-20T12:20:49.000Z"
   },
   {
    "duration": 61,
    "start_time": "2021-07-20T12:20:49.020Z"
   },
   {
    "duration": 121,
    "start_time": "2021-07-20T12:20:49.084Z"
   },
   {
    "duration": 8,
    "start_time": "2021-07-20T12:20:49.208Z"
   },
   {
    "duration": 43,
    "start_time": "2021-07-20T12:20:49.219Z"
   },
   {
    "duration": 12,
    "start_time": "2021-07-20T12:20:49.264Z"
   },
   {
    "duration": 48,
    "start_time": "2021-07-20T12:20:49.280Z"
   },
   {
    "duration": 25,
    "start_time": "2021-07-20T12:20:49.355Z"
   },
   {
    "duration": 41,
    "start_time": "2021-07-20T12:20:49.383Z"
   },
   {
    "duration": 7,
    "start_time": "2021-07-20T12:20:49.455Z"
   },
   {
    "duration": 17,
    "start_time": "2021-07-20T12:20:49.465Z"
   },
   {
    "duration": 7,
    "start_time": "2021-07-20T12:20:49.484Z"
   },
   {
    "duration": 27,
    "start_time": "2021-07-20T12:20:49.493Z"
   },
   {
    "duration": 20,
    "start_time": "2021-07-20T12:20:49.555Z"
   },
   {
    "duration": 10,
    "start_time": "2021-07-20T12:20:49.578Z"
   },
   {
    "duration": 4,
    "start_time": "2021-07-20T12:20:49.590Z"
   },
   {
    "duration": 72,
    "start_time": "2021-07-20T12:20:49.596Z"
   },
   {
    "duration": 10,
    "start_time": "2021-07-20T12:20:49.670Z"
   },
   {
    "duration": 49,
    "start_time": "2021-07-20T12:20:49.683Z"
   },
   {
    "duration": 989,
    "start_time": "2021-07-20T12:20:49.754Z"
   },
   {
    "duration": 14,
    "start_time": "2021-07-20T12:20:50.746Z"
   },
   {
    "duration": 14,
    "start_time": "2021-07-20T12:20:50.766Z"
   },
   {
    "duration": 12,
    "start_time": "2021-07-20T12:20:50.783Z"
   },
   {
    "duration": 75,
    "start_time": "2021-07-20T12:20:50.798Z"
   },
   {
    "duration": 52,
    "start_time": "2021-07-20T12:20:50.876Z"
   },
   {
    "duration": 979,
    "start_time": "2021-07-20T12:20:50.930Z"
   },
   {
    "duration": 899,
    "start_time": "2021-07-20T12:20:51.911Z"
   },
   {
    "duration": 838,
    "start_time": "2021-07-20T12:20:52.812Z"
   },
   {
    "duration": 48,
    "start_time": "2021-07-20T12:20:53.654Z"
   },
   {
    "duration": 619,
    "start_time": "2021-07-20T12:20:53.705Z"
   },
   {
    "duration": 615,
    "start_time": "2021-07-20T12:20:54.327Z"
   },
   {
    "duration": 645,
    "start_time": "2021-07-20T12:20:54.945Z"
   },
   {
    "duration": 6,
    "start_time": "2021-07-20T12:20:55.593Z"
   },
   {
    "duration": 958,
    "start_time": "2021-07-20T12:20:55.601Z"
   },
   {
    "duration": 17,
    "start_time": "2021-07-20T12:20:56.562Z"
   },
   {
    "duration": 9,
    "start_time": "2021-07-20T12:20:56.582Z"
   },
   {
    "duration": 9,
    "start_time": "2021-07-20T12:20:56.594Z"
   },
   {
    "duration": 96,
    "start_time": "2021-07-20T12:20:56.606Z"
   },
   {
    "duration": 34,
    "start_time": "2021-07-20T12:20:56.704Z"
   },
   {
    "duration": 40,
    "start_time": "2021-07-20T12:20:56.755Z"
   },
   {
    "duration": 334,
    "start_time": "2021-07-20T12:20:56.797Z"
   },
   {
    "duration": 386,
    "start_time": "2021-07-20T12:20:57.133Z"
   },
   {
    "duration": 333,
    "start_time": "2021-07-20T12:20:57.521Z"
   },
   {
    "duration": 325,
    "start_time": "2021-07-20T12:20:57.857Z"
   },
   {
    "duration": 333,
    "start_time": "2021-07-20T12:20:58.184Z"
   },
   {
    "duration": 46,
    "start_time": "2021-07-20T12:20:58.519Z"
   },
   {
    "duration": 369,
    "start_time": "2021-07-20T12:20:58.568Z"
   },
   {
    "duration": 50,
    "start_time": "2021-07-20T12:20:58.939Z"
   },
   {
    "duration": 36,
    "start_time": "2021-07-20T12:20:58.992Z"
   },
   {
    "duration": 57,
    "start_time": "2021-07-20T12:20:59.030Z"
   },
   {
    "duration": 37,
    "start_time": "2021-07-20T12:20:59.089Z"
   },
   {
    "duration": 42,
    "start_time": "2021-07-20T12:20:59.155Z"
   },
   {
    "duration": 96,
    "start_time": "2021-07-20T12:20:59.199Z"
   },
   {
    "duration": 252,
    "start_time": "2021-07-20T12:20:59.046Z"
   },
   {
    "duration": 248,
    "start_time": "2021-07-20T12:20:59.051Z"
   },
   {
    "duration": 243,
    "start_time": "2021-07-20T12:20:59.058Z"
   },
   {
    "duration": 239,
    "start_time": "2021-07-20T12:20:59.063Z"
   },
   {
    "duration": 11,
    "start_time": "2021-07-20T12:23:21.216Z"
   },
   {
    "duration": 401,
    "start_time": "2021-07-20T12:23:23.071Z"
   },
   {
    "duration": 15,
    "start_time": "2021-07-20T12:23:32.819Z"
   },
   {
    "duration": 36,
    "start_time": "2021-07-20T12:24:26.270Z"
   },
   {
    "duration": 125,
    "start_time": "2021-07-20T12:24:33.520Z"
   },
   {
    "duration": 19,
    "start_time": "2021-07-20T12:24:34.492Z"
   },
   {
    "duration": 44,
    "start_time": "2021-07-20T12:24:35.593Z"
   },
   {
    "duration": 130,
    "start_time": "2021-07-20T12:24:36.081Z"
   },
   {
    "duration": 9,
    "start_time": "2021-07-20T12:24:38.796Z"
   },
   {
    "duration": 25,
    "start_time": "2021-07-20T12:24:39.818Z"
   },
   {
    "duration": 13,
    "start_time": "2021-07-20T12:24:41.481Z"
   },
   {
    "duration": 42,
    "start_time": "2021-07-20T12:24:42.874Z"
   },
   {
    "duration": 11,
    "start_time": "2021-07-20T12:24:43.617Z"
   },
   {
    "duration": 13,
    "start_time": "2021-07-20T12:24:46.839Z"
   },
   {
    "duration": 27,
    "start_time": "2021-07-20T12:24:49.083Z"
   },
   {
    "duration": 12,
    "start_time": "2021-07-20T12:25:02.872Z"
   },
   {
    "duration": 41,
    "start_time": "2021-07-20T12:26:44.690Z"
   },
   {
    "duration": 41,
    "start_time": "2021-07-20T12:27:38.866Z"
   },
   {
    "duration": 97,
    "start_time": "2021-07-20T12:30:36.034Z"
   },
   {
    "duration": 8,
    "start_time": "2021-07-20T12:32:10.816Z"
   },
   {
    "duration": 16,
    "start_time": "2021-07-20T12:32:13.483Z"
   },
   {
    "duration": 19,
    "start_time": "2021-07-20T12:39:11.556Z"
   },
   {
    "duration": 13,
    "start_time": "2021-07-20T12:39:31.706Z"
   },
   {
    "duration": 9,
    "start_time": "2021-07-20T12:39:42.622Z"
   },
   {
    "duration": 11,
    "start_time": "2021-07-20T12:39:43.606Z"
   },
   {
    "duration": 9,
    "start_time": "2021-07-20T12:42:43.383Z"
   },
   {
    "duration": 5,
    "start_time": "2021-07-20T12:43:22.320Z"
   },
   {
    "duration": 7,
    "start_time": "2021-07-20T12:44:50.296Z"
   },
   {
    "duration": 26,
    "start_time": "2021-07-20T12:44:59.327Z"
   },
   {
    "duration": 11,
    "start_time": "2021-07-20T12:46:10.273Z"
   },
   {
    "duration": 13,
    "start_time": "2021-07-20T12:46:43.235Z"
   },
   {
    "duration": 40,
    "start_time": "2021-07-20T12:47:05.949Z"
   },
   {
    "duration": 38,
    "start_time": "2021-07-20T12:48:00.029Z"
   },
   {
    "duration": 27,
    "start_time": "2021-07-20T12:48:21.788Z"
   },
   {
    "duration": 3,
    "start_time": "2021-07-20T12:52:23.369Z"
   },
   {
    "duration": 41,
    "start_time": "2021-07-20T12:52:26.305Z"
   },
   {
    "duration": 27,
    "start_time": "2021-07-20T12:52:51.925Z"
   },
   {
    "duration": 11,
    "start_time": "2021-07-20T12:53:42.638Z"
   },
   {
    "duration": 17,
    "start_time": "2021-07-20T12:53:44.650Z"
   },
   {
    "duration": 29,
    "start_time": "2021-07-20T12:55:06.654Z"
   },
   {
    "duration": 12,
    "start_time": "2021-07-20T12:56:31.881Z"
   },
   {
    "duration": 12,
    "start_time": "2021-07-20T12:56:32.951Z"
   },
   {
    "duration": 96,
    "start_time": "2021-07-20T12:56:40.960Z"
   },
   {
    "duration": 17,
    "start_time": "2021-07-20T12:56:42.002Z"
   },
   {
    "duration": 46,
    "start_time": "2021-07-20T12:56:43.129Z"
   },
   {
    "duration": 116,
    "start_time": "2021-07-20T12:56:44.138Z"
   },
   {
    "duration": 26,
    "start_time": "2021-07-20T12:56:59.998Z"
   },
   {
    "duration": 12,
    "start_time": "2021-07-20T12:57:00.996Z"
   },
   {
    "duration": 41,
    "start_time": "2021-07-20T12:57:07.162Z"
   },
   {
    "duration": 10,
    "start_time": "2021-07-20T12:57:08.342Z"
   },
   {
    "duration": 45,
    "start_time": "2021-07-20T12:57:17.639Z"
   },
   {
    "duration": 37,
    "start_time": "2021-07-20T12:59:32.190Z"
   },
   {
    "duration": 3,
    "start_time": "2021-07-20T12:59:48.322Z"
   },
   {
    "duration": 23,
    "start_time": "2021-07-20T12:59:50.907Z"
   },
   {
    "duration": 26,
    "start_time": "2021-07-20T13:00:03.646Z"
   },
   {
    "duration": 14,
    "start_time": "2021-07-20T13:08:12.008Z"
   },
   {
    "duration": 11,
    "start_time": "2021-07-20T13:08:12.783Z"
   },
   {
    "duration": 92,
    "start_time": "2021-07-20T13:08:20.712Z"
   },
   {
    "duration": 23,
    "start_time": "2021-07-20T13:08:21.564Z"
   },
   {
    "duration": 52,
    "start_time": "2021-07-20T13:08:22.637Z"
   },
   {
    "duration": 141,
    "start_time": "2021-07-20T13:08:24.259Z"
   },
   {
    "duration": 22,
    "start_time": "2021-07-20T13:08:32.326Z"
   },
   {
    "duration": 14,
    "start_time": "2021-07-20T13:08:34.212Z"
   },
   {
    "duration": 25,
    "start_time": "2021-07-20T13:09:41.780Z"
   },
   {
    "duration": 88,
    "start_time": "2021-07-20T13:09:48.447Z"
   },
   {
    "duration": 17,
    "start_time": "2021-07-20T13:09:48.868Z"
   },
   {
    "duration": 39,
    "start_time": "2021-07-20T13:09:51.402Z"
   },
   {
    "duration": 106,
    "start_time": "2021-07-20T13:09:53.980Z"
   },
   {
    "duration": 23,
    "start_time": "2021-07-20T13:09:57.524Z"
   },
   {
    "duration": 12,
    "start_time": "2021-07-20T13:09:58.732Z"
   },
   {
    "duration": 42,
    "start_time": "2021-07-20T13:10:05.600Z"
   },
   {
    "duration": 10,
    "start_time": "2021-07-20T13:10:06.581Z"
   },
   {
    "duration": 13,
    "start_time": "2021-07-20T13:10:08.025Z"
   },
   {
    "duration": 11,
    "start_time": "2021-07-20T13:10:09.313Z"
   },
   {
    "duration": 33,
    "start_time": "2021-07-20T13:10:12.139Z"
   },
   {
    "duration": 6,
    "start_time": "2021-07-20T13:10:16.581Z"
   },
   {
    "duration": 13,
    "start_time": "2021-07-20T13:10:34.489Z"
   },
   {
    "duration": 13,
    "start_time": "2021-07-20T13:10:35.333Z"
   },
   {
    "duration": 27,
    "start_time": "2021-07-20T13:10:38.957Z"
   },
   {
    "duration": 13,
    "start_time": "2021-07-20T13:10:41.918Z"
   },
   {
    "duration": 10,
    "start_time": "2021-07-20T13:11:03.670Z"
   },
   {
    "duration": 12,
    "start_time": "2021-07-20T13:11:04.548Z"
   },
   {
    "duration": 94,
    "start_time": "2021-07-20T13:11:11.041Z"
   },
   {
    "duration": 18,
    "start_time": "2021-07-20T13:11:11.814Z"
   },
   {
    "duration": 45,
    "start_time": "2021-07-20T13:11:13.460Z"
   },
   {
    "duration": 111,
    "start_time": "2021-07-20T13:11:13.920Z"
   },
   {
    "duration": 26,
    "start_time": "2021-07-20T13:11:16.943Z"
   },
   {
    "duration": 14,
    "start_time": "2021-07-20T13:11:18.017Z"
   },
   {
    "duration": 45,
    "start_time": "2021-07-20T13:11:19.819Z"
   },
   {
    "duration": 10,
    "start_time": "2021-07-20T13:11:20.545Z"
   },
   {
    "duration": 20,
    "start_time": "2021-07-20T13:11:21.934Z"
   },
   {
    "duration": 9,
    "start_time": "2021-07-20T13:11:22.972Z"
   },
   {
    "duration": 39,
    "start_time": "2021-07-20T13:11:34.384Z"
   },
   {
    "duration": 7,
    "start_time": "2021-07-20T13:11:38.092Z"
   },
   {
    "duration": 5,
    "start_time": "2021-07-20T13:11:43.779Z"
   },
   {
    "duration": 3,
    "start_time": "2021-07-20T13:12:12.178Z"
   },
   {
    "duration": 27,
    "start_time": "2021-07-20T13:12:13.173Z"
   },
   {
    "duration": 10,
    "start_time": "2021-07-20T13:12:20.280Z"
   },
   {
    "duration": 138,
    "start_time": "2021-07-20T13:13:24.592Z"
   },
   {
    "duration": 77,
    "start_time": "2021-07-20T13:13:29.712Z"
   },
   {
    "duration": 68,
    "start_time": "2021-07-20T13:13:57.471Z"
   },
   {
    "duration": 42,
    "start_time": "2021-07-20T13:15:19.600Z"
   },
   {
    "duration": 67,
    "start_time": "2021-07-20T13:19:17.719Z"
   },
   {
    "duration": 11,
    "start_time": "2021-07-20T13:19:23.547Z"
   },
   {
    "duration": 64,
    "start_time": "2021-07-20T13:19:38.345Z"
   },
   {
    "duration": 47,
    "start_time": "2021-07-20T13:19:53.451Z"
   },
   {
    "duration": 138,
    "start_time": "2021-07-20T13:20:32.254Z"
   },
   {
    "duration": 11,
    "start_time": "2021-07-20T13:20:42.084Z"
   },
   {
    "duration": 11,
    "start_time": "2021-07-20T13:20:43.962Z"
   },
   {
    "duration": 18,
    "start_time": "2021-07-20T13:20:51.343Z"
   },
   {
    "duration": 13,
    "start_time": "2021-07-20T13:21:20.908Z"
   },
   {
    "duration": 11,
    "start_time": "2021-07-20T13:21:22.246Z"
   },
   {
    "duration": 45,
    "start_time": "2021-07-20T13:30:52.259Z"
   },
   {
    "duration": 910,
    "start_time": "2021-07-20T13:39:34.501Z"
   },
   {
    "duration": 882,
    "start_time": "2021-07-20T13:42:51.586Z"
   },
   {
    "duration": 880,
    "start_time": "2021-07-20T13:43:30.756Z"
   },
   {
    "duration": 1263,
    "start_time": "2021-07-20T13:49:58.718Z"
   },
   {
    "duration": 901,
    "start_time": "2021-07-20T13:50:41.578Z"
   },
   {
    "duration": 1005,
    "start_time": "2021-07-20T13:51:04.529Z"
   },
   {
    "duration": 906,
    "start_time": "2021-07-20T13:51:33.463Z"
   },
   {
    "duration": 864,
    "start_time": "2021-07-20T13:51:35.079Z"
   },
   {
    "duration": 321,
    "start_time": "2021-07-20T13:55:58.658Z"
   },
   {
    "duration": 102,
    "start_time": "2021-07-20T13:56:46.510Z"
   },
   {
    "duration": 948,
    "start_time": "2021-07-20T13:56:50.451Z"
   },
   {
    "duration": 881,
    "start_time": "2021-07-20T13:59:37.730Z"
   },
   {
    "duration": 904,
    "start_time": "2021-07-20T13:59:45.065Z"
   },
   {
    "duration": 1362,
    "start_time": "2021-07-20T14:00:39.493Z"
   },
   {
    "duration": 2104,
    "start_time": "2021-07-20T14:01:41.366Z"
   },
   {
    "duration": 99,
    "start_time": "2021-07-20T14:03:06.042Z"
   },
   {
    "duration": 610,
    "start_time": "2021-07-20T14:03:57.062Z"
   },
   {
    "duration": 48,
    "start_time": "2021-07-20T14:04:11.490Z"
   },
   {
    "duration": 37,
    "start_time": "2021-07-20T14:04:26.192Z"
   },
   {
    "duration": 44,
    "start_time": "2021-07-20T14:08:55.132Z"
   },
   {
    "duration": 886,
    "start_time": "2021-07-20T14:09:18.920Z"
   },
   {
    "duration": 544,
    "start_time": "2021-07-20T14:10:32.646Z"
   },
   {
    "duration": 648,
    "start_time": "2021-07-20T14:11:58.085Z"
   },
   {
    "duration": 756,
    "start_time": "2021-07-20T14:12:48.781Z"
   },
   {
    "duration": 528,
    "start_time": "2021-07-20T14:13:21.429Z"
   },
   {
    "duration": 568,
    "start_time": "2021-07-20T14:13:33.283Z"
   },
   {
    "duration": 589,
    "start_time": "2021-07-20T14:14:08.262Z"
   },
   {
    "duration": 580,
    "start_time": "2021-07-20T14:14:16.938Z"
   },
   {
    "duration": 538,
    "start_time": "2021-07-20T14:14:43.352Z"
   },
   {
    "duration": 940,
    "start_time": "2021-07-20T14:14:47.151Z"
   },
   {
    "duration": 112,
    "start_time": "2021-07-20T14:14:55.480Z"
   },
   {
    "duration": 552,
    "start_time": "2021-07-20T14:15:01.272Z"
   },
   {
    "duration": 539,
    "start_time": "2021-07-20T14:15:36.553Z"
   },
   {
    "duration": 577,
    "start_time": "2021-07-20T14:15:41.940Z"
   },
   {
    "duration": 3847,
    "start_time": "2021-07-20T14:15:58.119Z"
   },
   {
    "duration": 575,
    "start_time": "2021-07-20T14:16:12.011Z"
   },
   {
    "duration": 556,
    "start_time": "2021-07-20T14:17:30.942Z"
   },
   {
    "duration": 604,
    "start_time": "2021-07-20T14:18:05.621Z"
   },
   {
    "duration": 604,
    "start_time": "2021-07-20T14:18:33.334Z"
   },
   {
    "duration": 52,
    "start_time": "2021-07-20T14:20:34.180Z"
   },
   {
    "duration": 55,
    "start_time": "2021-07-20T14:20:56.085Z"
   },
   {
    "duration": 59,
    "start_time": "2021-07-20T14:22:21.475Z"
   },
   {
    "duration": 47,
    "start_time": "2021-07-20T14:24:05.023Z"
   },
   {
    "duration": 828,
    "start_time": "2021-07-20T14:26:53.670Z"
   },
   {
    "duration": 841,
    "start_time": "2021-07-20T14:27:28.499Z"
   },
   {
    "duration": 10,
    "start_time": "2021-07-20T14:30:14.227Z"
   },
   {
    "duration": 47,
    "start_time": "2021-07-20T14:36:05.842Z"
   },
   {
    "duration": 36,
    "start_time": "2021-07-20T14:39:24.018Z"
   },
   {
    "duration": 39,
    "start_time": "2021-07-20T14:39:33.421Z"
   },
   {
    "duration": 97,
    "start_time": "2021-07-20T14:39:47.290Z"
   },
   {
    "duration": 23,
    "start_time": "2021-07-20T14:39:47.644Z"
   },
   {
    "duration": 39,
    "start_time": "2021-07-20T14:39:48.004Z"
   },
   {
    "duration": 118,
    "start_time": "2021-07-20T14:39:48.375Z"
   },
   {
    "duration": 23,
    "start_time": "2021-07-20T14:39:49.404Z"
   },
   {
    "duration": 15,
    "start_time": "2021-07-20T14:39:49.792Z"
   },
   {
    "duration": 43,
    "start_time": "2021-07-20T14:39:50.200Z"
   },
   {
    "duration": 13,
    "start_time": "2021-07-20T14:39:50.453Z"
   },
   {
    "duration": 13,
    "start_time": "2021-07-20T14:39:50.839Z"
   },
   {
    "duration": 9,
    "start_time": "2021-07-20T14:39:51.262Z"
   },
   {
    "duration": 38,
    "start_time": "2021-07-20T14:39:51.666Z"
   },
   {
    "duration": 6,
    "start_time": "2021-07-20T14:39:52.103Z"
   },
   {
    "duration": 5,
    "start_time": "2021-07-20T14:39:52.510Z"
   },
   {
    "duration": 3,
    "start_time": "2021-07-20T14:39:52.890Z"
   },
   {
    "duration": 24,
    "start_time": "2021-07-20T14:39:53.081Z"
   },
   {
    "duration": 43,
    "start_time": "2021-07-20T14:39:53.664Z"
   },
   {
    "duration": 13,
    "start_time": "2021-07-20T14:39:53.987Z"
   },
   {
    "duration": 13,
    "start_time": "2021-07-20T14:39:54.174Z"
   },
   {
    "duration": 36,
    "start_time": "2021-07-20T14:39:55.772Z"
   },
   {
    "duration": 6,
    "start_time": "2021-07-20T14:39:56.231Z"
   },
   {
    "duration": 47,
    "start_time": "2021-07-20T14:39:56.908Z"
   },
   {
    "duration": 1027,
    "start_time": "2021-07-20T14:39:59.035Z"
   },
   {
    "duration": 43,
    "start_time": "2021-07-20T14:40:00.065Z"
   },
   {
    "duration": 894,
    "start_time": "2021-07-20T14:40:02.027Z"
   },
   {
    "duration": 901,
    "start_time": "2021-07-20T14:40:03.720Z"
   },
   {
    "duration": 989,
    "start_time": "2021-07-20T14:40:05.071Z"
   },
   {
    "duration": 57,
    "start_time": "2021-07-20T14:40:06.430Z"
   },
   {
    "duration": 565,
    "start_time": "2021-07-20T14:40:07.900Z"
   },
   {
    "duration": 730,
    "start_time": "2021-07-20T14:40:09.958Z"
   },
   {
    "duration": 44,
    "start_time": "2021-07-20T14:40:12.335Z"
   },
   {
    "duration": 870,
    "start_time": "2021-07-20T14:40:17.232Z"
   },
   {
    "duration": 10,
    "start_time": "2021-07-20T14:40:18.919Z"
   },
   {
    "duration": 70,
    "start_time": "2021-07-20T14:40:20.636Z"
   },
   {
    "duration": 39,
    "start_time": "2021-07-20T14:40:23.169Z"
   },
   {
    "duration": 39,
    "start_time": "2021-07-20T14:41:18.572Z"
   },
   {
    "duration": 754,
    "start_time": "2021-07-20T14:41:58.470Z"
   },
   {
    "duration": 352,
    "start_time": "2021-07-20T14:42:08.510Z"
   },
   {
    "duration": 353,
    "start_time": "2021-07-20T14:42:14.116Z"
   },
   {
    "duration": 287,
    "start_time": "2021-07-20T14:46:09.830Z"
   },
   {
    "duration": 483,
    "start_time": "2021-07-20T14:47:14.697Z"
   },
   {
    "duration": 401,
    "start_time": "2021-07-20T14:47:18.409Z"
   },
   {
    "duration": 397,
    "start_time": "2021-07-20T14:47:25.901Z"
   },
   {
    "duration": 387,
    "start_time": "2021-07-20T14:48:29.802Z"
   },
   {
    "duration": 356,
    "start_time": "2021-07-20T14:48:45.679Z"
   },
   {
    "duration": 457,
    "start_time": "2021-07-20T14:48:55.512Z"
   },
   {
    "duration": 590,
    "start_time": "2021-07-20T14:49:54.855Z"
   },
   {
    "duration": 716,
    "start_time": "2021-07-20T14:50:04.191Z"
   },
   {
    "duration": 1407,
    "start_time": "2021-07-20T14:50:53.085Z"
   },
   {
    "duration": 379,
    "start_time": "2021-07-20T14:50:59.702Z"
   },
   {
    "duration": 335,
    "start_time": "2021-07-20T14:52:15.898Z"
   },
   {
    "duration": 333,
    "start_time": "2021-07-20T14:52:20.383Z"
   },
   {
    "duration": 341,
    "start_time": "2021-07-20T14:52:21.464Z"
   },
   {
    "duration": 78,
    "start_time": "2021-07-21T07:40:47.878Z"
   },
   {
    "duration": 79,
    "start_time": "2021-07-21T07:40:50.306Z"
   },
   {
    "duration": 292,
    "start_time": "2021-07-21T07:43:07.668Z"
   },
   {
    "duration": 567,
    "start_time": "2021-07-21T07:43:18.943Z"
   },
   {
    "duration": 10,
    "start_time": "2021-07-21T07:43:19.512Z"
   },
   {
    "duration": 26,
    "start_time": "2021-07-21T07:43:19.524Z"
   },
   {
    "duration": 78,
    "start_time": "2021-07-21T07:43:19.552Z"
   },
   {
    "duration": 14,
    "start_time": "2021-07-21T07:43:19.631Z"
   },
   {
    "duration": 8,
    "start_time": "2021-07-21T07:43:19.646Z"
   },
   {
    "duration": 47,
    "start_time": "2021-07-21T07:43:19.656Z"
   },
   {
    "duration": 7,
    "start_time": "2021-07-21T07:43:19.706Z"
   },
   {
    "duration": 8,
    "start_time": "2021-07-21T07:43:19.716Z"
   },
   {
    "duration": 6,
    "start_time": "2021-07-21T07:43:19.726Z"
   },
   {
    "duration": 20,
    "start_time": "2021-07-21T07:43:19.733Z"
   },
   {
    "duration": 38,
    "start_time": "2021-07-21T07:43:19.754Z"
   },
   {
    "duration": 4,
    "start_time": "2021-07-21T07:43:19.793Z"
   },
   {
    "duration": 5,
    "start_time": "2021-07-21T07:43:19.798Z"
   },
   {
    "duration": 17,
    "start_time": "2021-07-21T07:43:19.805Z"
   },
   {
    "duration": 22,
    "start_time": "2021-07-21T07:43:19.823Z"
   },
   {
    "duration": 10,
    "start_time": "2021-07-21T07:43:19.847Z"
   },
   {
    "duration": 39,
    "start_time": "2021-07-21T07:43:19.858Z"
   },
   {
    "duration": 19,
    "start_time": "2021-07-21T07:43:19.899Z"
   },
   {
    "duration": 3,
    "start_time": "2021-07-21T07:43:19.920Z"
   },
   {
    "duration": 28,
    "start_time": "2021-07-21T07:43:19.924Z"
   },
   {
    "duration": 545,
    "start_time": "2021-07-21T07:43:19.953Z"
   },
   {
    "duration": 21,
    "start_time": "2021-07-21T07:43:20.500Z"
   },
   {
    "duration": 537,
    "start_time": "2021-07-21T07:43:20.523Z"
   },
   {
    "duration": 498,
    "start_time": "2021-07-21T07:43:21.062Z"
   },
   {
    "duration": 1013,
    "start_time": "2021-07-21T07:43:21.562Z"
   },
   {
    "duration": 35,
    "start_time": "2021-07-21T07:43:22.576Z"
   },
   {
    "duration": 308,
    "start_time": "2021-07-21T07:43:22.613Z"
   },
   {
    "duration": 316,
    "start_time": "2021-07-21T07:43:22.923Z"
   },
   {
    "duration": 22,
    "start_time": "2021-07-21T07:43:23.241Z"
   },
   {
    "duration": 438,
    "start_time": "2021-07-21T07:43:23.264Z"
   },
   {
    "duration": 6,
    "start_time": "2021-07-21T07:43:23.704Z"
   },
   {
    "duration": 34,
    "start_time": "2021-07-21T07:43:23.711Z"
   },
   {
    "duration": 181,
    "start_time": "2021-07-21T07:43:23.746Z"
   },
   {
    "duration": 151,
    "start_time": "2021-07-21T07:43:23.929Z"
   },
   {
    "duration": 212,
    "start_time": "2021-07-21T07:43:24.082Z"
   },
   {
    "duration": 183,
    "start_time": "2021-07-21T07:43:24.296Z"
   },
   {
    "duration": 273,
    "start_time": "2021-07-21T07:43:24.480Z"
   },
   {
    "duration": 444,
    "start_time": "2021-07-21T07:43:24.754Z"
   },
   {
    "duration": -1722,
    "start_time": "2021-07-21T07:43:26.922Z"
   },
   {
    "duration": -1744,
    "start_time": "2021-07-21T07:43:26.945Z"
   },
   {
    "duration": -1784,
    "start_time": "2021-07-21T07:43:26.986Z"
   },
   {
    "duration": -1806,
    "start_time": "2021-07-21T07:43:27.009Z"
   },
   {
    "duration": -1850,
    "start_time": "2021-07-21T07:43:27.053Z"
   },
   {
    "duration": -1872,
    "start_time": "2021-07-21T07:43:27.076Z"
   },
   {
    "duration": -1913,
    "start_time": "2021-07-21T07:43:27.118Z"
   },
   {
    "duration": -1933,
    "start_time": "2021-07-21T07:43:27.139Z"
   },
   {
    "duration": -1962,
    "start_time": "2021-07-21T07:43:27.169Z"
   },
   {
    "duration": -1985,
    "start_time": "2021-07-21T07:43:27.193Z"
   },
   {
    "duration": -2025,
    "start_time": "2021-07-21T07:43:27.234Z"
   },
   {
    "duration": -2049,
    "start_time": "2021-07-21T07:43:27.259Z"
   },
   {
    "duration": 174,
    "start_time": "2021-07-21T07:43:40.172Z"
   },
   {
    "duration": 22,
    "start_time": "2021-07-21T07:53:41.519Z"
   },
   {
    "duration": 269,
    "start_time": "2021-07-21T07:55:18.336Z"
   },
   {
    "duration": 201,
    "start_time": "2021-07-21T07:55:34.910Z"
   },
   {
    "duration": 228,
    "start_time": "2021-07-21T07:56:16.173Z"
   },
   {
    "duration": 7,
    "start_time": "2021-07-21T07:56:20.889Z"
   },
   {
    "duration": 7,
    "start_time": "2021-07-21T07:56:39.809Z"
   },
   {
    "duration": 241,
    "start_time": "2021-07-21T07:58:17.936Z"
   },
   {
    "duration": 21,
    "start_time": "2021-07-21T07:58:52.605Z"
   },
   {
    "duration": 66,
    "start_time": "2021-07-21T07:59:10.603Z"
   },
   {
    "duration": 11,
    "start_time": "2021-07-21T07:59:11.088Z"
   },
   {
    "duration": 24,
    "start_time": "2021-07-21T07:59:12.355Z"
   },
   {
    "duration": 61,
    "start_time": "2021-07-21T07:59:14.158Z"
   },
   {
    "duration": 14,
    "start_time": "2021-07-21T07:59:16.183Z"
   },
   {
    "duration": 8,
    "start_time": "2021-07-21T07:59:16.621Z"
   },
   {
    "duration": 24,
    "start_time": "2021-07-21T07:59:17.048Z"
   },
   {
    "duration": 7,
    "start_time": "2021-07-21T07:59:17.260Z"
   },
   {
    "duration": 8,
    "start_time": "2021-07-21T07:59:18.052Z"
   },
   {
    "duration": 6,
    "start_time": "2021-07-21T07:59:18.575Z"
   },
   {
    "duration": 22,
    "start_time": "2021-07-21T07:59:19.074Z"
   },
   {
    "duration": 6,
    "start_time": "2021-07-21T07:59:19.929Z"
   },
   {
    "duration": 3,
    "start_time": "2021-07-21T07:59:21.415Z"
   },
   {
    "duration": 2,
    "start_time": "2021-07-21T07:59:21.447Z"
   },
   {
    "duration": 17,
    "start_time": "2021-07-21T07:59:21.977Z"
   },
   {
    "duration": 23,
    "start_time": "2021-07-21T07:59:23.297Z"
   },
   {
    "duration": 24,
    "start_time": "2021-07-21T07:59:30.923Z"
   },
   {
    "duration": 8,
    "start_time": "2021-07-21T07:59:32.090Z"
   },
   {
    "duration": 7,
    "start_time": "2021-07-21T07:59:32.611Z"
   },
   {
    "duration": 19,
    "start_time": "2021-07-21T07:59:34.262Z"
   },
   {
    "duration": 4,
    "start_time": "2021-07-21T07:59:35.617Z"
   },
   {
    "duration": 27,
    "start_time": "2021-07-21T07:59:36.364Z"
   },
   {
    "duration": 521,
    "start_time": "2021-07-21T07:59:37.244Z"
   },
   {
    "duration": 22,
    "start_time": "2021-07-21T07:59:38.223Z"
   },
   {
    "duration": 436,
    "start_time": "2021-07-21T07:59:40.620Z"
   },
   {
    "duration": 485,
    "start_time": "2021-07-21T07:59:41.225Z"
   },
   {
    "duration": 523,
    "start_time": "2021-07-21T07:59:42.226Z"
   },
   {
    "duration": 30,
    "start_time": "2021-07-21T07:59:44.132Z"
   },
   {
    "duration": 288,
    "start_time": "2021-07-21T07:59:45.539Z"
   },
   {
    "duration": 302,
    "start_time": "2021-07-21T07:59:47.159Z"
   },
   {
    "duration": 21,
    "start_time": "2021-07-21T07:59:52.199Z"
   },
   {
    "duration": 432,
    "start_time": "2021-07-21T07:59:53.540Z"
   },
   {
    "duration": 6,
    "start_time": "2021-07-21T07:59:54.456Z"
   },
   {
    "duration": 33,
    "start_time": "2021-07-21T07:59:55.632Z"
   },
   {
    "duration": 265,
    "start_time": "2021-07-21T07:59:56.796Z"
   },
   {
    "duration": 144,
    "start_time": "2021-07-21T07:59:58.674Z"
   },
   {
    "duration": 214,
    "start_time": "2021-07-21T08:00:00.053Z"
   },
   {
    "duration": 172,
    "start_time": "2021-07-21T08:00:09.712Z"
   },
   {
    "duration": 160,
    "start_time": "2021-07-21T08:00:11.056Z"
   },
   {
    "duration": 186,
    "start_time": "2021-07-21T08:00:12.291Z"
   },
   {
    "duration": 23,
    "start_time": "2021-07-21T08:00:19.112Z"
   },
   {
    "duration": 5657,
    "start_time": "2021-07-21T08:00:21.218Z"
   },
   {
    "duration": 199,
    "start_time": "2021-07-21T08:00:33.887Z"
   },
   {
    "duration": 233,
    "start_time": "2021-07-21T08:00:42.788Z"
   },
   {
    "duration": 211,
    "start_time": "2021-07-21T08:00:50.891Z"
   },
   {
    "duration": 251,
    "start_time": "2021-07-21T08:05:27.135Z"
   },
   {
    "duration": 223,
    "start_time": "2021-07-21T08:11:57.506Z"
   },
   {
    "duration": 6,
    "start_time": "2021-07-21T08:12:27.261Z"
   },
   {
    "duration": 30,
    "start_time": "2021-07-21T08:12:42.377Z"
   },
   {
    "duration": 36,
    "start_time": "2021-07-21T08:12:59.864Z"
   },
   {
    "duration": 28,
    "start_time": "2021-07-21T08:13:07.376Z"
   },
   {
    "duration": 10,
    "start_time": "2021-07-21T08:14:53.099Z"
   },
   {
    "duration": 11,
    "start_time": "2021-07-21T08:15:21.483Z"
   },
   {
    "duration": 9,
    "start_time": "2021-07-21T08:15:38.519Z"
   },
   {
    "duration": 10,
    "start_time": "2021-07-21T08:15:59.400Z"
   },
   {
    "duration": 11,
    "start_time": "2021-07-21T08:16:57.592Z"
   },
   {
    "duration": 6,
    "start_time": "2021-07-21T08:17:09.600Z"
   },
   {
    "duration": 29,
    "start_time": "2021-07-21T08:17:18.554Z"
   },
   {
    "duration": 19,
    "start_time": "2021-07-21T08:17:28.164Z"
   },
   {
    "duration": 16,
    "start_time": "2021-07-21T08:17:36.195Z"
   },
   {
    "duration": 9,
    "start_time": "2021-07-21T08:17:40.368Z"
   },
   {
    "duration": 10,
    "start_time": "2021-07-21T08:18:06.964Z"
   },
   {
    "duration": 9,
    "start_time": "2021-07-21T08:18:13.455Z"
   },
   {
    "duration": 10,
    "start_time": "2021-07-21T08:19:05.689Z"
   },
   {
    "duration": 9,
    "start_time": "2021-07-21T08:19:38.978Z"
   },
   {
    "duration": 34,
    "start_time": "2021-07-21T08:22:18.336Z"
   },
   {
    "duration": 37,
    "start_time": "2021-07-21T08:22:55.170Z"
   },
   {
    "duration": 8,
    "start_time": "2021-07-21T08:23:03.382Z"
   },
   {
    "duration": 35,
    "start_time": "2021-07-21T08:23:12.020Z"
   },
   {
    "duration": 36,
    "start_time": "2021-07-21T08:23:27.031Z"
   },
   {
    "duration": 14,
    "start_time": "2021-07-21T08:24:30.729Z"
   },
   {
    "duration": 75,
    "start_time": "2021-07-21T08:26:17.530Z"
   },
   {
    "duration": 17,
    "start_time": "2021-07-21T08:26:25.000Z"
   },
   {
    "duration": 80,
    "start_time": "2021-07-21T08:26:41.440Z"
   },
   {
    "duration": 15,
    "start_time": "2021-07-21T08:26:45.047Z"
   },
   {
    "duration": 9,
    "start_time": "2021-07-21T08:27:38.542Z"
   },
   {
    "duration": 8,
    "start_time": "2021-07-21T08:29:11.141Z"
   },
   {
    "duration": 10,
    "start_time": "2021-07-21T08:29:17.226Z"
   },
   {
    "duration": 233,
    "start_time": "2021-07-21T08:29:34.270Z"
   },
   {
    "duration": 6,
    "start_time": "2021-07-21T08:29:41.775Z"
   },
   {
    "duration": 11,
    "start_time": "2021-07-21T08:29:47.015Z"
   },
   {
    "duration": 10,
    "start_time": "2021-07-21T08:30:00.684Z"
   },
   {
    "duration": 648,
    "start_time": "2021-07-21T08:31:12.869Z"
   },
   {
    "duration": 13,
    "start_time": "2021-07-21T08:31:48.654Z"
   },
   {
    "duration": 25,
    "start_time": "2021-07-21T08:37:43.792Z"
   },
   {
    "duration": 76,
    "start_time": "2021-07-21T08:38:53.028Z"
   },
   {
    "duration": 15,
    "start_time": "2021-07-21T08:39:16.664Z"
   },
   {
    "duration": 18,
    "start_time": "2021-07-21T08:39:23.037Z"
   },
   {
    "duration": 16,
    "start_time": "2021-07-21T08:39:36.688Z"
   },
   {
    "duration": 15,
    "start_time": "2021-07-21T08:39:49.098Z"
   },
   {
    "duration": 15,
    "start_time": "2021-07-21T08:39:53.565Z"
   },
   {
    "duration": 16,
    "start_time": "2021-07-21T08:42:27.199Z"
   },
   {
    "duration": 169,
    "start_time": "2021-07-21T08:42:49.099Z"
   },
   {
    "duration": 176,
    "start_time": "2021-07-21T08:43:18.940Z"
   },
   {
    "duration": 176,
    "start_time": "2021-07-21T08:43:42.765Z"
   },
   {
    "duration": 173,
    "start_time": "2021-07-21T08:45:22.324Z"
   },
   {
    "duration": 26,
    "start_time": "2021-07-21T08:49:42.841Z"
   },
   {
    "duration": 26,
    "start_time": "2021-07-21T08:50:15.187Z"
   },
   {
    "duration": 25,
    "start_time": "2021-07-21T08:50:22.638Z"
   },
   {
    "duration": 36,
    "start_time": "2021-07-21T08:50:29.323Z"
   },
   {
    "duration": 102,
    "start_time": "2021-07-21T08:50:41.976Z"
   },
   {
    "duration": 24,
    "start_time": "2021-07-21T08:52:14.199Z"
   },
   {
    "duration": 24,
    "start_time": "2021-07-21T08:52:17.972Z"
   },
   {
    "duration": 25,
    "start_time": "2021-07-21T08:52:20.092Z"
   },
   {
    "duration": 25,
    "start_time": "2021-07-21T08:52:21.863Z"
   },
   {
    "duration": 24,
    "start_time": "2021-07-21T08:52:42.764Z"
   },
   {
    "duration": 24,
    "start_time": "2021-07-21T08:52:43.891Z"
   },
   {
    "duration": 24,
    "start_time": "2021-07-21T08:52:50.260Z"
   },
   {
    "duration": 169,
    "start_time": "2021-07-21T08:55:08.363Z"
   },
   {
    "duration": 174,
    "start_time": "2021-07-21T08:55:10.839Z"
   },
   {
    "duration": 214,
    "start_time": "2021-07-21T08:55:14.409Z"
   },
   {
    "duration": 253,
    "start_time": "2021-07-21T08:55:18.174Z"
   },
   {
    "duration": 247,
    "start_time": "2021-07-21T09:10:39.679Z"
   },
   {
    "duration": 31,
    "start_time": "2021-07-21T09:11:15.383Z"
   },
   {
    "duration": 227,
    "start_time": "2021-07-21T09:11:32.083Z"
   },
   {
    "duration": 237,
    "start_time": "2021-07-21T09:11:36.511Z"
   },
   {
    "duration": 162,
    "start_time": "2021-07-21T09:11:44.813Z"
   },
   {
    "duration": 170,
    "start_time": "2021-07-21T09:11:50.888Z"
   },
   {
    "duration": 95,
    "start_time": "2021-07-21T09:12:15.571Z"
   },
   {
    "duration": 162,
    "start_time": "2021-07-21T09:12:18.935Z"
   },
   {
    "duration": 175,
    "start_time": "2021-07-21T09:12:26.248Z"
   },
   {
    "duration": 221,
    "start_time": "2021-07-21T09:12:54.758Z"
   },
   {
    "duration": 206,
    "start_time": "2021-07-21T09:12:59.820Z"
   },
   {
    "duration": 167,
    "start_time": "2021-07-21T09:13:58.493Z"
   },
   {
    "duration": 163,
    "start_time": "2021-07-21T09:14:02.572Z"
   },
   {
    "duration": 717,
    "start_time": "2021-07-21T09:14:31.337Z"
   },
   {
    "duration": 161,
    "start_time": "2021-07-21T09:15:20.308Z"
   },
   {
    "duration": 153,
    "start_time": "2021-07-21T09:16:02.147Z"
   },
   {
    "duration": 6128,
    "start_time": "2021-07-21T09:16:55.913Z"
   },
   {
    "duration": 5846,
    "start_time": "2021-07-21T09:17:09.273Z"
   },
   {
    "duration": 10,
    "start_time": "2021-07-21T09:17:51.389Z"
   },
   {
    "duration": 217,
    "start_time": "2021-07-21T09:18:13.191Z"
   },
   {
    "duration": 870,
    "start_time": "2021-07-21T09:18:53.947Z"
   },
   {
    "duration": 83,
    "start_time": "2021-07-21T09:19:10.070Z"
   },
   {
    "duration": 873,
    "start_time": "2021-07-21T09:19:13.230Z"
   },
   {
    "duration": 149,
    "start_time": "2021-07-21T09:19:18.113Z"
   },
   {
    "duration": 711,
    "start_time": "2021-07-21T09:27:15.693Z"
   },
   {
    "duration": 13,
    "start_time": "2021-07-21T09:27:16.406Z"
   },
   {
    "duration": 28,
    "start_time": "2021-07-21T09:27:16.420Z"
   },
   {
    "duration": 87,
    "start_time": "2021-07-21T09:27:16.450Z"
   },
   {
    "duration": 15,
    "start_time": "2021-07-21T09:27:16.539Z"
   },
   {
    "duration": 8,
    "start_time": "2021-07-21T09:27:16.555Z"
   },
   {
    "duration": 42,
    "start_time": "2021-07-21T09:27:16.565Z"
   },
   {
    "duration": 8,
    "start_time": "2021-07-21T09:27:16.610Z"
   },
   {
    "duration": 10,
    "start_time": "2021-07-21T09:27:16.621Z"
   },
   {
    "duration": 7,
    "start_time": "2021-07-21T09:27:16.632Z"
   },
   {
    "duration": 61,
    "start_time": "2021-07-21T09:27:16.641Z"
   },
   {
    "duration": 5,
    "start_time": "2021-07-21T09:27:16.703Z"
   },
   {
    "duration": 7,
    "start_time": "2021-07-21T09:27:16.710Z"
   },
   {
    "duration": 8,
    "start_time": "2021-07-21T09:27:16.719Z"
   },
   {
    "duration": 20,
    "start_time": "2021-07-21T09:27:16.728Z"
   },
   {
    "duration": 47,
    "start_time": "2021-07-21T09:27:16.750Z"
   },
   {
    "duration": 8,
    "start_time": "2021-07-21T09:27:16.798Z"
   },
   {
    "duration": 10,
    "start_time": "2021-07-21T09:27:16.808Z"
   },
   {
    "duration": 23,
    "start_time": "2021-07-21T09:27:16.820Z"
   },
   {
    "duration": 3,
    "start_time": "2021-07-21T09:27:16.845Z"
   },
   {
    "duration": 59,
    "start_time": "2021-07-21T09:27:16.849Z"
   },
   {
    "duration": 533,
    "start_time": "2021-07-21T09:27:16.909Z"
   },
   {
    "duration": 19,
    "start_time": "2021-07-21T09:27:17.445Z"
   },
   {
    "duration": 554,
    "start_time": "2021-07-21T09:27:17.466Z"
   },
   {
    "duration": 473,
    "start_time": "2021-07-21T09:27:18.021Z"
   },
   {
    "duration": 899,
    "start_time": "2021-07-21T09:27:18.496Z"
   },
   {
    "duration": 29,
    "start_time": "2021-07-21T09:27:19.397Z"
   },
   {
    "duration": 335,
    "start_time": "2021-07-21T09:27:19.428Z"
   },
   {
    "duration": 323,
    "start_time": "2021-07-21T09:27:19.764Z"
   },
   {
    "duration": 21,
    "start_time": "2021-07-21T09:27:20.089Z"
   },
   {
    "duration": 447,
    "start_time": "2021-07-21T09:27:20.111Z"
   },
   {
    "duration": 6,
    "start_time": "2021-07-21T09:27:20.560Z"
   },
   {
    "duration": 50,
    "start_time": "2021-07-21T09:27:20.568Z"
   },
   {
    "duration": 183,
    "start_time": "2021-07-21T09:27:20.619Z"
   },
   {
    "duration": 159,
    "start_time": "2021-07-21T09:27:20.804Z"
   },
   {
    "duration": 223,
    "start_time": "2021-07-21T09:27:20.965Z"
   },
   {
    "duration": 182,
    "start_time": "2021-07-21T09:27:21.189Z"
   },
   {
    "duration": 260,
    "start_time": "2021-07-21T09:27:21.372Z"
   },
   {
    "duration": 190,
    "start_time": "2021-07-21T09:27:21.633Z"
   },
   {
    "duration": 20,
    "start_time": "2021-07-21T09:27:21.825Z"
   },
   {
    "duration": 204,
    "start_time": "2021-07-21T09:27:21.847Z"
   },
   {
    "duration": 372,
    "start_time": "2021-07-21T09:27:22.053Z"
   },
   {
    "duration": -1970,
    "start_time": "2021-07-21T09:27:24.397Z"
   },
   {
    "duration": -2023,
    "start_time": "2021-07-21T09:27:24.451Z"
   },
   {
    "duration": -2050,
    "start_time": "2021-07-21T09:27:24.479Z"
   },
   {
    "duration": -2067,
    "start_time": "2021-07-21T09:27:24.497Z"
   },
   {
    "duration": -2071,
    "start_time": "2021-07-21T09:27:24.502Z"
   },
   {
    "duration": -2077,
    "start_time": "2021-07-21T09:27:24.509Z"
   },
   {
    "duration": -2080,
    "start_time": "2021-07-21T09:27:24.513Z"
   },
   {
    "duration": -2085,
    "start_time": "2021-07-21T09:27:24.519Z"
   },
   {
    "duration": 899,
    "start_time": "2021-07-22T07:14:07.556Z"
   },
   {
    "duration": 16,
    "start_time": "2021-07-22T07:14:08.458Z"
   },
   {
    "duration": 54,
    "start_time": "2021-07-22T07:14:08.477Z"
   },
   {
    "duration": 130,
    "start_time": "2021-07-22T07:14:08.534Z"
   },
   {
    "duration": 25,
    "start_time": "2021-07-22T07:14:08.667Z"
   },
   {
    "duration": 42,
    "start_time": "2021-07-22T07:14:08.694Z"
   },
   {
    "duration": 44,
    "start_time": "2021-07-22T07:14:08.739Z"
   },
   {
    "duration": 11,
    "start_time": "2021-07-22T07:14:08.785Z"
   },
   {
    "duration": 32,
    "start_time": "2021-07-22T07:14:08.800Z"
   },
   {
    "duration": 19,
    "start_time": "2021-07-22T07:14:08.835Z"
   },
   {
    "duration": 39,
    "start_time": "2021-07-22T07:14:08.856Z"
   },
   {
    "duration": 7,
    "start_time": "2021-07-22T07:14:08.897Z"
   },
   {
    "duration": 27,
    "start_time": "2021-07-22T07:14:08.906Z"
   },
   {
    "duration": 18,
    "start_time": "2021-07-22T07:14:08.936Z"
   },
   {
    "duration": 43,
    "start_time": "2021-07-22T07:14:08.956Z"
   },
   {
    "duration": 43,
    "start_time": "2021-07-22T07:14:09.002Z"
   },
   {
    "duration": 54,
    "start_time": "2021-07-22T07:14:09.055Z"
   },
   {
    "duration": 32,
    "start_time": "2021-07-22T07:14:09.112Z"
   },
   {
    "duration": 46,
    "start_time": "2021-07-22T07:14:09.147Z"
   },
   {
    "duration": 28,
    "start_time": "2021-07-22T07:14:09.196Z"
   },
   {
    "duration": 64,
    "start_time": "2021-07-22T07:14:09.227Z"
   },
   {
    "duration": 1402,
    "start_time": "2021-07-22T07:14:09.293Z"
   },
   {
    "duration": 57,
    "start_time": "2021-07-22T07:14:10.697Z"
   },
   {
    "duration": 1004,
    "start_time": "2021-07-22T07:14:10.757Z"
   },
   {
    "duration": 917,
    "start_time": "2021-07-22T07:14:11.764Z"
   },
   {
    "duration": 2470,
    "start_time": "2021-07-22T07:14:12.684Z"
   },
   {
    "duration": 49,
    "start_time": "2021-07-22T07:14:15.159Z"
   },
   {
    "duration": 559,
    "start_time": "2021-07-22T07:14:15.211Z"
   },
   {
    "duration": 582,
    "start_time": "2021-07-22T07:14:15.772Z"
   },
   {
    "duration": 40,
    "start_time": "2021-07-22T07:14:16.356Z"
   },
   {
    "duration": 889,
    "start_time": "2021-07-22T07:14:16.398Z"
   },
   {
    "duration": 12,
    "start_time": "2021-07-22T07:14:17.290Z"
   },
   {
    "duration": 83,
    "start_time": "2021-07-22T07:14:17.304Z"
   },
   {
    "duration": 347,
    "start_time": "2021-07-22T07:14:17.390Z"
   },
   {
    "duration": 283,
    "start_time": "2021-07-22T07:14:17.740Z"
   },
   {
    "duration": 392,
    "start_time": "2021-07-22T07:14:18.025Z"
   },
   {
    "duration": 340,
    "start_time": "2021-07-22T07:14:18.420Z"
   },
   {
    "duration": 403,
    "start_time": "2021-07-22T07:14:18.763Z"
   },
   {
    "duration": 423,
    "start_time": "2021-07-22T07:14:19.169Z"
   },
   {
    "duration": 60,
    "start_time": "2021-07-22T07:14:19.596Z"
   },
   {
    "duration": 349,
    "start_time": "2021-07-22T07:14:19.658Z"
   },
   {
    "duration": 424,
    "start_time": "2021-07-22T07:14:20.010Z"
   },
   {
    "duration": -224,
    "start_time": "2021-07-22T07:14:20.661Z"
   },
   {
    "duration": -227,
    "start_time": "2021-07-22T07:14:20.666Z"
   },
   {
    "duration": -229,
    "start_time": "2021-07-22T07:14:20.669Z"
   },
   {
    "duration": -232,
    "start_time": "2021-07-22T07:14:20.673Z"
   },
   {
    "duration": -233,
    "start_time": "2021-07-22T07:14:20.676Z"
   },
   {
    "duration": -236,
    "start_time": "2021-07-22T07:14:20.680Z"
   },
   {
    "duration": -238,
    "start_time": "2021-07-22T07:14:20.683Z"
   },
   {
    "duration": -239,
    "start_time": "2021-07-22T07:14:20.686Z"
   },
   {
    "duration": 43,
    "start_time": "2021-07-22T07:17:03.519Z"
   },
   {
    "duration": 39,
    "start_time": "2021-07-22T07:17:18.377Z"
   },
   {
    "duration": 46,
    "start_time": "2021-07-22T07:17:18.419Z"
   },
   {
    "duration": 42,
    "start_time": "2021-07-22T07:17:18.470Z"
   },
   {
    "duration": 64,
    "start_time": "2021-07-22T07:17:18.516Z"
   },
   {
    "duration": 326,
    "start_time": "2021-07-22T07:17:18.582Z"
   },
   {
    "duration": 319,
    "start_time": "2021-07-22T07:17:18.910Z"
   },
   {
    "duration": 311,
    "start_time": "2021-07-22T07:17:19.232Z"
   },
   {
    "duration": -141,
    "start_time": "2021-07-22T07:17:19.687Z"
   },
   {
    "duration": 339,
    "start_time": "2021-07-22T07:17:32.354Z"
   },
   {
    "duration": 979,
    "start_time": "2021-07-22T07:17:37.085Z"
   },
   {
    "duration": 34,
    "start_time": "2021-07-22T08:04:37.831Z"
   },
   {
    "duration": 89,
    "start_time": "2021-07-22T08:04:51.681Z"
   },
   {
    "duration": 15,
    "start_time": "2021-07-22T08:04:51.773Z"
   },
   {
    "duration": 41,
    "start_time": "2021-07-22T08:04:51.791Z"
   },
   {
    "duration": 112,
    "start_time": "2021-07-22T08:04:51.855Z"
   },
   {
    "duration": 21,
    "start_time": "2021-07-22T08:04:51.970Z"
   },
   {
    "duration": 11,
    "start_time": "2021-07-22T08:04:51.994Z"
   },
   {
    "duration": 69,
    "start_time": "2021-07-22T08:04:52.007Z"
   },
   {
    "duration": 10,
    "start_time": "2021-07-22T08:04:52.078Z"
   },
   {
    "duration": 14,
    "start_time": "2021-07-22T08:04:52.094Z"
   },
   {
    "duration": 21,
    "start_time": "2021-07-22T08:04:52.111Z"
   },
   {
    "duration": 36,
    "start_time": "2021-07-22T08:04:52.154Z"
   },
   {
    "duration": 6,
    "start_time": "2021-07-22T08:04:52.192Z"
   },
   {
    "duration": 11,
    "start_time": "2021-07-22T08:04:52.200Z"
   },
   {
    "duration": 8,
    "start_time": "2021-07-22T08:04:52.213Z"
   },
   {
    "duration": 58,
    "start_time": "2021-07-22T08:04:52.223Z"
   },
   {
    "duration": 39,
    "start_time": "2021-07-22T08:04:52.283Z"
   },
   {
    "duration": 29,
    "start_time": "2021-07-22T08:04:52.325Z"
   },
   {
    "duration": 11,
    "start_time": "2021-07-22T08:04:52.357Z"
   },
   {
    "duration": 56,
    "start_time": "2021-07-22T08:04:52.370Z"
   },
   {
    "duration": 5,
    "start_time": "2021-07-22T08:04:52.428Z"
   },
   {
    "duration": 62,
    "start_time": "2021-07-22T08:04:52.435Z"
   },
   {
    "duration": 1033,
    "start_time": "2021-07-22T08:04:52.500Z"
   },
   {
    "duration": 47,
    "start_time": "2021-07-22T08:04:53.535Z"
   },
   {
    "duration": 877,
    "start_time": "2021-07-22T08:04:53.584Z"
   },
   {
    "duration": 62,
    "start_time": "2021-07-22T08:05:00.312Z"
   },
   {
    "duration": 361,
    "start_time": "2021-07-22T08:18:30.335Z"
   },
   {
    "duration": 82,
    "start_time": "2021-07-23T06:54:48.186Z"
   },
   {
    "duration": 16,
    "start_time": "2021-07-23T06:54:48.270Z"
   },
   {
    "duration": 75,
    "start_time": "2021-07-23T06:54:48.289Z"
   },
   {
    "duration": 136,
    "start_time": "2021-07-23T06:54:48.366Z"
   },
   {
    "duration": 20,
    "start_time": "2021-07-23T06:54:48.504Z"
   },
   {
    "duration": 30,
    "start_time": "2021-07-23T06:54:48.526Z"
   },
   {
    "duration": 39,
    "start_time": "2021-07-23T06:54:48.558Z"
   },
   {
    "duration": 10,
    "start_time": "2021-07-23T06:54:48.601Z"
   },
   {
    "duration": 46,
    "start_time": "2021-07-23T06:54:48.614Z"
   },
   {
    "duration": 9,
    "start_time": "2021-07-23T06:54:48.662Z"
   },
   {
    "duration": 36,
    "start_time": "2021-07-23T06:54:48.673Z"
   },
   {
    "duration": 6,
    "start_time": "2021-07-23T06:54:48.712Z"
   },
   {
    "duration": 39,
    "start_time": "2021-07-23T06:54:48.720Z"
   },
   {
    "duration": 16,
    "start_time": "2021-07-23T06:54:48.761Z"
   },
   {
    "duration": 35,
    "start_time": "2021-07-23T06:54:48.779Z"
   },
   {
    "duration": 41,
    "start_time": "2021-07-23T06:54:48.816Z"
   },
   {
    "duration": 21,
    "start_time": "2021-07-23T06:54:48.859Z"
   },
   {
    "duration": 16,
    "start_time": "2021-07-23T06:54:48.882Z"
   },
   {
    "duration": 33,
    "start_time": "2021-07-23T06:54:48.900Z"
   },
   {
    "duration": 22,
    "start_time": "2021-07-23T06:54:48.935Z"
   },
   {
    "duration": 61,
    "start_time": "2021-07-23T06:54:48.959Z"
   },
   {
    "duration": 959,
    "start_time": "2021-07-23T06:54:49.023Z"
   },
   {
    "duration": 35,
    "start_time": "2021-07-23T06:54:49.989Z"
   },
   {
    "duration": 859,
    "start_time": "2021-07-23T06:54:50.027Z"
   },
   {
    "duration": 842,
    "start_time": "2021-07-23T06:54:50.889Z"
   },
   {
    "duration": 938,
    "start_time": "2021-07-23T06:54:51.734Z"
   },
   {
    "duration": 225,
    "start_time": "2021-07-23T06:54:52.674Z"
   },
   {
    "duration": 591,
    "start_time": "2021-07-23T06:54:52.901Z"
   },
   {
    "duration": 527,
    "start_time": "2021-07-23T06:54:53.495Z"
   },
   {
    "duration": 44,
    "start_time": "2021-07-23T06:54:54.024Z"
   },
   {
    "duration": 952,
    "start_time": "2021-07-23T06:54:54.070Z"
   },
   {
    "duration": 11,
    "start_time": "2021-07-23T06:54:55.024Z"
   },
   {
    "duration": 19,
    "start_time": "2021-07-23T06:54:55.055Z"
   },
   {
    "duration": 369,
    "start_time": "2021-07-23T06:54:55.077Z"
   },
   {
    "duration": 305,
    "start_time": "2021-07-23T06:54:55.454Z"
   },
   {
    "duration": 495,
    "start_time": "2021-07-23T06:54:55.762Z"
   },
   {
    "duration": 330,
    "start_time": "2021-07-23T06:54:56.260Z"
   },
   {
    "duration": 366,
    "start_time": "2021-07-23T06:54:56.593Z"
   },
   {
    "duration": 365,
    "start_time": "2021-07-23T06:54:56.962Z"
   },
   {
    "duration": 45,
    "start_time": "2021-07-23T06:54:57.330Z"
   },
   {
    "duration": 317,
    "start_time": "2021-07-23T06:54:57.377Z"
   },
   {
    "duration": 40,
    "start_time": "2021-07-23T06:54:57.696Z"
   },
   {
    "duration": 36,
    "start_time": "2021-07-23T06:54:57.754Z"
   },
   {
    "duration": 36,
    "start_time": "2021-07-23T06:54:57.793Z"
   },
   {
    "duration": 58,
    "start_time": "2021-07-23T06:54:57.832Z"
   },
   {
    "duration": 66,
    "start_time": "2021-07-23T06:54:57.892Z"
   },
   {
    "duration": 337,
    "start_time": "2021-07-23T06:54:57.960Z"
   },
   {
    "duration": 321,
    "start_time": "2021-07-23T06:54:58.299Z"
   },
   {
    "duration": 402,
    "start_time": "2021-07-23T06:54:58.622Z"
   },
   {
    "duration": 983,
    "start_time": "2021-07-23T06:54:59.027Z"
   },
   {
    "duration": 316,
    "start_time": "2021-07-23T12:39:51.467Z"
   },
   {
    "duration": 861,
    "start_time": "2021-07-23T12:40:00.491Z"
   },
   {
    "duration": 16,
    "start_time": "2021-07-23T12:40:01.355Z"
   },
   {
    "duration": 54,
    "start_time": "2021-07-23T12:40:01.374Z"
   },
   {
    "duration": 126,
    "start_time": "2021-07-23T12:40:01.431Z"
   },
   {
    "duration": 22,
    "start_time": "2021-07-23T12:40:01.560Z"
   },
   {
    "duration": 23,
    "start_time": "2021-07-23T12:40:01.584Z"
   },
   {
    "duration": 19,
    "start_time": "2021-07-23T12:40:01.609Z"
   },
   {
    "duration": 74,
    "start_time": "2021-07-23T12:40:01.632Z"
   },
   {
    "duration": 12,
    "start_time": "2021-07-23T12:40:01.710Z"
   },
   {
    "duration": 23,
    "start_time": "2021-07-23T12:40:01.724Z"
   },
   {
    "duration": 35,
    "start_time": "2021-07-23T12:40:01.750Z"
   },
   {
    "duration": 36,
    "start_time": "2021-07-23T12:40:01.788Z"
   },
   {
    "duration": 8,
    "start_time": "2021-07-23T12:40:01.826Z"
   },
   {
    "duration": 16,
    "start_time": "2021-07-23T12:40:01.837Z"
   },
   {
    "duration": 39,
    "start_time": "2021-07-23T12:40:01.856Z"
   },
   {
    "duration": 49,
    "start_time": "2021-07-23T12:40:01.898Z"
   },
   {
    "duration": 39,
    "start_time": "2021-07-23T12:40:01.950Z"
   },
   {
    "duration": 21,
    "start_time": "2021-07-23T12:40:01.991Z"
   },
   {
    "duration": 22,
    "start_time": "2021-07-23T12:40:02.015Z"
   },
   {
    "duration": 40,
    "start_time": "2021-07-23T12:40:02.039Z"
   },
   {
    "duration": 29,
    "start_time": "2021-07-23T12:40:02.082Z"
   },
   {
    "duration": 59,
    "start_time": "2021-07-23T12:40:02.113Z"
   },
   {
    "duration": 1549,
    "start_time": "2021-07-23T12:40:02.178Z"
   },
   {
    "duration": 52,
    "start_time": "2021-07-23T12:40:03.730Z"
   },
   {
    "duration": 987,
    "start_time": "2021-07-23T12:40:03.785Z"
   },
   {
    "duration": 850,
    "start_time": "2021-07-23T12:40:04.775Z"
   },
   {
    "duration": 1512,
    "start_time": "2021-07-23T12:40:05.627Z"
   },
   {
    "duration": 229,
    "start_time": "2021-07-23T12:40:07.142Z"
   },
   {
    "duration": 564,
    "start_time": "2021-07-23T12:40:07.374Z"
   },
   {
    "duration": 541,
    "start_time": "2021-07-23T12:40:07.941Z"
   },
   {
    "duration": 34,
    "start_time": "2021-07-23T12:40:08.484Z"
   },
   {
    "duration": 854,
    "start_time": "2021-07-23T12:40:08.520Z"
   },
   {
    "duration": 13,
    "start_time": "2021-07-23T12:40:09.377Z"
   },
   {
    "duration": 16,
    "start_time": "2021-07-23T12:40:09.393Z"
   },
   {
    "duration": 373,
    "start_time": "2021-07-23T12:40:09.412Z"
   },
   {
    "duration": 307,
    "start_time": "2021-07-23T12:40:09.787Z"
   },
   {
    "duration": 413,
    "start_time": "2021-07-23T12:40:10.098Z"
   },
   {
    "duration": 431,
    "start_time": "2021-07-23T12:40:10.514Z"
   },
   {
    "duration": 357,
    "start_time": "2021-07-23T12:40:10.948Z"
   },
   {
    "duration": 357,
    "start_time": "2021-07-23T12:40:11.307Z"
   },
   {
    "duration": 45,
    "start_time": "2021-07-23T12:40:11.667Z"
   },
   {
    "duration": 364,
    "start_time": "2021-07-23T12:40:11.714Z"
   },
   {
    "duration": 39,
    "start_time": "2021-07-23T12:40:12.081Z"
   },
   {
    "duration": 66,
    "start_time": "2021-07-23T12:40:12.122Z"
   },
   {
    "duration": 42,
    "start_time": "2021-07-23T12:40:12.190Z"
   },
   {
    "duration": 69,
    "start_time": "2021-07-23T12:40:12.234Z"
   },
   {
    "duration": 50,
    "start_time": "2021-07-23T12:40:12.305Z"
   },
   {
    "duration": 354,
    "start_time": "2021-07-23T12:40:12.358Z"
   },
   {
    "duration": 317,
    "start_time": "2021-07-23T12:40:12.714Z"
   },
   {
    "duration": 401,
    "start_time": "2021-07-23T12:40:13.033Z"
   },
   {
    "duration": 968,
    "start_time": "2021-07-23T12:40:13.436Z"
   }
  ],
  "kernelspec": {
   "display_name": "Python 3",
   "language": "python",
   "name": "python3"
  },
  "language_info": {
   "codemirror_mode": {
    "name": "ipython",
    "version": 3
   },
   "file_extension": ".py",
   "mimetype": "text/x-python",
   "name": "python",
   "nbconvert_exporter": "python",
   "pygments_lexer": "ipython3",
   "version": "3.8.8"
  },
  "toc": {
   "base_numbering": 1,
   "nav_menu": {},
   "number_sections": true,
   "sideBar": true,
   "skip_h1_title": true,
   "title_cell": "Содержание",
   "title_sidebar": "Contents",
   "toc_cell": true,
   "toc_position": {
    "height": "calc(100% - 180px)",
    "left": "10px",
    "top": "150px",
    "width": "165px"
   },
   "toc_section_display": true,
   "toc_window_display": true
  }
 },
 "nbformat": 4,
 "nbformat_minor": 2
}
