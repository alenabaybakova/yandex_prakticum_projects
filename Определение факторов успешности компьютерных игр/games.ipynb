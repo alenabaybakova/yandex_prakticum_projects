{
 "cells": [
  {
   "cell_type": "markdown",
   "metadata": {},
   "source": [
    "## Описание проекта"
   ]
  },
  {
   "cell_type": "markdown",
   "metadata": {},
   "source": [
    "Вы работаете в интернет-магазине «Стримчик», который продаёт по всему миру компьютерные игры. Из открытых источников доступны исторические данные о продажах игр, оценки пользователей и экспертов, жанры и платформы (например, Xbox или PlayStation). <b>Вам нужно выявить определяющие успешность игры закономерности.</b>\n",
    "Это позволит сделать ставку на потенциально популярный продукт и спланировать рекламные кампании.\n",
    "\n",
    "Перед вами данные до 2016 года. Представим, что сейчас декабрь 2016 г., и вы планируете кампанию на 2017-й."
   ]
  },
  {
   "cell_type": "markdown",
   "metadata": {},
   "source": [
    "Описание данных\n",
    "- Name — название игры\n",
    "- Platform — платформа\n",
    "- Year_of_Release — год выпуска\n",
    "- Genre — жанр игры\n",
    "- NA_sales — продажи в Северной Америке (миллионы проданных копий)\n",
    "- EU_sales — продажи в Европе (миллионы проданных копий)\n",
    "- JP_sales — продажи в Японии (миллионы проданных копий)\n",
    "- Other_sales — продажи в других странах (миллионы проданных копий)\n",
    "- Critic_Score — оценка критиков (максимум 100)\n",
    "- User_Score — оценка пользователей (максимум 10)\n",
    "- Rating — рейтинг от организации ESRB (англ. Entertainment Software Rating Board). Эта ассоциация определяет рейтинг компьютерных игр и присваивает им подходящую возрастную категорию.\n"
   ]
  },
  {
   "cell_type": "markdown",
   "metadata": {},
   "source": [
    "## Информация о данных"
   ]
  },
  {
   "cell_type": "code",
   "execution_count": 4,
   "metadata": {},
   "outputs": [],
   "source": [
    "import pandas as pd\n",
    "import numpy as np\n",
    "import matplotlib.pyplot as plt\n",
    "from scipy import stats as st\n",
    "import seaborn as sns\n",
    "%matplotlib inline"
   ]
  },
  {
   "cell_type": "code",
   "execution_count": 5,
   "metadata": {},
   "outputs": [
    {
     "data": {
      "text/html": [
       "<div>\n",
       "<style scoped>\n",
       "    .dataframe tbody tr th:only-of-type {\n",
       "        vertical-align: middle;\n",
       "    }\n",
       "\n",
       "    .dataframe tbody tr th {\n",
       "        vertical-align: top;\n",
       "    }\n",
       "\n",
       "    .dataframe thead th {\n",
       "        text-align: right;\n",
       "    }\n",
       "</style>\n",
       "<table border=\"1\" class=\"dataframe\">\n",
       "  <thead>\n",
       "    <tr style=\"text-align: right;\">\n",
       "      <th></th>\n",
       "      <th>Name</th>\n",
       "      <th>Platform</th>\n",
       "      <th>Year_of_Release</th>\n",
       "      <th>Genre</th>\n",
       "      <th>NA_sales</th>\n",
       "      <th>EU_sales</th>\n",
       "      <th>JP_sales</th>\n",
       "      <th>Other_sales</th>\n",
       "      <th>Critic_Score</th>\n",
       "      <th>User_Score</th>\n",
       "      <th>Rating</th>\n",
       "    </tr>\n",
       "  </thead>\n",
       "  <tbody>\n",
       "    <tr>\n",
       "      <th>0</th>\n",
       "      <td>Wii Sports</td>\n",
       "      <td>Wii</td>\n",
       "      <td>2006.0</td>\n",
       "      <td>Sports</td>\n",
       "      <td>41.36</td>\n",
       "      <td>28.96</td>\n",
       "      <td>3.77</td>\n",
       "      <td>8.45</td>\n",
       "      <td>76.0</td>\n",
       "      <td>8</td>\n",
       "      <td>E</td>\n",
       "    </tr>\n",
       "    <tr>\n",
       "      <th>1</th>\n",
       "      <td>Super Mario Bros.</td>\n",
       "      <td>NES</td>\n",
       "      <td>1985.0</td>\n",
       "      <td>Platform</td>\n",
       "      <td>29.08</td>\n",
       "      <td>3.58</td>\n",
       "      <td>6.81</td>\n",
       "      <td>0.77</td>\n",
       "      <td>NaN</td>\n",
       "      <td>NaN</td>\n",
       "      <td>NaN</td>\n",
       "    </tr>\n",
       "    <tr>\n",
       "      <th>2</th>\n",
       "      <td>Mario Kart Wii</td>\n",
       "      <td>Wii</td>\n",
       "      <td>2008.0</td>\n",
       "      <td>Racing</td>\n",
       "      <td>15.68</td>\n",
       "      <td>12.76</td>\n",
       "      <td>3.79</td>\n",
       "      <td>3.29</td>\n",
       "      <td>82.0</td>\n",
       "      <td>8.3</td>\n",
       "      <td>E</td>\n",
       "    </tr>\n",
       "    <tr>\n",
       "      <th>3</th>\n",
       "      <td>Wii Sports Resort</td>\n",
       "      <td>Wii</td>\n",
       "      <td>2009.0</td>\n",
       "      <td>Sports</td>\n",
       "      <td>15.61</td>\n",
       "      <td>10.93</td>\n",
       "      <td>3.28</td>\n",
       "      <td>2.95</td>\n",
       "      <td>80.0</td>\n",
       "      <td>8</td>\n",
       "      <td>E</td>\n",
       "    </tr>\n",
       "    <tr>\n",
       "      <th>4</th>\n",
       "      <td>Pokemon Red/Pokemon Blue</td>\n",
       "      <td>GB</td>\n",
       "      <td>1996.0</td>\n",
       "      <td>Role-Playing</td>\n",
       "      <td>11.27</td>\n",
       "      <td>8.89</td>\n",
       "      <td>10.22</td>\n",
       "      <td>1.00</td>\n",
       "      <td>NaN</td>\n",
       "      <td>NaN</td>\n",
       "      <td>NaN</td>\n",
       "    </tr>\n",
       "    <tr>\n",
       "      <th>5</th>\n",
       "      <td>Tetris</td>\n",
       "      <td>GB</td>\n",
       "      <td>1989.0</td>\n",
       "      <td>Puzzle</td>\n",
       "      <td>23.20</td>\n",
       "      <td>2.26</td>\n",
       "      <td>4.22</td>\n",
       "      <td>0.58</td>\n",
       "      <td>NaN</td>\n",
       "      <td>NaN</td>\n",
       "      <td>NaN</td>\n",
       "    </tr>\n",
       "    <tr>\n",
       "      <th>6</th>\n",
       "      <td>New Super Mario Bros.</td>\n",
       "      <td>DS</td>\n",
       "      <td>2006.0</td>\n",
       "      <td>Platform</td>\n",
       "      <td>11.28</td>\n",
       "      <td>9.14</td>\n",
       "      <td>6.50</td>\n",
       "      <td>2.88</td>\n",
       "      <td>89.0</td>\n",
       "      <td>8.5</td>\n",
       "      <td>E</td>\n",
       "    </tr>\n",
       "    <tr>\n",
       "      <th>7</th>\n",
       "      <td>Wii Play</td>\n",
       "      <td>Wii</td>\n",
       "      <td>2006.0</td>\n",
       "      <td>Misc</td>\n",
       "      <td>13.96</td>\n",
       "      <td>9.18</td>\n",
       "      <td>2.93</td>\n",
       "      <td>2.84</td>\n",
       "      <td>58.0</td>\n",
       "      <td>6.6</td>\n",
       "      <td>E</td>\n",
       "    </tr>\n",
       "    <tr>\n",
       "      <th>8</th>\n",
       "      <td>New Super Mario Bros. Wii</td>\n",
       "      <td>Wii</td>\n",
       "      <td>2009.0</td>\n",
       "      <td>Platform</td>\n",
       "      <td>14.44</td>\n",
       "      <td>6.94</td>\n",
       "      <td>4.70</td>\n",
       "      <td>2.24</td>\n",
       "      <td>87.0</td>\n",
       "      <td>8.4</td>\n",
       "      <td>E</td>\n",
       "    </tr>\n",
       "    <tr>\n",
       "      <th>9</th>\n",
       "      <td>Duck Hunt</td>\n",
       "      <td>NES</td>\n",
       "      <td>1984.0</td>\n",
       "      <td>Shooter</td>\n",
       "      <td>26.93</td>\n",
       "      <td>0.63</td>\n",
       "      <td>0.28</td>\n",
       "      <td>0.47</td>\n",
       "      <td>NaN</td>\n",
       "      <td>NaN</td>\n",
       "      <td>NaN</td>\n",
       "    </tr>\n",
       "  </tbody>\n",
       "</table>\n",
       "</div>"
      ],
      "text/plain": [
       "                        Name Platform  Year_of_Release         Genre  \\\n",
       "0                 Wii Sports      Wii           2006.0        Sports   \n",
       "1          Super Mario Bros.      NES           1985.0      Platform   \n",
       "2             Mario Kart Wii      Wii           2008.0        Racing   \n",
       "3          Wii Sports Resort      Wii           2009.0        Sports   \n",
       "4   Pokemon Red/Pokemon Blue       GB           1996.0  Role-Playing   \n",
       "5                     Tetris       GB           1989.0        Puzzle   \n",
       "6      New Super Mario Bros.       DS           2006.0      Platform   \n",
       "7                   Wii Play      Wii           2006.0          Misc   \n",
       "8  New Super Mario Bros. Wii      Wii           2009.0      Platform   \n",
       "9                  Duck Hunt      NES           1984.0       Shooter   \n",
       "\n",
       "   NA_sales  EU_sales  JP_sales  Other_sales  Critic_Score User_Score Rating  \n",
       "0     41.36     28.96      3.77         8.45          76.0          8      E  \n",
       "1     29.08      3.58      6.81         0.77           NaN        NaN    NaN  \n",
       "2     15.68     12.76      3.79         3.29          82.0        8.3      E  \n",
       "3     15.61     10.93      3.28         2.95          80.0          8      E  \n",
       "4     11.27      8.89     10.22         1.00           NaN        NaN    NaN  \n",
       "5     23.20      2.26      4.22         0.58           NaN        NaN    NaN  \n",
       "6     11.28      9.14      6.50         2.88          89.0        8.5      E  \n",
       "7     13.96      9.18      2.93         2.84          58.0        6.6      E  \n",
       "8     14.44      6.94      4.70         2.24          87.0        8.4      E  \n",
       "9     26.93      0.63      0.28         0.47           NaN        NaN    NaN  "
      ]
     },
     "execution_count": 5,
     "metadata": {},
     "output_type": "execute_result"
    }
   ],
   "source": [
    "df = pd.read_csv('/Users/alena/Desktop/projects/Games/games.csv')\n",
    "df.head(10)"
   ]
  },
  {
   "cell_type": "markdown",
   "metadata": {},
   "source": [
    "- Name — название игры\n",
    "- Platform — платформа\n",
    "- Year_of_Release — год выпуска\n",
    "- Genre — жанр игры\n",
    "- NA_sales — продажи в Северной Америке (миллионы проданных копий)\n",
    "- EU_sales — продажи в Европе (миллионы проданных копий)\n",
    "- JP_sales — продажи в Японии (миллионы проданных копий)\n",
    "- Other_sales — продажи в других странах (миллионы проданных копий)\n",
    "- Critic_Score — оценка критиков (максимум 100)\n",
    "- User_Score — оценка пользователей (максимум 10)\n",
    "- Rating — рейтинг от организации ESRB (англ. Entertainment Software Rating Board). Эта ассоциация определяет рейтинг компьютерных игр и присваивает им подходящую возрастную категорию."
   ]
  },
  {
   "cell_type": "markdown",
   "metadata": {},
   "source": [
    "Просмотрим информацию о данных:"
   ]
  },
  {
   "cell_type": "code",
   "execution_count": 6,
   "metadata": {},
   "outputs": [
    {
     "name": "stdout",
     "output_type": "stream",
     "text": [
      "<class 'pandas.core.frame.DataFrame'>\n",
      "RangeIndex: 16715 entries, 0 to 16714\n",
      "Data columns (total 11 columns):\n",
      " #   Column           Non-Null Count  Dtype  \n",
      "---  ------           --------------  -----  \n",
      " 0   Name             16713 non-null  object \n",
      " 1   Platform         16715 non-null  object \n",
      " 2   Year_of_Release  16446 non-null  float64\n",
      " 3   Genre            16713 non-null  object \n",
      " 4   NA_sales         16715 non-null  float64\n",
      " 5   EU_sales         16715 non-null  float64\n",
      " 6   JP_sales         16715 non-null  float64\n",
      " 7   Other_sales      16715 non-null  float64\n",
      " 8   Critic_Score     8137 non-null   float64\n",
      " 9   User_Score       10014 non-null  object \n",
      " 10  Rating           9949 non-null   object \n",
      "dtypes: float64(6), object(5)\n",
      "memory usage: 1.4+ MB\n"
     ]
    }
   ],
   "source": [
    "df.info()"
   ]
  },
  {
   "cell_type": "markdown",
   "metadata": {},
   "source": [
    "## Предобработка данных"
   ]
  },
  {
   "cell_type": "markdown",
   "metadata": {},
   "source": [
    "### Регистр\n",
    "\n",
    "Приведем названия столбцов к нижнему регистру:"
   ]
  },
  {
   "cell_type": "code",
   "execution_count": 7,
   "metadata": {},
   "outputs": [
    {
     "data": {
      "text/html": [
       "<div>\n",
       "<style scoped>\n",
       "    .dataframe tbody tr th:only-of-type {\n",
       "        vertical-align: middle;\n",
       "    }\n",
       "\n",
       "    .dataframe tbody tr th {\n",
       "        vertical-align: top;\n",
       "    }\n",
       "\n",
       "    .dataframe thead th {\n",
       "        text-align: right;\n",
       "    }\n",
       "</style>\n",
       "<table border=\"1\" class=\"dataframe\">\n",
       "  <thead>\n",
       "    <tr style=\"text-align: right;\">\n",
       "      <th></th>\n",
       "      <th>name</th>\n",
       "      <th>platform</th>\n",
       "      <th>year_of_release</th>\n",
       "      <th>genre</th>\n",
       "      <th>na_sales</th>\n",
       "      <th>eu_sales</th>\n",
       "      <th>jp_sales</th>\n",
       "      <th>other_sales</th>\n",
       "      <th>critic_score</th>\n",
       "      <th>user_score</th>\n",
       "      <th>rating</th>\n",
       "    </tr>\n",
       "  </thead>\n",
       "  <tbody>\n",
       "    <tr>\n",
       "      <th>0</th>\n",
       "      <td>Wii Sports</td>\n",
       "      <td>Wii</td>\n",
       "      <td>2006.0</td>\n",
       "      <td>Sports</td>\n",
       "      <td>41.36</td>\n",
       "      <td>28.96</td>\n",
       "      <td>3.77</td>\n",
       "      <td>8.45</td>\n",
       "      <td>76.0</td>\n",
       "      <td>8</td>\n",
       "      <td>E</td>\n",
       "    </tr>\n",
       "    <tr>\n",
       "      <th>1</th>\n",
       "      <td>Super Mario Bros.</td>\n",
       "      <td>NES</td>\n",
       "      <td>1985.0</td>\n",
       "      <td>Platform</td>\n",
       "      <td>29.08</td>\n",
       "      <td>3.58</td>\n",
       "      <td>6.81</td>\n",
       "      <td>0.77</td>\n",
       "      <td>NaN</td>\n",
       "      <td>NaN</td>\n",
       "      <td>NaN</td>\n",
       "    </tr>\n",
       "    <tr>\n",
       "      <th>2</th>\n",
       "      <td>Mario Kart Wii</td>\n",
       "      <td>Wii</td>\n",
       "      <td>2008.0</td>\n",
       "      <td>Racing</td>\n",
       "      <td>15.68</td>\n",
       "      <td>12.76</td>\n",
       "      <td>3.79</td>\n",
       "      <td>3.29</td>\n",
       "      <td>82.0</td>\n",
       "      <td>8.3</td>\n",
       "      <td>E</td>\n",
       "    </tr>\n",
       "    <tr>\n",
       "      <th>3</th>\n",
       "      <td>Wii Sports Resort</td>\n",
       "      <td>Wii</td>\n",
       "      <td>2009.0</td>\n",
       "      <td>Sports</td>\n",
       "      <td>15.61</td>\n",
       "      <td>10.93</td>\n",
       "      <td>3.28</td>\n",
       "      <td>2.95</td>\n",
       "      <td>80.0</td>\n",
       "      <td>8</td>\n",
       "      <td>E</td>\n",
       "    </tr>\n",
       "    <tr>\n",
       "      <th>4</th>\n",
       "      <td>Pokemon Red/Pokemon Blue</td>\n",
       "      <td>GB</td>\n",
       "      <td>1996.0</td>\n",
       "      <td>Role-Playing</td>\n",
       "      <td>11.27</td>\n",
       "      <td>8.89</td>\n",
       "      <td>10.22</td>\n",
       "      <td>1.00</td>\n",
       "      <td>NaN</td>\n",
       "      <td>NaN</td>\n",
       "      <td>NaN</td>\n",
       "    </tr>\n",
       "  </tbody>\n",
       "</table>\n",
       "</div>"
      ],
      "text/plain": [
       "                       name platform  year_of_release         genre  na_sales  \\\n",
       "0                Wii Sports      Wii           2006.0        Sports     41.36   \n",
       "1         Super Mario Bros.      NES           1985.0      Platform     29.08   \n",
       "2            Mario Kart Wii      Wii           2008.0        Racing     15.68   \n",
       "3         Wii Sports Resort      Wii           2009.0        Sports     15.61   \n",
       "4  Pokemon Red/Pokemon Blue       GB           1996.0  Role-Playing     11.27   \n",
       "\n",
       "   eu_sales  jp_sales  other_sales  critic_score user_score rating  \n",
       "0     28.96      3.77         8.45          76.0          8      E  \n",
       "1      3.58      6.81         0.77           NaN        NaN    NaN  \n",
       "2     12.76      3.79         3.29          82.0        8.3      E  \n",
       "3     10.93      3.28         2.95          80.0          8      E  \n",
       "4      8.89     10.22         1.00           NaN        NaN    NaN  "
      ]
     },
     "execution_count": 7,
     "metadata": {},
     "output_type": "execute_result"
    }
   ],
   "source": [
    "df.columns = df.columns.str.lower()\n",
    "df.head()"
   ]
  },
  {
   "cell_type": "markdown",
   "metadata": {},
   "source": [
    "### Тип данных\n",
    "\n",
    "Преобразуем типы данных:\n",
    "- year_of_release - тип Int,тк это год\n",
    "- user_score - float, сейчас object\n",
    "\n",
    "Мы не будет переводить столбцы с продажами (na_sales, eu_sales, jp_sales, other_sales) - в тип int, так как это значения выручки, которые при округлении станут неточными."
   ]
  },
  {
   "cell_type": "code",
   "execution_count": 8,
   "metadata": {},
   "outputs": [],
   "source": [
    "df['year_of_release'] = df['year_of_release'].astype('float')"
   ]
  },
  {
   "cell_type": "markdown",
   "metadata": {},
   "source": [
    "В столбце user_score есть значение tbd - To Be Determined. Те рейтинг еще не определен.\n",
    "\n",
    "В таком случае оценивать игру будем по другим показателям. Значит, зрительский рейтинг можем заменить на 0."
   ]
  },
  {
   "cell_type": "code",
   "execution_count": 9,
   "metadata": {},
   "outputs": [
    {
     "data": {
      "text/html": [
       "<div>\n",
       "<style scoped>\n",
       "    .dataframe tbody tr th:only-of-type {\n",
       "        vertical-align: middle;\n",
       "    }\n",
       "\n",
       "    .dataframe tbody tr th {\n",
       "        vertical-align: top;\n",
       "    }\n",
       "\n",
       "    .dataframe thead th {\n",
       "        text-align: right;\n",
       "    }\n",
       "</style>\n",
       "<table border=\"1\" class=\"dataframe\">\n",
       "  <thead>\n",
       "    <tr style=\"text-align: right;\">\n",
       "      <th></th>\n",
       "      <th>name</th>\n",
       "      <th>platform</th>\n",
       "      <th>year_of_release</th>\n",
       "      <th>genre</th>\n",
       "      <th>na_sales</th>\n",
       "      <th>eu_sales</th>\n",
       "      <th>jp_sales</th>\n",
       "      <th>other_sales</th>\n",
       "      <th>critic_score</th>\n",
       "      <th>user_score</th>\n",
       "      <th>rating</th>\n",
       "    </tr>\n",
       "  </thead>\n",
       "  <tbody>\n",
       "    <tr>\n",
       "      <th>119</th>\n",
       "      <td>Zumba Fitness</td>\n",
       "      <td>Wii</td>\n",
       "      <td>2010.0</td>\n",
       "      <td>Sports</td>\n",
       "      <td>3.45</td>\n",
       "      <td>2.59</td>\n",
       "      <td>0.0</td>\n",
       "      <td>0.66</td>\n",
       "      <td>NaN</td>\n",
       "      <td>tbd</td>\n",
       "      <td>E</td>\n",
       "    </tr>\n",
       "    <tr>\n",
       "      <th>301</th>\n",
       "      <td>Namco Museum: 50th Anniversary</td>\n",
       "      <td>PS2</td>\n",
       "      <td>2005.0</td>\n",
       "      <td>Misc</td>\n",
       "      <td>2.08</td>\n",
       "      <td>1.35</td>\n",
       "      <td>0.0</td>\n",
       "      <td>0.54</td>\n",
       "      <td>61.0</td>\n",
       "      <td>tbd</td>\n",
       "      <td>E10+</td>\n",
       "    </tr>\n",
       "    <tr>\n",
       "      <th>520</th>\n",
       "      <td>Zumba Fitness 2</td>\n",
       "      <td>Wii</td>\n",
       "      <td>2011.0</td>\n",
       "      <td>Sports</td>\n",
       "      <td>1.51</td>\n",
       "      <td>1.03</td>\n",
       "      <td>0.0</td>\n",
       "      <td>0.27</td>\n",
       "      <td>NaN</td>\n",
       "      <td>tbd</td>\n",
       "      <td>T</td>\n",
       "    </tr>\n",
       "    <tr>\n",
       "      <th>645</th>\n",
       "      <td>uDraw Studio</td>\n",
       "      <td>Wii</td>\n",
       "      <td>2010.0</td>\n",
       "      <td>Misc</td>\n",
       "      <td>1.65</td>\n",
       "      <td>0.57</td>\n",
       "      <td>0.0</td>\n",
       "      <td>0.20</td>\n",
       "      <td>71.0</td>\n",
       "      <td>tbd</td>\n",
       "      <td>E</td>\n",
       "    </tr>\n",
       "    <tr>\n",
       "      <th>657</th>\n",
       "      <td>Frogger's Adventures: Temple of the Frog</td>\n",
       "      <td>GBA</td>\n",
       "      <td>NaN</td>\n",
       "      <td>Adventure</td>\n",
       "      <td>2.15</td>\n",
       "      <td>0.18</td>\n",
       "      <td>0.0</td>\n",
       "      <td>0.07</td>\n",
       "      <td>73.0</td>\n",
       "      <td>tbd</td>\n",
       "      <td>E</td>\n",
       "    </tr>\n",
       "  </tbody>\n",
       "</table>\n",
       "</div>"
      ],
      "text/plain": [
       "                                         name platform  year_of_release  \\\n",
       "119                             Zumba Fitness      Wii           2010.0   \n",
       "301            Namco Museum: 50th Anniversary      PS2           2005.0   \n",
       "520                           Zumba Fitness 2      Wii           2011.0   \n",
       "645                              uDraw Studio      Wii           2010.0   \n",
       "657  Frogger's Adventures: Temple of the Frog      GBA              NaN   \n",
       "\n",
       "         genre  na_sales  eu_sales  jp_sales  other_sales  critic_score  \\\n",
       "119     Sports      3.45      2.59       0.0         0.66           NaN   \n",
       "301       Misc      2.08      1.35       0.0         0.54          61.0   \n",
       "520     Sports      1.51      1.03       0.0         0.27           NaN   \n",
       "645       Misc      1.65      0.57       0.0         0.20          71.0   \n",
       "657  Adventure      2.15      0.18       0.0         0.07          73.0   \n",
       "\n",
       "    user_score rating  \n",
       "119        tbd      E  \n",
       "301        tbd   E10+  \n",
       "520        tbd      T  \n",
       "645        tbd      E  \n",
       "657        tbd      E  "
      ]
     },
     "execution_count": 9,
     "metadata": {},
     "output_type": "execute_result"
    }
   ],
   "source": [
    "df.query('user_score == \"tbd\"').head()"
   ]
  },
  {
   "cell_type": "code",
   "execution_count": 10,
   "metadata": {},
   "outputs": [],
   "source": [
    "df['user_score'] = df['user_score'].replace('tbd', '0').astype('float')"
   ]
  },
  {
   "cell_type": "markdown",
   "metadata": {},
   "source": [
    "### Пропуски\n",
    "\n",
    "Посмотрим пропуски в столбцах:"
   ]
  },
  {
   "cell_type": "code",
   "execution_count": 11,
   "metadata": {},
   "outputs": [
    {
     "data": {
      "text/plain": [
       "name                  2\n",
       "platform              0\n",
       "year_of_release     269\n",
       "genre                 2\n",
       "na_sales              0\n",
       "eu_sales              0\n",
       "jp_sales              0\n",
       "other_sales           0\n",
       "critic_score       8578\n",
       "user_score         6701\n",
       "rating             6766\n",
       "dtype: int64"
      ]
     },
     "execution_count": 11,
     "metadata": {},
     "output_type": "execute_result"
    }
   ],
   "source": [
    "df.isnull().sum()"
   ]
  },
  {
   "cell_type": "code",
   "execution_count": 12,
   "metadata": {},
   "outputs": [
    {
     "data": {
      "text/html": [
       "<div>\n",
       "<style scoped>\n",
       "    .dataframe tbody tr th:only-of-type {\n",
       "        vertical-align: middle;\n",
       "    }\n",
       "\n",
       "    .dataframe tbody tr th {\n",
       "        vertical-align: top;\n",
       "    }\n",
       "\n",
       "    .dataframe thead th {\n",
       "        text-align: right;\n",
       "    }\n",
       "</style>\n",
       "<table border=\"1\" class=\"dataframe\">\n",
       "  <thead>\n",
       "    <tr style=\"text-align: right;\">\n",
       "      <th></th>\n",
       "      <th>name</th>\n",
       "      <th>platform</th>\n",
       "      <th>year_of_release</th>\n",
       "      <th>genre</th>\n",
       "      <th>na_sales</th>\n",
       "      <th>eu_sales</th>\n",
       "      <th>jp_sales</th>\n",
       "      <th>other_sales</th>\n",
       "      <th>critic_score</th>\n",
       "      <th>user_score</th>\n",
       "      <th>rating</th>\n",
       "    </tr>\n",
       "  </thead>\n",
       "  <tbody>\n",
       "    <tr>\n",
       "      <th>16714</th>\n",
       "      <td>Winning Post 8 2016</td>\n",
       "      <td>PSV</td>\n",
       "      <td>2016.0</td>\n",
       "      <td>Simulation</td>\n",
       "      <td>0.00</td>\n",
       "      <td>0.00</td>\n",
       "      <td>0.01</td>\n",
       "      <td>0.00</td>\n",
       "      <td>NaN</td>\n",
       "      <td>NaN</td>\n",
       "      <td>NaN</td>\n",
       "    </tr>\n",
       "    <tr>\n",
       "      <th>10819</th>\n",
       "      <td>Lego Star Wars: The Force Awakens</td>\n",
       "      <td>PSV</td>\n",
       "      <td>2016.0</td>\n",
       "      <td>Action</td>\n",
       "      <td>0.01</td>\n",
       "      <td>0.06</td>\n",
       "      <td>0.01</td>\n",
       "      <td>0.02</td>\n",
       "      <td>NaN</td>\n",
       "      <td>7.1</td>\n",
       "      <td>E10+</td>\n",
       "    </tr>\n",
       "    <tr>\n",
       "      <th>15364</th>\n",
       "      <td>Atari Flashback Classics: Volume 1</td>\n",
       "      <td>XOne</td>\n",
       "      <td>2016.0</td>\n",
       "      <td>Misc</td>\n",
       "      <td>0.02</td>\n",
       "      <td>0.00</td>\n",
       "      <td>0.00</td>\n",
       "      <td>0.00</td>\n",
       "      <td>NaN</td>\n",
       "      <td>0.0</td>\n",
       "      <td>E</td>\n",
       "    </tr>\n",
       "    <tr>\n",
       "      <th>15371</th>\n",
       "      <td>Resident Evil Zero</td>\n",
       "      <td>PC</td>\n",
       "      <td>2016.0</td>\n",
       "      <td>Action</td>\n",
       "      <td>0.01</td>\n",
       "      <td>0.01</td>\n",
       "      <td>0.00</td>\n",
       "      <td>0.00</td>\n",
       "      <td>NaN</td>\n",
       "      <td>NaN</td>\n",
       "      <td>NaN</td>\n",
       "    </tr>\n",
       "    <tr>\n",
       "      <th>11294</th>\n",
       "      <td>Toukiden 2</td>\n",
       "      <td>PS4</td>\n",
       "      <td>2016.0</td>\n",
       "      <td>Action</td>\n",
       "      <td>0.00</td>\n",
       "      <td>0.00</td>\n",
       "      <td>0.08</td>\n",
       "      <td>0.00</td>\n",
       "      <td>NaN</td>\n",
       "      <td>NaN</td>\n",
       "      <td>NaN</td>\n",
       "    </tr>\n",
       "    <tr>\n",
       "      <th>15383</th>\n",
       "      <td>Paragon</td>\n",
       "      <td>PS4</td>\n",
       "      <td>2016.0</td>\n",
       "      <td>Action</td>\n",
       "      <td>0.02</td>\n",
       "      <td>0.00</td>\n",
       "      <td>0.00</td>\n",
       "      <td>0.00</td>\n",
       "      <td>NaN</td>\n",
       "      <td>6.1</td>\n",
       "      <td>NaN</td>\n",
       "    </tr>\n",
       "    <tr>\n",
       "      <th>15401</th>\n",
       "      <td>Atari Flashback Classics: Volume 2</td>\n",
       "      <td>XOne</td>\n",
       "      <td>2016.0</td>\n",
       "      <td>Misc</td>\n",
       "      <td>0.02</td>\n",
       "      <td>0.00</td>\n",
       "      <td>0.00</td>\n",
       "      <td>0.00</td>\n",
       "      <td>NaN</td>\n",
       "      <td>0.0</td>\n",
       "      <td>E</td>\n",
       "    </tr>\n",
       "    <tr>\n",
       "      <th>15403</th>\n",
       "      <td>Hakuoki: Shinkai - Hana no Shou</td>\n",
       "      <td>PSV</td>\n",
       "      <td>2016.0</td>\n",
       "      <td>Adventure</td>\n",
       "      <td>0.00</td>\n",
       "      <td>0.00</td>\n",
       "      <td>0.02</td>\n",
       "      <td>0.00</td>\n",
       "      <td>NaN</td>\n",
       "      <td>NaN</td>\n",
       "      <td>NaN</td>\n",
       "    </tr>\n",
       "    <tr>\n",
       "      <th>11255</th>\n",
       "      <td>SD Gundam G Generation Genesis</td>\n",
       "      <td>PSV</td>\n",
       "      <td>2016.0</td>\n",
       "      <td>Strategy</td>\n",
       "      <td>0.00</td>\n",
       "      <td>0.00</td>\n",
       "      <td>0.09</td>\n",
       "      <td>0.00</td>\n",
       "      <td>NaN</td>\n",
       "      <td>NaN</td>\n",
       "      <td>NaN</td>\n",
       "    </tr>\n",
       "    <tr>\n",
       "      <th>11243</th>\n",
       "      <td>Assassin's Creed Chronicles</td>\n",
       "      <td>PS4</td>\n",
       "      <td>2016.0</td>\n",
       "      <td>Action</td>\n",
       "      <td>0.01</td>\n",
       "      <td>0.05</td>\n",
       "      <td>0.01</td>\n",
       "      <td>0.01</td>\n",
       "      <td>NaN</td>\n",
       "      <td>6.1</td>\n",
       "      <td>T</td>\n",
       "    </tr>\n",
       "  </tbody>\n",
       "</table>\n",
       "</div>"
      ],
      "text/plain": [
       "                                     name platform  year_of_release  \\\n",
       "16714                 Winning Post 8 2016      PSV           2016.0   \n",
       "10819   Lego Star Wars: The Force Awakens      PSV           2016.0   \n",
       "15364  Atari Flashback Classics: Volume 1     XOne           2016.0   \n",
       "15371                  Resident Evil Zero       PC           2016.0   \n",
       "11294                          Toukiden 2      PS4           2016.0   \n",
       "15383                             Paragon      PS4           2016.0   \n",
       "15401  Atari Flashback Classics: Volume 2     XOne           2016.0   \n",
       "15403     Hakuoki: Shinkai - Hana no Shou      PSV           2016.0   \n",
       "11255      SD Gundam G Generation Genesis      PSV           2016.0   \n",
       "11243         Assassin's Creed Chronicles      PS4           2016.0   \n",
       "\n",
       "            genre  na_sales  eu_sales  jp_sales  other_sales  critic_score  \\\n",
       "16714  Simulation      0.00      0.00      0.01         0.00           NaN   \n",
       "10819      Action      0.01      0.06      0.01         0.02           NaN   \n",
       "15364        Misc      0.02      0.00      0.00         0.00           NaN   \n",
       "15371      Action      0.01      0.01      0.00         0.00           NaN   \n",
       "11294      Action      0.00      0.00      0.08         0.00           NaN   \n",
       "15383      Action      0.02      0.00      0.00         0.00           NaN   \n",
       "15401        Misc      0.02      0.00      0.00         0.00           NaN   \n",
       "15403   Adventure      0.00      0.00      0.02         0.00           NaN   \n",
       "11255    Strategy      0.00      0.00      0.09         0.00           NaN   \n",
       "11243      Action      0.01      0.05      0.01         0.01           NaN   \n",
       "\n",
       "       user_score rating  \n",
       "16714         NaN    NaN  \n",
       "10819         7.1   E10+  \n",
       "15364         0.0      E  \n",
       "15371         NaN    NaN  \n",
       "11294         NaN    NaN  \n",
       "15383         6.1    NaN  \n",
       "15401         0.0      E  \n",
       "15403         NaN    NaN  \n",
       "11255         NaN    NaN  \n",
       "11243         6.1      T  "
      ]
     },
     "execution_count": 12,
     "metadata": {},
     "output_type": "execute_result"
    }
   ],
   "source": [
    "df[df['critic_score'].isnull()].sort_values(by = 'year_of_release', ascending = False).head(10)"
   ]
  },
  {
   "cell_type": "code",
   "execution_count": 13,
   "metadata": {},
   "outputs": [
    {
     "data": {
      "text/html": [
       "<div>\n",
       "<style scoped>\n",
       "    .dataframe tbody tr th:only-of-type {\n",
       "        vertical-align: middle;\n",
       "    }\n",
       "\n",
       "    .dataframe tbody tr th {\n",
       "        vertical-align: top;\n",
       "    }\n",
       "\n",
       "    .dataframe thead th {\n",
       "        text-align: right;\n",
       "    }\n",
       "</style>\n",
       "<table border=\"1\" class=\"dataframe\">\n",
       "  <thead>\n",
       "    <tr style=\"text-align: right;\">\n",
       "      <th></th>\n",
       "      <th>name</th>\n",
       "      <th>platform</th>\n",
       "      <th>year_of_release</th>\n",
       "      <th>genre</th>\n",
       "      <th>na_sales</th>\n",
       "      <th>eu_sales</th>\n",
       "      <th>jp_sales</th>\n",
       "      <th>other_sales</th>\n",
       "      <th>critic_score</th>\n",
       "      <th>user_score</th>\n",
       "      <th>rating</th>\n",
       "    </tr>\n",
       "  </thead>\n",
       "  <tbody>\n",
       "    <tr>\n",
       "      <th>183</th>\n",
       "      <td>Madden NFL 2004</td>\n",
       "      <td>PS2</td>\n",
       "      <td>NaN</td>\n",
       "      <td>Sports</td>\n",
       "      <td>4.26</td>\n",
       "      <td>0.26</td>\n",
       "      <td>0.01</td>\n",
       "      <td>0.71</td>\n",
       "      <td>94.0</td>\n",
       "      <td>8.5</td>\n",
       "      <td>E</td>\n",
       "    </tr>\n",
       "    <tr>\n",
       "      <th>609</th>\n",
       "      <td>Space Invaders</td>\n",
       "      <td>2600</td>\n",
       "      <td>NaN</td>\n",
       "      <td>Shooter</td>\n",
       "      <td>2.36</td>\n",
       "      <td>0.14</td>\n",
       "      <td>0.00</td>\n",
       "      <td>0.03</td>\n",
       "      <td>NaN</td>\n",
       "      <td>NaN</td>\n",
       "      <td>NaN</td>\n",
       "    </tr>\n",
       "    <tr>\n",
       "      <th>657</th>\n",
       "      <td>Frogger's Adventures: Temple of the Frog</td>\n",
       "      <td>GBA</td>\n",
       "      <td>NaN</td>\n",
       "      <td>Adventure</td>\n",
       "      <td>2.15</td>\n",
       "      <td>0.18</td>\n",
       "      <td>0.00</td>\n",
       "      <td>0.07</td>\n",
       "      <td>73.0</td>\n",
       "      <td>0.0</td>\n",
       "      <td>E</td>\n",
       "    </tr>\n",
       "    <tr>\n",
       "      <th>627</th>\n",
       "      <td>Rock Band</td>\n",
       "      <td>X360</td>\n",
       "      <td>NaN</td>\n",
       "      <td>Misc</td>\n",
       "      <td>1.93</td>\n",
       "      <td>0.33</td>\n",
       "      <td>0.00</td>\n",
       "      <td>0.21</td>\n",
       "      <td>92.0</td>\n",
       "      <td>8.2</td>\n",
       "      <td>T</td>\n",
       "    </tr>\n",
       "    <tr>\n",
       "      <th>456</th>\n",
       "      <td>LEGO Batman: The Videogame</td>\n",
       "      <td>Wii</td>\n",
       "      <td>NaN</td>\n",
       "      <td>Action</td>\n",
       "      <td>1.80</td>\n",
       "      <td>0.97</td>\n",
       "      <td>0.00</td>\n",
       "      <td>0.29</td>\n",
       "      <td>74.0</td>\n",
       "      <td>7.9</td>\n",
       "      <td>E10+</td>\n",
       "    </tr>\n",
       "    <tr>\n",
       "      <th>475</th>\n",
       "      <td>wwe Smackdown vs. Raw 2006</td>\n",
       "      <td>PS2</td>\n",
       "      <td>NaN</td>\n",
       "      <td>Fighting</td>\n",
       "      <td>1.57</td>\n",
       "      <td>1.02</td>\n",
       "      <td>0.00</td>\n",
       "      <td>0.41</td>\n",
       "      <td>NaN</td>\n",
       "      <td>NaN</td>\n",
       "      <td>NaN</td>\n",
       "    </tr>\n",
       "    <tr>\n",
       "      <th>678</th>\n",
       "      <td>LEGO Indiana Jones: The Original Adventures</td>\n",
       "      <td>Wii</td>\n",
       "      <td>NaN</td>\n",
       "      <td>Action</td>\n",
       "      <td>1.51</td>\n",
       "      <td>0.61</td>\n",
       "      <td>0.00</td>\n",
       "      <td>0.21</td>\n",
       "      <td>78.0</td>\n",
       "      <td>6.6</td>\n",
       "      <td>E10+</td>\n",
       "    </tr>\n",
       "    <tr>\n",
       "      <th>805</th>\n",
       "      <td>Rock Band</td>\n",
       "      <td>Wii</td>\n",
       "      <td>NaN</td>\n",
       "      <td>Misc</td>\n",
       "      <td>1.33</td>\n",
       "      <td>0.56</td>\n",
       "      <td>0.00</td>\n",
       "      <td>0.20</td>\n",
       "      <td>80.0</td>\n",
       "      <td>6.3</td>\n",
       "      <td>T</td>\n",
       "    </tr>\n",
       "    <tr>\n",
       "      <th>1506</th>\n",
       "      <td>Adventure</td>\n",
       "      <td>2600</td>\n",
       "      <td>NaN</td>\n",
       "      <td>Adventure</td>\n",
       "      <td>1.21</td>\n",
       "      <td>0.08</td>\n",
       "      <td>0.00</td>\n",
       "      <td>0.01</td>\n",
       "      <td>NaN</td>\n",
       "      <td>NaN</td>\n",
       "      <td>NaN</td>\n",
       "    </tr>\n",
       "    <tr>\n",
       "      <th>719</th>\n",
       "      <td>Call of Duty 3</td>\n",
       "      <td>Wii</td>\n",
       "      <td>NaN</td>\n",
       "      <td>Shooter</td>\n",
       "      <td>1.17</td>\n",
       "      <td>0.84</td>\n",
       "      <td>0.00</td>\n",
       "      <td>0.23</td>\n",
       "      <td>69.0</td>\n",
       "      <td>6.7</td>\n",
       "      <td>T</td>\n",
       "    </tr>\n",
       "  </tbody>\n",
       "</table>\n",
       "</div>"
      ],
      "text/plain": [
       "                                             name platform  year_of_release  \\\n",
       "183                               Madden NFL 2004      PS2              NaN   \n",
       "609                                Space Invaders     2600              NaN   \n",
       "657      Frogger's Adventures: Temple of the Frog      GBA              NaN   \n",
       "627                                     Rock Band     X360              NaN   \n",
       "456                    LEGO Batman: The Videogame      Wii              NaN   \n",
       "475                    wwe Smackdown vs. Raw 2006      PS2              NaN   \n",
       "678   LEGO Indiana Jones: The Original Adventures      Wii              NaN   \n",
       "805                                     Rock Band      Wii              NaN   \n",
       "1506                                    Adventure     2600              NaN   \n",
       "719                                Call of Duty 3      Wii              NaN   \n",
       "\n",
       "          genre  na_sales  eu_sales  jp_sales  other_sales  critic_score  \\\n",
       "183      Sports      4.26      0.26      0.01         0.71          94.0   \n",
       "609     Shooter      2.36      0.14      0.00         0.03           NaN   \n",
       "657   Adventure      2.15      0.18      0.00         0.07          73.0   \n",
       "627        Misc      1.93      0.33      0.00         0.21          92.0   \n",
       "456      Action      1.80      0.97      0.00         0.29          74.0   \n",
       "475    Fighting      1.57      1.02      0.00         0.41           NaN   \n",
       "678      Action      1.51      0.61      0.00         0.21          78.0   \n",
       "805        Misc      1.33      0.56      0.00         0.20          80.0   \n",
       "1506  Adventure      1.21      0.08      0.00         0.01           NaN   \n",
       "719     Shooter      1.17      0.84      0.00         0.23          69.0   \n",
       "\n",
       "      user_score rating  \n",
       "183          8.5      E  \n",
       "609          NaN    NaN  \n",
       "657          0.0      E  \n",
       "627          8.2      T  \n",
       "456          7.9   E10+  \n",
       "475          NaN    NaN  \n",
       "678          6.6   E10+  \n",
       "805          6.3      T  \n",
       "1506         NaN    NaN  \n",
       "719          6.7      T  "
      ]
     },
     "execution_count": 13,
     "metadata": {},
     "output_type": "execute_result"
    }
   ],
   "source": [
    "df[df['year_of_release'].isnull()].sort_values(by = 'na_sales', ascending = False).head(10)"
   ]
  },
  {
   "cell_type": "code",
   "execution_count": 14,
   "metadata": {},
   "outputs": [],
   "source": [
    "df['critic_score'] = df['critic_score'].fillna(0)\n",
    "df['user_score'] = df['user_score'].fillna(0)\n",
    "df['rating'] = df['rating'].fillna(0)"
   ]
  },
  {
   "cell_type": "markdown",
   "metadata": {},
   "source": [
    "Cтроки с пропусками в столбцах genre и name удалим - их всего 2 + по строкам почти нет данных\n",
    "\n",
    "Пропуски в столбце year_of_release пока оставим."
   ]
  },
  {
   "cell_type": "code",
   "execution_count": 15,
   "metadata": {},
   "outputs": [],
   "source": [
    "df.dropna(subset=['name'], inplace=True) "
   ]
  },
  {
   "cell_type": "code",
   "execution_count": 16,
   "metadata": {},
   "outputs": [
    {
     "data": {
      "text/plain": [
       "name                 0\n",
       "platform             0\n",
       "year_of_release    269\n",
       "genre                0\n",
       "na_sales             0\n",
       "eu_sales             0\n",
       "jp_sales             0\n",
       "other_sales          0\n",
       "critic_score         0\n",
       "user_score           0\n",
       "rating               0\n",
       "dtype: int64"
      ]
     },
     "execution_count": 16,
     "metadata": {},
     "output_type": "execute_result"
    }
   ],
   "source": [
    "df.isnull().sum()"
   ]
  },
  {
   "cell_type": "markdown",
   "metadata": {},
   "source": [
    "### Суммарные продажи\n",
    "\n",
    "Посчитаем суммарные продажи и добавим их в новый столбец"
   ]
  },
  {
   "cell_type": "code",
   "execution_count": 17,
   "metadata": {},
   "outputs": [
    {
     "data": {
      "text/html": [
       "<div>\n",
       "<style scoped>\n",
       "    .dataframe tbody tr th:only-of-type {\n",
       "        vertical-align: middle;\n",
       "    }\n",
       "\n",
       "    .dataframe tbody tr th {\n",
       "        vertical-align: top;\n",
       "    }\n",
       "\n",
       "    .dataframe thead th {\n",
       "        text-align: right;\n",
       "    }\n",
       "</style>\n",
       "<table border=\"1\" class=\"dataframe\">\n",
       "  <thead>\n",
       "    <tr style=\"text-align: right;\">\n",
       "      <th></th>\n",
       "      <th>name</th>\n",
       "      <th>platform</th>\n",
       "      <th>year_of_release</th>\n",
       "      <th>genre</th>\n",
       "      <th>na_sales</th>\n",
       "      <th>eu_sales</th>\n",
       "      <th>jp_sales</th>\n",
       "      <th>other_sales</th>\n",
       "      <th>critic_score</th>\n",
       "      <th>user_score</th>\n",
       "      <th>rating</th>\n",
       "      <th>total_sales</th>\n",
       "    </tr>\n",
       "  </thead>\n",
       "  <tbody>\n",
       "    <tr>\n",
       "      <th>0</th>\n",
       "      <td>Wii Sports</td>\n",
       "      <td>Wii</td>\n",
       "      <td>2006.0</td>\n",
       "      <td>Sports</td>\n",
       "      <td>41.36</td>\n",
       "      <td>28.96</td>\n",
       "      <td>3.77</td>\n",
       "      <td>8.45</td>\n",
       "      <td>76.0</td>\n",
       "      <td>8.0</td>\n",
       "      <td>E</td>\n",
       "      <td>82.54</td>\n",
       "    </tr>\n",
       "    <tr>\n",
       "      <th>1</th>\n",
       "      <td>Super Mario Bros.</td>\n",
       "      <td>NES</td>\n",
       "      <td>1985.0</td>\n",
       "      <td>Platform</td>\n",
       "      <td>29.08</td>\n",
       "      <td>3.58</td>\n",
       "      <td>6.81</td>\n",
       "      <td>0.77</td>\n",
       "      <td>0.0</td>\n",
       "      <td>0.0</td>\n",
       "      <td>0</td>\n",
       "      <td>40.24</td>\n",
       "    </tr>\n",
       "    <tr>\n",
       "      <th>2</th>\n",
       "      <td>Mario Kart Wii</td>\n",
       "      <td>Wii</td>\n",
       "      <td>2008.0</td>\n",
       "      <td>Racing</td>\n",
       "      <td>15.68</td>\n",
       "      <td>12.76</td>\n",
       "      <td>3.79</td>\n",
       "      <td>3.29</td>\n",
       "      <td>82.0</td>\n",
       "      <td>8.3</td>\n",
       "      <td>E</td>\n",
       "      <td>35.52</td>\n",
       "    </tr>\n",
       "    <tr>\n",
       "      <th>3</th>\n",
       "      <td>Wii Sports Resort</td>\n",
       "      <td>Wii</td>\n",
       "      <td>2009.0</td>\n",
       "      <td>Sports</td>\n",
       "      <td>15.61</td>\n",
       "      <td>10.93</td>\n",
       "      <td>3.28</td>\n",
       "      <td>2.95</td>\n",
       "      <td>80.0</td>\n",
       "      <td>8.0</td>\n",
       "      <td>E</td>\n",
       "      <td>32.77</td>\n",
       "    </tr>\n",
       "    <tr>\n",
       "      <th>4</th>\n",
       "      <td>Pokemon Red/Pokemon Blue</td>\n",
       "      <td>GB</td>\n",
       "      <td>1996.0</td>\n",
       "      <td>Role-Playing</td>\n",
       "      <td>11.27</td>\n",
       "      <td>8.89</td>\n",
       "      <td>10.22</td>\n",
       "      <td>1.00</td>\n",
       "      <td>0.0</td>\n",
       "      <td>0.0</td>\n",
       "      <td>0</td>\n",
       "      <td>31.38</td>\n",
       "    </tr>\n",
       "  </tbody>\n",
       "</table>\n",
       "</div>"
      ],
      "text/plain": [
       "                       name platform  year_of_release         genre  na_sales  \\\n",
       "0                Wii Sports      Wii           2006.0        Sports     41.36   \n",
       "1         Super Mario Bros.      NES           1985.0      Platform     29.08   \n",
       "2            Mario Kart Wii      Wii           2008.0        Racing     15.68   \n",
       "3         Wii Sports Resort      Wii           2009.0        Sports     15.61   \n",
       "4  Pokemon Red/Pokemon Blue       GB           1996.0  Role-Playing     11.27   \n",
       "\n",
       "   eu_sales  jp_sales  other_sales  critic_score  user_score rating  \\\n",
       "0     28.96      3.77         8.45          76.0         8.0      E   \n",
       "1      3.58      6.81         0.77           0.0         0.0      0   \n",
       "2     12.76      3.79         3.29          82.0         8.3      E   \n",
       "3     10.93      3.28         2.95          80.0         8.0      E   \n",
       "4      8.89     10.22         1.00           0.0         0.0      0   \n",
       "\n",
       "   total_sales  \n",
       "0        82.54  \n",
       "1        40.24  \n",
       "2        35.52  \n",
       "3        32.77  \n",
       "4        31.38  "
      ]
     },
     "execution_count": 17,
     "metadata": {},
     "output_type": "execute_result"
    }
   ],
   "source": [
    "df['total_sales'] = df[['na_sales']+['eu_sales']+['jp_sales']+['other_sales']].sum(axis=1)\n",
    "df.head()"
   ]
  },
  {
   "cell_type": "markdown",
   "metadata": {},
   "source": [
    "### Вывод: предобработка данных\n",
    "\n",
    "1) Заменили названия столбцов\n",
    "\n",
    "2) Преобразовали типы данных\n",
    "\n",
    "3) Обработали пропуски:\n",
    "- столбцы name и genre - удалили, тк их мало\n",
    "- столбцы с рейтингом - заменили на 0. Пропуск означает, что рейтинг не сформирован. Либо это очень старые игры, либо непопулярные, либо недавно вышедшие (рейтинга еще нет)\n",
    "- столбец year_of_release - пока оставили, тк есть другие данные\n",
    "\n",
    "4) Посчитали суммарные продажи и добавили их в новый столбец"
   ]
  },
  {
   "cell_type": "markdown",
   "metadata": {},
   "source": [
    "## Исследовательский анализ данных"
   ]
  },
  {
   "cell_type": "code",
   "execution_count": 18,
   "metadata": {},
   "outputs": [
    {
     "data": {
      "text/html": [
       "<div>\n",
       "<style scoped>\n",
       "    .dataframe tbody tr th:only-of-type {\n",
       "        vertical-align: middle;\n",
       "    }\n",
       "\n",
       "    .dataframe tbody tr th {\n",
       "        vertical-align: top;\n",
       "    }\n",
       "\n",
       "    .dataframe thead th {\n",
       "        text-align: right;\n",
       "    }\n",
       "</style>\n",
       "<table border=\"1\" class=\"dataframe\">\n",
       "  <thead>\n",
       "    <tr style=\"text-align: right;\">\n",
       "      <th></th>\n",
       "      <th>name</th>\n",
       "      <th>platform</th>\n",
       "      <th>year_of_release</th>\n",
       "      <th>genre</th>\n",
       "      <th>na_sales</th>\n",
       "      <th>eu_sales</th>\n",
       "      <th>jp_sales</th>\n",
       "      <th>other_sales</th>\n",
       "      <th>critic_score</th>\n",
       "      <th>user_score</th>\n",
       "      <th>rating</th>\n",
       "      <th>total_sales</th>\n",
       "    </tr>\n",
       "  </thead>\n",
       "  <tbody>\n",
       "    <tr>\n",
       "      <th>0</th>\n",
       "      <td>Wii Sports</td>\n",
       "      <td>Wii</td>\n",
       "      <td>2006.0</td>\n",
       "      <td>Sports</td>\n",
       "      <td>41.36</td>\n",
       "      <td>28.96</td>\n",
       "      <td>3.77</td>\n",
       "      <td>8.45</td>\n",
       "      <td>76.0</td>\n",
       "      <td>8.0</td>\n",
       "      <td>E</td>\n",
       "      <td>82.54</td>\n",
       "    </tr>\n",
       "    <tr>\n",
       "      <th>1</th>\n",
       "      <td>Super Mario Bros.</td>\n",
       "      <td>NES</td>\n",
       "      <td>1985.0</td>\n",
       "      <td>Platform</td>\n",
       "      <td>29.08</td>\n",
       "      <td>3.58</td>\n",
       "      <td>6.81</td>\n",
       "      <td>0.77</td>\n",
       "      <td>0.0</td>\n",
       "      <td>0.0</td>\n",
       "      <td>0</td>\n",
       "      <td>40.24</td>\n",
       "    </tr>\n",
       "    <tr>\n",
       "      <th>2</th>\n",
       "      <td>Mario Kart Wii</td>\n",
       "      <td>Wii</td>\n",
       "      <td>2008.0</td>\n",
       "      <td>Racing</td>\n",
       "      <td>15.68</td>\n",
       "      <td>12.76</td>\n",
       "      <td>3.79</td>\n",
       "      <td>3.29</td>\n",
       "      <td>82.0</td>\n",
       "      <td>8.3</td>\n",
       "      <td>E</td>\n",
       "      <td>35.52</td>\n",
       "    </tr>\n",
       "    <tr>\n",
       "      <th>3</th>\n",
       "      <td>Wii Sports Resort</td>\n",
       "      <td>Wii</td>\n",
       "      <td>2009.0</td>\n",
       "      <td>Sports</td>\n",
       "      <td>15.61</td>\n",
       "      <td>10.93</td>\n",
       "      <td>3.28</td>\n",
       "      <td>2.95</td>\n",
       "      <td>80.0</td>\n",
       "      <td>8.0</td>\n",
       "      <td>E</td>\n",
       "      <td>32.77</td>\n",
       "    </tr>\n",
       "    <tr>\n",
       "      <th>4</th>\n",
       "      <td>Pokemon Red/Pokemon Blue</td>\n",
       "      <td>GB</td>\n",
       "      <td>1996.0</td>\n",
       "      <td>Role-Playing</td>\n",
       "      <td>11.27</td>\n",
       "      <td>8.89</td>\n",
       "      <td>10.22</td>\n",
       "      <td>1.00</td>\n",
       "      <td>0.0</td>\n",
       "      <td>0.0</td>\n",
       "      <td>0</td>\n",
       "      <td>31.38</td>\n",
       "    </tr>\n",
       "  </tbody>\n",
       "</table>\n",
       "</div>"
      ],
      "text/plain": [
       "                       name platform  year_of_release         genre  na_sales  \\\n",
       "0                Wii Sports      Wii           2006.0        Sports     41.36   \n",
       "1         Super Mario Bros.      NES           1985.0      Platform     29.08   \n",
       "2            Mario Kart Wii      Wii           2008.0        Racing     15.68   \n",
       "3         Wii Sports Resort      Wii           2009.0        Sports     15.61   \n",
       "4  Pokemon Red/Pokemon Blue       GB           1996.0  Role-Playing     11.27   \n",
       "\n",
       "   eu_sales  jp_sales  other_sales  critic_score  user_score rating  \\\n",
       "0     28.96      3.77         8.45          76.0         8.0      E   \n",
       "1      3.58      6.81         0.77           0.0         0.0      0   \n",
       "2     12.76      3.79         3.29          82.0         8.3      E   \n",
       "3     10.93      3.28         2.95          80.0         8.0      E   \n",
       "4      8.89     10.22         1.00           0.0         0.0      0   \n",
       "\n",
       "   total_sales  \n",
       "0        82.54  \n",
       "1        40.24  \n",
       "2        35.52  \n",
       "3        32.77  \n",
       "4        31.38  "
      ]
     },
     "execution_count": 18,
     "metadata": {},
     "output_type": "execute_result"
    }
   ],
   "source": [
    "df.head()"
   ]
  },
  {
   "cell_type": "markdown",
   "metadata": {},
   "source": [
    "### Выпуск игр в разные годы\n",
    "Посмотрим, сколько игр выпускалось в разные годы:"
   ]
  },
  {
   "cell_type": "code",
   "execution_count": 19,
   "metadata": {},
   "outputs": [
    {
     "data": {
      "text/plain": [
       "Text(0, 0.5, 'Количество игр')"
      ]
     },
     "execution_count": 19,
     "metadata": {},
     "output_type": "execute_result"
    },
    {
     "data": {
      "image/png": "[encoded data removed]",
      "text/plain": [
       "<Figure size 432x288 with 1 Axes>"
      ]
     },
     "metadata": {},
     "output_type": "display_data"
    },
    {
     "data": {
      "image/png": "[encoded data removed]",
      "text/plain": [
       "<Figure size 432x288 with 1 Axes>"
      ]
     },
     "metadata": {},
     "output_type": "display_data"
    }
   ],
   "source": [
    "#Строим диаграмму размаха\n",
    "plt.style.use('ggplot')\n",
    "\n",
    "df.boxplot('year_of_release')\n",
    "\n",
    "df.plot.hist( y = 'year_of_release', bins = 10, grid = True, alpha = 0.5)\n",
    "\n",
    "plt.title('Год выпуска & количество игр')\n",
    "plt.xlabel('Год выпуска')\n",
    "plt.ylabel('Количество игр')"
   ]
  },
  {
   "cell_type": "markdown",
   "metadata": {},
   "source": [
    "Игры, вышедшие ранее 1995 года можем признать выбросами и удалить. \n",
    "Индустрия игр еще не была так развита, поэтому их было очень мало."
   ]
  },
  {
   "cell_type": "code",
   "execution_count": 20,
   "metadata": {},
   "outputs": [],
   "source": [
    "df['year_of_release'] = df['year_of_release'].fillna(0).astype('int')\n",
    "\n",
    "df = df.query('year_of_release >= 1996')"
   ]
  },
  {
   "cell_type": "markdown",
   "metadata": {},
   "source": [
    "### Изменение продаж по платформам\n",
    "\n",
    "Посмотрим, как менялись продажи по платформам. "
   ]
  },
  {
   "cell_type": "code",
   "execution_count": 21,
   "metadata": {
    "scrolled": true
   },
   "outputs": [
    {
     "data": {
      "text/plain": [
       "array(['Wii', 'GB', 'DS', 'X360', 'PS3', 'PS2', 'GBA', 'PS4', '3DS',\n",
       "       'N64', 'PS', 'XB', 'PC', 'PSP', 'XOne', 'WiiU', 'GC', 'SNES', 'DC',\n",
       "       'PSV', 'SAT', 'WS', 'NG', 'PCFX'], dtype=object)"
      ]
     },
     "execution_count": 21,
     "metadata": {},
     "output_type": "execute_result"
    }
   ],
   "source": [
    "df['platform'].unique()"
   ]
  },
  {
   "cell_type": "markdown",
   "metadata": {},
   "source": [
    "Выберем платформы с наибольшими суммарными продажами"
   ]
  },
  {
   "cell_type": "code",
   "execution_count": 22,
   "metadata": {},
   "outputs": [
    {
     "data": {
      "text/html": [
       "<div>\n",
       "<style scoped>\n",
       "    .dataframe tbody tr th:only-of-type {\n",
       "        vertical-align: middle;\n",
       "    }\n",
       "\n",
       "    .dataframe tbody tr th {\n",
       "        vertical-align: top;\n",
       "    }\n",
       "\n",
       "    .dataframe thead th {\n",
       "        text-align: right;\n",
       "    }\n",
       "</style>\n",
       "<table border=\"1\" class=\"dataframe\">\n",
       "  <thead>\n",
       "    <tr style=\"text-align: right;\">\n",
       "      <th></th>\n",
       "      <th>total_sales</th>\n",
       "    </tr>\n",
       "    <tr>\n",
       "      <th>platform</th>\n",
       "      <th></th>\n",
       "    </tr>\n",
       "  </thead>\n",
       "  <tbody>\n",
       "    <tr>\n",
       "      <th>PS2</th>\n",
       "      <td>1233.56</td>\n",
       "    </tr>\n",
       "    <tr>\n",
       "      <th>X360</th>\n",
       "      <td>961.24</td>\n",
       "    </tr>\n",
       "    <tr>\n",
       "      <th>PS3</th>\n",
       "      <td>931.34</td>\n",
       "    </tr>\n",
       "    <tr>\n",
       "      <th>Wii</th>\n",
       "      <td>891.18</td>\n",
       "    </tr>\n",
       "    <tr>\n",
       "      <th>DS</th>\n",
       "      <td>802.76</td>\n",
       "    </tr>\n",
       "  </tbody>\n",
       "</table>\n",
       "</div>"
      ],
      "text/plain": [
       "          total_sales\n",
       "platform             \n",
       "PS2           1233.56\n",
       "X360           961.24\n",
       "PS3            931.34\n",
       "Wii            891.18\n",
       "DS             802.76"
      ]
     },
     "execution_count": 22,
     "metadata": {},
     "output_type": "execute_result"
    }
   ],
   "source": [
    "df_platform = df.pivot_table(index = ['platform'],\n",
    "                                     values = 'total_sales',\n",
    "                                     aggfunc='sum').sort_values(\n",
    "                                     by = 'total_sales', ascending = False)\n",
    "\n",
    "df_platform = df_platform.query('total_sales > 100')\n",
    "df_platform.head()"
   ]
  },
  {
   "cell_type": "code",
   "execution_count": 23,
   "metadata": {},
   "outputs": [
    {
     "data": {
      "text/html": [
       "<div>\n",
       "<style scoped>\n",
       "    .dataframe tbody tr th:only-of-type {\n",
       "        vertical-align: middle;\n",
       "    }\n",
       "\n",
       "    .dataframe tbody tr th {\n",
       "        vertical-align: top;\n",
       "    }\n",
       "\n",
       "    .dataframe thead th {\n",
       "        text-align: right;\n",
       "    }\n",
       "</style>\n",
       "<table border=\"1\" class=\"dataframe\">\n",
       "  <thead>\n",
       "    <tr style=\"text-align: right;\">\n",
       "      <th></th>\n",
       "      <th>year_of_release</th>\n",
       "      <th>platform</th>\n",
       "      <th>total_sales</th>\n",
       "    </tr>\n",
       "  </thead>\n",
       "  <tbody>\n",
       "    <tr>\n",
       "      <th>0</th>\n",
       "      <td>2004</td>\n",
       "      <td>PS2</td>\n",
       "      <td>211.81</td>\n",
       "    </tr>\n",
       "    <tr>\n",
       "      <th>1</th>\n",
       "      <td>2009</td>\n",
       "      <td>Wii</td>\n",
       "      <td>206.97</td>\n",
       "    </tr>\n",
       "    <tr>\n",
       "      <th>2</th>\n",
       "      <td>2002</td>\n",
       "      <td>PS2</td>\n",
       "      <td>205.38</td>\n",
       "    </tr>\n",
       "    <tr>\n",
       "      <th>3</th>\n",
       "      <td>2003</td>\n",
       "      <td>PS2</td>\n",
       "      <td>184.31</td>\n",
       "    </tr>\n",
       "    <tr>\n",
       "      <th>4</th>\n",
       "      <td>2008</td>\n",
       "      <td>Wii</td>\n",
       "      <td>171.32</td>\n",
       "    </tr>\n",
       "    <tr>\n",
       "      <th>...</th>\n",
       "      <td>...</td>\n",
       "      <td>...</td>\n",
       "      <td>...</td>\n",
       "    </tr>\n",
       "    <tr>\n",
       "      <th>143</th>\n",
       "      <td>2008</td>\n",
       "      <td>XB</td>\n",
       "      <td>0.18</td>\n",
       "    </tr>\n",
       "    <tr>\n",
       "      <th>144</th>\n",
       "      <td>2016</td>\n",
       "      <td>Wii</td>\n",
       "      <td>0.18</td>\n",
       "    </tr>\n",
       "    <tr>\n",
       "      <th>145</th>\n",
       "      <td>2015</td>\n",
       "      <td>PSP</td>\n",
       "      <td>0.12</td>\n",
       "    </tr>\n",
       "    <tr>\n",
       "      <th>146</th>\n",
       "      <td>2002</td>\n",
       "      <td>N64</td>\n",
       "      <td>0.08</td>\n",
       "    </tr>\n",
       "    <tr>\n",
       "      <th>147</th>\n",
       "      <td>2000</td>\n",
       "      <td>GBA</td>\n",
       "      <td>0.07</td>\n",
       "    </tr>\n",
       "  </tbody>\n",
       "</table>\n",
       "<p>148 rows × 3 columns</p>\n",
       "</div>"
      ],
      "text/plain": [
       "     year_of_release platform  total_sales\n",
       "0               2004      PS2       211.81\n",
       "1               2009      Wii       206.97\n",
       "2               2002      PS2       205.38\n",
       "3               2003      PS2       184.31\n",
       "4               2008      Wii       171.32\n",
       "..               ...      ...          ...\n",
       "143             2008       XB         0.18\n",
       "144             2016      Wii         0.18\n",
       "145             2015      PSP         0.12\n",
       "146             2002      N64         0.08\n",
       "147             2000      GBA         0.07\n",
       "\n",
       "[148 rows x 3 columns]"
      ]
     },
     "execution_count": 23,
     "metadata": {},
     "output_type": "execute_result"
    }
   ],
   "source": [
    "#Отфильтруем по вхождению в df_platform.index\n",
    "\n",
    "df_platform_sales = df.query('platform in @df_platform.index').pivot_table(\n",
    "    index = ['year_of_release', 'platform'],\n",
    "    values = 'total_sales',\n",
    "    aggfunc='sum').sort_values(by = 'total_sales', ascending = False).reset_index()\n",
    "\n",
    "df_platform_sales\n"
   ]
  },
  {
   "cell_type": "code",
   "execution_count": 24,
   "metadata": {},
   "outputs": [
    {
     "data": {
      "text/plain": [
       "Text(0, 0.5, 'Продажи')"
      ]
     },
     "execution_count": 24,
     "metadata": {},
     "output_type": "execute_result"
    },
    {
     "data": {
      "image/png": "[encoded data removed]",
      "text/plain": [
       "<Figure size 504x504 with 1 Axes>"
      ]
     },
     "metadata": {},
     "output_type": "display_data"
    }
   ],
   "source": [
    "df_platform_sales.plot.hist(x = 'total_sales', y = 'year_of_release',\n",
    "                            alpha=0.5,\n",
    "                            legend=True, bins=10, figsize=(7,7))\n",
    "\n",
    "plt.title('Год & продажи')\n",
    "plt.xlabel('Год')\n",
    "plt.ylabel('Продажи')"
   ]
  },
  {
   "cell_type": "markdown",
   "metadata": {},
   "source": [
    "С годами увеличивается общая выручка игр. Это связано с развитием и популяризацией интернета.\n",
    "\n",
    "За 5-7 лет появляются новые и исчезаюи старые платформы."
   ]
  },
  {
   "cell_type": "code",
   "execution_count": 25,
   "metadata": {},
   "outputs": [
    {
     "data": {
      "text/html": [
       "<div>\n",
       "<style scoped>\n",
       "    .dataframe tbody tr th:only-of-type {\n",
       "        vertical-align: middle;\n",
       "    }\n",
       "\n",
       "    .dataframe tbody tr th {\n",
       "        vertical-align: top;\n",
       "    }\n",
       "\n",
       "    .dataframe thead th {\n",
       "        text-align: right;\n",
       "    }\n",
       "</style>\n",
       "<table border=\"1\" class=\"dataframe\">\n",
       "  <thead>\n",
       "    <tr style=\"text-align: right;\">\n",
       "      <th></th>\n",
       "      <th>name</th>\n",
       "      <th>platform</th>\n",
       "      <th>year_of_release</th>\n",
       "      <th>genre</th>\n",
       "      <th>na_sales</th>\n",
       "      <th>eu_sales</th>\n",
       "      <th>jp_sales</th>\n",
       "      <th>other_sales</th>\n",
       "      <th>critic_score</th>\n",
       "      <th>user_score</th>\n",
       "      <th>rating</th>\n",
       "      <th>total_sales</th>\n",
       "    </tr>\n",
       "  </thead>\n",
       "  <tbody>\n",
       "    <tr>\n",
       "      <th>0</th>\n",
       "      <td>Wii Sports</td>\n",
       "      <td>Wii</td>\n",
       "      <td>2006</td>\n",
       "      <td>Sports</td>\n",
       "      <td>41.36</td>\n",
       "      <td>28.96</td>\n",
       "      <td>3.77</td>\n",
       "      <td>8.45</td>\n",
       "      <td>76.0</td>\n",
       "      <td>8.0</td>\n",
       "      <td>E</td>\n",
       "      <td>82.54</td>\n",
       "    </tr>\n",
       "    <tr>\n",
       "      <th>2</th>\n",
       "      <td>Mario Kart Wii</td>\n",
       "      <td>Wii</td>\n",
       "      <td>2008</td>\n",
       "      <td>Racing</td>\n",
       "      <td>15.68</td>\n",
       "      <td>12.76</td>\n",
       "      <td>3.79</td>\n",
       "      <td>3.29</td>\n",
       "      <td>82.0</td>\n",
       "      <td>8.3</td>\n",
       "      <td>E</td>\n",
       "      <td>35.52</td>\n",
       "    </tr>\n",
       "    <tr>\n",
       "      <th>3</th>\n",
       "      <td>Wii Sports Resort</td>\n",
       "      <td>Wii</td>\n",
       "      <td>2009</td>\n",
       "      <td>Sports</td>\n",
       "      <td>15.61</td>\n",
       "      <td>10.93</td>\n",
       "      <td>3.28</td>\n",
       "      <td>2.95</td>\n",
       "      <td>80.0</td>\n",
       "      <td>8.0</td>\n",
       "      <td>E</td>\n",
       "      <td>32.77</td>\n",
       "    </tr>\n",
       "    <tr>\n",
       "      <th>4</th>\n",
       "      <td>Pokemon Red/Pokemon Blue</td>\n",
       "      <td>GB</td>\n",
       "      <td>1996</td>\n",
       "      <td>Role-Playing</td>\n",
       "      <td>11.27</td>\n",
       "      <td>8.89</td>\n",
       "      <td>10.22</td>\n",
       "      <td>1.00</td>\n",
       "      <td>0.0</td>\n",
       "      <td>0.0</td>\n",
       "      <td>0</td>\n",
       "      <td>31.38</td>\n",
       "    </tr>\n",
       "    <tr>\n",
       "      <th>6</th>\n",
       "      <td>New Super Mario Bros.</td>\n",
       "      <td>DS</td>\n",
       "      <td>2006</td>\n",
       "      <td>Platform</td>\n",
       "      <td>11.28</td>\n",
       "      <td>9.14</td>\n",
       "      <td>6.50</td>\n",
       "      <td>2.88</td>\n",
       "      <td>89.0</td>\n",
       "      <td>8.5</td>\n",
       "      <td>E</td>\n",
       "      <td>29.80</td>\n",
       "    </tr>\n",
       "  </tbody>\n",
       "</table>\n",
       "</div>"
      ],
      "text/plain": [
       "                       name platform  year_of_release         genre  na_sales  \\\n",
       "0                Wii Sports      Wii             2006        Sports     41.36   \n",
       "2            Mario Kart Wii      Wii             2008        Racing     15.68   \n",
       "3         Wii Sports Resort      Wii             2009        Sports     15.61   \n",
       "4  Pokemon Red/Pokemon Blue       GB             1996  Role-Playing     11.27   \n",
       "6     New Super Mario Bros.       DS             2006      Platform     11.28   \n",
       "\n",
       "   eu_sales  jp_sales  other_sales  critic_score  user_score rating  \\\n",
       "0     28.96      3.77         8.45          76.0         8.0      E   \n",
       "2     12.76      3.79         3.29          82.0         8.3      E   \n",
       "3     10.93      3.28         2.95          80.0         8.0      E   \n",
       "4      8.89     10.22         1.00           0.0         0.0      0   \n",
       "6      9.14      6.50         2.88          89.0         8.5      E   \n",
       "\n",
       "   total_sales  \n",
       "0        82.54  \n",
       "2        35.52  \n",
       "3        32.77  \n",
       "4        31.38  \n",
       "6        29.80  "
      ]
     },
     "execution_count": 25,
     "metadata": {},
     "output_type": "execute_result"
    }
   ],
   "source": [
    "df.head()"
   ]
  },
  {
   "cell_type": "code",
   "execution_count": 26,
   "metadata": {},
   "outputs": [
    {
     "ename": "AttributeError",
     "evalue": "'list' object has no attribute 'max'",
     "output_type": "error",
     "traceback": [
      "\u001b[0;31m---------------------------------------------------------------------------\u001b[0m",
      "\u001b[0;31mAttributeError\u001b[0m                            Traceback (most recent call last)",
      "\u001b[0;32m<ipython-input-26-f6e2ab8666c2>\u001b[0m in \u001b[0;36m<module>\u001b[0;34m\u001b[0m\n\u001b[1;32m      5\u001b[0m     \u001b[0;32mreturn\u001b[0m \u001b[0mtime\u001b[0m\u001b[0;34m\u001b[0m\u001b[0;34m\u001b[0m\u001b[0m\n\u001b[1;32m      6\u001b[0m \u001b[0;34m\u001b[0m\u001b[0m\n\u001b[0;32m----> 7\u001b[0;31m \u001b[0mdf\u001b[0m\u001b[0;34m[\u001b[0m\u001b[0;34m'platform_lifetime'\u001b[0m\u001b[0;34m]\u001b[0m \u001b[0;34m=\u001b[0m \u001b[0mdf\u001b[0m\u001b[0;34m.\u001b[0m\u001b[0mapply\u001b[0m\u001b[0;34m(\u001b[0m\u001b[0mlifetime\u001b[0m\u001b[0;34m,\u001b[0m \u001b[0maxis\u001b[0m \u001b[0;34m=\u001b[0m \u001b[0;36m1\u001b[0m\u001b[0;34m)\u001b[0m\u001b[0;34m\u001b[0m\u001b[0;34m\u001b[0m\u001b[0m\n\u001b[0m",
      "\u001b[0;32m~/opt/anaconda3/lib/python3.8/site-packages/pandas/core/frame.py\u001b[0m in \u001b[0;36mapply\u001b[0;34m(self, func, axis, raw, result_type, args, **kwds)\u001b[0m\n\u001b[1;32m   7766\u001b[0m             \u001b[0mkwds\u001b[0m\u001b[0;34m=\u001b[0m\u001b[0mkwds\u001b[0m\u001b[0;34m,\u001b[0m\u001b[0;34m\u001b[0m\u001b[0;34m\u001b[0m\u001b[0m\n\u001b[1;32m   7767\u001b[0m         )\n\u001b[0;32m-> 7768\u001b[0;31m         \u001b[0;32mreturn\u001b[0m \u001b[0mop\u001b[0m\u001b[0;34m.\u001b[0m\u001b[0mget_result\u001b[0m\u001b[0;34m(\u001b[0m\u001b[0;34m)\u001b[0m\u001b[0;34m\u001b[0m\u001b[0;34m\u001b[0m\u001b[0m\n\u001b[0m\u001b[1;32m   7769\u001b[0m \u001b[0;34m\u001b[0m\u001b[0m\n\u001b[1;32m   7770\u001b[0m     \u001b[0;32mdef\u001b[0m \u001b[0mapplymap\u001b[0m\u001b[0;34m(\u001b[0m\u001b[0mself\u001b[0m\u001b[0;34m,\u001b[0m \u001b[0mfunc\u001b[0m\u001b[0;34m,\u001b[0m \u001b[0mna_action\u001b[0m\u001b[0;34m:\u001b[0m \u001b[0mOptional\u001b[0m\u001b[0;34m[\u001b[0m\u001b[0mstr\u001b[0m\u001b[0;34m]\u001b[0m \u001b[0;34m=\u001b[0m \u001b[0;32mNone\u001b[0m\u001b[0;34m)\u001b[0m \u001b[0;34m->\u001b[0m \u001b[0mDataFrame\u001b[0m\u001b[0;34m:\u001b[0m\u001b[0;34m\u001b[0m\u001b[0;34m\u001b[0m\u001b[0m\n",
      "\u001b[0;32m~/opt/anaconda3/lib/python3.8/site-packages/pandas/core/apply.py\u001b[0m in \u001b[0;36mget_result\u001b[0;34m(self)\u001b[0m\n\u001b[1;32m    183\u001b[0m             \u001b[0;32mreturn\u001b[0m \u001b[0mself\u001b[0m\u001b[0;34m.\u001b[0m\u001b[0mapply_raw\u001b[0m\u001b[0;34m(\u001b[0m\u001b[0;34m)\u001b[0m\u001b[0;34m\u001b[0m\u001b[0;34m\u001b[0m\u001b[0m\n\u001b[1;32m    184\u001b[0m \u001b[0;34m\u001b[0m\u001b[0m\n\u001b[0;32m--> 185\u001b[0;31m         \u001b[0;32mreturn\u001b[0m \u001b[0mself\u001b[0m\u001b[0;34m.\u001b[0m\u001b[0mapply_standard\u001b[0m\u001b[0;34m(\u001b[0m\u001b[0;34m)\u001b[0m\u001b[0;34m\u001b[0m\u001b[0;34m\u001b[0m\u001b[0m\n\u001b[0m\u001b[1;32m    186\u001b[0m \u001b[0;34m\u001b[0m\u001b[0m\n\u001b[1;32m    187\u001b[0m     \u001b[0;32mdef\u001b[0m \u001b[0mapply_empty_result\u001b[0m\u001b[0;34m(\u001b[0m\u001b[0mself\u001b[0m\u001b[0;34m)\u001b[0m\u001b[0;34m:\u001b[0m\u001b[0;34m\u001b[0m\u001b[0;34m\u001b[0m\u001b[0m\n",
      "\u001b[0;32m~/opt/anaconda3/lib/python3.8/site-packages/pandas/core/apply.py\u001b[0m in \u001b[0;36mapply_standard\u001b[0;34m(self)\u001b[0m\n\u001b[1;32m    274\u001b[0m \u001b[0;34m\u001b[0m\u001b[0m\n\u001b[1;32m    275\u001b[0m     \u001b[0;32mdef\u001b[0m \u001b[0mapply_standard\u001b[0m\u001b[0;34m(\u001b[0m\u001b[0mself\u001b[0m\u001b[0;34m)\u001b[0m\u001b[0;34m:\u001b[0m\u001b[0;34m\u001b[0m\u001b[0;34m\u001b[0m\u001b[0m\n\u001b[0;32m--> 276\u001b[0;31m         \u001b[0mresults\u001b[0m\u001b[0;34m,\u001b[0m \u001b[0mres_index\u001b[0m \u001b[0;34m=\u001b[0m \u001b[0mself\u001b[0m\u001b[0;34m.\u001b[0m\u001b[0mapply_series_generator\u001b[0m\u001b[0;34m(\u001b[0m\u001b[0;34m)\u001b[0m\u001b[0;34m\u001b[0m\u001b[0;34m\u001b[0m\u001b[0m\n\u001b[0m\u001b[1;32m    277\u001b[0m \u001b[0;34m\u001b[0m\u001b[0m\n\u001b[1;32m    278\u001b[0m         \u001b[0;31m# wrap results\u001b[0m\u001b[0;34m\u001b[0m\u001b[0;34m\u001b[0m\u001b[0;34m\u001b[0m\u001b[0m\n",
      "\u001b[0;32m~/opt/anaconda3/lib/python3.8/site-packages/pandas/core/apply.py\u001b[0m in \u001b[0;36mapply_series_generator\u001b[0;34m(self)\u001b[0m\n\u001b[1;32m    288\u001b[0m             \u001b[0;32mfor\u001b[0m \u001b[0mi\u001b[0m\u001b[0;34m,\u001b[0m \u001b[0mv\u001b[0m \u001b[0;32min\u001b[0m \u001b[0menumerate\u001b[0m\u001b[0;34m(\u001b[0m\u001b[0mseries_gen\u001b[0m\u001b[0;34m)\u001b[0m\u001b[0;34m:\u001b[0m\u001b[0;34m\u001b[0m\u001b[0;34m\u001b[0m\u001b[0m\n\u001b[1;32m    289\u001b[0m                 \u001b[0;31m# ignore SettingWithCopy here in case the user mutates\u001b[0m\u001b[0;34m\u001b[0m\u001b[0;34m\u001b[0m\u001b[0;34m\u001b[0m\u001b[0m\n\u001b[0;32m--> 290\u001b[0;31m                 \u001b[0mresults\u001b[0m\u001b[0;34m[\u001b[0m\u001b[0mi\u001b[0m\u001b[0;34m]\u001b[0m \u001b[0;34m=\u001b[0m \u001b[0mself\u001b[0m\u001b[0;34m.\u001b[0m\u001b[0mf\u001b[0m\u001b[0;34m(\u001b[0m\u001b[0mv\u001b[0m\u001b[0;34m)\u001b[0m\u001b[0;34m\u001b[0m\u001b[0;34m\u001b[0m\u001b[0m\n\u001b[0m\u001b[1;32m    291\u001b[0m                 \u001b[0;32mif\u001b[0m \u001b[0misinstance\u001b[0m\u001b[0;34m(\u001b[0m\u001b[0mresults\u001b[0m\u001b[0;34m[\u001b[0m\u001b[0mi\u001b[0m\u001b[0;34m]\u001b[0m\u001b[0;34m,\u001b[0m \u001b[0mABCSeries\u001b[0m\u001b[0;34m)\u001b[0m\u001b[0;34m:\u001b[0m\u001b[0;34m\u001b[0m\u001b[0;34m\u001b[0m\u001b[0m\n\u001b[1;32m    292\u001b[0m                     \u001b[0;31m# If we have a view on v, we need to make a copy because\u001b[0m\u001b[0;34m\u001b[0m\u001b[0;34m\u001b[0m\u001b[0;34m\u001b[0m\u001b[0m\n",
      "\u001b[0;32m<ipython-input-26-f6e2ab8666c2>\u001b[0m in \u001b[0;36mlifetime\u001b[0;34m(row)\u001b[0m\n\u001b[1;32m      2\u001b[0m \u001b[0;34m\u001b[0m\u001b[0m\n\u001b[1;32m      3\u001b[0m     \u001b[0;32mfor\u001b[0m \u001b[0mname\u001b[0m \u001b[0;32min\u001b[0m \u001b[0mdf\u001b[0m\u001b[0;34m[\u001b[0m\u001b[0;34m'platform'\u001b[0m\u001b[0;34m]\u001b[0m\u001b[0;34m.\u001b[0m\u001b[0munique\u001b[0m\u001b[0;34m(\u001b[0m\u001b[0;34m)\u001b[0m\u001b[0;34m:\u001b[0m\u001b[0;34m\u001b[0m\u001b[0;34m\u001b[0m\u001b[0m\n\u001b[0;32m----> 4\u001b[0;31m         \u001b[0mtime\u001b[0m \u001b[0;34m=\u001b[0m \u001b[0;34m[\u001b[0m\u001b[0;34m'year_of_release'\u001b[0m\u001b[0;34m]\u001b[0m\u001b[0;34m.\u001b[0m\u001b[0mmax\u001b[0m\u001b[0;34m(\u001b[0m\u001b[0;34m)\u001b[0m \u001b[0;34m-\u001b[0m \u001b[0;34m[\u001b[0m\u001b[0;34m'year_of_release'\u001b[0m\u001b[0;34m]\u001b[0m\u001b[0;34m.\u001b[0m\u001b[0mmin\u001b[0m\u001b[0;34m(\u001b[0m\u001b[0;34m)\u001b[0m\u001b[0;34m\u001b[0m\u001b[0;34m\u001b[0m\u001b[0m\n\u001b[0m\u001b[1;32m      5\u001b[0m     \u001b[0;32mreturn\u001b[0m \u001b[0mtime\u001b[0m\u001b[0;34m\u001b[0m\u001b[0;34m\u001b[0m\u001b[0m\n\u001b[1;32m      6\u001b[0m \u001b[0;34m\u001b[0m\u001b[0m\n",
      "\u001b[0;31mAttributeError\u001b[0m: 'list' object has no attribute 'max'"
     ]
    }
   ],
   "source": [
    "def lifetime(row):\n",
    "\n",
    "    for name in df['platform'].unique():\n",
    "        time = ['year_of_release'].max() - ['year_of_release'].min()\n",
    "    return time\n",
    "    \n",
    "df['platform_lifetime'] = df.apply(lifetime, axis = 1) \n"
   ]
  },
  {
   "cell_type": "markdown",
   "metadata": {},
   "source": [
    "### Лидеры по продажам"
   ]
  },
  {
   "cell_type": "markdown",
   "metadata": {},
   "source": [
    "Возьмем период: 2004 - 2015 год, тк в эти годы выпускалось больше всего игр.\n",
    "Также период позволить увидеть динамику.\n",
    "\n",
    "Опеределим лидеров по продажам"
   ]
  },
  {
   "cell_type": "code",
   "execution_count": 27,
   "metadata": {},
   "outputs": [
    {
     "data": {
      "text/html": [
       "<div>\n",
       "<style scoped>\n",
       "    .dataframe tbody tr th:only-of-type {\n",
       "        vertical-align: middle;\n",
       "    }\n",
       "\n",
       "    .dataframe tbody tr th {\n",
       "        vertical-align: top;\n",
       "    }\n",
       "\n",
       "    .dataframe thead th {\n",
       "        text-align: right;\n",
       "    }\n",
       "</style>\n",
       "<table border=\"1\" class=\"dataframe\">\n",
       "  <thead>\n",
       "    <tr style=\"text-align: right;\">\n",
       "      <th></th>\n",
       "      <th>platform</th>\n",
       "      <th>year_of_release</th>\n",
       "      <th>total_sales</th>\n",
       "    </tr>\n",
       "  </thead>\n",
       "  <tbody>\n",
       "    <tr>\n",
       "      <th>0</th>\n",
       "      <td>3DS</td>\n",
       "      <td>2011</td>\n",
       "      <td>63.20</td>\n",
       "    </tr>\n",
       "    <tr>\n",
       "      <th>1</th>\n",
       "      <td>3DS</td>\n",
       "      <td>2012</td>\n",
       "      <td>51.36</td>\n",
       "    </tr>\n",
       "    <tr>\n",
       "      <th>2</th>\n",
       "      <td>3DS</td>\n",
       "      <td>2013</td>\n",
       "      <td>56.57</td>\n",
       "    </tr>\n",
       "    <tr>\n",
       "      <th>3</th>\n",
       "      <td>3DS</td>\n",
       "      <td>2014</td>\n",
       "      <td>43.76</td>\n",
       "    </tr>\n",
       "    <tr>\n",
       "      <th>4</th>\n",
       "      <td>3DS</td>\n",
       "      <td>2015</td>\n",
       "      <td>27.78</td>\n",
       "    </tr>\n",
       "  </tbody>\n",
       "</table>\n",
       "</div>"
      ],
      "text/plain": [
       "  platform  year_of_release  total_sales\n",
       "0      3DS             2011        63.20\n",
       "1      3DS             2012        51.36\n",
       "2      3DS             2013        56.57\n",
       "3      3DS             2014        43.76\n",
       "4      3DS             2015        27.78"
      ]
     },
     "execution_count": 27,
     "metadata": {},
     "output_type": "execute_result"
    }
   ],
   "source": [
    "df_actual = df.query('2015 >= year_of_release >= 2004')\n",
    "\n",
    "df_lider = df_actual.pivot_table(index = ['platform',\n",
    "                                        'year_of_release'],\n",
    "                                        values='total_sales',\n",
    "                                        aggfunc='sum').reset_index()\n",
    "\n",
    "df_lider.head()"
   ]
  },
  {
   "cell_type": "code",
   "execution_count": 28,
   "metadata": {},
   "outputs": [
    {
     "data": {
      "image/png": "[encoded data removed]",
      "text/plain": [
       "<Figure size 432x288 with 1 Axes>"
      ]
     },
     "metadata": {},
     "output_type": "display_data"
    },
    {
     "data": {
      "image/png": "[encoded data removed]",
      "text/plain": [
       "<Figure size 432x288 with 1 Axes>"
      ]
     },
     "metadata": {},
     "output_type": "display_data"
    },
    {
     "data": {
      "image/png": "[encoded data removed]",
      "text/plain": [
       "<Figure size 432x288 with 1 Axes>"
      ]
     },
     "metadata": {},
     "output_type": "display_data"
    },
    {
     "data": {
      "image/png": "[encoded data removed]",
      "text/plain": [
       "<Figure size 432x288 with 1 Axes>"
      ]
     },
     "metadata": {},
     "output_type": "display_data"
    },
    {
     "data": {
      "image/png": "[encoded data removed]",
      "text/plain": [
       "<Figure size 432x288 with 1 Axes>"
      ]
     },
     "metadata": {},
     "output_type": "display_data"
    },
    {
     "data": {
      "image/png": "[encoded data removed]",
      "text/plain": [
       "<Figure size 432x288 with 1 Axes>"
      ]
     },
     "metadata": {},
     "output_type": "display_data"
    },
    {
     "data": {
      "image/png": "[encoded data removed]",
      "text/plain": [
       "<Figure size 432x288 with 1 Axes>"
      ]
     },
     "metadata": {},
     "output_type": "display_data"
    },
    {
     "data": {
      "image/png": "[encoded data removed]",
      "text/plain": [
       "<Figure size 432x288 with 1 Axes>"
      ]
     },
     "metadata": {},
     "output_type": "display_data"
    },
    {
     "data": {
      "image/png": "[encoded data removed]",
      "text/plain": [
       "<Figure size 432x288 with 1 Axes>"
      ]
     },
     "metadata": {},
     "output_type": "display_data"
    },
    {
     "data": {
      "image/png": "[encoded data removed]",
      "text/plain": [
       "<Figure size 432x288 with 1 Axes>"
      ]
     },
     "metadata": {},
     "output_type": "display_data"
    },
    {
     "data": {
      "image/png": "[encoded data removed]",
      "text/plain": [
       "<Figure size 432x288 with 1 Axes>"
      ]
     },
     "metadata": {},
     "output_type": "display_data"
    },
    {
     "data": {
      "image/png": "[encoded data removed]",
      "text/plain": [
       "<Figure size 432x288 with 1 Axes>"
      ]
     },
     "metadata": {},
     "output_type": "display_data"
    },
    {
     "data": {
      "image/png": "[encoded data removed]",
      "text/plain": [
       "<Figure size 432x288 with 1 Axes>"
      ]
     },
     "metadata": {},
     "output_type": "display_data"
    },
    {
     "data": {
      "image/png": "[encoded data removed]",
      "text/plain": [
       "<Figure size 432x288 with 1 Axes>"
      ]
     },
     "metadata": {},
     "output_type": "display_data"
    },
    {
     "data": {
      "image/png": "[encoded data removed]",
      "text/plain": [
       "<Figure size 432x288 with 1 Axes>"
      ]
     },
     "metadata": {},
     "output_type": "display_data"
    },
    {
     "data": {
      "image/png": "[encoded data removed]",
      "text/plain": [
       "<Figure size 432x288 with 1 Axes>"
      ]
     },
     "metadata": {},
     "output_type": "display_data"
    }
   ],
   "source": [
    "for platform in df_lider['platform'].unique():\n",
    "    \n",
    "    df_lider.query('platform == @platform').plot(\n",
    "    x = 'year_of_release', y = 'total_sales', style='o-')\n",
    "    \n",
    "    plt.title(platform)\n",
    "    plt.xlabel('Год')\n",
    "    plt.ylabel('Выручка')\n",
    "    plt.show()\n",
    "        \n",
    "        "
   ]
  },
  {
   "cell_type": "markdown",
   "metadata": {},
   "source": [
    "Посмотрим распределение выручки за выбранный период по платформам:"
   ]
  },
  {
   "cell_type": "code",
   "execution_count": 29,
   "metadata": {
    "scrolled": true
   },
   "outputs": [
    {
     "data": {
      "text/plain": [
       "Text(0.5, 1.0, 'Распределение продаж по платформам')"
      ]
     },
     "execution_count": 29,
     "metadata": {},
     "output_type": "execute_result"
    },
    {
     "data": {
      "image/png": "[encoded data removed]",
      "text/plain": [
       "<Figure size 720x720 with 1 Axes>"
      ]
     },
     "metadata": {},
     "output_type": "display_data"
    }
   ],
   "source": [
    "df_top_sales = df_actual.pivot_table(index = ['platform'],\n",
    "                                                    values='total_sales',\n",
    "                                                    aggfunc='sum').sort_values(\n",
    "                                                    by = 'total_sales', ascending = False)\n",
    "\n",
    "df_top_sales.plot(y='total_sales', kind='pie', figsize = (10,10))\n",
    "\n",
    "plt.title('Распределение продаж по платформам')"
   ]
  },
  {
   "cell_type": "code",
   "execution_count": 30,
   "metadata": {},
   "outputs": [
    {
     "data": {
      "text/html": [
       "<div>\n",
       "<style scoped>\n",
       "    .dataframe tbody tr th:only-of-type {\n",
       "        vertical-align: middle;\n",
       "    }\n",
       "\n",
       "    .dataframe tbody tr th {\n",
       "        vertical-align: top;\n",
       "    }\n",
       "\n",
       "    .dataframe thead th {\n",
       "        text-align: right;\n",
       "    }\n",
       "</style>\n",
       "<table border=\"1\" class=\"dataframe\">\n",
       "  <thead>\n",
       "    <tr style=\"text-align: right;\">\n",
       "      <th></th>\n",
       "      <th>total_sales</th>\n",
       "      <th>percentage</th>\n",
       "    </tr>\n",
       "    <tr>\n",
       "      <th>platform</th>\n",
       "      <th></th>\n",
       "      <th></th>\n",
       "    </tr>\n",
       "  </thead>\n",
       "  <tbody>\n",
       "    <tr>\n",
       "      <th>X360</th>\n",
       "      <td>959.72</td>\n",
       "      <td>16.709439</td>\n",
       "    </tr>\n",
       "    <tr>\n",
       "      <th>PS3</th>\n",
       "      <td>927.74</td>\n",
       "      <td>16.152643</td>\n",
       "    </tr>\n",
       "    <tr>\n",
       "      <th>Wii</th>\n",
       "      <td>891.00</td>\n",
       "      <td>15.512973</td>\n",
       "    </tr>\n",
       "    <tr>\n",
       "      <th>DS</th>\n",
       "      <td>802.76</td>\n",
       "      <td>13.976649</td>\n",
       "    </tr>\n",
       "    <tr>\n",
       "      <th>PS2</th>\n",
       "      <td>638.27</td>\n",
       "      <td>11.112755</td>\n",
       "    </tr>\n",
       "  </tbody>\n",
       "</table>\n",
       "</div>"
      ],
      "text/plain": [
       "          total_sales  percentage\n",
       "platform                         \n",
       "X360           959.72   16.709439\n",
       "PS3            927.74   16.152643\n",
       "Wii            891.00   15.512973\n",
       "DS             802.76   13.976649\n",
       "PS2            638.27   11.112755"
      ]
     },
     "execution_count": 30,
     "metadata": {},
     "output_type": "execute_result"
    }
   ],
   "source": [
    "df_sum = df_top_sales['total_sales'].sum()\n",
    "\n",
    "df_top_sales['percentage'] = df_top_sales['total_sales']/df_sum*100\n",
    "df_top_sales.head()"
   ]
  },
  {
   "cell_type": "markdown",
   "metadata": {},
   "source": [
    "Платформы, которые показывают рост выручки на протяжении периода:\n",
    "- DC\n",
    "- PS4\n",
    "- XOne.\n",
    "\n",
    "Платформы, показатели выручки которых падают:\n",
    "3DS, DS, GBA, GC, PC, PS2, PS3, PSP, PSV, Wii, WiiU, X360, XB\n",
    "\n",
    "Многие платформы со снижающимися показателями выручки занимают большую долю в общей выручке.\n",
    "Связано с тем, что у каждой был пик популярности с максимальными сборами. \n",
    "Плюс старые версии заменяются новыми.\n",
    "\n",
    "<b>К потенциально прибыльным платформам отнесем: DC, PS4, XOne </b>"
   ]
  },
  {
   "cell_type": "markdown",
   "metadata": {},
   "source": [
    "### Распределения: глобальные продажи, продажи по платформам\n",
    "\n",
    "Построим диаграмму размаха для двух типов данных, опишем распределения"
   ]
  },
  {
   "cell_type": "code",
   "execution_count": 31,
   "metadata": {},
   "outputs": [
    {
     "data": {
      "text/plain": [
       "<AxesSubplot:>"
      ]
     },
     "execution_count": 31,
     "metadata": {},
     "output_type": "execute_result"
    },
    {
     "data": {
      "image/png": "[encoded data removed]",
      "text/plain": [
       "<Figure size 432x288 with 1 Axes>"
      ]
     },
     "metadata": {},
     "output_type": "display_data"
    }
   ],
   "source": [
    "df_actual.pivot_table(index = 'year_of_release',\n",
    "               values = 'total_sales',\n",
    "               aggfunc='sum').sort_values(\n",
    "               by = 'total_sales', ascending = False).boxplot()"
   ]
  },
  {
   "cell_type": "markdown",
   "metadata": {},
   "source": [
    "- В данных отсуствуют выбросы. \n",
    "- Медианное значение продаж - 350 млн.\n",
    "- Распределение близко к нормальному."
   ]
  },
  {
   "cell_type": "code",
   "execution_count": 32,
   "metadata": {},
   "outputs": [
    {
     "data": {
      "text/plain": [
       "<AxesSubplot:>"
      ]
     },
     "execution_count": 32,
     "metadata": {},
     "output_type": "execute_result"
    },
    {
     "data": {
      "image/png": "[encoded data removed]",
      "text/plain": [
       "<Figure size 432x288 with 1 Axes>"
      ]
     },
     "metadata": {},
     "output_type": "display_data"
    }
   ],
   "source": [
    "df_actual.pivot_table(index = ['platform'],\n",
    "                values = 'total_sales',\n",
    "                aggfunc='sum').sort_values(\n",
    "                by = 'total_sales', ascending = False).boxplot()\n"
   ]
  },
  {
   "cell_type": "markdown",
   "metadata": {},
   "source": [
    "- Нет выбросов\n",
    "- Медиана равна 210 млн. \n",
    "- Распределение скошено, небольшое количество игр с большим кол-вом продаж."
   ]
  },
  {
   "cell_type": "markdown",
   "metadata": {},
   "source": [
    "### Корреляция: отзывы и продажи"
   ]
  },
  {
   "cell_type": "markdown",
   "metadata": {},
   "source": [
    "Рассмотрим корреляцию на пример платформы X360"
   ]
  },
  {
   "cell_type": "code",
   "execution_count": 33,
   "metadata": {},
   "outputs": [
    {
     "data": {
      "text/html": [
       "<div>\n",
       "<style scoped>\n",
       "    .dataframe tbody tr th:only-of-type {\n",
       "        vertical-align: middle;\n",
       "    }\n",
       "\n",
       "    .dataframe tbody tr th {\n",
       "        vertical-align: top;\n",
       "    }\n",
       "\n",
       "    .dataframe thead th {\n",
       "        text-align: right;\n",
       "    }\n",
       "</style>\n",
       "<table border=\"1\" class=\"dataframe\">\n",
       "  <thead>\n",
       "    <tr style=\"text-align: right;\">\n",
       "      <th></th>\n",
       "      <th>year_of_release</th>\n",
       "      <th>critic_score</th>\n",
       "      <th>total_sales</th>\n",
       "      <th>user_score</th>\n",
       "    </tr>\n",
       "  </thead>\n",
       "  <tbody>\n",
       "    <tr>\n",
       "      <th>0</th>\n",
       "      <td>2005</td>\n",
       "      <td>1227.0</td>\n",
       "      <td>8.25</td>\n",
       "      <td>117.7</td>\n",
       "    </tr>\n",
       "    <tr>\n",
       "      <th>1</th>\n",
       "      <td>2006</td>\n",
       "      <td>5308.0</td>\n",
       "      <td>51.62</td>\n",
       "      <td>530.8</td>\n",
       "    </tr>\n",
       "    <tr>\n",
       "      <th>2</th>\n",
       "      <td>2007</td>\n",
       "      <td>7603.0</td>\n",
       "      <td>95.41</td>\n",
       "      <td>731.1</td>\n",
       "    </tr>\n",
       "    <tr>\n",
       "      <th>3</th>\n",
       "      <td>2008</td>\n",
       "      <td>8604.0</td>\n",
       "      <td>135.26</td>\n",
       "      <td>859.6</td>\n",
       "    </tr>\n",
       "    <tr>\n",
       "      <th>4</th>\n",
       "      <td>2009</td>\n",
       "      <td>9056.0</td>\n",
       "      <td>120.29</td>\n",
       "      <td>893.1</td>\n",
       "    </tr>\n",
       "  </tbody>\n",
       "</table>\n",
       "</div>"
      ],
      "text/plain": [
       "   year_of_release  critic_score  total_sales  user_score\n",
       "0             2005        1227.0         8.25       117.7\n",
       "1             2006        5308.0        51.62       530.8\n",
       "2             2007        7603.0        95.41       731.1\n",
       "3             2008        8604.0       135.26       859.6\n",
       "4             2009        9056.0       120.29       893.1"
      ]
     },
     "execution_count": 33,
     "metadata": {},
     "output_type": "execute_result"
    }
   ],
   "source": [
    "df_X360 = df_actual.query('platform == \"X360\"').pivot_table(index =['year_of_release'],\n",
    "                                                    values = ['critic_score', 'user_score', 'total_sales'],\n",
    "                                                    aggfunc='sum').reset_index()\n",
    "df_X360.head()"
   ]
  },
  {
   "cell_type": "code",
   "execution_count": 34,
   "metadata": {},
   "outputs": [
    {
     "data": {
      "text/plain": [
       "<AxesSubplot:xlabel='critic_score', ylabel='total_sales'>"
      ]
     },
     "execution_count": 34,
     "metadata": {},
     "output_type": "execute_result"
    },
    {
     "data": {
      "image/png": "[encoded data removed]",
      "text/plain": [
       "<Figure size 432x288 with 1 Axes>"
      ]
     },
     "metadata": {},
     "output_type": "display_data"
    }
   ],
   "source": [
    "df_X360.plot(x='critic_score', y='total_sales', kind='scatter', alpha=1) "
   ]
  },
  {
   "cell_type": "code",
   "execution_count": 35,
   "metadata": {},
   "outputs": [
    {
     "data": {
      "text/plain": [
       "<AxesSubplot:xlabel='user_score', ylabel='total_sales'>"
      ]
     },
     "execution_count": 35,
     "metadata": {},
     "output_type": "execute_result"
    },
    {
     "data": {
      "image/png": "[encoded data removed]",
      "text/plain": [
       "<Figure size 432x288 with 1 Axes>"
      ]
     },
     "metadata": {},
     "output_type": "display_data"
    }
   ],
   "source": [
    "df_X360.plot(x='user_score', y='total_sales', kind='scatter', alpha=1) "
   ]
  },
  {
   "cell_type": "code",
   "execution_count": 36,
   "metadata": {},
   "outputs": [
    {
     "name": "stdout",
     "output_type": "stream",
     "text": [
      "Корелляция оценка критика - продажи: 0.9296516644770519\n",
      "Корелляция оценка пользователя - продажи: 0.9297371953848688\n"
     ]
    }
   ],
   "source": [
    "print('Корелляция оценка критика - продажи:',(df_X360['critic_score'].corr(df_X360['total_sales'])))\n",
    "\n",
    "print('Корелляция оценка пользователя - продажи:',(df_X360['user_score'].corr(df_X360['total_sales'])))\n"
   ]
  },
  {
   "cell_type": "markdown",
   "metadata": {},
   "source": [
    "<b>Корреляция в обоих случаях близка к единице, что говорит о наличии сильной связи - оценка критиков и пользователей влияет на продажи.</b>"
   ]
  },
  {
   "cell_type": "markdown",
   "metadata": {},
   "source": [
    "### Корреляция: все платформы"
   ]
  },
  {
   "cell_type": "markdown",
   "metadata": {},
   "source": [
    "Посмотрим, справедливы ли выводы для других платформ."
   ]
  },
  {
   "cell_type": "code",
   "execution_count": 37,
   "metadata": {},
   "outputs": [
    {
     "name": "stdout",
     "output_type": "stream",
     "text": [
      "Корелляция оценка критика - продажи: 0.8450356437781347\n",
      "Корелляция оценка пользователя - продажи: 0.8291265376334109\n"
     ]
    },
    {
     "data": {
      "image/png": "[encoded data removed]",
      "text/plain": [
       "<Figure size 432x288 with 1 Axes>"
      ]
     },
     "metadata": {},
     "output_type": "display_data"
    },
    {
     "data": {
      "image/png": "[encoded data removed]",
      "text/plain": [
       "<Figure size 432x288 with 1 Axes>"
      ]
     },
     "metadata": {},
     "output_type": "display_data"
    }
   ],
   "source": [
    "df_corr = df_actual.pivot_table(index =['year_of_release'],\n",
    "                       values = ['critic_score', 'user_score', 'total_sales'],\n",
    "                       aggfunc='sum').reset_index()\n",
    "\n",
    "df_corr.plot(x='critic_score', y='total_sales', kind='scatter', alpha=1) \n",
    "df_corr.plot(x='user_score', y='total_sales', kind='scatter', alpha=1) \n",
    "\n",
    "print('Корелляция оценка критика - продажи:',(df_corr['critic_score'].corr(df_corr['total_sales'])))\n",
    "\n",
    "print('Корелляция оценка пользователя - продажи:',(df_corr['user_score'].corr(df_corr['total_sales'])))\n"
   ]
  },
  {
   "cell_type": "markdown",
   "metadata": {},
   "source": [
    "<b>Корелляция у всех платформ в совокупности чуть ниже, но все же взаимосвязь сохраняется.</b>"
   ]
  },
  {
   "cell_type": "markdown",
   "metadata": {},
   "source": [
    "### Распределение по жанрам\n",
    "\n",
    "Посмотрим общее распределение игр по жанрам.\n",
    "\n",
    "- Выделим прибыльные жанры\n",
    "- Определим, выделяются ли жанры с высокими и низкими продажами\n"
   ]
  },
  {
   "cell_type": "markdown",
   "metadata": {},
   "source": [
    "Жанры с высокими продажами:"
   ]
  },
  {
   "cell_type": "code",
   "execution_count": 38,
   "metadata": {},
   "outputs": [
    {
     "data": {
      "text/html": [
       "<div>\n",
       "<style scoped>\n",
       "    .dataframe tbody tr th:only-of-type {\n",
       "        vertical-align: middle;\n",
       "    }\n",
       "\n",
       "    .dataframe tbody tr th {\n",
       "        vertical-align: top;\n",
       "    }\n",
       "\n",
       "    .dataframe thead th {\n",
       "        text-align: right;\n",
       "    }\n",
       "</style>\n",
       "<table border=\"1\" class=\"dataframe\">\n",
       "  <thead>\n",
       "    <tr style=\"text-align: right;\">\n",
       "      <th></th>\n",
       "      <th>total_sales</th>\n",
       "    </tr>\n",
       "    <tr>\n",
       "      <th>genre</th>\n",
       "      <th></th>\n",
       "    </tr>\n",
       "  </thead>\n",
       "  <tbody>\n",
       "    <tr>\n",
       "      <th>Action</th>\n",
       "      <td>1248.06</td>\n",
       "    </tr>\n",
       "    <tr>\n",
       "      <th>Sports</th>\n",
       "      <td>893.46</td>\n",
       "    </tr>\n",
       "    <tr>\n",
       "      <th>Shooter</th>\n",
       "      <td>767.28</td>\n",
       "    </tr>\n",
       "    <tr>\n",
       "      <th>Misc</th>\n",
       "      <td>644.39</td>\n",
       "    </tr>\n",
       "    <tr>\n",
       "      <th>Role-Playing</th>\n",
       "      <td>586.56</td>\n",
       "    </tr>\n",
       "  </tbody>\n",
       "</table>\n",
       "</div>"
      ],
      "text/plain": [
       "              total_sales\n",
       "genre                    \n",
       "Action            1248.06\n",
       "Sports             893.46\n",
       "Shooter            767.28\n",
       "Misc               644.39\n",
       "Role-Playing       586.56"
      ]
     },
     "execution_count": 38,
     "metadata": {},
     "output_type": "execute_result"
    }
   ],
   "source": [
    "pivot_genres = df_actual.pivot_table(index = ['genre'], \n",
    "               values = ['total_sales'],\n",
    "               aggfunc = 'sum').sort_values(by ='total_sales', ascending = False)\n",
    "pivot_genres.head(5)"
   ]
  },
  {
   "cell_type": "markdown",
   "metadata": {},
   "source": [
    "Жанры с низкими продажами:"
   ]
  },
  {
   "cell_type": "code",
   "execution_count": 39,
   "metadata": {},
   "outputs": [
    {
     "data": {
      "text/html": [
       "<div>\n",
       "<style scoped>\n",
       "    .dataframe tbody tr th:only-of-type {\n",
       "        vertical-align: middle;\n",
       "    }\n",
       "\n",
       "    .dataframe tbody tr th {\n",
       "        vertical-align: top;\n",
       "    }\n",
       "\n",
       "    .dataframe thead th {\n",
       "        text-align: right;\n",
       "    }\n",
       "</style>\n",
       "<table border=\"1\" class=\"dataframe\">\n",
       "  <thead>\n",
       "    <tr style=\"text-align: right;\">\n",
       "      <th></th>\n",
       "      <th>total_sales</th>\n",
       "    </tr>\n",
       "    <tr>\n",
       "      <th>genre</th>\n",
       "      <th></th>\n",
       "    </tr>\n",
       "  </thead>\n",
       "  <tbody>\n",
       "    <tr>\n",
       "      <th>Strategy</th>\n",
       "      <td>84.43</td>\n",
       "    </tr>\n",
       "    <tr>\n",
       "      <th>Puzzle</th>\n",
       "      <td>118.67</td>\n",
       "    </tr>\n",
       "    <tr>\n",
       "      <th>Adventure</th>\n",
       "      <td>154.61</td>\n",
       "    </tr>\n",
       "    <tr>\n",
       "      <th>Fighting</th>\n",
       "      <td>220.36</td>\n",
       "    </tr>\n",
       "    <tr>\n",
       "      <th>Simulation</th>\n",
       "      <td>278.60</td>\n",
       "    </tr>\n",
       "  </tbody>\n",
       "</table>\n",
       "</div>"
      ],
      "text/plain": [
       "            total_sales\n",
       "genre                  \n",
       "Strategy          84.43\n",
       "Puzzle           118.67\n",
       "Adventure        154.61\n",
       "Fighting         220.36\n",
       "Simulation       278.60"
      ]
     },
     "execution_count": 39,
     "metadata": {},
     "output_type": "execute_result"
    }
   ],
   "source": [
    "df_actual.pivot_table(index = ['genre'], \n",
    "               values = ['total_sales'],\n",
    "               aggfunc = 'sum').sort_values(by ='total_sales').head(5)"
   ]
  },
  {
   "cell_type": "markdown",
   "metadata": {},
   "source": [
    "Общее распределение:"
   ]
  },
  {
   "cell_type": "code",
   "execution_count": 40,
   "metadata": {},
   "outputs": [
    {
     "data": {
      "text/plain": [
       "Text(0.5, 1.0, 'Распределение продаж по жанрам')"
      ]
     },
     "execution_count": 40,
     "metadata": {},
     "output_type": "execute_result"
    },
    {
     "data": {
      "image/png": "[encoded data removed]",
      "text/plain": [
       "<Figure size 576x576 with 1 Axes>"
      ]
     },
     "metadata": {},
     "output_type": "display_data"
    }
   ],
   "source": [
    "pivot_genres.plot(y='total_sales', kind = 'pie',figsize = (8,8))\n",
    "\n",
    "plt.title('Распределение продаж по жанрам')"
   ]
  },
  {
   "cell_type": "markdown",
   "metadata": {},
   "source": [
    "<b>Наиболее популярные жанры: </b>\n",
    "Action, Sports, Shooter, Misc, Role-Playing\n",
    "    \n",
    "<b>Наименее популярные жанры:</b> Puzzle, Strategy, Adventure, Simulation ,Fighting"
   ]
  },
  {
   "cell_type": "markdown",
   "metadata": {},
   "source": [
    "## Портрет пользователя"
   ]
  },
  {
   "cell_type": "markdown",
   "metadata": {},
   "source": [
    "Определим для пользователя каждого региона:\n",
    "\n",
    "- Самые популярные платформы (топ-5). Опишите различия в долях продаж.\n",
    "- Самые популярные жанры (топ-5). Поясните разницу.\n",
    "- Влияет ли рейтинг ESRB на продажи в отдельном регионе?"
   ]
  },
  {
   "cell_type": "markdown",
   "metadata": {},
   "source": [
    "### Европа - Портрет пользователя "
   ]
  },
  {
   "cell_type": "markdown",
   "metadata": {},
   "source": [
    "Самые популярные платформы:"
   ]
  },
  {
   "cell_type": "code",
   "execution_count": 41,
   "metadata": {},
   "outputs": [
    {
     "data": {
      "text/html": [
       "<div>\n",
       "<style scoped>\n",
       "    .dataframe tbody tr th:only-of-type {\n",
       "        vertical-align: middle;\n",
       "    }\n",
       "\n",
       "    .dataframe tbody tr th {\n",
       "        vertical-align: top;\n",
       "    }\n",
       "\n",
       "    .dataframe thead th {\n",
       "        text-align: right;\n",
       "    }\n",
       "</style>\n",
       "<table border=\"1\" class=\"dataframe\">\n",
       "  <thead>\n",
       "    <tr style=\"text-align: right;\">\n",
       "      <th></th>\n",
       "      <th>eu_sales</th>\n",
       "      <th>percentage</th>\n",
       "    </tr>\n",
       "    <tr>\n",
       "      <th>platform</th>\n",
       "      <th></th>\n",
       "      <th></th>\n",
       "    </tr>\n",
       "  </thead>\n",
       "  <tbody>\n",
       "    <tr>\n",
       "      <th>PS3</th>\n",
       "      <td>325.95</td>\n",
       "      <td>0.194810</td>\n",
       "    </tr>\n",
       "    <tr>\n",
       "      <th>X360</th>\n",
       "      <td>267.61</td>\n",
       "      <td>0.159942</td>\n",
       "    </tr>\n",
       "    <tr>\n",
       "      <th>Wii</th>\n",
       "      <td>258.21</td>\n",
       "      <td>0.154324</td>\n",
       "    </tr>\n",
       "    <tr>\n",
       "      <th>DS</th>\n",
       "      <td>188.41</td>\n",
       "      <td>0.112607</td>\n",
       "    </tr>\n",
       "    <tr>\n",
       "      <th>PS2</th>\n",
       "      <td>143.15</td>\n",
       "      <td>0.085556</td>\n",
       "    </tr>\n",
       "  </tbody>\n",
       "</table>\n",
       "</div>"
      ],
      "text/plain": [
       "          eu_sales  percentage\n",
       "platform                      \n",
       "PS3         325.95    0.194810\n",
       "X360        267.61    0.159942\n",
       "Wii         258.21    0.154324\n",
       "DS          188.41    0.112607\n",
       "PS2         143.15    0.085556"
      ]
     },
     "execution_count": 41,
     "metadata": {},
     "output_type": "execute_result"
    }
   ],
   "source": [
    "eu_platform = df_actual.pivot_table(index = ['platform'],\n",
    "               values = ['eu_sales'],\n",
    "               aggfunc = 'sum').sort_values(by = 'eu_sales', ascending=False)\n",
    "\n",
    "ey_sales_total = df_actual['eu_sales'].sum()\n",
    "eu_platform['percentage'] = eu_platform['eu_sales']/ey_sales_total\n",
    "\n",
    "eu_platform.head()\n"
   ]
  },
  {
   "cell_type": "markdown",
   "metadata": {},
   "source": [
    "Самые популярные жанры:"
   ]
  },
  {
   "cell_type": "code",
   "execution_count": 42,
   "metadata": {},
   "outputs": [
    {
     "data": {
      "text/html": [
       "<div>\n",
       "<style scoped>\n",
       "    .dataframe tbody tr th:only-of-type {\n",
       "        vertical-align: middle;\n",
       "    }\n",
       "\n",
       "    .dataframe tbody tr th {\n",
       "        vertical-align: top;\n",
       "    }\n",
       "\n",
       "    .dataframe thead th {\n",
       "        text-align: right;\n",
       "    }\n",
       "</style>\n",
       "<table border=\"1\" class=\"dataframe\">\n",
       "  <thead>\n",
       "    <tr style=\"text-align: right;\">\n",
       "      <th></th>\n",
       "      <th>eu_sales</th>\n",
       "    </tr>\n",
       "    <tr>\n",
       "      <th>genre</th>\n",
       "      <th></th>\n",
       "    </tr>\n",
       "  </thead>\n",
       "  <tbody>\n",
       "    <tr>\n",
       "      <th>Action</th>\n",
       "      <td>377.92</td>\n",
       "    </tr>\n",
       "    <tr>\n",
       "      <th>Sports</th>\n",
       "      <td>268.46</td>\n",
       "    </tr>\n",
       "    <tr>\n",
       "      <th>Shooter</th>\n",
       "      <td>244.93</td>\n",
       "    </tr>\n",
       "    <tr>\n",
       "      <th>Misc</th>\n",
       "      <td>175.87</td>\n",
       "    </tr>\n",
       "    <tr>\n",
       "      <th>Racing</th>\n",
       "      <td>139.74</td>\n",
       "    </tr>\n",
       "  </tbody>\n",
       "</table>\n",
       "</div>"
      ],
      "text/plain": [
       "         eu_sales\n",
       "genre            \n",
       "Action     377.92\n",
       "Sports     268.46\n",
       "Shooter    244.93\n",
       "Misc       175.87\n",
       "Racing     139.74"
      ]
     },
     "execution_count": 42,
     "metadata": {},
     "output_type": "execute_result"
    }
   ],
   "source": [
    "eu_genre = df_actual[['genre', 'eu_sales']]\n",
    "eu_genre.pivot_table(index = ['genre'],\n",
    "                    values = ['eu_sales'],\n",
    "                    aggfunc = 'sum').sort_values(by = 'eu_sales', ascending=False).head()"
   ]
  },
  {
   "cell_type": "markdown",
   "metadata": {},
   "source": [
    "Влияние рейтинга:"
   ]
  },
  {
   "cell_type": "code",
   "execution_count": 43,
   "metadata": {},
   "outputs": [
    {
     "data": {
      "text/html": [
       "<div>\n",
       "<style scoped>\n",
       "    .dataframe tbody tr th:only-of-type {\n",
       "        vertical-align: middle;\n",
       "    }\n",
       "\n",
       "    .dataframe tbody tr th {\n",
       "        vertical-align: top;\n",
       "    }\n",
       "\n",
       "    .dataframe thead th {\n",
       "        text-align: right;\n",
       "    }\n",
       "</style>\n",
       "<table border=\"1\" class=\"dataframe\">\n",
       "  <thead>\n",
       "    <tr style=\"text-align: right;\">\n",
       "      <th></th>\n",
       "      <th>rating</th>\n",
       "      <th>eu_sales</th>\n",
       "    </tr>\n",
       "  </thead>\n",
       "  <tbody>\n",
       "    <tr>\n",
       "      <th>0</th>\n",
       "      <td>E</td>\n",
       "      <td>536.20</td>\n",
       "    </tr>\n",
       "    <tr>\n",
       "      <th>1</th>\n",
       "      <td>M</td>\n",
       "      <td>412.05</td>\n",
       "    </tr>\n",
       "    <tr>\n",
       "      <th>2</th>\n",
       "      <td>T</td>\n",
       "      <td>281.44</td>\n",
       "    </tr>\n",
       "    <tr>\n",
       "      <th>3</th>\n",
       "      <td>0</td>\n",
       "      <td>263.31</td>\n",
       "    </tr>\n",
       "    <tr>\n",
       "      <th>4</th>\n",
       "      <td>E10+</td>\n",
       "      <td>179.42</td>\n",
       "    </tr>\n",
       "    <tr>\n",
       "      <th>5</th>\n",
       "      <td>AO</td>\n",
       "      <td>0.61</td>\n",
       "    </tr>\n",
       "    <tr>\n",
       "      <th>6</th>\n",
       "      <td>EC</td>\n",
       "      <td>0.11</td>\n",
       "    </tr>\n",
       "    <tr>\n",
       "      <th>7</th>\n",
       "      <td>RP</td>\n",
       "      <td>0.03</td>\n",
       "    </tr>\n",
       "  </tbody>\n",
       "</table>\n",
       "</div>"
      ],
      "text/plain": [
       "  rating  eu_sales\n",
       "0      E    536.20\n",
       "1      M    412.05\n",
       "2      T    281.44\n",
       "3      0    263.31\n",
       "4   E10+    179.42\n",
       "5     AO      0.61\n",
       "6     EC      0.11\n",
       "7     RP      0.03"
      ]
     },
     "execution_count": 43,
     "metadata": {},
     "output_type": "execute_result"
    }
   ],
   "source": [
    "eu_rating = df_actual.pivot_table(index = ['rating'],\n",
    "               values = ['eu_sales'],\n",
    "               aggfunc = 'sum').sort_values(by = 'eu_sales', ascending=False).reset_index()\n",
    "\n",
    "\n",
    "eu_rating"
   ]
  },
  {
   "cell_type": "markdown",
   "metadata": {},
   "source": [
    "<b> Для Европы характерны: </b>\n",
    "\n",
    "<b> Самые популярные платформы </b>\n",
    "- PS3\t\n",
    "- X360\t\n",
    "- Wii\t\n",
    "- DS\t\n",
    "- PS2\n",
    "\n",
    "<b> Самые популярные жанры </b>\n",
    "- Action\n",
    "- Sports\n",
    "- Shooter\t\n",
    "- Racing\n",
    "- Misc\n",
    "\n",
    "<b> Рейтинг влияет на поведение пользователей. </b>\n",
    "\n",
    "Так, можно заметить лидеров: игры с рейтингом Е (everyone), M(mature) и T(teens).\n",
    "Влияние можно объяснить так: рейтинг дает возможность пользователю сориентироваться при выборе игры.\n",
    "    \n"
   ]
  },
  {
   "cell_type": "markdown",
   "metadata": {},
   "source": [
    "### Северная Америка - Портрет пользователя  "
   ]
  },
  {
   "cell_type": "markdown",
   "metadata": {},
   "source": [
    "Самые популярные платформы:"
   ]
  },
  {
   "cell_type": "code",
   "execution_count": 44,
   "metadata": {},
   "outputs": [
    {
     "data": {
      "text/html": [
       "<div>\n",
       "<style scoped>\n",
       "    .dataframe tbody tr th:only-of-type {\n",
       "        vertical-align: middle;\n",
       "    }\n",
       "\n",
       "    .dataframe tbody tr th {\n",
       "        vertical-align: top;\n",
       "    }\n",
       "\n",
       "    .dataframe thead th {\n",
       "        text-align: right;\n",
       "    }\n",
       "</style>\n",
       "<table border=\"1\" class=\"dataframe\">\n",
       "  <thead>\n",
       "    <tr style=\"text-align: right;\">\n",
       "      <th></th>\n",
       "      <th>na_sales</th>\n",
       "      <th>percentage</th>\n",
       "    </tr>\n",
       "    <tr>\n",
       "      <th>platform</th>\n",
       "      <th></th>\n",
       "      <th></th>\n",
       "    </tr>\n",
       "  </thead>\n",
       "  <tbody>\n",
       "    <tr>\n",
       "      <th>X360</th>\n",
       "      <td>595.05</td>\n",
       "      <td>0.212033</td>\n",
       "    </tr>\n",
       "    <tr>\n",
       "      <th>Wii</th>\n",
       "      <td>486.81</td>\n",
       "      <td>0.173464</td>\n",
       "    </tr>\n",
       "    <tr>\n",
       "      <th>PS3</th>\n",
       "      <td>389.46</td>\n",
       "      <td>0.138776</td>\n",
       "    </tr>\n",
       "    <tr>\n",
       "      <th>DS</th>\n",
       "      <td>380.31</td>\n",
       "      <td>0.135515</td>\n",
       "    </tr>\n",
       "    <tr>\n",
       "      <th>PS2</th>\n",
       "      <td>297.27</td>\n",
       "      <td>0.105926</td>\n",
       "    </tr>\n",
       "  </tbody>\n",
       "</table>\n",
       "</div>"
      ],
      "text/plain": [
       "          na_sales  percentage\n",
       "platform                      \n",
       "X360        595.05    0.212033\n",
       "Wii         486.81    0.173464\n",
       "PS3         389.46    0.138776\n",
       "DS          380.31    0.135515\n",
       "PS2         297.27    0.105926"
      ]
     },
     "execution_count": 44,
     "metadata": {},
     "output_type": "execute_result"
    }
   ],
   "source": [
    "na_platform = df_actual.pivot_table(index = ['platform'],\n",
    "               values = ['na_sales'],\n",
    "               aggfunc = 'sum').sort_values(by = 'na_sales', ascending=False)\n",
    "\n",
    "na_sales_total = df_actual['na_sales'].sum()\n",
    "na_platform['percentage'] = na_platform['na_sales']/na_sales_total\n",
    "\n",
    "na_platform.head()"
   ]
  },
  {
   "cell_type": "markdown",
   "metadata": {},
   "source": [
    "Самые популярные жанры:"
   ]
  },
  {
   "cell_type": "code",
   "execution_count": 45,
   "metadata": {},
   "outputs": [
    {
     "data": {
      "text/html": [
       "<div>\n",
       "<style scoped>\n",
       "    .dataframe tbody tr th:only-of-type {\n",
       "        vertical-align: middle;\n",
       "    }\n",
       "\n",
       "    .dataframe tbody tr th {\n",
       "        vertical-align: top;\n",
       "    }\n",
       "\n",
       "    .dataframe thead th {\n",
       "        text-align: right;\n",
       "    }\n",
       "</style>\n",
       "<table border=\"1\" class=\"dataframe\">\n",
       "  <thead>\n",
       "    <tr style=\"text-align: right;\">\n",
       "      <th></th>\n",
       "      <th>na_sales</th>\n",
       "    </tr>\n",
       "    <tr>\n",
       "      <th>genre</th>\n",
       "      <th></th>\n",
       "    </tr>\n",
       "  </thead>\n",
       "  <tbody>\n",
       "    <tr>\n",
       "      <th>Action</th>\n",
       "      <td>609.83</td>\n",
       "    </tr>\n",
       "    <tr>\n",
       "      <th>Sports</th>\n",
       "      <td>463.68</td>\n",
       "    </tr>\n",
       "    <tr>\n",
       "      <th>Shooter</th>\n",
       "      <td>415.06</td>\n",
       "    </tr>\n",
       "    <tr>\n",
       "      <th>Misc</th>\n",
       "      <td>328.21</td>\n",
       "    </tr>\n",
       "    <tr>\n",
       "      <th>Role-Playing</th>\n",
       "      <td>227.52</td>\n",
       "    </tr>\n",
       "  </tbody>\n",
       "</table>\n",
       "</div>"
      ],
      "text/plain": [
       "              na_sales\n",
       "genre                 \n",
       "Action          609.83\n",
       "Sports          463.68\n",
       "Shooter         415.06\n",
       "Misc            328.21\n",
       "Role-Playing    227.52"
      ]
     },
     "execution_count": 45,
     "metadata": {},
     "output_type": "execute_result"
    }
   ],
   "source": [
    "na_genre = df_actual[['genre', 'na_sales']]\n",
    "na_genre.pivot_table(index = ['genre'],\n",
    "                    values = ['na_sales'],\n",
    "                    aggfunc = 'sum').sort_values(by = 'na_sales', ascending=False).head()"
   ]
  },
  {
   "cell_type": "markdown",
   "metadata": {},
   "source": [
    "Влияние рейтинга:"
   ]
  },
  {
   "cell_type": "code",
   "execution_count": 46,
   "metadata": {},
   "outputs": [
    {
     "data": {
      "text/html": [
       "<div>\n",
       "<style scoped>\n",
       "    .dataframe tbody tr th:only-of-type {\n",
       "        vertical-align: middle;\n",
       "    }\n",
       "\n",
       "    .dataframe tbody tr th {\n",
       "        vertical-align: top;\n",
       "    }\n",
       "\n",
       "    .dataframe thead th {\n",
       "        text-align: right;\n",
       "    }\n",
       "</style>\n",
       "<table border=\"1\" class=\"dataframe\">\n",
       "  <thead>\n",
       "    <tr style=\"text-align: right;\">\n",
       "      <th></th>\n",
       "      <th>rating</th>\n",
       "      <th>na_sales</th>\n",
       "    </tr>\n",
       "  </thead>\n",
       "  <tbody>\n",
       "    <tr>\n",
       "      <th>0</th>\n",
       "      <td>E</td>\n",
       "      <td>962.80</td>\n",
       "    </tr>\n",
       "    <tr>\n",
       "      <th>1</th>\n",
       "      <td>M</td>\n",
       "      <td>633.67</td>\n",
       "    </tr>\n",
       "    <tr>\n",
       "      <th>2</th>\n",
       "      <td>T</td>\n",
       "      <td>518.85</td>\n",
       "    </tr>\n",
       "    <tr>\n",
       "      <th>3</th>\n",
       "      <td>0</td>\n",
       "      <td>346.86</td>\n",
       "    </tr>\n",
       "    <tr>\n",
       "      <th>4</th>\n",
       "      <td>E10+</td>\n",
       "      <td>341.43</td>\n",
       "    </tr>\n",
       "    <tr>\n",
       "      <th>5</th>\n",
       "      <td>EC</td>\n",
       "      <td>1.53</td>\n",
       "    </tr>\n",
       "    <tr>\n",
       "      <th>6</th>\n",
       "      <td>AO</td>\n",
       "      <td>1.26</td>\n",
       "    </tr>\n",
       "    <tr>\n",
       "      <th>7</th>\n",
       "      <td>RP</td>\n",
       "      <td>0.00</td>\n",
       "    </tr>\n",
       "  </tbody>\n",
       "</table>\n",
       "</div>"
      ],
      "text/plain": [
       "  rating  na_sales\n",
       "0      E    962.80\n",
       "1      M    633.67\n",
       "2      T    518.85\n",
       "3      0    346.86\n",
       "4   E10+    341.43\n",
       "5     EC      1.53\n",
       "6     AO      1.26\n",
       "7     RP      0.00"
      ]
     },
     "execution_count": 46,
     "metadata": {},
     "output_type": "execute_result"
    }
   ],
   "source": [
    "na_rating = df_actual.pivot_table(index = ['rating'],\n",
    "               values = ['na_sales'],\n",
    "               aggfunc = 'sum').sort_values(by = 'na_sales', ascending=False).reset_index()\n",
    "\n",
    "\n",
    "na_rating"
   ]
  },
  {
   "cell_type": "markdown",
   "metadata": {},
   "source": [
    "<b> Для Северной Америки характерны </b>\n",
    "\n",
    "<b> Самые популярные платформы </b>\n",
    "- X360\n",
    "- Wii \n",
    "- PS3\n",
    "- DS\n",
    "- PS2\n",
    "\n",
    "\n",
    "<b> Самые популярные жанры </b>\n",
    "- Action\n",
    "- Sports\n",
    "- Shooter\n",
    "- Misc\n",
    "- Role-Playing\n",
    "\n",
    "<b> Влияние рейтинга на поведение пользователей. </b>\n",
    "\n",
    "Рейтинг влияет на поведение пользователя."
   ]
  },
  {
   "cell_type": "markdown",
   "metadata": {},
   "source": [
    "### Япония - Портрет пользователя "
   ]
  },
  {
   "cell_type": "code",
   "execution_count": 47,
   "metadata": {},
   "outputs": [
    {
     "data": {
      "text/html": [
       "<div>\n",
       "<style scoped>\n",
       "    .dataframe tbody tr th:only-of-type {\n",
       "        vertical-align: middle;\n",
       "    }\n",
       "\n",
       "    .dataframe tbody tr th {\n",
       "        vertical-align: top;\n",
       "    }\n",
       "\n",
       "    .dataframe thead th {\n",
       "        text-align: right;\n",
       "    }\n",
       "</style>\n",
       "<table border=\"1\" class=\"dataframe\">\n",
       "  <thead>\n",
       "    <tr style=\"text-align: right;\">\n",
       "      <th></th>\n",
       "      <th>jp_sales</th>\n",
       "      <th>percentage</th>\n",
       "    </tr>\n",
       "    <tr>\n",
       "      <th>platform</th>\n",
       "      <th></th>\n",
       "      <th></th>\n",
       "    </tr>\n",
       "  </thead>\n",
       "  <tbody>\n",
       "    <tr>\n",
       "      <th>DS</th>\n",
       "      <td>175.00</td>\n",
       "      <td>0.274329</td>\n",
       "    </tr>\n",
       "    <tr>\n",
       "      <th>3DS</th>\n",
       "      <td>92.59</td>\n",
       "      <td>0.145144</td>\n",
       "    </tr>\n",
       "    <tr>\n",
       "      <th>PS3</th>\n",
       "      <td>78.11</td>\n",
       "      <td>0.122445</td>\n",
       "    </tr>\n",
       "    <tr>\n",
       "      <th>PSP</th>\n",
       "      <td>75.88</td>\n",
       "      <td>0.118949</td>\n",
       "    </tr>\n",
       "    <tr>\n",
       "      <th>PS2</th>\n",
       "      <td>70.15</td>\n",
       "      <td>0.109967</td>\n",
       "    </tr>\n",
       "  </tbody>\n",
       "</table>\n",
       "</div>"
      ],
      "text/plain": [
       "          jp_sales  percentage\n",
       "platform                      \n",
       "DS          175.00    0.274329\n",
       "3DS          92.59    0.145144\n",
       "PS3          78.11    0.122445\n",
       "PSP          75.88    0.118949\n",
       "PS2          70.15    0.109967"
      ]
     },
     "execution_count": 47,
     "metadata": {},
     "output_type": "execute_result"
    }
   ],
   "source": [
    "jp_platform = df_actual.pivot_table(index = ['platform'],\n",
    "               values = ['jp_sales'],\n",
    "               aggfunc = 'sum').sort_values(by = 'jp_sales', ascending=False)\n",
    "\n",
    "jp_sales_total = df_actual['jp_sales'].sum()\n",
    "jp_platform['percentage'] = jp_platform['jp_sales']/jp_sales_total\n",
    "\n",
    "jp_platform.head()"
   ]
  },
  {
   "cell_type": "code",
   "execution_count": 48,
   "metadata": {},
   "outputs": [
    {
     "data": {
      "text/html": [
       "<div>\n",
       "<style scoped>\n",
       "    .dataframe tbody tr th:only-of-type {\n",
       "        vertical-align: middle;\n",
       "    }\n",
       "\n",
       "    .dataframe tbody tr th {\n",
       "        vertical-align: top;\n",
       "    }\n",
       "\n",
       "    .dataframe thead th {\n",
       "        text-align: right;\n",
       "    }\n",
       "</style>\n",
       "<table border=\"1\" class=\"dataframe\">\n",
       "  <thead>\n",
       "    <tr style=\"text-align: right;\">\n",
       "      <th></th>\n",
       "      <th>jp_sales</th>\n",
       "    </tr>\n",
       "    <tr>\n",
       "      <th>genre</th>\n",
       "      <th></th>\n",
       "    </tr>\n",
       "  </thead>\n",
       "  <tbody>\n",
       "    <tr>\n",
       "      <th>Role-Playing</th>\n",
       "      <td>186.48</td>\n",
       "    </tr>\n",
       "    <tr>\n",
       "      <th>Action</th>\n",
       "      <td>106.14</td>\n",
       "    </tr>\n",
       "    <tr>\n",
       "      <th>Misc</th>\n",
       "      <td>73.88</td>\n",
       "    </tr>\n",
       "    <tr>\n",
       "      <th>Sports</th>\n",
       "      <td>56.01</td>\n",
       "    </tr>\n",
       "    <tr>\n",
       "      <th>Platform</th>\n",
       "      <td>42.32</td>\n",
       "    </tr>\n",
       "  </tbody>\n",
       "</table>\n",
       "</div>"
      ],
      "text/plain": [
       "              jp_sales\n",
       "genre                 \n",
       "Role-Playing    186.48\n",
       "Action          106.14\n",
       "Misc             73.88\n",
       "Sports           56.01\n",
       "Platform         42.32"
      ]
     },
     "execution_count": 48,
     "metadata": {},
     "output_type": "execute_result"
    }
   ],
   "source": [
    "jp_genre = df_actual[['genre', 'jp_sales']]\n",
    "jp_genre.pivot_table(index = ['genre'],\n",
    "                    values = ['jp_sales'],\n",
    "                    aggfunc = 'sum').sort_values(by = 'jp_sales', ascending=False).head()"
   ]
  },
  {
   "cell_type": "code",
   "execution_count": 49,
   "metadata": {},
   "outputs": [
    {
     "data": {
      "text/html": [
       "<div>\n",
       "<style scoped>\n",
       "    .dataframe tbody tr th:only-of-type {\n",
       "        vertical-align: middle;\n",
       "    }\n",
       "\n",
       "    .dataframe tbody tr th {\n",
       "        vertical-align: top;\n",
       "    }\n",
       "\n",
       "    .dataframe thead th {\n",
       "        text-align: right;\n",
       "    }\n",
       "</style>\n",
       "<table border=\"1\" class=\"dataframe\">\n",
       "  <thead>\n",
       "    <tr style=\"text-align: right;\">\n",
       "      <th></th>\n",
       "      <th>rating</th>\n",
       "      <th>jp_sales</th>\n",
       "    </tr>\n",
       "  </thead>\n",
       "  <tbody>\n",
       "    <tr>\n",
       "      <th>0</th>\n",
       "      <td>0</td>\n",
       "      <td>295.78</td>\n",
       "    </tr>\n",
       "    <tr>\n",
       "      <th>1</th>\n",
       "      <td>E</td>\n",
       "      <td>158.20</td>\n",
       "    </tr>\n",
       "    <tr>\n",
       "      <th>2</th>\n",
       "      <td>T</td>\n",
       "      <td>97.01</td>\n",
       "    </tr>\n",
       "    <tr>\n",
       "      <th>3</th>\n",
       "      <td>M</td>\n",
       "      <td>47.35</td>\n",
       "    </tr>\n",
       "    <tr>\n",
       "      <th>4</th>\n",
       "      <td>E10+</td>\n",
       "      <td>39.58</td>\n",
       "    </tr>\n",
       "    <tr>\n",
       "      <th>5</th>\n",
       "      <td>AO</td>\n",
       "      <td>0.00</td>\n",
       "    </tr>\n",
       "    <tr>\n",
       "      <th>6</th>\n",
       "      <td>EC</td>\n",
       "      <td>0.00</td>\n",
       "    </tr>\n",
       "    <tr>\n",
       "      <th>7</th>\n",
       "      <td>RP</td>\n",
       "      <td>0.00</td>\n",
       "    </tr>\n",
       "  </tbody>\n",
       "</table>\n",
       "</div>"
      ],
      "text/plain": [
       "  rating  jp_sales\n",
       "0      0    295.78\n",
       "1      E    158.20\n",
       "2      T     97.01\n",
       "3      M     47.35\n",
       "4   E10+     39.58\n",
       "5     AO      0.00\n",
       "6     EC      0.00\n",
       "7     RP      0.00"
      ]
     },
     "execution_count": 49,
     "metadata": {},
     "output_type": "execute_result"
    }
   ],
   "source": [
    "jp_rating = df_actual.pivot_table(index = ['rating'],\n",
    "               values = ['jp_sales'],\n",
    "               aggfunc = 'sum').sort_values(by = 'jp_sales', ascending=False).reset_index()\n",
    "\n",
    "\n",
    "jp_rating"
   ]
  },
  {
   "cell_type": "markdown",
   "metadata": {},
   "source": [
    "<b> Для Японии характерны </b>\n",
    "\n",
    "<b> Самые популярные платформы </b>\n",
    "- DS\n",
    "- 3DS\t\n",
    "- PS3\t\n",
    "- PSP\t\n",
    "- PS2\n",
    "\n",
    "<b> Самые популярные жанры </b>\n",
    "- Role-Playing\n",
    "- Action\n",
    "- Misc\n",
    "- Sports\n",
    "- Platform\n",
    "\n",
    "<b> Влияние рейтинга на поведение пользователей. </b>\n",
    "\n",
    "Рейтинг в меньшей степени влияет на поведение пользователей."
   ]
  },
  {
   "cell_type": "markdown",
   "metadata": {},
   "source": [
    "### Вывод\n",
    "\n",
    "<b>Пятерку лидеров составляют платформы</b>\n",
    "- В Европе: PS3 (19%), X360 (16%), Wii (15%), DS (11%), PS2 (8%)\n",
    "- В Северной Америке: X360 (21%), Wii (17%), PS3 (13,8%), DS (13,5%), PS2 (11%)\n",
    "- В Японии: DS (27%), 3DS (15%), PS3 (12%), PSP (11,8%), PS2(11%)\n",
    "\n",
    "Абсолютные лидеры в Европе и Северной Америке: PS3, X360, Wii.\n",
    "В Японии немного иная структура спроса. В топе у пользователей: DS, 3DS, PS3.\n",
    "\n",
    "<b>Топ-5 жанров</b>\n",
    "- В Европе: Action, Sports, Shooter, Racing, Misc\n",
    "- В Северной Америке: Action, Sports, Shooter, Misc, Role-Playing\n",
    "- В Японии: Role-Playing, Action, Misc, Sports, Platform\n",
    "\n",
    "В качестве абсолютных лидеров можно выделить жанры: Action, Sports, Misc\n",
    "\n",
    "<b> Рейтинг от организации ESRB </b>\n",
    "\n",
    "Рейтинг влияет на поведение пользователей в Европе и Северной Америке. \n",
    "\n",
    "В Японии влияние намного меньше.\n",
    "Возрастными рейтингами для игр в Японии занимается локальная организация - CERO."
   ]
  },
  {
   "cell_type": "markdown",
   "metadata": {},
   "source": [
    "## Проверка гипотез"
   ]
  },
  {
   "cell_type": "markdown",
   "metadata": {},
   "source": [
    "Шаг 5. Проверьте гипотезы\n",
    "\n",
    "- Средние пользовательские рейтинги платформ Xbox One и PC одинаковые;\n",
    "- Средние пользовательские рейтинги жанров Action (англ. «действие», экшен-игры) и Sports (англ. «спортивные соревнования») разные.\n",
    "\n",
    "Задайте самостоятельно пороговое значение alpha.\n",
    "Поясните:\n",
    "\n",
    "- Как вы сформулировали нулевую и альтернативную гипотезы;\n",
    "- Какой критерий применили для проверки гипотез и почему"
   ]
  },
  {
   "cell_type": "markdown",
   "metadata": {},
   "source": [
    "### Гипотеза №1\n",
    "\n",
    "<b>Средние пользовательские рейтинги платформ Xbox One и PC одинаковые</b>"
   ]
  },
  {
   "cell_type": "markdown",
   "metadata": {},
   "source": [
    "Нулевая гипотеза всегда формулируется так, чтобы использовать знако равенства.\n",
    "Исходя из нулевой гипотезы формулируется альтернативная.\n",
    "\n",
    "$\\begin{equation*}\n",
    " \\begin{cases}\n",
    "H_0 :\\text{Средние пользовательские рейтинги платформ Xbox One и PC одинаковые}\\\\\n",
    "H_1 :\\text{Средние пользовательские рейтинги платформ Xbox One и PC отличаются}\n",
    " \\end{cases}\n",
    "\\end{equation*}$"
   ]
  },
  {
   "cell_type": "markdown",
   "metadata": {},
   "source": [
    "Проверим нормальность распределения:"
   ]
  },
  {
   "cell_type": "code",
   "execution_count": 50,
   "metadata": {},
   "outputs": [
    {
     "name": "stderr",
     "output_type": "stream",
     "text": [
      "/Users/alena/opt/anaconda3/lib/python3.8/site-packages/seaborn/distributions.py:2557: FutureWarning: `distplot` is a deprecated function and will be removed in a future version. Please adapt your code to use either `displot` (a figure-level function with similar flexibility) or `histplot` (an axes-level function for histograms).\n",
      "  warnings.warn(msg, FutureWarning)\n",
      "/Users/alena/opt/anaconda3/lib/python3.8/site-packages/seaborn/distributions.py:2557: FutureWarning: `distplot` is a deprecated function and will be removed in a future version. Please adapt your code to use either `displot` (a figure-level function with similar flexibility) or `histplot` (an axes-level function for histograms).\n",
      "  warnings.warn(msg, FutureWarning)\n"
     ]
    },
    {
     "data": {
      "image/png": "[encoded data removed]",
      "text/plain": [
       "<Figure size 432x288 with 1 Axes>"
      ]
     },
     "metadata": {},
     "output_type": "display_data"
    }
   ],
   "source": [
    "sns.distplot(df_actual.query('platform == \"XOne\"')['user_score']);\n",
    "sns.distplot(df_actual.query('platform == \"PC\"')['user_score']);"
   ]
  },
  {
   "cell_type": "code",
   "execution_count": 51,
   "metadata": {},
   "outputs": [
    {
     "data": {
      "image/png": "[encoded data removed]",
      "text/plain": [
       "<Figure size 864x576 with 2 Axes>"
      ]
     },
     "metadata": {},
     "output_type": "display_data"
    }
   ],
   "source": [
    "plt.figure(figsize=(12,8))\n",
    "plt.subplot(2,2,1)\n",
    "st.probplot(df_actual.query('platform == \"XOne\"')['user_score'], dist=\"norm\", plot=plt)\n",
    "plt.subplot(2,2,2)\n",
    "st.probplot(df_actual.query('platform == \"PC\"')['user_score'], dist=\"norm\", plot=plt)\n",
    "plt.show()"
   ]
  },
  {
   "cell_type": "markdown",
   "metadata": {},
   "source": [
    "Распределение нельзя назвать нормальным, поэтому будем проверять гипотезу с помощью непараметрического теста Манна-Уитни.\n",
    "\n",
    "Уровень значимости:  𝛼=0.05 \n",
    "\n",
    "Посчитаем p-value, используя ttest из библиотеки scipy для сравнения средних двух выборок.\n",
    "\n",
    "Если p-value будет меньше выбранного уровня значимости  𝛼=0.05 , то нулевую гипотезу о равенстве средних отвергнем. Иначе сделаем вывод, что данные не позволили нам отвергнуть нулевую гипотезу."
   ]
  },
  {
   "cell_type": "code",
   "execution_count": 52,
   "metadata": {},
   "outputs": [
    {
     "name": "stdout",
     "output_type": "stream",
     "text": [
      "p-значение:  9.797737313328692e-06\n",
      "Отвергаем нулевую гипотезу\n"
     ]
    }
   ],
   "source": [
    "alpha = .05\n",
    "\n",
    "results = st.mannwhitneyu(\n",
    "    (df_actual.query('platform == \"XOne\" & user_score!= -777')['user_score']),\n",
    "    (df_actual.query('platform == \"PC\" & user_score!= -777')['user_score']),\n",
    "    alternative='two-sided')\n",
    "     \n",
    "print('p-значение: ', results.pvalue)\n",
    "\n",
    "if (results.pvalue < alpha):\n",
    "    print(\"Отвергаем нулевую гипотезу\")\n",
    "else:\n",
    "    print(\"Не получилось отвергнуть нулевую гипотезу\")"
   ]
  },
  {
   "cell_type": "code",
   "execution_count": 53,
   "metadata": {},
   "outputs": [
    {
     "data": {
      "text/plain": [
       "4.69625"
      ]
     },
     "execution_count": 53,
     "metadata": {},
     "output_type": "execute_result"
    }
   ],
   "source": [
    "df_actual.query('platform == \"XOne\" & user_score!= -777')['user_score'].mean()"
   ]
  },
  {
   "cell_type": "code",
   "execution_count": 54,
   "metadata": {},
   "outputs": [
    {
     "data": {
      "text/plain": [
       "5.516983523447408"
      ]
     },
     "execution_count": 54,
     "metadata": {},
     "output_type": "execute_result"
    }
   ],
   "source": [
    "df_actual.query('platform == \"PC\" & user_score!= -777')['user_score'].mean()"
   ]
  },
  {
   "cell_type": "markdown",
   "metadata": {},
   "source": [
    "<b> Пользовательские рейтинги платформ Xbox One и PC различаются </b>"
   ]
  },
  {
   "cell_type": "markdown",
   "metadata": {},
   "source": [
    "### Гипотеза №2\n",
    "\n",
    "Средние пользовательские рейтинги жанров Action и Sports разные.\n",
    "\n",
    "$\\begin{equation*}\n",
    " \\begin{cases}\n",
    "   H_0 :\\text{Средние пользовательские рейтинги жанров Action и Sports одинаковые}\\\\\n",
    "   H_1 :\\text{Средние пользовательские рейтинги жанров Action и Sports разные}\n",
    " \\end{cases}\n",
    "\\end{equation*}$"
   ]
  },
  {
   "cell_type": "markdown",
   "metadata": {},
   "source": [
    "Проверим данные на нормальность (построим qq-plot для нормального распределения):"
   ]
  },
  {
   "cell_type": "code",
   "execution_count": 55,
   "metadata": {},
   "outputs": [
    {
     "data": {
      "image/png": "[encoded data removed]",
      "text/plain": [
       "<Figure size 864x576 with 2 Axes>"
      ]
     },
     "metadata": {},
     "output_type": "display_data"
    }
   ],
   "source": [
    "plt.figure(figsize=(12,8))\n",
    "plt.subplot(2,2,1)\n",
    "st.probplot(df_actual.query('genre == \"Action\"')['user_score'], dist=\"norm\", plot=plt)\n",
    "plt.subplot(2,2,2)\n",
    "st.probplot(df_actual.query('genre == \"Sports\"')['user_score'], dist=\"norm\", plot=plt)\n",
    "plt.show()"
   ]
  },
  {
   "cell_type": "markdown",
   "metadata": {},
   "source": [
    "Проводим непараметрический тест Манна-Уитни.\n",
    "\n",
    "Проверка гипотез двусторонняя."
   ]
  },
  {
   "cell_type": "code",
   "execution_count": 56,
   "metadata": {},
   "outputs": [
    {
     "name": "stdout",
     "output_type": "stream",
     "text": [
      "p-значение:  0.0020393192403408266\n",
      "Отвергаем нулевую гипотезу\n"
     ]
    }
   ],
   "source": [
    "results = st.mannwhitneyu(\n",
    "    (df_actual.query('genre == \"Action\"')['user_score']),\n",
    "    (df_actual.query('genre == \"Sports\"')['user_score']),\n",
    "    alternative='two-sided')\n",
    "\n",
    "print('p-значение: ', results.pvalue)\n",
    "\n",
    "if (results.pvalue < alpha):\n",
    "    print(\"Отвергаем нулевую гипотезу\")\n",
    "else:\n",
    "    print(\"Не получилось отвергнуть нулевую гипотезу\")"
   ]
  },
  {
   "cell_type": "markdown",
   "metadata": {},
   "source": [
    "## Вывод "
   ]
  },
  {
   "cell_type": "markdown",
   "metadata": {},
   "source": [
    "Основные факторы, определяющие успешность игры:\n",
    "\n",
    "- Отзывы критиков и других пользователей влияют на продажи\n",
    "- Наиболее популярные платформы в Европе и Северной Америке: PS3, X360, Wii.\n",
    "В Японии: DS, 3DS, PS3\n",
    "- Лидирующие жанры: Action, Sports, Misc\n",
    "- Жанры с низкими продажами: Strategy, Puzzle, Adventure, Fighting, Simulation\n",
    "- Рейтинг от организации ESRB влияет на поведение пользователей в Европе и Северной Америке. В Японии влияния почти нет, так как возрастными рейтингами для игр занимается локальная организация - CERO.\n",
    "- Платформы, которые могут оказаться перспективными (показали рост выручки на протяжении 2004-2015): DC, PS4, XOne"
   ]
  }
 ],
 "metadata": {
  "ExecuteTimeLog": [
   {
    "duration": 4,
    "start_time": "2021-08-09T07:17:30.257Z"
   },
   {
    "duration": 121,
    "start_time": "2021-08-09T07:21:18.711Z"
   },
   {
    "duration": 1338,
    "start_time": "2021-08-09T07:26:59.476Z"
   },
   {
    "duration": 69,
    "start_time": "2021-08-09T07:27:33.547Z"
   },
   {
    "duration": 68,
    "start_time": "2021-08-09T07:27:40.923Z"
   },
   {
    "duration": 15,
    "start_time": "2021-08-09T07:31:26.762Z"
   },
   {
    "duration": 9,
    "start_time": "2021-08-09T07:36:44.868Z"
   },
   {
    "duration": 462,
    "start_time": "2021-08-09T07:37:08.456Z"
   },
   {
    "duration": 432,
    "start_time": "2021-08-09T07:37:10.763Z"
   },
   {
    "duration": 15,
    "start_time": "2021-08-09T07:37:20.779Z"
   },
   {
    "duration": 10,
    "start_time": "2021-08-09T07:38:00.527Z"
   },
   {
    "duration": 9176,
    "start_time": "2021-08-09T07:38:40.178Z"
   },
   {
    "duration": 9,
    "start_time": "2021-08-09T07:38:53.438Z"
   },
   {
    "duration": 10,
    "start_time": "2021-08-09T07:40:46.357Z"
   },
   {
    "duration": 23,
    "start_time": "2021-08-09T07:42:05.009Z"
   },
   {
    "duration": 22,
    "start_time": "2021-08-09T07:42:09.217Z"
   },
   {
    "duration": 357,
    "start_time": "2021-08-09T07:44:02.551Z"
   },
   {
    "duration": 352,
    "start_time": "2021-08-09T07:44:14.950Z"
   },
   {
    "duration": 9,
    "start_time": "2021-08-09T07:45:25.262Z"
   },
   {
    "duration": 5,
    "start_time": "2021-08-09T07:45:37.097Z"
   },
   {
    "duration": 19,
    "start_time": "2021-08-09T07:45:40.933Z"
   },
   {
    "duration": 7,
    "start_time": "2021-08-09T07:48:20.368Z"
   },
   {
    "duration": 8,
    "start_time": "2021-08-09T07:48:24.071Z"
   },
   {
    "duration": 342,
    "start_time": "2021-08-09T07:50:16.157Z"
   },
   {
    "duration": 5,
    "start_time": "2021-08-09T07:50:18.821Z"
   },
   {
    "duration": 32,
    "start_time": "2021-08-09T07:50:23.703Z"
   },
   {
    "duration": 5,
    "start_time": "2021-08-09T07:55:14.826Z"
   },
   {
    "duration": 1374,
    "start_time": "2021-08-09T07:55:48.923Z"
   },
   {
    "duration": 407,
    "start_time": "2021-08-09T07:55:58.002Z"
   },
   {
    "duration": 351,
    "start_time": "2021-08-09T07:56:00.668Z"
   },
   {
    "duration": 344,
    "start_time": "2021-08-09T07:57:08.641Z"
   },
   {
    "duration": 344,
    "start_time": "2021-08-09T07:57:14.409Z"
   },
   {
    "duration": 343,
    "start_time": "2021-08-09T07:58:03.383Z"
   },
   {
    "duration": 341,
    "start_time": "2021-08-09T07:58:14.148Z"
   },
   {
    "duration": 22,
    "start_time": "2021-08-09T07:58:18.557Z"
   },
   {
    "duration": 394,
    "start_time": "2021-08-09T07:58:34.084Z"
   },
   {
    "duration": 4,
    "start_time": "2021-08-09T07:59:12.098Z"
   },
   {
    "duration": 352,
    "start_time": "2021-08-09T07:59:31.188Z"
   },
   {
    "duration": 355,
    "start_time": "2021-08-09T08:00:47.341Z"
   },
   {
    "duration": 5,
    "start_time": "2021-08-09T08:00:57.561Z"
   },
   {
    "duration": 367,
    "start_time": "2021-08-09T08:01:04.902Z"
   },
   {
    "duration": 349,
    "start_time": "2021-08-09T08:01:40.724Z"
   },
   {
    "duration": 379,
    "start_time": "2021-08-09T08:01:47.043Z"
   },
   {
    "duration": 350,
    "start_time": "2021-08-09T08:02:43.207Z"
   },
   {
    "duration": 35,
    "start_time": "2021-08-09T08:02:56.007Z"
   },
   {
    "duration": 20,
    "start_time": "2021-08-09T08:06:52.131Z"
   },
   {
    "duration": 34,
    "start_time": "2021-08-09T08:07:05.726Z"
   },
   {
    "duration": 33,
    "start_time": "2021-08-09T08:07:13.555Z"
   },
   {
    "duration": 15,
    "start_time": "2021-08-09T08:16:56.770Z"
   },
   {
    "duration": 38,
    "start_time": "2021-08-09T08:17:07.708Z"
   },
   {
    "duration": 25,
    "start_time": "2021-08-09T08:19:40.468Z"
   },
   {
    "duration": 5,
    "start_time": "2021-08-09T08:19:45.851Z"
   },
   {
    "duration": 8,
    "start_time": "2021-08-09T08:19:56.940Z"
   },
   {
    "duration": 9,
    "start_time": "2021-08-09T08:21:32.709Z"
   },
   {
    "duration": 34,
    "start_time": "2021-08-09T08:21:33.917Z"
   },
   {
    "duration": 13,
    "start_time": "2021-08-09T08:24:40.358Z"
   },
   {
    "duration": 344,
    "start_time": "2021-08-09T08:25:46.525Z"
   },
   {
    "duration": 7,
    "start_time": "2021-08-09T08:26:13.887Z"
   },
   {
    "duration": 6,
    "start_time": "2021-08-09T08:26:20.927Z"
   },
   {
    "duration": 32,
    "start_time": "2021-08-09T08:26:39.267Z"
   },
   {
    "duration": 37,
    "start_time": "2021-08-09T08:28:09.873Z"
   },
   {
    "duration": 387,
    "start_time": "2021-08-09T08:28:33.453Z"
   },
   {
    "duration": 33,
    "start_time": "2021-08-09T08:28:38.814Z"
   },
   {
    "duration": 10,
    "start_time": "2021-08-09T08:29:24.549Z"
   },
   {
    "duration": 11,
    "start_time": "2021-08-09T08:29:35.498Z"
   },
   {
    "duration": 10,
    "start_time": "2021-08-09T08:30:06.328Z"
   },
   {
    "duration": 10,
    "start_time": "2021-08-09T08:30:27.767Z"
   },
   {
    "duration": 33,
    "start_time": "2021-08-09T08:30:49.131Z"
   },
   {
    "duration": 11,
    "start_time": "2021-08-09T08:31:07.329Z"
   },
   {
    "duration": 31,
    "start_time": "2021-08-09T08:31:13.947Z"
   },
   {
    "duration": 29,
    "start_time": "2021-08-09T08:32:19.262Z"
   },
   {
    "duration": 5,
    "start_time": "2021-08-09T08:37:12.141Z"
   },
   {
    "duration": 6,
    "start_time": "2021-08-09T08:37:26.628Z"
   },
   {
    "duration": 8,
    "start_time": "2021-08-09T08:42:42.128Z"
   },
   {
    "duration": 13,
    "start_time": "2021-08-09T08:42:49.099Z"
   },
   {
    "duration": 8,
    "start_time": "2021-08-09T08:43:41.807Z"
   },
   {
    "duration": 20,
    "start_time": "2021-08-09T08:43:49.996Z"
   },
   {
    "duration": 24,
    "start_time": "2021-08-09T08:47:07.705Z"
   },
   {
    "duration": 45,
    "start_time": "2021-08-09T08:47:10.806Z"
   },
   {
    "duration": 34,
    "start_time": "2021-08-09T08:47:16.380Z"
   },
   {
    "duration": 20,
    "start_time": "2021-08-09T08:47:22.837Z"
   },
   {
    "duration": 20,
    "start_time": "2021-08-09T08:47:27.119Z"
   },
   {
    "duration": 402,
    "start_time": "2021-08-09T08:48:37.076Z"
   },
   {
    "duration": 8,
    "start_time": "2021-08-09T08:48:39.663Z"
   },
   {
    "duration": 26,
    "start_time": "2021-08-09T08:48:47.302Z"
   },
   {
    "duration": 8,
    "start_time": "2021-08-09T08:48:50.858Z"
   },
   {
    "duration": 7,
    "start_time": "2021-08-09T08:48:59.869Z"
   },
   {
    "duration": 19,
    "start_time": "2021-08-09T08:49:00.572Z"
   },
   {
    "duration": 7,
    "start_time": "2021-08-09T08:49:28.882Z"
   },
   {
    "duration": 20,
    "start_time": "2021-08-09T08:49:30.140Z"
   },
   {
    "duration": 7,
    "start_time": "2021-08-09T08:49:38.356Z"
   },
   {
    "duration": 31,
    "start_time": "2021-08-09T08:49:38.882Z"
   },
   {
    "duration": 32,
    "start_time": "2021-08-09T08:52:12.374Z"
   },
   {
    "duration": 7,
    "start_time": "2021-08-09T08:52:18.557Z"
   },
   {
    "duration": 31,
    "start_time": "2021-08-09T08:52:19.577Z"
   },
   {
    "duration": 4,
    "start_time": "2021-08-09T08:52:23.515Z"
   },
   {
    "duration": 16,
    "start_time": "2021-08-09T08:52:24.313Z"
   },
   {
    "duration": 7,
    "start_time": "2021-08-09T08:52:24.871Z"
   },
   {
    "duration": 10,
    "start_time": "2021-08-09T08:52:26.195Z"
   },
   {
    "duration": 12,
    "start_time": "2021-08-09T08:52:30.309Z"
   },
   {
    "duration": 4,
    "start_time": "2021-08-09T08:52:36.580Z"
   },
   {
    "duration": 73,
    "start_time": "2021-08-09T08:52:36.587Z"
   },
   {
    "duration": 12,
    "start_time": "2021-08-09T08:52:36.662Z"
   },
   {
    "duration": 32,
    "start_time": "2021-08-09T08:52:36.677Z"
   },
   {
    "duration": 18,
    "start_time": "2021-08-09T08:52:36.712Z"
   },
   {
    "duration": 27,
    "start_time": "2021-08-09T08:52:36.731Z"
   },
   {
    "duration": 35,
    "start_time": "2021-08-09T08:52:36.761Z"
   },
   {
    "duration": 9,
    "start_time": "2021-08-09T08:52:36.799Z"
   },
   {
    "duration": 26,
    "start_time": "2021-08-09T08:52:36.811Z"
   },
   {
    "duration": 40,
    "start_time": "2021-08-09T08:52:36.839Z"
   },
   {
    "duration": 28,
    "start_time": "2021-08-09T08:52:40.509Z"
   },
   {
    "duration": 8,
    "start_time": "2021-08-09T08:52:41.055Z"
   },
   {
    "duration": 18,
    "start_time": "2021-08-09T08:52:43.045Z"
   },
   {
    "duration": 11,
    "start_time": "2021-08-09T08:52:44.492Z"
   },
   {
    "duration": 13,
    "start_time": "2021-08-09T08:52:47.211Z"
   },
   {
    "duration": 12,
    "start_time": "2021-08-09T08:53:28.902Z"
   },
   {
    "duration": 11,
    "start_time": "2021-08-09T08:53:29.424Z"
   },
   {
    "duration": 11,
    "start_time": "2021-08-09T08:53:37.644Z"
   },
   {
    "duration": 15,
    "start_time": "2021-08-09T08:54:03.486Z"
   },
   {
    "duration": 21,
    "start_time": "2021-08-09T08:54:19.323Z"
   },
   {
    "duration": 12,
    "start_time": "2021-08-09T08:54:28.429Z"
   },
   {
    "duration": 12,
    "start_time": "2021-08-09T08:57:56.531Z"
   },
   {
    "duration": 4,
    "start_time": "2021-08-09T08:58:05.609Z"
   },
   {
    "duration": 81,
    "start_time": "2021-08-09T08:58:05.616Z"
   },
   {
    "duration": 15,
    "start_time": "2021-08-09T08:58:05.700Z"
   },
   {
    "duration": 46,
    "start_time": "2021-08-09T08:58:05.718Z"
   },
   {
    "duration": 19,
    "start_time": "2021-08-09T08:58:05.767Z"
   },
   {
    "duration": 8,
    "start_time": "2021-08-09T08:58:05.789Z"
   },
   {
    "duration": 25,
    "start_time": "2021-08-09T08:58:05.800Z"
   },
   {
    "duration": 8,
    "start_time": "2021-08-09T08:58:05.855Z"
   },
   {
    "duration": 17,
    "start_time": "2021-08-09T08:58:05.866Z"
   },
   {
    "duration": 31,
    "start_time": "2021-08-09T08:58:05.886Z"
   },
   {
    "duration": 42,
    "start_time": "2021-08-09T08:58:12.110Z"
   },
   {
    "duration": 31,
    "start_time": "2021-08-09T08:58:13.803Z"
   },
   {
    "duration": 20,
    "start_time": "2021-08-09T08:58:37.910Z"
   },
   {
    "duration": 29,
    "start_time": "2021-08-09T08:58:42.824Z"
   },
   {
    "duration": 30,
    "start_time": "2021-08-09T08:59:35.102Z"
   },
   {
    "duration": 34,
    "start_time": "2021-08-09T08:59:46.589Z"
   },
   {
    "duration": 8,
    "start_time": "2021-08-09T09:00:12.100Z"
   },
   {
    "duration": 23,
    "start_time": "2021-08-09T09:00:36.515Z"
   },
   {
    "duration": 11,
    "start_time": "2021-08-09T09:01:25.820Z"
   },
   {
    "duration": 11,
    "start_time": "2021-08-09T09:01:26.584Z"
   },
   {
    "duration": 3,
    "start_time": "2021-08-09T09:02:37.649Z"
   },
   {
    "duration": 14,
    "start_time": "2021-08-09T09:08:50.141Z"
   },
   {
    "duration": 4,
    "start_time": "2021-08-09T09:08:56.708Z"
   },
   {
    "duration": 87,
    "start_time": "2021-08-09T09:08:56.714Z"
   },
   {
    "duration": 21,
    "start_time": "2021-08-09T09:08:56.805Z"
   },
   {
    "duration": 47,
    "start_time": "2021-08-09T09:08:56.829Z"
   },
   {
    "duration": 21,
    "start_time": "2021-08-09T09:08:56.879Z"
   },
   {
    "duration": 21,
    "start_time": "2021-08-09T09:08:56.903Z"
   },
   {
    "duration": 54,
    "start_time": "2021-08-09T09:08:56.928Z"
   },
   {
    "duration": 10,
    "start_time": "2021-08-09T09:08:56.985Z"
   },
   {
    "duration": 34,
    "start_time": "2021-08-09T09:08:56.998Z"
   },
   {
    "duration": 12,
    "start_time": "2021-08-09T09:08:59.821Z"
   },
   {
    "duration": 27,
    "start_time": "2021-08-09T09:09:00.464Z"
   },
   {
    "duration": 25,
    "start_time": "2021-08-09T09:09:23.753Z"
   },
   {
    "duration": 28,
    "start_time": "2021-08-09T09:10:27.202Z"
   },
   {
    "duration": 24,
    "start_time": "2021-08-09T09:11:50.149Z"
   },
   {
    "duration": 8,
    "start_time": "2021-08-09T09:12:31.430Z"
   },
   {
    "duration": 12,
    "start_time": "2021-08-09T09:12:32.282Z"
   },
   {
    "duration": 11,
    "start_time": "2021-08-09T09:12:32.852Z"
   },
   {
    "duration": 18,
    "start_time": "2021-08-09T09:14:38.317Z"
   },
   {
    "duration": 7,
    "start_time": "2021-08-09T09:15:32.089Z"
   },
   {
    "duration": 23,
    "start_time": "2021-08-09T09:15:36.485Z"
   },
   {
    "duration": 8832,
    "start_time": "2021-08-09T09:16:33.257Z"
   },
   {
    "duration": 23,
    "start_time": "2021-08-09T09:16:55.140Z"
   },
   {
    "duration": 13,
    "start_time": "2021-08-09T09:17:01.809Z"
   },
   {
    "duration": 24,
    "start_time": "2021-08-09T09:38:24.859Z"
   },
   {
    "duration": 234,
    "start_time": "2021-08-09T09:40:08.918Z"
   },
   {
    "duration": 555,
    "start_time": "2021-08-09T09:41:40.188Z"
   },
   {
    "duration": 551,
    "start_time": "2021-08-09T09:41:54.377Z"
   },
   {
    "duration": 798,
    "start_time": "2021-08-09T09:41:58.900Z"
   },
   {
    "duration": 752,
    "start_time": "2021-08-09T09:42:06.066Z"
   },
   {
    "duration": 538,
    "start_time": "2021-08-09T09:42:10.534Z"
   },
   {
    "duration": 599,
    "start_time": "2021-08-09T09:44:21.686Z"
   },
   {
    "duration": 535,
    "start_time": "2021-08-09T09:44:29.573Z"
   },
   {
    "duration": 553,
    "start_time": "2021-08-09T09:44:35.196Z"
   },
   {
    "duration": 3366,
    "start_time": "2021-08-09T09:47:20.483Z"
   },
   {
    "duration": 3310,
    "start_time": "2021-08-09T09:47:31.937Z"
   },
   {
    "duration": 3573,
    "start_time": "2021-08-09T09:48:07.677Z"
   },
   {
    "duration": 514,
    "start_time": "2021-08-09T09:48:55.514Z"
   },
   {
    "duration": 357,
    "start_time": "2021-08-09T09:49:06.785Z"
   },
   {
    "duration": 329,
    "start_time": "2021-08-09T09:49:10.720Z"
   },
   {
    "duration": 433,
    "start_time": "2021-08-09T09:49:28.597Z"
   },
   {
    "duration": 548,
    "start_time": "2021-08-09T09:49:48.276Z"
   },
   {
    "duration": 585,
    "start_time": "2021-08-09T09:51:32.304Z"
   },
   {
    "duration": 587,
    "start_time": "2021-08-09T09:51:42.192Z"
   },
   {
    "duration": 585,
    "start_time": "2021-08-09T09:52:26.181Z"
   },
   {
    "duration": 601,
    "start_time": "2021-08-09T09:52:37.002Z"
   },
   {
    "duration": 154,
    "start_time": "2021-08-09T10:30:35.151Z"
   },
   {
    "duration": 21,
    "start_time": "2021-08-09T10:30:42.407Z"
   },
   {
    "duration": 1420,
    "start_time": "2021-08-09T10:30:49.180Z"
   },
   {
    "duration": 399,
    "start_time": "2021-08-09T10:31:03.615Z"
   },
   {
    "duration": 26,
    "start_time": "2021-08-09T10:31:09.362Z"
   },
   {
    "duration": 1498,
    "start_time": "2021-08-09T10:31:14.130Z"
   },
   {
    "duration": 1598,
    "start_time": "2021-08-09T10:32:08.331Z"
   },
   {
    "duration": 1420,
    "start_time": "2021-08-09T10:32:39.235Z"
   },
   {
    "duration": 1365,
    "start_time": "2021-08-09T10:33:10.847Z"
   },
   {
    "duration": 10,
    "start_time": "2021-08-09T10:33:36.315Z"
   },
   {
    "duration": 9,
    "start_time": "2021-08-09T10:33:41.332Z"
   },
   {
    "duration": 1437,
    "start_time": "2021-08-09T10:33:48.824Z"
   },
   {
    "duration": 4,
    "start_time": "2021-08-09T10:34:45.101Z"
   },
   {
    "duration": 74,
    "start_time": "2021-08-09T10:34:45.107Z"
   },
   {
    "duration": 16,
    "start_time": "2021-08-09T10:34:45.184Z"
   },
   {
    "duration": 54,
    "start_time": "2021-08-09T10:34:45.204Z"
   },
   {
    "duration": 11,
    "start_time": "2021-08-09T10:34:45.262Z"
   },
   {
    "duration": 29,
    "start_time": "2021-08-09T10:34:45.276Z"
   },
   {
    "duration": 8,
    "start_time": "2021-08-09T10:34:45.308Z"
   },
   {
    "duration": 42,
    "start_time": "2021-08-09T10:34:45.319Z"
   },
   {
    "duration": 31,
    "start_time": "2021-08-09T10:34:45.364Z"
   },
   {
    "duration": 25,
    "start_time": "2021-08-09T10:34:45.398Z"
   },
   {
    "duration": 12,
    "start_time": "2021-08-09T10:34:45.457Z"
   },
   {
    "duration": 10,
    "start_time": "2021-08-09T10:34:45.472Z"
   },
   {
    "duration": 13,
    "start_time": "2021-08-09T10:34:45.485Z"
   },
   {
    "duration": 58,
    "start_time": "2021-08-09T10:34:45.500Z"
   },
   {
    "duration": 24,
    "start_time": "2021-08-09T10:34:45.561Z"
   },
   {
    "duration": 635,
    "start_time": "2021-08-09T10:34:45.587Z"
   },
   {
    "duration": 8,
    "start_time": "2021-08-09T10:34:46.225Z"
   },
   {
    "duration": 25,
    "start_time": "2021-08-09T10:34:51.155Z"
   },
   {
    "duration": 1514,
    "start_time": "2021-08-09T10:34:59.850Z"
   },
   {
    "duration": 21,
    "start_time": "2021-08-09T10:36:13.157Z"
   },
   {
    "duration": 1450,
    "start_time": "2021-08-09T10:36:35.028Z"
   },
   {
    "duration": 132,
    "start_time": "2021-08-09T10:36:53.742Z"
   },
   {
    "duration": 11,
    "start_time": "2021-08-09T10:36:57.784Z"
   },
   {
    "duration": 1532,
    "start_time": "2021-08-09T10:37:11.408Z"
   },
   {
    "duration": 3,
    "start_time": "2021-08-09T10:37:24.626Z"
   },
   {
    "duration": 32,
    "start_time": "2021-08-09T10:37:58.041Z"
   },
   {
    "duration": 379,
    "start_time": "2021-08-09T10:39:20.646Z"
   },
   {
    "duration": 26,
    "start_time": "2021-08-09T10:39:36.552Z"
   },
   {
    "duration": 368,
    "start_time": "2021-08-09T10:41:16.505Z"
   },
   {
    "duration": 13,
    "start_time": "2021-08-09T10:41:25.345Z"
   },
   {
    "duration": 10,
    "start_time": "2021-08-09T10:41:35.638Z"
   },
   {
    "duration": 15,
    "start_time": "2021-08-09T10:41:36.398Z"
   },
   {
    "duration": 9,
    "start_time": "2021-08-09T10:41:40.968Z"
   },
   {
    "duration": 6,
    "start_time": "2021-08-09T10:41:58.215Z"
   },
   {
    "duration": 6,
    "start_time": "2021-08-09T10:42:03.651Z"
   },
   {
    "duration": 15,
    "start_time": "2021-08-09T10:42:04.111Z"
   },
   {
    "duration": 1552,
    "start_time": "2021-08-09T10:42:04.698Z"
   },
   {
    "duration": 1485,
    "start_time": "2021-08-09T10:42:18.469Z"
   },
   {
    "duration": 21,
    "start_time": "2021-08-09T10:43:20.223Z"
   },
   {
    "duration": 8,
    "start_time": "2021-08-09T10:43:40.786Z"
   },
   {
    "duration": 1698,
    "start_time": "2021-08-09T10:43:53.197Z"
   },
   {
    "duration": 15,
    "start_time": "2021-08-09T10:44:22.557Z"
   },
   {
    "duration": 1339,
    "start_time": "2021-08-09T10:44:23.613Z"
   },
   {
    "duration": 354,
    "start_time": "2021-08-09T10:45:08.783Z"
   },
   {
    "duration": 4,
    "start_time": "2021-08-09T10:45:18.972Z"
   },
   {
    "duration": 72,
    "start_time": "2021-08-09T10:45:18.979Z"
   },
   {
    "duration": 19,
    "start_time": "2021-08-09T10:45:19.053Z"
   },
   {
    "duration": 29,
    "start_time": "2021-08-09T10:45:19.074Z"
   },
   {
    "duration": 6,
    "start_time": "2021-08-09T10:45:23.454Z"
   },
   {
    "duration": 25,
    "start_time": "2021-08-09T10:45:24.966Z"
   },
   {
    "duration": 8,
    "start_time": "2021-08-09T10:45:25.678Z"
   },
   {
    "duration": 12,
    "start_time": "2021-08-09T10:45:27.079Z"
   },
   {
    "duration": 26,
    "start_time": "2021-08-09T10:45:27.974Z"
   },
   {
    "duration": 33,
    "start_time": "2021-08-09T10:45:34.650Z"
   },
   {
    "duration": 8,
    "start_time": "2021-08-09T10:45:36.270Z"
   },
   {
    "duration": 10,
    "start_time": "2021-08-09T10:45:42.043Z"
   },
   {
    "duration": 11,
    "start_time": "2021-08-09T10:45:42.788Z"
   },
   {
    "duration": 23,
    "start_time": "2021-08-09T10:45:50.496Z"
   },
   {
    "duration": 19,
    "start_time": "2021-08-09T10:45:53.483Z"
   },
   {
    "duration": 659,
    "start_time": "2021-08-09T10:45:58.981Z"
   },
   {
    "duration": 4,
    "start_time": "2021-08-09T10:46:17.922Z"
   },
   {
    "duration": 356,
    "start_time": "2021-08-09T10:46:18.686Z"
   },
   {
    "duration": 9,
    "start_time": "2021-08-09T10:46:27.349Z"
   },
   {
    "duration": 4,
    "start_time": "2021-08-09T10:46:27.999Z"
   },
   {
    "duration": 8,
    "start_time": "2021-08-09T10:46:28.631Z"
   },
   {
    "duration": 9,
    "start_time": "2021-08-09T10:46:43.486Z"
   },
   {
    "duration": 8,
    "start_time": "2021-08-09T10:46:49.983Z"
   },
   {
    "duration": 13,
    "start_time": "2021-08-09T10:46:51.498Z"
   },
   {
    "duration": 47,
    "start_time": "2021-08-09T10:52:59.846Z"
   },
   {
    "duration": 1362,
    "start_time": "2021-08-09T10:53:25.747Z"
   },
   {
    "duration": 5,
    "start_time": "2021-08-09T10:53:30.668Z"
   },
   {
    "duration": 86,
    "start_time": "2021-08-09T10:53:30.676Z"
   },
   {
    "duration": 16,
    "start_time": "2021-08-09T10:53:30.766Z"
   },
   {
    "duration": 28,
    "start_time": "2021-08-09T10:53:30.786Z"
   },
   {
    "duration": 41,
    "start_time": "2021-08-09T10:53:30.817Z"
   },
   {
    "duration": 48,
    "start_time": "2021-08-09T10:53:30.862Z"
   },
   {
    "duration": 29,
    "start_time": "2021-08-09T10:53:30.915Z"
   },
   {
    "duration": 26,
    "start_time": "2021-08-09T10:53:30.947Z"
   },
   {
    "duration": 28,
    "start_time": "2021-08-09T10:53:30.977Z"
   },
   {
    "duration": 50,
    "start_time": "2021-08-09T10:53:31.008Z"
   },
   {
    "duration": 12,
    "start_time": "2021-08-09T10:53:31.061Z"
   },
   {
    "duration": 16,
    "start_time": "2021-08-09T10:53:31.075Z"
   },
   {
    "duration": 25,
    "start_time": "2021-08-09T10:53:31.093Z"
   },
   {
    "duration": 46,
    "start_time": "2021-08-09T10:53:31.120Z"
   },
   {
    "duration": 20,
    "start_time": "2021-08-09T10:53:31.169Z"
   },
   {
    "duration": 619,
    "start_time": "2021-08-09T10:53:31.192Z"
   },
   {
    "duration": 8,
    "start_time": "2021-08-09T10:53:31.814Z"
   },
   {
    "duration": 43,
    "start_time": "2021-08-09T10:53:31.824Z"
   },
   {
    "duration": 14,
    "start_time": "2021-08-09T10:53:37.441Z"
   },
   {
    "duration": 20,
    "start_time": "2021-08-09T10:53:38.333Z"
   },
   {
    "duration": 1357,
    "start_time": "2021-08-09T10:53:49.905Z"
   },
   {
    "duration": 1350,
    "start_time": "2021-08-09T10:53:56.487Z"
   },
   {
    "duration": 4,
    "start_time": "2021-08-09T10:54:25.302Z"
   },
   {
    "duration": 59,
    "start_time": "2021-08-09T10:54:25.571Z"
   },
   {
    "duration": 16,
    "start_time": "2021-08-09T10:54:26.985Z"
   },
   {
    "duration": 19,
    "start_time": "2021-08-09T10:54:29.079Z"
   },
   {
    "duration": 4,
    "start_time": "2021-08-09T10:54:30.509Z"
   },
   {
    "duration": 28,
    "start_time": "2021-08-09T10:54:32.254Z"
   },
   {
    "duration": 8,
    "start_time": "2021-08-09T10:54:32.804Z"
   },
   {
    "duration": 17,
    "start_time": "2021-08-09T10:54:36.852Z"
   },
   {
    "duration": 25,
    "start_time": "2021-08-09T10:54:37.888Z"
   },
   {
    "duration": 30,
    "start_time": "2021-08-09T10:54:38.239Z"
   },
   {
    "duration": 8,
    "start_time": "2021-08-09T10:54:39.087Z"
   },
   {
    "duration": 12,
    "start_time": "2021-08-09T10:54:40.036Z"
   },
   {
    "duration": 12,
    "start_time": "2021-08-09T10:54:40.499Z"
   },
   {
    "duration": 23,
    "start_time": "2021-08-09T10:54:41.581Z"
   },
   {
    "duration": 20,
    "start_time": "2021-08-09T10:54:48.406Z"
   },
   {
    "duration": 585,
    "start_time": "2021-08-09T10:54:53.064Z"
   },
   {
    "duration": 12,
    "start_time": "2021-08-09T10:54:57.253Z"
   },
   {
    "duration": 40,
    "start_time": "2021-08-09T10:55:07.047Z"
   },
   {
    "duration": 22,
    "start_time": "2021-08-09T10:55:30.799Z"
   },
   {
    "duration": 35,
    "start_time": "2021-08-09T10:55:41.550Z"
   },
   {
    "duration": 1476,
    "start_time": "2021-08-09T10:56:09.908Z"
   },
   {
    "duration": 6,
    "start_time": "2021-08-09T10:56:24.461Z"
   },
   {
    "duration": 69,
    "start_time": "2021-08-09T10:56:24.473Z"
   },
   {
    "duration": 27,
    "start_time": "2021-08-09T10:56:24.546Z"
   },
   {
    "duration": 23,
    "start_time": "2021-08-09T10:56:24.576Z"
   },
   {
    "duration": 15,
    "start_time": "2021-08-09T10:56:24.602Z"
   },
   {
    "duration": 45,
    "start_time": "2021-08-09T10:56:24.620Z"
   },
   {
    "duration": 10,
    "start_time": "2021-08-09T10:56:24.668Z"
   },
   {
    "duration": 19,
    "start_time": "2021-08-09T10:56:24.683Z"
   },
   {
    "duration": 52,
    "start_time": "2021-08-09T10:56:24.705Z"
   },
   {
    "duration": 27,
    "start_time": "2021-08-09T10:56:24.761Z"
   },
   {
    "duration": 8,
    "start_time": "2021-08-09T10:56:24.790Z"
   },
   {
    "duration": 22,
    "start_time": "2021-08-09T10:56:24.800Z"
   },
   {
    "duration": 39,
    "start_time": "2021-08-09T10:56:24.824Z"
   },
   {
    "duration": 23,
    "start_time": "2021-08-09T10:56:24.871Z"
   },
   {
    "duration": 19,
    "start_time": "2021-08-09T10:56:24.897Z"
   },
   {
    "duration": 618,
    "start_time": "2021-08-09T10:56:24.919Z"
   },
   {
    "duration": 34,
    "start_time": "2021-08-09T10:56:28.165Z"
   },
   {
    "duration": 22,
    "start_time": "2021-08-09T10:56:39.469Z"
   },
   {
    "duration": 1504,
    "start_time": "2021-08-09T10:56:55.467Z"
   },
   {
    "duration": 3,
    "start_time": "2021-08-09T10:57:08.612Z"
   },
   {
    "duration": 80,
    "start_time": "2021-08-09T10:57:08.619Z"
   },
   {
    "duration": 12,
    "start_time": "2021-08-09T10:57:08.702Z"
   },
   {
    "duration": 41,
    "start_time": "2021-08-09T10:57:08.717Z"
   },
   {
    "duration": 16,
    "start_time": "2021-08-09T10:57:08.762Z"
   },
   {
    "duration": 26,
    "start_time": "2021-08-09T10:57:08.780Z"
   },
   {
    "duration": 8,
    "start_time": "2021-08-09T10:57:08.809Z"
   },
   {
    "duration": 41,
    "start_time": "2021-08-09T10:57:08.820Z"
   },
   {
    "duration": 31,
    "start_time": "2021-08-09T10:57:08.865Z"
   },
   {
    "duration": 22,
    "start_time": "2021-08-09T10:57:08.899Z"
   },
   {
    "duration": 34,
    "start_time": "2021-08-09T10:57:08.924Z"
   },
   {
    "duration": 23,
    "start_time": "2021-08-09T10:57:08.961Z"
   },
   {
    "duration": 10,
    "start_time": "2021-08-09T10:57:08.987Z"
   },
   {
    "duration": 24,
    "start_time": "2021-08-09T10:57:09.000Z"
   },
   {
    "duration": 51,
    "start_time": "2021-08-09T10:57:09.027Z"
   },
   {
    "duration": 611,
    "start_time": "2021-08-09T10:57:09.081Z"
   },
   {
    "duration": 32,
    "start_time": "2021-08-09T10:57:09.696Z"
   },
   {
    "duration": 374,
    "start_time": "2021-08-09T10:57:12.354Z"
   },
   {
    "duration": 26,
    "start_time": "2021-08-09T10:57:25.358Z"
   },
   {
    "duration": 1359,
    "start_time": "2021-08-09T10:57:44.245Z"
   },
   {
    "duration": 4,
    "start_time": "2021-08-09T10:57:50.497Z"
   },
   {
    "duration": 77,
    "start_time": "2021-08-09T10:57:50.504Z"
   },
   {
    "duration": 16,
    "start_time": "2021-08-09T10:57:50.584Z"
   },
   {
    "duration": 37,
    "start_time": "2021-08-09T10:57:50.603Z"
   },
   {
    "duration": 28,
    "start_time": "2021-08-09T10:57:50.643Z"
   },
   {
    "duration": 38,
    "start_time": "2021-08-09T10:57:50.673Z"
   },
   {
    "duration": 8,
    "start_time": "2021-08-09T10:57:50.714Z"
   },
   {
    "duration": 26,
    "start_time": "2021-08-09T10:57:50.725Z"
   },
   {
    "duration": 35,
    "start_time": "2021-08-09T10:57:50.753Z"
   },
   {
    "duration": 25,
    "start_time": "2021-08-09T10:57:50.791Z"
   },
   {
    "duration": 24,
    "start_time": "2021-08-09T10:57:50.818Z"
   },
   {
    "duration": 29,
    "start_time": "2021-08-09T10:57:50.845Z"
   },
   {
    "duration": 23,
    "start_time": "2021-08-09T10:57:50.877Z"
   },
   {
    "duration": 29,
    "start_time": "2021-08-09T10:57:50.903Z"
   },
   {
    "duration": 22,
    "start_time": "2021-08-09T10:57:50.934Z"
   },
   {
    "duration": 615,
    "start_time": "2021-08-09T10:57:50.959Z"
   },
   {
    "duration": 29,
    "start_time": "2021-08-09T10:57:54.248Z"
   },
   {
    "duration": 6,
    "start_time": "2021-08-09T11:04:55.773Z"
   },
   {
    "duration": 19,
    "start_time": "2021-08-09T11:07:16.414Z"
   },
   {
    "duration": 25,
    "start_time": "2021-08-09T11:07:24.001Z"
   },
   {
    "duration": 369,
    "start_time": "2021-08-09T11:07:37.410Z"
   },
   {
    "duration": 72,
    "start_time": "2021-08-09T11:07:47.264Z"
   },
   {
    "duration": 1434,
    "start_time": "2021-08-09T11:08:00.874Z"
   },
   {
    "duration": 6,
    "start_time": "2021-08-09T11:08:12.154Z"
   },
   {
    "duration": 70,
    "start_time": "2021-08-09T11:08:12.164Z"
   },
   {
    "duration": 27,
    "start_time": "2021-08-09T11:08:12.238Z"
   },
   {
    "duration": 24,
    "start_time": "2021-08-09T11:08:12.269Z"
   },
   {
    "duration": 5,
    "start_time": "2021-08-09T11:08:12.296Z"
   },
   {
    "duration": 61,
    "start_time": "2021-08-09T11:08:12.303Z"
   },
   {
    "duration": 11,
    "start_time": "2021-08-09T11:08:12.367Z"
   },
   {
    "duration": 12,
    "start_time": "2021-08-09T11:08:12.381Z"
   },
   {
    "duration": 26,
    "start_time": "2021-08-09T11:08:12.396Z"
   },
   {
    "duration": 29,
    "start_time": "2021-08-09T11:08:12.457Z"
   },
   {
    "duration": 7,
    "start_time": "2021-08-09T11:08:12.489Z"
   },
   {
    "duration": 10,
    "start_time": "2021-08-09T11:08:12.498Z"
   },
   {
    "duration": 51,
    "start_time": "2021-08-09T11:08:12.510Z"
   },
   {
    "duration": 26,
    "start_time": "2021-08-09T11:08:12.563Z"
   },
   {
    "duration": 19,
    "start_time": "2021-08-09T11:08:12.591Z"
   },
   {
    "duration": 618,
    "start_time": "2021-08-09T11:08:12.613Z"
   },
   {
    "duration": 46,
    "start_time": "2021-08-09T11:08:23.399Z"
   },
   {
    "duration": 1444,
    "start_time": "2021-08-09T11:09:55.738Z"
   },
   {
    "duration": 4,
    "start_time": "2021-08-09T11:10:03.592Z"
   },
   {
    "duration": 82,
    "start_time": "2021-08-09T11:10:03.599Z"
   },
   {
    "duration": 13,
    "start_time": "2021-08-09T11:10:03.684Z"
   },
   {
    "duration": 20,
    "start_time": "2021-08-09T11:10:03.700Z"
   },
   {
    "duration": 33,
    "start_time": "2021-08-09T11:10:03.723Z"
   },
   {
    "duration": 29,
    "start_time": "2021-08-09T11:10:03.760Z"
   },
   {
    "duration": 9,
    "start_time": "2021-08-09T11:10:03.793Z"
   },
   {
    "duration": 53,
    "start_time": "2021-08-09T11:10:03.805Z"
   },
   {
    "duration": 29,
    "start_time": "2021-08-09T11:10:03.862Z"
   },
   {
    "duration": 23,
    "start_time": "2021-08-09T11:10:03.894Z"
   },
   {
    "duration": 42,
    "start_time": "2021-08-09T11:10:03.919Z"
   },
   {
    "duration": 16,
    "start_time": "2021-08-09T11:10:03.965Z"
   },
   {
    "duration": 15,
    "start_time": "2021-08-09T11:10:03.983Z"
   },
   {
    "duration": 23,
    "start_time": "2021-08-09T11:10:04.001Z"
   },
   {
    "duration": 47,
    "start_time": "2021-08-09T11:10:04.027Z"
   },
   {
    "duration": 800,
    "start_time": "2021-08-09T11:10:04.077Z"
   },
   {
    "duration": 37,
    "start_time": "2021-08-09T11:10:15.604Z"
   },
   {
    "duration": 11,
    "start_time": "2021-08-09T11:10:28.971Z"
   },
   {
    "duration": 7,
    "start_time": "2021-08-09T11:10:39.700Z"
   },
   {
    "duration": 113,
    "start_time": "2021-08-09T11:10:40.442Z"
   },
   {
    "duration": 36,
    "start_time": "2021-08-09T11:10:47.463Z"
   },
   {
    "duration": 12,
    "start_time": "2021-08-09T11:11:11.212Z"
   },
   {
    "duration": 13,
    "start_time": "2021-08-09T11:11:17.164Z"
   },
   {
    "duration": 7,
    "start_time": "2021-08-09T11:11:18.478Z"
   },
   {
    "duration": 36,
    "start_time": "2021-08-09T11:11:21.451Z"
   },
   {
    "duration": 10,
    "start_time": "2021-08-09T11:11:31.924Z"
   },
   {
    "duration": 7,
    "start_time": "2021-08-09T11:11:32.980Z"
   },
   {
    "duration": 34,
    "start_time": "2021-08-09T11:11:34.318Z"
   },
   {
    "duration": 25,
    "start_time": "2021-08-09T11:12:17.601Z"
   },
   {
    "duration": 597,
    "start_time": "2021-08-09T11:12:49.303Z"
   },
   {
    "duration": 228,
    "start_time": "2021-08-09T11:13:02.454Z"
   },
   {
    "duration": 532,
    "start_time": "2021-08-09T11:13:22.154Z"
   },
   {
    "duration": 8715,
    "start_time": "2021-08-09T11:13:38.781Z"
   },
   {
    "duration": 677,
    "start_time": "2021-08-09T11:14:26.526Z"
   },
   {
    "duration": 617,
    "start_time": "2021-08-09T11:14:41.883Z"
   },
   {
    "duration": 9363,
    "start_time": "2021-08-09T11:14:48.661Z"
   },
   {
    "duration": 202,
    "start_time": "2021-08-09T11:14:58.881Z"
   },
   {
    "duration": 3191,
    "start_time": "2021-08-09T11:21:51.634Z"
   },
   {
    "duration": 10394,
    "start_time": "2021-08-09T11:22:06.899Z"
   },
   {
    "duration": 2880,
    "start_time": "2021-08-09T11:22:22.244Z"
   },
   {
    "duration": 8883,
    "start_time": "2021-08-09T12:42:36.127Z"
   },
   {
    "duration": 4,
    "start_time": "2021-08-09T12:42:51.645Z"
   },
   {
    "duration": 73,
    "start_time": "2021-08-09T12:42:51.652Z"
   },
   {
    "duration": 12,
    "start_time": "2021-08-09T12:42:51.728Z"
   },
   {
    "duration": 27,
    "start_time": "2021-08-09T12:42:51.743Z"
   },
   {
    "duration": 5,
    "start_time": "2021-08-09T12:42:51.772Z"
   },
   {
    "duration": 27,
    "start_time": "2021-08-09T12:42:51.779Z"
   },
   {
    "duration": 8,
    "start_time": "2021-08-09T12:42:51.809Z"
   },
   {
    "duration": 40,
    "start_time": "2021-08-09T12:42:51.820Z"
   },
   {
    "duration": 34,
    "start_time": "2021-08-09T12:42:51.863Z"
   },
   {
    "duration": 23,
    "start_time": "2021-08-09T12:42:51.900Z"
   },
   {
    "duration": 32,
    "start_time": "2021-08-09T12:42:51.925Z"
   },
   {
    "duration": 27,
    "start_time": "2021-08-09T12:42:51.959Z"
   },
   {
    "duration": 21,
    "start_time": "2021-08-09T12:42:51.988Z"
   },
   {
    "duration": 29,
    "start_time": "2021-08-09T12:42:52.011Z"
   },
   {
    "duration": 25,
    "start_time": "2021-08-09T12:42:52.043Z"
   },
   {
    "duration": 566,
    "start_time": "2021-08-09T12:42:52.070Z"
   },
   {
    "duration": 19,
    "start_time": "2021-08-09T12:42:52.638Z"
   },
   {
    "duration": 5,
    "start_time": "2021-08-09T12:42:52.659Z"
   },
   {
    "duration": 22,
    "start_time": "2021-08-09T12:42:52.668Z"
   },
   {
    "duration": 8735,
    "start_time": "2021-08-09T12:44:02.163Z"
   },
   {
    "duration": 23,
    "start_time": "2021-08-09T12:44:19.545Z"
   },
   {
    "duration": 9055,
    "start_time": "2021-08-09T12:44:20.233Z"
   },
   {
    "duration": 4,
    "start_time": "2021-08-09T12:44:36.797Z"
   },
   {
    "duration": 65,
    "start_time": "2021-08-09T12:44:36.804Z"
   },
   {
    "duration": 13,
    "start_time": "2021-08-09T12:44:36.873Z"
   },
   {
    "duration": 22,
    "start_time": "2021-08-09T12:44:36.889Z"
   },
   {
    "duration": 6,
    "start_time": "2021-08-09T12:44:36.913Z"
   },
   {
    "duration": 54,
    "start_time": "2021-08-09T12:44:36.922Z"
   },
   {
    "duration": 8,
    "start_time": "2021-08-09T12:44:36.980Z"
   },
   {
    "duration": 25,
    "start_time": "2021-08-09T12:44:36.990Z"
   },
   {
    "duration": 40,
    "start_time": "2021-08-09T12:44:37.017Z"
   },
   {
    "duration": 25,
    "start_time": "2021-08-09T12:44:37.060Z"
   },
   {
    "duration": 22,
    "start_time": "2021-08-09T12:44:37.087Z"
   },
   {
    "duration": 18,
    "start_time": "2021-08-09T12:44:37.112Z"
   },
   {
    "duration": 30,
    "start_time": "2021-08-09T12:44:37.132Z"
   },
   {
    "duration": 30,
    "start_time": "2021-08-09T12:44:37.164Z"
   },
   {
    "duration": 20,
    "start_time": "2021-08-09T12:44:37.197Z"
   },
   {
    "duration": 579,
    "start_time": "2021-08-09T12:44:37.219Z"
   },
   {
    "duration": 11,
    "start_time": "2021-08-09T12:44:37.800Z"
   },
   {
    "duration": 7,
    "start_time": "2021-08-09T12:44:37.813Z"
   },
   {
    "duration": 54,
    "start_time": "2021-08-09T12:44:37.824Z"
   },
   {
    "duration": 193,
    "start_time": "2021-08-09T12:44:44.678Z"
   },
   {
    "duration": 9062,
    "start_time": "2021-08-09T12:45:23.242Z"
   },
   {
    "duration": 4,
    "start_time": "2021-08-09T12:46:04.794Z"
   },
   {
    "duration": 70,
    "start_time": "2021-08-09T12:46:04.801Z"
   },
   {
    "duration": 13,
    "start_time": "2021-08-09T12:46:04.874Z"
   },
   {
    "duration": 19,
    "start_time": "2021-08-09T12:46:04.890Z"
   },
   {
    "duration": 5,
    "start_time": "2021-08-09T12:46:04.911Z"
   },
   {
    "duration": 56,
    "start_time": "2021-08-09T12:46:04.918Z"
   },
   {
    "duration": 7,
    "start_time": "2021-08-09T12:46:04.977Z"
   },
   {
    "duration": 21,
    "start_time": "2021-08-09T12:46:04.987Z"
   },
   {
    "duration": 51,
    "start_time": "2021-08-09T12:46:05.011Z"
   },
   {
    "duration": 26,
    "start_time": "2021-08-09T12:46:05.064Z"
   },
   {
    "duration": 7,
    "start_time": "2021-08-09T12:46:05.092Z"
   },
   {
    "duration": 11,
    "start_time": "2021-08-09T12:46:05.102Z"
   },
   {
    "duration": 47,
    "start_time": "2021-08-09T12:46:05.116Z"
   },
   {
    "duration": 27,
    "start_time": "2021-08-09T12:46:05.165Z"
   },
   {
    "duration": 20,
    "start_time": "2021-08-09T12:46:05.195Z"
   },
   {
    "duration": 740,
    "start_time": "2021-08-09T12:46:05.218Z"
   },
   {
    "duration": 11,
    "start_time": "2021-08-09T12:46:05.960Z"
   },
   {
    "duration": 9,
    "start_time": "2021-08-09T12:46:05.973Z"
   },
   {
    "duration": 32,
    "start_time": "2021-08-09T12:46:05.986Z"
   },
   {
    "duration": 8924,
    "start_time": "2021-08-09T12:46:29.178Z"
   },
   {
    "duration": 26,
    "start_time": "2021-08-09T12:47:47.448Z"
   },
   {
    "duration": 273,
    "start_time": "2021-08-09T12:47:53.298Z"
   },
   {
    "duration": 248,
    "start_time": "2021-08-09T12:48:04.358Z"
   },
   {
    "duration": 303,
    "start_time": "2021-08-09T12:48:43.749Z"
   },
   {
    "duration": 321,
    "start_time": "2021-08-09T12:48:54.263Z"
   },
   {
    "duration": 158,
    "start_time": "2021-08-09T12:51:05.239Z"
   },
   {
    "duration": 27,
    "start_time": "2021-08-09T12:51:19.702Z"
   },
   {
    "duration": 22,
    "start_time": "2021-08-09T12:54:27.028Z"
   },
   {
    "duration": 352,
    "start_time": "2021-08-09T12:57:01.639Z"
   },
   {
    "duration": 16,
    "start_time": "2021-08-09T12:57:23.182Z"
   },
   {
    "duration": 17,
    "start_time": "2021-08-09T12:57:28.133Z"
   },
   {
    "duration": 114,
    "start_time": "2021-08-09T12:57:42.477Z"
   },
   {
    "duration": 23,
    "start_time": "2021-08-09T12:57:45.569Z"
   },
   {
    "duration": 24,
    "start_time": "2021-08-09T13:00:16.197Z"
   },
   {
    "duration": 23,
    "start_time": "2021-08-09T13:00:23.689Z"
   },
   {
    "duration": 23,
    "start_time": "2021-08-09T13:00:27.265Z"
   },
   {
    "duration": 23,
    "start_time": "2021-08-09T13:00:38.505Z"
   },
   {
    "duration": 24,
    "start_time": "2021-08-09T13:00:52.480Z"
   },
   {
    "duration": 292,
    "start_time": "2021-08-09T13:01:31.393Z"
   },
   {
    "duration": 7,
    "start_time": "2021-08-09T13:02:33.368Z"
   },
   {
    "duration": 7,
    "start_time": "2021-08-09T13:02:43.437Z"
   },
   {
    "duration": 332,
    "start_time": "2021-08-09T13:03:32.261Z"
   },
   {
    "duration": 292,
    "start_time": "2021-08-09T13:03:42.713Z"
   },
   {
    "duration": 351,
    "start_time": "2021-08-09T13:06:29.272Z"
   },
   {
    "duration": 378,
    "start_time": "2021-08-09T13:06:40.104Z"
   },
   {
    "duration": 4,
    "start_time": "2021-08-09T13:06:58.668Z"
   },
   {
    "duration": 6,
    "start_time": "2021-08-09T13:07:09.547Z"
   },
   {
    "duration": 13,
    "start_time": "2021-08-09T13:07:19.456Z"
   },
   {
    "duration": 30,
    "start_time": "2021-08-09T13:07:24.272Z"
   },
   {
    "duration": 27,
    "start_time": "2021-08-09T13:07:49.499Z"
   },
   {
    "duration": 29,
    "start_time": "2021-08-09T13:09:11.409Z"
   },
   {
    "duration": 30,
    "start_time": "2021-08-09T13:09:18.045Z"
   },
   {
    "duration": 30,
    "start_time": "2021-08-09T13:10:00.772Z"
   },
   {
    "duration": 28,
    "start_time": "2021-08-09T13:10:10.503Z"
   },
   {
    "duration": 289,
    "start_time": "2021-08-09T13:10:10.839Z"
   },
   {
    "duration": 21,
    "start_time": "2021-08-09T13:10:28.323Z"
   },
   {
    "duration": 429,
    "start_time": "2021-08-09T13:12:38.699Z"
   },
   {
    "duration": 475,
    "start_time": "2021-08-09T13:14:26.206Z"
   },
   {
    "duration": 424,
    "start_time": "2021-08-09T13:14:36.792Z"
   },
   {
    "duration": 568,
    "start_time": "2021-08-09T13:17:05.958Z"
   },
   {
    "duration": 473,
    "start_time": "2021-08-09T13:17:17.174Z"
   },
   {
    "duration": 475,
    "start_time": "2021-08-09T13:19:26.120Z"
   },
   {
    "duration": 411,
    "start_time": "2021-08-09T13:19:35.493Z"
   },
   {
    "duration": 694,
    "start_time": "2021-08-09T13:20:43.253Z"
   },
   {
    "duration": 667,
    "start_time": "2021-08-09T13:23:34.567Z"
   },
   {
    "duration": 444,
    "start_time": "2021-08-09T13:25:31.666Z"
   },
   {
    "duration": 447,
    "start_time": "2021-08-09T13:27:56.936Z"
   },
   {
    "duration": 457,
    "start_time": "2021-08-09T13:28:05.817Z"
   },
   {
    "duration": 423,
    "start_time": "2021-08-09T13:28:12.976Z"
   },
   {
    "duration": 436,
    "start_time": "2021-08-09T13:28:16.847Z"
   },
   {
    "duration": 448,
    "start_time": "2021-08-09T13:28:20.352Z"
   },
   {
    "duration": 447,
    "start_time": "2021-08-09T13:28:24.729Z"
   },
   {
    "duration": 541,
    "start_time": "2021-08-09T13:28:33.860Z"
   },
   {
    "duration": 470,
    "start_time": "2021-08-09T13:29:25.784Z"
   },
   {
    "duration": 426,
    "start_time": "2021-08-09T13:29:41.119Z"
   },
   {
    "duration": 469,
    "start_time": "2021-08-09T13:29:49.431Z"
   },
   {
    "duration": 834,
    "start_time": "2021-08-09T13:29:55.378Z"
   },
   {
    "duration": 433,
    "start_time": "2021-08-09T13:30:01.437Z"
   },
   {
    "duration": 445,
    "start_time": "2021-08-09T13:31:48.897Z"
   },
   {
    "duration": 444,
    "start_time": "2021-08-09T13:32:01.079Z"
   },
   {
    "duration": 19,
    "start_time": "2021-08-09T13:32:12.833Z"
   },
   {
    "duration": 7,
    "start_time": "2021-08-09T13:32:13.618Z"
   },
   {
    "duration": 28,
    "start_time": "2021-08-09T13:32:15.314Z"
   },
   {
    "duration": 436,
    "start_time": "2021-08-09T13:32:16.098Z"
   },
   {
    "duration": 408,
    "start_time": "2021-08-09T13:32:16.962Z"
   },
   {
    "duration": 459,
    "start_time": "2021-08-09T13:32:42.727Z"
   },
   {
    "duration": 16,
    "start_time": "2021-08-09T13:34:09.307Z"
   },
   {
    "duration": 28,
    "start_time": "2021-08-09T13:34:17.486Z"
   },
   {
    "duration": 19,
    "start_time": "2021-08-09T13:35:02.916Z"
   },
   {
    "duration": 28,
    "start_time": "2021-08-09T13:35:18.383Z"
   },
   {
    "duration": 21,
    "start_time": "2021-08-09T13:35:35.630Z"
   },
   {
    "duration": 22,
    "start_time": "2021-08-09T13:35:42.478Z"
   },
   {
    "duration": 20,
    "start_time": "2021-08-09T13:35:53.169Z"
   },
   {
    "duration": 27,
    "start_time": "2021-08-09T13:36:15.014Z"
   },
   {
    "duration": 24,
    "start_time": "2021-08-09T13:46:54.716Z"
   },
   {
    "duration": 162,
    "start_time": "2021-08-09T13:48:19.711Z"
   },
   {
    "duration": 123,
    "start_time": "2021-08-09T13:48:27.068Z"
   },
   {
    "duration": 112,
    "start_time": "2021-08-09T13:49:15.689Z"
   },
   {
    "duration": 33,
    "start_time": "2021-08-09T13:50:22.490Z"
   },
   {
    "duration": 115,
    "start_time": "2021-08-09T13:52:47.570Z"
   },
   {
    "duration": 24,
    "start_time": "2021-08-09T13:52:55.167Z"
   },
   {
    "duration": 35,
    "start_time": "2021-08-09T13:53:04.788Z"
   },
   {
    "duration": 33,
    "start_time": "2021-08-09T13:53:25.093Z"
   },
   {
    "duration": 33,
    "start_time": "2021-08-09T14:05:16.716Z"
   },
   {
    "duration": 459,
    "start_time": "2021-08-09T14:05:19.706Z"
   },
   {
    "duration": 7252,
    "start_time": "2021-08-09T14:06:00.962Z"
   },
   {
    "duration": 12000,
    "start_time": "2021-08-09T14:06:13.924Z"
   },
   {
    "duration": 722,
    "start_time": "2021-08-09T14:07:21.480Z"
   },
   {
    "duration": 745,
    "start_time": "2021-08-09T14:07:40.269Z"
   },
   {
    "duration": 535,
    "start_time": "2021-08-09T14:07:45.272Z"
   },
   {
    "duration": 474,
    "start_time": "2021-08-09T14:08:04.534Z"
   },
   {
    "duration": 546,
    "start_time": "2021-08-09T14:08:09.560Z"
   },
   {
    "duration": 437,
    "start_time": "2021-08-09T14:08:14.948Z"
   },
   {
    "duration": 840,
    "start_time": "2021-08-09T14:08:19.062Z"
   },
   {
    "duration": 576,
    "start_time": "2021-08-09T14:08:24.016Z"
   },
   {
    "duration": 453,
    "start_time": "2021-08-09T14:08:28.358Z"
   },
   {
    "duration": 1444,
    "start_time": "2021-08-09T14:20:04.542Z"
   },
   {
    "duration": 130,
    "start_time": "2021-08-09T14:20:20.303Z"
   },
   {
    "duration": 1142,
    "start_time": "2021-08-09T14:20:24.541Z"
   },
   {
    "duration": 440,
    "start_time": "2021-08-09T14:20:42.600Z"
   },
   {
    "duration": 449,
    "start_time": "2021-08-09T14:21:05.157Z"
   },
   {
    "duration": 567,
    "start_time": "2021-08-09T14:23:35.814Z"
   },
   {
    "duration": 12,
    "start_time": "2021-08-09T14:23:46.675Z"
   },
   {
    "duration": 20,
    "start_time": "2021-08-09T14:23:47.692Z"
   },
   {
    "duration": 6,
    "start_time": "2021-08-09T14:23:48.251Z"
   },
   {
    "duration": 23,
    "start_time": "2021-08-09T14:23:49.421Z"
   },
   {
    "duration": 36,
    "start_time": "2021-08-09T14:23:49.948Z"
   },
   {
    "duration": 435,
    "start_time": "2021-08-09T14:23:50.624Z"
   },
   {
    "duration": 465,
    "start_time": "2021-08-09T14:24:46.173Z"
   },
   {
    "duration": 74,
    "start_time": "2021-08-09T14:24:52.699Z"
   },
   {
    "duration": 75,
    "start_time": "2021-08-09T14:25:07.825Z"
   },
   {
    "duration": 30,
    "start_time": "2021-08-09T14:37:57.581Z"
   },
   {
    "duration": 33,
    "start_time": "2021-08-09T14:38:41.053Z"
   },
   {
    "duration": 36,
    "start_time": "2021-08-09T14:38:50.432Z"
   },
   {
    "duration": 34,
    "start_time": "2021-08-09T14:38:56.744Z"
   },
   {
    "duration": 34,
    "start_time": "2021-08-09T14:39:28.063Z"
   },
   {
    "duration": 33,
    "start_time": "2021-08-09T14:39:44.110Z"
   },
   {
    "duration": 34,
    "start_time": "2021-08-09T14:40:32.774Z"
   },
   {
    "duration": 36,
    "start_time": "2021-08-09T14:44:19.909Z"
   },
   {
    "duration": 35,
    "start_time": "2021-08-09T14:48:02.214Z"
   },
   {
    "duration": 35,
    "start_time": "2021-08-09T14:49:07.624Z"
   },
   {
    "duration": 28,
    "start_time": "2021-08-09T14:49:21.877Z"
   },
   {
    "duration": 338,
    "start_time": "2021-08-09T14:50:06.119Z"
   },
   {
    "duration": 28,
    "start_time": "2021-08-09T14:50:09.957Z"
   },
   {
    "duration": 16,
    "start_time": "2021-08-09T14:50:10.297Z"
   },
   {
    "duration": 30,
    "start_time": "2021-08-09T14:50:15.989Z"
   },
   {
    "duration": 434,
    "start_time": "2021-08-09T14:51:01.181Z"
   },
   {
    "duration": 4649,
    "start_time": "2021-08-09T14:51:05.997Z"
   },
   {
    "duration": 765,
    "start_time": "2021-08-09T14:51:24.053Z"
   },
   {
    "duration": 524,
    "start_time": "2021-08-09T14:51:42.322Z"
   },
   {
    "duration": 404,
    "start_time": "2021-08-09T14:51:52.494Z"
   },
   {
    "duration": 427,
    "start_time": "2021-08-09T14:51:56.419Z"
   },
   {
    "duration": 461,
    "start_time": "2021-08-09T14:52:15.263Z"
   },
   {
    "duration": 332,
    "start_time": "2021-08-09T14:52:59.150Z"
   },
   {
    "duration": 10,
    "start_time": "2021-08-09T14:54:44.141Z"
   },
   {
    "duration": 308,
    "start_time": "2021-08-09T14:54:51.435Z"
   },
   {
    "duration": 320,
    "start_time": "2021-08-09T14:55:14.842Z"
   },
   {
    "duration": 15,
    "start_time": "2021-08-09T14:55:18.223Z"
   },
   {
    "duration": 306,
    "start_time": "2021-08-09T14:55:24.307Z"
   },
   {
    "duration": 307,
    "start_time": "2021-08-09T14:56:22.268Z"
   },
   {
    "duration": 286,
    "start_time": "2021-08-09T14:57:23.762Z"
   },
   {
    "duration": 284,
    "start_time": "2021-08-09T14:57:26.640Z"
   },
   {
    "duration": 294,
    "start_time": "2021-08-09T14:58:31.081Z"
   },
   {
    "duration": 10,
    "start_time": "2021-08-09T14:58:47.899Z"
   },
   {
    "duration": 431,
    "start_time": "2021-08-09T15:00:09.937Z"
   },
   {
    "duration": 312,
    "start_time": "2021-08-09T15:00:20.703Z"
   },
   {
    "duration": 330,
    "start_time": "2021-08-09T15:00:21.658Z"
   },
   {
    "duration": 30,
    "start_time": "2021-08-09T15:21:23.653Z"
   },
   {
    "duration": 14,
    "start_time": "2021-08-09T15:21:26.034Z"
   },
   {
    "duration": 293,
    "start_time": "2021-08-09T15:21:28.215Z"
   },
   {
    "duration": 302,
    "start_time": "2021-08-09T15:21:29.715Z"
   },
   {
    "duration": 315,
    "start_time": "2021-08-09T15:21:31.100Z"
   },
   {
    "duration": 334,
    "start_time": "2021-08-09T15:21:36.345Z"
   },
   {
    "duration": 313,
    "start_time": "2021-08-09T15:21:43.672Z"
   },
   {
    "duration": 35,
    "start_time": "2021-08-09T15:21:53.123Z"
   },
   {
    "duration": 16,
    "start_time": "2021-08-09T15:21:54.281Z"
   },
   {
    "duration": 314,
    "start_time": "2021-08-09T15:21:56.957Z"
   },
   {
    "duration": 329,
    "start_time": "2021-08-09T15:21:57.427Z"
   },
   {
    "duration": 321,
    "start_time": "2021-08-09T15:22:02.873Z"
   },
   {
    "duration": 371,
    "start_time": "2021-08-09T15:23:20.433Z"
   },
   {
    "duration": 6,
    "start_time": "2021-08-09T15:23:36.037Z"
   },
   {
    "duration": 30,
    "start_time": "2021-08-09T15:24:57.218Z"
   },
   {
    "duration": 6,
    "start_time": "2021-08-09T15:24:57.735Z"
   },
   {
    "duration": 19,
    "start_time": "2021-08-09T15:24:58.196Z"
   },
   {
    "duration": 295,
    "start_time": "2021-08-09T15:24:58.817Z"
   },
   {
    "duration": 318,
    "start_time": "2021-08-09T15:24:59.311Z"
   },
   {
    "duration": 346,
    "start_time": "2021-08-09T15:24:59.951Z"
   },
   {
    "duration": 31,
    "start_time": "2021-08-09T15:25:36.415Z"
   },
   {
    "duration": 6,
    "start_time": "2021-08-09T15:25:36.962Z"
   },
   {
    "duration": 14,
    "start_time": "2021-08-09T15:25:37.525Z"
   },
   {
    "duration": 285,
    "start_time": "2021-08-09T15:25:38.402Z"
   },
   {
    "duration": 32,
    "start_time": "2021-08-09T15:25:46.474Z"
   },
   {
    "duration": 10,
    "start_time": "2021-08-09T15:25:51.682Z"
   },
   {
    "duration": 15,
    "start_time": "2021-08-09T15:25:52.322Z"
   },
   {
    "duration": 278,
    "start_time": "2021-08-09T15:25:52.934Z"
   },
   {
    "duration": 273,
    "start_time": "2021-08-09T15:25:53.571Z"
   },
   {
    "duration": 309,
    "start_time": "2021-08-09T15:25:54.561Z"
   },
   {
    "duration": 300,
    "start_time": "2021-08-09T15:26:05.212Z"
   },
   {
    "duration": 289,
    "start_time": "2021-08-09T15:27:15.932Z"
   },
   {
    "duration": 271,
    "start_time": "2021-08-09T15:30:38.685Z"
   },
   {
    "duration": 31,
    "start_time": "2021-08-09T15:30:53.284Z"
   },
   {
    "duration": 6,
    "start_time": "2021-08-09T15:30:53.821Z"
   },
   {
    "duration": 300,
    "start_time": "2021-08-09T15:30:54.361Z"
   },
   {
    "duration": 316,
    "start_time": "2021-08-09T15:30:55.140Z"
   },
   {
    "duration": 298,
    "start_time": "2021-08-09T15:30:55.983Z"
   },
   {
    "duration": 325,
    "start_time": "2021-08-09T15:30:57.366Z"
   },
   {
    "duration": 427,
    "start_time": "2021-08-09T15:36:40.382Z"
   },
   {
    "duration": 10411,
    "start_time": "2021-08-09T15:36:55.175Z"
   },
   {
    "duration": 294,
    "start_time": "2021-08-09T15:37:16.733Z"
   },
   {
    "duration": 270,
    "start_time": "2021-08-09T15:37:39.602Z"
   },
   {
    "duration": 395,
    "start_time": "2021-08-09T15:38:04.331Z"
   },
   {
    "duration": 409,
    "start_time": "2021-08-09T15:38:33.076Z"
   },
   {
    "duration": 473,
    "start_time": "2021-08-09T15:39:01.705Z"
   },
   {
    "duration": 28,
    "start_time": "2021-08-09T15:39:25.658Z"
   },
   {
    "duration": 6,
    "start_time": "2021-08-09T15:39:26.465Z"
   },
   {
    "duration": 304,
    "start_time": "2021-08-09T15:39:27.142Z"
   },
   {
    "duration": 6,
    "start_time": "2021-08-09T15:39:44.009Z"
   },
   {
    "duration": 334,
    "start_time": "2021-08-09T15:40:03.157Z"
   },
   {
    "duration": 48,
    "start_time": "2021-08-09T15:40:13.354Z"
   },
   {
    "duration": 7,
    "start_time": "2021-08-09T15:40:14.316Z"
   },
   {
    "duration": 528,
    "start_time": "2021-08-09T15:40:14.910Z"
   },
   {
    "duration": 1396,
    "start_time": "2021-08-10T07:25:28.761Z"
   },
   {
    "duration": 71,
    "start_time": "2021-08-10T07:25:30.160Z"
   },
   {
    "duration": 16,
    "start_time": "2021-08-10T07:25:30.235Z"
   },
   {
    "duration": 24,
    "start_time": "2021-08-10T07:25:30.268Z"
   },
   {
    "duration": 17,
    "start_time": "2021-08-10T07:25:30.295Z"
   },
   {
    "duration": 41,
    "start_time": "2021-08-10T07:25:30.315Z"
   },
   {
    "duration": 14,
    "start_time": "2021-08-10T07:25:30.359Z"
   },
   {
    "duration": 33,
    "start_time": "2021-08-10T07:25:30.377Z"
   },
   {
    "duration": 26,
    "start_time": "2021-08-10T07:25:30.414Z"
   },
   {
    "duration": 43,
    "start_time": "2021-08-10T07:25:30.442Z"
   },
   {
    "duration": 9,
    "start_time": "2021-08-10T07:25:30.488Z"
   },
   {
    "duration": 11,
    "start_time": "2021-08-10T07:25:30.500Z"
   },
   {
    "duration": 12,
    "start_time": "2021-08-10T07:25:30.513Z"
   },
   {
    "duration": 62,
    "start_time": "2021-08-10T07:25:30.528Z"
   },
   {
    "duration": 26,
    "start_time": "2021-08-10T07:25:30.593Z"
   },
   {
    "duration": 634,
    "start_time": "2021-08-10T07:25:30.621Z"
   },
   {
    "duration": 22,
    "start_time": "2021-08-10T07:25:31.257Z"
   },
   {
    "duration": 52,
    "start_time": "2021-08-10T07:25:31.281Z"
   },
   {
    "duration": 48,
    "start_time": "2021-08-10T07:25:31.336Z"
   },
   {
    "duration": 16,
    "start_time": "2021-08-10T07:25:31.386Z"
   },
   {
    "duration": 29,
    "start_time": "2021-08-10T07:25:31.405Z"
   },
   {
    "duration": 22,
    "start_time": "2021-08-10T07:25:33.309Z"
   },
   {
    "duration": 36,
    "start_time": "2021-08-10T07:25:34.482Z"
   },
   {
    "duration": 391,
    "start_time": "2021-08-10T07:27:59.324Z"
   },
   {
    "duration": 5,
    "start_time": "2021-08-10T07:28:06.679Z"
   },
   {
    "duration": 67,
    "start_time": "2021-08-10T07:28:06.686Z"
   },
   {
    "duration": 18,
    "start_time": "2021-08-10T07:28:06.769Z"
   },
   {
    "duration": 20,
    "start_time": "2021-08-10T07:28:06.791Z"
   },
   {
    "duration": 7,
    "start_time": "2021-08-10T07:28:06.814Z"
   },
   {
    "duration": 69,
    "start_time": "2021-08-10T07:28:06.824Z"
   },
   {
    "duration": 7,
    "start_time": "2021-08-10T07:28:06.899Z"
   },
   {
    "duration": 16,
    "start_time": "2021-08-10T07:28:06.909Z"
   },
   {
    "duration": 61,
    "start_time": "2021-08-10T07:28:06.928Z"
   },
   {
    "duration": 24,
    "start_time": "2021-08-10T07:28:06.992Z"
   },
   {
    "duration": 11,
    "start_time": "2021-08-10T07:28:07.019Z"
   },
   {
    "duration": 47,
    "start_time": "2021-08-10T07:28:07.032Z"
   },
   {
    "duration": 12,
    "start_time": "2021-08-10T07:28:07.083Z"
   },
   {
    "duration": 25,
    "start_time": "2021-08-10T07:28:07.097Z"
   },
   {
    "duration": 67,
    "start_time": "2021-08-10T07:28:07.125Z"
   },
   {
    "duration": 617,
    "start_time": "2021-08-10T07:28:07.195Z"
   },
   {
    "duration": 10,
    "start_time": "2021-08-10T07:28:07.815Z"
   },
   {
    "duration": 77,
    "start_time": "2021-08-10T07:28:07.828Z"
   },
   {
    "duration": 19,
    "start_time": "2021-08-10T07:28:07.909Z"
   },
   {
    "duration": 8,
    "start_time": "2021-08-10T07:28:07.930Z"
   },
   {
    "duration": 52,
    "start_time": "2021-08-10T07:28:07.940Z"
   },
   {
    "duration": 35,
    "start_time": "2021-08-10T07:28:07.995Z"
   },
   {
    "duration": 514,
    "start_time": "2021-08-10T07:28:08.032Z"
   },
   {
    "duration": 43,
    "start_time": "2021-08-10T07:28:08.549Z"
   },
   {
    "duration": 6,
    "start_time": "2021-08-10T07:28:08.594Z"
   },
   {
    "duration": 7,
    "start_time": "2021-08-10T07:28:11.342Z"
   },
   {
    "duration": 217,
    "start_time": "2021-08-10T07:28:12.556Z"
   },
   {
    "duration": 5,
    "start_time": "2021-08-10T07:28:28.672Z"
   },
   {
    "duration": 84,
    "start_time": "2021-08-10T07:28:28.683Z"
   },
   {
    "duration": 19,
    "start_time": "2021-08-10T07:28:28.771Z"
   },
   {
    "duration": 20,
    "start_time": "2021-08-10T07:28:28.793Z"
   },
   {
    "duration": 6,
    "start_time": "2021-08-10T07:28:28.815Z"
   },
   {
    "duration": 64,
    "start_time": "2021-08-10T07:28:28.823Z"
   },
   {
    "duration": 8,
    "start_time": "2021-08-10T07:28:28.890Z"
   },
   {
    "duration": 13,
    "start_time": "2021-08-10T07:28:28.901Z"
   },
   {
    "duration": 66,
    "start_time": "2021-08-10T07:28:28.918Z"
   },
   {
    "duration": 25,
    "start_time": "2021-08-10T07:28:28.986Z"
   },
   {
    "duration": 10,
    "start_time": "2021-08-10T07:28:29.014Z"
   },
   {
    "duration": 46,
    "start_time": "2021-08-10T07:28:29.027Z"
   },
   {
    "duration": 14,
    "start_time": "2021-08-10T07:28:29.076Z"
   },
   {
    "duration": 23,
    "start_time": "2021-08-10T07:28:29.093Z"
   },
   {
    "duration": 58,
    "start_time": "2021-08-10T07:28:29.118Z"
   },
   {
    "duration": 598,
    "start_time": "2021-08-10T07:28:29.179Z"
   },
   {
    "duration": 11,
    "start_time": "2021-08-10T07:28:29.780Z"
   },
   {
    "duration": 79,
    "start_time": "2021-08-10T07:28:29.793Z"
   },
   {
    "duration": 21,
    "start_time": "2021-08-10T07:28:29.876Z"
   },
   {
    "duration": 8,
    "start_time": "2021-08-10T07:28:29.899Z"
   },
   {
    "duration": 60,
    "start_time": "2021-08-10T07:28:29.909Z"
   },
   {
    "duration": 39,
    "start_time": "2021-08-10T07:28:29.972Z"
   },
   {
    "duration": 515,
    "start_time": "2021-08-10T07:28:30.017Z"
   },
   {
    "duration": 48,
    "start_time": "2021-08-10T07:28:30.534Z"
   },
   {
    "duration": 6,
    "start_time": "2021-08-10T07:28:30.585Z"
   },
   {
    "duration": 6,
    "start_time": "2021-08-10T07:28:32.811Z"
   },
   {
    "duration": 302,
    "start_time": "2021-08-10T07:28:33.820Z"
   },
   {
    "duration": 82,
    "start_time": "2021-08-10T07:28:55.506Z"
   },
   {
    "duration": 5666,
    "start_time": "2021-08-10T07:28:59.825Z"
   },
   {
    "duration": 34,
    "start_time": "2021-08-10T07:35:28.847Z"
   },
   {
    "duration": 41,
    "start_time": "2021-08-10T07:36:17.545Z"
   },
   {
    "duration": 75,
    "start_time": "2021-08-10T07:36:32.473Z"
   },
   {
    "duration": 29,
    "start_time": "2021-08-10T07:36:38.890Z"
   },
   {
    "duration": 31,
    "start_time": "2021-08-10T07:37:45.700Z"
   },
   {
    "duration": 22,
    "start_time": "2021-08-10T07:38:20.394Z"
   },
   {
    "duration": 31,
    "start_time": "2021-08-10T07:38:24.499Z"
   },
   {
    "duration": 240,
    "start_time": "2021-08-10T07:38:57.172Z"
   },
   {
    "duration": 291,
    "start_time": "2021-08-10T07:39:22.814Z"
   },
   {
    "duration": 935,
    "start_time": "2021-08-10T07:39:46.805Z"
   },
   {
    "duration": 287,
    "start_time": "2021-08-10T07:39:58.180Z"
   },
   {
    "duration": 29,
    "start_time": "2021-08-10T07:40:27.308Z"
   },
   {
    "duration": 27,
    "start_time": "2021-08-10T07:40:35.632Z"
   },
   {
    "duration": 298,
    "start_time": "2021-08-10T07:40:39.984Z"
   },
   {
    "duration": 381,
    "start_time": "2021-08-10T07:40:56.976Z"
   },
   {
    "duration": 451,
    "start_time": "2021-08-10T07:41:03.702Z"
   },
   {
    "duration": 16,
    "start_time": "2021-08-10T07:44:00.567Z"
   },
   {
    "duration": 7,
    "start_time": "2021-08-10T07:44:19.195Z"
   },
   {
    "duration": 13,
    "start_time": "2021-08-10T07:44:52.675Z"
   },
   {
    "duration": 6,
    "start_time": "2021-08-10T07:45:18.361Z"
   },
   {
    "duration": 12,
    "start_time": "2021-08-10T07:45:22.825Z"
   },
   {
    "duration": 17,
    "start_time": "2021-08-10T07:45:28.665Z"
   },
   {
    "duration": 86,
    "start_time": "2021-08-10T07:45:31.937Z"
   },
   {
    "duration": 13,
    "start_time": "2021-08-10T07:45:34.446Z"
   },
   {
    "duration": 99,
    "start_time": "2021-08-10T07:45:49.522Z"
   },
   {
    "duration": 86,
    "start_time": "2021-08-10T07:46:44.409Z"
   },
   {
    "duration": 84,
    "start_time": "2021-08-10T07:46:56.503Z"
   },
   {
    "duration": 92,
    "start_time": "2021-08-10T07:47:08.708Z"
   },
   {
    "duration": 70,
    "start_time": "2021-08-10T07:48:12.923Z"
   },
   {
    "duration": 95,
    "start_time": "2021-08-10T07:48:26.234Z"
   },
   {
    "duration": 88,
    "start_time": "2021-08-10T07:48:35.281Z"
   },
   {
    "duration": 13,
    "start_time": "2021-08-10T07:48:40.297Z"
   },
   {
    "duration": 558,
    "start_time": "2021-08-10T07:49:33.342Z"
   },
   {
    "duration": 82,
    "start_time": "2021-08-10T07:49:54.718Z"
   },
   {
    "duration": 16,
    "start_time": "2021-08-10T07:50:03.177Z"
   },
   {
    "duration": 260,
    "start_time": "2021-08-10T08:09:40.587Z"
   },
   {
    "duration": 30,
    "start_time": "2021-08-10T08:09:42.982Z"
   },
   {
    "duration": 113,
    "start_time": "2021-08-10T08:11:27.957Z"
   },
   {
    "duration": 96,
    "start_time": "2021-08-10T08:11:32.276Z"
   },
   {
    "duration": 14,
    "start_time": "2021-08-10T08:11:39.878Z"
   },
   {
    "duration": 19,
    "start_time": "2021-08-10T08:11:48.510Z"
   },
   {
    "duration": 217,
    "start_time": "2021-08-10T08:12:04.068Z"
   },
   {
    "duration": 218,
    "start_time": "2021-08-10T08:15:05.036Z"
   },
   {
    "duration": 216,
    "start_time": "2021-08-10T08:15:40.563Z"
   },
   {
    "duration": 302,
    "start_time": "2021-08-10T08:21:16.303Z"
   },
   {
    "duration": 515,
    "start_time": "2021-08-10T08:21:25.321Z"
   },
   {
    "duration": 481,
    "start_time": "2021-08-10T08:21:40.082Z"
   },
   {
    "duration": 413,
    "start_time": "2021-08-10T08:21:50.844Z"
   },
   {
    "duration": 300,
    "start_time": "2021-08-10T08:21:54.786Z"
   },
   {
    "duration": 214,
    "start_time": "2021-08-10T08:25:51.064Z"
   },
   {
    "duration": 347,
    "start_time": "2021-08-10T08:26:09.174Z"
   },
   {
    "duration": 460,
    "start_time": "2021-08-10T08:27:16.116Z"
   },
   {
    "duration": 212,
    "start_time": "2021-08-10T08:27:23.152Z"
   },
   {
    "duration": 69,
    "start_time": "2021-08-10T08:28:02.933Z"
   },
   {
    "duration": 210,
    "start_time": "2021-08-10T08:28:06.847Z"
   },
   {
    "duration": 22,
    "start_time": "2021-08-10T08:28:38.404Z"
   },
   {
    "duration": 20,
    "start_time": "2021-08-10T08:28:45.863Z"
   },
   {
    "duration": 291,
    "start_time": "2021-08-10T08:29:03.738Z"
   },
   {
    "duration": 34,
    "start_time": "2021-08-10T08:29:08.183Z"
   },
   {
    "duration": 22,
    "start_time": "2021-08-10T08:29:23.056Z"
   },
   {
    "duration": 30,
    "start_time": "2021-08-10T08:29:31.313Z"
   },
   {
    "duration": 218,
    "start_time": "2021-08-10T08:30:33.516Z"
   },
   {
    "duration": 226,
    "start_time": "2021-08-10T08:30:45.361Z"
   },
   {
    "duration": 204,
    "start_time": "2021-08-10T08:30:57.085Z"
   },
   {
    "duration": 226,
    "start_time": "2021-08-10T08:30:59.927Z"
   },
   {
    "duration": 30,
    "start_time": "2021-08-10T08:36:47.285Z"
   },
   {
    "duration": 263,
    "start_time": "2021-08-10T08:38:57.684Z"
   },
   {
    "duration": 10,
    "start_time": "2021-08-10T08:39:04.235Z"
   },
   {
    "duration": 34,
    "start_time": "2021-08-10T08:39:11.659Z"
   },
   {
    "duration": 106,
    "start_time": "2021-08-10T08:48:35.571Z"
   },
   {
    "duration": 28,
    "start_time": "2021-08-10T08:48:44.986Z"
   },
   {
    "duration": 29,
    "start_time": "2021-08-10T08:48:57.395Z"
   },
   {
    "duration": 30,
    "start_time": "2021-08-10T08:49:12.470Z"
   },
   {
    "duration": 31,
    "start_time": "2021-08-10T08:49:30.333Z"
   },
   {
    "duration": 30,
    "start_time": "2021-08-10T08:50:38.401Z"
   },
   {
    "duration": 25,
    "start_time": "2021-08-10T08:50:53.316Z"
   },
   {
    "duration": 434,
    "start_time": "2021-08-10T08:51:13.340Z"
   },
   {
    "duration": 375,
    "start_time": "2021-08-10T08:51:35.289Z"
   },
   {
    "duration": 27,
    "start_time": "2021-08-10T08:51:58.364Z"
   },
   {
    "duration": 26,
    "start_time": "2021-08-10T08:52:09.478Z"
   },
   {
    "duration": 24,
    "start_time": "2021-08-10T08:52:56.320Z"
   },
   {
    "duration": 5964,
    "start_time": "2021-08-10T08:52:59.306Z"
   },
   {
    "duration": 27,
    "start_time": "2021-08-10T08:53:10.318Z"
   },
   {
    "duration": 372,
    "start_time": "2021-08-10T08:53:11.882Z"
   },
   {
    "duration": 492,
    "start_time": "2021-08-10T08:53:22.750Z"
   },
   {
    "duration": 382,
    "start_time": "2021-08-10T08:53:42.026Z"
   },
   {
    "duration": 28,
    "start_time": "2021-08-10T08:54:24.932Z"
   },
   {
    "duration": 391,
    "start_time": "2021-08-10T08:54:27.325Z"
   },
   {
    "duration": 373,
    "start_time": "2021-08-10T08:54:55.283Z"
   },
   {
    "duration": 529,
    "start_time": "2021-08-10T08:55:28.638Z"
   },
   {
    "duration": 382,
    "start_time": "2021-08-10T08:55:35.503Z"
   },
   {
    "duration": 30,
    "start_time": "2021-08-10T08:56:02.074Z"
   },
   {
    "duration": 399,
    "start_time": "2021-08-10T08:56:11.871Z"
   },
   {
    "duration": 396,
    "start_time": "2021-08-10T08:56:14.057Z"
   },
   {
    "duration": 27,
    "start_time": "2021-08-10T08:57:15.011Z"
   },
   {
    "duration": 421,
    "start_time": "2021-08-10T08:57:19.127Z"
   },
   {
    "duration": 406,
    "start_time": "2021-08-10T08:57:20.441Z"
   },
   {
    "duration": 31,
    "start_time": "2021-08-10T08:57:51.481Z"
   },
   {
    "duration": 400,
    "start_time": "2021-08-10T08:57:52.211Z"
   },
   {
    "duration": 387,
    "start_time": "2021-08-10T08:57:59.311Z"
   },
   {
    "duration": 31,
    "start_time": "2021-08-10T08:58:13.666Z"
   },
   {
    "duration": 395,
    "start_time": "2021-08-10T08:58:14.958Z"
   },
   {
    "duration": 417,
    "start_time": "2021-08-10T08:58:15.460Z"
   },
   {
    "duration": 28,
    "start_time": "2021-08-10T08:58:59.565Z"
   },
   {
    "duration": 371,
    "start_time": "2021-08-10T08:59:01.069Z"
   },
   {
    "duration": 381,
    "start_time": "2021-08-10T08:59:02.466Z"
   },
   {
    "duration": 30,
    "start_time": "2021-08-10T08:59:18.016Z"
   },
   {
    "duration": 358,
    "start_time": "2021-08-10T08:59:18.498Z"
   },
   {
    "duration": 398,
    "start_time": "2021-08-10T08:59:19.028Z"
   },
   {
    "duration": 7,
    "start_time": "2021-08-10T09:02:32.214Z"
   },
   {
    "duration": 7,
    "start_time": "2021-08-10T09:02:43.484Z"
   },
   {
    "duration": 86,
    "start_time": "2021-08-10T09:03:45.411Z"
   },
   {
    "duration": 67,
    "start_time": "2021-08-10T09:03:55.116Z"
   },
   {
    "duration": 116,
    "start_time": "2021-08-10T09:04:14.189Z"
   },
   {
    "duration": 89,
    "start_time": "2021-08-10T09:04:30.083Z"
   },
   {
    "duration": 7,
    "start_time": "2021-08-10T09:04:35.772Z"
   },
   {
    "duration": 122,
    "start_time": "2021-08-10T09:05:02.246Z"
   },
   {
    "duration": 94,
    "start_time": "2021-08-10T09:05:06.059Z"
   },
   {
    "duration": 94,
    "start_time": "2021-08-10T09:05:23.385Z"
   },
   {
    "duration": 5,
    "start_time": "2021-08-10T09:05:33.836Z"
   },
   {
    "duration": 6,
    "start_time": "2021-08-10T09:06:33.641Z"
   },
   {
    "duration": 5,
    "start_time": "2021-08-10T09:07:04.766Z"
   },
   {
    "duration": 6,
    "start_time": "2021-08-10T09:07:17.538Z"
   },
   {
    "duration": 7,
    "start_time": "2021-08-10T09:07:47.588Z"
   },
   {
    "duration": 802,
    "start_time": "2021-08-10T09:18:03.221Z"
   },
   {
    "duration": 985,
    "start_time": "2021-08-10T09:18:25.942Z"
   },
   {
    "duration": 989,
    "start_time": "2021-08-10T09:18:55.221Z"
   },
   {
    "duration": 840,
    "start_time": "2021-08-10T09:19:19.748Z"
   },
   {
    "duration": 764,
    "start_time": "2021-08-10T09:19:49.324Z"
   },
   {
    "duration": 716,
    "start_time": "2021-08-10T09:22:00.659Z"
   },
   {
    "duration": 683,
    "start_time": "2021-08-10T09:22:38.098Z"
   },
   {
    "duration": 65,
    "start_time": "2021-08-10T09:24:47.480Z"
   },
   {
    "duration": 668,
    "start_time": "2021-08-10T09:24:48.007Z"
   },
   {
    "duration": 32,
    "start_time": "2021-08-10T09:28:15.106Z"
   },
   {
    "duration": 20,
    "start_time": "2021-08-10T09:29:15.130Z"
   },
   {
    "duration": 20,
    "start_time": "2021-08-10T09:29:53.865Z"
   },
   {
    "duration": 325,
    "start_time": "2021-08-10T09:30:08.400Z"
   },
   {
    "duration": 411,
    "start_time": "2021-08-10T09:30:50.924Z"
   },
   {
    "duration": 334,
    "start_time": "2021-08-10T09:31:16.781Z"
   },
   {
    "duration": 22,
    "start_time": "2021-08-10T09:31:24.947Z"
   },
   {
    "duration": 20,
    "start_time": "2021-08-10T09:31:47.424Z"
   },
   {
    "duration": 273,
    "start_time": "2021-08-10T09:31:59.033Z"
   },
   {
    "duration": 20,
    "start_time": "2021-08-10T09:32:04.385Z"
   },
   {
    "duration": 335,
    "start_time": "2021-08-10T09:32:08.515Z"
   },
   {
    "duration": 16,
    "start_time": "2021-08-10T09:32:46.347Z"
   },
   {
    "duration": 22,
    "start_time": "2021-08-10T09:32:56.216Z"
   },
   {
    "duration": 20,
    "start_time": "2021-08-10T09:33:18.166Z"
   },
   {
    "duration": 267,
    "start_time": "2021-08-10T09:33:24.633Z"
   },
   {
    "duration": 22,
    "start_time": "2021-08-10T09:33:32.194Z"
   },
   {
    "duration": 19,
    "start_time": "2021-08-10T09:33:49.561Z"
   },
   {
    "duration": 20,
    "start_time": "2021-08-10T09:33:54.809Z"
   },
   {
    "duration": 21,
    "start_time": "2021-08-10T09:42:25.904Z"
   },
   {
    "duration": 21,
    "start_time": "2021-08-10T09:42:27.105Z"
   },
   {
    "duration": 323,
    "start_time": "2021-08-10T09:42:28.192Z"
   },
   {
    "duration": 28,
    "start_time": "2021-08-10T09:42:42.706Z"
   },
   {
    "duration": 20,
    "start_time": "2021-08-10T09:42:46.160Z"
   },
   {
    "duration": 12,
    "start_time": "2021-08-10T09:46:19.340Z"
   },
   {
    "duration": 30,
    "start_time": "2021-08-10T09:50:06.927Z"
   },
   {
    "duration": 21,
    "start_time": "2021-08-10T09:52:54.405Z"
   },
   {
    "duration": 14,
    "start_time": "2021-08-10T09:55:07.827Z"
   },
   {
    "duration": 21,
    "start_time": "2021-08-10T09:55:13.375Z"
   },
   {
    "duration": 21,
    "start_time": "2021-08-10T09:55:54.247Z"
   },
   {
    "duration": 20,
    "start_time": "2021-08-10T09:55:59.894Z"
   },
   {
    "duration": 16,
    "start_time": "2021-08-10T09:56:42.014Z"
   },
   {
    "duration": 22,
    "start_time": "2021-08-10T09:56:49.495Z"
   },
   {
    "duration": 6,
    "start_time": "2021-08-10T09:57:37.498Z"
   },
   {
    "duration": 254,
    "start_time": "2021-08-10T09:58:34.210Z"
   },
   {
    "duration": 248,
    "start_time": "2021-08-10T09:58:49.195Z"
   },
   {
    "duration": 23,
    "start_time": "2021-08-10T09:58:57.850Z"
   },
   {
    "duration": 4,
    "start_time": "2021-08-10T09:58:58.702Z"
   },
   {
    "duration": 11,
    "start_time": "2021-08-10T09:58:59.245Z"
   },
   {
    "duration": 23,
    "start_time": "2021-08-10T09:59:26.241Z"
   },
   {
    "duration": 23,
    "start_time": "2021-08-10T09:59:38.009Z"
   },
   {
    "duration": 5,
    "start_time": "2021-08-10T10:02:03.192Z"
   },
   {
    "duration": 15,
    "start_time": "2021-08-10T10:02:07.980Z"
   },
   {
    "duration": 19,
    "start_time": "2021-08-10T10:02:50.180Z"
   },
   {
    "duration": 92,
    "start_time": "2021-08-10T10:03:06.426Z"
   },
   {
    "duration": 21,
    "start_time": "2021-08-10T10:03:09.225Z"
   },
   {
    "duration": 20,
    "start_time": "2021-08-10T10:03:18.721Z"
   },
   {
    "duration": 459,
    "start_time": "2021-08-10T11:40:53.127Z"
   },
   {
    "duration": 365,
    "start_time": "2021-08-10T11:41:29.857Z"
   },
   {
    "duration": 23,
    "start_time": "2021-08-10T11:42:07.206Z"
   },
   {
    "duration": 26,
    "start_time": "2021-08-10T11:42:07.967Z"
   },
   {
    "duration": 103,
    "start_time": "2021-08-10T11:44:31.536Z"
   },
   {
    "duration": 24,
    "start_time": "2021-08-10T11:48:01.268Z"
   },
   {
    "duration": 21,
    "start_time": "2021-08-10T11:48:02.824Z"
   },
   {
    "duration": 84,
    "start_time": "2021-08-10T11:49:16.792Z"
   },
   {
    "duration": 15,
    "start_time": "2021-08-10T11:49:23.331Z"
   },
   {
    "duration": 20,
    "start_time": "2021-08-10T11:49:28.460Z"
   },
   {
    "duration": 70,
    "start_time": "2021-08-10T11:50:36.158Z"
   },
   {
    "duration": 6134,
    "start_time": "2021-08-10T11:50:40.191Z"
   },
   {
    "duration": 818,
    "start_time": "2021-08-10T11:50:46.959Z"
   },
   {
    "duration": 22,
    "start_time": "2021-08-10T11:51:17.048Z"
   },
   {
    "duration": 24,
    "start_time": "2021-08-10T12:02:53.122Z"
   },
   {
    "duration": 23,
    "start_time": "2021-08-10T12:03:53.376Z"
   },
   {
    "duration": 23,
    "start_time": "2021-08-10T12:04:23.632Z"
   },
   {
    "duration": 23,
    "start_time": "2021-08-10T12:06:51.761Z"
   },
   {
    "duration": 22,
    "start_time": "2021-08-10T12:06:51.914Z"
   },
   {
    "duration": 24,
    "start_time": "2021-08-10T12:06:52.772Z"
   },
   {
    "duration": 21,
    "start_time": "2021-08-10T12:14:28.390Z"
   },
   {
    "duration": 25,
    "start_time": "2021-08-10T12:14:29.075Z"
   },
   {
    "duration": 26,
    "start_time": "2021-08-10T12:14:33.847Z"
   },
   {
    "duration": 21,
    "start_time": "2021-08-10T12:14:37.189Z"
   },
   {
    "duration": 24,
    "start_time": "2021-08-10T12:14:38.691Z"
   },
   {
    "duration": 24,
    "start_time": "2021-08-10T12:15:17.379Z"
   },
   {
    "duration": 25,
    "start_time": "2021-08-10T12:15:46.125Z"
   },
   {
    "duration": 22,
    "start_time": "2021-08-10T12:15:47.448Z"
   },
   {
    "duration": 23,
    "start_time": "2021-08-10T12:15:48.788Z"
   },
   {
    "duration": 87,
    "start_time": "2021-08-10T12:20:11.444Z"
   },
   {
    "duration": 24,
    "start_time": "2021-08-10T12:21:37.017Z"
   },
   {
    "duration": 25,
    "start_time": "2021-08-10T12:22:01.659Z"
   },
   {
    "duration": 22,
    "start_time": "2021-08-10T12:22:02.152Z"
   },
   {
    "duration": 24,
    "start_time": "2021-08-10T12:22:02.740Z"
   },
   {
    "duration": 89,
    "start_time": "2021-08-10T12:22:03.396Z"
   },
   {
    "duration": 24,
    "start_time": "2021-08-10T12:22:38.518Z"
   },
   {
    "duration": 22,
    "start_time": "2021-08-10T12:22:38.602Z"
   },
   {
    "duration": 1361,
    "start_time": "2021-08-10T12:22:52.566Z"
   },
   {
    "duration": 68,
    "start_time": "2021-08-10T12:22:53.929Z"
   },
   {
    "duration": 14,
    "start_time": "2021-08-10T12:22:54.000Z"
   },
   {
    "duration": 33,
    "start_time": "2021-08-10T12:22:54.017Z"
   },
   {
    "duration": 23,
    "start_time": "2021-08-10T12:22:54.052Z"
   },
   {
    "duration": 34,
    "start_time": "2021-08-10T12:22:54.078Z"
   },
   {
    "duration": 8,
    "start_time": "2021-08-10T12:22:54.114Z"
   },
   {
    "duration": 35,
    "start_time": "2021-08-10T12:22:54.125Z"
   },
   {
    "duration": 25,
    "start_time": "2021-08-10T12:22:54.163Z"
   },
   {
    "duration": 24,
    "start_time": "2021-08-10T12:22:54.191Z"
   },
   {
    "duration": 8,
    "start_time": "2021-08-10T12:22:54.217Z"
   },
   {
    "duration": 40,
    "start_time": "2021-08-10T12:22:54.227Z"
   },
   {
    "duration": 11,
    "start_time": "2021-08-10T12:22:54.269Z"
   },
   {
    "duration": 39,
    "start_time": "2021-08-10T12:22:54.282Z"
   },
   {
    "duration": 20,
    "start_time": "2021-08-10T12:22:54.323Z"
   },
   {
    "duration": 578,
    "start_time": "2021-08-10T12:22:54.366Z"
   },
   {
    "duration": 20,
    "start_time": "2021-08-10T12:22:54.947Z"
   },
   {
    "duration": 61,
    "start_time": "2021-08-10T12:22:54.969Z"
   },
   {
    "duration": 35,
    "start_time": "2021-08-10T12:22:55.033Z"
   },
   {
    "duration": 15,
    "start_time": "2021-08-10T12:22:55.071Z"
   },
   {
    "duration": 30,
    "start_time": "2021-08-10T12:22:55.088Z"
   },
   {
    "duration": 60,
    "start_time": "2021-08-10T12:22:55.120Z"
   },
   {
    "duration": 476,
    "start_time": "2021-08-10T12:22:55.185Z"
   },
   {
    "duration": 30,
    "start_time": "2021-08-10T12:22:55.668Z"
   },
   {
    "duration": 6,
    "start_time": "2021-08-10T12:22:55.701Z"
   },
   {
    "duration": 5224,
    "start_time": "2021-08-10T12:22:55.709Z"
   },
   {
    "duration": 480,
    "start_time": "2021-08-10T12:23:00.935Z"
   },
   {
    "duration": 14,
    "start_time": "2021-08-10T12:23:01.418Z"
   },
   {
    "duration": 339,
    "start_time": "2021-08-10T12:23:01.434Z"
   },
   {
    "duration": 245,
    "start_time": "2021-08-10T12:23:01.775Z"
   },
   {
    "duration": 45,
    "start_time": "2021-08-10T12:23:02.022Z"
   },
   {
    "duration": 409,
    "start_time": "2021-08-10T12:23:02.070Z"
   },
   {
    "duration": 398,
    "start_time": "2021-08-10T12:23:02.481Z"
   },
   {
    "duration": 8,
    "start_time": "2021-08-10T12:23:02.882Z"
   },
   {
    "duration": 92,
    "start_time": "2021-08-10T12:23:02.894Z"
   },
   {
    "duration": -2612,
    "start_time": "2021-08-10T12:23:05.601Z"
   },
   {
    "duration": -2615,
    "start_time": "2021-08-10T12:23:05.606Z"
   },
   {
    "duration": -2618,
    "start_time": "2021-08-10T12:23:05.610Z"
   },
   {
    "duration": -2622,
    "start_time": "2021-08-10T12:23:05.615Z"
   },
   {
    "duration": -2627,
    "start_time": "2021-08-10T12:23:05.621Z"
   },
   {
    "duration": -2632,
    "start_time": "2021-08-10T12:23:05.627Z"
   },
   {
    "duration": -2635,
    "start_time": "2021-08-10T12:23:05.632Z"
   },
   {
    "duration": -2639,
    "start_time": "2021-08-10T12:23:05.638Z"
   },
   {
    "duration": -2642,
    "start_time": "2021-08-10T12:23:05.642Z"
   },
   {
    "duration": -2645,
    "start_time": "2021-08-10T12:23:05.647Z"
   },
   {
    "duration": -2647,
    "start_time": "2021-08-10T12:23:05.651Z"
   },
   {
    "duration": -2650,
    "start_time": "2021-08-10T12:23:05.656Z"
   },
   {
    "duration": -2652,
    "start_time": "2021-08-10T12:23:05.660Z"
   },
   {
    "duration": -2659,
    "start_time": "2021-08-10T12:23:05.669Z"
   },
   {
    "duration": 24,
    "start_time": "2021-08-10T12:23:10.011Z"
   },
   {
    "duration": 21,
    "start_time": "2021-08-10T12:23:11.153Z"
   },
   {
    "duration": 24,
    "start_time": "2021-08-10T12:23:12.135Z"
   },
   {
    "duration": 26,
    "start_time": "2021-08-10T12:23:14.271Z"
   },
   {
    "duration": 21,
    "start_time": "2021-08-10T12:23:15.363Z"
   },
   {
    "duration": 23,
    "start_time": "2021-08-10T12:23:16.463Z"
   },
   {
    "duration": 24,
    "start_time": "2021-08-10T12:23:20.466Z"
   },
   {
    "duration": 20,
    "start_time": "2021-08-10T12:23:20.990Z"
   },
   {
    "duration": 24,
    "start_time": "2021-08-10T12:23:21.320Z"
   },
   {
    "duration": 24,
    "start_time": "2021-08-10T12:24:27.899Z"
   },
   {
    "duration": 21,
    "start_time": "2021-08-10T12:24:29.612Z"
   },
   {
    "duration": 24,
    "start_time": "2021-08-10T12:24:30.082Z"
   },
   {
    "duration": 25,
    "start_time": "2021-08-10T12:24:30.726Z"
   },
   {
    "duration": 21,
    "start_time": "2021-08-10T12:24:30.914Z"
   },
   {
    "duration": 24,
    "start_time": "2021-08-10T12:24:31.089Z"
   },
   {
    "duration": 26,
    "start_time": "2021-08-10T12:25:44.279Z"
   },
   {
    "duration": 30,
    "start_time": "2021-08-10T12:26:17.319Z"
   },
   {
    "duration": 25,
    "start_time": "2021-08-10T12:26:54.940Z"
   },
   {
    "duration": 80,
    "start_time": "2021-08-10T12:58:47.077Z"
   },
   {
    "duration": 380,
    "start_time": "2021-08-10T13:02:50.889Z"
   },
   {
    "duration": 27,
    "start_time": "2021-08-10T13:02:52.907Z"
   },
   {
    "duration": 419,
    "start_time": "2021-08-10T13:02:55.948Z"
   },
   {
    "duration": 417,
    "start_time": "2021-08-10T13:02:56.369Z"
   },
   {
    "duration": 8,
    "start_time": "2021-08-10T13:02:56.789Z"
   },
   {
    "duration": 1001,
    "start_time": "2021-08-10T13:04:02.143Z"
   },
   {
    "duration": 6,
    "start_time": "2021-08-10T13:04:16.740Z"
   },
   {
    "duration": 64,
    "start_time": "2021-08-10T13:04:16.909Z"
   },
   {
    "duration": 14,
    "start_time": "2021-08-10T13:04:17.415Z"
   },
   {
    "duration": 21,
    "start_time": "2021-08-10T13:04:18.436Z"
   },
   {
    "duration": 8,
    "start_time": "2021-08-10T13:04:18.459Z"
   },
   {
    "duration": 23,
    "start_time": "2021-08-10T13:04:18.747Z"
   },
   {
    "duration": 8,
    "start_time": "2021-08-10T13:04:18.932Z"
   },
   {
    "duration": 12,
    "start_time": "2021-08-10T13:04:19.270Z"
   },
   {
    "duration": 26,
    "start_time": "2021-08-10T13:04:19.460Z"
   },
   {
    "duration": 26,
    "start_time": "2021-08-10T13:04:19.660Z"
   },
   {
    "duration": 8,
    "start_time": "2021-08-10T13:04:19.825Z"
   },
   {
    "duration": 17,
    "start_time": "2021-08-10T13:04:20.150Z"
   },
   {
    "duration": 17,
    "start_time": "2021-08-10T13:04:20.324Z"
   },
   {
    "duration": 25,
    "start_time": "2021-08-10T13:04:20.666Z"
   },
   {
    "duration": 21,
    "start_time": "2021-08-10T13:04:21.251Z"
   },
   {
    "duration": 549,
    "start_time": "2021-08-10T13:04:21.532Z"
   },
   {
    "duration": 10,
    "start_time": "2021-08-10T13:04:22.084Z"
   },
   {
    "duration": 71,
    "start_time": "2021-08-10T13:04:22.097Z"
   },
   {
    "duration": 19,
    "start_time": "2021-08-10T13:04:22.453Z"
   },
   {
    "duration": 6,
    "start_time": "2021-08-10T13:04:22.630Z"
   },
   {
    "duration": 22,
    "start_time": "2021-08-10T13:04:22.971Z"
   },
   {
    "duration": 49,
    "start_time": "2021-08-10T13:04:23.164Z"
   },
   {
    "duration": 684,
    "start_time": "2021-08-10T13:04:23.351Z"
   },
   {
    "duration": 59,
    "start_time": "2021-08-10T13:04:24.039Z"
   },
   {
    "duration": 7,
    "start_time": "2021-08-10T13:04:24.172Z"
   },
   {
    "duration": 5810,
    "start_time": "2021-08-10T13:04:24.373Z"
   },
   {
    "duration": 463,
    "start_time": "2021-08-10T13:04:30.186Z"
   },
   {
    "duration": 21,
    "start_time": "2021-08-10T13:04:30.653Z"
   },
   {
    "duration": 348,
    "start_time": "2021-08-10T13:04:30.677Z"
   },
   {
    "duration": 242,
    "start_time": "2021-08-10T13:04:32.279Z"
   },
   {
    "duration": 28,
    "start_time": "2021-08-10T13:04:32.523Z"
   },
   {
    "duration": 400,
    "start_time": "2021-08-10T13:04:32.567Z"
   },
   {
    "duration": 402,
    "start_time": "2021-08-10T13:04:32.969Z"
   },
   {
    "duration": 8,
    "start_time": "2021-08-10T13:04:33.374Z"
   },
   {
    "duration": 759,
    "start_time": "2021-08-10T13:04:33.384Z"
   },
   {
    "duration": 33,
    "start_time": "2021-08-10T13:04:34.147Z"
   },
   {
    "duration": 30,
    "start_time": "2021-08-10T13:04:34.183Z"
   },
   {
    "duration": 375,
    "start_time": "2021-08-10T13:04:34.216Z"
   },
   {
    "duration": 21,
    "start_time": "2021-08-10T13:04:34.595Z"
   },
   {
    "duration": 50,
    "start_time": "2021-08-10T13:04:34.619Z"
   },
   {
    "duration": 22,
    "start_time": "2021-08-10T13:04:34.671Z"
   },
   {
    "duration": 23,
    "start_time": "2021-08-10T13:04:34.696Z"
   },
   {
    "duration": 68,
    "start_time": "2021-08-10T13:04:34.722Z"
   },
   {
    "duration": 22,
    "start_time": "2021-08-10T13:04:35.439Z"
   },
   {
    "duration": 26,
    "start_time": "2021-08-10T13:04:35.833Z"
   },
   {
    "duration": 25,
    "start_time": "2021-08-10T13:04:36.404Z"
   },
   {
    "duration": 20,
    "start_time": "2021-08-10T13:04:36.592Z"
   },
   {
    "duration": 28,
    "start_time": "2021-08-10T13:04:36.783Z"
   },
   {
    "duration": 20,
    "start_time": "2021-08-10T14:56:00.694Z"
   },
   {
    "duration": 91,
    "start_time": "2021-08-10T14:56:24.362Z"
   },
   {
    "duration": 404,
    "start_time": "2021-08-10T14:56:30.732Z"
   },
   {
    "duration": 222,
    "start_time": "2021-08-10T14:56:51.734Z"
   },
   {
    "duration": 10,
    "start_time": "2021-08-10T14:56:54.367Z"
   },
   {
    "duration": 285,
    "start_time": "2021-08-10T14:57:27.160Z"
   },
   {
    "duration": 35,
    "start_time": "2021-08-10T14:57:33.341Z"
   },
   {
    "duration": 235,
    "start_time": "2021-08-10T14:58:00.519Z"
   },
   {
    "duration": 237,
    "start_time": "2021-08-10T14:59:07.895Z"
   },
   {
    "duration": 512,
    "start_time": "2021-08-10T14:59:14.504Z"
   },
   {
    "duration": 527,
    "start_time": "2021-08-10T15:00:13.820Z"
   },
   {
    "duration": 511,
    "start_time": "2021-08-10T15:00:28.380Z"
   },
   {
    "duration": 262,
    "start_time": "2021-08-10T15:01:29.307Z"
   },
   {
    "duration": 11,
    "start_time": "2021-08-10T15:01:31.412Z"
   },
   {
    "duration": 3154,
    "start_time": "2021-08-10T15:01:47.441Z"
   },
   {
    "duration": 12,
    "start_time": "2021-08-10T15:02:02.586Z"
   },
   {
    "duration": 325,
    "start_time": "2021-08-10T15:02:24.004Z"
   },
   {
    "duration": 330,
    "start_time": "2021-08-10T15:02:44.670Z"
   },
   {
    "duration": 496,
    "start_time": "2021-08-10T15:02:56.281Z"
   },
   {
    "duration": 328,
    "start_time": "2021-08-10T15:03:10.264Z"
   },
   {
    "duration": 355,
    "start_time": "2021-08-10T15:03:28.894Z"
   },
   {
    "duration": 8,
    "start_time": "2021-08-10T15:04:28.913Z"
   },
   {
    "duration": 364,
    "start_time": "2021-08-10T15:04:35.321Z"
   },
   {
    "duration": 467,
    "start_time": "2021-08-10T15:04:59.503Z"
   },
   {
    "duration": 350,
    "start_time": "2021-08-10T15:05:09.402Z"
   },
   {
    "duration": 6,
    "start_time": "2021-08-10T15:05:17.431Z"
   },
   {
    "duration": 90,
    "start_time": "2021-08-10T15:05:17.439Z"
   },
   {
    "duration": 40,
    "start_time": "2021-08-10T15:05:17.533Z"
   },
   {
    "duration": 19,
    "start_time": "2021-08-10T15:05:17.576Z"
   },
   {
    "duration": 10,
    "start_time": "2021-08-10T15:05:17.597Z"
   },
   {
    "duration": 62,
    "start_time": "2021-08-10T15:05:17.610Z"
   },
   {
    "duration": 8,
    "start_time": "2021-08-10T15:05:17.676Z"
   },
   {
    "duration": 20,
    "start_time": "2021-08-10T15:05:17.688Z"
   },
   {
    "duration": 60,
    "start_time": "2021-08-10T15:05:17.711Z"
   },
   {
    "duration": 26,
    "start_time": "2021-08-10T15:05:17.773Z"
   },
   {
    "duration": 10,
    "start_time": "2021-08-10T15:05:17.802Z"
   },
   {
    "duration": 14,
    "start_time": "2021-08-10T15:05:17.815Z"
   },
   {
    "duration": 47,
    "start_time": "2021-08-10T15:05:17.831Z"
   },
   {
    "duration": 24,
    "start_time": "2021-08-10T15:05:17.880Z"
   },
   {
    "duration": 21,
    "start_time": "2021-08-10T15:05:17.907Z"
   },
   {
    "duration": 741,
    "start_time": "2021-08-10T15:05:17.930Z"
   },
   {
    "duration": 10,
    "start_time": "2021-08-10T15:05:18.674Z"
   },
   {
    "duration": 51,
    "start_time": "2021-08-10T15:05:18.687Z"
   },
   {
    "duration": 20,
    "start_time": "2021-08-10T15:05:18.768Z"
   },
   {
    "duration": 9,
    "start_time": "2021-08-10T15:05:18.791Z"
   },
   {
    "duration": 22,
    "start_time": "2021-08-10T15:05:18.802Z"
   },
   {
    "duration": 73,
    "start_time": "2021-08-10T15:05:18.827Z"
   },
   {
    "duration": 479,
    "start_time": "2021-08-10T15:05:18.904Z"
   },
   {
    "duration": 33,
    "start_time": "2021-08-10T15:05:19.386Z"
   },
   {
    "duration": 7,
    "start_time": "2021-08-10T15:05:19.422Z"
   },
   {
    "duration": 5089,
    "start_time": "2021-08-10T15:05:19.467Z"
   },
   {
    "duration": 593,
    "start_time": "2021-08-10T15:05:24.558Z"
   },
   {
    "duration": 19,
    "start_time": "2021-08-10T15:05:25.153Z"
   },
   {
    "duration": 232,
    "start_time": "2021-08-10T15:05:25.174Z"
   },
   {
    "duration": 245,
    "start_time": "2021-08-10T15:05:25.408Z"
   },
   {
    "duration": 33,
    "start_time": "2021-08-10T15:05:25.656Z"
   },
   {
    "duration": 387,
    "start_time": "2021-08-10T15:05:25.692Z"
   },
   {
    "duration": 415,
    "start_time": "2021-08-10T15:05:26.082Z"
   },
   {
    "duration": 8,
    "start_time": "2021-08-10T15:05:26.500Z"
   },
   {
    "duration": 757,
    "start_time": "2021-08-10T15:05:26.510Z"
   },
   {
    "duration": 21,
    "start_time": "2021-08-10T15:05:27.269Z"
   },
   {
    "duration": 20,
    "start_time": "2021-08-10T15:05:27.293Z"
   },
   {
    "duration": 393,
    "start_time": "2021-08-10T15:05:27.316Z"
   },
   {
    "duration": 20,
    "start_time": "2021-08-10T15:05:27.711Z"
   },
   {
    "duration": 49,
    "start_time": "2021-08-10T15:05:27.733Z"
   },
   {
    "duration": 19,
    "start_time": "2021-08-10T15:05:27.784Z"
   },
   {
    "duration": 23,
    "start_time": "2021-08-10T15:05:27.806Z"
   },
   {
    "duration": 54,
    "start_time": "2021-08-10T15:05:27.832Z"
   },
   {
    "duration": 20,
    "start_time": "2021-08-10T15:05:27.888Z"
   },
   {
    "duration": 23,
    "start_time": "2021-08-10T15:05:27.910Z"
   },
   {
    "duration": 53,
    "start_time": "2021-08-10T15:05:27.935Z"
   },
   {
    "duration": 20,
    "start_time": "2021-08-10T15:05:27.990Z"
   },
   {
    "duration": 54,
    "start_time": "2021-08-10T15:05:28.012Z"
   },
   {
    "duration": 20,
    "start_time": "2021-08-10T15:05:28.069Z"
   },
   {
    "duration": 20,
    "start_time": "2021-08-10T15:05:31.425Z"
   },
   {
    "duration": 417,
    "start_time": "2021-08-10T15:05:32.660Z"
   },
   {
    "duration": 571,
    "start_time": "2021-08-10T15:06:28.479Z"
   },
   {
    "duration": 23,
    "start_time": "2021-08-10T15:09:01.095Z"
   },
   {
    "duration": 439,
    "start_time": "2021-08-10T15:09:01.508Z"
   },
   {
    "duration": 594,
    "start_time": "2021-08-10T15:09:02.073Z"
   },
   {
    "duration": 245,
    "start_time": "2021-08-10T15:11:29.866Z"
   },
   {
    "duration": 241,
    "start_time": "2021-08-10T15:11:39.637Z"
   },
   {
    "duration": 261,
    "start_time": "2021-08-10T15:11:47.866Z"
   },
   {
    "duration": 6,
    "start_time": "2021-08-10T15:11:53.512Z"
   },
   {
    "duration": 86,
    "start_time": "2021-08-10T15:11:53.521Z"
   },
   {
    "duration": 16,
    "start_time": "2021-08-10T15:11:53.611Z"
   },
   {
    "duration": 55,
    "start_time": "2021-08-10T15:11:53.629Z"
   },
   {
    "duration": 19,
    "start_time": "2021-08-10T15:11:53.686Z"
   },
   {
    "duration": 37,
    "start_time": "2021-08-10T15:11:53.707Z"
   },
   {
    "duration": 21,
    "start_time": "2021-08-10T15:11:53.747Z"
   },
   {
    "duration": 14,
    "start_time": "2021-08-10T15:11:53.771Z"
   },
   {
    "duration": 26,
    "start_time": "2021-08-10T15:11:53.788Z"
   },
   {
    "duration": 61,
    "start_time": "2021-08-10T15:11:53.817Z"
   },
   {
    "duration": 24,
    "start_time": "2021-08-10T15:11:53.880Z"
   },
   {
    "duration": 20,
    "start_time": "2021-08-10T15:11:53.906Z"
   },
   {
    "duration": 17,
    "start_time": "2021-08-10T15:11:53.928Z"
   },
   {
    "duration": 31,
    "start_time": "2021-08-10T15:11:53.948Z"
   },
   {
    "duration": 27,
    "start_time": "2021-08-10T15:11:53.982Z"
   },
   {
    "duration": 711,
    "start_time": "2021-08-10T15:11:54.011Z"
   },
   {
    "duration": 11,
    "start_time": "2021-08-10T15:11:54.725Z"
   },
   {
    "duration": 75,
    "start_time": "2021-08-10T15:11:54.738Z"
   },
   {
    "duration": 20,
    "start_time": "2021-08-10T15:11:54.819Z"
   },
   {
    "duration": 25,
    "start_time": "2021-08-10T15:11:54.842Z"
   },
   {
    "duration": 23,
    "start_time": "2021-08-10T15:11:54.869Z"
   },
   {
    "duration": 35,
    "start_time": "2021-08-10T15:11:54.894Z"
   },
   {
    "duration": 480,
    "start_time": "2021-08-10T15:11:54.932Z"
   },
   {
    "duration": 32,
    "start_time": "2021-08-10T15:11:55.414Z"
   },
   {
    "duration": 24,
    "start_time": "2021-08-10T15:11:55.448Z"
   },
   {
    "duration": 5148,
    "start_time": "2021-08-10T15:11:55.475Z"
   },
   {
    "duration": 464,
    "start_time": "2021-08-10T15:12:00.625Z"
   },
   {
    "duration": 14,
    "start_time": "2021-08-10T15:12:01.091Z"
   },
   {
    "duration": 399,
    "start_time": "2021-08-10T15:12:01.108Z"
   },
   {
    "duration": 301,
    "start_time": "2021-08-10T15:12:01.510Z"
   },
   {
    "duration": 38,
    "start_time": "2021-08-10T15:12:01.814Z"
   },
   {
    "duration": 421,
    "start_time": "2021-08-10T15:12:01.867Z"
   },
   {
    "duration": 432,
    "start_time": "2021-08-10T15:12:02.290Z"
   },
   {
    "duration": 8,
    "start_time": "2021-08-10T15:12:02.725Z"
   },
   {
    "duration": 872,
    "start_time": "2021-08-10T15:12:02.735Z"
   },
   {
    "duration": 21,
    "start_time": "2021-08-10T15:12:03.610Z"
   },
   {
    "duration": 44,
    "start_time": "2021-08-10T15:12:03.633Z"
   },
   {
    "duration": 373,
    "start_time": "2021-08-10T15:12:03.680Z"
   },
   {
    "duration": 28,
    "start_time": "2021-08-10T15:12:04.055Z"
   },
   {
    "duration": 36,
    "start_time": "2021-08-10T15:12:04.086Z"
   },
   {
    "duration": 38,
    "start_time": "2021-08-10T15:12:04.124Z"
   },
   {
    "duration": 23,
    "start_time": "2021-08-10T15:12:04.168Z"
   },
   {
    "duration": 25,
    "start_time": "2021-08-10T15:12:04.194Z"
   },
   {
    "duration": 50,
    "start_time": "2021-08-10T15:12:04.222Z"
   },
   {
    "duration": 23,
    "start_time": "2021-08-10T15:12:04.274Z"
   },
   {
    "duration": 26,
    "start_time": "2021-08-10T15:12:04.299Z"
   },
   {
    "duration": 50,
    "start_time": "2021-08-10T15:12:04.327Z"
   },
   {
    "duration": 25,
    "start_time": "2021-08-10T15:12:04.379Z"
   },
   {
    "duration": 30,
    "start_time": "2021-08-10T15:12:04.406Z"
   },
   {
    "duration": 444,
    "start_time": "2021-08-10T15:12:04.438Z"
   },
   {
    "duration": 609,
    "start_time": "2021-08-10T15:12:04.884Z"
   },
   {
    "duration": 253,
    "start_time": "2021-08-10T15:12:08.597Z"
   },
   {
    "duration": 11,
    "start_time": "2021-08-10T15:12:27.208Z"
   },
   {
    "duration": 12,
    "start_time": "2021-08-10T15:13:13.916Z"
   },
   {
    "duration": 69,
    "start_time": "2021-08-10T15:14:36.424Z"
   },
   {
    "duration": 90,
    "start_time": "2021-08-10T15:14:44.299Z"
   },
   {
    "duration": 251,
    "start_time": "2021-08-10T15:15:48.551Z"
   },
   {
    "duration": 19,
    "start_time": "2021-08-10T15:16:00.576Z"
   },
   {
    "duration": 88,
    "start_time": "2021-08-10T15:16:44.348Z"
   },
   {
    "duration": 73,
    "start_time": "2021-08-10T15:16:49.489Z"
   },
   {
    "duration": 281,
    "start_time": "2021-08-10T15:17:03.091Z"
   },
   {
    "duration": 18,
    "start_time": "2021-08-10T15:17:10.258Z"
   },
   {
    "duration": 11,
    "start_time": "2021-08-10T15:17:33.916Z"
   },
   {
    "duration": 12,
    "start_time": "2021-08-10T15:17:43.423Z"
   },
   {
    "duration": 415,
    "start_time": "2021-08-10T15:22:32.656Z"
   },
   {
    "duration": 570,
    "start_time": "2021-08-10T15:22:36.087Z"
   },
   {
    "duration": 11,
    "start_time": "2021-08-10T15:22:36.668Z"
   },
   {
    "duration": 18,
    "start_time": "2021-08-10T15:22:36.682Z"
   },
   {
    "duration": 12,
    "start_time": "2021-08-10T15:22:36.880Z"
   },
   {
    "duration": 12,
    "start_time": "2021-08-10T15:22:37.079Z"
   },
   {
    "duration": 19,
    "start_time": "2021-08-10T15:22:42.509Z"
   },
   {
    "duration": 18,
    "start_time": "2021-08-10T15:24:28.462Z"
   },
   {
    "duration": 702,
    "start_time": "2021-08-10T15:26:31.651Z"
   },
   {
    "duration": 626,
    "start_time": "2021-08-10T15:27:58.868Z"
   },
   {
    "duration": 19,
    "start_time": "2021-08-10T15:28:00.781Z"
   },
   {
    "duration": 9,
    "start_time": "2021-08-10T15:32:34.643Z"
   },
   {
    "duration": 1456,
    "start_time": "2021-08-10T15:32:41.194Z"
   },
   {
    "duration": 66,
    "start_time": "2021-08-10T15:32:42.652Z"
   },
   {
    "duration": 14,
    "start_time": "2021-08-10T15:32:42.721Z"
   },
   {
    "duration": 39,
    "start_time": "2021-08-10T15:32:42.738Z"
   },
   {
    "duration": 5,
    "start_time": "2021-08-10T15:32:42.779Z"
   },
   {
    "duration": 29,
    "start_time": "2021-08-10T15:32:42.787Z"
   },
   {
    "duration": 7,
    "start_time": "2021-08-10T15:32:42.818Z"
   },
   {
    "duration": 40,
    "start_time": "2021-08-10T15:32:42.829Z"
   },
   {
    "duration": 25,
    "start_time": "2021-08-10T15:32:42.872Z"
   },
   {
    "duration": 22,
    "start_time": "2021-08-10T15:32:42.900Z"
   },
   {
    "duration": 42,
    "start_time": "2021-08-10T15:32:42.925Z"
   },
   {
    "duration": 11,
    "start_time": "2021-08-10T15:32:42.969Z"
   },
   {
    "duration": 11,
    "start_time": "2021-08-10T15:32:42.982Z"
   },
   {
    "duration": 23,
    "start_time": "2021-08-10T15:32:42.996Z"
   },
   {
    "duration": 53,
    "start_time": "2021-08-10T15:32:43.022Z"
   },
   {
    "duration": 644,
    "start_time": "2021-08-10T15:32:43.078Z"
   },
   {
    "duration": 11,
    "start_time": "2021-08-10T15:32:43.724Z"
   },
   {
    "duration": 73,
    "start_time": "2021-08-10T15:32:43.738Z"
   },
   {
    "duration": 20,
    "start_time": "2021-08-10T15:32:43.813Z"
   },
   {
    "duration": 33,
    "start_time": "2021-08-10T15:32:43.835Z"
   },
   {
    "duration": 22,
    "start_time": "2021-08-10T15:32:43.871Z"
   },
   {
    "duration": 35,
    "start_time": "2021-08-10T15:32:43.896Z"
   },
   {
    "duration": 544,
    "start_time": "2021-08-10T15:32:43.936Z"
   },
   {
    "duration": 32,
    "start_time": "2021-08-10T15:32:44.484Z"
   },
   {
    "duration": 5,
    "start_time": "2021-08-10T15:32:44.518Z"
   },
   {
    "duration": 5744,
    "start_time": "2021-08-10T15:32:44.526Z"
   },
   {
    "duration": 606,
    "start_time": "2021-08-10T15:32:50.273Z"
   },
   {
    "duration": 13,
    "start_time": "2021-08-10T15:32:50.881Z"
   },
   {
    "duration": 270,
    "start_time": "2021-08-10T15:32:50.897Z"
   },
   {
    "duration": 252,
    "start_time": "2021-08-10T15:32:51.169Z"
   },
   {
    "duration": 43,
    "start_time": "2021-08-10T15:32:51.424Z"
   },
   {
    "duration": 443,
    "start_time": "2021-08-10T15:32:51.470Z"
   },
   {
    "duration": 417,
    "start_time": "2021-08-10T15:32:51.915Z"
   },
   {
    "duration": 7,
    "start_time": "2021-08-10T15:32:52.334Z"
   },
   {
    "duration": 799,
    "start_time": "2021-08-10T15:32:52.343Z"
   },
   {
    "duration": 33,
    "start_time": "2021-08-10T15:32:53.145Z"
   },
   {
    "duration": 24,
    "start_time": "2021-08-10T15:32:53.181Z"
   },
   {
    "duration": 425,
    "start_time": "2021-08-10T15:32:53.208Z"
   },
   {
    "duration": 37,
    "start_time": "2021-08-10T15:32:53.636Z"
   },
   {
    "duration": 27,
    "start_time": "2021-08-10T15:32:53.675Z"
   },
   {
    "duration": 23,
    "start_time": "2021-08-10T15:32:53.705Z"
   },
   {
    "duration": 57,
    "start_time": "2021-08-10T15:32:53.731Z"
   },
   {
    "duration": 32,
    "start_time": "2021-08-10T15:32:53.790Z"
   },
   {
    "duration": 53,
    "start_time": "2021-08-10T15:32:53.824Z"
   },
   {
    "duration": 28,
    "start_time": "2021-08-10T15:32:53.879Z"
   },
   {
    "duration": 25,
    "start_time": "2021-08-10T15:32:53.910Z"
   },
   {
    "duration": 50,
    "start_time": "2021-08-10T15:32:53.938Z"
   },
   {
    "duration": 23,
    "start_time": "2021-08-10T15:32:53.991Z"
   },
   {
    "duration": 428,
    "start_time": "2021-08-10T15:32:54.016Z"
   },
   {
    "duration": 639,
    "start_time": "2021-08-10T15:32:54.446Z"
   },
   {
    "duration": 11,
    "start_time": "2021-08-10T15:32:55.088Z"
   },
   {
    "duration": 20,
    "start_time": "2021-08-10T15:32:55.101Z"
   },
   {
    "duration": 11,
    "start_time": "2021-08-10T15:32:55.123Z"
   },
   {
    "duration": 13,
    "start_time": "2021-08-10T15:32:55.167Z"
   },
   {
    "duration": 21,
    "start_time": "2021-08-10T15:32:55.183Z"
   },
   {
    "duration": 626,
    "start_time": "2021-08-10T15:32:55.207Z"
   },
   {
    "duration": 32,
    "start_time": "2021-08-10T15:32:55.835Z"
   },
   {
    "duration": 31,
    "start_time": "2021-08-10T15:39:18.471Z"
   },
   {
    "duration": 30,
    "start_time": "2021-08-10T15:39:25.677Z"
   },
   {
    "duration": 7,
    "start_time": "2021-08-10T15:39:34.844Z"
   },
   {
    "duration": 5769,
    "start_time": "2021-08-10T15:39:46.522Z"
   },
   {
    "duration": 31,
    "start_time": "2021-08-10T15:40:27.440Z"
   },
   {
    "duration": 610,
    "start_time": "2021-08-10T15:40:59.626Z"
   },
   {
    "duration": 269,
    "start_time": "2021-08-10T15:41:13.847Z"
   },
   {
    "duration": 235,
    "start_time": "2021-08-10T15:41:21.073Z"
   },
   {
    "duration": 259,
    "start_time": "2021-08-10T15:41:30.902Z"
   },
   {
    "duration": 238,
    "start_time": "2021-08-10T15:41:41.343Z"
   },
   {
    "duration": 29,
    "start_time": "2021-08-10T15:43:21.560Z"
   },
   {
    "duration": 441,
    "start_time": "2021-08-10T15:43:28.351Z"
   },
   {
    "duration": 466,
    "start_time": "2021-08-10T15:43:29.152Z"
   },
   {
    "duration": 7,
    "start_time": "2021-08-10T15:43:30.567Z"
   },
   {
    "duration": 936,
    "start_time": "2021-08-10T15:43:41.885Z"
   },
   {
    "duration": 22,
    "start_time": "2021-08-10T15:43:52.753Z"
   },
   {
    "duration": 21,
    "start_time": "2021-08-10T15:43:56.669Z"
   },
   {
    "duration": 574,
    "start_time": "2021-08-10T15:44:10.402Z"
   },
   {
    "duration": 23,
    "start_time": "2021-08-10T15:44:55.449Z"
   },
   {
    "duration": 22,
    "start_time": "2021-08-10T15:45:03.549Z"
   },
   {
    "duration": 23,
    "start_time": "2021-08-10T15:45:08.519Z"
   },
   {
    "duration": 25,
    "start_time": "2021-08-10T15:45:35.503Z"
   },
   {
    "duration": 22,
    "start_time": "2021-08-10T15:45:41.734Z"
   },
   {
    "duration": 23,
    "start_time": "2021-08-10T15:45:47.537Z"
   },
   {
    "duration": 26,
    "start_time": "2021-08-10T15:45:56.055Z"
   },
   {
    "duration": 25,
    "start_time": "2021-08-10T15:46:01.606Z"
   },
   {
    "duration": 25,
    "start_time": "2021-08-10T15:46:04.953Z"
   },
   {
    "duration": 388,
    "start_time": "2021-08-10T15:46:49.562Z"
   },
   {
    "duration": 822,
    "start_time": "2021-08-10T15:47:04.535Z"
   },
   {
    "duration": 11,
    "start_time": "2021-08-10T15:47:10.273Z"
   },
   {
    "duration": 19,
    "start_time": "2021-08-10T15:47:29.713Z"
   },
   {
    "duration": 11,
    "start_time": "2021-08-10T15:47:35.225Z"
   },
   {
    "duration": 11,
    "start_time": "2021-08-10T15:47:38.217Z"
   },
   {
    "duration": 601,
    "start_time": "2021-08-10T15:47:50.008Z"
   },
   {
    "duration": 584,
    "start_time": "2021-08-10T15:47:56.677Z"
   },
   {
    "duration": 15,
    "start_time": "2021-08-10T15:48:13.886Z"
   },
   {
    "duration": 469,
    "start_time": "2021-08-10T15:49:07.498Z"
   },
   {
    "duration": 399,
    "start_time": "2021-08-10T15:49:14.182Z"
   },
   {
    "duration": 441,
    "start_time": "2021-08-10T15:49:19.155Z"
   },
   {
    "duration": 32,
    "start_time": "2021-08-10T15:58:41.048Z"
   },
   {
    "duration": 32,
    "start_time": "2021-08-10T15:59:12.535Z"
   },
   {
    "duration": 35,
    "start_time": "2021-08-10T15:59:35.492Z"
   },
   {
    "duration": 31,
    "start_time": "2021-08-10T16:06:12.099Z"
   },
   {
    "duration": 5,
    "start_time": "2021-08-10T16:06:22.011Z"
   },
   {
    "duration": 33,
    "start_time": "2021-08-10T16:11:00.428Z"
   },
   {
    "duration": 33,
    "start_time": "2021-08-10T16:11:23.635Z"
   },
   {
    "duration": 31,
    "start_time": "2021-08-10T16:12:05.212Z"
   },
   {
    "duration": 32,
    "start_time": "2021-08-10T16:15:00.986Z"
   },
   {
    "duration": 443,
    "start_time": "2021-08-10T16:15:57.293Z"
   },
   {
    "duration": 52,
    "start_time": "2021-08-10T16:16:06.050Z"
   },
   {
    "duration": 389,
    "start_time": "2021-08-11T06:42:17.312Z"
   },
   {
    "duration": 1577,
    "start_time": "2021-08-11T06:42:21.852Z"
   },
   {
    "duration": 919,
    "start_time": "2021-08-11T06:42:23.431Z"
   },
   {
    "duration": 16,
    "start_time": "2021-08-11T06:42:24.353Z"
   },
   {
    "duration": 32,
    "start_time": "2021-08-11T06:42:24.373Z"
   },
   {
    "duration": 9,
    "start_time": "2021-08-11T06:42:24.408Z"
   },
   {
    "duration": 25,
    "start_time": "2021-08-11T06:42:24.420Z"
   },
   {
    "duration": 7,
    "start_time": "2021-08-11T06:42:24.447Z"
   },
   {
    "duration": 15,
    "start_time": "2021-08-11T06:42:24.458Z"
   },
   {
    "duration": 25,
    "start_time": "2021-08-11T06:42:24.476Z"
   },
   {
    "duration": 23,
    "start_time": "2021-08-11T06:42:24.503Z"
   },
   {
    "duration": 42,
    "start_time": "2021-08-11T06:42:24.528Z"
   },
   {
    "duration": 11,
    "start_time": "2021-08-11T06:42:24.572Z"
   },
   {
    "duration": 16,
    "start_time": "2021-08-11T06:42:24.585Z"
   },
   {
    "duration": 78,
    "start_time": "2021-08-11T06:42:24.603Z"
   },
   {
    "duration": 19,
    "start_time": "2021-08-11T06:42:24.684Z"
   },
   {
    "duration": 787,
    "start_time": "2021-08-11T06:42:24.706Z"
   },
   {
    "duration": 11,
    "start_time": "2021-08-11T06:42:25.496Z"
   },
   {
    "duration": 10,
    "start_time": "2021-08-11T06:42:25.510Z"
   },
   {
    "duration": 67,
    "start_time": "2021-08-11T06:42:25.522Z"
   },
   {
    "duration": 24,
    "start_time": "2021-08-11T06:42:25.592Z"
   },
   {
    "duration": 64,
    "start_time": "2021-08-11T06:42:25.619Z"
   },
   {
    "duration": 427,
    "start_time": "2021-08-11T06:42:28.410Z"
   },
   {
    "duration": 351,
    "start_time": "2021-08-11T06:44:40.188Z"
   },
   {
    "duration": 6,
    "start_time": "2021-08-11T06:44:46.910Z"
   },
   {
    "duration": 69,
    "start_time": "2021-08-11T06:44:46.919Z"
   },
   {
    "duration": 14,
    "start_time": "2021-08-11T06:44:46.991Z"
   },
   {
    "duration": 64,
    "start_time": "2021-08-11T06:44:47.008Z"
   },
   {
    "duration": 9,
    "start_time": "2021-08-11T06:44:47.074Z"
   },
   {
    "duration": 24,
    "start_time": "2021-08-11T06:44:47.086Z"
   },
   {
    "duration": 53,
    "start_time": "2021-08-11T06:44:47.114Z"
   },
   {
    "duration": 18,
    "start_time": "2021-08-11T06:44:47.170Z"
   },
   {
    "duration": 39,
    "start_time": "2021-08-11T06:44:47.191Z"
   },
   {
    "duration": 25,
    "start_time": "2021-08-11T06:44:47.263Z"
   },
   {
    "duration": 10,
    "start_time": "2021-08-11T06:44:47.290Z"
   },
   {
    "duration": 12,
    "start_time": "2021-08-11T06:44:47.303Z"
   },
   {
    "duration": 54,
    "start_time": "2021-08-11T06:44:47.317Z"
   },
   {
    "duration": 24,
    "start_time": "2021-08-11T06:44:47.374Z"
   },
   {
    "duration": 67,
    "start_time": "2021-08-11T06:44:47.400Z"
   },
   {
    "duration": 699,
    "start_time": "2021-08-11T06:44:47.470Z"
   },
   {
    "duration": 13,
    "start_time": "2021-08-11T06:44:48.171Z"
   },
   {
    "duration": 7,
    "start_time": "2021-08-11T06:44:48.187Z"
   },
   {
    "duration": 86,
    "start_time": "2021-08-11T06:44:48.198Z"
   },
   {
    "duration": 24,
    "start_time": "2021-08-11T06:44:48.287Z"
   },
   {
    "duration": 70,
    "start_time": "2021-08-11T06:44:48.314Z"
   },
   {
    "duration": 481,
    "start_time": "2021-08-11T06:44:48.387Z"
   },
   {
    "duration": 32,
    "start_time": "2021-08-11T06:44:48.870Z"
   },
   {
    "duration": 33,
    "start_time": "2021-08-11T06:44:51.317Z"
   },
   {
    "duration": 7,
    "start_time": "2021-08-11T06:44:52.906Z"
   },
   {
    "duration": 6,
    "start_time": "2021-08-11T06:48:10.368Z"
   },
   {
    "duration": 63,
    "start_time": "2021-08-11T06:48:10.381Z"
   },
   {
    "duration": 14,
    "start_time": "2021-08-11T06:48:10.462Z"
   },
   {
    "duration": 20,
    "start_time": "2021-08-11T06:48:10.479Z"
   },
   {
    "duration": 6,
    "start_time": "2021-08-11T06:48:10.502Z"
   },
   {
    "duration": 71,
    "start_time": "2021-08-11T06:48:10.510Z"
   },
   {
    "duration": 7,
    "start_time": "2021-08-11T06:48:10.583Z"
   },
   {
    "duration": 71,
    "start_time": "2021-08-11T06:48:10.592Z"
   },
   {
    "duration": 26,
    "start_time": "2021-08-11T06:48:10.667Z"
   },
   {
    "duration": 69,
    "start_time": "2021-08-11T06:48:10.696Z"
   },
   {
    "duration": 98,
    "start_time": "2021-08-11T06:48:10.767Z"
   },
   {
    "duration": 11,
    "start_time": "2021-08-11T06:48:10.868Z"
   },
   {
    "duration": 11,
    "start_time": "2021-08-11T06:48:10.882Z"
   },
   {
    "duration": 68,
    "start_time": "2021-08-11T06:48:10.896Z"
   },
   {
    "duration": 21,
    "start_time": "2021-08-11T06:48:10.966Z"
   },
   {
    "duration": 673,
    "start_time": "2021-08-11T06:48:10.990Z"
   },
   {
    "duration": 11,
    "start_time": "2021-08-11T06:48:11.666Z"
   },
   {
    "duration": 7,
    "start_time": "2021-08-11T06:48:11.679Z"
   },
   {
    "duration": 40,
    "start_time": "2021-08-11T06:48:11.688Z"
   },
   {
    "duration": 24,
    "start_time": "2021-08-11T06:48:11.762Z"
   },
   {
    "duration": 35,
    "start_time": "2021-08-11T06:48:11.789Z"
   },
   {
    "duration": 470,
    "start_time": "2021-08-11T06:48:11.827Z"
   },
   {
    "duration": 32,
    "start_time": "2021-08-11T06:48:12.299Z"
   },
   {
    "duration": 5025,
    "start_time": "2021-08-11T06:48:12.361Z"
   },
   {
    "duration": 505,
    "start_time": "2021-08-11T06:48:17.390Z"
   },
   {
    "duration": 14,
    "start_time": "2021-08-11T06:48:17.897Z"
   },
   {
    "duration": 290,
    "start_time": "2021-08-11T06:48:17.913Z"
   },
   {
    "duration": 264,
    "start_time": "2021-08-11T06:48:18.206Z"
   },
   {
    "duration": 29,
    "start_time": "2021-08-11T06:48:18.473Z"
   },
   {
    "duration": 476,
    "start_time": "2021-08-11T06:48:18.504Z"
   },
   {
    "duration": 446,
    "start_time": "2021-08-11T06:48:18.983Z"
   },
   {
    "duration": 8,
    "start_time": "2021-08-11T06:48:19.431Z"
   },
   {
    "duration": 971,
    "start_time": "2021-08-11T06:48:19.442Z"
   },
   {
    "duration": 21,
    "start_time": "2021-08-11T06:48:20.415Z"
   },
   {
    "duration": 41,
    "start_time": "2021-08-11T06:48:20.438Z"
   },
   {
    "duration": 403,
    "start_time": "2021-08-11T06:48:20.481Z"
   },
   {
    "duration": 25,
    "start_time": "2021-08-11T06:48:20.886Z"
   },
   {
    "duration": 52,
    "start_time": "2021-08-11T06:48:20.914Z"
   },
   {
    "duration": 23,
    "start_time": "2021-08-11T06:48:20.969Z"
   },
   {
    "duration": 28,
    "start_time": "2021-08-11T06:48:20.995Z"
   },
   {
    "duration": 51,
    "start_time": "2021-08-11T06:48:21.026Z"
   },
   {
    "duration": 22,
    "start_time": "2021-08-11T06:48:21.079Z"
   },
   {
    "duration": 11,
    "start_time": "2021-08-11T06:50:28.613Z"
   },
   {
    "duration": 11,
    "start_time": "2021-08-11T06:50:37.827Z"
   },
   {
    "duration": 12,
    "start_time": "2021-08-11T06:50:43.235Z"
   },
   {
    "duration": 11,
    "start_time": "2021-08-11T06:50:55.082Z"
   },
   {
    "duration": 6,
    "start_time": "2021-08-11T06:52:53.081Z"
   },
   {
    "duration": 73,
    "start_time": "2021-08-11T06:52:53.090Z"
   },
   {
    "duration": 15,
    "start_time": "2021-08-11T06:52:53.167Z"
   },
   {
    "duration": 19,
    "start_time": "2021-08-11T06:52:53.185Z"
   },
   {
    "duration": 6,
    "start_time": "2021-08-11T06:52:53.207Z"
   },
   {
    "duration": 26,
    "start_time": "2021-08-11T06:52:53.263Z"
   },
   {
    "duration": 10,
    "start_time": "2021-08-11T06:52:53.293Z"
   },
   {
    "duration": 69,
    "start_time": "2021-08-11T06:52:53.306Z"
   },
   {
    "duration": 26,
    "start_time": "2021-08-11T06:52:53.378Z"
   },
   {
    "duration": 55,
    "start_time": "2021-08-11T06:52:53.407Z"
   },
   {
    "duration": 8,
    "start_time": "2021-08-11T06:52:53.464Z"
   },
   {
    "duration": 12,
    "start_time": "2021-08-11T06:52:53.475Z"
   },
   {
    "duration": 15,
    "start_time": "2021-08-11T06:52:53.490Z"
   },
   {
    "duration": 72,
    "start_time": "2021-08-11T06:52:53.507Z"
   },
   {
    "duration": 20,
    "start_time": "2021-08-11T06:52:53.581Z"
   },
   {
    "duration": 648,
    "start_time": "2021-08-11T06:52:53.604Z"
   },
   {
    "duration": 11,
    "start_time": "2021-08-11T06:52:54.261Z"
   },
   {
    "duration": 7,
    "start_time": "2021-08-11T06:52:54.275Z"
   },
   {
    "duration": 33,
    "start_time": "2021-08-11T06:52:54.287Z"
   },
   {
    "duration": 24,
    "start_time": "2021-08-11T06:52:54.362Z"
   },
   {
    "duration": 33,
    "start_time": "2021-08-11T06:52:54.388Z"
   },
   {
    "duration": 475,
    "start_time": "2021-08-11T06:52:54.423Z"
   },
   {
    "duration": 30,
    "start_time": "2021-08-11T06:52:54.900Z"
   },
   {
    "duration": 4963,
    "start_time": "2021-08-11T06:52:54.932Z"
   },
   {
    "duration": 526,
    "start_time": "2021-08-11T06:52:59.897Z"
   },
   {
    "duration": 13,
    "start_time": "2021-08-11T06:53:00.425Z"
   },
   {
    "duration": 278,
    "start_time": "2021-08-11T06:53:00.441Z"
   },
   {
    "duration": 242,
    "start_time": "2021-08-11T06:53:00.722Z"
   },
   {
    "duration": 27,
    "start_time": "2021-08-11T06:53:00.966Z"
   },
   {
    "duration": 593,
    "start_time": "2021-08-11T06:53:00.996Z"
   },
   {
    "duration": 587,
    "start_time": "2021-08-11T06:53:01.592Z"
   },
   {
    "duration": 8,
    "start_time": "2021-08-11T06:53:02.181Z"
   },
   {
    "duration": 1030,
    "start_time": "2021-08-11T06:53:02.192Z"
   },
   {
    "duration": 41,
    "start_time": "2021-08-11T06:53:03.225Z"
   },
   {
    "duration": 20,
    "start_time": "2021-08-11T06:53:03.269Z"
   },
   {
    "duration": 424,
    "start_time": "2021-08-11T06:53:03.291Z"
   },
   {
    "duration": 47,
    "start_time": "2021-08-11T06:53:03.717Z"
   },
   {
    "duration": 22,
    "start_time": "2021-08-11T06:53:03.766Z"
   },
   {
    "duration": 23,
    "start_time": "2021-08-11T06:53:03.791Z"
   },
   {
    "duration": 65,
    "start_time": "2021-08-11T06:53:03.816Z"
   },
   {
    "duration": 20,
    "start_time": "2021-08-11T06:53:03.883Z"
   },
   {
    "duration": 65,
    "start_time": "2021-08-11T06:53:03.905Z"
   },
   {
    "duration": 24,
    "start_time": "2021-08-11T06:53:03.972Z"
   },
   {
    "duration": 69,
    "start_time": "2021-08-11T06:53:03.998Z"
   },
   {
    "duration": 26,
    "start_time": "2021-08-11T06:53:04.069Z"
   },
   {
    "duration": 12,
    "start_time": "2021-08-11T06:53:15.381Z"
   },
   {
    "duration": 10,
    "start_time": "2021-08-11T06:53:20.044Z"
   },
   {
    "duration": 11,
    "start_time": "2021-08-11T06:53:21.341Z"
   },
   {
    "duration": 21,
    "start_time": "2021-08-11T07:05:02.623Z"
   },
   {
    "duration": 296,
    "start_time": "2021-08-11T07:05:33.016Z"
   },
   {
    "duration": 304,
    "start_time": "2021-08-11T07:05:43.736Z"
   },
   {
    "duration": 341,
    "start_time": "2021-08-11T07:06:02.285Z"
   },
   {
    "duration": 34,
    "start_time": "2021-08-11T07:06:14.131Z"
   },
   {
    "duration": 22,
    "start_time": "2021-08-11T07:13:36.751Z"
   },
   {
    "duration": 1113,
    "start_time": "2021-08-11T08:28:52.722Z"
   },
   {
    "duration": 53,
    "start_time": "2021-08-11T08:28:53.837Z"
   },
   {
    "duration": 10,
    "start_time": "2021-08-11T08:28:53.892Z"
   },
   {
    "duration": 12,
    "start_time": "2021-08-11T08:28:53.904Z"
   },
   {
    "duration": 7,
    "start_time": "2021-08-11T08:28:53.917Z"
   },
   {
    "duration": 17,
    "start_time": "2021-08-11T08:28:53.925Z"
   },
   {
    "duration": 5,
    "start_time": "2021-08-11T08:28:53.944Z"
   },
   {
    "duration": 40,
    "start_time": "2021-08-11T08:28:53.952Z"
   },
   {
    "duration": 18,
    "start_time": "2021-08-11T08:28:53.994Z"
   },
   {
    "duration": 16,
    "start_time": "2021-08-11T08:28:54.013Z"
   },
   {
    "duration": 6,
    "start_time": "2021-08-11T08:28:54.030Z"
   },
   {
    "duration": 7,
    "start_time": "2021-08-11T08:28:54.038Z"
   },
   {
    "duration": 39,
    "start_time": "2021-08-11T08:28:54.046Z"
   },
   {
    "duration": 15,
    "start_time": "2021-08-11T08:28:54.087Z"
   },
   {
    "duration": 13,
    "start_time": "2021-08-11T08:28:54.103Z"
   },
   {
    "duration": 418,
    "start_time": "2021-08-11T08:28:54.117Z"
   },
   {
    "duration": 8,
    "start_time": "2021-08-11T08:28:54.536Z"
   },
   {
    "duration": 4,
    "start_time": "2021-08-11T08:28:54.546Z"
   },
   {
    "duration": 44,
    "start_time": "2021-08-11T08:28:54.552Z"
   },
   {
    "duration": 17,
    "start_time": "2021-08-11T08:28:54.597Z"
   },
   {
    "duration": 24,
    "start_time": "2021-08-11T08:28:54.615Z"
   },
   {
    "duration": 297,
    "start_time": "2021-08-11T08:28:54.640Z"
   },
   {
    "duration": 21,
    "start_time": "2021-08-11T08:28:54.940Z"
   },
   {
    "duration": 3207,
    "start_time": "2021-08-11T08:28:54.963Z"
   },
   {
    "duration": 388,
    "start_time": "2021-08-11T08:28:58.172Z"
   },
   {
    "duration": 9,
    "start_time": "2021-08-11T08:28:58.562Z"
   },
   {
    "duration": 184,
    "start_time": "2021-08-11T08:28:58.573Z"
   },
   {
    "duration": 169,
    "start_time": "2021-08-11T08:28:58.759Z"
   },
   {
    "duration": 19,
    "start_time": "2021-08-11T08:28:58.930Z"
   },
   {
    "duration": 340,
    "start_time": "2021-08-11T08:28:58.951Z"
   },
   {
    "duration": 342,
    "start_time": "2021-08-11T08:28:59.293Z"
   },
   {
    "duration": 6,
    "start_time": "2021-08-11T08:28:59.637Z"
   },
   {
    "duration": 594,
    "start_time": "2021-08-11T08:28:59.645Z"
   },
   {
    "duration": 15,
    "start_time": "2021-08-11T08:29:00.241Z"
   },
   {
    "duration": 30,
    "start_time": "2021-08-11T08:29:00.257Z"
   },
   {
    "duration": 257,
    "start_time": "2021-08-11T08:29:00.289Z"
   },
   {
    "duration": 17,
    "start_time": "2021-08-11T08:29:00.547Z"
   },
   {
    "duration": 30,
    "start_time": "2021-08-11T08:29:00.566Z"
   },
   {
    "duration": 15,
    "start_time": "2021-08-11T08:29:00.597Z"
   },
   {
    "duration": 17,
    "start_time": "2021-08-11T08:29:00.613Z"
   },
   {
    "duration": 13,
    "start_time": "2021-08-11T08:29:00.632Z"
   },
   {
    "duration": 46,
    "start_time": "2021-08-11T08:29:00.646Z"
   },
   {
    "duration": 20,
    "start_time": "2021-08-11T08:29:00.693Z"
   },
   {
    "duration": 13,
    "start_time": "2021-08-11T08:29:00.714Z"
   },
   {
    "duration": 15,
    "start_time": "2021-08-11T08:29:00.729Z"
   },
   {
    "duration": 274,
    "start_time": "2021-08-11T08:29:00.745Z"
   },
   {
    "duration": 380,
    "start_time": "2021-08-11T08:29:01.020Z"
   },
   {
    "duration": 13,
    "start_time": "2021-08-11T08:29:01.402Z"
   },
   {
    "duration": 23,
    "start_time": "2021-08-11T08:29:01.416Z"
   },
   {
    "duration": 23,
    "start_time": "2021-08-11T08:29:01.441Z"
   },
   {
    "duration": 458,
    "start_time": "2021-08-11T08:29:01.465Z"
   },
   {
    "duration": 10,
    "start_time": "2021-08-11T08:29:01.925Z"
   },
   {
    "duration": 1432,
    "start_time": "2021-08-12T07:41:23.299Z"
   },
   {
    "duration": 70,
    "start_time": "2021-08-12T07:41:24.734Z"
   },
   {
    "duration": 16,
    "start_time": "2021-08-12T07:41:24.809Z"
   },
   {
    "duration": 40,
    "start_time": "2021-08-12T07:41:24.828Z"
   },
   {
    "duration": 8,
    "start_time": "2021-08-12T07:41:24.871Z"
   },
   {
    "duration": 29,
    "start_time": "2021-08-12T07:41:24.881Z"
   },
   {
    "duration": 7,
    "start_time": "2021-08-12T07:41:24.913Z"
   },
   {
    "duration": 42,
    "start_time": "2021-08-12T07:41:24.922Z"
   },
   {
    "duration": 25,
    "start_time": "2021-08-12T07:41:24.967Z"
   },
   {
    "duration": 25,
    "start_time": "2021-08-12T07:41:24.994Z"
   },
   {
    "duration": 623,
    "start_time": "2021-08-12T07:41:28.405Z"
   },
   {
    "duration": 30,
    "start_time": "2021-08-12T07:41:40.036Z"
   },
   {
    "duration": 32,
    "start_time": "2021-08-12T07:42:07.128Z"
   },
   {
    "duration": 8,
    "start_time": "2021-08-12T07:42:14.491Z"
   },
   {
    "duration": 9578,
    "start_time": "2021-08-12T07:45:29.125Z"
   },
   {
    "duration": 127,
    "start_time": "2021-08-12T07:45:43.553Z"
   },
   {
    "duration": 117,
    "start_time": "2021-08-12T07:45:50.009Z"
   },
   {
    "duration": 26,
    "start_time": "2021-08-12T07:45:58.043Z"
   },
   {
    "duration": 48,
    "start_time": "2021-08-12T07:46:02.169Z"
   },
   {
    "duration": 28,
    "start_time": "2021-08-12T07:46:31.096Z"
   },
   {
    "duration": 28,
    "start_time": "2021-08-12T07:46:34.100Z"
   },
   {
    "duration": 22,
    "start_time": "2021-08-12T07:51:45.969Z"
   },
   {
    "duration": 394,
    "start_time": "2021-08-12T07:51:55.578Z"
   },
   {
    "duration": 375,
    "start_time": "2021-08-12T07:52:04.248Z"
   },
   {
    "duration": 111,
    "start_time": "2021-08-12T07:52:10.384Z"
   },
   {
    "duration": 28,
    "start_time": "2021-08-12T07:52:12.961Z"
   },
   {
    "duration": 23,
    "start_time": "2021-08-12T07:52:18.945Z"
   },
   {
    "duration": 10,
    "start_time": "2021-08-12T07:52:23.379Z"
   },
   {
    "duration": 359,
    "start_time": "2021-08-12T08:09:33.871Z"
   },
   {
    "duration": 26,
    "start_time": "2021-08-12T08:09:40.141Z"
   },
   {
    "duration": 40,
    "start_time": "2021-08-12T08:10:41.320Z"
   },
   {
    "duration": 62,
    "start_time": "2021-08-12T08:10:46.560Z"
   },
   {
    "duration": 23,
    "start_time": "2021-08-12T08:12:23.396Z"
   },
   {
    "duration": 41,
    "start_time": "2021-08-12T08:12:31.062Z"
   },
   {
    "duration": 64,
    "start_time": "2021-08-12T08:12:35.541Z"
   },
   {
    "duration": 8683,
    "start_time": "2021-08-12T08:13:09.067Z"
   },
   {
    "duration": 8601,
    "start_time": "2021-08-12T08:13:18.955Z"
   },
   {
    "duration": 68,
    "start_time": "2021-08-12T08:13:32.094Z"
   },
   {
    "duration": 4919,
    "start_time": "2021-08-12T08:14:52.643Z"
   },
   {
    "duration": 4862,
    "start_time": "2021-08-12T08:15:02.667Z"
   },
   {
    "duration": 57,
    "start_time": "2021-08-12T08:15:10.971Z"
   },
   {
    "duration": 917,
    "start_time": "2021-08-12T08:16:23.936Z"
   },
   {
    "duration": 939,
    "start_time": "2021-08-12T08:16:30.646Z"
   },
   {
    "duration": 60,
    "start_time": "2021-08-12T08:16:37.392Z"
   },
   {
    "duration": 378,
    "start_time": "2021-08-12T08:17:11.504Z"
   },
   {
    "duration": 353,
    "start_time": "2021-08-12T08:17:32.814Z"
   },
   {
    "duration": 369,
    "start_time": "2021-08-12T08:17:43.690Z"
   },
   {
    "duration": 36,
    "start_time": "2021-08-12T08:17:52.279Z"
   },
   {
    "duration": 38,
    "start_time": "2021-08-12T08:18:12.693Z"
   },
   {
    "duration": 33,
    "start_time": "2021-08-12T08:18:22.258Z"
   },
   {
    "duration": 33,
    "start_time": "2021-08-12T08:18:27.994Z"
   },
   {
    "duration": 22,
    "start_time": "2021-08-12T08:24:49.260Z"
   },
   {
    "duration": 25,
    "start_time": "2021-08-12T08:25:22.385Z"
   },
   {
    "duration": 20,
    "start_time": "2021-08-12T08:26:35.187Z"
   },
   {
    "duration": 119,
    "start_time": "2021-08-12T08:37:55.083Z"
   }
  ],
  "kernelspec": {
   "display_name": "Python 3",
   "language": "python",
   "name": "python3"
  },
  "language_info": {
   "codemirror_mode": {
    "name": "ipython",
    "version": 3
   },
   "file_extension": ".py",
   "mimetype": "text/x-python",
   "name": "python",
   "nbconvert_exporter": "python",
   "pygments_lexer": "ipython3",
   "version": "3.8.8"
  },
  "toc": {
   "base_numbering": 1,
   "nav_menu": {},
   "number_sections": true,
   "sideBar": true,
   "skip_h1_title": true,
   "title_cell": "Table of Contents",
   "title_sidebar": "Contents",
   "toc_cell": false,
   "toc_position": {},
   "toc_section_display": true,
   "toc_window_display": true
  }
 },
 "nbformat": 4,
 "nbformat_minor": 2
}
