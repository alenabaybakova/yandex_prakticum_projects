{
 "cells": [
  {
   "cell_type": "markdown",
   "metadata": {},
   "source": [
    "# Анализ тарифов сотовой связи компании \"Мегалайн\""
   ]
  },
  {
   "cell_type": "markdown",
   "metadata": {},
   "source": [
    "Задача проекта: анализ поведения клиентов, определение более выгодного тарифа для оператора.\n",
    "\n",
    "<b>Тариф «Смарт»</b>\n",
    "Ежемесячная плата: 550 рублей\n",
    "Включено 500 минут разговора, 50 сообщений и 15 Гб интернет-трафика\n",
    "Стоимость услуг сверх тарифного пакета: 1. минута разговора: 3 рубля («Мегалайн» всегда округляет вверх значения минут и мегабайтов. Если пользователь проговорил всего 1 секунду, в тарифе засчитывается целая минута); 2. сообщение: 3 рубля; 3. 1 Гб интернет-трафика: 200 рублей.\n",
    "\n",
    "\n",
    "<b>Тариф «Ультра»</b>\n",
    "Ежемесячная плата: 1950 рублей\n",
    "Включено 3000 минут разговора, 1000 сообщений и 30 Гб интернет-трафика\n",
    "Стоимость услуг сверх тарифного пакета: 1. минута разговора: 1 рубль; 2. сообщение: 1 рубль; 3. 1 Гб интернет-трафика: 150 рублей.\n",
    "\n",
    "<b>Примечание:</b>\n",
    "«Мегалайн» всегда округляет секунды до минут, а мегабайты — до гигабайт. Каждый звонок округляется отдельно: даже если он длился всего 1 секунду, будет засчитан как 1 минута.\n",
    "Для веб-трафика отдельные сессии не считаются. Вместо этого общая сумма за месяц округляется в бо́льшую сторону. Если абонент использует 1025 мегабайт в этом месяце, с него возьмут плату за 2 гигабайта."
   ]
  },
  {
   "cell_type": "markdown",
   "metadata": {},
   "source": [
    "## Изучение данных из файла"
   ]
  },
  {
   "cell_type": "code",
   "execution_count": 120,
   "metadata": {},
   "outputs": [],
   "source": [
    "import pandas as pd\n",
    "import numpy as np\n",
    "import matplotlib.pyplot as plt\n",
    "from scipy import stats as st"
   ]
  },
  {
   "cell_type": "code",
   "execution_count": 121,
   "metadata": {},
   "outputs": [],
   "source": [
    "df_calls = pd.read_csv('/Users/alena/Desktop/projects/Проект - выгодный тариф/calls.csv')\n",
    "df_internet = pd.read_csv('/Users/alena/Desktop/projects/Проект - выгодный тариф/internet.csv', index_col=[0])\n",
    "df_messages = pd.read_csv('/Users/alena/Desktop/projects/Проект - выгодный тариф/messages.csv')\n",
    "df_tariffs = pd.read_csv('/Users/alena/Desktop/projects/Проект - выгодный тариф/tariffs.csv')\n",
    "df_users = pd.read_csv('/Users/alena/Desktop/projects/Проект - выгодный тариф/users.csv')"
   ]
  },
  {
   "cell_type": "code",
   "execution_count": 122,
   "metadata": {},
   "outputs": [
    {
     "data": {
      "text/html": [
       "<div>\n",
       "<style scoped>\n",
       "    .dataframe tbody tr th:only-of-type {\n",
       "        vertical-align: middle;\n",
       "    }\n",
       "\n",
       "    .dataframe tbody tr th {\n",
       "        vertical-align: top;\n",
       "    }\n",
       "\n",
       "    .dataframe thead th {\n",
       "        text-align: right;\n",
       "    }\n",
       "</style>\n",
       "<table border=\"1\" class=\"dataframe\">\n",
       "  <thead>\n",
       "    <tr style=\"text-align: right;\">\n",
       "      <th></th>\n",
       "      <th>id</th>\n",
       "      <th>call_date</th>\n",
       "      <th>duration</th>\n",
       "      <th>user_id</th>\n",
       "    </tr>\n",
       "  </thead>\n",
       "  <tbody>\n",
       "    <tr>\n",
       "      <th>0</th>\n",
       "      <td>1000_0</td>\n",
       "      <td>2018-07-25</td>\n",
       "      <td>0.00</td>\n",
       "      <td>1000</td>\n",
       "    </tr>\n",
       "    <tr>\n",
       "      <th>1</th>\n",
       "      <td>1000_1</td>\n",
       "      <td>2018-08-17</td>\n",
       "      <td>0.00</td>\n",
       "      <td>1000</td>\n",
       "    </tr>\n",
       "    <tr>\n",
       "      <th>2</th>\n",
       "      <td>1000_2</td>\n",
       "      <td>2018-06-11</td>\n",
       "      <td>2.85</td>\n",
       "      <td>1000</td>\n",
       "    </tr>\n",
       "    <tr>\n",
       "      <th>3</th>\n",
       "      <td>1000_3</td>\n",
       "      <td>2018-09-21</td>\n",
       "      <td>13.80</td>\n",
       "      <td>1000</td>\n",
       "    </tr>\n",
       "    <tr>\n",
       "      <th>4</th>\n",
       "      <td>1000_4</td>\n",
       "      <td>2018-12-15</td>\n",
       "      <td>5.18</td>\n",
       "      <td>1000</td>\n",
       "    </tr>\n",
       "  </tbody>\n",
       "</table>\n",
       "</div>"
      ],
      "text/plain": [
       "       id   call_date  duration  user_id\n",
       "0  1000_0  2018-07-25      0.00     1000\n",
       "1  1000_1  2018-08-17      0.00     1000\n",
       "2  1000_2  2018-06-11      2.85     1000\n",
       "3  1000_3  2018-09-21     13.80     1000\n",
       "4  1000_4  2018-12-15      5.18     1000"
      ]
     },
     "execution_count": 122,
     "metadata": {},
     "output_type": "execute_result"
    }
   ],
   "source": [
    "df_calls.head()"
   ]
  },
  {
   "cell_type": "code",
   "execution_count": 123,
   "metadata": {},
   "outputs": [
    {
     "name": "stdout",
     "output_type": "stream",
     "text": [
      "<class 'pandas.core.frame.DataFrame'>\n",
      "RangeIndex: 202607 entries, 0 to 202606\n",
      "Data columns (total 4 columns):\n",
      " #   Column     Non-Null Count   Dtype  \n",
      "---  ------     --------------   -----  \n",
      " 0   id         202607 non-null  object \n",
      " 1   call_date  202607 non-null  object \n",
      " 2   duration   202607 non-null  float64\n",
      " 3   user_id    202607 non-null  int64  \n",
      "dtypes: float64(1), int64(1), object(2)\n",
      "memory usage: 6.2+ MB\n"
     ]
    }
   ],
   "source": [
    "df_calls.info()"
   ]
  },
  {
   "cell_type": "code",
   "execution_count": 124,
   "metadata": {},
   "outputs": [
    {
     "data": {
      "text/html": [
       "<div>\n",
       "<style scoped>\n",
       "    .dataframe tbody tr th:only-of-type {\n",
       "        vertical-align: middle;\n",
       "    }\n",
       "\n",
       "    .dataframe tbody tr th {\n",
       "        vertical-align: top;\n",
       "    }\n",
       "\n",
       "    .dataframe thead th {\n",
       "        text-align: right;\n",
       "    }\n",
       "</style>\n",
       "<table border=\"1\" class=\"dataframe\">\n",
       "  <thead>\n",
       "    <tr style=\"text-align: right;\">\n",
       "      <th></th>\n",
       "      <th>id</th>\n",
       "      <th>mb_used</th>\n",
       "      <th>session_date</th>\n",
       "      <th>user_id</th>\n",
       "    </tr>\n",
       "  </thead>\n",
       "  <tbody>\n",
       "    <tr>\n",
       "      <th>0</th>\n",
       "      <td>1000_0</td>\n",
       "      <td>112.95</td>\n",
       "      <td>2018-11-25</td>\n",
       "      <td>1000</td>\n",
       "    </tr>\n",
       "    <tr>\n",
       "      <th>1</th>\n",
       "      <td>1000_1</td>\n",
       "      <td>1052.81</td>\n",
       "      <td>2018-09-07</td>\n",
       "      <td>1000</td>\n",
       "    </tr>\n",
       "    <tr>\n",
       "      <th>2</th>\n",
       "      <td>1000_2</td>\n",
       "      <td>1197.26</td>\n",
       "      <td>2018-06-25</td>\n",
       "      <td>1000</td>\n",
       "    </tr>\n",
       "    <tr>\n",
       "      <th>3</th>\n",
       "      <td>1000_3</td>\n",
       "      <td>550.27</td>\n",
       "      <td>2018-08-22</td>\n",
       "      <td>1000</td>\n",
       "    </tr>\n",
       "    <tr>\n",
       "      <th>4</th>\n",
       "      <td>1000_4</td>\n",
       "      <td>302.56</td>\n",
       "      <td>2018-09-24</td>\n",
       "      <td>1000</td>\n",
       "    </tr>\n",
       "  </tbody>\n",
       "</table>\n",
       "</div>"
      ],
      "text/plain": [
       "       id  mb_used session_date  user_id\n",
       "0  1000_0   112.95   2018-11-25     1000\n",
       "1  1000_1  1052.81   2018-09-07     1000\n",
       "2  1000_2  1197.26   2018-06-25     1000\n",
       "3  1000_3   550.27   2018-08-22     1000\n",
       "4  1000_4   302.56   2018-09-24     1000"
      ]
     },
     "execution_count": 124,
     "metadata": {},
     "output_type": "execute_result"
    }
   ],
   "source": [
    "df_internet.head()"
   ]
  },
  {
   "cell_type": "code",
   "execution_count": 125,
   "metadata": {},
   "outputs": [
    {
     "name": "stdout",
     "output_type": "stream",
     "text": [
      "<class 'pandas.core.frame.DataFrame'>\n",
      "Int64Index: 149396 entries, 0 to 149395\n",
      "Data columns (total 4 columns):\n",
      " #   Column        Non-Null Count   Dtype  \n",
      "---  ------        --------------   -----  \n",
      " 0   id            149396 non-null  object \n",
      " 1   mb_used       149396 non-null  float64\n",
      " 2   session_date  149396 non-null  object \n",
      " 3   user_id       149396 non-null  int64  \n",
      "dtypes: float64(1), int64(1), object(2)\n",
      "memory usage: 5.7+ MB\n"
     ]
    }
   ],
   "source": [
    "df_internet.info()"
   ]
  },
  {
   "cell_type": "code",
   "execution_count": 126,
   "metadata": {},
   "outputs": [
    {
     "data": {
      "text/html": [
       "<div>\n",
       "<style scoped>\n",
       "    .dataframe tbody tr th:only-of-type {\n",
       "        vertical-align: middle;\n",
       "    }\n",
       "\n",
       "    .dataframe tbody tr th {\n",
       "        vertical-align: top;\n",
       "    }\n",
       "\n",
       "    .dataframe thead th {\n",
       "        text-align: right;\n",
       "    }\n",
       "</style>\n",
       "<table border=\"1\" class=\"dataframe\">\n",
       "  <thead>\n",
       "    <tr style=\"text-align: right;\">\n",
       "      <th></th>\n",
       "      <th>id</th>\n",
       "      <th>message_date</th>\n",
       "      <th>user_id</th>\n",
       "    </tr>\n",
       "  </thead>\n",
       "  <tbody>\n",
       "    <tr>\n",
       "      <th>0</th>\n",
       "      <td>1000_0</td>\n",
       "      <td>2018-06-27</td>\n",
       "      <td>1000</td>\n",
       "    </tr>\n",
       "    <tr>\n",
       "      <th>1</th>\n",
       "      <td>1000_1</td>\n",
       "      <td>2018-10-08</td>\n",
       "      <td>1000</td>\n",
       "    </tr>\n",
       "    <tr>\n",
       "      <th>2</th>\n",
       "      <td>1000_2</td>\n",
       "      <td>2018-08-04</td>\n",
       "      <td>1000</td>\n",
       "    </tr>\n",
       "    <tr>\n",
       "      <th>3</th>\n",
       "      <td>1000_3</td>\n",
       "      <td>2018-06-16</td>\n",
       "      <td>1000</td>\n",
       "    </tr>\n",
       "    <tr>\n",
       "      <th>4</th>\n",
       "      <td>1000_4</td>\n",
       "      <td>2018-12-05</td>\n",
       "      <td>1000</td>\n",
       "    </tr>\n",
       "  </tbody>\n",
       "</table>\n",
       "</div>"
      ],
      "text/plain": [
       "       id message_date  user_id\n",
       "0  1000_0   2018-06-27     1000\n",
       "1  1000_1   2018-10-08     1000\n",
       "2  1000_2   2018-08-04     1000\n",
       "3  1000_3   2018-06-16     1000\n",
       "4  1000_4   2018-12-05     1000"
      ]
     },
     "execution_count": 126,
     "metadata": {},
     "output_type": "execute_result"
    }
   ],
   "source": [
    "df_messages.head()"
   ]
  },
  {
   "cell_type": "code",
   "execution_count": 127,
   "metadata": {},
   "outputs": [
    {
     "name": "stdout",
     "output_type": "stream",
     "text": [
      "<class 'pandas.core.frame.DataFrame'>\n",
      "RangeIndex: 123036 entries, 0 to 123035\n",
      "Data columns (total 3 columns):\n",
      " #   Column        Non-Null Count   Dtype \n",
      "---  ------        --------------   ----- \n",
      " 0   id            123036 non-null  object\n",
      " 1   message_date  123036 non-null  object\n",
      " 2   user_id       123036 non-null  int64 \n",
      "dtypes: int64(1), object(2)\n",
      "memory usage: 2.8+ MB\n"
     ]
    }
   ],
   "source": [
    "df_messages.info()"
   ]
  },
  {
   "cell_type": "code",
   "execution_count": 128,
   "metadata": {},
   "outputs": [
    {
     "data": {
      "text/html": [
       "<div>\n",
       "<style scoped>\n",
       "    .dataframe tbody tr th:only-of-type {\n",
       "        vertical-align: middle;\n",
       "    }\n",
       "\n",
       "    .dataframe tbody tr th {\n",
       "        vertical-align: top;\n",
       "    }\n",
       "\n",
       "    .dataframe thead th {\n",
       "        text-align: right;\n",
       "    }\n",
       "</style>\n",
       "<table border=\"1\" class=\"dataframe\">\n",
       "  <thead>\n",
       "    <tr style=\"text-align: right;\">\n",
       "      <th></th>\n",
       "      <th>messages_included</th>\n",
       "      <th>mb_per_month_included</th>\n",
       "      <th>minutes_included</th>\n",
       "      <th>rub_monthly_fee</th>\n",
       "      <th>rub_per_gb</th>\n",
       "      <th>rub_per_message</th>\n",
       "      <th>rub_per_minute</th>\n",
       "      <th>tariff_name</th>\n",
       "    </tr>\n",
       "  </thead>\n",
       "  <tbody>\n",
       "    <tr>\n",
       "      <th>0</th>\n",
       "      <td>50</td>\n",
       "      <td>15360</td>\n",
       "      <td>500</td>\n",
       "      <td>550</td>\n",
       "      <td>200</td>\n",
       "      <td>3</td>\n",
       "      <td>3</td>\n",
       "      <td>smart</td>\n",
       "    </tr>\n",
       "    <tr>\n",
       "      <th>1</th>\n",
       "      <td>1000</td>\n",
       "      <td>30720</td>\n",
       "      <td>3000</td>\n",
       "      <td>1950</td>\n",
       "      <td>150</td>\n",
       "      <td>1</td>\n",
       "      <td>1</td>\n",
       "      <td>ultra</td>\n",
       "    </tr>\n",
       "  </tbody>\n",
       "</table>\n",
       "</div>"
      ],
      "text/plain": [
       "   messages_included  mb_per_month_included  minutes_included  \\\n",
       "0                 50                  15360               500   \n",
       "1               1000                  30720              3000   \n",
       "\n",
       "   rub_monthly_fee  rub_per_gb  rub_per_message  rub_per_minute tariff_name  \n",
       "0              550         200                3               3       smart  \n",
       "1             1950         150                1               1       ultra  "
      ]
     },
     "execution_count": 128,
     "metadata": {},
     "output_type": "execute_result"
    }
   ],
   "source": [
    "df_tariffs.head()"
   ]
  },
  {
   "cell_type": "code",
   "execution_count": 129,
   "metadata": {},
   "outputs": [
    {
     "name": "stdout",
     "output_type": "stream",
     "text": [
      "<class 'pandas.core.frame.DataFrame'>\n",
      "RangeIndex: 2 entries, 0 to 1\n",
      "Data columns (total 8 columns):\n",
      " #   Column                 Non-Null Count  Dtype \n",
      "---  ------                 --------------  ----- \n",
      " 0   messages_included      2 non-null      int64 \n",
      " 1   mb_per_month_included  2 non-null      int64 \n",
      " 2   minutes_included       2 non-null      int64 \n",
      " 3   rub_monthly_fee        2 non-null      int64 \n",
      " 4   rub_per_gb             2 non-null      int64 \n",
      " 5   rub_per_message        2 non-null      int64 \n",
      " 6   rub_per_minute         2 non-null      int64 \n",
      " 7   tariff_name            2 non-null      object\n",
      "dtypes: int64(7), object(1)\n",
      "memory usage: 256.0+ bytes\n"
     ]
    }
   ],
   "source": [
    "df_tariffs.info()"
   ]
  },
  {
   "cell_type": "code",
   "execution_count": 130,
   "metadata": {},
   "outputs": [
    {
     "data": {
      "text/html": [
       "<div>\n",
       "<style scoped>\n",
       "    .dataframe tbody tr th:only-of-type {\n",
       "        vertical-align: middle;\n",
       "    }\n",
       "\n",
       "    .dataframe tbody tr th {\n",
       "        vertical-align: top;\n",
       "    }\n",
       "\n",
       "    .dataframe thead th {\n",
       "        text-align: right;\n",
       "    }\n",
       "</style>\n",
       "<table border=\"1\" class=\"dataframe\">\n",
       "  <thead>\n",
       "    <tr style=\"text-align: right;\">\n",
       "      <th></th>\n",
       "      <th>user_id</th>\n",
       "      <th>age</th>\n",
       "      <th>churn_date</th>\n",
       "      <th>city</th>\n",
       "      <th>first_name</th>\n",
       "      <th>last_name</th>\n",
       "      <th>reg_date</th>\n",
       "      <th>tariff</th>\n",
       "    </tr>\n",
       "  </thead>\n",
       "  <tbody>\n",
       "    <tr>\n",
       "      <th>0</th>\n",
       "      <td>1000</td>\n",
       "      <td>52</td>\n",
       "      <td>NaN</td>\n",
       "      <td>Краснодар</td>\n",
       "      <td>Рафаил</td>\n",
       "      <td>Верещагин</td>\n",
       "      <td>2018-05-25</td>\n",
       "      <td>ultra</td>\n",
       "    </tr>\n",
       "    <tr>\n",
       "      <th>1</th>\n",
       "      <td>1001</td>\n",
       "      <td>41</td>\n",
       "      <td>NaN</td>\n",
       "      <td>Москва</td>\n",
       "      <td>Иван</td>\n",
       "      <td>Ежов</td>\n",
       "      <td>2018-11-01</td>\n",
       "      <td>smart</td>\n",
       "    </tr>\n",
       "    <tr>\n",
       "      <th>2</th>\n",
       "      <td>1002</td>\n",
       "      <td>59</td>\n",
       "      <td>NaN</td>\n",
       "      <td>Стерлитамак</td>\n",
       "      <td>Евгений</td>\n",
       "      <td>Абрамович</td>\n",
       "      <td>2018-06-17</td>\n",
       "      <td>smart</td>\n",
       "    </tr>\n",
       "    <tr>\n",
       "      <th>3</th>\n",
       "      <td>1003</td>\n",
       "      <td>23</td>\n",
       "      <td>NaN</td>\n",
       "      <td>Москва</td>\n",
       "      <td>Белла</td>\n",
       "      <td>Белякова</td>\n",
       "      <td>2018-08-17</td>\n",
       "      <td>ultra</td>\n",
       "    </tr>\n",
       "    <tr>\n",
       "      <th>4</th>\n",
       "      <td>1004</td>\n",
       "      <td>68</td>\n",
       "      <td>NaN</td>\n",
       "      <td>Новокузнецк</td>\n",
       "      <td>Татьяна</td>\n",
       "      <td>Авдеенко</td>\n",
       "      <td>2018-05-14</td>\n",
       "      <td>ultra</td>\n",
       "    </tr>\n",
       "  </tbody>\n",
       "</table>\n",
       "</div>"
      ],
      "text/plain": [
       "   user_id  age churn_date         city first_name  last_name    reg_date  \\\n",
       "0     1000   52        NaN    Краснодар     Рафаил  Верещагин  2018-05-25   \n",
       "1     1001   41        NaN       Москва       Иван       Ежов  2018-11-01   \n",
       "2     1002   59        NaN  Стерлитамак    Евгений  Абрамович  2018-06-17   \n",
       "3     1003   23        NaN       Москва      Белла   Белякова  2018-08-17   \n",
       "4     1004   68        NaN  Новокузнецк    Татьяна   Авдеенко  2018-05-14   \n",
       "\n",
       "  tariff  \n",
       "0  ultra  \n",
       "1  smart  \n",
       "2  smart  \n",
       "3  ultra  \n",
       "4  ultra  "
      ]
     },
     "execution_count": 130,
     "metadata": {},
     "output_type": "execute_result"
    }
   ],
   "source": [
    "df_users.head()"
   ]
  },
  {
   "cell_type": "code",
   "execution_count": 131,
   "metadata": {},
   "outputs": [
    {
     "name": "stdout",
     "output_type": "stream",
     "text": [
      "<class 'pandas.core.frame.DataFrame'>\n",
      "RangeIndex: 500 entries, 0 to 499\n",
      "Data columns (total 8 columns):\n",
      " #   Column      Non-Null Count  Dtype \n",
      "---  ------      --------------  ----- \n",
      " 0   user_id     500 non-null    int64 \n",
      " 1   age         500 non-null    int64 \n",
      " 2   churn_date  38 non-null     object\n",
      " 3   city        500 non-null    object\n",
      " 4   first_name  500 non-null    object\n",
      " 5   last_name   500 non-null    object\n",
      " 6   reg_date    500 non-null    object\n",
      " 7   tariff      500 non-null    object\n",
      "dtypes: int64(2), object(6)\n",
      "memory usage: 31.4+ KB\n"
     ]
    }
   ],
   "source": [
    "df_users.info()"
   ]
  },
  {
   "cell_type": "markdown",
   "metadata": {},
   "source": [
    " ### Вывод\n",
    "\n",
    "Таблица df_calls\n",
    "- call_date - заменить тип данных на datetime\n",
    "- duration - перевести в тип int\n",
    "\n",
    "\n",
    "Таблица df_internet\n",
    "- Unnamed: 0 - убрать столбец, тк он дублирует индексы\n",
    "- session_date - заменить тип данных на datetime\n",
    "- mb_used - перевести в тип int\n",
    "\n",
    "\n",
    "Таблица df_messages\n",
    "- message_date - заменить тип данных на datetime\n",
    "\n",
    "\n",
    "Таблица df_tariffs\n",
    "- Проблем не обнаружено\n",
    "\n",
    "\n",
    "Таблица df_users\n",
    "- churn_date - обработать пропуски\n",
    "- reg_date - заменить тип данных на datetime\n"
   ]
  },
  {
   "cell_type": "markdown",
   "metadata": {},
   "source": [
    "## Изменение типа данных, группировка"
   ]
  },
  {
   "cell_type": "markdown",
   "metadata": {},
   "source": [
    "<b>Изменяем тип данных:</b>"
   ]
  },
  {
   "cell_type": "code",
   "execution_count": 132,
   "metadata": {},
   "outputs": [],
   "source": [
    "#Переводим столбцы в формат даты\n",
    "df_calls['call_date'] = pd.to_datetime(df_calls['call_date'], format='%Y.%m.%d') \n",
    "df_internet['session_date'] = pd.to_datetime(df_internet['session_date'], format='%Y.%m.%d')   \n",
    "df_messages['message_date'] = pd.to_datetime(df_messages['message_date'], format='%Y.%m.%d')                                            \n",
    "df_users['reg_date'] = pd.to_datetime(df_users['reg_date'], format='%Y.%m.%d') \n",
    "\n",
    "#Округляем продолжительность звонка\n",
    "df_calls['duration'] = np.ceil(df_calls['duration'])\n",
    "                          "
   ]
  },
  {
   "cell_type": "markdown",
   "metadata": {},
   "source": [
    "В каждой таблице проведем группировку по месяцу и user_id"
   ]
  },
  {
   "cell_type": "markdown",
   "metadata": {},
   "source": [
    "<b>Проведем группировку для таблицы df_calls:</b>\n",
    "- создадим столбец с месяцем звонка\n",
    "- столбец с количеством звонков\n",
    "- сгруппируем таблицу"
   ]
  },
  {
   "cell_type": "code",
   "execution_count": 133,
   "metadata": {},
   "outputs": [
    {
     "data": {
      "text/html": [
       "<div>\n",
       "<style scoped>\n",
       "    .dataframe tbody tr th:only-of-type {\n",
       "        vertical-align: middle;\n",
       "    }\n",
       "\n",
       "    .dataframe tbody tr th {\n",
       "        vertical-align: top;\n",
       "    }\n",
       "\n",
       "    .dataframe thead th {\n",
       "        text-align: right;\n",
       "    }\n",
       "</style>\n",
       "<table border=\"1\" class=\"dataframe\">\n",
       "  <thead>\n",
       "    <tr style=\"text-align: right;\">\n",
       "      <th></th>\n",
       "      <th>month</th>\n",
       "      <th>user_id</th>\n",
       "      <th>duration</th>\n",
       "      <th>number_of_calls</th>\n",
       "    </tr>\n",
       "  </thead>\n",
       "  <tbody>\n",
       "    <tr>\n",
       "      <th>0</th>\n",
       "      <td>1</td>\n",
       "      <td>1005</td>\n",
       "      <td>95.0</td>\n",
       "      <td>15</td>\n",
       "    </tr>\n",
       "    <tr>\n",
       "      <th>1</th>\n",
       "      <td>1</td>\n",
       "      <td>1032</td>\n",
       "      <td>380.0</td>\n",
       "      <td>61</td>\n",
       "    </tr>\n",
       "    <tr>\n",
       "      <th>2</th>\n",
       "      <td>1</td>\n",
       "      <td>1045</td>\n",
       "      <td>9.0</td>\n",
       "      <td>1</td>\n",
       "    </tr>\n",
       "    <tr>\n",
       "      <th>3</th>\n",
       "      <td>1</td>\n",
       "      <td>1055</td>\n",
       "      <td>551.0</td>\n",
       "      <td>64</td>\n",
       "    </tr>\n",
       "    <tr>\n",
       "      <th>4</th>\n",
       "      <td>1</td>\n",
       "      <td>1071</td>\n",
       "      <td>194.0</td>\n",
       "      <td>24</td>\n",
       "    </tr>\n",
       "  </tbody>\n",
       "</table>\n",
       "</div>"
      ],
      "text/plain": [
       "   month  user_id  duration  number_of_calls\n",
       "0      1     1005      95.0               15\n",
       "1      1     1032     380.0               61\n",
       "2      1     1045       9.0                1\n",
       "3      1     1055     551.0               64\n",
       "4      1     1071     194.0               24"
      ]
     },
     "execution_count": 133,
     "metadata": {},
     "output_type": "execute_result"
    }
   ],
   "source": [
    "df_calls['month'] = pd.DatetimeIndex(df_calls['call_date']).month\n",
    "df_calls['number_of_calls'] = 1\n",
    "\n",
    "df_calls_grouped = df_calls.groupby(['month','user_id']).sum().reset_index()\n",
    "df_calls_grouped.head()"
   ]
  },
  {
   "cell_type": "markdown",
   "metadata": {},
   "source": [
    "Нули - это пропущенные или непринятые звонки.\n",
    "Поскольку дальше мы данные суммируем, они нам не помешают.\n",
    "\n",
    "Если бы мы обращались к количеству звонков или рассчитывали среднее - нули нужно было бы учесть."
   ]
  },
  {
   "cell_type": "markdown",
   "metadata": {},
   "source": [
    "<b>Проведем группировку для таблицы df_internet:</b>\n",
    "- создадим столбец с месяцем пользования\n",
    "- сгруппируем таблицу"
   ]
  },
  {
   "cell_type": "code",
   "execution_count": 134,
   "metadata": {},
   "outputs": [
    {
     "data": {
      "text/html": [
       "<div>\n",
       "<style scoped>\n",
       "    .dataframe tbody tr th:only-of-type {\n",
       "        vertical-align: middle;\n",
       "    }\n",
       "\n",
       "    .dataframe tbody tr th {\n",
       "        vertical-align: top;\n",
       "    }\n",
       "\n",
       "    .dataframe thead th {\n",
       "        text-align: right;\n",
       "    }\n",
       "</style>\n",
       "<table border=\"1\" class=\"dataframe\">\n",
       "  <thead>\n",
       "    <tr style=\"text-align: right;\">\n",
       "      <th></th>\n",
       "      <th>month</th>\n",
       "      <th>user_id</th>\n",
       "      <th>mb_used</th>\n",
       "    </tr>\n",
       "  </thead>\n",
       "  <tbody>\n",
       "    <tr>\n",
       "      <th>0</th>\n",
       "      <td>1</td>\n",
       "      <td>1005</td>\n",
       "      <td>3.0</td>\n",
       "    </tr>\n",
       "    <tr>\n",
       "      <th>1</th>\n",
       "      <td>1</td>\n",
       "      <td>1032</td>\n",
       "      <td>24.0</td>\n",
       "    </tr>\n",
       "    <tr>\n",
       "      <th>2</th>\n",
       "      <td>1</td>\n",
       "      <td>1045</td>\n",
       "      <td>3.0</td>\n",
       "    </tr>\n",
       "    <tr>\n",
       "      <th>3</th>\n",
       "      <td>1</td>\n",
       "      <td>1055</td>\n",
       "      <td>17.0</td>\n",
       "    </tr>\n",
       "    <tr>\n",
       "      <th>4</th>\n",
       "      <td>1</td>\n",
       "      <td>1071</td>\n",
       "      <td>16.0</td>\n",
       "    </tr>\n",
       "  </tbody>\n",
       "</table>\n",
       "</div>"
      ],
      "text/plain": [
       "   month  user_id  mb_used\n",
       "0      1     1005      3.0\n",
       "1      1     1032     24.0\n",
       "2      1     1045      3.0\n",
       "3      1     1055     17.0\n",
       "4      1     1071     16.0"
      ]
     },
     "execution_count": 134,
     "metadata": {},
     "output_type": "execute_result"
    }
   ],
   "source": [
    "df_internet['month'] = pd.DatetimeIndex(df_internet['session_date']).month\n",
    "df_internet_grouped = df_internet.groupby(['month','user_id']).sum().reset_index()\n",
    "\n",
    "#Округляем количество Мб в большую сторону\n",
    "df_internet_grouped['mb_used'] = (df_internet_grouped['mb_used']/1024).apply(np.ceil)\n",
    "\n",
    "df_internet_grouped.head()"
   ]
  },
  {
   "cell_type": "markdown",
   "metadata": {},
   "source": [
    "<b>Проведем группировку для таблицы messages:</b>\n",
    "- создадим столбец с месяцем пользования\n",
    "- столбец с количеством сообщений\n",
    "- сгруппируем таблицу"
   ]
  },
  {
   "cell_type": "code",
   "execution_count": 135,
   "metadata": {},
   "outputs": [
    {
     "data": {
      "text/html": [
       "<div>\n",
       "<style scoped>\n",
       "    .dataframe tbody tr th:only-of-type {\n",
       "        vertical-align: middle;\n",
       "    }\n",
       "\n",
       "    .dataframe tbody tr th {\n",
       "        vertical-align: top;\n",
       "    }\n",
       "\n",
       "    .dataframe thead th {\n",
       "        text-align: right;\n",
       "    }\n",
       "</style>\n",
       "<table border=\"1\" class=\"dataframe\">\n",
       "  <thead>\n",
       "    <tr style=\"text-align: right;\">\n",
       "      <th></th>\n",
       "      <th>month</th>\n",
       "      <th>user_id</th>\n",
       "      <th>number_of_messages</th>\n",
       "    </tr>\n",
       "  </thead>\n",
       "  <tbody>\n",
       "    <tr>\n",
       "      <th>0</th>\n",
       "      <td>1</td>\n",
       "      <td>1005</td>\n",
       "      <td>7</td>\n",
       "    </tr>\n",
       "    <tr>\n",
       "      <th>1</th>\n",
       "      <td>1</td>\n",
       "      <td>1032</td>\n",
       "      <td>38</td>\n",
       "    </tr>\n",
       "    <tr>\n",
       "      <th>2</th>\n",
       "      <td>1</td>\n",
       "      <td>1045</td>\n",
       "      <td>5</td>\n",
       "    </tr>\n",
       "    <tr>\n",
       "      <th>3</th>\n",
       "      <td>1</td>\n",
       "      <td>1055</td>\n",
       "      <td>30</td>\n",
       "    </tr>\n",
       "    <tr>\n",
       "      <th>4</th>\n",
       "      <td>1</td>\n",
       "      <td>1071</td>\n",
       "      <td>16</td>\n",
       "    </tr>\n",
       "  </tbody>\n",
       "</table>\n",
       "</div>"
      ],
      "text/plain": [
       "   month  user_id  number_of_messages\n",
       "0      1     1005                   7\n",
       "1      1     1032                  38\n",
       "2      1     1045                   5\n",
       "3      1     1055                  30\n",
       "4      1     1071                  16"
      ]
     },
     "execution_count": 135,
     "metadata": {},
     "output_type": "execute_result"
    }
   ],
   "source": [
    "df_messages['month'] = pd.DatetimeIndex(df_messages['message_date']).month\n",
    "df_messages['number_of_messages'] = 1\n",
    "\n",
    "df_messages_grouped = df_messages[['month', 'user_id', 'number_of_messages']].groupby(['month','user_id']).sum().reset_index()\n",
    "\n",
    "df_messages_grouped.head()"
   ]
  },
  {
   "cell_type": "markdown",
   "metadata": {},
   "source": [
    "## Объединение таблиц, обработка пропусков"
   ]
  },
  {
   "cell_type": "markdown",
   "metadata": {},
   "source": [
    "Будем объединять по общему столбцу - user_id и month"
   ]
  },
  {
   "cell_type": "code",
   "execution_count": 136,
   "metadata": {},
   "outputs": [
    {
     "data": {
      "text/html": [
       "<div>\n",
       "<style scoped>\n",
       "    .dataframe tbody tr th:only-of-type {\n",
       "        vertical-align: middle;\n",
       "    }\n",
       "\n",
       "    .dataframe tbody tr th {\n",
       "        vertical-align: top;\n",
       "    }\n",
       "\n",
       "    .dataframe thead th {\n",
       "        text-align: right;\n",
       "    }\n",
       "</style>\n",
       "<table border=\"1\" class=\"dataframe\">\n",
       "  <thead>\n",
       "    <tr style=\"text-align: right;\">\n",
       "      <th></th>\n",
       "      <th>month</th>\n",
       "      <th>user_id</th>\n",
       "      <th>duration</th>\n",
       "      <th>number_of_calls</th>\n",
       "      <th>mb_used</th>\n",
       "      <th>number_of_messages</th>\n",
       "      <th>tariff</th>\n",
       "      <th>churn_date</th>\n",
       "      <th>city</th>\n",
       "      <th>reg_date</th>\n",
       "    </tr>\n",
       "  </thead>\n",
       "  <tbody>\n",
       "    <tr>\n",
       "      <th>0</th>\n",
       "      <td>1</td>\n",
       "      <td>1005</td>\n",
       "      <td>95.0</td>\n",
       "      <td>15.0</td>\n",
       "      <td>3.0</td>\n",
       "      <td>7.0</td>\n",
       "      <td>smart</td>\n",
       "      <td>NaN</td>\n",
       "      <td>Набережные Челны</td>\n",
       "      <td>2018-01-25</td>\n",
       "    </tr>\n",
       "    <tr>\n",
       "      <th>1</th>\n",
       "      <td>1</td>\n",
       "      <td>1032</td>\n",
       "      <td>380.0</td>\n",
       "      <td>61.0</td>\n",
       "      <td>24.0</td>\n",
       "      <td>38.0</td>\n",
       "      <td>smart</td>\n",
       "      <td>NaN</td>\n",
       "      <td>Ульяновск</td>\n",
       "      <td>2018-01-04</td>\n",
       "    </tr>\n",
       "    <tr>\n",
       "      <th>2</th>\n",
       "      <td>1</td>\n",
       "      <td>1045</td>\n",
       "      <td>9.0</td>\n",
       "      <td>1.0</td>\n",
       "      <td>3.0</td>\n",
       "      <td>5.0</td>\n",
       "      <td>smart</td>\n",
       "      <td>NaN</td>\n",
       "      <td>Улан-Удэ</td>\n",
       "      <td>2018-01-30</td>\n",
       "    </tr>\n",
       "    <tr>\n",
       "      <th>3</th>\n",
       "      <td>1</td>\n",
       "      <td>1055</td>\n",
       "      <td>551.0</td>\n",
       "      <td>64.0</td>\n",
       "      <td>17.0</td>\n",
       "      <td>30.0</td>\n",
       "      <td>smart</td>\n",
       "      <td>NaN</td>\n",
       "      <td>Казань</td>\n",
       "      <td>2018-01-02</td>\n",
       "    </tr>\n",
       "    <tr>\n",
       "      <th>4</th>\n",
       "      <td>1</td>\n",
       "      <td>1071</td>\n",
       "      <td>194.0</td>\n",
       "      <td>24.0</td>\n",
       "      <td>16.0</td>\n",
       "      <td>16.0</td>\n",
       "      <td>smart</td>\n",
       "      <td>2018-08-31</td>\n",
       "      <td>Омск</td>\n",
       "      <td>2018-01-09</td>\n",
       "    </tr>\n",
       "    <tr>\n",
       "      <th>5</th>\n",
       "      <td>1</td>\n",
       "      <td>1113</td>\n",
       "      <td>110.0</td>\n",
       "      <td>18.0</td>\n",
       "      <td>1.0</td>\n",
       "      <td>14.0</td>\n",
       "      <td>smart</td>\n",
       "      <td>NaN</td>\n",
       "      <td>Чита</td>\n",
       "      <td>2018-01-24</td>\n",
       "    </tr>\n",
       "    <tr>\n",
       "      <th>6</th>\n",
       "      <td>1</td>\n",
       "      <td>1120</td>\n",
       "      <td>55.0</td>\n",
       "      <td>5.0</td>\n",
       "      <td>1.0</td>\n",
       "      <td>NaN</td>\n",
       "      <td>ultra</td>\n",
       "      <td>NaN</td>\n",
       "      <td>Краснодар</td>\n",
       "      <td>2018-01-24</td>\n",
       "    </tr>\n",
       "    <tr>\n",
       "      <th>7</th>\n",
       "      <td>1</td>\n",
       "      <td>1126</td>\n",
       "      <td>272.0</td>\n",
       "      <td>35.0</td>\n",
       "      <td>16.0</td>\n",
       "      <td>4.0</td>\n",
       "      <td>ultra</td>\n",
       "      <td>NaN</td>\n",
       "      <td>Санкт-Петербург</td>\n",
       "      <td>2018-01-19</td>\n",
       "    </tr>\n",
       "    <tr>\n",
       "      <th>8</th>\n",
       "      <td>1</td>\n",
       "      <td>1134</td>\n",
       "      <td>332.0</td>\n",
       "      <td>42.0</td>\n",
       "      <td>10.0</td>\n",
       "      <td>32.0</td>\n",
       "      <td>smart</td>\n",
       "      <td>NaN</td>\n",
       "      <td>Красноярск</td>\n",
       "      <td>2018-01-16</td>\n",
       "    </tr>\n",
       "    <tr>\n",
       "      <th>9</th>\n",
       "      <td>1</td>\n",
       "      <td>1135</td>\n",
       "      <td>90.0</td>\n",
       "      <td>9.0</td>\n",
       "      <td>2.0</td>\n",
       "      <td>1.0</td>\n",
       "      <td>smart</td>\n",
       "      <td>NaN</td>\n",
       "      <td>Архангельск</td>\n",
       "      <td>2018-01-29</td>\n",
       "    </tr>\n",
       "  </tbody>\n",
       "</table>\n",
       "</div>"
      ],
      "text/plain": [
       "   month  user_id  duration  number_of_calls  mb_used  number_of_messages  \\\n",
       "0      1     1005      95.0             15.0      3.0                 7.0   \n",
       "1      1     1032     380.0             61.0     24.0                38.0   \n",
       "2      1     1045       9.0              1.0      3.0                 5.0   \n",
       "3      1     1055     551.0             64.0     17.0                30.0   \n",
       "4      1     1071     194.0             24.0     16.0                16.0   \n",
       "5      1     1113     110.0             18.0      1.0                14.0   \n",
       "6      1     1120      55.0              5.0      1.0                 NaN   \n",
       "7      1     1126     272.0             35.0     16.0                 4.0   \n",
       "8      1     1134     332.0             42.0     10.0                32.0   \n",
       "9      1     1135      90.0              9.0      2.0                 1.0   \n",
       "\n",
       "  tariff  churn_date              city   reg_date  \n",
       "0  smart         NaN  Набережные Челны 2018-01-25  \n",
       "1  smart         NaN         Ульяновск 2018-01-04  \n",
       "2  smart         NaN          Улан-Удэ 2018-01-30  \n",
       "3  smart         NaN            Казань 2018-01-02  \n",
       "4  smart  2018-08-31              Омск 2018-01-09  \n",
       "5  smart         NaN              Чита 2018-01-24  \n",
       "6  ultra         NaN         Краснодар 2018-01-24  \n",
       "7  ultra         NaN   Санкт-Петербург 2018-01-19  \n",
       "8  smart         NaN        Красноярск 2018-01-16  \n",
       "9  smart         NaN       Архангельск 2018-01-29  "
      ]
     },
     "execution_count": 136,
     "metadata": {},
     "output_type": "execute_result"
    }
   ],
   "source": [
    "df_united = df_calls_grouped.merge(\n",
    "    df_internet_grouped, on=['user_id', 'month'], how='outer').merge(\n",
    "    df_messages_grouped, on=['user_id', 'month'], how='outer').merge(\n",
    "    df_users[['user_id', 'tariff', 'churn_date', 'city', 'reg_date']], how = 'left', on ='user_id')\n",
    "df_united.head(10)"
   ]
  },
  {
   "cell_type": "markdown",
   "metadata": {},
   "source": [
    "Посмотрим информацию о пропусках:"
   ]
  },
  {
   "cell_type": "code",
   "execution_count": 137,
   "metadata": {},
   "outputs": [
    {
     "data": {
      "text/plain": [
       "month                    0\n",
       "user_id                  0\n",
       "duration                40\n",
       "number_of_calls         40\n",
       "mb_used                 11\n",
       "number_of_messages     497\n",
       "tariff                   0\n",
       "churn_date            3027\n",
       "city                     0\n",
       "reg_date                 0\n",
       "dtype: int64"
      ]
     },
     "execution_count": 137,
     "metadata": {},
     "output_type": "execute_result"
    }
   ],
   "source": [
    "df_united.isna().sum()"
   ]
  },
  {
   "cell_type": "markdown",
   "metadata": {},
   "source": [
    "Столбец 'churn_date' - дата прекращения пользования тарифом.\n",
    "\n",
    "Пропуск означает, что тарифом еще пользуются, поэтому заменяем пропуски на 0."
   ]
  },
  {
   "cell_type": "code",
   "execution_count": 138,
   "metadata": {},
   "outputs": [],
   "source": [
    "df_united['churn_date'] = df_united['churn_date'].fillna(0)"
   ]
  },
  {
   "cell_type": "markdown",
   "metadata": {},
   "source": [
    "Посмотрим столбец duration\n",
    "У 40 пользователей из всего датафрейма не было звонков. Большинство - пользователи тарифа ultra.\n",
    "\n",
    "Тариф ультра включает больше бесплатных сообщений и гб интернета. Есть вероятность, что эти пользователи и не пользовались звонками, потэому заменяем их на 0."
   ]
  },
  {
   "cell_type": "code",
   "execution_count": 139,
   "metadata": {},
   "outputs": [
    {
     "data": {
      "text/html": [
       "<div>\n",
       "<style scoped>\n",
       "    .dataframe tbody tr th:only-of-type {\n",
       "        vertical-align: middle;\n",
       "    }\n",
       "\n",
       "    .dataframe tbody tr th {\n",
       "        vertical-align: top;\n",
       "    }\n",
       "\n",
       "    .dataframe thead th {\n",
       "        text-align: right;\n",
       "    }\n",
       "</style>\n",
       "<table border=\"1\" class=\"dataframe\">\n",
       "  <thead>\n",
       "    <tr style=\"text-align: right;\">\n",
       "      <th></th>\n",
       "      <th>month</th>\n",
       "      <th>user_id</th>\n",
       "      <th>duration</th>\n",
       "      <th>number_of_calls</th>\n",
       "      <th>mb_used</th>\n",
       "      <th>number_of_messages</th>\n",
       "      <th>tariff</th>\n",
       "      <th>churn_date</th>\n",
       "      <th>city</th>\n",
       "      <th>reg_date</th>\n",
       "    </tr>\n",
       "  </thead>\n",
       "  <tbody>\n",
       "    <tr>\n",
       "      <th>3174</th>\n",
       "      <td>4</td>\n",
       "      <td>1106</td>\n",
       "      <td>NaN</td>\n",
       "      <td>NaN</td>\n",
       "      <td>3.0</td>\n",
       "      <td>9.0</td>\n",
       "      <td>ultra</td>\n",
       "      <td>0</td>\n",
       "      <td>Калуга</td>\n",
       "      <td>2018-04-26</td>\n",
       "    </tr>\n",
       "    <tr>\n",
       "      <th>3175</th>\n",
       "      <td>4</td>\n",
       "      <td>1476</td>\n",
       "      <td>NaN</td>\n",
       "      <td>NaN</td>\n",
       "      <td>1.0</td>\n",
       "      <td>NaN</td>\n",
       "      <td>ultra</td>\n",
       "      <td>0</td>\n",
       "      <td>Москва</td>\n",
       "      <td>2018-04-30</td>\n",
       "    </tr>\n",
       "    <tr>\n",
       "      <th>3176</th>\n",
       "      <td>5</td>\n",
       "      <td>1091</td>\n",
       "      <td>NaN</td>\n",
       "      <td>NaN</td>\n",
       "      <td>11.0</td>\n",
       "      <td>30.0</td>\n",
       "      <td>ultra</td>\n",
       "      <td>0</td>\n",
       "      <td>Набережные Челны</td>\n",
       "      <td>2018-05-08</td>\n",
       "    </tr>\n",
       "    <tr>\n",
       "      <th>3177</th>\n",
       "      <td>5</td>\n",
       "      <td>1106</td>\n",
       "      <td>NaN</td>\n",
       "      <td>NaN</td>\n",
       "      <td>17.0</td>\n",
       "      <td>28.0</td>\n",
       "      <td>ultra</td>\n",
       "      <td>0</td>\n",
       "      <td>Калуга</td>\n",
       "      <td>2018-04-26</td>\n",
       "    </tr>\n",
       "    <tr>\n",
       "      <th>3178</th>\n",
       "      <td>5</td>\n",
       "      <td>1231</td>\n",
       "      <td>NaN</td>\n",
       "      <td>NaN</td>\n",
       "      <td>11.0</td>\n",
       "      <td>55.0</td>\n",
       "      <td>ultra</td>\n",
       "      <td>0</td>\n",
       "      <td>Чебоксары</td>\n",
       "      <td>2018-05-23</td>\n",
       "    </tr>\n",
       "  </tbody>\n",
       "</table>\n",
       "</div>"
      ],
      "text/plain": [
       "      month  user_id  duration  number_of_calls  mb_used  number_of_messages  \\\n",
       "3174      4     1106       NaN              NaN      3.0                 9.0   \n",
       "3175      4     1476       NaN              NaN      1.0                 NaN   \n",
       "3176      5     1091       NaN              NaN     11.0                30.0   \n",
       "3177      5     1106       NaN              NaN     17.0                28.0   \n",
       "3178      5     1231       NaN              NaN     11.0                55.0   \n",
       "\n",
       "     tariff churn_date              city   reg_date  \n",
       "3174  ultra          0            Калуга 2018-04-26  \n",
       "3175  ultra          0            Москва 2018-04-30  \n",
       "3176  ultra          0  Набережные Челны 2018-05-08  \n",
       "3177  ultra          0            Калуга 2018-04-26  \n",
       "3178  ultra          0         Чебоксары 2018-05-23  "
      ]
     },
     "execution_count": 139,
     "metadata": {},
     "output_type": "execute_result"
    }
   ],
   "source": [
    "df_united[df_united['duration'].isna()].head()"
   ]
  },
  {
   "cell_type": "code",
   "execution_count": 140,
   "metadata": {},
   "outputs": [
    {
     "data": {
      "text/html": [
       "<div>\n",
       "<style scoped>\n",
       "    .dataframe tbody tr th:only-of-type {\n",
       "        vertical-align: middle;\n",
       "    }\n",
       "\n",
       "    .dataframe tbody tr th {\n",
       "        vertical-align: top;\n",
       "    }\n",
       "\n",
       "    .dataframe thead th {\n",
       "        text-align: right;\n",
       "    }\n",
       "</style>\n",
       "<table border=\"1\" class=\"dataframe\">\n",
       "  <thead>\n",
       "    <tr style=\"text-align: right;\">\n",
       "      <th></th>\n",
       "      <th>month</th>\n",
       "      <th>user_id</th>\n",
       "      <th>duration</th>\n",
       "      <th>number_of_calls</th>\n",
       "      <th>mb_used</th>\n",
       "      <th>number_of_messages</th>\n",
       "      <th>tariff</th>\n",
       "      <th>churn_date</th>\n",
       "      <th>city</th>\n",
       "      <th>reg_date</th>\n",
       "    </tr>\n",
       "  </thead>\n",
       "  <tbody>\n",
       "    <tr>\n",
       "      <th>27</th>\n",
       "      <td>1</td>\n",
       "      <td>1373</td>\n",
       "      <td>0.0</td>\n",
       "      <td>2.0</td>\n",
       "      <td>9.0</td>\n",
       "      <td>28.0</td>\n",
       "      <td>smart</td>\n",
       "      <td>0</td>\n",
       "      <td>Улан-Удэ</td>\n",
       "      <td>2018-01-17</td>\n",
       "    </tr>\n",
       "    <tr>\n",
       "      <th>75</th>\n",
       "      <td>2</td>\n",
       "      <td>1240</td>\n",
       "      <td>0.0</td>\n",
       "      <td>2.0</td>\n",
       "      <td>1.0</td>\n",
       "      <td>NaN</td>\n",
       "      <td>ultra</td>\n",
       "      <td>0</td>\n",
       "      <td>Воронеж</td>\n",
       "      <td>2018-02-27</td>\n",
       "    </tr>\n",
       "    <tr>\n",
       "      <th>355</th>\n",
       "      <td>4</td>\n",
       "      <td>1373</td>\n",
       "      <td>0.0</td>\n",
       "      <td>1.0</td>\n",
       "      <td>20.0</td>\n",
       "      <td>48.0</td>\n",
       "      <td>smart</td>\n",
       "      <td>0</td>\n",
       "      <td>Улан-Удэ</td>\n",
       "      <td>2018-01-17</td>\n",
       "    </tr>\n",
       "    <tr>\n",
       "      <th>1003</th>\n",
       "      <td>7</td>\n",
       "      <td>1257</td>\n",
       "      <td>0.0</td>\n",
       "      <td>1.0</td>\n",
       "      <td>20.0</td>\n",
       "      <td>146.0</td>\n",
       "      <td>ultra</td>\n",
       "      <td>0</td>\n",
       "      <td>Санкт-Петербург</td>\n",
       "      <td>2018-06-17</td>\n",
       "    </tr>\n",
       "    <tr>\n",
       "      <th>1310</th>\n",
       "      <td>8</td>\n",
       "      <td>1257</td>\n",
       "      <td>0.0</td>\n",
       "      <td>2.0</td>\n",
       "      <td>25.0</td>\n",
       "      <td>157.0</td>\n",
       "      <td>ultra</td>\n",
       "      <td>0</td>\n",
       "      <td>Санкт-Петербург</td>\n",
       "      <td>2018-06-17</td>\n",
       "    </tr>\n",
       "    <tr>\n",
       "      <th>1661</th>\n",
       "      <td>9</td>\n",
       "      <td>1257</td>\n",
       "      <td>0.0</td>\n",
       "      <td>1.0</td>\n",
       "      <td>23.0</td>\n",
       "      <td>153.0</td>\n",
       "      <td>ultra</td>\n",
       "      <td>0</td>\n",
       "      <td>Санкт-Петербург</td>\n",
       "      <td>2018-06-17</td>\n",
       "    </tr>\n",
       "  </tbody>\n",
       "</table>\n",
       "</div>"
      ],
      "text/plain": [
       "      month  user_id  duration  number_of_calls  mb_used  number_of_messages  \\\n",
       "27        1     1373       0.0              2.0      9.0                28.0   \n",
       "75        2     1240       0.0              2.0      1.0                 NaN   \n",
       "355       4     1373       0.0              1.0     20.0                48.0   \n",
       "1003      7     1257       0.0              1.0     20.0               146.0   \n",
       "1310      8     1257       0.0              2.0     25.0               157.0   \n",
       "1661      9     1257       0.0              1.0     23.0               153.0   \n",
       "\n",
       "     tariff churn_date             city   reg_date  \n",
       "27    smart          0         Улан-Удэ 2018-01-17  \n",
       "75    ultra          0          Воронеж 2018-02-27  \n",
       "355   smart          0         Улан-Удэ 2018-01-17  \n",
       "1003  ultra          0  Санкт-Петербург 2018-06-17  \n",
       "1310  ultra          0  Санкт-Петербург 2018-06-17  \n",
       "1661  ultra          0  Санкт-Петербург 2018-06-17  "
      ]
     },
     "execution_count": 140,
     "metadata": {},
     "output_type": "execute_result"
    }
   ],
   "source": [
    "df_united[df_united['duration'] == 0]"
   ]
  },
  {
   "cell_type": "code",
   "execution_count": 141,
   "metadata": {},
   "outputs": [],
   "source": [
    "df_united['duration'] = df_united['duration'].fillna(0)"
   ]
  },
  {
   "cell_type": "markdown",
   "metadata": {},
   "source": [
    "Просмотрим пропуски в столбце с трафиком.\n",
    "\n",
    "Видим, что почти все пропуски принадлежат пользователю с id - 1273. \n",
    "Человек активно пользуется звонками, но совсем не пользуется интернетом.\n",
    "\n",
    "Заменяем на 0."
   ]
  },
  {
   "cell_type": "code",
   "execution_count": 142,
   "metadata": {},
   "outputs": [
    {
     "data": {
      "text/html": [
       "<div>\n",
       "<style scoped>\n",
       "    .dataframe tbody tr th:only-of-type {\n",
       "        vertical-align: middle;\n",
       "    }\n",
       "\n",
       "    .dataframe tbody tr th {\n",
       "        vertical-align: top;\n",
       "    }\n",
       "\n",
       "    .dataframe thead th {\n",
       "        text-align: right;\n",
       "    }\n",
       "</style>\n",
       "<table border=\"1\" class=\"dataframe\">\n",
       "  <thead>\n",
       "    <tr style=\"text-align: right;\">\n",
       "      <th></th>\n",
       "      <th>month</th>\n",
       "      <th>user_id</th>\n",
       "      <th>duration</th>\n",
       "      <th>number_of_calls</th>\n",
       "      <th>mb_used</th>\n",
       "      <th>number_of_messages</th>\n",
       "      <th>tariff</th>\n",
       "      <th>churn_date</th>\n",
       "      <th>city</th>\n",
       "      <th>reg_date</th>\n",
       "    </tr>\n",
       "  </thead>\n",
       "  <tbody>\n",
       "    <tr>\n",
       "      <th>97</th>\n",
       "      <td>2</td>\n",
       "      <td>1377</td>\n",
       "      <td>179.0</td>\n",
       "      <td>23.0</td>\n",
       "      <td>NaN</td>\n",
       "      <td>2.0</td>\n",
       "      <td>ultra</td>\n",
       "      <td>0</td>\n",
       "      <td>Брянск</td>\n",
       "      <td>2018-02-25</td>\n",
       "    </tr>\n",
       "    <tr>\n",
       "      <th>101</th>\n",
       "      <td>2</td>\n",
       "      <td>1392</td>\n",
       "      <td>13.0</td>\n",
       "      <td>2.0</td>\n",
       "      <td>NaN</td>\n",
       "      <td>3.0</td>\n",
       "      <td>ultra</td>\n",
       "      <td>2018-09-27</td>\n",
       "      <td>Челябинск</td>\n",
       "      <td>2018-02-27</td>\n",
       "    </tr>\n",
       "    <tr>\n",
       "      <th>515</th>\n",
       "      <td>5</td>\n",
       "      <td>1273</td>\n",
       "      <td>220.0</td>\n",
       "      <td>24.0</td>\n",
       "      <td>NaN</td>\n",
       "      <td>21.0</td>\n",
       "      <td>ultra</td>\n",
       "      <td>0</td>\n",
       "      <td>Курган</td>\n",
       "      <td>2018-05-15</td>\n",
       "    </tr>\n",
       "    <tr>\n",
       "      <th>747</th>\n",
       "      <td>6</td>\n",
       "      <td>1273</td>\n",
       "      <td>230.0</td>\n",
       "      <td>40.0</td>\n",
       "      <td>NaN</td>\n",
       "      <td>38.0</td>\n",
       "      <td>ultra</td>\n",
       "      <td>0</td>\n",
       "      <td>Курган</td>\n",
       "      <td>2018-05-15</td>\n",
       "    </tr>\n",
       "    <tr>\n",
       "      <th>1014</th>\n",
       "      <td>7</td>\n",
       "      <td>1273</td>\n",
       "      <td>253.0</td>\n",
       "      <td>44.0</td>\n",
       "      <td>NaN</td>\n",
       "      <td>37.0</td>\n",
       "      <td>ultra</td>\n",
       "      <td>0</td>\n",
       "      <td>Курган</td>\n",
       "      <td>2018-05-15</td>\n",
       "    </tr>\n",
       "    <tr>\n",
       "      <th>1323</th>\n",
       "      <td>8</td>\n",
       "      <td>1273</td>\n",
       "      <td>253.0</td>\n",
       "      <td>53.0</td>\n",
       "      <td>NaN</td>\n",
       "      <td>41.0</td>\n",
       "      <td>ultra</td>\n",
       "      <td>0</td>\n",
       "      <td>Курган</td>\n",
       "      <td>2018-05-15</td>\n",
       "    </tr>\n",
       "    <tr>\n",
       "      <th>1443</th>\n",
       "      <td>8</td>\n",
       "      <td>1446</td>\n",
       "      <td>50.0</td>\n",
       "      <td>4.0</td>\n",
       "      <td>NaN</td>\n",
       "      <td>1.0</td>\n",
       "      <td>smart</td>\n",
       "      <td>0</td>\n",
       "      <td>Липецк</td>\n",
       "      <td>2018-08-31</td>\n",
       "    </tr>\n",
       "    <tr>\n",
       "      <th>1674</th>\n",
       "      <td>9</td>\n",
       "      <td>1273</td>\n",
       "      <td>223.0</td>\n",
       "      <td>33.0</td>\n",
       "      <td>NaN</td>\n",
       "      <td>32.0</td>\n",
       "      <td>ultra</td>\n",
       "      <td>0</td>\n",
       "      <td>Курган</td>\n",
       "      <td>2018-05-15</td>\n",
       "    </tr>\n",
       "    <tr>\n",
       "      <th>2068</th>\n",
       "      <td>10</td>\n",
       "      <td>1273</td>\n",
       "      <td>315.0</td>\n",
       "      <td>40.0</td>\n",
       "      <td>NaN</td>\n",
       "      <td>35.0</td>\n",
       "      <td>ultra</td>\n",
       "      <td>0</td>\n",
       "      <td>Курган</td>\n",
       "      <td>2018-05-15</td>\n",
       "    </tr>\n",
       "    <tr>\n",
       "      <th>2498</th>\n",
       "      <td>11</td>\n",
       "      <td>1273</td>\n",
       "      <td>272.0</td>\n",
       "      <td>45.0</td>\n",
       "      <td>NaN</td>\n",
       "      <td>29.0</td>\n",
       "      <td>ultra</td>\n",
       "      <td>0</td>\n",
       "      <td>Курган</td>\n",
       "      <td>2018-05-15</td>\n",
       "    </tr>\n",
       "    <tr>\n",
       "      <th>2960</th>\n",
       "      <td>12</td>\n",
       "      <td>1273</td>\n",
       "      <td>260.0</td>\n",
       "      <td>41.0</td>\n",
       "      <td>NaN</td>\n",
       "      <td>39.0</td>\n",
       "      <td>ultra</td>\n",
       "      <td>0</td>\n",
       "      <td>Курган</td>\n",
       "      <td>2018-05-15</td>\n",
       "    </tr>\n",
       "  </tbody>\n",
       "</table>\n",
       "</div>"
      ],
      "text/plain": [
       "      month  user_id  duration  number_of_calls  mb_used  number_of_messages  \\\n",
       "97        2     1377     179.0             23.0      NaN                 2.0   \n",
       "101       2     1392      13.0              2.0      NaN                 3.0   \n",
       "515       5     1273     220.0             24.0      NaN                21.0   \n",
       "747       6     1273     230.0             40.0      NaN                38.0   \n",
       "1014      7     1273     253.0             44.0      NaN                37.0   \n",
       "1323      8     1273     253.0             53.0      NaN                41.0   \n",
       "1443      8     1446      50.0              4.0      NaN                 1.0   \n",
       "1674      9     1273     223.0             33.0      NaN                32.0   \n",
       "2068     10     1273     315.0             40.0      NaN                35.0   \n",
       "2498     11     1273     272.0             45.0      NaN                29.0   \n",
       "2960     12     1273     260.0             41.0      NaN                39.0   \n",
       "\n",
       "     tariff  churn_date       city   reg_date  \n",
       "97    ultra           0     Брянск 2018-02-25  \n",
       "101   ultra  2018-09-27  Челябинск 2018-02-27  \n",
       "515   ultra           0     Курган 2018-05-15  \n",
       "747   ultra           0     Курган 2018-05-15  \n",
       "1014  ultra           0     Курган 2018-05-15  \n",
       "1323  ultra           0     Курган 2018-05-15  \n",
       "1443  smart           0     Липецк 2018-08-31  \n",
       "1674  ultra           0     Курган 2018-05-15  \n",
       "2068  ultra           0     Курган 2018-05-15  \n",
       "2498  ultra           0     Курган 2018-05-15  \n",
       "2960  ultra           0     Курган 2018-05-15  "
      ]
     },
     "execution_count": 142,
     "metadata": {},
     "output_type": "execute_result"
    }
   ],
   "source": [
    "df_united[df_united['mb_used'].isna()]"
   ]
  },
  {
   "cell_type": "code",
   "execution_count": 143,
   "metadata": {},
   "outputs": [],
   "source": [
    "df_united['mb_used'] = df_united['mb_used'].fillna(0)"
   ]
  },
  {
   "cell_type": "markdown",
   "metadata": {},
   "source": [
    "Пропуски в столбцах number_of_messages и number_of_calls\n",
    "также заменим на 0.\n",
    "\n",
    "Они связаны с тем, что клиенты тарифов не пользовались либо сообщениями, либо звонками."
   ]
  },
  {
   "cell_type": "code",
   "execution_count": 144,
   "metadata": {},
   "outputs": [],
   "source": [
    "df_united['number_of_messages'] = df_united['number_of_messages'].fillna(0)\n",
    "df_united['number_of_calls'] = df_united['number_of_calls'].fillna(0)"
   ]
  },
  {
   "cell_type": "markdown",
   "metadata": {},
   "source": [
    "Просмотрим все пропуски:"
   ]
  },
  {
   "cell_type": "code",
   "execution_count": 145,
   "metadata": {},
   "outputs": [
    {
     "data": {
      "text/plain": [
       "month                 0\n",
       "user_id               0\n",
       "duration              0\n",
       "number_of_calls       0\n",
       "mb_used               0\n",
       "number_of_messages    0\n",
       "tariff                0\n",
       "churn_date            0\n",
       "city                  0\n",
       "reg_date              0\n",
       "dtype: int64"
      ]
     },
     "execution_count": 145,
     "metadata": {},
     "output_type": "execute_result"
    }
   ],
   "source": [
    "df_united.isna().sum()"
   ]
  },
  {
   "cell_type": "markdown",
   "metadata": {},
   "source": [
    "## Расчёты показателей, вывод сводных таблицы"
   ]
  },
  {
   "cell_type": "markdown",
   "metadata": {},
   "source": [
    "<b>Рассчитаем помесячную выручку с каждого пользователя</b>"
   ]
  },
  {
   "cell_type": "markdown",
   "metadata": {},
   "source": [
    "Добавим в таблицу информацию о тарифах.\n",
    "\n",
    "Для объединения таблиц сначала переименуем столбец tariff_name => tariff"
   ]
  },
  {
   "cell_type": "code",
   "execution_count": 146,
   "metadata": {},
   "outputs": [],
   "source": [
    "df_tariffs.rename(columns = {'tariff_name':'tariff'}, inplace = True)"
   ]
  },
  {
   "cell_type": "markdown",
   "metadata": {},
   "source": [
    "Объединим таблицы:"
   ]
  },
  {
   "cell_type": "code",
   "execution_count": 147,
   "metadata": {},
   "outputs": [
    {
     "data": {
      "text/html": [
       "<div>\n",
       "<style scoped>\n",
       "    .dataframe tbody tr th:only-of-type {\n",
       "        vertical-align: middle;\n",
       "    }\n",
       "\n",
       "    .dataframe tbody tr th {\n",
       "        vertical-align: top;\n",
       "    }\n",
       "\n",
       "    .dataframe thead th {\n",
       "        text-align: right;\n",
       "    }\n",
       "</style>\n",
       "<table border=\"1\" class=\"dataframe\">\n",
       "  <thead>\n",
       "    <tr style=\"text-align: right;\">\n",
       "      <th></th>\n",
       "      <th>month</th>\n",
       "      <th>user_id</th>\n",
       "      <th>duration</th>\n",
       "      <th>number_of_calls</th>\n",
       "      <th>mb_used</th>\n",
       "      <th>number_of_messages</th>\n",
       "      <th>tariff</th>\n",
       "      <th>churn_date</th>\n",
       "      <th>city</th>\n",
       "      <th>reg_date</th>\n",
       "      <th>messages_included</th>\n",
       "      <th>mb_per_month_included</th>\n",
       "      <th>minutes_included</th>\n",
       "      <th>rub_monthly_fee</th>\n",
       "      <th>rub_per_gb</th>\n",
       "      <th>rub_per_message</th>\n",
       "      <th>rub_per_minute</th>\n",
       "    </tr>\n",
       "  </thead>\n",
       "  <tbody>\n",
       "    <tr>\n",
       "      <th>0</th>\n",
       "      <td>1</td>\n",
       "      <td>1005</td>\n",
       "      <td>95.0</td>\n",
       "      <td>15.0</td>\n",
       "      <td>3.0</td>\n",
       "      <td>7.0</td>\n",
       "      <td>smart</td>\n",
       "      <td>0</td>\n",
       "      <td>Набережные Челны</td>\n",
       "      <td>2018-01-25</td>\n",
       "      <td>50</td>\n",
       "      <td>15360</td>\n",
       "      <td>500</td>\n",
       "      <td>550</td>\n",
       "      <td>200</td>\n",
       "      <td>3</td>\n",
       "      <td>3</td>\n",
       "    </tr>\n",
       "    <tr>\n",
       "      <th>1</th>\n",
       "      <td>1</td>\n",
       "      <td>1032</td>\n",
       "      <td>380.0</td>\n",
       "      <td>61.0</td>\n",
       "      <td>24.0</td>\n",
       "      <td>38.0</td>\n",
       "      <td>smart</td>\n",
       "      <td>0</td>\n",
       "      <td>Ульяновск</td>\n",
       "      <td>2018-01-04</td>\n",
       "      <td>50</td>\n",
       "      <td>15360</td>\n",
       "      <td>500</td>\n",
       "      <td>550</td>\n",
       "      <td>200</td>\n",
       "      <td>3</td>\n",
       "      <td>3</td>\n",
       "    </tr>\n",
       "    <tr>\n",
       "      <th>2</th>\n",
       "      <td>1</td>\n",
       "      <td>1045</td>\n",
       "      <td>9.0</td>\n",
       "      <td>1.0</td>\n",
       "      <td>3.0</td>\n",
       "      <td>5.0</td>\n",
       "      <td>smart</td>\n",
       "      <td>0</td>\n",
       "      <td>Улан-Удэ</td>\n",
       "      <td>2018-01-30</td>\n",
       "      <td>50</td>\n",
       "      <td>15360</td>\n",
       "      <td>500</td>\n",
       "      <td>550</td>\n",
       "      <td>200</td>\n",
       "      <td>3</td>\n",
       "      <td>3</td>\n",
       "    </tr>\n",
       "    <tr>\n",
       "      <th>3</th>\n",
       "      <td>1</td>\n",
       "      <td>1055</td>\n",
       "      <td>551.0</td>\n",
       "      <td>64.0</td>\n",
       "      <td>17.0</td>\n",
       "      <td>30.0</td>\n",
       "      <td>smart</td>\n",
       "      <td>0</td>\n",
       "      <td>Казань</td>\n",
       "      <td>2018-01-02</td>\n",
       "      <td>50</td>\n",
       "      <td>15360</td>\n",
       "      <td>500</td>\n",
       "      <td>550</td>\n",
       "      <td>200</td>\n",
       "      <td>3</td>\n",
       "      <td>3</td>\n",
       "    </tr>\n",
       "    <tr>\n",
       "      <th>4</th>\n",
       "      <td>1</td>\n",
       "      <td>1071</td>\n",
       "      <td>194.0</td>\n",
       "      <td>24.0</td>\n",
       "      <td>16.0</td>\n",
       "      <td>16.0</td>\n",
       "      <td>smart</td>\n",
       "      <td>2018-08-31</td>\n",
       "      <td>Омск</td>\n",
       "      <td>2018-01-09</td>\n",
       "      <td>50</td>\n",
       "      <td>15360</td>\n",
       "      <td>500</td>\n",
       "      <td>550</td>\n",
       "      <td>200</td>\n",
       "      <td>3</td>\n",
       "      <td>3</td>\n",
       "    </tr>\n",
       "  </tbody>\n",
       "</table>\n",
       "</div>"
      ],
      "text/plain": [
       "   month  user_id  duration  number_of_calls  mb_used  number_of_messages  \\\n",
       "0      1     1005      95.0             15.0      3.0                 7.0   \n",
       "1      1     1032     380.0             61.0     24.0                38.0   \n",
       "2      1     1045       9.0              1.0      3.0                 5.0   \n",
       "3      1     1055     551.0             64.0     17.0                30.0   \n",
       "4      1     1071     194.0             24.0     16.0                16.0   \n",
       "\n",
       "  tariff  churn_date              city   reg_date  messages_included  \\\n",
       "0  smart           0  Набережные Челны 2018-01-25                 50   \n",
       "1  smart           0         Ульяновск 2018-01-04                 50   \n",
       "2  smart           0          Улан-Удэ 2018-01-30                 50   \n",
       "3  smart           0            Казань 2018-01-02                 50   \n",
       "4  smart  2018-08-31              Омск 2018-01-09                 50   \n",
       "\n",
       "   mb_per_month_included  minutes_included  rub_monthly_fee  rub_per_gb  \\\n",
       "0                  15360               500              550         200   \n",
       "1                  15360               500              550         200   \n",
       "2                  15360               500              550         200   \n",
       "3                  15360               500              550         200   \n",
       "4                  15360               500              550         200   \n",
       "\n",
       "   rub_per_message  rub_per_minute  \n",
       "0                3               3  \n",
       "1                3               3  \n",
       "2                3               3  \n",
       "3                3               3  \n",
       "4                3               3  "
      ]
     },
     "execution_count": 147,
     "metadata": {},
     "output_type": "execute_result"
    }
   ],
   "source": [
    "df_final_with_tariffs = df_united.merge(df_tariffs, on='tariff', how='left')\n",
    "df_final_with_tariffs.head()"
   ]
  },
  {
   "cell_type": "code",
   "execution_count": 148,
   "metadata": {},
   "outputs": [
    {
     "data": {
      "text/html": [
       "<div>\n",
       "<style scoped>\n",
       "    .dataframe tbody tr th:only-of-type {\n",
       "        vertical-align: middle;\n",
       "    }\n",
       "\n",
       "    .dataframe tbody tr th {\n",
       "        vertical-align: top;\n",
       "    }\n",
       "\n",
       "    .dataframe thead th {\n",
       "        text-align: right;\n",
       "    }\n",
       "</style>\n",
       "<table border=\"1\" class=\"dataframe\">\n",
       "  <thead>\n",
       "    <tr style=\"text-align: right;\">\n",
       "      <th></th>\n",
       "      <th>month</th>\n",
       "      <th>user_id</th>\n",
       "      <th>duration</th>\n",
       "      <th>number_of_calls</th>\n",
       "      <th>mb_used</th>\n",
       "      <th>number_of_messages</th>\n",
       "      <th>tariff</th>\n",
       "      <th>churn_date</th>\n",
       "      <th>city</th>\n",
       "      <th>reg_date</th>\n",
       "      <th>messages_included</th>\n",
       "      <th>mb_per_month_included</th>\n",
       "      <th>minutes_included</th>\n",
       "      <th>rub_monthly_fee</th>\n",
       "      <th>rub_per_gb</th>\n",
       "      <th>rub_per_message</th>\n",
       "      <th>rub_per_minute</th>\n",
       "    </tr>\n",
       "  </thead>\n",
       "  <tbody>\n",
       "    <tr>\n",
       "      <th>0</th>\n",
       "      <td>1</td>\n",
       "      <td>1005</td>\n",
       "      <td>95.0</td>\n",
       "      <td>15.0</td>\n",
       "      <td>3.0</td>\n",
       "      <td>7.0</td>\n",
       "      <td>smart</td>\n",
       "      <td>0</td>\n",
       "      <td>Набережные Челны</td>\n",
       "      <td>2018-01-25</td>\n",
       "      <td>50</td>\n",
       "      <td>15.0</td>\n",
       "      <td>500</td>\n",
       "      <td>550</td>\n",
       "      <td>200</td>\n",
       "      <td>3</td>\n",
       "      <td>3</td>\n",
       "    </tr>\n",
       "    <tr>\n",
       "      <th>1</th>\n",
       "      <td>1</td>\n",
       "      <td>1032</td>\n",
       "      <td>380.0</td>\n",
       "      <td>61.0</td>\n",
       "      <td>24.0</td>\n",
       "      <td>38.0</td>\n",
       "      <td>smart</td>\n",
       "      <td>0</td>\n",
       "      <td>Ульяновск</td>\n",
       "      <td>2018-01-04</td>\n",
       "      <td>50</td>\n",
       "      <td>15.0</td>\n",
       "      <td>500</td>\n",
       "      <td>550</td>\n",
       "      <td>200</td>\n",
       "      <td>3</td>\n",
       "      <td>3</td>\n",
       "    </tr>\n",
       "    <tr>\n",
       "      <th>2</th>\n",
       "      <td>1</td>\n",
       "      <td>1045</td>\n",
       "      <td>9.0</td>\n",
       "      <td>1.0</td>\n",
       "      <td>3.0</td>\n",
       "      <td>5.0</td>\n",
       "      <td>smart</td>\n",
       "      <td>0</td>\n",
       "      <td>Улан-Удэ</td>\n",
       "      <td>2018-01-30</td>\n",
       "      <td>50</td>\n",
       "      <td>15.0</td>\n",
       "      <td>500</td>\n",
       "      <td>550</td>\n",
       "      <td>200</td>\n",
       "      <td>3</td>\n",
       "      <td>3</td>\n",
       "    </tr>\n",
       "    <tr>\n",
       "      <th>3</th>\n",
       "      <td>1</td>\n",
       "      <td>1055</td>\n",
       "      <td>551.0</td>\n",
       "      <td>64.0</td>\n",
       "      <td>17.0</td>\n",
       "      <td>30.0</td>\n",
       "      <td>smart</td>\n",
       "      <td>0</td>\n",
       "      <td>Казань</td>\n",
       "      <td>2018-01-02</td>\n",
       "      <td>50</td>\n",
       "      <td>15.0</td>\n",
       "      <td>500</td>\n",
       "      <td>550</td>\n",
       "      <td>200</td>\n",
       "      <td>3</td>\n",
       "      <td>3</td>\n",
       "    </tr>\n",
       "    <tr>\n",
       "      <th>4</th>\n",
       "      <td>1</td>\n",
       "      <td>1071</td>\n",
       "      <td>194.0</td>\n",
       "      <td>24.0</td>\n",
       "      <td>16.0</td>\n",
       "      <td>16.0</td>\n",
       "      <td>smart</td>\n",
       "      <td>2018-08-31</td>\n",
       "      <td>Омск</td>\n",
       "      <td>2018-01-09</td>\n",
       "      <td>50</td>\n",
       "      <td>15.0</td>\n",
       "      <td>500</td>\n",
       "      <td>550</td>\n",
       "      <td>200</td>\n",
       "      <td>3</td>\n",
       "      <td>3</td>\n",
       "    </tr>\n",
       "  </tbody>\n",
       "</table>\n",
       "</div>"
      ],
      "text/plain": [
       "   month  user_id  duration  number_of_calls  mb_used  number_of_messages  \\\n",
       "0      1     1005      95.0             15.0      3.0                 7.0   \n",
       "1      1     1032     380.0             61.0     24.0                38.0   \n",
       "2      1     1045       9.0              1.0      3.0                 5.0   \n",
       "3      1     1055     551.0             64.0     17.0                30.0   \n",
       "4      1     1071     194.0             24.0     16.0                16.0   \n",
       "\n",
       "  tariff  churn_date              city   reg_date  messages_included  \\\n",
       "0  smart           0  Набережные Челны 2018-01-25                 50   \n",
       "1  smart           0         Ульяновск 2018-01-04                 50   \n",
       "2  smart           0          Улан-Удэ 2018-01-30                 50   \n",
       "3  smart           0            Казань 2018-01-02                 50   \n",
       "4  smart  2018-08-31              Омск 2018-01-09                 50   \n",
       "\n",
       "   mb_per_month_included  minutes_included  rub_monthly_fee  rub_per_gb  \\\n",
       "0                   15.0               500              550         200   \n",
       "1                   15.0               500              550         200   \n",
       "2                   15.0               500              550         200   \n",
       "3                   15.0               500              550         200   \n",
       "4                   15.0               500              550         200   \n",
       "\n",
       "   rub_per_message  rub_per_minute  \n",
       "0                3               3  \n",
       "1                3               3  \n",
       "2                3               3  \n",
       "3                3               3  \n",
       "4                3               3  "
      ]
     },
     "execution_count": 148,
     "metadata": {},
     "output_type": "execute_result"
    }
   ],
   "source": [
    "df_final_with_tariffs['mb_per_month_included'] = df_final_with_tariffs['mb_per_month_included']/1024\n",
    "df_final_with_tariffs.head()"
   ]
  },
  {
   "cell_type": "markdown",
   "metadata": {},
   "source": [
    "<b>Рассчитаем перерасход звонков, минут и трафика.</b>"
   ]
  },
  {
   "cell_type": "code",
   "execution_count": 149,
   "metadata": {},
   "outputs": [
    {
     "data": {
      "text/html": [
       "<div>\n",
       "<style scoped>\n",
       "    .dataframe tbody tr th:only-of-type {\n",
       "        vertical-align: middle;\n",
       "    }\n",
       "\n",
       "    .dataframe tbody tr th {\n",
       "        vertical-align: top;\n",
       "    }\n",
       "\n",
       "    .dataframe thead th {\n",
       "        text-align: right;\n",
       "    }\n",
       "</style>\n",
       "<table border=\"1\" class=\"dataframe\">\n",
       "  <thead>\n",
       "    <tr style=\"text-align: right;\">\n",
       "      <th></th>\n",
       "      <th>month</th>\n",
       "      <th>user_id</th>\n",
       "      <th>duration</th>\n",
       "      <th>number_of_calls</th>\n",
       "      <th>mb_used</th>\n",
       "      <th>number_of_messages</th>\n",
       "      <th>tariff</th>\n",
       "      <th>churn_date</th>\n",
       "      <th>city</th>\n",
       "      <th>reg_date</th>\n",
       "      <th>messages_included</th>\n",
       "      <th>mb_per_month_included</th>\n",
       "      <th>minutes_included</th>\n",
       "      <th>rub_monthly_fee</th>\n",
       "      <th>rub_per_gb</th>\n",
       "      <th>rub_per_message</th>\n",
       "      <th>rub_per_minute</th>\n",
       "      <th>proceeds</th>\n",
       "    </tr>\n",
       "  </thead>\n",
       "  <tbody>\n",
       "    <tr>\n",
       "      <th>0</th>\n",
       "      <td>1</td>\n",
       "      <td>1005</td>\n",
       "      <td>95.0</td>\n",
       "      <td>15.0</td>\n",
       "      <td>3.0</td>\n",
       "      <td>7.0</td>\n",
       "      <td>smart</td>\n",
       "      <td>0</td>\n",
       "      <td>Набережные Челны</td>\n",
       "      <td>2018-01-25</td>\n",
       "      <td>50</td>\n",
       "      <td>15.0</td>\n",
       "      <td>500</td>\n",
       "      <td>550</td>\n",
       "      <td>200</td>\n",
       "      <td>3</td>\n",
       "      <td>3</td>\n",
       "      <td>1148.0</td>\n",
       "    </tr>\n",
       "    <tr>\n",
       "      <th>1</th>\n",
       "      <td>1</td>\n",
       "      <td>1032</td>\n",
       "      <td>380.0</td>\n",
       "      <td>61.0</td>\n",
       "      <td>24.0</td>\n",
       "      <td>38.0</td>\n",
       "      <td>smart</td>\n",
       "      <td>0</td>\n",
       "      <td>Ульяновск</td>\n",
       "      <td>2018-01-04</td>\n",
       "      <td>50</td>\n",
       "      <td>15.0</td>\n",
       "      <td>500</td>\n",
       "      <td>550</td>\n",
       "      <td>200</td>\n",
       "      <td>3</td>\n",
       "      <td>3</td>\n",
       "      <td>5348.0</td>\n",
       "    </tr>\n",
       "    <tr>\n",
       "      <th>2</th>\n",
       "      <td>1</td>\n",
       "      <td>1045</td>\n",
       "      <td>9.0</td>\n",
       "      <td>1.0</td>\n",
       "      <td>3.0</td>\n",
       "      <td>5.0</td>\n",
       "      <td>smart</td>\n",
       "      <td>0</td>\n",
       "      <td>Улан-Удэ</td>\n",
       "      <td>2018-01-30</td>\n",
       "      <td>50</td>\n",
       "      <td>15.0</td>\n",
       "      <td>500</td>\n",
       "      <td>550</td>\n",
       "      <td>200</td>\n",
       "      <td>3</td>\n",
       "      <td>3</td>\n",
       "      <td>1148.0</td>\n",
       "    </tr>\n",
       "    <tr>\n",
       "      <th>3</th>\n",
       "      <td>1</td>\n",
       "      <td>1055</td>\n",
       "      <td>551.0</td>\n",
       "      <td>64.0</td>\n",
       "      <td>17.0</td>\n",
       "      <td>30.0</td>\n",
       "      <td>smart</td>\n",
       "      <td>0</td>\n",
       "      <td>Казань</td>\n",
       "      <td>2018-01-02</td>\n",
       "      <td>50</td>\n",
       "      <td>15.0</td>\n",
       "      <td>500</td>\n",
       "      <td>550</td>\n",
       "      <td>200</td>\n",
       "      <td>3</td>\n",
       "      <td>3</td>\n",
       "      <td>4101.0</td>\n",
       "    </tr>\n",
       "    <tr>\n",
       "      <th>4</th>\n",
       "      <td>1</td>\n",
       "      <td>1071</td>\n",
       "      <td>194.0</td>\n",
       "      <td>24.0</td>\n",
       "      <td>16.0</td>\n",
       "      <td>16.0</td>\n",
       "      <td>smart</td>\n",
       "      <td>2018-08-31</td>\n",
       "      <td>Омск</td>\n",
       "      <td>2018-01-09</td>\n",
       "      <td>50</td>\n",
       "      <td>15.0</td>\n",
       "      <td>500</td>\n",
       "      <td>550</td>\n",
       "      <td>200</td>\n",
       "      <td>3</td>\n",
       "      <td>3</td>\n",
       "      <td>3748.0</td>\n",
       "    </tr>\n",
       "  </tbody>\n",
       "</table>\n",
       "</div>"
      ],
      "text/plain": [
       "   month  user_id  duration  number_of_calls  mb_used  number_of_messages  \\\n",
       "0      1     1005      95.0             15.0      3.0                 7.0   \n",
       "1      1     1032     380.0             61.0     24.0                38.0   \n",
       "2      1     1045       9.0              1.0      3.0                 5.0   \n",
       "3      1     1055     551.0             64.0     17.0                30.0   \n",
       "4      1     1071     194.0             24.0     16.0                16.0   \n",
       "\n",
       "  tariff  churn_date              city   reg_date  messages_included  \\\n",
       "0  smart           0  Набережные Челны 2018-01-25                 50   \n",
       "1  smart           0         Ульяновск 2018-01-04                 50   \n",
       "2  smart           0          Улан-Удэ 2018-01-30                 50   \n",
       "3  smart           0            Казань 2018-01-02                 50   \n",
       "4  smart  2018-08-31              Омск 2018-01-09                 50   \n",
       "\n",
       "   mb_per_month_included  minutes_included  rub_monthly_fee  rub_per_gb  \\\n",
       "0                   15.0               500              550         200   \n",
       "1                   15.0               500              550         200   \n",
       "2                   15.0               500              550         200   \n",
       "3                   15.0               500              550         200   \n",
       "4                   15.0               500              550         200   \n",
       "\n",
       "   rub_per_message  rub_per_minute  proceeds  \n",
       "0                3               3    1148.0  \n",
       "1                3               3    5348.0  \n",
       "2                3               3    1148.0  \n",
       "3                3               3    4101.0  \n",
       "4                3               3    3748.0  "
      ]
     },
     "execution_count": 149,
     "metadata": {},
     "output_type": "execute_result"
    }
   ],
   "source": [
    "def above_tariff(row):\n",
    "    sms = (row['number_of_messages'] - row['messages_included']) * row['rub_per_message']\n",
    "    mins = (row['duration'] - row['minutes_included']) * row['rub_per_minute']\n",
    "    mbs = np.ceil((row['mb_used'] - row['mb_per_month_included']/1024) * row['rub_per_gb'])\n",
    "    total = 0\n",
    "    for i in [sms, mins, mbs]:\n",
    "        if i > 0:\n",
    "            total += i\n",
    "    return total\n",
    "\n",
    "df_final_with_tariffs['proceeds'] = df_final_with_tariffs.apply(lambda x: above_tariff(x), axis=1) +  df_final_with_tariffs['rub_monthly_fee']\n",
    "\n",
    "df_final_with_tariffs.head()"
   ]
  },
  {
   "cell_type": "markdown",
   "metadata": {},
   "source": [
    "## Анализ данных"
   ]
  },
  {
   "cell_type": "markdown",
   "metadata": {},
   "source": [
    "Рассчитаем сколько минут разговора, сколько сообщений и какой объём интернет-трафика требуется пользователям каждого тарифа в месяц.\n",
    "\n",
    "<b>Создадим таблицу с показателями тарифов smart и ultra:</b>"
   ]
  },
  {
   "cell_type": "code",
   "execution_count": 150,
   "metadata": {},
   "outputs": [
    {
     "data": {
      "text/html": [
       "<div>\n",
       "<style scoped>\n",
       "    .dataframe tbody tr th:only-of-type {\n",
       "        vertical-align: middle;\n",
       "    }\n",
       "\n",
       "    .dataframe tbody tr th {\n",
       "        vertical-align: top;\n",
       "    }\n",
       "\n",
       "    .dataframe thead tr th {\n",
       "        text-align: left;\n",
       "    }\n",
       "\n",
       "    .dataframe thead tr:last-of-type th {\n",
       "        text-align: right;\n",
       "    }\n",
       "</style>\n",
       "<table border=\"1\" class=\"dataframe\">\n",
       "  <thead>\n",
       "    <tr>\n",
       "      <th></th>\n",
       "      <th colspan=\"3\" halign=\"left\">mean</th>\n",
       "      <th colspan=\"3\" halign=\"left\">std</th>\n",
       "      <th colspan=\"3\" halign=\"left\">var</th>\n",
       "    </tr>\n",
       "    <tr>\n",
       "      <th></th>\n",
       "      <th>duration</th>\n",
       "      <th>mb_used</th>\n",
       "      <th>number_of_messages</th>\n",
       "      <th>duration</th>\n",
       "      <th>mb_used</th>\n",
       "      <th>number_of_messages</th>\n",
       "      <th>duration</th>\n",
       "      <th>mb_used</th>\n",
       "      <th>number_of_messages</th>\n",
       "    </tr>\n",
       "    <tr>\n",
       "      <th>tariff</th>\n",
       "      <th></th>\n",
       "      <th></th>\n",
       "      <th></th>\n",
       "      <th></th>\n",
       "      <th></th>\n",
       "      <th></th>\n",
       "      <th></th>\n",
       "      <th></th>\n",
       "      <th></th>\n",
       "    </tr>\n",
       "  </thead>\n",
       "  <tbody>\n",
       "    <tr>\n",
       "      <th>smart</th>\n",
       "      <td>417.934948</td>\n",
       "      <td>16.328847</td>\n",
       "      <td>33.384029</td>\n",
       "      <td>190.313730</td>\n",
       "      <td>5.747061</td>\n",
       "      <td>28.227876</td>\n",
       "      <td>36219.315784</td>\n",
       "      <td>33.028705</td>\n",
       "      <td>796.812958</td>\n",
       "    </tr>\n",
       "    <tr>\n",
       "      <th>ultra</th>\n",
       "      <td>526.623350</td>\n",
       "      <td>19.494416</td>\n",
       "      <td>49.363452</td>\n",
       "      <td>317.606098</td>\n",
       "      <td>9.853511</td>\n",
       "      <td>47.804457</td>\n",
       "      <td>100873.633397</td>\n",
       "      <td>97.091686</td>\n",
       "      <td>2285.266143</td>\n",
       "    </tr>\n",
       "  </tbody>\n",
       "</table>\n",
       "</div>"
      ],
      "text/plain": [
       "              mean                                       std            \\\n",
       "          duration    mb_used number_of_messages    duration   mb_used   \n",
       "tariff                                                                   \n",
       "smart   417.934948  16.328847          33.384029  190.313730  5.747061   \n",
       "ultra   526.623350  19.494416          49.363452  317.606098  9.853511   \n",
       "\n",
       "                                     var                                \n",
       "       number_of_messages       duration    mb_used number_of_messages  \n",
       "tariff                                                                  \n",
       "smart           28.227876   36219.315784  33.028705         796.812958  \n",
       "ultra           47.804457  100873.633397  97.091686        2285.266143  "
      ]
     },
     "execution_count": 150,
     "metadata": {},
     "output_type": "execute_result"
    }
   ],
   "source": [
    "df_final_with_tariffs.pivot_table(index='tariff', values=['duration', 'number_of_messages', 'mb_used'],\n",
    "                       aggfunc=['mean', 'std', 'var'])"
   ]
  },
  {
   "cell_type": "markdown",
   "metadata": {},
   "source": [
    "Построим гистограммы для каждого тарифа."
   ]
  },
  {
   "cell_type": "code",
   "execution_count": 151,
   "metadata": {},
   "outputs": [
    {
     "data": {
      "text/plain": [
       "Text(0, 0.5, 'Число наблюдений')"
      ]
     },
     "execution_count": 151,
     "metadata": {},
     "output_type": "execute_result"
    },
    {
     "data": {
      "image/png": "[encoded data removed]",
      "text/plain": [
       "<Figure size 720x576 with 1 Axes>"
      ]
     },
     "metadata": {},
     "output_type": "display_data"
    }
   ],
   "source": [
    "plt.style.use('ggplot')\n",
    "\n",
    "df_final_with_tariffs.groupby('tariff')['duration'].plot.hist(alpha=0.5, legend=True, bins=25, figsize=(10,8))\n",
    "\n",
    "plt.legend(['Смарт', 'Ультра'])\n",
    "plt.title('Продолжительность звонка')\n",
    "plt.xlabel('Продолжительность звонка')\n",
    "plt.ylabel('Число наблюдений')"
   ]
  },
  {
   "cell_type": "markdown",
   "metadata": {},
   "source": [
    "Продолжительность звонка для тарифа смарт:\n",
    "- Наиболее часто встречается значение в 422 минуты (при ограничении тарифа в 500 минут.\n",
    "- 754 пользователя (или 33,8% пользователей тарифа) вышли за установленное значение в 500 минут.\n",
    "- Масимальная продолжительность звонка  - 1435 минут.\n",
    "\n",
    "Продолжительность звонка для тарифа ультра:\n",
    "- Наиболее часто встречается значение в 518 минут - из 3000 доступных.\n",
    "- После 880 минут число пользователей уменьшается.\n",
    "- Максимальная продолжительность звонка равна 1673 минут, единичные значения дозодят до 1500 минут. \n",
    "\n",
    "\n",
    "Данные для тарифа смарт распределены нормально. \n",
    "\n",
    "В тарифе ультра наблюдается больший разброс значений, датасет скошен вправо. \n",
    "Вероятно, это связано с меньшим количеством выборки. Чем меньше выборка - тем больше данные отклоняются от нормального распределения.\n"
   ]
  },
  {
   "cell_type": "code",
   "execution_count": 152,
   "metadata": {},
   "outputs": [
    {
     "data": {
      "text/plain": [
       "Text(0, 0.5, 'Число наблюдений')"
      ]
     },
     "execution_count": 152,
     "metadata": {},
     "output_type": "execute_result"
    },
    {
     "data": {
      "image/png": "[encoded data removed]",
      "text/plain": [
       "<Figure size 720x576 with 1 Axes>"
      ]
     },
     "metadata": {},
     "output_type": "display_data"
    }
   ],
   "source": [
    "df_final_with_tariffs.groupby('tariff')['number_of_calls'].plot.hist(alpha=0.5, legend=True, bins=25, figsize=(10,8))\n",
    "\n",
    "plt.legend(['Смарт', 'Ультра'])\n",
    "plt.title('Количество звонков')\n",
    "plt.xlabel('Количество звонков')\n",
    "plt.ylabel('Число наблюдений')\n"
   ]
  },
  {
   "cell_type": "markdown",
   "metadata": {},
   "source": [
    "Количество звонков в тарифе смарт:\n",
    "- Значение, которое встречается чаще всего - 60 звонков\n",
    "\n",
    "Количество звонков в тарифе ультра:\n",
    "- Медианное значение - 74 звонка."
   ]
  },
  {
   "cell_type": "code",
   "execution_count": 153,
   "metadata": {},
   "outputs": [
    {
     "data": {
      "text/plain": [
       "Text(0, 0.5, 'Число наблюдений')"
      ]
     },
     "execution_count": 153,
     "metadata": {},
     "output_type": "execute_result"
    },
    {
     "data": {
      "image/png": "[encoded data removed]",
      "text/plain": [
       "<Figure size 720x576 with 1 Axes>"
      ]
     },
     "metadata": {},
     "output_type": "display_data"
    }
   ],
   "source": [
    "df_final_with_tariffs.groupby('tariff')['number_of_messages'].plot.hist(alpha=0.5, legend=True, bins=25, figsize=(10,8))\n",
    "\n",
    "plt.legend(['Смарт', 'Ультра'])\n",
    "plt.title('Количество сообщений')\n",
    "plt.xlabel('Количество сообщений')\n",
    "plt.ylabel('Число наблюдений')\n"
   ]
  },
  {
   "cell_type": "markdown",
   "metadata": {},
   "source": [
    "Количество  сообщений в тарифе смарт:\n",
    "- Порядка 430 человек не пользуются сообщениями. \n",
    "- 28 сообщений в месяц отправляют пользователи чаще всего(из доступных 50)\n",
    "- 564 человека превышают тарифный лимит в 50 сообщений\n",
    "- Максимальное число сообщенией по тарифу - 143\n",
    "\n",
    "\n",
    "Количество сообщений в тарифе ультра:\n",
    "- Порядка 270 человек не пользуются сообщениями.\n",
    "- 38 сообщений в месяц отправляют пользователи чаще всего (из доступных 1000)\n",
    "- Ни один пользователь не превысил лимит в 1000 сообщений\n",
    "- Максимальное число сообщений по тарифу - 224\n",
    "\n",
    "Оба графика скошены вправо, те медиана (наиболее часто встречающееся значение) меньше среднего."
   ]
  },
  {
   "cell_type": "code",
   "execution_count": 154,
   "metadata": {},
   "outputs": [
    {
     "data": {
      "text/plain": [
       "Text(0, 0.5, 'Число наблюдений')"
      ]
     },
     "execution_count": 154,
     "metadata": {},
     "output_type": "execute_result"
    },
    {
     "data": {
      "image/png": "[encoded data removed]",
      "text/plain": [
       "<Figure size 720x576 with 1 Axes>"
      ]
     },
     "metadata": {},
     "output_type": "display_data"
    }
   ],
   "source": [
    "df_final_with_tariffs.groupby('tariff')['mb_used'].plot.hist(alpha=0.5, legend=True, bins=25, figsize=(10,8))\n",
    "\n",
    "plt.legend(['Смарт', 'Ультра'])\n",
    "plt.title('Использование трафика')\n",
    "plt.xlabel('Кол-во использованного трафика')\n",
    "plt.ylabel('Число наблюдений')"
   ]
  },
  {
   "cell_type": "markdown",
   "metadata": {},
   "source": [
    "Количество использованного трафика в тарифе смарт:\n",
    "- Чаще всего пользователи используют 17 Гб интернета при лимите в 15Гб\n",
    "- Всего 1304 пользователя (или 58%) превысили тарифную норму\n",
    "\n",
    "\n",
    "Количество использованного трафика в тарифе ультра:\n",
    "- Чаще всего пользователи используют 19 Гб интернета при лимите в 30Гб\n",
    "- Превышают норму 134 пользователя или 14%"
   ]
  },
  {
   "cell_type": "code",
   "execution_count": 155,
   "metadata": {},
   "outputs": [
    {
     "data": {
      "text/plain": [
       "Text(0, 0.5, 'Число наблюдений')"
      ]
     },
     "execution_count": 155,
     "metadata": {},
     "output_type": "execute_result"
    },
    {
     "data": {
      "image/png": "[encoded data removed]",
      "text/plain": [
       "<Figure size 720x576 with 1 Axes>"
      ]
     },
     "metadata": {},
     "output_type": "display_data"
    }
   ],
   "source": [
    "df_final_with_tariffs.groupby('tariff')['proceeds'].plot.hist(alpha=0.5, legend=True, bins=25, figsize=(10,8))\n",
    "\n",
    "plt.legend(['Смарт', 'Ультра'])\n",
    "plt.title('Выручка')\n",
    "plt.xlabel('Выручка')\n",
    "plt.ylabel('Число наблюдений')\n"
   ]
  },
  {
   "cell_type": "markdown",
   "metadata": {},
   "source": [
    "Выручка тарифа ультра с человека выше, чем у тарифа смарт.\n",
    "\n",
    "Пик у тарифа смарт говорит о том, что большая доля пользователей не выходят за пределы тарифа, то есть не доплачивают.\n",
    "В то же время, доплат у тарифа смарт больше, чем у тарифа ультра. \n",
    "\n",
    "Пользователи тарифа ультра почти не выходят за пределы ежемесячных ограничений = 1950 р/месяц.\n"
   ]
  },
  {
   "cell_type": "code",
   "execution_count": 158,
   "metadata": {},
   "outputs": [
    {
     "name": "stdout",
     "output_type": "stream",
     "text": [
      "Выручка тарифа смарт 8817897.0\n",
      "Выручка тарифа ультра 4797154.0\n",
      "\n",
      "Пользуются тарифом смарт 350 человек\n",
      "Пользуются тарифом ультра 148 человек\n",
      "\n",
      "25193.99142857143\n",
      "32413.202702702703\n"
     ]
    }
   ],
   "source": [
    "smart_proceeds = df_final_with_tariffs.query('tariff == \"smart\"')['proceeds'].sum()\n",
    "print('Выручка тарифа смарт', smart_proceeds)\n",
    "\n",
    "ultra_proceeds = df_final_with_tariffs.query('tariff == \"ultra\"')['proceeds'].sum()\n",
    "print('Выручка тарифа ультра', ultra_proceeds)\n",
    "\n",
    "print()\n",
    "\n",
    "smart_clients = len(df_final_with_tariffs.query('tariff == \"smart\"')['user_id'].unique())\n",
    "print('Пользуются тарифом смарт {} человек'.format(smart_clients))\n",
    "\n",
    "ultra_clients = len(df_final_with_tariffs.query('tariff == \"ultra\"')['user_id'].unique())\n",
    "print('Пользуются тарифом ультра {} человек'.format(ultra_clients))\n",
    "\n",
    "print()\n",
    "\n",
    "smart_per_client = smart_proceeds/smart_clients\n",
    "print(smart_per_client)\n",
    "\n",
    "ultra_per_client = ultra_proceeds/ultra_clients\n",
    "print(ultra_per_client)"
   ]
  },
  {
   "cell_type": "markdown",
   "metadata": {},
   "source": [
    "Несмотря на разницу в количестве пользователей, тариф ультра приносит ощутимо больше выручки."
   ]
  },
  {
   "cell_type": "markdown",
   "metadata": {},
   "source": [
    "## Проверка гипотез"
   ]
  },
  {
   "cell_type": "markdown",
   "metadata": {},
   "source": [
    "### Гипотеза №1"
   ]
  },
  {
   "cell_type": "markdown",
   "metadata": {},
   "source": [
    "<b>Проверка гипотезы: средняя выручка пользователей тарифов «Ультра» и «Смарт» различаются.</b>\n",
    "\n",
    "Нулевая гипотеза всегда формулируется так, чтобы использовать знак равенства.\n",
    "Исходя из H₀ формулируется альтернативную гипотезу.\n",
    "\n",
    "\n",
    "$\\begin{equation*}\n",
    " \\begin{cases}\n",
    "H_0 :\\text{Cредняя выручка тарифов равна.}\\\\\n",
    "H_1 :\\text{Cредняя выручка тарифов различается.}\n",
    " \\end{cases}\n",
    "\\end{equation*}$"
   ]
  },
  {
   "cell_type": "markdown",
   "metadata": {},
   "source": [
    "Для проверки гипотез будем использовать t-тест - статистический тест с использованием распределения Стьюдента."
   ]
  },
  {
   "cell_type": "code",
   "execution_count": null,
   "metadata": {},
   "outputs": [],
   "source": [
    "proceeds_smart = df_final_with_tariffs.query('tariff == \"smart\"')['proceeds']\n",
    "\n",
    "proceeds_ultra = df_final_with_tariffs.query('tariff == \"ultra\"')['proceeds']\n",
    "\n",
    "alpha = 0.05\n",
    "\n",
    "results = st.ttest_ind(proceeds_smart,\n",
    "                      proceeds_ultra)\n",
    "                           \n",
    "\n",
    "print('p-значение:', results.pvalue)\n",
    "\n",
    "if results.pvalue < alpha:\n",
    "    print('Отвергаем нулевую гипотезу')\n",
    "else:\n",
    "    print('Не получилось отвергнуть нулевую гипотезу')"
   ]
  },
  {
   "cell_type": "markdown",
   "metadata": {},
   "source": [
    "Отвергаем нулевую гипотезу - те средняя выручка тарифов не равна."
   ]
  },
  {
   "cell_type": "markdown",
   "metadata": {},
   "source": [
    "### Гипотеза №2"
   ]
  },
  {
   "cell_type": "markdown",
   "metadata": {},
   "source": [
    "$\\begin{equation*}\n",
    " \\begin{cases}\n",
    "H_0 :\\text{Средняя выручка пользователей из Москвы такая же, как пользователей из регионов.}\\\\\n",
    "H_1 :\\text{Средняя выручка пользователей из Москвы и регионов разная.}\n",
    " \\end{cases}\n",
    "\\end{equation*}$"
   ]
  },
  {
   "cell_type": "code",
   "execution_count": null,
   "metadata": {},
   "outputs": [],
   "source": [
    "proceeds_Moscow = df_final_with_tariffs.query('city == \"Москва\"')['proceeds']\n",
    "\n",
    "proceeds_region = df_final_with_tariffs.query('city != \"Москва\"')['proceeds']\n",
    "\n",
    "alpha = 0.05\n",
    "\n",
    "results = st.ttest_ind(proceeds_Moscow,\n",
    "                      proceeds_region)\n",
    "                           \n",
    "\n",
    "print('p-значение:', results.pvalue)\n",
    "\n",
    "if results.pvalue < alpha:\n",
    "    print('Отвергаем нулевую гипотезу')\n",
    "else:\n",
    "    print('Не получилось отвергнуть нулевую гипотезу')"
   ]
  },
  {
   "cell_type": "markdown",
   "metadata": {},
   "source": [
    "Выручка пользователей Москвы и регионов не равна."
   ]
  },
  {
   "cell_type": "markdown",
   "metadata": {},
   "source": [
    "## Вывод по проекту\n",
    "\n",
    "Следует сакцентировать рекламную кампанию на тарифе \"ультра\".\n",
    "\n",
    "Несмотя на минимальное количество доплат тариф \"ультра\" приносит больше денег, чем бюджетный \"смарт\".\n"
   ]
  }
 ],
 "metadata": {
  "ExecuteTimeLog": [
   {
    "duration": 665,
    "start_time": "2021-07-28T08:49:43.411Z"
   },
   {
    "duration": 2400,
    "start_time": "2021-07-28T08:50:30.201Z"
   },
   {
    "duration": 200,
    "start_time": "2021-07-28T08:50:34.940Z"
   },
   {
    "duration": 464,
    "start_time": "2021-07-28T08:52:37.314Z"
   },
   {
    "duration": 493,
    "start_time": "2021-07-28T08:53:31.851Z"
   },
   {
    "duration": 687,
    "start_time": "2021-07-28T08:54:15.415Z"
   },
   {
    "duration": 605,
    "start_time": "2021-07-28T08:54:16.105Z"
   },
   {
    "duration": 13,
    "start_time": "2021-07-28T08:54:16.713Z"
   },
   {
    "duration": 12,
    "start_time": "2021-07-28T08:54:16.728Z"
   },
   {
    "duration": 13,
    "start_time": "2021-07-28T08:54:16.743Z"
   },
   {
    "duration": 37,
    "start_time": "2021-07-28T08:54:16.759Z"
   },
   {
    "duration": 308,
    "start_time": "2021-07-28T09:06:13.592Z"
   },
   {
    "duration": 307,
    "start_time": "2021-07-28T09:06:23.028Z"
   },
   {
    "duration": 365,
    "start_time": "2021-07-28T09:06:57.220Z"
   },
   {
    "duration": 339,
    "start_time": "2021-07-28T09:07:03.569Z"
   },
   {
    "duration": 69,
    "start_time": "2021-07-28T09:08:50.501Z"
   },
   {
    "duration": 129,
    "start_time": "2021-07-28T09:09:02.060Z"
   },
   {
    "duration": 146,
    "start_time": "2021-07-28T09:09:09.460Z"
   },
   {
    "duration": 264,
    "start_time": "2021-07-28T09:09:17.719Z"
   },
   {
    "duration": 223,
    "start_time": "2021-07-28T09:09:59.688Z"
   },
   {
    "duration": 312,
    "start_time": "2021-07-28T09:10:06.047Z"
   },
   {
    "duration": 98,
    "start_time": "2021-07-28T09:11:20.509Z"
   },
   {
    "duration": 266,
    "start_time": "2021-07-28T09:11:24.287Z"
   },
   {
    "duration": 281,
    "start_time": "2021-07-28T09:11:38.901Z"
   },
   {
    "duration": 123,
    "start_time": "2021-07-28T09:11:47.541Z"
   },
   {
    "duration": 226,
    "start_time": "2021-07-28T09:12:44.819Z"
   },
   {
    "duration": 613,
    "start_time": "2021-07-28T09:13:29.718Z"
   },
   {
    "duration": 11,
    "start_time": "2021-07-28T09:14:02.591Z"
   },
   {
    "duration": 581,
    "start_time": "2021-07-28T09:14:17.981Z"
   },
   {
    "duration": 751,
    "start_time": "2021-07-28T09:14:25.550Z"
   },
   {
    "duration": 388,
    "start_time": "2021-07-28T09:15:00.858Z"
   },
   {
    "duration": 161,
    "start_time": "2021-07-28T09:21:14.959Z"
   },
   {
    "duration": 3,
    "start_time": "2021-07-28T09:21:34.660Z"
   },
   {
    "duration": 3,
    "start_time": "2021-07-28T09:21:37.129Z"
   },
   {
    "duration": 3,
    "start_time": "2021-07-28T09:21:41.200Z"
   },
   {
    "duration": 85,
    "start_time": "2021-07-28T09:23:51.312Z"
   },
   {
    "duration": 126,
    "start_time": "2021-07-28T09:24:04.519Z"
   },
   {
    "duration": 138,
    "start_time": "2021-07-28T09:24:33.795Z"
   },
   {
    "duration": 316,
    "start_time": "2021-07-28T10:09:25.843Z"
   },
   {
    "duration": 756,
    "start_time": "2021-07-28T10:09:38.056Z"
   },
   {
    "duration": 502,
    "start_time": "2021-07-28T10:09:38.815Z"
   },
   {
    "duration": 11,
    "start_time": "2021-07-28T10:09:39.320Z"
   },
   {
    "duration": 6,
    "start_time": "2021-07-28T10:09:39.334Z"
   },
   {
    "duration": 9,
    "start_time": "2021-07-28T10:09:39.342Z"
   },
   {
    "duration": 7,
    "start_time": "2021-07-28T10:09:39.353Z"
   },
   {
    "duration": 10,
    "start_time": "2021-07-28T10:09:39.362Z"
   },
   {
    "duration": 297,
    "start_time": "2021-07-28T10:12:46.630Z"
   },
   {
    "duration": 744,
    "start_time": "2021-07-28T10:12:56.162Z"
   },
   {
    "duration": 505,
    "start_time": "2021-07-28T10:12:56.908Z"
   },
   {
    "duration": 12,
    "start_time": "2021-07-28T10:12:57.415Z"
   },
   {
    "duration": 5,
    "start_time": "2021-07-28T10:12:57.430Z"
   },
   {
    "duration": 8,
    "start_time": "2021-07-28T10:12:57.437Z"
   },
   {
    "duration": 7,
    "start_time": "2021-07-28T10:12:57.448Z"
   },
   {
    "duration": 177,
    "start_time": "2021-07-28T10:12:57.458Z"
   },
   {
    "duration": 382,
    "start_time": "2021-07-28T10:12:57.638Z"
   },
   {
    "duration": 145,
    "start_time": "2021-07-28T10:14:17.496Z"
   },
   {
    "duration": 140,
    "start_time": "2021-07-28T10:33:40.220Z"
   },
   {
    "duration": 137,
    "start_time": "2021-07-28T10:33:57.547Z"
   },
   {
    "duration": 1675,
    "start_time": "2021-07-28T10:39:20.979Z"
   },
   {
    "duration": 480,
    "start_time": "2021-07-28T10:39:40.854Z"
   },
   {
    "duration": 487,
    "start_time": "2021-07-28T10:39:46.820Z"
   },
   {
    "duration": 292,
    "start_time": "2021-07-28T10:40:41.116Z"
   },
   {
    "duration": 6604,
    "start_time": "2021-07-28T10:41:01.676Z"
   },
   {
    "duration": 11,
    "start_time": "2021-07-28T10:41:25.346Z"
   },
   {
    "duration": 14,
    "start_time": "2021-07-28T10:41:38.860Z"
   },
   {
    "duration": 11,
    "start_time": "2021-07-28T10:41:47.477Z"
   },
   {
    "duration": 466,
    "start_time": "2021-07-28T10:42:54.786Z"
   },
   {
    "duration": 1072,
    "start_time": "2021-07-28T10:43:00.479Z"
   },
   {
    "duration": 13,
    "start_time": "2021-07-28T10:43:09.309Z"
   },
   {
    "duration": 466,
    "start_time": "2021-07-28T10:43:15.497Z"
   },
   {
    "duration": 16,
    "start_time": "2021-07-28T10:44:58.344Z"
   },
   {
    "duration": 13,
    "start_time": "2021-07-28T10:45:01.981Z"
   },
   {
    "duration": 1105,
    "start_time": "2021-07-28T10:45:03.193Z"
   },
   {
    "duration": 12,
    "start_time": "2021-07-28T10:45:27.629Z"
   },
   {
    "duration": 6994,
    "start_time": "2021-07-28T10:46:23.410Z"
   },
   {
    "duration": 7239,
    "start_time": "2021-07-28T10:46:30.538Z"
   },
   {
    "duration": 7110,
    "start_time": "2021-07-28T10:46:51.364Z"
   },
   {
    "duration": 22,
    "start_time": "2021-07-28T10:47:49.031Z"
   },
   {
    "duration": 11,
    "start_time": "2021-07-28T10:48:01.430Z"
   },
   {
    "duration": 22,
    "start_time": "2021-07-28T10:48:07.480Z"
   },
   {
    "duration": 94,
    "start_time": "2021-07-28T10:50:21.516Z"
   },
   {
    "duration": 11,
    "start_time": "2021-07-28T10:50:41.667Z"
   },
   {
    "duration": 12,
    "start_time": "2021-07-28T10:53:19.457Z"
   },
   {
    "duration": 11,
    "start_time": "2021-07-28T10:53:43.587Z"
   },
   {
    "duration": 14,
    "start_time": "2021-07-28T10:53:55.467Z"
   },
   {
    "duration": 4,
    "start_time": "2021-07-28T10:55:53.158Z"
   },
   {
    "duration": 15,
    "start_time": "2021-07-28T10:56:13.230Z"
   },
   {
    "duration": 16,
    "start_time": "2021-07-28T10:56:51.215Z"
   },
   {
    "duration": 256,
    "start_time": "2021-07-28T10:57:28.738Z"
   },
   {
    "duration": 12,
    "start_time": "2021-07-28T10:57:44.824Z"
   },
   {
    "duration": 11,
    "start_time": "2021-07-28T10:57:51.844Z"
   },
   {
    "duration": 15,
    "start_time": "2021-07-28T10:57:57.797Z"
   },
   {
    "duration": 147,
    "start_time": "2021-07-28T10:58:00.687Z"
   },
   {
    "duration": 227,
    "start_time": "2021-07-28T10:59:34.948Z"
   },
   {
    "duration": 348,
    "start_time": "2021-07-28T10:59:37.345Z"
   },
   {
    "duration": 408,
    "start_time": "2021-07-28T10:59:39.810Z"
   },
   {
    "duration": 133,
    "start_time": "2021-07-28T11:00:00.851Z"
   },
   {
    "duration": 247,
    "start_time": "2021-07-28T11:01:18.261Z"
   },
   {
    "duration": 289,
    "start_time": "2021-07-28T11:01:37.404Z"
   },
   {
    "duration": 229,
    "start_time": "2021-07-28T11:01:45.159Z"
   },
   {
    "duration": 127,
    "start_time": "2021-07-28T11:01:49.331Z"
   },
   {
    "duration": 141,
    "start_time": "2021-07-28T11:05:31.680Z"
   },
   {
    "duration": 74,
    "start_time": "2021-07-28T11:05:41.941Z"
   },
   {
    "duration": 275,
    "start_time": "2021-07-28T11:05:46.158Z"
   },
   {
    "duration": 303,
    "start_time": "2021-07-28T11:05:55.340Z"
   },
   {
    "duration": 296,
    "start_time": "2021-07-28T11:06:03.144Z"
   },
   {
    "duration": 219,
    "start_time": "2021-07-28T11:06:09.192Z"
   },
   {
    "duration": 143,
    "start_time": "2021-07-28T11:07:22.448Z"
   },
   {
    "duration": 422,
    "start_time": "2021-07-28T11:29:30.958Z"
   },
   {
    "duration": 872,
    "start_time": "2021-07-28T11:29:59.411Z"
   },
   {
    "duration": 750,
    "start_time": "2021-07-28T11:30:06.849Z"
   },
   {
    "duration": 696,
    "start_time": "2021-07-28T11:33:08.301Z"
   },
   {
    "duration": 185,
    "start_time": "2021-07-28T11:34:20.166Z"
   },
   {
    "duration": 172,
    "start_time": "2021-07-28T11:34:33.339Z"
   },
   {
    "duration": 28,
    "start_time": "2021-07-28T11:35:13.646Z"
   },
   {
    "duration": 29,
    "start_time": "2021-07-28T11:35:49.282Z"
   },
   {
    "duration": 22,
    "start_time": "2021-07-28T11:37:02.317Z"
   },
   {
    "duration": 10,
    "start_time": "2021-07-28T11:37:34.005Z"
   },
   {
    "duration": 15,
    "start_time": "2021-07-28T11:38:01.085Z"
   },
   {
    "duration": 3,
    "start_time": "2021-07-28T11:38:05.802Z"
   },
   {
    "duration": 422,
    "start_time": "2021-07-28T11:38:06.498Z"
   },
   {
    "duration": 13,
    "start_time": "2021-07-28T11:38:09.788Z"
   },
   {
    "duration": 21,
    "start_time": "2021-07-28T11:38:10.652Z"
   },
   {
    "duration": 11,
    "start_time": "2021-07-28T11:38:11.089Z"
   },
   {
    "duration": 11,
    "start_time": "2021-07-28T11:38:11.507Z"
   },
   {
    "duration": 15,
    "start_time": "2021-07-28T11:38:13.714Z"
   },
   {
    "duration": 698,
    "start_time": "2021-07-28T11:38:14.873Z"
   },
   {
    "duration": 179,
    "start_time": "2021-07-28T11:38:15.575Z"
   },
   {
    "duration": 37,
    "start_time": "2021-07-28T11:40:02.683Z"
   },
   {
    "duration": 47,
    "start_time": "2021-07-28T11:40:47.218Z"
   },
   {
    "duration": 38,
    "start_time": "2021-07-28T11:40:54.177Z"
   },
   {
    "duration": 272,
    "start_time": "2021-07-28T11:43:35.276Z"
   },
   {
    "duration": 128,
    "start_time": "2021-07-28T11:43:39.197Z"
   },
   {
    "duration": 195,
    "start_time": "2021-07-28T11:43:46.309Z"
   },
   {
    "duration": 409,
    "start_time": "2021-07-28T11:47:42.414Z"
   },
   {
    "duration": 341,
    "start_time": "2021-07-28T11:47:46.611Z"
   },
   {
    "duration": 9,
    "start_time": "2021-07-28T11:48:31.725Z"
   },
   {
    "duration": 22,
    "start_time": "2021-07-28T11:48:37.911Z"
   },
   {
    "duration": 302,
    "start_time": "2021-07-28T11:49:30.427Z"
   },
   {
    "duration": 89,
    "start_time": "2021-07-28T11:49:39.955Z"
   },
   {
    "duration": 93,
    "start_time": "2021-07-28T11:54:46.724Z"
   },
   {
    "duration": 52,
    "start_time": "2021-07-28T11:56:22.461Z"
   },
   {
    "duration": 73,
    "start_time": "2021-07-28T11:56:31.496Z"
   },
   {
    "duration": 33,
    "start_time": "2021-07-28T11:57:08.117Z"
   },
   {
    "duration": 171,
    "start_time": "2021-07-28T11:57:11.668Z"
   },
   {
    "duration": 29,
    "start_time": "2021-07-28T11:57:13.197Z"
   },
   {
    "duration": 78,
    "start_time": "2021-07-28T11:57:14.425Z"
   },
   {
    "duration": 60,
    "start_time": "2021-07-28T11:57:49.603Z"
   },
   {
    "duration": 43,
    "start_time": "2021-07-28T11:58:21.399Z"
   },
   {
    "duration": -61,
    "start_time": "2021-07-28T12:00:19.219Z"
   },
   {
    "duration": 44,
    "start_time": "2021-07-28T12:00:23.711Z"
   },
   {
    "duration": 7420,
    "start_time": "2021-07-28T12:00:25.274Z"
   },
   {
    "duration": 6660,
    "start_time": "2021-07-28T12:00:41.664Z"
   },
   {
    "duration": 72,
    "start_time": "2021-07-28T12:02:49.231Z"
   },
   {
    "duration": 6718,
    "start_time": "2021-07-28T12:05:52.626Z"
   },
   {
    "duration": 104,
    "start_time": "2021-07-28T12:07:33.511Z"
   },
   {
    "duration": 98,
    "start_time": "2021-07-28T12:08:05.312Z"
   },
   {
    "duration": 97,
    "start_time": "2021-07-28T12:08:29.071Z"
   },
   {
    "duration": 113,
    "start_time": "2021-07-28T12:11:06.591Z"
   },
   {
    "duration": 174,
    "start_time": "2021-07-28T12:15:20.796Z"
   },
   {
    "duration": 641,
    "start_time": "2021-07-28T12:15:24.906Z"
   },
   {
    "duration": 196,
    "start_time": "2021-07-28T12:15:25.550Z"
   },
   {
    "duration": 114,
    "start_time": "2021-07-28T12:17:55.603Z"
   },
   {
    "duration": 4,
    "start_time": "2021-07-28T12:19:15.303Z"
   },
   {
    "duration": 477,
    "start_time": "2021-07-28T12:19:15.482Z"
   },
   {
    "duration": 14,
    "start_time": "2021-07-28T12:19:16.007Z"
   },
   {
    "duration": 23,
    "start_time": "2021-07-28T12:19:16.382Z"
   },
   {
    "duration": 14,
    "start_time": "2021-07-28T12:19:16.574Z"
   },
   {
    "duration": 13,
    "start_time": "2021-07-28T12:19:16.774Z"
   },
   {
    "duration": 21,
    "start_time": "2021-07-28T12:19:16.981Z"
   },
   {
    "duration": 512,
    "start_time": "2021-07-28T12:19:17.430Z"
   },
   {
    "duration": 771,
    "start_time": "2021-07-28T12:19:18.215Z"
   },
   {
    "duration": 118,
    "start_time": "2021-07-28T12:19:18.988Z"
   },
   {
    "duration": 88,
    "start_time": "2021-07-28T12:19:19.189Z"
   },
   {
    "duration": 47,
    "start_time": "2021-07-28T12:19:19.589Z"
   },
   {
    "duration": 122,
    "start_time": "2021-07-28T12:19:20.016Z"
   },
   {
    "duration": 1155,
    "start_time": "2021-07-28T12:19:20.421Z"
   },
   {
    "duration": 222,
    "start_time": "2021-07-28T12:19:21.579Z"
   },
   {
    "duration": 193,
    "start_time": "2021-07-28T12:20:51.700Z"
   },
   {
    "duration": 32,
    "start_time": "2021-07-28T12:21:43.943Z"
   },
   {
    "duration": 91,
    "start_time": "2021-07-28T12:22:43.502Z"
   },
   {
    "duration": 109,
    "start_time": "2021-07-28T12:22:48.881Z"
   },
   {
    "duration": 3,
    "start_time": "2021-07-28T12:28:11.334Z"
   },
   {
    "duration": 492,
    "start_time": "2021-07-28T12:35:01.412Z"
   },
   {
    "duration": 741,
    "start_time": "2021-07-28T12:52:49.688Z"
   },
   {
    "duration": 504,
    "start_time": "2021-07-28T12:52:52.533Z"
   },
   {
    "duration": 23,
    "start_time": "2021-07-28T12:52:54.358Z"
   },
   {
    "duration": 22,
    "start_time": "2021-07-28T12:52:55.627Z"
   },
   {
    "duration": 10,
    "start_time": "2021-07-28T12:52:56.156Z"
   },
   {
    "duration": 12,
    "start_time": "2021-07-28T12:52:56.831Z"
   },
   {
    "duration": 12,
    "start_time": "2021-07-28T12:53:24.372Z"
   },
   {
    "duration": 12,
    "start_time": "2021-07-28T12:54:15.435Z"
   },
   {
    "duration": 13,
    "start_time": "2021-07-28T13:03:25.236Z"
   },
   {
    "duration": 11,
    "start_time": "2021-07-28T13:04:26.326Z"
   },
   {
    "duration": 13,
    "start_time": "2021-07-28T13:10:05.928Z"
   },
   {
    "duration": 33,
    "start_time": "2021-07-28T13:10:24.104Z"
   },
   {
    "duration": 13,
    "start_time": "2021-07-28T13:12:53.953Z"
   },
   {
    "duration": 54,
    "start_time": "2021-07-28T13:14:57.010Z"
   },
   {
    "duration": 15,
    "start_time": "2021-07-28T13:15:05.881Z"
   },
   {
    "duration": 14,
    "start_time": "2021-07-28T13:15:08.929Z"
   },
   {
    "duration": 19,
    "start_time": "2021-07-28T13:15:47.338Z"
   },
   {
    "duration": 24,
    "start_time": "2021-07-28T13:15:52.276Z"
   },
   {
    "duration": 60,
    "start_time": "2021-07-28T13:17:34.448Z"
   },
   {
    "duration": 1157,
    "start_time": "2021-07-28T13:18:43.627Z"
   },
   {
    "duration": 1056,
    "start_time": "2021-07-28T13:19:22.563Z"
   },
   {
    "duration": 1454,
    "start_time": "2021-07-28T13:20:23.414Z"
   },
   {
    "duration": 1017,
    "start_time": "2021-07-28T13:20:34.506Z"
   },
   {
    "duration": 986,
    "start_time": "2021-07-28T13:20:41.298Z"
   },
   {
    "duration": 1060,
    "start_time": "2021-07-28T13:56:08.714Z"
   },
   {
    "duration": 1088,
    "start_time": "2021-07-28T13:56:17.305Z"
   },
   {
    "duration": 1121,
    "start_time": "2021-07-28T13:56:25.354Z"
   },
   {
    "duration": 1099,
    "start_time": "2021-07-28T13:56:41.069Z"
   },
   {
    "duration": 12,
    "start_time": "2021-07-28T13:57:01.377Z"
   },
   {
    "duration": 40,
    "start_time": "2021-07-28T13:57:58.416Z"
   },
   {
    "duration": 42,
    "start_time": "2021-07-28T13:58:02.224Z"
   },
   {
    "duration": 49,
    "start_time": "2021-07-28T13:58:04.151Z"
   },
   {
    "duration": 49,
    "start_time": "2021-07-28T14:01:01.352Z"
   },
   {
    "duration": 41,
    "start_time": "2021-07-28T14:01:08.766Z"
   },
   {
    "duration": 71,
    "start_time": "2021-07-28T14:01:12.005Z"
   },
   {
    "duration": 75,
    "start_time": "2021-07-28T14:01:26.409Z"
   },
   {
    "duration": 51,
    "start_time": "2021-07-28T14:01:54.688Z"
   },
   {
    "duration": 52,
    "start_time": "2021-07-28T14:02:19.887Z"
   },
   {
    "duration": 49,
    "start_time": "2021-07-28T14:02:24.500Z"
   },
   {
    "duration": 331,
    "start_time": "2021-07-28T14:02:30.914Z"
   },
   {
    "duration": 331,
    "start_time": "2021-07-28T14:02:51.274Z"
   },
   {
    "duration": 282,
    "start_time": "2021-07-28T14:03:04.931Z"
   },
   {
    "duration": 38,
    "start_time": "2021-07-28T14:04:27.115Z"
   },
   {
    "duration": 41,
    "start_time": "2021-07-28T14:04:35.044Z"
   },
   {
    "duration": 75,
    "start_time": "2021-07-28T14:04:41.694Z"
   },
   {
    "duration": 70,
    "start_time": "2021-07-28T14:05:11.878Z"
   },
   {
    "duration": 382,
    "start_time": "2021-07-28T14:05:48.902Z"
   },
   {
    "duration": 287,
    "start_time": "2021-07-28T14:05:51.276Z"
   },
   {
    "duration": 52,
    "start_time": "2021-07-28T14:05:59.139Z"
   },
   {
    "duration": 51,
    "start_time": "2021-07-28T14:06:26.684Z"
   },
   {
    "duration": 70,
    "start_time": "2021-07-28T14:06:41.721Z"
   },
   {
    "duration": 49,
    "start_time": "2021-07-28T14:07:15.168Z"
   },
   {
    "duration": 49,
    "start_time": "2021-07-28T14:07:19.577Z"
   },
   {
    "duration": 84,
    "start_time": "2021-07-28T14:08:30.655Z"
   },
   {
    "duration": 88,
    "start_time": "2021-07-28T14:08:47.564Z"
   },
   {
    "duration": 83,
    "start_time": "2021-07-28T14:08:56.858Z"
   },
   {
    "duration": 83,
    "start_time": "2021-07-28T14:09:15.893Z"
   },
   {
    "duration": 78,
    "start_time": "2021-07-28T14:11:38.771Z"
   },
   {
    "duration": 13,
    "start_time": "2021-07-28T14:17:59.298Z"
   },
   {
    "duration": 50,
    "start_time": "2021-07-28T14:19:27.819Z"
   },
   {
    "duration": 323,
    "start_time": "2021-07-28T14:20:25.785Z"
   },
   {
    "duration": 63,
    "start_time": "2021-07-28T14:20:37.906Z"
   },
   {
    "duration": 72,
    "start_time": "2021-07-28T14:20:43.856Z"
   },
   {
    "duration": 76,
    "start_time": "2021-07-28T14:20:52.778Z"
   },
   {
    "duration": 74,
    "start_time": "2021-07-28T14:21:52.200Z"
   },
   {
    "duration": 80,
    "start_time": "2021-07-28T14:23:34.375Z"
   },
   {
    "duration": 12,
    "start_time": "2021-07-28T14:24:10.719Z"
   },
   {
    "duration": 13,
    "start_time": "2021-07-28T14:24:11.103Z"
   },
   {
    "duration": 11,
    "start_time": "2021-07-28T14:24:11.610Z"
   },
   {
    "duration": 12,
    "start_time": "2021-07-28T14:24:12.184Z"
   },
   {
    "duration": 19,
    "start_time": "2021-07-28T14:24:13.321Z"
   },
   {
    "duration": 80,
    "start_time": "2021-07-28T14:26:07.632Z"
   },
   {
    "duration": 70,
    "start_time": "2021-07-28T14:26:11.770Z"
   },
   {
    "duration": 1602,
    "start_time": "2021-07-28T14:27:16.772Z"
   },
   {
    "duration": 36,
    "start_time": "2021-07-28T14:27:35.406Z"
   },
   {
    "duration": 369,
    "start_time": "2021-07-28T14:28:51.289Z"
   },
   {
    "duration": 310,
    "start_time": "2021-07-28T14:29:29.068Z"
   },
   {
    "duration": 295,
    "start_time": "2021-07-28T14:29:36.749Z"
   },
   {
    "duration": 312,
    "start_time": "2021-07-28T14:30:10.782Z"
   },
   {
    "duration": 14,
    "start_time": "2021-07-28T14:30:16.126Z"
   },
   {
    "duration": 314,
    "start_time": "2021-07-28T14:30:33.738Z"
   },
   {
    "duration": 12,
    "start_time": "2021-07-28T14:31:08.113Z"
   },
   {
    "duration": 15,
    "start_time": "2021-07-28T14:31:19.541Z"
   },
   {
    "duration": 2624,
    "start_time": "2021-07-28T14:31:27.788Z"
   },
   {
    "duration": 2563,
    "start_time": "2021-07-28T14:31:36.250Z"
   },
   {
    "duration": 2953,
    "start_time": "2021-07-28T14:31:54.572Z"
   },
   {
    "duration": 2635,
    "start_time": "2021-07-28T14:32:13.136Z"
   },
   {
    "duration": 12,
    "start_time": "2021-07-28T14:32:59.646Z"
   },
   {
    "duration": 11,
    "start_time": "2021-07-28T14:33:07.611Z"
   },
   {
    "duration": 4,
    "start_time": "2021-07-28T14:33:58.044Z"
   },
   {
    "duration": 466,
    "start_time": "2021-07-28T14:33:58.430Z"
   },
   {
    "duration": 11,
    "start_time": "2021-07-28T14:33:58.977Z"
   },
   {
    "duration": 12,
    "start_time": "2021-07-28T14:33:59.531Z"
   },
   {
    "duration": 10,
    "start_time": "2021-07-28T14:34:00.060Z"
   },
   {
    "duration": 11,
    "start_time": "2021-07-28T14:34:00.591Z"
   },
   {
    "duration": 15,
    "start_time": "2021-07-28T14:34:01.128Z"
   },
   {
    "duration": 112,
    "start_time": "2021-07-28T14:34:02.703Z"
   },
   {
    "duration": 91,
    "start_time": "2021-07-28T14:34:04.634Z"
   },
   {
    "duration": 13,
    "start_time": "2021-07-28T14:34:06.945Z"
   },
   {
    "duration": 42,
    "start_time": "2021-07-28T14:34:14.522Z"
   },
   {
    "duration": 1197,
    "start_time": "2021-07-28T14:34:35.363Z"
   },
   {
    "duration": 1131,
    "start_time": "2021-07-28T14:34:46.078Z"
   },
   {
    "duration": 1516,
    "start_time": "2021-07-28T14:34:53.585Z"
   },
   {
    "duration": 612,
    "start_time": "2021-07-28T14:35:24.860Z"
   },
   {
    "duration": 594,
    "start_time": "2021-07-28T14:44:33.662Z"
   },
   {
    "duration": 620,
    "start_time": "2021-07-28T14:45:18.831Z"
   },
   {
    "duration": 615,
    "start_time": "2021-07-28T14:46:49.383Z"
   },
   {
    "duration": 346,
    "start_time": "2021-07-28T14:47:38.116Z"
   },
   {
    "duration": 70,
    "start_time": "2021-07-28T14:47:46.095Z"
   },
   {
    "duration": 71,
    "start_time": "2021-07-28T14:47:55.937Z"
   },
   {
    "duration": 314,
    "start_time": "2021-07-28T14:48:04.510Z"
   },
   {
    "duration": 75,
    "start_time": "2021-07-28T14:48:08.878Z"
   },
   {
    "duration": 68,
    "start_time": "2021-07-28T14:48:10.134Z"
   },
   {
    "duration": 72,
    "start_time": "2021-07-28T14:50:23.640Z"
   },
   {
    "duration": 595,
    "start_time": "2021-07-28T14:50:29.426Z"
   },
   {
    "duration": 15,
    "start_time": "2021-07-28T14:52:49.962Z"
   },
   {
    "duration": 31,
    "start_time": "2021-07-28T14:52:55.155Z"
   },
   {
    "duration": 70,
    "start_time": "2021-07-28T14:54:06.746Z"
   },
   {
    "duration": 1116,
    "start_time": "2021-07-28T14:54:08.265Z"
   },
   {
    "duration": 15,
    "start_time": "2021-07-28T14:54:09.487Z"
   },
   {
    "duration": 23,
    "start_time": "2021-07-28T14:54:10.647Z"
   },
   {
    "duration": 29,
    "start_time": "2021-07-28T14:54:12.300Z"
   },
   {
    "duration": 48,
    "start_time": "2021-07-28T14:55:29.739Z"
   },
   {
    "duration": 14,
    "start_time": "2021-07-28T14:55:40.544Z"
   },
   {
    "duration": 28,
    "start_time": "2021-07-28T14:55:44.492Z"
   },
   {
    "duration": 22,
    "start_time": "2021-07-28T14:56:29.651Z"
   },
   {
    "duration": 21,
    "start_time": "2021-07-28T14:56:36.794Z"
   },
   {
    "duration": 31,
    "start_time": "2021-07-28T14:56:40.804Z"
   },
   {
    "duration": 28,
    "start_time": "2021-07-28T14:56:53.587Z"
   },
   {
    "duration": 1129,
    "start_time": "2021-07-28T14:57:15.966Z"
   },
   {
    "duration": 4,
    "start_time": "2021-07-28T14:57:22.453Z"
   },
   {
    "duration": 493,
    "start_time": "2021-07-28T14:57:22.885Z"
   },
   {
    "duration": 11,
    "start_time": "2021-07-28T14:57:23.386Z"
   },
   {
    "duration": 12,
    "start_time": "2021-07-28T14:57:23.980Z"
   },
   {
    "duration": 10,
    "start_time": "2021-07-28T14:57:24.732Z"
   },
   {
    "duration": 12,
    "start_time": "2021-07-28T14:57:25.288Z"
   },
   {
    "duration": 16,
    "start_time": "2021-07-28T14:57:25.859Z"
   },
   {
    "duration": 108,
    "start_time": "2021-07-28T14:57:28.221Z"
   },
   {
    "duration": 111,
    "start_time": "2021-07-28T14:57:30.674Z"
   },
   {
    "duration": 79,
    "start_time": "2021-07-28T14:57:47.813Z"
   },
   {
    "duration": 77,
    "start_time": "2021-07-28T14:57:59.864Z"
   },
   {
    "duration": 79,
    "start_time": "2021-07-28T14:58:04.946Z"
   },
   {
    "duration": 122,
    "start_time": "2021-07-28T15:00:15.386Z"
   },
   {
    "duration": 370,
    "start_time": "2021-07-28T15:00:20.119Z"
   },
   {
    "duration": 353,
    "start_time": "2021-07-28T15:00:29.707Z"
   },
   {
    "duration": 82,
    "start_time": "2021-07-28T15:01:15.607Z"
   },
   {
    "duration": 73,
    "start_time": "2021-07-28T15:01:49.040Z"
   },
   {
    "duration": 434,
    "start_time": "2021-07-28T15:02:46.383Z"
   },
   {
    "duration": 378,
    "start_time": "2021-07-28T15:02:57.593Z"
   },
   {
    "duration": 72,
    "start_time": "2021-07-28T15:03:04.935Z"
   },
   {
    "duration": 312,
    "start_time": "2021-07-28T15:03:54.479Z"
   },
   {
    "duration": 68,
    "start_time": "2021-07-28T15:04:02.944Z"
   },
   {
    "duration": 67,
    "start_time": "2021-07-28T15:04:20.286Z"
   },
   {
    "duration": 68,
    "start_time": "2021-07-28T15:04:36.663Z"
   },
   {
    "duration": 70,
    "start_time": "2021-07-28T15:10:02.156Z"
   },
   {
    "duration": 61,
    "start_time": "2021-07-28T15:10:04.120Z"
   },
   {
    "duration": 49,
    "start_time": "2021-07-28T15:10:05.209Z"
   },
   {
    "duration": 14,
    "start_time": "2021-07-28T15:10:06.524Z"
   },
   {
    "duration": 15,
    "start_time": "2021-07-28T15:10:09.137Z"
   },
   {
    "duration": 271,
    "start_time": "2021-07-28T15:10:13.547Z"
   },
   {
    "duration": 131,
    "start_time": "2021-07-28T15:11:16.268Z"
   },
   {
    "duration": 25,
    "start_time": "2021-07-28T15:11:19.012Z"
   },
   {
    "duration": 21,
    "start_time": "2021-07-28T15:11:34.459Z"
   },
   {
    "duration": 4,
    "start_time": "2021-07-28T15:13:06.790Z"
   },
   {
    "duration": 486,
    "start_time": "2021-07-28T15:13:07.062Z"
   },
   {
    "duration": 11,
    "start_time": "2021-07-28T15:13:07.551Z"
   },
   {
    "duration": 13,
    "start_time": "2021-07-28T15:13:07.968Z"
   },
   {
    "duration": 10,
    "start_time": "2021-07-28T15:13:08.496Z"
   },
   {
    "duration": 12,
    "start_time": "2021-07-28T15:13:09.046Z"
   },
   {
    "duration": 14,
    "start_time": "2021-07-28T15:13:09.577Z"
   },
   {
    "duration": 98,
    "start_time": "2021-07-28T15:13:11.229Z"
   },
   {
    "duration": 87,
    "start_time": "2021-07-28T15:13:13.441Z"
   },
   {
    "duration": 629,
    "start_time": "2021-07-28T15:13:15.072Z"
   },
   {
    "duration": 13,
    "start_time": "2021-07-28T15:13:17.729Z"
   },
   {
    "duration": 15,
    "start_time": "2021-07-28T15:13:18.754Z"
   },
   {
    "duration": 23,
    "start_time": "2021-07-28T15:13:20.419Z"
   },
   {
    "duration": 286,
    "start_time": "2021-07-28T15:13:22.314Z"
   },
   {
    "duration": 22,
    "start_time": "2021-07-28T15:13:49.961Z"
   },
   {
    "duration": 110,
    "start_time": "2021-07-28T15:20:32.270Z"
   },
   {
    "duration": 311,
    "start_time": "2021-07-28T15:20:38.621Z"
   },
   {
    "duration": 20,
    "start_time": "2021-07-28T15:29:35.752Z"
   },
   {
    "duration": 11,
    "start_time": "2021-07-28T15:34:41.685Z"
   },
   {
    "duration": 338,
    "start_time": "2021-07-28T15:34:53.405Z"
   },
   {
    "duration": 253,
    "start_time": "2021-07-28T15:35:25.492Z"
   },
   {
    "duration": 307,
    "start_time": "2021-07-28T15:35:45.767Z"
   },
   {
    "duration": 293,
    "start_time": "2021-07-28T15:36:13.587Z"
   },
   {
    "duration": 11,
    "start_time": "2021-07-28T15:36:26.064Z"
   },
   {
    "duration": 24,
    "start_time": "2021-07-28T15:40:55.544Z"
   },
   {
    "duration": 18,
    "start_time": "2021-07-28T15:41:35.203Z"
   },
   {
    "duration": 26,
    "start_time": "2021-07-28T15:42:58.026Z"
   },
   {
    "duration": 49,
    "start_time": "2021-07-28T15:43:05.699Z"
   },
   {
    "duration": 403,
    "start_time": "2021-07-28T15:43:54.971Z"
   },
   {
    "duration": 59,
    "start_time": "2021-07-28T15:44:17.149Z"
   },
   {
    "duration": 42,
    "start_time": "2021-07-28T15:45:17.860Z"
   },
   {
    "duration": 56,
    "start_time": "2021-07-28T15:45:40.578Z"
   },
   {
    "duration": 69,
    "start_time": "2021-07-28T15:46:13.533Z"
   },
   {
    "duration": 3,
    "start_time": "2021-07-28T15:57:03.372Z"
   },
   {
    "duration": 4,
    "start_time": "2021-07-28T15:57:11.443Z"
   },
   {
    "duration": 473,
    "start_time": "2021-07-28T15:57:11.619Z"
   },
   {
    "duration": 12,
    "start_time": "2021-07-28T15:57:12.094Z"
   },
   {
    "duration": 12,
    "start_time": "2021-07-28T15:57:12.109Z"
   },
   {
    "duration": 11,
    "start_time": "2021-07-28T15:57:12.171Z"
   },
   {
    "duration": 11,
    "start_time": "2021-07-28T15:57:12.350Z"
   },
   {
    "duration": 14,
    "start_time": "2021-07-28T15:57:12.519Z"
   },
   {
    "duration": 100,
    "start_time": "2021-07-28T15:57:13.443Z"
   },
   {
    "duration": 93,
    "start_time": "2021-07-28T15:57:13.869Z"
   },
   {
    "duration": 625,
    "start_time": "2021-07-28T15:57:14.481Z"
   },
   {
    "duration": 11,
    "start_time": "2021-07-28T15:57:15.321Z"
   },
   {
    "duration": 22,
    "start_time": "2021-07-28T15:57:16.547Z"
   },
   {
    "duration": 48,
    "start_time": "2021-07-28T15:57:17.904Z"
   },
   {
    "duration": 44,
    "start_time": "2021-07-28T15:57:26.683Z"
   },
   {
    "duration": 53,
    "start_time": "2021-07-28T15:57:32.738Z"
   },
   {
    "duration": 12,
    "start_time": "2021-07-28T15:57:50.015Z"
   },
   {
    "duration": 46,
    "start_time": "2021-07-28T15:58:06.329Z"
   },
   {
    "duration": 11,
    "start_time": "2021-07-28T15:58:10.758Z"
   },
   {
    "duration": 36,
    "start_time": "2021-07-28T15:58:21.124Z"
   },
   {
    "duration": 10,
    "start_time": "2021-07-28T15:58:39.289Z"
   },
   {
    "duration": 5,
    "start_time": "2021-07-28T16:00:36.402Z"
   },
   {
    "duration": 17,
    "start_time": "2021-07-28T16:02:00.533Z"
   },
   {
    "duration": 741,
    "start_time": "2021-07-28T16:02:11.196Z"
   },
   {
    "duration": 42,
    "start_time": "2021-07-28T16:03:21.952Z"
   },
   {
    "duration": 36,
    "start_time": "2021-07-28T16:03:26.990Z"
   },
   {
    "duration": 82,
    "start_time": "2021-07-28T16:04:03.818Z"
   },
   {
    "duration": 1017,
    "start_time": "2021-07-28T16:04:09.621Z"
   },
   {
    "duration": 1016,
    "start_time": "2021-07-28T16:04:21.672Z"
   },
   {
    "duration": 11,
    "start_time": "2021-07-28T16:04:22.690Z"
   },
   {
    "duration": 19,
    "start_time": "2021-07-28T16:04:23.709Z"
   },
   {
    "duration": 38,
    "start_time": "2021-07-28T16:04:25.646Z"
   },
   {
    "duration": 34,
    "start_time": "2021-07-28T16:04:49.462Z"
   },
   {
    "duration": 10,
    "start_time": "2021-07-28T16:04:50.978Z"
   },
   {
    "duration": 32,
    "start_time": "2021-07-28T16:04:52.848Z"
   },
   {
    "duration": 8,
    "start_time": "2021-07-28T16:04:54.824Z"
   },
   {
    "duration": 5,
    "start_time": "2021-07-28T16:04:57.189Z"
   },
   {
    "duration": 22,
    "start_time": "2021-07-28T16:06:24.429Z"
   },
   {
    "duration": 10,
    "start_time": "2021-07-28T16:08:03.383Z"
   },
   {
    "duration": 24,
    "start_time": "2021-07-28T16:08:08.966Z"
   },
   {
    "duration": 36,
    "start_time": "2021-07-28T16:09:16.820Z"
   },
   {
    "duration": 11,
    "start_time": "2021-07-28T16:09:20.666Z"
   },
   {
    "duration": 31,
    "start_time": "2021-07-28T16:09:24.391Z"
   },
   {
    "duration": 9,
    "start_time": "2021-07-28T16:09:24.928Z"
   },
   {
    "duration": 5,
    "start_time": "2021-07-28T16:09:25.659Z"
   },
   {
    "duration": 84,
    "start_time": "2021-07-28T16:09:26.313Z"
   },
   {
    "duration": 26,
    "start_time": "2021-07-28T16:09:27.081Z"
   },
   {
    "duration": 33,
    "start_time": "2021-07-28T16:11:31.576Z"
   },
   {
    "duration": 6,
    "start_time": "2021-07-28T16:14:08.765Z"
   },
   {
    "duration": 7,
    "start_time": "2021-07-28T16:14:29.844Z"
   },
   {
    "duration": 5,
    "start_time": "2021-07-28T16:14:35.892Z"
   },
   {
    "duration": 7,
    "start_time": "2021-07-28T16:14:36.781Z"
   },
   {
    "duration": 9,
    "start_time": "2021-07-28T16:14:47.076Z"
   },
   {
    "duration": 4,
    "start_time": "2021-07-29T07:49:31.406Z"
   },
   {
    "duration": 542,
    "start_time": "2021-07-29T07:49:31.861Z"
   },
   {
    "duration": 12,
    "start_time": "2021-07-29T07:49:32.538Z"
   },
   {
    "duration": 12,
    "start_time": "2021-07-29T07:49:33.586Z"
   },
   {
    "duration": 11,
    "start_time": "2021-07-29T07:49:34.176Z"
   },
   {
    "duration": 15,
    "start_time": "2021-07-29T07:49:34.722Z"
   },
   {
    "duration": 19,
    "start_time": "2021-07-29T07:49:35.367Z"
   },
   {
    "duration": 106,
    "start_time": "2021-07-29T07:49:38.657Z"
   },
   {
    "duration": 119,
    "start_time": "2021-07-29T07:49:39.928Z"
   },
   {
    "duration": 1388,
    "start_time": "2021-07-29T07:49:40.443Z"
   },
   {
    "duration": 13,
    "start_time": "2021-07-29T07:49:41.833Z"
   },
   {
    "duration": 42,
    "start_time": "2021-07-29T07:49:41.850Z"
   },
   {
    "duration": 37,
    "start_time": "2021-07-29T07:49:41.898Z"
   },
   {
    "duration": 11,
    "start_time": "2021-07-29T07:49:42.613Z"
   },
   {
    "duration": 32,
    "start_time": "2021-07-29T07:49:43.426Z"
   },
   {
    "duration": 8,
    "start_time": "2021-07-29T07:49:44.113Z"
   },
   {
    "duration": 5,
    "start_time": "2021-07-29T07:49:44.733Z"
   },
   {
    "duration": 7,
    "start_time": "2021-07-29T07:49:45.372Z"
   },
   {
    "duration": 9,
    "start_time": "2021-07-29T07:49:45.928Z"
   },
   {
    "duration": 128,
    "start_time": "2021-07-29T07:50:59.882Z"
   },
   {
    "duration": 5,
    "start_time": "2021-07-29T07:52:17.410Z"
   },
   {
    "duration": 14,
    "start_time": "2021-07-29T07:53:11.098Z"
   },
   {
    "duration": 5,
    "start_time": "2021-07-29T07:53:13.335Z"
   },
   {
    "duration": 12,
    "start_time": "2021-07-29T07:53:14.540Z"
   },
   {
    "duration": 4,
    "start_time": "2021-07-29T07:53:20.034Z"
   },
   {
    "duration": 546,
    "start_time": "2021-07-29T07:53:20.204Z"
   },
   {
    "duration": 12,
    "start_time": "2021-07-29T07:53:20.753Z"
   },
   {
    "duration": 21,
    "start_time": "2021-07-29T07:53:20.768Z"
   },
   {
    "duration": 13,
    "start_time": "2021-07-29T07:53:20.792Z"
   },
   {
    "duration": 12,
    "start_time": "2021-07-29T07:53:20.943Z"
   },
   {
    "duration": 16,
    "start_time": "2021-07-29T07:53:21.127Z"
   },
   {
    "duration": 108,
    "start_time": "2021-07-29T07:53:21.903Z"
   },
   {
    "duration": 102,
    "start_time": "2021-07-29T07:53:22.285Z"
   },
   {
    "duration": 1065,
    "start_time": "2021-07-29T07:53:22.647Z"
   },
   {
    "duration": 13,
    "start_time": "2021-07-29T07:53:23.715Z"
   },
   {
    "duration": 23,
    "start_time": "2021-07-29T07:53:23.731Z"
   },
   {
    "duration": 38,
    "start_time": "2021-07-29T07:53:23.801Z"
   },
   {
    "duration": 13,
    "start_time": "2021-07-29T07:53:24.173Z"
   },
   {
    "duration": 48,
    "start_time": "2021-07-29T07:53:25.041Z"
   },
   {
    "duration": 11,
    "start_time": "2021-07-29T07:53:25.252Z"
   },
   {
    "duration": 5,
    "start_time": "2021-07-29T07:53:26.029Z"
   },
   {
    "duration": 37,
    "start_time": "2021-07-29T07:53:26.830Z"
   },
   {
    "duration": 5,
    "start_time": "2021-07-29T07:53:27.244Z"
   },
   {
    "duration": 3,
    "start_time": "2021-07-29T07:53:34.619Z"
   },
   {
    "duration": 7,
    "start_time": "2021-07-29T07:54:01.993Z"
   },
   {
    "duration": 322,
    "start_time": "2021-07-29T07:55:36.480Z"
   },
   {
    "duration": 293,
    "start_time": "2021-07-29T07:55:46.645Z"
   },
   {
    "duration": 27,
    "start_time": "2021-07-29T07:56:11.493Z"
   },
   {
    "duration": 27,
    "start_time": "2021-07-29T07:56:36.595Z"
   },
   {
    "duration": 11,
    "start_time": "2021-07-29T07:56:47.674Z"
   },
   {
    "duration": 4,
    "start_time": "2021-07-29T07:56:55.576Z"
   },
   {
    "duration": 472,
    "start_time": "2021-07-29T07:56:55.743Z"
   },
   {
    "duration": 11,
    "start_time": "2021-07-29T07:56:56.217Z"
   },
   {
    "duration": 17,
    "start_time": "2021-07-29T07:56:56.231Z"
   },
   {
    "duration": 11,
    "start_time": "2021-07-29T07:56:56.351Z"
   },
   {
    "duration": 11,
    "start_time": "2021-07-29T07:56:56.576Z"
   },
   {
    "duration": 14,
    "start_time": "2021-07-29T07:56:56.959Z"
   },
   {
    "duration": 102,
    "start_time": "2021-07-29T07:56:58.197Z"
   },
   {
    "duration": 86,
    "start_time": "2021-07-29T07:56:59.088Z"
   },
   {
    "duration": 1025,
    "start_time": "2021-07-29T07:56:59.690Z"
   },
   {
    "duration": 11,
    "start_time": "2021-07-29T07:57:00.717Z"
   },
   {
    "duration": 22,
    "start_time": "2021-07-29T07:57:01.516Z"
   },
   {
    "duration": 37,
    "start_time": "2021-07-29T07:57:02.470Z"
   },
   {
    "duration": 10,
    "start_time": "2021-07-29T07:57:03.647Z"
   },
   {
    "duration": 30,
    "start_time": "2021-07-29T07:57:04.646Z"
   },
   {
    "duration": 12,
    "start_time": "2021-07-29T07:57:05.238Z"
   },
   {
    "duration": 7,
    "start_time": "2021-07-29T07:57:06.308Z"
   },
   {
    "duration": 26,
    "start_time": "2021-07-29T07:57:07.849Z"
   },
   {
    "duration": 17,
    "start_time": "2021-07-29T07:57:18.130Z"
   },
   {
    "duration": 15,
    "start_time": "2021-07-29T07:57:47.200Z"
   },
   {
    "duration": 25,
    "start_time": "2021-07-29T07:58:03.115Z"
   },
   {
    "duration": 25,
    "start_time": "2021-07-29T08:01:53.148Z"
   },
   {
    "duration": 93,
    "start_time": "2021-07-29T08:01:56.994Z"
   },
   {
    "duration": 16,
    "start_time": "2021-07-29T08:02:03.843Z"
   },
   {
    "duration": 17,
    "start_time": "2021-07-29T08:02:04.743Z"
   },
   {
    "duration": 5,
    "start_time": "2021-07-29T08:02:06.318Z"
   },
   {
    "duration": 17,
    "start_time": "2021-07-29T08:02:26.040Z"
   },
   {
    "duration": 18,
    "start_time": "2021-07-29T08:02:32.644Z"
   },
   {
    "duration": 107,
    "start_time": "2021-07-29T08:05:50.090Z"
   },
   {
    "duration": 1854,
    "start_time": "2021-07-29T08:06:27.681Z"
   },
   {
    "duration": 17,
    "start_time": "2021-07-29T08:06:35.545Z"
   },
   {
    "duration": 18,
    "start_time": "2021-07-29T08:07:24.682Z"
   },
   {
    "duration": 5,
    "start_time": "2021-07-29T08:07:25.437Z"
   },
   {
    "duration": 8,
    "start_time": "2021-07-29T08:07:27.457Z"
   },
   {
    "duration": 9,
    "start_time": "2021-07-29T08:07:39.644Z"
   },
   {
    "duration": 102,
    "start_time": "2021-07-29T08:16:16.419Z"
   },
   {
    "duration": 102,
    "start_time": "2021-07-29T08:55:56.967Z"
   },
   {
    "duration": 12,
    "start_time": "2021-07-29T09:00:32.137Z"
   },
   {
    "duration": 93,
    "start_time": "2021-07-29T09:01:14.943Z"
   },
   {
    "duration": 50,
    "start_time": "2021-07-29T09:02:04.695Z"
   },
   {
    "duration": 83,
    "start_time": "2021-07-29T09:02:15.106Z"
   },
   {
    "duration": 1038,
    "start_time": "2021-07-29T09:03:02.930Z"
   },
   {
    "duration": 50,
    "start_time": "2021-07-29T09:03:20.322Z"
   },
   {
    "duration": 18,
    "start_time": "2021-07-29T09:04:08.269Z"
   },
   {
    "duration": 45,
    "start_time": "2021-07-29T09:04:50.859Z"
   },
   {
    "duration": 4,
    "start_time": "2021-07-29T09:04:56.847Z"
   },
   {
    "duration": 478,
    "start_time": "2021-07-29T09:04:58.736Z"
   },
   {
    "duration": 11,
    "start_time": "2021-07-29T09:04:59.217Z"
   },
   {
    "duration": 14,
    "start_time": "2021-07-29T09:04:59.799Z"
   },
   {
    "duration": 12,
    "start_time": "2021-07-29T09:05:00.074Z"
   },
   {
    "duration": 14,
    "start_time": "2021-07-29T09:05:00.579Z"
   },
   {
    "duration": 15,
    "start_time": "2021-07-29T09:05:02.821Z"
   },
   {
    "duration": 14,
    "start_time": "2021-07-29T09:05:04.678Z"
   },
   {
    "duration": 125,
    "start_time": "2021-07-29T09:05:05.183Z"
   },
   {
    "duration": 95,
    "start_time": "2021-07-29T09:05:08.453Z"
   },
   {
    "duration": 72,
    "start_time": "2021-07-29T09:05:09.625Z"
   },
   {
    "duration": 11,
    "start_time": "2021-07-29T09:05:10.910Z"
   },
   {
    "duration": 27,
    "start_time": "2021-07-29T09:05:12.182Z"
   },
   {
    "duration": 40,
    "start_time": "2021-07-29T09:05:13.419Z"
   },
   {
    "duration": 11,
    "start_time": "2021-07-29T09:05:14.653Z"
   },
   {
    "duration": 43,
    "start_time": "2021-07-29T09:05:15.869Z"
   },
   {
    "duration": 9,
    "start_time": "2021-07-29T09:05:16.510Z"
   },
   {
    "duration": 5,
    "start_time": "2021-07-29T09:05:17.600Z"
   },
   {
    "duration": 19,
    "start_time": "2021-07-29T09:05:18.684Z"
   },
   {
    "duration": 19,
    "start_time": "2021-07-29T09:05:20.260Z"
   },
   {
    "duration": 5,
    "start_time": "2021-07-29T09:05:20.999Z"
   },
   {
    "duration": 23,
    "start_time": "2021-07-29T09:05:22.271Z"
   },
   {
    "duration": 5,
    "start_time": "2021-07-29T09:05:22.854Z"
   },
   {
    "duration": 9,
    "start_time": "2021-07-29T09:05:25.318Z"
   },
   {
    "duration": 3,
    "start_time": "2021-07-29T09:05:38.949Z"
   },
   {
    "duration": 496,
    "start_time": "2021-07-29T09:05:39.433Z"
   },
   {
    "duration": 12,
    "start_time": "2021-07-29T09:05:40.049Z"
   },
   {
    "duration": 17,
    "start_time": "2021-07-29T09:05:40.573Z"
   },
   {
    "duration": 10,
    "start_time": "2021-07-29T09:05:40.920Z"
   },
   {
    "duration": 12,
    "start_time": "2021-07-29T09:05:41.269Z"
   },
   {
    "duration": 15,
    "start_time": "2021-07-29T09:05:41.560Z"
   },
   {
    "duration": 11,
    "start_time": "2021-07-29T09:05:42.435Z"
   },
   {
    "duration": 138,
    "start_time": "2021-07-29T09:05:42.645Z"
   },
   {
    "duration": 84,
    "start_time": "2021-07-29T09:05:43.045Z"
   },
   {
    "duration": 70,
    "start_time": "2021-07-29T09:05:43.428Z"
   },
   {
    "duration": 12,
    "start_time": "2021-07-29T09:05:43.810Z"
   },
   {
    "duration": 21,
    "start_time": "2021-07-29T09:05:44.194Z"
   },
   {
    "duration": 39,
    "start_time": "2021-07-29T09:05:44.589Z"
   },
   {
    "duration": 11,
    "start_time": "2021-07-29T09:05:45.015Z"
   },
   {
    "duration": 38,
    "start_time": "2021-07-29T09:05:45.511Z"
   },
   {
    "duration": 9,
    "start_time": "2021-07-29T09:05:45.742Z"
   },
   {
    "duration": 5,
    "start_time": "2021-07-29T09:05:46.204Z"
   },
   {
    "duration": 18,
    "start_time": "2021-07-29T09:05:46.928Z"
   },
   {
    "duration": 18,
    "start_time": "2021-07-29T09:05:47.141Z"
   },
   {
    "duration": 4,
    "start_time": "2021-07-29T09:05:47.517Z"
   },
   {
    "duration": 21,
    "start_time": "2021-07-29T09:05:48.232Z"
   },
   {
    "duration": 5,
    "start_time": "2021-07-29T09:05:48.539Z"
   },
   {
    "duration": 8,
    "start_time": "2021-07-29T09:05:52.315Z"
   },
   {
    "duration": 19,
    "start_time": "2021-07-29T09:05:59.585Z"
   },
   {
    "duration": 95,
    "start_time": "2021-07-29T09:10:59.361Z"
   },
   {
    "duration": 16,
    "start_time": "2021-07-29T09:13:04.224Z"
   },
   {
    "duration": 18,
    "start_time": "2021-07-29T09:13:46.184Z"
   },
   {
    "duration": 135,
    "start_time": "2021-07-29T09:19:42.232Z"
   },
   {
    "duration": 25,
    "start_time": "2021-07-29T09:19:57.978Z"
   },
   {
    "duration": 41,
    "start_time": "2021-07-29T09:24:46.984Z"
   },
   {
    "duration": 35,
    "start_time": "2021-07-29T09:25:36.551Z"
   },
   {
    "duration": 32,
    "start_time": "2021-07-29T09:26:06.761Z"
   },
   {
    "duration": 96,
    "start_time": "2021-07-29T09:27:27.396Z"
   },
   {
    "duration": 268,
    "start_time": "2021-07-29T09:27:30.218Z"
   },
   {
    "duration": 35,
    "start_time": "2021-07-29T09:27:41.226Z"
   },
   {
    "duration": 33,
    "start_time": "2021-07-29T09:34:48.590Z"
   },
   {
    "duration": 35,
    "start_time": "2021-07-29T09:35:27.144Z"
   },
   {
    "duration": 670,
    "start_time": "2021-07-29T09:35:43.872Z"
   },
   {
    "duration": 33,
    "start_time": "2021-07-29T09:35:48.100Z"
   },
   {
    "duration": 3,
    "start_time": "2021-07-29T09:35:58.519Z"
   },
   {
    "duration": 493,
    "start_time": "2021-07-29T09:35:59.044Z"
   },
   {
    "duration": 11,
    "start_time": "2021-07-29T09:35:59.539Z"
   },
   {
    "duration": 13,
    "start_time": "2021-07-29T09:35:59.744Z"
   },
   {
    "duration": 11,
    "start_time": "2021-07-29T09:36:00.802Z"
   },
   {
    "duration": 12,
    "start_time": "2021-07-29T09:36:01.421Z"
   },
   {
    "duration": 16,
    "start_time": "2021-07-29T09:36:03.206Z"
   },
   {
    "duration": 12,
    "start_time": "2021-07-29T09:36:03.866Z"
   },
   {
    "duration": 109,
    "start_time": "2021-07-29T09:36:04.031Z"
   },
   {
    "duration": 90,
    "start_time": "2021-07-29T09:36:04.386Z"
   },
   {
    "duration": 68,
    "start_time": "2021-07-29T09:36:04.868Z"
   },
   {
    "duration": 11,
    "start_time": "2021-07-29T09:36:05.252Z"
   },
   {
    "duration": 21,
    "start_time": "2021-07-29T09:36:06.164Z"
   },
   {
    "duration": 42,
    "start_time": "2021-07-29T09:36:07.211Z"
   },
   {
    "duration": 12,
    "start_time": "2021-07-29T09:36:08.211Z"
   },
   {
    "duration": 39,
    "start_time": "2021-07-29T09:36:09.122Z"
   },
   {
    "duration": 8,
    "start_time": "2021-07-29T09:36:09.471Z"
   },
   {
    "duration": 6,
    "start_time": "2021-07-29T09:36:10.966Z"
   },
   {
    "duration": 18,
    "start_time": "2021-07-29T09:36:11.912Z"
   },
   {
    "duration": 19,
    "start_time": "2021-07-29T09:36:12.442Z"
   },
   {
    "duration": 5,
    "start_time": "2021-07-29T09:36:12.981Z"
   },
   {
    "duration": 20,
    "start_time": "2021-07-29T09:36:16.892Z"
   },
   {
    "duration": 4,
    "start_time": "2021-07-29T09:36:17.840Z"
   },
   {
    "duration": 11,
    "start_time": "2021-07-29T09:36:19.022Z"
   },
   {
    "duration": 17,
    "start_time": "2021-07-29T09:36:21.654Z"
   },
   {
    "duration": 17,
    "start_time": "2021-07-29T09:36:25.902Z"
   },
   {
    "duration": 35,
    "start_time": "2021-07-29T09:36:30.966Z"
   },
   {
    "duration": 34,
    "start_time": "2021-07-29T09:36:49.685Z"
   },
   {
    "duration": 10,
    "start_time": "2021-07-29T09:42:20.427Z"
   },
   {
    "duration": 16,
    "start_time": "2021-07-29T09:48:10.428Z"
   },
   {
    "duration": 28,
    "start_time": "2021-07-29T09:48:16.905Z"
   },
   {
    "duration": 18,
    "start_time": "2021-07-29T09:48:24.307Z"
   },
   {
    "duration": 29,
    "start_time": "2021-07-29T09:48:25.522Z"
   },
   {
    "duration": 139,
    "start_time": "2021-07-29T09:49:58.325Z"
   },
   {
    "duration": 1542,
    "start_time": "2021-07-29T09:50:15.300Z"
   },
   {
    "duration": 1355,
    "start_time": "2021-07-29T09:50:21.250Z"
   },
   {
    "duration": 25,
    "start_time": "2021-07-29T09:54:54.169Z"
   },
   {
    "duration": 277,
    "start_time": "2021-07-29T09:55:47.888Z"
   },
   {
    "duration": 31,
    "start_time": "2021-07-29T09:55:59.623Z"
   },
   {
    "duration": 31,
    "start_time": "2021-07-29T09:58:03.498Z"
   },
   {
    "duration": 12,
    "start_time": "2021-07-29T10:01:28.390Z"
   },
   {
    "duration": 33,
    "start_time": "2021-07-29T10:01:34.165Z"
   },
   {
    "duration": 293,
    "start_time": "2021-07-29T10:02:49.743Z"
   },
   {
    "duration": 31,
    "start_time": "2021-07-29T10:03:02.280Z"
   },
   {
    "duration": 3538,
    "start_time": "2021-07-29T10:04:07.477Z"
   },
   {
    "duration": 95,
    "start_time": "2021-07-29T10:04:56.033Z"
   },
   {
    "duration": -120,
    "start_time": "2021-07-29T10:05:08.416Z"
   },
   {
    "duration": 3567,
    "start_time": "2021-07-29T10:05:12.562Z"
   },
   {
    "duration": 4938,
    "start_time": "2021-07-29T10:05:17.119Z"
   },
   {
    "duration": 272,
    "start_time": "2021-07-29T10:06:36.449Z"
   },
   {
    "duration": 39,
    "start_time": "2021-07-29T10:06:38.951Z"
   },
   {
    "duration": 1338,
    "start_time": "2021-07-29T10:09:13.238Z"
   },
   {
    "duration": 2587,
    "start_time": "2021-07-29T10:14:52.684Z"
   },
   {
    "duration": 122,
    "start_time": "2021-07-29T10:16:38.600Z"
   },
   {
    "duration": 28,
    "start_time": "2021-07-29T10:16:48.760Z"
   },
   {
    "duration": 472,
    "start_time": "2021-07-29T10:45:29.564Z"
   },
   {
    "duration": 26,
    "start_time": "2021-07-29T10:45:43.339Z"
   },
   {
    "duration": 314,
    "start_time": "2021-07-29T10:53:33.257Z"
   },
   {
    "duration": 4,
    "start_time": "2021-07-29T10:53:44.129Z"
   },
   {
    "duration": 474,
    "start_time": "2021-07-29T10:53:44.524Z"
   },
   {
    "duration": 11,
    "start_time": "2021-07-29T10:53:45.000Z"
   },
   {
    "duration": 34,
    "start_time": "2021-07-29T10:53:45.175Z"
   },
   {
    "duration": 20,
    "start_time": "2021-07-29T10:53:45.380Z"
   },
   {
    "duration": 14,
    "start_time": "2021-07-29T10:53:45.555Z"
   },
   {
    "duration": 12,
    "start_time": "2021-07-29T10:53:45.735Z"
   },
   {
    "duration": 14,
    "start_time": "2021-07-29T10:53:45.926Z"
   },
   {
    "duration": 11,
    "start_time": "2021-07-29T10:53:46.819Z"
   },
   {
    "duration": 108,
    "start_time": "2021-07-29T10:53:47.005Z"
   },
   {
    "duration": 91,
    "start_time": "2021-07-29T10:53:47.392Z"
   },
   {
    "duration": 71,
    "start_time": "2021-07-29T10:53:47.784Z"
   },
   {
    "duration": 12,
    "start_time": "2021-07-29T10:53:48.156Z"
   },
   {
    "duration": 21,
    "start_time": "2021-07-29T10:53:48.528Z"
   },
   {
    "duration": 335,
    "start_time": "2021-07-29T10:53:48.956Z"
   },
   {
    "duration": 11,
    "start_time": "2021-07-29T10:53:50.135Z"
   },
   {
    "duration": 41,
    "start_time": "2021-07-29T10:54:00.731Z"
   },
   {
    "duration": 10,
    "start_time": "2021-07-29T10:54:01.948Z"
   },
   {
    "duration": 39,
    "start_time": "2021-07-29T10:54:03.007Z"
   },
   {
    "duration": 9,
    "start_time": "2021-07-29T10:54:03.435Z"
   },
   {
    "duration": 5,
    "start_time": "2021-07-29T10:54:04.521Z"
   },
   {
    "duration": 18,
    "start_time": "2021-07-29T10:54:05.993Z"
   },
   {
    "duration": 19,
    "start_time": "2021-07-29T10:54:06.577Z"
   },
   {
    "duration": 4,
    "start_time": "2021-07-29T10:54:07.127Z"
   },
   {
    "duration": 19,
    "start_time": "2021-07-29T10:54:09.319Z"
   },
   {
    "duration": 5,
    "start_time": "2021-07-29T10:54:10.062Z"
   },
   {
    "duration": 9,
    "start_time": "2021-07-29T10:54:11.241Z"
   },
   {
    "duration": 17,
    "start_time": "2021-07-29T10:54:13.537Z"
   },
   {
    "duration": 9,
    "start_time": "2021-07-29T10:54:14.163Z"
   },
   {
    "duration": 33,
    "start_time": "2021-07-29T10:54:21.742Z"
   },
   {
    "duration": 6670,
    "start_time": "2021-07-29T10:57:49.078Z"
   },
   {
    "duration": 7044,
    "start_time": "2021-07-29T10:57:57.095Z"
   },
   {
    "duration": 10,
    "start_time": "2021-07-29T10:58:29.302Z"
   },
   {
    "duration": 6787,
    "start_time": "2021-07-29T10:58:37.669Z"
   },
   {
    "duration": 34,
    "start_time": "2021-07-29T10:58:57.550Z"
   },
   {
    "duration": 6968,
    "start_time": "2021-07-29T11:00:14.650Z"
   },
   {
    "duration": 6768,
    "start_time": "2021-07-29T11:00:31.140Z"
   },
   {
    "duration": 13,
    "start_time": "2021-07-29T11:01:19.986Z"
   },
   {
    "duration": 6825,
    "start_time": "2021-07-29T11:02:32.968Z"
   },
   {
    "duration": 8150,
    "start_time": "2021-07-29T11:02:55.568Z"
   },
   {
    "duration": 13,
    "start_time": "2021-07-29T11:04:28.666Z"
   },
   {
    "duration": 4,
    "start_time": "2021-07-29T11:04:38.567Z"
   },
   {
    "duration": 457,
    "start_time": "2021-07-29T11:04:39.367Z"
   },
   {
    "duration": 11,
    "start_time": "2021-07-29T11:04:40.267Z"
   },
   {
    "duration": 23,
    "start_time": "2021-07-29T11:05:27.195Z"
   },
   {
    "duration": 20,
    "start_time": "2021-07-29T11:05:39.841Z"
   },
   {
    "duration": 9,
    "start_time": "2021-07-29T11:05:51.718Z"
   },
   {
    "duration": 10,
    "start_time": "2021-07-29T11:06:07.662Z"
   },
   {
    "duration": 93,
    "start_time": "2021-07-29T11:06:34.489Z"
   },
   {
    "duration": 84,
    "start_time": "2021-07-29T11:13:57.016Z"
   },
   {
    "duration": 103,
    "start_time": "2021-07-29T11:18:19.787Z"
   },
   {
    "duration": 95,
    "start_time": "2021-07-29T11:18:33.699Z"
   },
   {
    "duration": 97,
    "start_time": "2021-07-29T11:19:29.905Z"
   },
   {
    "duration": 108,
    "start_time": "2021-07-29T11:20:22.230Z"
   },
   {
    "duration": 107,
    "start_time": "2021-07-29T11:20:29.441Z"
   },
   {
    "duration": 3,
    "start_time": "2021-07-29T11:20:35.748Z"
   },
   {
    "duration": 469,
    "start_time": "2021-07-29T11:20:35.948Z"
   },
   {
    "duration": 11,
    "start_time": "2021-07-29T11:20:36.420Z"
   },
   {
    "duration": 27,
    "start_time": "2021-07-29T11:20:36.434Z"
   },
   {
    "duration": 12,
    "start_time": "2021-07-29T11:20:36.730Z"
   },
   {
    "duration": 21,
    "start_time": "2021-07-29T11:20:36.752Z"
   },
   {
    "duration": 10,
    "start_time": "2021-07-29T11:20:36.946Z"
   },
   {
    "duration": 18,
    "start_time": "2021-07-29T11:20:37.189Z"
   },
   {
    "duration": 12,
    "start_time": "2021-07-29T11:20:41.071Z"
   },
   {
    "duration": 9,
    "start_time": "2021-07-29T11:20:41.552Z"
   },
   {
    "duration": 13,
    "start_time": "2021-07-29T11:20:42.149Z"
   },
   {
    "duration": 8,
    "start_time": "2021-07-29T11:20:42.818Z"
   },
   {
    "duration": 99,
    "start_time": "2021-07-29T11:20:44.703Z"
   },
   {
    "duration": 96,
    "start_time": "2021-07-29T11:20:51.672Z"
   },
   {
    "duration": 79,
    "start_time": "2021-07-29T11:21:07.600Z"
   },
   {
    "duration": 20,
    "start_time": "2021-07-29T11:21:23.013Z"
   },
   {
    "duration": 28,
    "start_time": "2021-07-29T11:21:26.207Z"
   },
   {
    "duration": 512,
    "start_time": "2021-07-29T11:28:49.125Z"
   },
   {
    "duration": 370,
    "start_time": "2021-07-29T11:28:55.627Z"
   },
   {
    "duration": 76,
    "start_time": "2021-07-29T11:29:18.645Z"
   },
   {
    "duration": 555,
    "start_time": "2021-07-29T11:30:31.680Z"
   },
   {
    "duration": 21,
    "start_time": "2021-07-29T11:30:46.922Z"
   },
   {
    "duration": 349,
    "start_time": "2021-07-29T11:31:07.664Z"
   },
   {
    "duration": 264,
    "start_time": "2021-07-29T11:31:15.295Z"
   },
   {
    "duration": 315,
    "start_time": "2021-07-29T11:31:36.153Z"
   },
   {
    "duration": 23,
    "start_time": "2021-07-29T11:32:18.762Z"
   },
   {
    "duration": 324,
    "start_time": "2021-07-29T11:32:27.605Z"
   },
   {
    "duration": 53,
    "start_time": "2021-07-29T11:33:00.066Z"
   },
   {
    "duration": 57,
    "start_time": "2021-07-29T11:33:10.989Z"
   },
   {
    "duration": 44,
    "start_time": "2021-07-29T11:34:56.932Z"
   },
   {
    "duration": 22,
    "start_time": "2021-07-29T11:35:14.050Z"
   },
   {
    "duration": 28,
    "start_time": "2021-07-29T11:35:22.840Z"
   },
   {
    "duration": 11,
    "start_time": "2021-07-29T11:35:33.326Z"
   },
   {
    "duration": 45,
    "start_time": "2021-07-29T11:35:41.461Z"
   },
   {
    "duration": 27,
    "start_time": "2021-07-29T11:36:45.369Z"
   },
   {
    "duration": 79,
    "start_time": "2021-07-29T11:36:51.591Z"
   },
   {
    "duration": 20,
    "start_time": "2021-07-29T11:36:52.614Z"
   },
   {
    "duration": 19,
    "start_time": "2021-07-29T11:36:53.176Z"
   },
   {
    "duration": 61,
    "start_time": "2021-07-29T11:36:54.030Z"
   },
   {
    "duration": 41,
    "start_time": "2021-07-29T11:36:59.836Z"
   },
   {
    "duration": 112,
    "start_time": "2021-07-29T11:37:25.917Z"
   },
   {
    "duration": 89,
    "start_time": "2021-07-29T11:37:29.881Z"
   },
   {
    "duration": 97,
    "start_time": "2021-07-29T11:37:33.329Z"
   },
   {
    "duration": 22,
    "start_time": "2021-07-29T11:37:38.370Z"
   },
   {
    "duration": 328,
    "start_time": "2021-07-29T11:40:05.920Z"
   },
   {
    "duration": 314,
    "start_time": "2021-07-29T11:40:35.930Z"
   },
   {
    "duration": 48,
    "start_time": "2021-07-29T11:40:47.765Z"
   },
   {
    "duration": 11,
    "start_time": "2021-07-29T11:41:16.499Z"
   },
   {
    "duration": 8,
    "start_time": "2021-07-29T11:41:36.216Z"
   },
   {
    "duration": 9,
    "start_time": "2021-07-29T11:44:11.430Z"
   },
   {
    "duration": 7941,
    "start_time": "2021-07-29T11:44:25.934Z"
   },
   {
    "duration": 5,
    "start_time": "2021-07-29T11:44:41.854Z"
   },
   {
    "duration": 5,
    "start_time": "2021-07-29T11:45:51.875Z"
   },
   {
    "duration": 21,
    "start_time": "2021-07-29T11:45:52.785Z"
   },
   {
    "duration": 20,
    "start_time": "2021-07-29T11:45:53.574Z"
   },
   {
    "duration": 5,
    "start_time": "2021-07-29T11:45:54.684Z"
   },
   {
    "duration": 21,
    "start_time": "2021-07-29T11:45:56.517Z"
   },
   {
    "duration": 5,
    "start_time": "2021-07-29T11:45:58.935Z"
   },
   {
    "duration": 11,
    "start_time": "2021-07-29T11:46:01.618Z"
   },
   {
    "duration": 7,
    "start_time": "2021-07-29T11:47:01.644Z"
   },
   {
    "duration": 10,
    "start_time": "2021-07-29T11:47:03.087Z"
   },
   {
    "duration": 5,
    "start_time": "2021-07-29T11:47:32.004Z"
   },
   {
    "duration": 8,
    "start_time": "2021-07-29T11:47:32.823Z"
   },
   {
    "duration": 17,
    "start_time": "2021-07-29T11:55:41.798Z"
   },
   {
    "duration": 56,
    "start_time": "2021-07-29T11:55:58.245Z"
   },
   {
    "duration": 52,
    "start_time": "2021-07-29T12:02:02.521Z"
   },
   {
    "duration": 51,
    "start_time": "2021-07-29T12:02:15.952Z"
   },
   {
    "duration": 51,
    "start_time": "2021-07-29T12:02:18.743Z"
   },
   {
    "duration": 51,
    "start_time": "2021-07-29T12:05:52.861Z"
   },
   {
    "duration": 51,
    "start_time": "2021-07-29T12:06:37.173Z"
   },
   {
    "duration": 54,
    "start_time": "2021-07-29T12:06:54.034Z"
   },
   {
    "duration": 59,
    "start_time": "2021-07-29T12:08:20.794Z"
   },
   {
    "duration": 44,
    "start_time": "2021-07-29T12:10:21.999Z"
   },
   {
    "duration": 40,
    "start_time": "2021-07-29T12:10:34.488Z"
   },
   {
    "duration": 9,
    "start_time": "2021-07-29T12:10:38.498Z"
   },
   {
    "duration": 5,
    "start_time": "2021-07-29T12:10:47.068Z"
   },
   {
    "duration": 20,
    "start_time": "2021-07-29T12:10:48.234Z"
   },
   {
    "duration": 20,
    "start_time": "2021-07-29T12:10:48.857Z"
   },
   {
    "duration": 4,
    "start_time": "2021-07-29T12:10:49.477Z"
   },
   {
    "duration": 19,
    "start_time": "2021-07-29T12:10:50.732Z"
   },
   {
    "duration": 4,
    "start_time": "2021-07-29T12:10:51.617Z"
   },
   {
    "duration": 5,
    "start_time": "2021-07-29T12:10:52.942Z"
   },
   {
    "duration": 97,
    "start_time": "2021-07-29T12:12:09.349Z"
   },
   {
    "duration": 6,
    "start_time": "2021-07-29T12:12:14.791Z"
   },
   {
    "duration": 8,
    "start_time": "2021-07-29T12:12:16.353Z"
   },
   {
    "duration": 297,
    "start_time": "2021-07-29T12:14:27.932Z"
   },
   {
    "duration": 279,
    "start_time": "2021-07-29T12:14:37.063Z"
   },
   {
    "duration": 310,
    "start_time": "2021-07-29T12:14:53.318Z"
   },
   {
    "duration": 3,
    "start_time": "2021-07-29T12:15:13.845Z"
   },
   {
    "duration": 500,
    "start_time": "2021-07-29T12:15:14.024Z"
   },
   {
    "duration": 11,
    "start_time": "2021-07-29T12:15:14.527Z"
   },
   {
    "duration": 36,
    "start_time": "2021-07-29T12:15:14.542Z"
   },
   {
    "duration": 12,
    "start_time": "2021-07-29T12:15:14.581Z"
   },
   {
    "duration": 23,
    "start_time": "2021-07-29T12:15:14.687Z"
   },
   {
    "duration": 11,
    "start_time": "2021-07-29T12:15:14.866Z"
   },
   {
    "duration": 21,
    "start_time": "2021-07-29T12:15:15.039Z"
   },
   {
    "duration": 12,
    "start_time": "2021-07-29T12:15:15.201Z"
   },
   {
    "duration": 8,
    "start_time": "2021-07-29T12:15:15.384Z"
   },
   {
    "duration": 15,
    "start_time": "2021-07-29T12:15:15.568Z"
   },
   {
    "duration": 10,
    "start_time": "2021-07-29T12:15:15.742Z"
   },
   {
    "duration": 86,
    "start_time": "2021-07-29T12:15:16.486Z"
   },
   {
    "duration": 78,
    "start_time": "2021-07-29T12:15:17.130Z"
   },
   {
    "duration": 17,
    "start_time": "2021-07-29T12:15:17.541Z"
   },
   {
    "duration": 57,
    "start_time": "2021-07-29T12:15:17.722Z"
   },
   {
    "duration": 49,
    "start_time": "2021-07-29T12:15:18.165Z"
   },
   {
    "duration": 41,
    "start_time": "2021-07-29T12:15:19.907Z"
   },
   {
    "duration": 9,
    "start_time": "2021-07-29T12:15:21.001Z"
   },
   {
    "duration": 5,
    "start_time": "2021-07-29T12:15:22.381Z"
   },
   {
    "duration": 17,
    "start_time": "2021-07-29T12:15:23.364Z"
   },
   {
    "duration": 20,
    "start_time": "2021-07-29T12:15:23.847Z"
   },
   {
    "duration": 5,
    "start_time": "2021-07-29T12:15:24.376Z"
   },
   {
    "duration": 21,
    "start_time": "2021-07-29T12:15:25.695Z"
   },
   {
    "duration": 5,
    "start_time": "2021-07-29T12:15:26.309Z"
   },
   {
    "duration": 6,
    "start_time": "2021-07-29T12:15:27.286Z"
   },
   {
    "duration": 9,
    "start_time": "2021-07-29T12:15:28.084Z"
   },
   {
    "duration": 17,
    "start_time": "2021-07-29T12:15:30.442Z"
   },
   {
    "duration": 314,
    "start_time": "2021-07-29T12:15:32.532Z"
   },
   {
    "duration": 314,
    "start_time": "2021-07-29T12:15:46.722Z"
   },
   {
    "duration": 12,
    "start_time": "2021-07-29T12:18:41.944Z"
   },
   {
    "duration": 294,
    "start_time": "2021-07-29T12:21:50.308Z"
   },
   {
    "duration": 298,
    "start_time": "2021-07-29T12:21:59.805Z"
   },
   {
    "duration": 285,
    "start_time": "2021-07-29T12:22:13.645Z"
   },
   {
    "duration": 3,
    "start_time": "2021-07-29T12:23:05.704Z"
   },
   {
    "duration": 14,
    "start_time": "2021-07-29T12:24:48.807Z"
   },
   {
    "duration": 5,
    "start_time": "2021-07-29T12:25:15.120Z"
   },
   {
    "duration": 13,
    "start_time": "2021-07-29T12:25:27.350Z"
   },
   {
    "duration": 283,
    "start_time": "2021-07-29T12:25:40.948Z"
   },
   {
    "duration": 357,
    "start_time": "2021-07-29T12:26:02.696Z"
   },
   {
    "duration": 99,
    "start_time": "2021-07-29T12:27:21.944Z"
   },
   {
    "duration": 5,
    "start_time": "2021-07-29T12:27:27.557Z"
   },
   {
    "duration": 5,
    "start_time": "2021-07-29T12:28:32.009Z"
   },
   {
    "duration": 93,
    "start_time": "2021-07-29T12:29:17.829Z"
   },
   {
    "duration": 4,
    "start_time": "2021-07-29T12:29:26.640Z"
   },
   {
    "duration": 11,
    "start_time": "2021-07-29T12:29:28.020Z"
   },
   {
    "duration": 35,
    "start_time": "2021-07-29T12:29:35.131Z"
   },
   {
    "duration": 29,
    "start_time": "2021-07-29T12:30:07.388Z"
   },
   {
    "duration": 12,
    "start_time": "2021-07-29T12:30:44.018Z"
   },
   {
    "duration": 40,
    "start_time": "2021-07-29T12:30:49.123Z"
   },
   {
    "duration": 33,
    "start_time": "2021-07-29T12:30:52.366Z"
   },
   {
    "duration": 28,
    "start_time": "2021-07-29T12:31:27.050Z"
   },
   {
    "duration": 30,
    "start_time": "2021-07-29T12:31:36.328Z"
   },
   {
    "duration": 28,
    "start_time": "2021-07-29T12:35:01.950Z"
   },
   {
    "duration": 51,
    "start_time": "2021-07-29T12:40:23.156Z"
   },
   {
    "duration": 6632,
    "start_time": "2021-07-29T12:41:33.685Z"
   },
   {
    "duration": 29,
    "start_time": "2021-07-29T12:41:56.502Z"
   },
   {
    "duration": 32,
    "start_time": "2021-07-29T12:42:08.423Z"
   },
   {
    "duration": 75,
    "start_time": "2021-07-29T12:42:11.568Z"
   },
   {
    "duration": 20,
    "start_time": "2021-07-29T12:42:16.740Z"
   },
   {
    "duration": 50,
    "start_time": "2021-07-29T12:42:17.469Z"
   },
   {
    "duration": 48,
    "start_time": "2021-07-29T12:42:21.993Z"
   },
   {
    "duration": 41,
    "start_time": "2021-07-29T12:42:22.641Z"
   },
   {
    "duration": 9,
    "start_time": "2021-07-29T12:42:23.122Z"
   },
   {
    "duration": 5,
    "start_time": "2021-07-29T12:42:27.727Z"
   },
   {
    "duration": 27,
    "start_time": "2021-07-29T12:42:27.735Z"
   },
   {
    "duration": 20,
    "start_time": "2021-07-29T12:42:27.795Z"
   },
   {
    "duration": 4,
    "start_time": "2021-07-29T12:42:27.972Z"
   },
   {
    "duration": 20,
    "start_time": "2021-07-29T12:42:28.313Z"
   },
   {
    "duration": 5,
    "start_time": "2021-07-29T12:42:28.474Z"
   },
   {
    "duration": 6,
    "start_time": "2021-07-29T12:42:28.836Z"
   },
   {
    "duration": 12,
    "start_time": "2021-07-29T12:42:29.217Z"
   },
   {
    "duration": 4,
    "start_time": "2021-07-29T12:42:48.942Z"
   },
   {
    "duration": 27,
    "start_time": "2021-07-29T12:42:50.146Z"
   },
   {
    "duration": 5,
    "start_time": "2021-07-29T12:42:51.191Z"
   },
   {
    "duration": 287,
    "start_time": "2021-07-29T12:44:27.649Z"
   },
   {
    "duration": 314,
    "start_time": "2021-07-29T12:44:39.638Z"
   },
   {
    "duration": 287,
    "start_time": "2021-07-29T12:45:28.090Z"
   },
   {
    "duration": 4,
    "start_time": "2021-07-29T12:45:49.513Z"
   },
   {
    "duration": 105,
    "start_time": "2021-07-29T12:46:01.942Z"
   },
   {
    "duration": 292,
    "start_time": "2021-07-29T12:46:08.670Z"
   },
   {
    "duration": 4,
    "start_time": "2021-07-29T12:46:40.214Z"
   },
   {
    "duration": 578,
    "start_time": "2021-07-29T12:46:44.870Z"
   },
   {
    "duration": 488,
    "start_time": "2021-07-29T12:46:45.450Z"
   },
   {
    "duration": 10,
    "start_time": "2021-07-29T12:46:45.942Z"
   },
   {
    "duration": 29,
    "start_time": "2021-07-29T12:46:45.955Z"
   },
   {
    "duration": 12,
    "start_time": "2021-07-29T12:46:45.987Z"
   },
   {
    "duration": 25,
    "start_time": "2021-07-29T12:46:46.001Z"
   },
   {
    "duration": 11,
    "start_time": "2021-07-29T12:46:46.029Z"
   },
   {
    "duration": 18,
    "start_time": "2021-07-29T12:46:46.084Z"
   },
   {
    "duration": 13,
    "start_time": "2021-07-29T12:46:46.262Z"
   },
   {
    "duration": 9,
    "start_time": "2021-07-29T12:46:46.420Z"
   },
   {
    "duration": 18,
    "start_time": "2021-07-29T12:46:46.603Z"
   },
   {
    "duration": 11,
    "start_time": "2021-07-29T12:46:46.777Z"
   },
   {
    "duration": 85,
    "start_time": "2021-07-29T12:46:47.474Z"
   },
   {
    "duration": 68,
    "start_time": "2021-07-29T12:46:48.075Z"
   },
   {
    "duration": 16,
    "start_time": "2021-07-29T12:46:48.466Z"
   },
   {
    "duration": 53,
    "start_time": "2021-07-29T12:46:48.646Z"
   },
   {
    "duration": 46,
    "start_time": "2021-07-29T12:46:48.985Z"
   },
   {
    "duration": 52,
    "start_time": "2021-07-29T12:46:49.548Z"
   },
   {
    "duration": 9,
    "start_time": "2021-07-29T12:46:49.932Z"
   },
   {
    "duration": 5,
    "start_time": "2021-07-29T12:46:50.311Z"
   },
   {
    "duration": 19,
    "start_time": "2021-07-29T12:46:50.774Z"
   },
   {
    "duration": 20,
    "start_time": "2021-07-29T12:46:50.990Z"
   },
   {
    "duration": 4,
    "start_time": "2021-07-29T12:46:51.224Z"
   },
   {
    "duration": 20,
    "start_time": "2021-07-29T12:46:51.675Z"
   },
   {
    "duration": 5,
    "start_time": "2021-07-29T12:46:51.886Z"
   },
   {
    "duration": 5,
    "start_time": "2021-07-29T12:46:52.450Z"
   },
   {
    "duration": 8,
    "start_time": "2021-07-29T12:46:52.840Z"
   },
   {
    "duration": 6,
    "start_time": "2021-07-29T12:46:54.047Z"
   },
   {
    "duration": 27,
    "start_time": "2021-07-29T12:46:54.475Z"
   },
   {
    "duration": 314,
    "start_time": "2021-07-29T12:46:56.866Z"
   },
   {
    "duration": 268,
    "start_time": "2021-07-29T12:47:52.306Z"
   },
   {
    "duration": 6,
    "start_time": "2021-07-29T12:47:55.118Z"
   },
   {
    "duration": 34,
    "start_time": "2021-07-29T12:48:04.647Z"
   },
   {
    "duration": 33,
    "start_time": "2021-07-29T12:49:04.399Z"
   },
   {
    "duration": 34,
    "start_time": "2021-07-29T12:51:20.569Z"
   },
   {
    "duration": 296,
    "start_time": "2021-07-29T12:52:02.601Z"
   },
   {
    "duration": 34,
    "start_time": "2021-07-29T12:52:06.425Z"
   },
   {
    "duration": 27,
    "start_time": "2021-07-29T12:52:17.321Z"
   },
   {
    "duration": 33,
    "start_time": "2021-07-29T12:52:53.922Z"
   },
   {
    "duration": 7,
    "start_time": "2021-07-29T12:53:25.029Z"
   },
   {
    "duration": 59,
    "start_time": "2021-07-29T12:53:33.815Z"
   },
   {
    "duration": 58,
    "start_time": "2021-07-29T12:53:45.718Z"
   },
   {
    "duration": 58,
    "start_time": "2021-07-29T12:53:50.951Z"
   },
   {
    "duration": 44,
    "start_time": "2021-07-29T12:53:56.345Z"
   },
   {
    "duration": 48,
    "start_time": "2021-07-29T12:53:57.768Z"
   },
   {
    "duration": 343,
    "start_time": "2021-07-29T12:58:59.574Z"
   },
   {
    "duration": 105,
    "start_time": "2021-07-29T12:59:06.286Z"
   },
   {
    "duration": 4,
    "start_time": "2021-07-29T12:59:12.485Z"
   },
   {
    "duration": 24,
    "start_time": "2021-07-29T12:59:21.474Z"
   },
   {
    "duration": 18,
    "start_time": "2021-07-29T13:01:02.974Z"
   },
   {
    "duration": 17,
    "start_time": "2021-07-29T13:01:09.262Z"
   },
   {
    "duration": 13,
    "start_time": "2021-07-29T13:01:24.447Z"
   },
   {
    "duration": 19,
    "start_time": "2021-07-29T13:01:57.627Z"
   },
   {
    "duration": 32,
    "start_time": "2021-07-29T13:02:21.071Z"
   },
   {
    "duration": 21,
    "start_time": "2021-07-29T13:04:29.758Z"
   },
   {
    "duration": 39,
    "start_time": "2021-07-29T13:04:58.549Z"
   },
   {
    "duration": 35,
    "start_time": "2021-07-29T13:06:19.018Z"
   },
   {
    "duration": 17,
    "start_time": "2021-07-29T13:07:11.239Z"
   },
   {
    "duration": 28,
    "start_time": "2021-07-29T13:07:17.959Z"
   },
   {
    "duration": 21,
    "start_time": "2021-07-29T13:07:29.930Z"
   },
   {
    "duration": 25,
    "start_time": "2021-07-29T13:07:46.004Z"
   },
   {
    "duration": 27,
    "start_time": "2021-07-29T13:45:10.670Z"
   },
   {
    "duration": 24,
    "start_time": "2021-07-29T13:45:24.346Z"
   },
   {
    "duration": 25,
    "start_time": "2021-07-29T13:45:59.627Z"
   },
   {
    "duration": 86,
    "start_time": "2021-07-29T13:47:47.161Z"
   },
   {
    "duration": 33,
    "start_time": "2021-07-29T13:47:53.768Z"
   },
   {
    "duration": 31,
    "start_time": "2021-07-29T13:48:09.283Z"
   },
   {
    "duration": 89,
    "start_time": "2021-07-29T13:49:02.346Z"
   },
   {
    "duration": 26,
    "start_time": "2021-07-29T13:50:18.569Z"
   },
   {
    "duration": 287,
    "start_time": "2021-07-29T13:51:35.417Z"
   },
   {
    "duration": 11,
    "start_time": "2021-07-29T13:51:48.050Z"
   },
   {
    "duration": 31,
    "start_time": "2021-07-29T13:53:05.924Z"
   },
   {
    "duration": 20,
    "start_time": "2021-07-29T13:53:40.980Z"
   },
   {
    "duration": 41,
    "start_time": "2021-07-29T13:53:46.704Z"
   },
   {
    "duration": 27,
    "start_time": "2021-07-29T13:58:28.004Z"
   },
   {
    "duration": 39,
    "start_time": "2021-07-29T13:58:39.206Z"
   },
   {
    "duration": 17,
    "start_time": "2021-07-29T14:00:12.921Z"
   },
   {
    "duration": 32,
    "start_time": "2021-07-29T14:00:46.719Z"
   },
   {
    "duration": 9,
    "start_time": "2021-07-29T14:01:00.381Z"
   },
   {
    "duration": 34,
    "start_time": "2021-07-29T14:01:02.727Z"
   },
   {
    "duration": 37,
    "start_time": "2021-07-29T14:03:16.887Z"
   },
   {
    "duration": 36,
    "start_time": "2021-07-29T14:03:40.326Z"
   },
   {
    "duration": 7,
    "start_time": "2021-07-29T14:04:17.772Z"
   },
   {
    "duration": 36,
    "start_time": "2021-07-29T14:04:23.537Z"
   },
   {
    "duration": 29,
    "start_time": "2021-07-29T14:04:30.862Z"
   },
   {
    "duration": 5,
    "start_time": "2021-07-29T14:04:35.672Z"
   },
   {
    "duration": 37,
    "start_time": "2021-07-29T14:04:36.515Z"
   },
   {
    "duration": 38,
    "start_time": "2021-07-29T14:05:45.450Z"
   },
   {
    "duration": 45,
    "start_time": "2021-07-29T14:06:04.148Z"
   },
   {
    "duration": 30,
    "start_time": "2021-07-29T14:06:39.713Z"
   },
   {
    "duration": 72,
    "start_time": "2021-07-29T14:07:10.136Z"
   },
   {
    "duration": 93,
    "start_time": "2021-07-29T14:14:17.882Z"
   },
   {
    "duration": 278,
    "start_time": "2021-07-29T14:14:27.963Z"
   },
   {
    "duration": 270,
    "start_time": "2021-07-29T14:14:49.086Z"
   },
   {
    "duration": 6,
    "start_time": "2021-07-29T14:14:54.959Z"
   },
   {
    "duration": 43,
    "start_time": "2021-07-29T14:15:10.820Z"
   },
   {
    "duration": 116,
    "start_time": "2021-07-29T14:15:32.329Z"
   },
   {
    "duration": 92,
    "start_time": "2021-07-29T14:15:36.055Z"
   },
   {
    "duration": 100,
    "start_time": "2021-07-29T14:15:44.132Z"
   },
   {
    "duration": 46,
    "start_time": "2021-07-29T14:15:53.688Z"
   },
   {
    "duration": 5,
    "start_time": "2021-07-29T14:17:03.622Z"
   },
   {
    "duration": 52,
    "start_time": "2021-07-29T14:17:06.842Z"
   },
   {
    "duration": 304,
    "start_time": "2021-07-29T14:18:07.891Z"
   },
   {
    "duration": 467,
    "start_time": "2021-07-29T14:18:18.967Z"
   },
   {
    "duration": 43,
    "start_time": "2021-07-29T14:18:45.408Z"
   },
   {
    "duration": 9,
    "start_time": "2021-07-29T14:29:02.317Z"
   },
   {
    "duration": 16,
    "start_time": "2021-07-29T14:29:38.619Z"
   },
   {
    "duration": 33,
    "start_time": "2021-07-29T14:29:42.016Z"
   },
   {
    "duration": 87,
    "start_time": "2021-07-29T14:32:00.700Z"
   },
   {
    "duration": 39,
    "start_time": "2021-07-29T14:32:04.971Z"
   },
   {
    "duration": 10,
    "start_time": "2021-07-29T14:32:19.061Z"
   },
   {
    "duration": 32,
    "start_time": "2021-07-29T14:32:19.683Z"
   },
   {
    "duration": 24,
    "start_time": "2021-07-29T14:32:24.118Z"
   },
   {
    "duration": 40,
    "start_time": "2021-07-29T14:32:28.243Z"
   },
   {
    "duration": 34,
    "start_time": "2021-07-29T14:32:31.600Z"
   },
   {
    "duration": 33,
    "start_time": "2021-07-29T14:33:38.077Z"
   },
   {
    "duration": 33,
    "start_time": "2021-07-29T14:33:55.253Z"
   },
   {
    "duration": 7,
    "start_time": "2021-07-29T14:35:59.545Z"
   },
   {
    "duration": 27,
    "start_time": "2021-07-29T14:36:03.318Z"
   },
   {
    "duration": 6,
    "start_time": "2021-07-29T14:36:13.570Z"
   },
   {
    "duration": 44,
    "start_time": "2021-07-29T14:36:14.156Z"
   },
   {
    "duration": 31,
    "start_time": "2021-07-29T14:36:16.131Z"
   },
   {
    "duration": 41,
    "start_time": "2021-07-29T14:36:22.278Z"
   },
   {
    "duration": 655,
    "start_time": "2021-07-29T16:25:50.762Z"
   },
   {
    "duration": 330,
    "start_time": "2021-07-29T16:26:10.490Z"
   },
   {
    "duration": 926,
    "start_time": "2021-07-29T16:26:21.293Z"
   },
   {
    "duration": 380,
    "start_time": "2021-07-29T16:26:22.221Z"
   },
   {
    "duration": 11,
    "start_time": "2021-07-29T16:26:22.603Z"
   },
   {
    "duration": 28,
    "start_time": "2021-07-29T16:26:22.615Z"
   },
   {
    "duration": 7,
    "start_time": "2021-07-29T16:26:22.645Z"
   },
   {
    "duration": 28,
    "start_time": "2021-07-29T16:26:22.654Z"
   },
   {
    "duration": 7,
    "start_time": "2021-07-29T16:26:22.684Z"
   },
   {
    "duration": 25,
    "start_time": "2021-07-29T16:26:22.693Z"
   },
   {
    "duration": 12,
    "start_time": "2021-07-29T16:26:22.720Z"
   },
   {
    "duration": 10,
    "start_time": "2021-07-29T16:26:22.733Z"
   },
   {
    "duration": 13,
    "start_time": "2021-07-29T16:26:22.744Z"
   },
   {
    "duration": 9,
    "start_time": "2021-07-29T16:26:22.758Z"
   },
   {
    "duration": 81,
    "start_time": "2021-07-29T16:26:22.769Z"
   },
   {
    "duration": 56,
    "start_time": "2021-07-29T16:26:22.851Z"
   },
   {
    "duration": 9,
    "start_time": "2021-07-29T16:26:22.909Z"
   },
   {
    "duration": 62,
    "start_time": "2021-07-29T16:26:22.919Z"
   },
   {
    "duration": 31,
    "start_time": "2021-07-29T16:26:22.982Z"
   },
   {
    "duration": 41,
    "start_time": "2021-07-29T16:26:23.014Z"
   },
   {
    "duration": 6,
    "start_time": "2021-07-29T16:26:23.057Z"
   },
   {
    "duration": 11,
    "start_time": "2021-07-29T16:26:23.064Z"
   },
   {
    "duration": 18,
    "start_time": "2021-07-29T16:26:23.077Z"
   },
   {
    "duration": 16,
    "start_time": "2021-07-29T16:26:23.096Z"
   },
   {
    "duration": 8,
    "start_time": "2021-07-29T16:26:23.115Z"
   },
   {
    "duration": 34,
    "start_time": "2021-07-29T16:26:23.125Z"
   },
   {
    "duration": 11,
    "start_time": "2021-07-29T16:26:23.161Z"
   },
   {
    "duration": 26,
    "start_time": "2021-07-29T16:26:23.173Z"
   },
   {
    "duration": 24,
    "start_time": "2021-07-29T16:26:23.201Z"
   },
   {
    "duration": 18,
    "start_time": "2021-07-29T16:26:23.227Z"
   },
   {
    "duration": 11,
    "start_time": "2021-07-29T16:26:23.247Z"
   },
   {
    "duration": 8,
    "start_time": "2021-07-29T16:26:23.259Z"
   },
   {
    "duration": 20,
    "start_time": "2021-07-29T16:26:23.269Z"
   },
   {
    "duration": 22,
    "start_time": "2021-07-29T16:26:23.290Z"
   },
   {
    "duration": 30,
    "start_time": "2021-07-29T16:26:23.314Z"
   },
   {
    "duration": 22,
    "start_time": "2021-07-29T16:26:23.346Z"
   },
   {
    "duration": 8,
    "start_time": "2021-07-29T16:26:23.370Z"
   },
   {
    "duration": 26,
    "start_time": "2021-07-29T16:26:23.380Z"
   },
   {
    "duration": 34,
    "start_time": "2021-07-29T16:26:23.408Z"
   },
   {
    "duration": 511,
    "start_time": "2021-07-29T16:26:23.443Z"
   },
   {
    "duration": 418,
    "start_time": "2021-07-29T16:28:22.536Z"
   },
   {
    "duration": 432,
    "start_time": "2021-07-29T16:28:53.646Z"
   },
   {
    "duration": 456,
    "start_time": "2021-07-29T16:28:58.722Z"
   },
   {
    "duration": 4,
    "start_time": "2021-07-29T16:29:07.828Z"
   },
   {
    "duration": 443,
    "start_time": "2021-07-29T16:29:49.017Z"
   },
   {
    "duration": 109,
    "start_time": "2021-07-29T16:42:50.482Z"
   },
   {
    "duration": 127,
    "start_time": "2021-07-29T16:42:59.070Z"
   },
   {
    "duration": 439,
    "start_time": "2021-07-29T16:45:17.976Z"
   },
   {
    "duration": 128,
    "start_time": "2021-07-29T16:47:24.945Z"
   },
   {
    "duration": 119,
    "start_time": "2021-07-29T16:48:14.901Z"
   },
   {
    "duration": 5,
    "start_time": "2021-07-29T16:51:33.357Z"
   },
   {
    "duration": 26,
    "start_time": "2021-07-29T16:51:43.501Z"
   },
   {
    "duration": 84,
    "start_time": "2021-07-29T16:54:27.595Z"
   },
   {
    "duration": 92,
    "start_time": "2021-07-29T16:54:34.231Z"
   },
   {
    "duration": 11,
    "start_time": "2021-07-29T16:54:36.745Z"
   },
   {
    "duration": 19,
    "start_time": "2021-07-29T16:54:44.024Z"
   },
   {
    "duration": 15,
    "start_time": "2021-07-29T16:55:01.401Z"
   },
   {
    "duration": 92,
    "start_time": "2021-07-29T16:55:05.723Z"
   },
   {
    "duration": 15,
    "start_time": "2021-07-29T16:55:07.769Z"
   },
   {
    "duration": 15,
    "start_time": "2021-07-29T16:55:26.720Z"
   },
   {
    "duration": 16,
    "start_time": "2021-07-29T16:55:29.672Z"
   },
   {
    "duration": 26,
    "start_time": "2021-07-29T16:56:05.935Z"
   },
   {
    "duration": 16,
    "start_time": "2021-07-29T16:56:09.850Z"
   },
   {
    "duration": 1367,
    "start_time": "2021-07-30T07:18:34.770Z"
   },
   {
    "duration": 547,
    "start_time": "2021-07-30T07:18:36.140Z"
   },
   {
    "duration": 15,
    "start_time": "2021-07-30T07:18:36.690Z"
   },
   {
    "duration": 30,
    "start_time": "2021-07-30T07:18:36.708Z"
   },
   {
    "duration": 12,
    "start_time": "2021-07-30T07:18:36.740Z"
   },
   {
    "duration": 23,
    "start_time": "2021-07-30T07:18:36.762Z"
   },
   {
    "duration": 10,
    "start_time": "2021-07-30T07:18:36.788Z"
   },
   {
    "duration": 60,
    "start_time": "2021-07-30T07:18:36.802Z"
   },
   {
    "duration": 12,
    "start_time": "2021-07-30T07:18:36.865Z"
   },
   {
    "duration": 13,
    "start_time": "2021-07-30T07:18:36.880Z"
   },
   {
    "duration": 16,
    "start_time": "2021-07-30T07:18:36.895Z"
   },
   {
    "duration": 54,
    "start_time": "2021-07-30T07:18:36.913Z"
   },
   {
    "duration": 126,
    "start_time": "2021-07-30T07:18:36.969Z"
   },
   {
    "duration": 96,
    "start_time": "2021-07-30T07:18:37.098Z"
   },
   {
    "duration": 16,
    "start_time": "2021-07-30T07:18:37.196Z"
   },
   {
    "duration": 98,
    "start_time": "2021-07-30T07:18:37.214Z"
   },
   {
    "duration": 67,
    "start_time": "2021-07-30T07:18:37.315Z"
   },
   {
    "duration": 39,
    "start_time": "2021-07-30T07:18:37.385Z"
   },
   {
    "duration": 37,
    "start_time": "2021-07-30T07:18:37.427Z"
   },
   {
    "duration": 5,
    "start_time": "2021-07-30T07:18:37.467Z"
   },
   {
    "duration": 22,
    "start_time": "2021-07-30T07:18:37.475Z"
   },
   {
    "duration": 69,
    "start_time": "2021-07-30T07:18:37.499Z"
   },
   {
    "duration": 6,
    "start_time": "2021-07-30T07:18:37.573Z"
   },
   {
    "duration": 24,
    "start_time": "2021-07-30T07:18:37.581Z"
   },
   {
    "duration": 56,
    "start_time": "2021-07-30T07:18:37.608Z"
   },
   {
    "duration": 13,
    "start_time": "2021-07-30T07:18:37.667Z"
   },
   {
    "duration": 10,
    "start_time": "2021-07-30T07:18:37.682Z"
   },
   {
    "duration": 28,
    "start_time": "2021-07-30T07:18:37.694Z"
   },
   {
    "duration": 49,
    "start_time": "2021-07-30T07:18:37.724Z"
   },
   {
    "duration": 11,
    "start_time": "2021-07-30T07:18:37.775Z"
   },
   {
    "duration": 73,
    "start_time": "2021-07-30T07:18:37.789Z"
   },
   {
    "duration": 38,
    "start_time": "2021-07-30T07:18:37.866Z"
   },
   {
    "duration": 7,
    "start_time": "2021-07-30T07:18:37.907Z"
   },
   {
    "duration": 67,
    "start_time": "2021-07-30T07:18:37.916Z"
   },
   {
    "duration": 9,
    "start_time": "2021-07-30T07:18:37.985Z"
   },
   {
    "duration": 59,
    "start_time": "2021-07-30T07:18:37.996Z"
   },
   {
    "duration": 32,
    "start_time": "2021-07-30T07:18:38.061Z"
   },
   {
    "duration": 241,
    "start_time": "2021-07-30T07:18:38.095Z"
   },
   {
    "duration": 56,
    "start_time": "2021-07-30T07:18:38.338Z"
   },
   {
    "duration": 23,
    "start_time": "2021-07-30T07:18:38.396Z"
   },
   {
    "duration": 95,
    "start_time": "2021-07-30T07:18:53.779Z"
   },
   {
    "duration": 36,
    "start_time": "2021-07-30T07:18:56.230Z"
   },
   {
    "duration": 82,
    "start_time": "2021-07-30T07:19:02.465Z"
   },
   {
    "duration": 33,
    "start_time": "2021-07-30T07:19:06.440Z"
   },
   {
    "duration": 4,
    "start_time": "2021-07-30T07:21:04.921Z"
   },
   {
    "duration": 35,
    "start_time": "2021-07-30T07:27:00.081Z"
   },
   {
    "duration": 42,
    "start_time": "2021-07-30T07:28:00.087Z"
   },
   {
    "duration": 13,
    "start_time": "2021-07-30T07:28:06.223Z"
   },
   {
    "duration": 34,
    "start_time": "2021-07-30T07:28:08.378Z"
   },
   {
    "duration": 19,
    "start_time": "2021-07-30T07:31:27.565Z"
   },
   {
    "duration": 16,
    "start_time": "2021-07-30T07:31:40.626Z"
   },
   {
    "duration": 31,
    "start_time": "2021-07-30T07:32:35.369Z"
   },
   {
    "duration": 328,
    "start_time": "2021-07-30T07:32:37.639Z"
   },
   {
    "duration": 257,
    "start_time": "2021-07-30T07:35:38.177Z"
   },
   {
    "duration": 64,
    "start_time": "2021-07-30T07:39:00.878Z"
   },
   {
    "duration": 62,
    "start_time": "2021-07-30T07:40:22.800Z"
   },
   {
    "duration": 263,
    "start_time": "2021-07-30T07:42:50.391Z"
   },
   {
    "duration": 27,
    "start_time": "2021-07-30T07:43:01.638Z"
   },
   {
    "duration": 28,
    "start_time": "2021-07-30T07:45:41.692Z"
   },
   {
    "duration": 270,
    "start_time": "2021-07-30T07:49:51.814Z"
   },
   {
    "duration": 40,
    "start_time": "2021-07-30T07:50:06.645Z"
   },
   {
    "duration": 22,
    "start_time": "2021-07-30T07:50:35.736Z"
   },
   {
    "duration": 33,
    "start_time": "2021-07-30T07:50:47.179Z"
   },
   {
    "duration": 45,
    "start_time": "2021-07-30T07:51:04.538Z"
   },
   {
    "duration": 33,
    "start_time": "2021-07-30T07:51:20.318Z"
   },
   {
    "duration": 45,
    "start_time": "2021-07-30T07:51:21.434Z"
   },
   {
    "duration": 38,
    "start_time": "2021-07-30T07:51:51.101Z"
   },
   {
    "duration": 24,
    "start_time": "2021-07-30T07:53:07.673Z"
   },
   {
    "duration": 31,
    "start_time": "2021-07-30T07:53:18.246Z"
   },
   {
    "duration": 33,
    "start_time": "2021-07-30T07:53:39.979Z"
   },
   {
    "duration": 23,
    "start_time": "2021-07-30T07:56:35.549Z"
   },
   {
    "duration": 35,
    "start_time": "2021-07-30T07:57:00.867Z"
   },
   {
    "duration": 32,
    "start_time": "2021-07-30T08:02:51.215Z"
   },
   {
    "duration": 37,
    "start_time": "2021-07-30T08:02:55.098Z"
   },
   {
    "duration": 34,
    "start_time": "2021-07-30T08:04:41.641Z"
   },
   {
    "duration": 6322,
    "start_time": "2021-07-30T08:05:44.438Z"
   },
   {
    "duration": 6123,
    "start_time": "2021-07-30T08:06:21.473Z"
   },
   {
    "duration": 260,
    "start_time": "2021-07-30T08:06:49.613Z"
   },
   {
    "duration": 29,
    "start_time": "2021-07-30T08:06:53.522Z"
   },
   {
    "duration": 15,
    "start_time": "2021-07-30T08:06:54.751Z"
   },
   {
    "duration": -1209,
    "start_time": "2021-07-30T08:07:52.032Z"
   },
   {
    "duration": -1223,
    "start_time": "2021-07-30T08:07:52.047Z"
   },
   {
    "duration": 109,
    "start_time": "2021-07-30T08:08:43.545Z"
   },
   {
    "duration": 86,
    "start_time": "2021-07-30T08:10:05.857Z"
   },
   {
    "duration": 113,
    "start_time": "2021-07-30T08:10:09.681Z"
   },
   {
    "duration": 163,
    "start_time": "2021-07-30T08:10:57.342Z"
   },
   {
    "duration": 6291,
    "start_time": "2021-07-30T08:14:39.200Z"
   },
   {
    "duration": 4,
    "start_time": "2021-07-30T08:22:31.466Z"
   },
   {
    "duration": 102,
    "start_time": "2021-07-30T08:23:20.132Z"
   },
   {
    "duration": 78,
    "start_time": "2021-07-30T08:24:07.161Z"
   },
   {
    "duration": 6612,
    "start_time": "2021-07-30T08:24:18.070Z"
   },
   {
    "duration": 652,
    "start_time": "2021-07-30T08:24:35.510Z"
   },
   {
    "duration": 986,
    "start_time": "2021-07-30T08:25:12.849Z"
   },
   {
    "duration": 1044,
    "start_time": "2021-07-30T08:25:29.408Z"
   },
   {
    "duration": 1054,
    "start_time": "2021-07-30T08:25:39.779Z"
   },
   {
    "duration": 87,
    "start_time": "2021-07-30T08:25:59.874Z"
   },
   {
    "duration": 97,
    "start_time": "2021-07-30T08:26:14.992Z"
   },
   {
    "duration": 969,
    "start_time": "2021-07-30T08:26:20.021Z"
   },
   {
    "duration": 1785,
    "start_time": "2021-07-30T08:26:54.193Z"
   },
   {
    "duration": 225,
    "start_time": "2021-07-30T08:28:03.162Z"
   },
   {
    "duration": 1685,
    "start_time": "2021-07-30T08:28:04.756Z"
   },
   {
    "duration": 195,
    "start_time": "2021-07-30T08:35:26.999Z"
   },
   {
    "duration": 334,
    "start_time": "2021-07-30T08:37:12.931Z"
   },
   {
    "duration": 370,
    "start_time": "2021-07-30T08:37:29.231Z"
   },
   {
    "duration": 97,
    "start_time": "2021-07-30T08:37:34.707Z"
   },
   {
    "duration": 127,
    "start_time": "2021-07-30T08:37:44.756Z"
   },
   {
    "duration": 314,
    "start_time": "2021-07-30T08:38:58.786Z"
   },
   {
    "duration": 377,
    "start_time": "2021-07-30T08:39:14.103Z"
   },
   {
    "duration": 180,
    "start_time": "2021-07-30T08:39:23.448Z"
   },
   {
    "duration": 119,
    "start_time": "2021-07-30T08:39:37.687Z"
   },
   {
    "duration": 346,
    "start_time": "2021-07-30T08:39:46.256Z"
   },
   {
    "duration": 168,
    "start_time": "2021-07-30T08:39:58.407Z"
   },
   {
    "duration": 131,
    "start_time": "2021-07-30T08:40:29.177Z"
   },
   {
    "duration": 4,
    "start_time": "2021-07-30T08:41:10.663Z"
   },
   {
    "duration": 27,
    "start_time": "2021-07-30T08:41:46.261Z"
   },
   {
    "duration": 91,
    "start_time": "2021-07-30T08:43:04.135Z"
   },
   {
    "duration": 102,
    "start_time": "2021-07-30T08:43:43.994Z"
   },
   {
    "duration": 44,
    "start_time": "2021-07-30T08:43:58.609Z"
   },
   {
    "duration": 61,
    "start_time": "2021-07-30T08:44:31.604Z"
   },
   {
    "duration": 53,
    "start_time": "2021-07-30T08:44:58.724Z"
   },
   {
    "duration": 52,
    "start_time": "2021-07-30T08:45:50.276Z"
   },
   {
    "duration": 57,
    "start_time": "2021-07-30T08:46:02.134Z"
   },
   {
    "duration": 62,
    "start_time": "2021-07-30T08:46:10.143Z"
   },
   {
    "duration": 54,
    "start_time": "2021-07-30T08:46:13.626Z"
   },
   {
    "duration": 61,
    "start_time": "2021-07-30T08:47:39.229Z"
   },
   {
    "duration": 56,
    "start_time": "2021-07-30T08:47:40.455Z"
   },
   {
    "duration": 46,
    "start_time": "2021-07-30T08:51:04.171Z"
   },
   {
    "duration": 49,
    "start_time": "2021-07-30T08:51:30.456Z"
   },
   {
    "duration": 50,
    "start_time": "2021-07-30T08:53:06.533Z"
   },
   {
    "duration": 54,
    "start_time": "2021-07-30T08:53:14.439Z"
   },
   {
    "duration": 50,
    "start_time": "2021-07-30T08:54:20.388Z"
   },
   {
    "duration": 28,
    "start_time": "2021-07-30T08:55:11.619Z"
   },
   {
    "duration": 47,
    "start_time": "2021-07-30T08:55:55.102Z"
   },
   {
    "duration": 32,
    "start_time": "2021-07-30T09:46:46.240Z"
   },
   {
    "duration": 70,
    "start_time": "2021-07-30T09:47:18.046Z"
   },
   {
    "duration": 3,
    "start_time": "2021-07-30T09:47:35.123Z"
   },
   {
    "duration": 15,
    "start_time": "2021-07-30T09:48:47.247Z"
   },
   {
    "duration": 25,
    "start_time": "2021-07-30T09:48:53.951Z"
   },
   {
    "duration": 247,
    "start_time": "2021-07-30T09:49:28.824Z"
   },
   {
    "duration": 259,
    "start_time": "2021-07-30T09:49:50.539Z"
   },
   {
    "duration": 12,
    "start_time": "2021-07-30T09:49:56.559Z"
   },
   {
    "duration": 34,
    "start_time": "2021-07-30T09:50:03.555Z"
   },
   {
    "duration": 28,
    "start_time": "2021-07-30T09:50:16.303Z"
   },
   {
    "duration": 39,
    "start_time": "2021-07-30T09:50:26.258Z"
   },
   {
    "duration": 39,
    "start_time": "2021-07-30T09:50:37.318Z"
   },
   {
    "duration": 43,
    "start_time": "2021-07-30T09:50:42.527Z"
   },
   {
    "duration": 13,
    "start_time": "2021-07-30T09:50:48.106Z"
   },
   {
    "duration": 27,
    "start_time": "2021-07-30T09:50:53.054Z"
   },
   {
    "duration": 27,
    "start_time": "2021-07-30T09:51:26.267Z"
   },
   {
    "duration": 168,
    "start_time": "2021-07-30T09:55:41.543Z"
   },
   {
    "duration": 33,
    "start_time": "2021-07-30T09:56:43.180Z"
   },
   {
    "duration": 33,
    "start_time": "2021-07-30T09:56:48.357Z"
   },
   {
    "duration": 21,
    "start_time": "2021-07-30T09:57:06.206Z"
   },
   {
    "duration": 33,
    "start_time": "2021-07-30T09:57:11.667Z"
   },
   {
    "duration": 16,
    "start_time": "2021-07-30T09:58:17.175Z"
   },
   {
    "duration": 21,
    "start_time": "2021-07-30T09:58:23.215Z"
   },
   {
    "duration": 19,
    "start_time": "2021-07-30T09:58:45.987Z"
   },
   {
    "duration": 22,
    "start_time": "2021-07-30T09:58:49.428Z"
   },
   {
    "duration": 19,
    "start_time": "2021-07-30T09:59:07.400Z"
   },
   {
    "duration": 23,
    "start_time": "2021-07-30T09:59:11.399Z"
   },
   {
    "duration": 24,
    "start_time": "2021-07-30T10:02:44.397Z"
   },
   {
    "duration": 21,
    "start_time": "2021-07-30T10:03:39.224Z"
   },
   {
    "duration": 3,
    "start_time": "2021-07-30T10:03:45.574Z"
   },
   {
    "duration": 20,
    "start_time": "2021-07-30T10:04:17.920Z"
   },
   {
    "duration": 21,
    "start_time": "2021-07-30T10:04:40.939Z"
   },
   {
    "duration": 24,
    "start_time": "2021-07-30T10:04:49.636Z"
   },
   {
    "duration": 28,
    "start_time": "2021-07-30T10:04:56.654Z"
   },
   {
    "duration": 30,
    "start_time": "2021-07-30T10:05:10.816Z"
   },
   {
    "duration": 14,
    "start_time": "2021-07-30T10:05:43.187Z"
   },
   {
    "duration": 22,
    "start_time": "2021-07-30T10:05:46.135Z"
   },
   {
    "duration": 15,
    "start_time": "2021-07-30T10:07:33.422Z"
   },
   {
    "duration": 16,
    "start_time": "2021-07-30T10:08:19.326Z"
   },
   {
    "duration": 17,
    "start_time": "2021-07-30T10:08:25.911Z"
   },
   {
    "duration": 8,
    "start_time": "2021-07-30T10:09:26.556Z"
   },
   {
    "duration": 16,
    "start_time": "2021-07-30T10:09:34.993Z"
   },
   {
    "duration": 16,
    "start_time": "2021-07-30T10:09:48.257Z"
   },
   {
    "duration": 16,
    "start_time": "2021-07-30T10:14:06.050Z"
   },
   {
    "duration": 22,
    "start_time": "2021-07-30T10:14:19.263Z"
   },
   {
    "duration": 17,
    "start_time": "2021-07-30T10:14:21.417Z"
   },
   {
    "duration": 24,
    "start_time": "2021-07-30T10:15:03.220Z"
   },
   {
    "duration": 18,
    "start_time": "2021-07-30T10:15:03.794Z"
   },
   {
    "duration": 111,
    "start_time": "2021-07-30T10:15:12.933Z"
   },
   {
    "duration": 29,
    "start_time": "2021-07-30T10:16:57.140Z"
   },
   {
    "duration": 42,
    "start_time": "2021-07-30T10:18:11.155Z"
   },
   {
    "duration": 31,
    "start_time": "2021-07-30T10:18:28.460Z"
   },
   {
    "duration": 31,
    "start_time": "2021-07-30T10:20:41.252Z"
   },
   {
    "duration": 31,
    "start_time": "2021-07-30T10:21:19.367Z"
   },
   {
    "duration": 32,
    "start_time": "2021-07-30T10:22:04.244Z"
   },
   {
    "duration": 30,
    "start_time": "2021-07-30T10:22:05.594Z"
   },
   {
    "duration": 1346,
    "start_time": "2021-07-30T10:27:46.366Z"
   },
   {
    "duration": 561,
    "start_time": "2021-07-30T10:27:47.714Z"
   },
   {
    "duration": 17,
    "start_time": "2021-07-30T10:27:48.279Z"
   },
   {
    "duration": 30,
    "start_time": "2021-07-30T10:27:48.299Z"
   },
   {
    "duration": 12,
    "start_time": "2021-07-30T10:27:48.332Z"
   },
   {
    "duration": 24,
    "start_time": "2021-07-30T10:27:48.362Z"
   },
   {
    "duration": 11,
    "start_time": "2021-07-30T10:27:48.388Z"
   },
   {
    "duration": 19,
    "start_time": "2021-07-30T10:27:48.403Z"
   },
   {
    "duration": 47,
    "start_time": "2021-07-30T10:27:48.426Z"
   },
   {
    "duration": 11,
    "start_time": "2021-07-30T10:27:48.475Z"
   },
   {
    "duration": 16,
    "start_time": "2021-07-30T10:27:48.488Z"
   },
   {
    "duration": 12,
    "start_time": "2021-07-30T10:27:48.506Z"
   },
   {
    "duration": 151,
    "start_time": "2021-07-30T10:27:48.521Z"
   },
   {
    "duration": 101,
    "start_time": "2021-07-30T10:27:48.675Z"
   },
   {
    "duration": 16,
    "start_time": "2021-07-30T10:27:48.779Z"
   },
   {
    "duration": 86,
    "start_time": "2021-07-30T10:27:48.797Z"
   },
   {
    "duration": 48,
    "start_time": "2021-07-30T10:27:48.885Z"
   },
   {
    "duration": 58,
    "start_time": "2021-07-30T10:27:48.935Z"
   },
   {
    "duration": 10,
    "start_time": "2021-07-30T10:27:48.995Z"
   },
   {
    "duration": 4,
    "start_time": "2021-07-30T10:27:49.008Z"
   },
   {
    "duration": 51,
    "start_time": "2021-07-30T10:27:49.015Z"
   },
   {
    "duration": 21,
    "start_time": "2021-07-30T10:27:49.068Z"
   },
   {
    "duration": 5,
    "start_time": "2021-07-30T10:27:49.093Z"
   },
   {
    "duration": 22,
    "start_time": "2021-07-30T10:27:49.101Z"
   },
   {
    "duration": 39,
    "start_time": "2021-07-30T10:27:49.125Z"
   },
   {
    "duration": 9,
    "start_time": "2021-07-30T10:27:49.167Z"
   },
   {
    "duration": 12,
    "start_time": "2021-07-30T10:27:49.178Z"
   },
   {
    "duration": 26,
    "start_time": "2021-07-30T10:27:49.192Z"
   },
   {
    "duration": 63,
    "start_time": "2021-07-30T10:27:49.220Z"
   },
   {
    "duration": 23,
    "start_time": "2021-07-30T10:27:49.285Z"
   },
   {
    "duration": 58,
    "start_time": "2021-07-30T10:27:49.310Z"
   },
   {
    "duration": 4,
    "start_time": "2021-07-30T10:27:49.371Z"
   },
   {
    "duration": 34,
    "start_time": "2021-07-30T10:27:49.378Z"
   },
   {
    "duration": 9,
    "start_time": "2021-07-30T10:27:49.414Z"
   },
   {
    "duration": 62,
    "start_time": "2021-07-30T10:27:49.425Z"
   },
   {
    "duration": 33,
    "start_time": "2021-07-30T10:27:49.489Z"
   },
   {
    "duration": 256,
    "start_time": "2021-07-30T10:27:49.525Z"
   },
   {
    "duration": 46,
    "start_time": "2021-07-30T10:27:49.784Z"
   },
   {
    "duration": 44,
    "start_time": "2021-07-30T10:27:49.832Z"
   },
   {
    "duration": 33,
    "start_time": "2021-07-30T10:27:49.878Z"
   },
   {
    "duration": 134,
    "start_time": "2021-07-30T10:27:49.913Z"
   },
   {
    "duration": 41,
    "start_time": "2021-07-30T10:27:50.049Z"
   },
   {
    "duration": 30,
    "start_time": "2021-07-30T10:27:50.092Z"
   },
   {
    "duration": 807,
    "start_time": "2021-07-30T10:30:29.147Z"
   },
   {
    "duration": 1904,
    "start_time": "2021-07-30T10:30:38.990Z"
   },
   {
    "duration": 781,
    "start_time": "2021-07-30T10:30:45.583Z"
   },
   {
    "duration": 314,
    "start_time": "2021-07-30T10:31:10.233Z"
   },
   {
    "duration": 638,
    "start_time": "2021-07-30T10:32:05.200Z"
   },
   {
    "duration": 1880,
    "start_time": "2021-07-30T10:32:10.611Z"
   },
   {
    "duration": 694,
    "start_time": "2021-07-30T10:32:30.420Z"
   },
   {
    "duration": 860,
    "start_time": "2021-07-30T10:32:38.601Z"
   },
   {
    "duration": 844,
    "start_time": "2021-07-30T10:32:55.591Z"
   },
   {
    "duration": 857,
    "start_time": "2021-07-30T10:33:21.038Z"
   },
   {
    "duration": 562,
    "start_time": "2021-07-30T10:33:37.699Z"
   },
   {
    "duration": 418,
    "start_time": "2021-07-30T10:33:43.447Z"
   },
   {
    "duration": 463,
    "start_time": "2021-07-30T10:33:47.901Z"
   },
   {
    "duration": 333,
    "start_time": "2021-07-30T10:33:52.221Z"
   },
   {
    "duration": 333,
    "start_time": "2021-07-30T10:33:55.968Z"
   },
   {
    "duration": 318,
    "start_time": "2021-07-30T10:33:59.781Z"
   },
   {
    "duration": 379,
    "start_time": "2021-07-30T10:34:41.400Z"
   },
   {
    "duration": 390,
    "start_time": "2021-07-30T10:34:51.824Z"
   },
   {
    "duration": 655,
    "start_time": "2021-07-30T10:35:00.286Z"
   },
   {
    "duration": 373,
    "start_time": "2021-07-30T10:35:03.424Z"
   },
   {
    "duration": 485,
    "start_time": "2021-07-30T10:35:18.588Z"
   },
   {
    "duration": 378,
    "start_time": "2021-07-30T10:35:22.806Z"
   },
   {
    "duration": 391,
    "start_time": "2021-07-30T10:35:26.295Z"
   },
   {
    "duration": 418,
    "start_time": "2021-07-30T10:35:51.135Z"
   },
   {
    "duration": 579,
    "start_time": "2021-07-30T10:36:12.779Z"
   },
   {
    "duration": 401,
    "start_time": "2021-07-30T10:36:15.401Z"
   },
   {
    "duration": 327,
    "start_time": "2021-07-30T10:36:25.807Z"
   },
   {
    "duration": 408,
    "start_time": "2021-07-30T10:36:34.864Z"
   },
   {
    "duration": 562,
    "start_time": "2021-07-30T10:40:04.468Z"
   },
   {
    "duration": 393,
    "start_time": "2021-07-30T10:40:53.022Z"
   },
   {
    "duration": 432,
    "start_time": "2021-07-30T10:41:35.729Z"
   },
   {
    "duration": 426,
    "start_time": "2021-07-30T10:41:44.931Z"
   },
   {
    "duration": 462,
    "start_time": "2021-07-30T10:42:08.062Z"
   },
   {
    "duration": 408,
    "start_time": "2021-07-30T10:42:16.916Z"
   },
   {
    "duration": 448,
    "start_time": "2021-07-30T10:42:22.770Z"
   },
   {
    "duration": 424,
    "start_time": "2021-07-30T10:42:26.859Z"
   },
   {
    "duration": 429,
    "start_time": "2021-07-30T10:43:01.980Z"
   },
   {
    "duration": 418,
    "start_time": "2021-07-30T10:43:11.147Z"
   },
   {
    "duration": 99,
    "start_time": "2021-07-30T10:49:21.373Z"
   },
   {
    "duration": 341,
    "start_time": "2021-07-30T10:50:59.705Z"
   },
   {
    "duration": 410,
    "start_time": "2021-07-30T10:51:14.380Z"
   },
   {
    "duration": 351,
    "start_time": "2021-07-30T10:51:18.615Z"
   },
   {
    "duration": 429,
    "start_time": "2021-07-30T10:51:28.814Z"
   },
   {
    "duration": 33,
    "start_time": "2021-07-30T10:54:31.058Z"
   },
   {
    "duration": 454,
    "start_time": "2021-07-30T10:56:19.119Z"
   },
   {
    "duration": 394,
    "start_time": "2021-07-30T11:05:10.236Z"
   },
   {
    "duration": 9,
    "start_time": "2021-07-30T11:05:12.502Z"
   },
   {
    "duration": 30,
    "start_time": "2021-07-30T11:05:20.524Z"
   },
   {
    "duration": 363,
    "start_time": "2021-07-30T11:12:24.753Z"
   },
   {
    "duration": 604,
    "start_time": "2021-07-30T11:12:27.566Z"
   },
   {
    "duration": 432,
    "start_time": "2021-07-30T11:13:44.170Z"
   },
   {
    "duration": 398,
    "start_time": "2021-07-30T11:14:17.252Z"
   },
   {
    "duration": 444,
    "start_time": "2021-07-30T11:14:30.564Z"
   },
   {
    "duration": 387,
    "start_time": "2021-07-30T11:14:37.160Z"
   },
   {
    "duration": 1345,
    "start_time": "2021-07-30T11:16:05.987Z"
   },
   {
    "duration": 528,
    "start_time": "2021-07-30T11:16:07.335Z"
   },
   {
    "duration": 20,
    "start_time": "2021-07-30T11:16:07.866Z"
   },
   {
    "duration": 31,
    "start_time": "2021-07-30T11:16:07.889Z"
   },
   {
    "duration": 46,
    "start_time": "2021-07-30T11:16:07.923Z"
   },
   {
    "duration": 38,
    "start_time": "2021-07-30T11:16:07.972Z"
   },
   {
    "duration": 13,
    "start_time": "2021-07-30T11:16:08.013Z"
   },
   {
    "duration": 54,
    "start_time": "2021-07-30T11:16:08.030Z"
   },
   {
    "duration": 13,
    "start_time": "2021-07-30T11:16:08.089Z"
   },
   {
    "duration": 13,
    "start_time": "2021-07-30T11:16:08.105Z"
   },
   {
    "duration": 55,
    "start_time": "2021-07-30T11:16:08.121Z"
   },
   {
    "duration": 10,
    "start_time": "2021-07-30T11:16:08.179Z"
   },
   {
    "duration": 144,
    "start_time": "2021-07-30T11:16:08.192Z"
   },
   {
    "duration": 106,
    "start_time": "2021-07-30T11:16:08.339Z"
   },
   {
    "duration": 45,
    "start_time": "2021-07-30T11:16:08.447Z"
   },
   {
    "duration": 73,
    "start_time": "2021-07-30T11:16:08.495Z"
   },
   {
    "duration": 66,
    "start_time": "2021-07-30T11:16:08.571Z"
   },
   {
    "duration": 73,
    "start_time": "2021-07-30T11:16:08.640Z"
   },
   {
    "duration": 12,
    "start_time": "2021-07-30T11:16:08.716Z"
   },
   {
    "duration": 6,
    "start_time": "2021-07-30T11:16:08.731Z"
   },
   {
    "duration": 27,
    "start_time": "2021-07-30T11:16:08.767Z"
   },
   {
    "duration": 22,
    "start_time": "2021-07-30T11:16:08.797Z"
   },
   {
    "duration": 10,
    "start_time": "2021-07-30T11:16:08.825Z"
   },
   {
    "duration": 54,
    "start_time": "2021-07-30T11:16:08.838Z"
   },
   {
    "duration": 4,
    "start_time": "2021-07-30T11:16:08.895Z"
   },
   {
    "duration": 26,
    "start_time": "2021-07-30T11:16:08.902Z"
   },
   {
    "duration": 22,
    "start_time": "2021-07-30T11:16:08.930Z"
   },
   {
    "duration": 29,
    "start_time": "2021-07-30T11:16:08.955Z"
   },
   {
    "duration": 34,
    "start_time": "2021-07-30T11:16:08.986Z"
   },
   {
    "duration": 58,
    "start_time": "2021-07-30T11:16:09.023Z"
   },
   {
    "duration": 35,
    "start_time": "2021-07-30T11:16:09.084Z"
   },
   {
    "duration": 5,
    "start_time": "2021-07-30T11:16:09.121Z"
   },
   {
    "duration": 63,
    "start_time": "2021-07-30T11:16:09.130Z"
   },
   {
    "duration": 10,
    "start_time": "2021-07-30T11:16:09.196Z"
   },
   {
    "duration": 55,
    "start_time": "2021-07-30T11:16:09.209Z"
   },
   {
    "duration": 38,
    "start_time": "2021-07-30T11:16:09.266Z"
   },
   {
    "duration": 253,
    "start_time": "2021-07-30T11:16:09.306Z"
   },
   {
    "duration": 66,
    "start_time": "2021-07-30T11:16:09.565Z"
   },
   {
    "duration": 56,
    "start_time": "2021-07-30T11:16:09.634Z"
   },
   {
    "duration": 48,
    "start_time": "2021-07-30T11:16:09.693Z"
   },
   {
    "duration": 159,
    "start_time": "2021-07-30T11:16:09.743Z"
   },
   {
    "duration": 57,
    "start_time": "2021-07-30T11:16:09.905Z"
   },
   {
    "duration": 40,
    "start_time": "2021-07-30T11:16:09.965Z"
   },
   {
    "duration": 639,
    "start_time": "2021-07-30T11:16:10.008Z"
   },
   {
    "duration": 461,
    "start_time": "2021-07-30T11:16:10.650Z"
   },
   {
    "duration": 440,
    "start_time": "2021-07-30T11:16:11.114Z"
   },
   {
    "duration": 377,
    "start_time": "2021-07-30T11:16:11.561Z"
   },
   {
    "duration": 118,
    "start_time": "2021-07-30T12:23:35.074Z"
   },
   {
    "duration": 45,
    "start_time": "2021-07-30T13:01:45.157Z"
   },
   {
    "duration": 13,
    "start_time": "2021-07-30T13:02:21.641Z"
   },
   {
    "duration": 46,
    "start_time": "2021-07-30T13:02:50.497Z"
   },
   {
    "duration": 13,
    "start_time": "2021-07-30T13:03:00.193Z"
   },
   {
    "duration": 15,
    "start_time": "2021-07-30T13:06:04.944Z"
   },
   {
    "duration": 21,
    "start_time": "2021-07-30T13:06:31.194Z"
   },
   {
    "duration": 388,
    "start_time": "2021-07-30T13:10:37.293Z"
   },
   {
    "duration": 9,
    "start_time": "2021-07-30T13:10:46.194Z"
   },
   {
    "duration": 10,
    "start_time": "2021-07-30T13:10:53.820Z"
   },
   {
    "duration": 15,
    "start_time": "2021-07-30T13:22:43.540Z"
   },
   {
    "duration": 87,
    "start_time": "2021-07-30T13:41:22.956Z"
   },
   {
    "duration": 8,
    "start_time": "2021-07-30T13:41:27.207Z"
   },
   {
    "duration": 8,
    "start_time": "2021-07-30T13:41:42.204Z"
   },
   {
    "duration": 92,
    "start_time": "2021-07-30T13:42:24.785Z"
   },
   {
    "duration": 108,
    "start_time": "2021-07-30T13:42:31.145Z"
   },
   {
    "duration": 8,
    "start_time": "2021-07-30T13:42:42.774Z"
   },
   {
    "duration": 14,
    "start_time": "2021-07-30T13:43:34.802Z"
   },
   {
    "duration": 15,
    "start_time": "2021-07-30T13:43:44.806Z"
   },
   {
    "duration": 16,
    "start_time": "2021-07-30T14:16:12.390Z"
   },
   {
    "duration": 15,
    "start_time": "2021-07-30T14:18:29.860Z"
   },
   {
    "duration": 15,
    "start_time": "2021-07-30T14:19:03.060Z"
   },
   {
    "duration": 7,
    "start_time": "2021-07-30T14:21:56.012Z"
   },
   {
    "duration": 10,
    "start_time": "2021-07-30T14:22:14.468Z"
   },
   {
    "duration": 10,
    "start_time": "2021-07-30T14:22:31.663Z"
   },
   {
    "duration": 20,
    "start_time": "2021-07-30T14:23:00.123Z"
   },
   {
    "duration": 81,
    "start_time": "2021-07-30T14:30:15.522Z"
   },
   {
    "duration": 42,
    "start_time": "2021-07-30T14:31:39.769Z"
   },
   {
    "duration": 15,
    "start_time": "2021-07-30T14:32:21.462Z"
   },
   {
    "duration": 16,
    "start_time": "2021-07-30T14:33:36.628Z"
   },
   {
    "duration": 16,
    "start_time": "2021-07-30T14:34:23.733Z"
   },
   {
    "duration": 15,
    "start_time": "2021-07-30T14:34:30.890Z"
   },
   {
    "duration": 15,
    "start_time": "2021-07-30T14:35:24.645Z"
   },
   {
    "duration": 14,
    "start_time": "2021-07-30T14:35:27.468Z"
   },
   {
    "duration": 17,
    "start_time": "2021-07-30T14:38:10.711Z"
   },
   {
    "duration": 19,
    "start_time": "2021-07-30T14:38:12.521Z"
   },
   {
    "duration": 1358,
    "start_time": "2021-07-30T14:39:31.578Z"
   },
   {
    "duration": 541,
    "start_time": "2021-07-30T14:39:32.939Z"
   },
   {
    "duration": 16,
    "start_time": "2021-07-30T14:39:33.483Z"
   },
   {
    "duration": 32,
    "start_time": "2021-07-30T14:39:33.502Z"
   },
   {
    "duration": 31,
    "start_time": "2021-07-30T14:39:33.537Z"
   },
   {
    "duration": 40,
    "start_time": "2021-07-30T14:39:33.570Z"
   },
   {
    "duration": 10,
    "start_time": "2021-07-30T14:39:33.613Z"
   },
   {
    "duration": 46,
    "start_time": "2021-07-30T14:39:33.627Z"
   },
   {
    "duration": 24,
    "start_time": "2021-07-30T14:39:33.676Z"
   },
   {
    "duration": 25,
    "start_time": "2021-07-30T14:39:33.702Z"
   },
   {
    "duration": 42,
    "start_time": "2021-07-30T14:39:33.730Z"
   },
   {
    "duration": 27,
    "start_time": "2021-07-30T14:39:33.775Z"
   },
   {
    "duration": 133,
    "start_time": "2021-07-30T14:39:33.804Z"
   },
   {
    "duration": 99,
    "start_time": "2021-07-30T14:39:33.939Z"
   },
   {
    "duration": 27,
    "start_time": "2021-07-30T14:39:34.040Z"
   },
   {
    "duration": 92,
    "start_time": "2021-07-30T14:39:34.069Z"
   },
   {
    "duration": 49,
    "start_time": "2021-07-30T14:39:34.164Z"
   },
   {
    "duration": 69,
    "start_time": "2021-07-30T14:39:34.216Z"
   },
   {
    "duration": 9,
    "start_time": "2021-07-30T14:39:34.287Z"
   },
   {
    "duration": 19,
    "start_time": "2021-07-30T14:39:34.298Z"
   },
   {
    "duration": 46,
    "start_time": "2021-07-30T14:39:34.320Z"
   },
   {
    "duration": 32,
    "start_time": "2021-07-30T14:39:34.368Z"
   },
   {
    "duration": 7,
    "start_time": "2021-07-30T14:39:34.405Z"
   },
   {
    "duration": 31,
    "start_time": "2021-07-30T14:39:34.414Z"
   },
   {
    "duration": 11,
    "start_time": "2021-07-30T14:39:34.462Z"
   },
   {
    "duration": 23,
    "start_time": "2021-07-30T14:39:34.475Z"
   },
   {
    "duration": 18,
    "start_time": "2021-07-30T14:39:34.501Z"
   },
   {
    "duration": 30,
    "start_time": "2021-07-30T14:39:34.521Z"
   },
   {
    "duration": 31,
    "start_time": "2021-07-30T14:39:34.562Z"
   },
   {
    "duration": 25,
    "start_time": "2021-07-30T14:39:34.595Z"
   },
   {
    "duration": 69,
    "start_time": "2021-07-30T14:39:34.622Z"
   },
   {
    "duration": 5,
    "start_time": "2021-07-30T14:39:34.693Z"
   },
   {
    "duration": 61,
    "start_time": "2021-07-30T14:39:34.701Z"
   },
   {
    "duration": 10,
    "start_time": "2021-07-30T14:39:34.764Z"
   },
   {
    "duration": 37,
    "start_time": "2021-07-30T14:39:34.777Z"
   },
   {
    "duration": 65,
    "start_time": "2021-07-30T14:39:34.816Z"
   },
   {
    "duration": 381,
    "start_time": "2021-07-30T14:39:34.884Z"
   },
   {
    "duration": 43,
    "start_time": "2021-07-30T14:39:35.267Z"
   },
   {
    "duration": 61,
    "start_time": "2021-07-30T14:39:35.314Z"
   },
   {
    "duration": 33,
    "start_time": "2021-07-30T14:39:35.377Z"
   },
   {
    "duration": 144,
    "start_time": "2021-07-30T14:39:35.413Z"
   },
   {
    "duration": 32,
    "start_time": "2021-07-30T14:39:35.559Z"
   },
   {
    "duration": 31,
    "start_time": "2021-07-30T14:39:35.594Z"
   },
   {
    "duration": 458,
    "start_time": "2021-07-30T14:39:35.628Z"
   },
   {
    "duration": 447,
    "start_time": "2021-07-30T14:39:36.089Z"
   },
   {
    "duration": 415,
    "start_time": "2021-07-30T14:39:36.538Z"
   },
   {
    "duration": 388,
    "start_time": "2021-07-30T14:39:36.956Z"
   },
   {
    "duration": 24,
    "start_time": "2021-07-30T14:39:37.347Z"
   },
   {
    "duration": 15,
    "start_time": "2021-07-30T14:39:37.374Z"
   },
   {
    "duration": 34,
    "start_time": "2021-07-30T14:40:06.480Z"
   },
   {
    "duration": 34,
    "start_time": "2021-07-30T14:40:46.431Z"
   },
   {
    "duration": 77,
    "start_time": "2021-07-30T14:40:49.025Z"
   },
   {
    "duration": 18,
    "start_time": "2021-07-30T14:40:52.739Z"
   },
   {
    "duration": 65,
    "start_time": "2021-07-30T14:40:53.338Z"
   },
   {
    "duration": 47,
    "start_time": "2021-07-30T14:40:54.458Z"
   },
   {
    "duration": 41,
    "start_time": "2021-07-30T14:40:56.403Z"
   },
   {
    "duration": 9,
    "start_time": "2021-07-30T14:40:59.683Z"
   },
   {
    "duration": 5,
    "start_time": "2021-07-30T14:41:00.772Z"
   },
   {
    "duration": 20,
    "start_time": "2021-07-30T14:41:01.772Z"
   },
   {
    "duration": 20,
    "start_time": "2021-07-30T14:41:02.173Z"
   },
   {
    "duration": 5,
    "start_time": "2021-07-30T14:41:02.573Z"
   },
   {
    "duration": 20,
    "start_time": "2021-07-30T14:41:03.268Z"
   },
   {
    "duration": 5,
    "start_time": "2021-07-30T14:41:03.855Z"
   },
   {
    "duration": 6,
    "start_time": "2021-07-30T14:41:04.835Z"
   },
   {
    "duration": 9,
    "start_time": "2021-07-30T14:41:05.856Z"
   },
   {
    "duration": 26,
    "start_time": "2021-07-30T14:41:35.896Z"
   },
   {
    "duration": 29,
    "start_time": "2021-07-30T14:41:37.053Z"
   },
   {
    "duration": 22,
    "start_time": "2021-07-30T14:41:38.534Z"
   },
   {
    "duration": 32,
    "start_time": "2021-07-30T14:41:39.774Z"
   },
   {
    "duration": 5,
    "start_time": "2021-07-30T14:41:41.564Z"
   },
   {
    "duration": 28,
    "start_time": "2021-07-30T14:41:44.284Z"
   },
   {
    "duration": 6,
    "start_time": "2021-07-30T14:41:46.468Z"
   },
   {
    "duration": 37,
    "start_time": "2021-07-30T14:41:47.215Z"
   },
   {
    "duration": 54,
    "start_time": "2021-07-30T14:44:45.236Z"
   },
   {
    "duration": 35,
    "start_time": "2021-07-30T14:44:49.154Z"
   },
   {
    "duration": 251,
    "start_time": "2021-07-30T14:44:53.771Z"
   },
   {
    "duration": 48,
    "start_time": "2021-07-30T14:45:13.215Z"
   },
   {
    "duration": 45,
    "start_time": "2021-07-30T14:45:28.954Z"
   },
   {
    "duration": 27,
    "start_time": "2021-07-30T14:58:52.976Z"
   },
   {
    "duration": 1366,
    "start_time": "2021-07-30T18:41:24.885Z"
   },
   {
    "duration": 487,
    "start_time": "2021-07-30T18:41:26.254Z"
   },
   {
    "duration": 16,
    "start_time": "2021-07-30T18:41:26.745Z"
   },
   {
    "duration": 27,
    "start_time": "2021-07-30T18:41:26.764Z"
   },
   {
    "duration": 11,
    "start_time": "2021-07-30T18:41:26.794Z"
   },
   {
    "duration": 48,
    "start_time": "2021-07-30T18:41:26.808Z"
   },
   {
    "duration": 11,
    "start_time": "2021-07-30T18:41:26.859Z"
   },
   {
    "duration": 19,
    "start_time": "2021-07-30T18:41:26.873Z"
   },
   {
    "duration": 11,
    "start_time": "2021-07-30T18:41:26.896Z"
   },
   {
    "duration": 48,
    "start_time": "2021-07-30T18:41:26.911Z"
   },
   {
    "duration": 18,
    "start_time": "2021-07-30T18:41:26.961Z"
   },
   {
    "duration": 13,
    "start_time": "2021-07-30T18:41:26.981Z"
   },
   {
    "duration": 129,
    "start_time": "2021-07-30T18:41:26.997Z"
   },
   {
    "duration": 99,
    "start_time": "2021-07-30T18:41:27.128Z"
   },
   {
    "duration": 26,
    "start_time": "2021-07-30T18:41:27.230Z"
   },
   {
    "duration": 62,
    "start_time": "2021-07-30T18:41:27.259Z"
   },
   {
    "duration": 70,
    "start_time": "2021-07-30T18:41:27.324Z"
   },
   {
    "duration": 59,
    "start_time": "2021-07-30T18:41:27.397Z"
   },
   {
    "duration": 10,
    "start_time": "2021-07-30T18:41:27.459Z"
   },
   {
    "duration": 5,
    "start_time": "2021-07-30T18:41:27.473Z"
   },
   {
    "duration": 27,
    "start_time": "2021-07-30T18:41:27.481Z"
   },
   {
    "duration": 53,
    "start_time": "2021-07-30T18:41:27.511Z"
   },
   {
    "duration": 5,
    "start_time": "2021-07-30T18:41:27.567Z"
   },
   {
    "duration": 21,
    "start_time": "2021-07-30T18:41:27.574Z"
   },
   {
    "duration": 7,
    "start_time": "2021-07-30T18:41:27.598Z"
   },
   {
    "duration": 8,
    "start_time": "2021-07-30T18:41:27.607Z"
   },
   {
    "duration": 40,
    "start_time": "2021-07-30T18:41:27.620Z"
   },
   {
    "duration": 24,
    "start_time": "2021-07-30T18:41:27.663Z"
   },
   {
    "duration": 27,
    "start_time": "2021-07-30T18:41:27.689Z"
   },
   {
    "duration": 55,
    "start_time": "2021-07-30T18:41:27.718Z"
   },
   {
    "duration": 30,
    "start_time": "2021-07-30T18:41:27.775Z"
   },
   {
    "duration": 6,
    "start_time": "2021-07-30T18:41:27.807Z"
   },
   {
    "duration": 59,
    "start_time": "2021-07-30T18:41:27.816Z"
   },
   {
    "duration": 12,
    "start_time": "2021-07-30T18:41:27.878Z"
   },
   {
    "duration": 38,
    "start_time": "2021-07-30T18:41:27.893Z"
   },
   {
    "duration": 50,
    "start_time": "2021-07-30T18:41:27.933Z"
   },
   {
    "duration": 244,
    "start_time": "2021-07-30T18:41:27.986Z"
   },
   {
    "duration": 50,
    "start_time": "2021-07-30T18:41:28.232Z"
   },
   {
    "duration": 22,
    "start_time": "2021-07-30T18:41:28.285Z"
   },
   {
    "duration": 54,
    "start_time": "2021-07-30T18:41:28.310Z"
   },
   {
    "duration": 124,
    "start_time": "2021-07-30T18:41:28.368Z"
   },
   {
    "duration": 33,
    "start_time": "2021-07-30T18:41:28.495Z"
   },
   {
    "duration": 48,
    "start_time": "2021-07-30T18:41:28.531Z"
   },
   {
    "duration": 403,
    "start_time": "2021-07-30T18:41:28.581Z"
   },
   {
    "duration": 464,
    "start_time": "2021-07-30T18:41:28.987Z"
   },
   {
    "duration": 416,
    "start_time": "2021-07-30T18:41:29.456Z"
   },
   {
    "duration": 454,
    "start_time": "2021-07-30T18:41:29.876Z"
   },
   {
    "duration": 27,
    "start_time": "2021-07-30T18:41:30.332Z"
   },
   {
    "duration": 27,
    "start_time": "2021-07-30T18:41:30.362Z"
   },
   {
    "duration": 23,
    "start_time": "2021-07-30T18:51:54.059Z"
   },
   {
    "duration": 18,
    "start_time": "2021-07-30T19:03:20.867Z"
   },
   {
    "duration": 24,
    "start_time": "2021-07-30T19:31:07.267Z"
   },
   {
    "duration": 25,
    "start_time": "2021-07-30T19:31:59.935Z"
   },
   {
    "duration": 21,
    "start_time": "2021-07-30T19:32:24.304Z"
   },
   {
    "duration": 22,
    "start_time": "2021-07-30T19:36:13.432Z"
   },
   {
    "duration": 26,
    "start_time": "2021-07-30T19:36:30.687Z"
   },
   {
    "duration": 33,
    "start_time": "2021-07-30T19:37:04.139Z"
   },
   {
    "duration": 417,
    "start_time": "2021-07-30T19:37:44.964Z"
   },
   {
    "duration": 47,
    "start_time": "2021-07-30T19:38:03.236Z"
   },
   {
    "duration": 46,
    "start_time": "2021-07-30T19:43:22.166Z"
   },
   {
    "duration": 11,
    "start_time": "2021-07-30T19:45:04.195Z"
   },
   {
    "duration": 11,
    "start_time": "2021-07-30T19:45:24.497Z"
   },
   {
    "duration": 51,
    "start_time": "2021-07-30T19:45:36.181Z"
   },
   {
    "duration": 11,
    "start_time": "2021-07-30T19:46:35.305Z"
   },
   {
    "duration": 730,
    "start_time": "2021-07-30T19:49:02.596Z"
   },
   {
    "duration": 791,
    "start_time": "2021-07-30T19:49:22.713Z"
   },
   {
    "duration": 586,
    "start_time": "2021-07-30T19:49:31.067Z"
   },
   {
    "duration": 1029,
    "start_time": "2021-08-02T07:13:41.104Z"
   },
   {
    "duration": 403,
    "start_time": "2021-08-02T07:13:42.136Z"
   },
   {
    "duration": 10,
    "start_time": "2021-08-02T07:13:43.657Z"
   },
   {
    "duration": 30,
    "start_time": "2021-08-02T07:13:44.619Z"
   },
   {
    "duration": 11,
    "start_time": "2021-08-02T07:13:46.624Z"
   },
   {
    "duration": 17,
    "start_time": "2021-08-02T07:13:47.210Z"
   },
   {
    "duration": 7,
    "start_time": "2021-08-02T07:13:47.805Z"
   },
   {
    "duration": 15,
    "start_time": "2021-08-02T07:13:48.591Z"
   },
   {
    "duration": 8,
    "start_time": "2021-08-02T07:13:49.133Z"
   },
   {
    "duration": 6,
    "start_time": "2021-08-02T07:13:49.670Z"
   },
   {
    "duration": 10,
    "start_time": "2021-08-02T07:13:50.062Z"
   },
   {
    "duration": 6,
    "start_time": "2021-08-02T07:13:50.478Z"
   },
   {
    "duration": 76,
    "start_time": "2021-08-02T07:13:58.789Z"
   },
   {
    "duration": 13,
    "start_time": "2021-08-02T07:14:45.153Z"
   },
   {
    "duration": 330,
    "start_time": "2021-08-02T07:14:59.980Z"
   },
   {
    "duration": 223,
    "start_time": "2021-08-02T07:16:50.150Z"
   },
   {
    "duration": 421,
    "start_time": "2021-08-02T07:17:08.191Z"
   },
   {
    "duration": 10,
    "start_time": "2021-08-02T07:17:09.229Z"
   },
   {
    "duration": 18,
    "start_time": "2021-08-02T07:17:09.600Z"
   },
   {
    "duration": 7,
    "start_time": "2021-08-02T07:17:10.960Z"
   },
   {
    "duration": 16,
    "start_time": "2021-08-02T07:17:10.969Z"
   },
   {
    "duration": 6,
    "start_time": "2021-08-02T07:17:11.078Z"
   },
   {
    "duration": 14,
    "start_time": "2021-08-02T07:17:11.781Z"
   },
   {
    "duration": 7,
    "start_time": "2021-08-02T07:17:12.640Z"
   },
   {
    "duration": 6,
    "start_time": "2021-08-02T07:17:13.202Z"
   },
   {
    "duration": 9,
    "start_time": "2021-08-02T07:17:13.888Z"
   },
   {
    "duration": 6,
    "start_time": "2021-08-02T07:17:14.696Z"
   },
   {
    "duration": 263,
    "start_time": "2021-08-02T07:41:51.902Z"
   },
   {
    "duration": 237,
    "start_time": "2021-08-02T07:42:19.253Z"
   },
   {
    "duration": 236,
    "start_time": "2021-08-02T07:45:33.716Z"
   },
   {
    "duration": 238,
    "start_time": "2021-08-02T07:46:13.755Z"
   },
   {
    "duration": 892,
    "start_time": "2021-08-02T07:46:22.406Z"
   },
   {
    "duration": 69,
    "start_time": "2021-08-02T07:46:25.129Z"
   },
   {
    "duration": 248,
    "start_time": "2021-08-02T07:46:56.538Z"
   },
   {
    "duration": 250,
    "start_time": "2021-08-02T07:47:03.605Z"
   },
   {
    "duration": 34,
    "start_time": "2021-08-02T07:47:08.097Z"
   },
   {
    "duration": 72,
    "start_time": "2021-08-02T07:53:43.524Z"
   },
   {
    "duration": 223,
    "start_time": "2021-08-02T08:12:20.683Z"
   },
   {
    "duration": 3,
    "start_time": "2021-08-02T08:12:34.421Z"
   },
   {
    "duration": 495,
    "start_time": "2021-08-02T08:12:34.623Z"
   },
   {
    "duration": 9,
    "start_time": "2021-08-02T08:12:35.120Z"
   },
   {
    "duration": 23,
    "start_time": "2021-08-02T08:12:35.131Z"
   },
   {
    "duration": 8,
    "start_time": "2021-08-02T08:12:35.215Z"
   },
   {
    "duration": 17,
    "start_time": "2021-08-02T08:12:35.426Z"
   },
   {
    "duration": 7,
    "start_time": "2021-08-02T08:12:35.620Z"
   },
   {
    "duration": 13,
    "start_time": "2021-08-02T08:12:35.842Z"
   },
   {
    "duration": 8,
    "start_time": "2021-08-02T08:12:36.066Z"
   },
   {
    "duration": 7,
    "start_time": "2021-08-02T08:12:36.279Z"
   },
   {
    "duration": 9,
    "start_time": "2021-08-02T08:12:36.536Z"
   },
   {
    "duration": 6,
    "start_time": "2021-08-02T08:12:36.837Z"
   },
   {
    "duration": 94,
    "start_time": "2021-08-02T08:12:38.512Z"
   },
   {
    "duration": 78,
    "start_time": "2021-08-02T08:12:41.911Z"
   },
   {
    "duration": 15,
    "start_time": "2021-08-02T08:12:42.975Z"
   },
   {
    "duration": 52,
    "start_time": "2021-08-02T08:12:43.430Z"
   },
   {
    "duration": 10,
    "start_time": "2021-08-02T08:12:44.092Z"
   },
   {
    "duration": 4,
    "start_time": "2021-08-02T08:14:56.723Z"
   },
   {
    "duration": 508,
    "start_time": "2021-08-02T08:14:57.375Z"
   },
   {
    "duration": 8,
    "start_time": "2021-08-02T08:14:59.609Z"
   },
   {
    "duration": 20,
    "start_time": "2021-08-02T08:15:00.681Z"
   },
   {
    "duration": 10,
    "start_time": "2021-08-02T08:15:01.588Z"
   },
   {
    "duration": 16,
    "start_time": "2021-08-02T08:15:06.994Z"
   },
   {
    "duration": 6,
    "start_time": "2021-08-02T08:15:07.588Z"
   },
   {
    "duration": 14,
    "start_time": "2021-08-02T08:15:08.345Z"
   },
   {
    "duration": 8,
    "start_time": "2021-08-02T08:15:09.339Z"
   },
   {
    "duration": 7,
    "start_time": "2021-08-02T08:15:10.439Z"
   },
   {
    "duration": 9,
    "start_time": "2021-08-02T08:15:11.964Z"
   },
   {
    "duration": 6,
    "start_time": "2021-08-02T08:15:13.099Z"
   },
   {
    "duration": 82,
    "start_time": "2021-08-02T08:15:34.534Z"
   },
   {
    "duration": 36,
    "start_time": "2021-08-02T08:16:04.471Z"
   },
   {
    "duration": 8,
    "start_time": "2021-08-02T08:17:07.500Z"
   },
   {
    "duration": 7,
    "start_time": "2021-08-02T08:17:36.628Z"
   },
   {
    "duration": 8,
    "start_time": "2021-08-02T08:17:45.457Z"
   },
   {
    "duration": 8,
    "start_time": "2021-08-02T08:22:01.364Z"
   },
   {
    "duration": 8,
    "start_time": "2021-08-02T08:22:08.292Z"
   },
   {
    "duration": 8,
    "start_time": "2021-08-02T08:22:16.730Z"
   },
   {
    "duration": 8,
    "start_time": "2021-08-02T08:22:29.094Z"
   },
   {
    "duration": 8,
    "start_time": "2021-08-02T08:22:51.358Z"
   },
   {
    "duration": 9,
    "start_time": "2021-08-02T08:22:57.309Z"
   },
   {
    "duration": 39,
    "start_time": "2021-08-02T08:24:42.906Z"
   },
   {
    "duration": 72,
    "start_time": "2021-08-02T08:24:45.435Z"
   },
   {
    "duration": 26,
    "start_time": "2021-08-02T08:27:34.361Z"
   },
   {
    "duration": 21,
    "start_time": "2021-08-02T08:30:28.872Z"
   },
   {
    "duration": 17,
    "start_time": "2021-08-02T08:33:41.754Z"
   },
   {
    "duration": 22,
    "start_time": "2021-08-02T08:36:10.585Z"
   },
   {
    "duration": 30,
    "start_time": "2021-08-02T08:36:45.700Z"
   },
   {
    "duration": 22,
    "start_time": "2021-08-02T08:36:51.819Z"
   },
   {
    "duration": 21,
    "start_time": "2021-08-02T08:37:12.902Z"
   },
   {
    "duration": 20,
    "start_time": "2021-08-02T08:37:50.797Z"
   },
   {
    "duration": 20,
    "start_time": "2021-08-02T08:38:29.603Z"
   },
   {
    "duration": 304,
    "start_time": "2021-08-02T08:38:49.875Z"
   },
   {
    "duration": 16,
    "start_time": "2021-08-02T08:38:54.280Z"
   },
   {
    "duration": 19,
    "start_time": "2021-08-02T08:39:04.445Z"
   },
   {
    "duration": 20,
    "start_time": "2021-08-02T08:39:12.558Z"
   },
   {
    "duration": 17,
    "start_time": "2021-08-02T08:39:27.005Z"
   },
   {
    "duration": 17,
    "start_time": "2021-08-02T08:39:36.427Z"
   },
   {
    "duration": 18,
    "start_time": "2021-08-02T08:39:41.907Z"
   },
   {
    "duration": 2,
    "start_time": "2021-08-02T08:40:43.504Z"
   },
   {
    "duration": 81,
    "start_time": "2021-08-02T08:43:07.850Z"
   },
   {
    "duration": 78,
    "start_time": "2021-08-02T08:45:27.880Z"
   },
   {
    "duration": 246,
    "start_time": "2021-08-02T08:46:10.949Z"
   },
   {
    "duration": 4,
    "start_time": "2021-08-02T08:46:22.412Z"
   },
   {
    "duration": 17,
    "start_time": "2021-08-02T08:46:23.562Z"
   },
   {
    "duration": 8,
    "start_time": "2021-08-02T08:46:26.063Z"
   },
   {
    "duration": 21,
    "start_time": "2021-08-02T08:46:34.442Z"
   },
   {
    "duration": 14,
    "start_time": "2021-08-02T08:46:44.011Z"
   },
   {
    "duration": 19,
    "start_time": "2021-08-02T08:47:26.157Z"
   },
   {
    "duration": 139,
    "start_time": "2021-08-02T08:47:27.747Z"
   },
   {
    "duration": 25,
    "start_time": "2021-08-02T08:48:41.069Z"
   },
   {
    "duration": 18,
    "start_time": "2021-08-02T08:48:49.943Z"
   },
   {
    "duration": 16,
    "start_time": "2021-08-02T08:49:15.522Z"
   },
   {
    "duration": 137,
    "start_time": "2021-08-02T08:49:20.737Z"
   },
   {
    "duration": 18,
    "start_time": "2021-08-02T08:49:22.644Z"
   },
   {
    "duration": 15,
    "start_time": "2021-08-02T08:49:25.031Z"
   },
   {
    "duration": 260,
    "start_time": "2021-08-02T09:04:01.677Z"
   },
   {
    "duration": 34,
    "start_time": "2021-08-02T09:14:16.470Z"
   },
   {
    "duration": 22,
    "start_time": "2021-08-02T09:14:22.606Z"
   },
   {
    "duration": 24,
    "start_time": "2021-08-02T09:14:30.950Z"
   },
   {
    "duration": 25,
    "start_time": "2021-08-02T09:14:35.019Z"
   },
   {
    "duration": 29,
    "start_time": "2021-08-02T09:14:36.694Z"
   },
   {
    "duration": 23,
    "start_time": "2021-08-02T09:16:45.263Z"
   },
   {
    "duration": 21,
    "start_time": "2021-08-02T09:18:04.052Z"
   },
   {
    "duration": 17,
    "start_time": "2021-08-02T09:18:40.254Z"
   },
   {
    "duration": 16,
    "start_time": "2021-08-02T09:18:47.893Z"
   },
   {
    "duration": 17,
    "start_time": "2021-08-02T09:18:48.969Z"
   },
   {
    "duration": 24,
    "start_time": "2021-08-02T09:18:50.394Z"
   },
   {
    "duration": 12,
    "start_time": "2021-08-02T09:22:46.444Z"
   },
   {
    "duration": 20,
    "start_time": "2021-08-02T09:23:04.548Z"
   },
   {
    "duration": 4,
    "start_time": "2021-08-02T09:24:31.256Z"
   },
   {
    "duration": 19,
    "start_time": "2021-08-02T09:24:32.305Z"
   },
   {
    "duration": 19,
    "start_time": "2021-08-02T09:24:33.577Z"
   },
   {
    "duration": 216,
    "start_time": "2021-08-02T09:24:37.376Z"
   },
   {
    "duration": 25,
    "start_time": "2021-08-02T09:24:41.751Z"
   },
   {
    "duration": 19,
    "start_time": "2021-08-02T09:24:44.402Z"
   },
   {
    "duration": 3,
    "start_time": "2021-08-02T09:25:40.486Z"
   },
   {
    "duration": 490,
    "start_time": "2021-08-02T09:25:40.491Z"
   },
   {
    "duration": 9,
    "start_time": "2021-08-02T09:25:40.983Z"
   },
   {
    "duration": 33,
    "start_time": "2021-08-02T09:25:40.994Z"
   },
   {
    "duration": 9,
    "start_time": "2021-08-02T09:25:41.029Z"
   },
   {
    "duration": 26,
    "start_time": "2021-08-02T09:25:41.039Z"
   },
   {
    "duration": 25,
    "start_time": "2021-08-02T09:25:41.067Z"
   },
   {
    "duration": 13,
    "start_time": "2021-08-02T09:25:41.094Z"
   },
   {
    "duration": 8,
    "start_time": "2021-08-02T09:25:41.108Z"
   },
   {
    "duration": 7,
    "start_time": "2021-08-02T09:25:41.118Z"
   },
   {
    "duration": 10,
    "start_time": "2021-08-02T09:25:41.127Z"
   },
   {
    "duration": 6,
    "start_time": "2021-08-02T09:25:41.139Z"
   },
   {
    "duration": 82,
    "start_time": "2021-08-02T09:25:41.146Z"
   },
   {
    "duration": 72,
    "start_time": "2021-08-02T09:25:41.230Z"
   },
   {
    "duration": 10,
    "start_time": "2021-08-02T09:25:41.305Z"
   },
   {
    "duration": 49,
    "start_time": "2021-08-02T09:25:41.317Z"
   },
   {
    "duration": 54,
    "start_time": "2021-08-02T09:25:41.368Z"
   },
   {
    "duration": 26,
    "start_time": "2021-08-02T09:25:41.424Z"
   },
   {
    "duration": 5,
    "start_time": "2021-08-02T09:25:41.453Z"
   },
   {
    "duration": 3,
    "start_time": "2021-08-02T09:25:41.460Z"
   },
   {
    "duration": 34,
    "start_time": "2021-08-02T09:25:41.465Z"
   },
   {
    "duration": 11,
    "start_time": "2021-08-02T09:25:41.500Z"
   },
   {
    "duration": 5,
    "start_time": "2021-08-02T09:25:41.513Z"
   },
   {
    "duration": 14,
    "start_time": "2021-08-02T09:25:41.520Z"
   },
   {
    "duration": 3,
    "start_time": "2021-08-02T09:25:41.535Z"
   },
   {
    "duration": 6,
    "start_time": "2021-08-02T09:25:41.540Z"
   },
   {
    "duration": 11,
    "start_time": "2021-08-02T09:25:41.548Z"
   },
   {
    "duration": 43,
    "start_time": "2021-08-02T09:25:41.561Z"
   },
   {
    "duration": 16,
    "start_time": "2021-08-02T09:25:41.606Z"
   },
   {
    "duration": 14,
    "start_time": "2021-08-02T09:25:41.623Z"
   },
   {
    "duration": 17,
    "start_time": "2021-08-02T09:25:41.638Z"
   },
   {
    "duration": 3,
    "start_time": "2021-08-02T09:25:41.657Z"
   },
   {
    "duration": 43,
    "start_time": "2021-08-02T09:25:41.661Z"
   },
   {
    "duration": 4,
    "start_time": "2021-08-02T09:25:41.706Z"
   },
   {
    "duration": 16,
    "start_time": "2021-08-02T09:25:41.712Z"
   },
   {
    "duration": 17,
    "start_time": "2021-08-02T09:25:41.730Z"
   },
   {
    "duration": 152,
    "start_time": "2021-08-02T09:25:41.748Z"
   },
   {
    "duration": 18,
    "start_time": "2021-08-02T09:25:41.901Z"
   },
   {
    "duration": 16,
    "start_time": "2021-08-02T09:25:50.544Z"
   },
   {
    "duration": 24,
    "start_time": "2021-08-02T09:25:55.916Z"
   },
   {
    "duration": 21,
    "start_time": "2021-08-02T09:25:57.253Z"
   },
   {
    "duration": 21,
    "start_time": "2021-08-02T09:27:17.251Z"
   },
   {
    "duration": 125,
    "start_time": "2021-08-02T09:37:23.579Z"
   },
   {
    "duration": 19,
    "start_time": "2021-08-02T09:37:27.137Z"
   },
   {
    "duration": 15,
    "start_time": "2021-08-02T09:37:31.423Z"
   },
   {
    "duration": 20,
    "start_time": "2021-08-02T09:37:42.996Z"
   },
   {
    "duration": 29,
    "start_time": "2021-08-02T09:38:34.900Z"
   },
   {
    "duration": 17,
    "start_time": "2021-08-02T09:40:09.320Z"
   },
   {
    "duration": 28,
    "start_time": "2021-08-02T09:42:18.123Z"
   },
   {
    "duration": 24,
    "start_time": "2021-08-02T09:48:21.944Z"
   },
   {
    "duration": 21,
    "start_time": "2021-08-02T10:21:06.852Z"
   },
   {
    "duration": 237,
    "start_time": "2021-08-02T10:22:45.627Z"
   },
   {
    "duration": 22,
    "start_time": "2021-08-02T10:22:55.014Z"
   },
   {
    "duration": 22,
    "start_time": "2021-08-02T10:23:15.192Z"
   },
   {
    "duration": 20,
    "start_time": "2021-08-02T10:23:23.328Z"
   },
   {
    "duration": 20,
    "start_time": "2021-08-02T10:23:29.322Z"
   },
   {
    "duration": 16,
    "start_time": "2021-08-02T10:28:10.290Z"
   },
   {
    "duration": 10,
    "start_time": "2021-08-02T10:28:25.805Z"
   },
   {
    "duration": 51,
    "start_time": "2021-08-02T10:28:54.856Z"
   },
   {
    "duration": 27,
    "start_time": "2021-08-02T10:29:12.791Z"
   },
   {
    "duration": 76,
    "start_time": "2021-08-02T10:35:11.881Z"
   },
   {
    "duration": 75,
    "start_time": "2021-08-02T10:35:31.420Z"
   },
   {
    "duration": 31,
    "start_time": "2021-08-02T10:35:38.657Z"
   },
   {
    "duration": 37,
    "start_time": "2021-08-02T10:36:11.821Z"
   },
   {
    "duration": 43,
    "start_time": "2021-08-02T10:36:20.390Z"
   },
   {
    "duration": 27,
    "start_time": "2021-08-02T10:36:49.823Z"
   },
   {
    "duration": 69,
    "start_time": "2021-08-02T10:51:58.964Z"
   },
   {
    "duration": 56,
    "start_time": "2021-08-02T10:54:51.946Z"
   },
   {
    "duration": 6,
    "start_time": "2021-08-02T10:55:01.840Z"
   },
   {
    "duration": 18,
    "start_time": "2021-08-02T10:55:05.211Z"
   },
   {
    "duration": 75,
    "start_time": "2021-08-02T10:55:23.457Z"
   },
   {
    "duration": 15,
    "start_time": "2021-08-02T10:55:31.641Z"
   },
   {
    "duration": 11,
    "start_time": "2021-08-02T10:55:38.448Z"
   },
   {
    "duration": 51,
    "start_time": "2021-08-02T10:55:45.021Z"
   },
   {
    "duration": 44,
    "start_time": "2021-08-02T10:55:55.264Z"
   },
   {
    "duration": 26,
    "start_time": "2021-08-02T10:56:26.040Z"
   },
   {
    "duration": 5,
    "start_time": "2021-08-02T11:00:07.902Z"
   },
   {
    "duration": 3,
    "start_time": "2021-08-02T11:00:17.142Z"
   },
   {
    "duration": 384,
    "start_time": "2021-08-02T11:00:17.147Z"
   },
   {
    "duration": 8,
    "start_time": "2021-08-02T11:00:17.533Z"
   },
   {
    "duration": 22,
    "start_time": "2021-08-02T11:00:17.543Z"
   },
   {
    "duration": 8,
    "start_time": "2021-08-02T11:00:17.567Z"
   },
   {
    "duration": 17,
    "start_time": "2021-08-02T11:00:17.577Z"
   },
   {
    "duration": 8,
    "start_time": "2021-08-02T11:00:17.597Z"
   },
   {
    "duration": 14,
    "start_time": "2021-08-02T11:00:17.608Z"
   },
   {
    "duration": 8,
    "start_time": "2021-08-02T11:00:17.624Z"
   },
   {
    "duration": 7,
    "start_time": "2021-08-02T11:00:17.633Z"
   },
   {
    "duration": 53,
    "start_time": "2021-08-02T11:00:17.642Z"
   },
   {
    "duration": 9,
    "start_time": "2021-08-02T11:00:17.697Z"
   },
   {
    "duration": 58,
    "start_time": "2021-08-02T11:00:17.708Z"
   },
   {
    "duration": 80,
    "start_time": "2021-08-02T11:00:17.767Z"
   },
   {
    "duration": 10,
    "start_time": "2021-08-02T11:00:17.849Z"
   },
   {
    "duration": 73,
    "start_time": "2021-08-02T11:00:17.861Z"
   },
   {
    "duration": 63,
    "start_time": "2021-08-02T11:00:17.936Z"
   },
   {
    "duration": 37,
    "start_time": "2021-08-02T11:00:18.001Z"
   },
   {
    "duration": 8,
    "start_time": "2021-08-02T11:00:18.042Z"
   },
   {
    "duration": 4,
    "start_time": "2021-08-02T11:00:18.052Z"
   },
   {
    "duration": 39,
    "start_time": "2021-08-02T11:00:18.058Z"
   },
   {
    "duration": 14,
    "start_time": "2021-08-02T11:00:18.099Z"
   },
   {
    "duration": 4,
    "start_time": "2021-08-02T11:00:18.115Z"
   },
   {
    "duration": 14,
    "start_time": "2021-08-02T11:00:18.121Z"
   },
   {
    "duration": 4,
    "start_time": "2021-08-02T11:00:18.137Z"
   },
   {
    "duration": 6,
    "start_time": "2021-08-02T11:00:18.143Z"
   },
   {
    "duration": 19,
    "start_time": "2021-08-02T11:01:39.625Z"
   },
   {
    "duration": 17,
    "start_time": "2021-08-02T11:01:42.648Z"
   },
   {
    "duration": 16,
    "start_time": "2021-08-02T11:01:44.247Z"
   },
   {
    "duration": 24,
    "start_time": "2021-08-02T11:01:46.164Z"
   },
   {
    "duration": 26,
    "start_time": "2021-08-02T11:03:32.029Z"
   },
   {
    "duration": 4,
    "start_time": "2021-08-02T11:03:44.078Z"
   },
   {
    "duration": 25,
    "start_time": "2021-08-02T11:03:45.616Z"
   },
   {
    "duration": 5,
    "start_time": "2021-08-02T11:04:24.445Z"
   },
   {
    "duration": 237,
    "start_time": "2021-08-02T11:04:32.422Z"
   },
   {
    "duration": 236,
    "start_time": "2021-08-02T11:04:41.629Z"
   },
   {
    "duration": 5,
    "start_time": "2021-08-02T11:04:51.568Z"
   },
   {
    "duration": 15,
    "start_time": "2021-08-02T11:05:17.852Z"
   },
   {
    "duration": 19,
    "start_time": "2021-08-02T11:05:22.360Z"
   },
   {
    "duration": 23,
    "start_time": "2021-08-02T11:05:32.291Z"
   },
   {
    "duration": 119,
    "start_time": "2021-08-02T11:05:37.413Z"
   },
   {
    "duration": 20,
    "start_time": "2021-08-02T11:06:17.032Z"
   },
   {
    "duration": 23,
    "start_time": "2021-08-02T11:06:33.162Z"
   },
   {
    "duration": 29,
    "start_time": "2021-08-02T11:07:47.155Z"
   },
   {
    "duration": 3,
    "start_time": "2021-08-02T11:09:24.096Z"
   },
   {
    "duration": 3,
    "start_time": "2021-08-02T11:09:24.682Z"
   },
   {
    "duration": 80,
    "start_time": "2021-08-02T11:10:19.985Z"
   },
   {
    "duration": 19,
    "start_time": "2021-08-02T11:10:23.962Z"
   },
   {
    "duration": 29,
    "start_time": "2021-08-02T11:12:09.553Z"
   },
   {
    "duration": 18,
    "start_time": "2021-08-02T11:12:18.835Z"
   },
   {
    "duration": 20,
    "start_time": "2021-08-02T11:13:21.541Z"
   },
   {
    "duration": 32,
    "start_time": "2021-08-02T11:14:02.976Z"
   },
   {
    "duration": 23,
    "start_time": "2021-08-02T11:14:39.826Z"
   },
   {
    "duration": 25,
    "start_time": "2021-08-02T11:14:53.812Z"
   },
   {
    "duration": 12,
    "start_time": "2021-08-02T11:15:27.864Z"
   },
   {
    "duration": 23,
    "start_time": "2021-08-02T11:15:32.012Z"
   },
   {
    "duration": 13,
    "start_time": "2021-08-02T11:15:49.473Z"
   },
   {
    "duration": 24,
    "start_time": "2021-08-02T11:15:55.200Z"
   },
   {
    "duration": 25,
    "start_time": "2021-08-02T11:16:08.108Z"
   },
   {
    "duration": 19,
    "start_time": "2021-08-02T11:16:26.901Z"
   },
   {
    "duration": 31,
    "start_time": "2021-08-02T11:16:34.394Z"
   },
   {
    "duration": 234,
    "start_time": "2021-08-02T11:17:18.112Z"
   },
   {
    "duration": 23,
    "start_time": "2021-08-02T11:17:29.706Z"
   },
   {
    "duration": 243,
    "start_time": "2021-08-02T11:17:56.522Z"
   },
   {
    "duration": 5758,
    "start_time": "2021-08-02T11:18:22.184Z"
   },
   {
    "duration": 5905,
    "start_time": "2021-08-02T11:18:40.610Z"
   },
   {
    "duration": 18,
    "start_time": "2021-08-02T11:22:15.719Z"
   },
   {
    "duration": 28,
    "start_time": "2021-08-02T11:22:19.096Z"
   },
   {
    "duration": 22,
    "start_time": "2021-08-02T11:26:43.713Z"
   },
   {
    "duration": 16,
    "start_time": "2021-08-02T11:27:20.342Z"
   },
   {
    "duration": 6,
    "start_time": "2021-08-02T11:27:55.030Z"
   },
   {
    "duration": 6,
    "start_time": "2021-08-02T11:28:32.392Z"
   },
   {
    "duration": 26,
    "start_time": "2021-08-02T11:28:48.916Z"
   },
   {
    "duration": 20,
    "start_time": "2021-08-02T11:29:05.597Z"
   },
   {
    "duration": 3,
    "start_time": "2021-08-02T11:29:34.494Z"
   },
   {
    "duration": 3,
    "start_time": "2021-08-02T11:29:34.972Z"
   },
   {
    "duration": 19,
    "start_time": "2021-08-02T11:29:40.531Z"
   },
   {
    "duration": 20,
    "start_time": "2021-08-02T11:29:48.692Z"
   },
   {
    "duration": 15,
    "start_time": "2021-08-02T12:42:04.990Z"
   },
   {
    "duration": 258,
    "start_time": "2021-08-02T12:42:25.082Z"
   },
   {
    "duration": 15,
    "start_time": "2021-08-02T12:42:38.883Z"
   },
   {
    "duration": 11,
    "start_time": "2021-08-02T12:42:41.876Z"
   },
   {
    "duration": 233,
    "start_time": "2021-08-02T12:42:53.981Z"
   },
   {
    "duration": 217,
    "start_time": "2021-08-02T12:43:24.292Z"
   },
   {
    "duration": 222,
    "start_time": "2021-08-02T12:43:30.725Z"
   },
   {
    "duration": 12,
    "start_time": "2021-08-02T12:43:51.246Z"
   },
   {
    "duration": 14,
    "start_time": "2021-08-02T12:43:53.720Z"
   },
   {
    "duration": 11,
    "start_time": "2021-08-02T12:45:04.865Z"
   },
   {
    "duration": 15,
    "start_time": "2021-08-02T12:45:08.275Z"
   },
   {
    "duration": 2,
    "start_time": "2021-08-02T12:46:11.544Z"
   },
   {
    "duration": 23,
    "start_time": "2021-08-02T12:48:30.043Z"
   },
   {
    "duration": 2,
    "start_time": "2021-08-02T12:49:04.982Z"
   },
   {
    "duration": 252,
    "start_time": "2021-08-02T12:55:54.479Z"
   },
   {
    "duration": 15,
    "start_time": "2021-08-02T12:56:06.260Z"
   },
   {
    "duration": 98,
    "start_time": "2021-08-02T12:57:06.509Z"
   },
   {
    "duration": 8,
    "start_time": "2021-08-02T12:57:12.171Z"
   },
   {
    "duration": 73,
    "start_time": "2021-08-02T12:57:18.246Z"
   },
   {
    "duration": 8,
    "start_time": "2021-08-02T12:57:24.382Z"
   },
   {
    "duration": 7,
    "start_time": "2021-08-02T12:57:28.113Z"
   },
   {
    "duration": 23,
    "start_time": "2021-08-02T12:57:35.324Z"
   },
   {
    "duration": 23,
    "start_time": "2021-08-02T13:01:57.602Z"
   },
   {
    "duration": 17,
    "start_time": "2021-08-02T13:02:04.111Z"
   },
   {
    "duration": 225,
    "start_time": "2021-08-02T13:02:33.721Z"
   },
   {
    "duration": 22,
    "start_time": "2021-08-02T13:02:36.171Z"
   },
   {
    "duration": 20,
    "start_time": "2021-08-02T13:05:39.951Z"
   },
   {
    "duration": 83,
    "start_time": "2021-08-02T13:06:29.715Z"
   },
   {
    "duration": 8,
    "start_time": "2021-08-02T13:06:33.844Z"
   },
   {
    "duration": 8,
    "start_time": "2021-08-02T13:07:19.609Z"
   },
   {
    "duration": 5617,
    "start_time": "2021-08-02T13:07:48.061Z"
   },
   {
    "duration": 15,
    "start_time": "2021-08-02T13:09:35.692Z"
   },
   {
    "duration": 15,
    "start_time": "2021-08-02T13:09:45.851Z"
   },
   {
    "duration": 16,
    "start_time": "2021-08-02T13:10:53.360Z"
   },
   {
    "duration": 18,
    "start_time": "2021-08-02T13:14:08.148Z"
   },
   {
    "duration": 238,
    "start_time": "2021-08-02T13:15:50.252Z"
   },
   {
    "duration": 18,
    "start_time": "2021-08-02T13:15:55.102Z"
   },
   {
    "duration": 13,
    "start_time": "2021-08-02T13:16:29.854Z"
   },
   {
    "duration": 13,
    "start_time": "2021-08-02T13:16:31.052Z"
   },
   {
    "duration": 2,
    "start_time": "2021-08-02T13:18:37.191Z"
   },
   {
    "duration": 80,
    "start_time": "2021-08-02T13:18:47.966Z"
   },
   {
    "duration": 3,
    "start_time": "2021-08-02T13:19:20.548Z"
   },
   {
    "duration": 22,
    "start_time": "2021-08-02T13:19:39.156Z"
   },
   {
    "duration": 80,
    "start_time": "2021-08-02T13:19:51.099Z"
   },
   {
    "duration": 23,
    "start_time": "2021-08-02T13:19:53.938Z"
   },
   {
    "duration": 180,
    "start_time": "2021-08-02T13:21:15.784Z"
   },
   {
    "duration": 75,
    "start_time": "2021-08-02T13:21:46.060Z"
   },
   {
    "duration": 8,
    "start_time": "2021-08-02T13:21:59.817Z"
   },
   {
    "duration": 12,
    "start_time": "2021-08-02T13:24:49.887Z"
   },
   {
    "duration": 51,
    "start_time": "2021-08-02T13:28:42.536Z"
   },
   {
    "duration": 81,
    "start_time": "2021-08-02T13:29:14.993Z"
   },
   {
    "duration": 7,
    "start_time": "2021-08-02T13:29:17.033Z"
   },
   {
    "duration": 46,
    "start_time": "2021-08-02T13:29:18.631Z"
   },
   {
    "duration": 82,
    "start_time": "2021-08-02T13:31:01.026Z"
   },
   {
    "duration": 334,
    "start_time": "2021-08-02T13:31:10.946Z"
   },
   {
    "duration": 334,
    "start_time": "2021-08-02T13:34:00.598Z"
   },
   {
    "duration": 510,
    "start_time": "2021-08-02T13:34:07.021Z"
   },
   {
    "duration": 502,
    "start_time": "2021-08-02T13:34:30.300Z"
   },
   {
    "duration": 327,
    "start_time": "2021-08-02T13:35:12.328Z"
   },
   {
    "duration": 76,
    "start_time": "2021-08-02T13:37:51.462Z"
   },
   {
    "duration": 8,
    "start_time": "2021-08-02T13:51:53.057Z"
   },
   {
    "duration": 48,
    "start_time": "2021-08-02T13:51:54.293Z"
   },
   {
    "duration": 3,
    "start_time": "2021-08-02T13:53:00.320Z"
   },
   {
    "duration": 324,
    "start_time": "2021-08-02T13:53:39.643Z"
   },
   {
    "duration": 95,
    "start_time": "2021-08-02T13:54:45.675Z"
   },
   {
    "duration": 341,
    "start_time": "2021-08-02T13:55:51.608Z"
   },
   {
    "duration": 403,
    "start_time": "2021-08-02T13:56:00.691Z"
   },
   {
    "duration": 321,
    "start_time": "2021-08-02T13:56:05.406Z"
   },
   {
    "duration": 253,
    "start_time": "2021-08-02T13:56:10.166Z"
   },
   {
    "duration": 324,
    "start_time": "2021-08-02T13:56:15.956Z"
   },
   {
    "duration": 80,
    "start_time": "2021-08-02T13:57:26.880Z"
   },
   {
    "duration": 315,
    "start_time": "2021-08-02T13:57:57.556Z"
   },
   {
    "duration": 15,
    "start_time": "2021-08-02T14:38:22.769Z"
   },
   {
    "duration": 28,
    "start_time": "2021-08-02T14:38:45.371Z"
   },
   {
    "duration": 327,
    "start_time": "2021-08-02T14:39:26.364Z"
   },
   {
    "duration": 26,
    "start_time": "2021-08-02T14:39:51.282Z"
   },
   {
    "duration": 363,
    "start_time": "2021-08-02T14:40:25.186Z"
   },
   {
    "duration": 324,
    "start_time": "2021-08-02T14:40:36.306Z"
   },
   {
    "duration": 28,
    "start_time": "2021-08-02T14:40:53.915Z"
   },
   {
    "duration": 17,
    "start_time": "2021-08-02T14:41:01.553Z"
   },
   {
    "duration": 323,
    "start_time": "2021-08-02T14:41:22.927Z"
   },
   {
    "duration": 438,
    "start_time": "2021-08-02T14:42:22.095Z"
   },
   {
    "duration": 344,
    "start_time": "2021-08-02T14:42:44.432Z"
   },
   {
    "duration": 257,
    "start_time": "2021-08-02T14:42:55.207Z"
   },
   {
    "duration": 332,
    "start_time": "2021-08-02T14:43:09.732Z"
   },
   {
    "duration": 335,
    "start_time": "2021-08-02T14:44:10.091Z"
   },
   {
    "duration": 475,
    "start_time": "2021-08-02T14:44:32.591Z"
   },
   {
    "duration": 249,
    "start_time": "2021-08-02T14:46:16.095Z"
   },
   {
    "duration": 28,
    "start_time": "2021-08-02T14:46:25.355Z"
   },
   {
    "duration": 28,
    "start_time": "2021-08-02T14:46:31.584Z"
   },
   {
    "duration": 21,
    "start_time": "2021-08-02T14:46:43.665Z"
   },
   {
    "duration": 23,
    "start_time": "2021-08-02T14:47:20.241Z"
   },
   {
    "duration": 9,
    "start_time": "2021-08-02T14:47:28.241Z"
   },
   {
    "duration": 8,
    "start_time": "2021-08-02T14:47:44.719Z"
   },
   {
    "duration": 24,
    "start_time": "2021-08-02T14:47:56.010Z"
   },
   {
    "duration": 276,
    "start_time": "2021-08-02T14:48:38.707Z"
   },
   {
    "duration": 333,
    "start_time": "2021-08-02T14:48:50.240Z"
   },
   {
    "duration": 8,
    "start_time": "2021-08-02T14:49:11.458Z"
   },
   {
    "duration": 8,
    "start_time": "2021-08-02T14:49:25.350Z"
   },
   {
    "duration": 8,
    "start_time": "2021-08-02T14:50:01.079Z"
   },
   {
    "duration": 8,
    "start_time": "2021-08-02T14:50:19.918Z"
   },
   {
    "duration": 227,
    "start_time": "2021-08-02T14:50:55.906Z"
   },
   {
    "duration": 9,
    "start_time": "2021-08-02T14:51:02.011Z"
   },
   {
    "duration": 7,
    "start_time": "2021-08-02T14:51:02.295Z"
   },
   {
    "duration": 4,
    "start_time": "2021-08-02T14:51:03.402Z"
   },
   {
    "duration": 229,
    "start_time": "2021-08-02T14:51:34.240Z"
   },
   {
    "duration": 7,
    "start_time": "2021-08-02T14:51:39.329Z"
   },
   {
    "duration": 9,
    "start_time": "2021-08-02T14:51:39.533Z"
   },
   {
    "duration": 12,
    "start_time": "2021-08-02T14:52:11.952Z"
   },
   {
    "duration": 12,
    "start_time": "2021-08-02T14:52:12.418Z"
   },
   {
    "duration": 336,
    "start_time": "2021-08-02T14:52:28.001Z"
   },
   {
    "duration": 320,
    "start_time": "2021-08-02T14:57:15.368Z"
   },
   {
    "duration": 27,
    "start_time": "2021-08-02T14:57:49.313Z"
   },
   {
    "duration": 344,
    "start_time": "2021-08-02T14:58:04.068Z"
   },
   {
    "duration": 18,
    "start_time": "2021-08-02T15:03:52.625Z"
   },
   {
    "duration": 65,
    "start_time": "2021-08-02T15:03:56.245Z"
   },
   {
    "duration": 9,
    "start_time": "2021-08-02T15:03:57.102Z"
   },
   {
    "duration": 39,
    "start_time": "2021-08-02T15:03:57.307Z"
   },
   {
    "duration": 32,
    "start_time": "2021-08-02T15:03:57.935Z"
   },
   {
    "duration": 26,
    "start_time": "2021-08-02T15:04:14.054Z"
   },
   {
    "duration": 6,
    "start_time": "2021-08-02T15:04:42.648Z"
   },
   {
    "duration": 4,
    "start_time": "2021-08-02T15:04:44.324Z"
   },
   {
    "duration": 14,
    "start_time": "2021-08-02T15:04:44.663Z"
   },
   {
    "duration": 7,
    "start_time": "2021-08-02T15:06:01.038Z"
   },
   {
    "duration": 16,
    "start_time": "2021-08-02T15:06:29.747Z"
   },
   {
    "duration": 13,
    "start_time": "2021-08-02T15:15:50.829Z"
   },
   {
    "duration": 11,
    "start_time": "2021-08-02T15:15:51.368Z"
   },
   {
    "duration": 328,
    "start_time": "2021-08-02T15:15:52.068Z"
   },
   {
    "duration": 3,
    "start_time": "2021-08-02T15:20:37.170Z"
   },
   {
    "duration": 16,
    "start_time": "2021-08-02T15:22:34.352Z"
   },
   {
    "duration": 25,
    "start_time": "2021-08-02T15:23:49.587Z"
   },
   {
    "duration": 21,
    "start_time": "2021-08-02T15:23:58.726Z"
   },
   {
    "duration": 223,
    "start_time": "2021-08-02T15:24:03.868Z"
   },
   {
    "duration": 16,
    "start_time": "2021-08-02T15:24:09.535Z"
   },
   {
    "duration": 370,
    "start_time": "2021-08-02T15:26:46.487Z"
   },
   {
    "duration": 361,
    "start_time": "2021-08-02T15:27:04.348Z"
   },
   {
    "duration": 351,
    "start_time": "2021-08-02T15:27:08.679Z"
   },
   {
    "duration": 376,
    "start_time": "2021-08-02T15:27:18.936Z"
   },
   {
    "duration": 523,
    "start_time": "2021-08-02T15:27:22.051Z"
   },
   {
    "duration": 125,
    "start_time": "2021-08-02T15:27:36.186Z"
   },
   {
    "duration": 429,
    "start_time": "2021-08-02T15:27:44.545Z"
   },
   {
    "duration": 343,
    "start_time": "2021-08-02T15:27:53.011Z"
   },
   {
    "duration": 595,
    "start_time": "2021-08-02T15:29:08.051Z"
   },
   {
    "duration": 400,
    "start_time": "2021-08-02T15:29:20.222Z"
   },
   {
    "duration": 234,
    "start_time": "2021-08-02T15:29:28.044Z"
   },
   {
    "duration": 412,
    "start_time": "2021-08-02T15:29:54.682Z"
   },
   {
    "duration": 640,
    "start_time": "2021-08-02T15:30:18.172Z"
   },
   {
    "duration": 929,
    "start_time": "2021-08-02T15:31:13.556Z"
   },
   {
    "duration": 957,
    "start_time": "2021-08-02T15:31:30.200Z"
   },
   {
    "duration": 1126,
    "start_time": "2021-08-02T15:31:35.465Z"
   },
   {
    "duration": 945,
    "start_time": "2021-08-02T15:31:46.271Z"
   },
   {
    "duration": 933,
    "start_time": "2021-08-02T15:32:02.478Z"
   },
   {
    "duration": 901,
    "start_time": "2021-08-02T15:32:15.264Z"
   },
   {
    "duration": 1207,
    "start_time": "2021-08-02T15:32:53.739Z"
   },
   {
    "duration": 318,
    "start_time": "2021-08-02T15:40:13.641Z"
   },
   {
    "duration": 82,
    "start_time": "2021-08-02T15:41:17.483Z"
   },
   {
    "duration": 571,
    "start_time": "2021-08-02T15:41:20.597Z"
   },
   {
    "duration": 562,
    "start_time": "2021-08-02T15:41:31.969Z"
   },
   {
    "duration": 71,
    "start_time": "2021-08-02T15:41:43.245Z"
   },
   {
    "duration": 336,
    "start_time": "2021-08-02T15:41:45.113Z"
   },
   {
    "duration": 316,
    "start_time": "2021-08-02T15:41:58.162Z"
   },
   {
    "duration": 122,
    "start_time": "2021-08-02T15:42:16.221Z"
   },
   {
    "duration": 325,
    "start_time": "2021-08-02T15:42:19.643Z"
   },
   {
    "duration": 148,
    "start_time": "2021-08-02T15:42:48.891Z"
   },
   {
    "duration": 139,
    "start_time": "2021-08-02T15:43:01.073Z"
   },
   {
    "duration": 278,
    "start_time": "2021-08-02T15:47:22.594Z"
   },
   {
    "duration": 57,
    "start_time": "2021-08-02T15:47:33.043Z"
   },
   {
    "duration": 104,
    "start_time": "2021-08-02T15:48:05.889Z"
   },
   {
    "duration": 8,
    "start_time": "2021-08-02T15:48:48.123Z"
   },
   {
    "duration": 57,
    "start_time": "2021-08-02T15:48:49.451Z"
   },
   {
    "duration": 77,
    "start_time": "2021-08-02T15:58:11.058Z"
   },
   {
    "duration": 8,
    "start_time": "2021-08-02T15:58:23.680Z"
   },
   {
    "duration": 8,
    "start_time": "2021-08-02T15:59:57.124Z"
   },
   {
    "duration": 8,
    "start_time": "2021-08-02T16:01:13.467Z"
   },
   {
    "duration": 8,
    "start_time": "2021-08-02T16:03:39.707Z"
   },
   {
    "duration": 242,
    "start_time": "2021-08-02T16:03:47.142Z"
   },
   {
    "duration": 8,
    "start_time": "2021-08-02T16:03:52.779Z"
   },
   {
    "duration": 10,
    "start_time": "2021-08-02T16:04:09.645Z"
   },
   {
    "duration": 12,
    "start_time": "2021-08-02T16:04:18.485Z"
   },
   {
    "duration": 9,
    "start_time": "2021-08-02T16:04:34.111Z"
   },
   {
    "duration": 11,
    "start_time": "2021-08-02T16:04:51.899Z"
   },
   {
    "duration": 8,
    "start_time": "2021-08-02T16:07:30.231Z"
   },
   {
    "duration": 7,
    "start_time": "2021-08-02T16:07:33.307Z"
   },
   {
    "duration": 9,
    "start_time": "2021-08-02T16:07:59.325Z"
   },
   {
    "duration": 570,
    "start_time": "2021-08-02T16:12:45.940Z"
   },
   {
    "duration": 238,
    "start_time": "2021-08-02T16:28:43.246Z"
   },
   {
    "duration": 17,
    "start_time": "2021-08-02T16:28:50.740Z"
   },
   {
    "duration": 8,
    "start_time": "2021-08-02T16:29:07.545Z"
   },
   {
    "duration": 7,
    "start_time": "2021-08-02T16:29:15.657Z"
   },
   {
    "duration": 7,
    "start_time": "2021-08-02T16:30:13.796Z"
   },
   {
    "duration": 9,
    "start_time": "2021-08-02T16:30:44.095Z"
   },
   {
    "duration": 9,
    "start_time": "2021-08-02T16:30:59.910Z"
   },
   {
    "duration": 9,
    "start_time": "2021-08-02T16:31:08.755Z"
   },
   {
    "duration": 11,
    "start_time": "2021-08-02T16:31:22.019Z"
   },
   {
    "duration": 9,
    "start_time": "2021-08-02T16:31:24.606Z"
   },
   {
    "duration": 10,
    "start_time": "2021-08-02T16:31:46.992Z"
   },
   {
    "duration": 10,
    "start_time": "2021-08-02T16:31:58.956Z"
   },
   {
    "duration": 10,
    "start_time": "2021-08-02T16:32:08.468Z"
   },
   {
    "duration": 10,
    "start_time": "2021-08-02T16:34:13.694Z"
   },
   {
    "duration": 219,
    "start_time": "2021-08-02T16:35:15.525Z"
   },
   {
    "duration": 10,
    "start_time": "2021-08-02T16:35:51.570Z"
   },
   {
    "duration": 10,
    "start_time": "2021-08-02T16:35:52.265Z"
   },
   {
    "duration": 84,
    "start_time": "2021-08-02T16:41:31.883Z"
   },
   {
    "duration": 10,
    "start_time": "2021-08-02T16:43:56.169Z"
   },
   {
    "duration": 73,
    "start_time": "2021-08-02T16:44:32.363Z"
   },
   {
    "duration": 8,
    "start_time": "2021-08-02T16:44:36.959Z"
   },
   {
    "duration": 8,
    "start_time": "2021-08-02T16:44:49.085Z"
   },
   {
    "duration": 9,
    "start_time": "2021-08-02T16:44:54.496Z"
   },
   {
    "duration": 8,
    "start_time": "2021-08-02T16:45:07.145Z"
   },
   {
    "duration": 7,
    "start_time": "2021-08-02T16:45:12.983Z"
   },
   {
    "duration": 7,
    "start_time": "2021-08-02T16:45:13.699Z"
   },
   {
    "duration": 7,
    "start_time": "2021-08-02T16:45:20.630Z"
   },
   {
    "duration": 2,
    "start_time": "2021-08-02T16:45:30.359Z"
   },
   {
    "duration": 452,
    "start_time": "2021-08-02T16:45:30.365Z"
   },
   {
    "duration": 8,
    "start_time": "2021-08-02T16:45:30.820Z"
   },
   {
    "duration": 33,
    "start_time": "2021-08-02T16:45:30.829Z"
   },
   {
    "duration": 19,
    "start_time": "2021-08-02T16:45:30.864Z"
   },
   {
    "duration": 23,
    "start_time": "2021-08-02T16:45:30.885Z"
   },
   {
    "duration": 9,
    "start_time": "2021-08-02T16:45:30.909Z"
   },
   {
    "duration": 26,
    "start_time": "2021-08-02T16:45:30.919Z"
   },
   {
    "duration": 14,
    "start_time": "2021-08-02T16:45:30.948Z"
   },
   {
    "duration": 20,
    "start_time": "2021-08-02T16:45:30.964Z"
   },
   {
    "duration": 25,
    "start_time": "2021-08-02T16:45:30.986Z"
   },
   {
    "duration": 33,
    "start_time": "2021-08-02T16:45:31.013Z"
   },
   {
    "duration": 74,
    "start_time": "2021-08-02T16:45:31.048Z"
   },
   {
    "duration": 57,
    "start_time": "2021-08-02T16:45:31.123Z"
   },
   {
    "duration": 12,
    "start_time": "2021-08-02T16:45:31.181Z"
   },
   {
    "duration": 56,
    "start_time": "2021-08-02T16:45:31.194Z"
   },
   {
    "duration": 32,
    "start_time": "2021-08-02T16:45:31.252Z"
   },
   {
    "duration": 24,
    "start_time": "2021-08-02T16:45:31.291Z"
   },
   {
    "duration": 6,
    "start_time": "2021-08-02T16:45:31.316Z"
   },
   {
    "duration": 9,
    "start_time": "2021-08-02T16:45:31.323Z"
   },
   {
    "duration": 23,
    "start_time": "2021-08-02T16:45:31.333Z"
   },
   {
    "duration": 15,
    "start_time": "2021-08-02T16:45:31.358Z"
   },
   {
    "duration": 17,
    "start_time": "2021-08-02T16:45:31.375Z"
   },
   {
    "duration": 18,
    "start_time": "2021-08-02T16:45:31.395Z"
   },
   {
    "duration": 13,
    "start_time": "2021-08-02T16:45:31.415Z"
   },
   {
    "duration": 8,
    "start_time": "2021-08-02T16:45:31.429Z"
   },
   {
    "duration": 12,
    "start_time": "2021-08-02T16:45:31.439Z"
   },
   {
    "duration": 16,
    "start_time": "2021-08-02T16:45:31.452Z"
   },
   {
    "duration": 938,
    "start_time": "2021-08-02T16:45:31.470Z"
   },
   {
    "duration": 959,
    "start_time": "2021-08-02T16:45:32.409Z"
   },
   {
    "duration": 25,
    "start_time": "2021-08-02T16:45:33.369Z"
   },
   {
    "duration": 14,
    "start_time": "2021-08-02T16:45:33.396Z"
   },
   {
    "duration": 14,
    "start_time": "2021-08-02T16:45:33.412Z"
   },
   {
    "duration": 2,
    "start_time": "2021-08-02T16:45:33.427Z"
   },
   {
    "duration": 6,
    "start_time": "2021-08-02T16:45:33.431Z"
   },
   {
    "duration": 17,
    "start_time": "2021-08-02T16:45:33.439Z"
   },
   {
    "duration": 36,
    "start_time": "2021-08-02T16:45:33.457Z"
   },
   {
    "duration": 15,
    "start_time": "2021-08-02T16:45:33.495Z"
   },
   {
    "duration": 17,
    "start_time": "2021-08-02T16:45:33.512Z"
   },
   {
    "duration": 138,
    "start_time": "2021-08-02T16:45:33.530Z"
   },
   {
    "duration": 30,
    "start_time": "2021-08-02T16:45:33.670Z"
   },
   {
    "duration": 96,
    "start_time": "2021-08-02T16:45:33.701Z"
   },
   {
    "duration": 6,
    "start_time": "2021-08-02T16:45:33.799Z"
   },
   {
    "duration": 56,
    "start_time": "2021-08-02T16:45:33.807Z"
   },
   {
    "duration": 348,
    "start_time": "2021-08-02T16:45:33.864Z"
   },
   {
    "duration": 2,
    "start_time": "2021-08-02T16:45:34.214Z"
   },
   {
    "duration": 326,
    "start_time": "2021-08-02T16:45:34.217Z"
   },
   {
    "duration": 321,
    "start_time": "2021-08-02T16:45:34.544Z"
   },
   {
    "duration": 8,
    "start_time": "2021-08-02T16:46:01.313Z"
   },
   {
    "duration": 8,
    "start_time": "2021-08-02T16:46:07.038Z"
   },
   {
    "duration": 11,
    "start_time": "2021-08-02T16:46:26.004Z"
   },
   {
    "duration": 8,
    "start_time": "2021-08-02T16:46:43.857Z"
   },
   {
    "duration": 8,
    "start_time": "2021-08-02T16:46:49.314Z"
   },
   {
    "duration": 8,
    "start_time": "2021-08-02T16:46:54.112Z"
   },
   {
    "duration": 8,
    "start_time": "2021-08-02T16:47:20.219Z"
   },
   {
    "duration": 304,
    "start_time": "2021-08-02T16:48:49.262Z"
   },
   {
    "duration": 12,
    "start_time": "2021-08-02T16:48:52.261Z"
   },
   {
    "duration": 8,
    "start_time": "2021-08-02T16:48:53.081Z"
   },
   {
    "duration": 8,
    "start_time": "2021-08-02T16:48:53.708Z"
   },
   {
    "duration": 12,
    "start_time": "2021-08-02T16:49:02.886Z"
   },
   {
    "duration": 304,
    "start_time": "2021-08-02T16:49:03.878Z"
   },
   {
    "duration": 11,
    "start_time": "2021-08-02T16:54:54.407Z"
   },
   {
    "duration": 7,
    "start_time": "2021-08-02T16:56:13.919Z"
   },
   {
    "duration": 7,
    "start_time": "2021-08-02T16:56:39.344Z"
   },
   {
    "duration": 7,
    "start_time": "2021-08-02T16:56:45.249Z"
   },
   {
    "duration": 9,
    "start_time": "2021-08-02T16:57:21.344Z"
   },
   {
    "duration": 9,
    "start_time": "2021-08-02T16:57:27.852Z"
   },
   {
    "duration": 343,
    "start_time": "2021-08-02T17:08:30.597Z"
   },
   {
    "duration": 220,
    "start_time": "2021-08-02T17:09:58.025Z"
   },
   {
    "duration": 605,
    "start_time": "2021-08-02T17:10:02.469Z"
   },
   {
    "duration": 227,
    "start_time": "2021-08-02T17:10:46.255Z"
   },
   {
    "duration": 332,
    "start_time": "2021-08-02T17:10:57.110Z"
   },
   {
    "duration": 318,
    "start_time": "2021-08-02T17:11:08.969Z"
   },
   {
    "duration": 321,
    "start_time": "2021-08-02T17:11:35.688Z"
   },
   {
    "duration": 8,
    "start_time": "2021-08-02T17:13:32.319Z"
   },
   {
    "duration": 9,
    "start_time": "2021-08-02T17:14:59.337Z"
   },
   {
    "duration": 7,
    "start_time": "2021-08-02T17:15:47.219Z"
   },
   {
    "duration": 8,
    "start_time": "2021-08-02T17:16:49.825Z"
   },
   {
    "duration": 8,
    "start_time": "2021-08-02T17:17:25.601Z"
   },
   {
    "duration": 7,
    "start_time": "2021-08-02T17:17:52.166Z"
   },
   {
    "duration": 309,
    "start_time": "2021-08-02T17:18:50.011Z"
   },
   {
    "duration": 25,
    "start_time": "2021-08-02T17:19:23.750Z"
   },
   {
    "duration": 7,
    "start_time": "2021-08-02T17:19:48.679Z"
   },
   {
    "duration": 7,
    "start_time": "2021-08-02T17:20:01.712Z"
   },
   {
    "duration": 6,
    "start_time": "2021-08-02T17:20:21.687Z"
   },
   {
    "duration": 7,
    "start_time": "2021-08-02T17:20:38.315Z"
   },
   {
    "duration": 2,
    "start_time": "2021-08-02T17:21:02.829Z"
   },
   {
    "duration": 4,
    "start_time": "2021-08-02T17:21:10.717Z"
   },
   {
    "duration": 3,
    "start_time": "2021-08-02T17:21:33.266Z"
   },
   {
    "duration": 3,
    "start_time": "2021-08-02T17:21:40.995Z"
   },
   {
    "duration": 4,
    "start_time": "2021-08-02T17:21:57.088Z"
   },
   {
    "duration": 3,
    "start_time": "2021-08-02T17:28:53.356Z"
   },
   {
    "duration": 308,
    "start_time": "2021-08-02T17:28:53.848Z"
   },
   {
    "duration": 307,
    "start_time": "2021-08-02T17:28:55.214Z"
   },
   {
    "duration": 315,
    "start_time": "2021-08-02T17:28:56.484Z"
   },
   {
    "duration": 309,
    "start_time": "2021-08-02T17:28:57.823Z"
   },
   {
    "duration": 1046,
    "start_time": "2021-08-02T17:33:43.853Z"
   },
   {
    "duration": 373,
    "start_time": "2021-08-02T17:33:44.901Z"
   },
   {
    "duration": 9,
    "start_time": "2021-08-02T17:33:45.276Z"
   },
   {
    "duration": 21,
    "start_time": "2021-08-02T17:33:45.287Z"
   },
   {
    "duration": 6,
    "start_time": "2021-08-02T17:33:45.309Z"
   },
   {
    "duration": 17,
    "start_time": "2021-08-02T17:33:45.316Z"
   },
   {
    "duration": 5,
    "start_time": "2021-08-02T17:33:45.334Z"
   },
   {
    "duration": 15,
    "start_time": "2021-08-02T17:33:45.341Z"
   },
   {
    "duration": 35,
    "start_time": "2021-08-02T17:33:45.357Z"
   },
   {
    "duration": 6,
    "start_time": "2021-08-02T17:33:45.393Z"
   },
   {
    "duration": 11,
    "start_time": "2021-08-02T17:33:45.400Z"
   },
   {
    "duration": 7,
    "start_time": "2021-08-02T17:33:45.413Z"
   },
   {
    "duration": 85,
    "start_time": "2021-08-02T17:33:45.421Z"
   },
   {
    "duration": 60,
    "start_time": "2021-08-02T17:33:45.508Z"
   },
   {
    "duration": 284,
    "start_time": "2021-08-02T17:33:45.570Z"
   },
   {
    "duration": -1529,
    "start_time": "2021-08-02T17:33:47.386Z"
   },
   {
    "duration": -1570,
    "start_time": "2021-08-02T17:33:47.428Z"
   },
   {
    "duration": -1596,
    "start_time": "2021-08-02T17:33:47.455Z"
   },
   {
    "duration": -1641,
    "start_time": "2021-08-02T17:33:47.501Z"
   },
   {
    "duration": -1672,
    "start_time": "2021-08-02T17:33:47.533Z"
   },
   {
    "duration": -1718,
    "start_time": "2021-08-02T17:33:47.580Z"
   },
   {
    "duration": -1744,
    "start_time": "2021-08-02T17:33:47.607Z"
   },
   {
    "duration": -1760,
    "start_time": "2021-08-02T17:33:47.624Z"
   },
   {
    "duration": -1776,
    "start_time": "2021-08-02T17:33:47.640Z"
   },
   {
    "duration": -1794,
    "start_time": "2021-08-02T17:33:47.659Z"
   },
   {
    "duration": -1807,
    "start_time": "2021-08-02T17:33:47.673Z"
   },
   {
    "duration": -1825,
    "start_time": "2021-08-02T17:33:47.692Z"
   },
   {
    "duration": -1841,
    "start_time": "2021-08-02T17:33:47.709Z"
   },
   {
    "duration": -1898,
    "start_time": "2021-08-02T17:33:47.767Z"
   },
   {
    "duration": -1913,
    "start_time": "2021-08-02T17:33:47.783Z"
   },
   {
    "duration": -1929,
    "start_time": "2021-08-02T17:33:47.800Z"
   },
   {
    "duration": -1944,
    "start_time": "2021-08-02T17:33:47.815Z"
   },
   {
    "duration": -1961,
    "start_time": "2021-08-02T17:33:47.833Z"
   },
   {
    "duration": -1974,
    "start_time": "2021-08-02T17:33:47.847Z"
   },
   {
    "duration": -1988,
    "start_time": "2021-08-02T17:33:47.862Z"
   },
   {
    "duration": -1995,
    "start_time": "2021-08-02T17:33:47.870Z"
   },
   {
    "duration": -2010,
    "start_time": "2021-08-02T17:33:47.886Z"
   },
   {
    "duration": -2025,
    "start_time": "2021-08-02T17:33:47.901Z"
   },
   {
    "duration": -2040,
    "start_time": "2021-08-02T17:33:47.917Z"
   },
   {
    "duration": -2056,
    "start_time": "2021-08-02T17:33:47.934Z"
   },
   {
    "duration": -2072,
    "start_time": "2021-08-02T17:33:47.951Z"
   },
   {
    "duration": -2086,
    "start_time": "2021-08-02T17:33:47.966Z"
   },
   {
    "duration": -2102,
    "start_time": "2021-08-02T17:33:47.983Z"
   },
   {
    "duration": -2115,
    "start_time": "2021-08-02T17:33:47.997Z"
   },
   {
    "duration": -2129,
    "start_time": "2021-08-02T17:33:48.011Z"
   },
   {
    "duration": -2137,
    "start_time": "2021-08-02T17:33:48.020Z"
   },
   {
    "duration": -2152,
    "start_time": "2021-08-02T17:33:48.036Z"
   },
   {
    "duration": -2168,
    "start_time": "2021-08-02T17:33:48.053Z"
   },
   {
    "duration": -2183,
    "start_time": "2021-08-02T17:33:48.069Z"
   },
   {
    "duration": -2197,
    "start_time": "2021-08-02T17:33:48.084Z"
   },
   {
    "duration": -2211,
    "start_time": "2021-08-02T17:33:48.098Z"
   },
   {
    "duration": -2215,
    "start_time": "2021-08-02T17:33:48.103Z"
   },
   {
    "duration": 231,
    "start_time": "2021-08-02T17:35:17.449Z"
   },
   {
    "duration": 220,
    "start_time": "2021-08-02T17:35:44.110Z"
   },
   {
    "duration": 220,
    "start_time": "2021-08-02T17:36:07.017Z"
   },
   {
    "duration": 3,
    "start_time": "2021-08-02T17:36:14.049Z"
   },
   {
    "duration": 376,
    "start_time": "2021-08-02T17:36:14.218Z"
   },
   {
    "duration": 7,
    "start_time": "2021-08-02T17:36:14.596Z"
   },
   {
    "duration": 21,
    "start_time": "2021-08-02T17:36:14.605Z"
   },
   {
    "duration": 8,
    "start_time": "2021-08-02T17:36:14.764Z"
   },
   {
    "duration": 17,
    "start_time": "2021-08-02T17:36:14.953Z"
   },
   {
    "duration": 7,
    "start_time": "2021-08-02T17:36:15.134Z"
   },
   {
    "duration": 13,
    "start_time": "2021-08-02T17:36:15.323Z"
   },
   {
    "duration": 8,
    "start_time": "2021-08-02T17:36:15.511Z"
   },
   {
    "duration": 7,
    "start_time": "2021-08-02T17:36:15.693Z"
   },
   {
    "duration": 9,
    "start_time": "2021-08-02T17:36:15.864Z"
   },
   {
    "duration": 8,
    "start_time": "2021-08-02T17:36:16.051Z"
   },
   {
    "duration": 56,
    "start_time": "2021-08-02T17:36:17.312Z"
   },
   {
    "duration": 60,
    "start_time": "2021-08-02T17:36:18.517Z"
   },
   {
    "duration": 226,
    "start_time": "2021-08-02T17:36:18.903Z"
   },
   {
    "duration": -215,
    "start_time": "2021-08-02T17:36:19.346Z"
   },
   {
    "duration": 34,
    "start_time": "2021-08-02T17:36:19.489Z"
   },
   {
    "duration": 220,
    "start_time": "2021-08-02T17:36:20.510Z"
   },
   {
    "duration": 215,
    "start_time": "2021-08-02T17:36:21.078Z"
   },
   {
    "duration": 98,
    "start_time": "2021-08-03T08:07:23.406Z"
   },
   {
    "duration": 12,
    "start_time": "2021-08-03T08:07:57.247Z"
   },
   {
    "duration": 13,
    "start_time": "2021-08-03T08:08:33.759Z"
   },
   {
    "duration": 13,
    "start_time": "2021-08-03T08:08:55.869Z"
   },
   {
    "duration": 36,
    "start_time": "2021-08-03T08:10:07.948Z"
   },
   {
    "duration": 14,
    "start_time": "2021-08-03T08:10:08.868Z"
   },
   {
    "duration": 28,
    "start_time": "2021-08-03T08:10:11.504Z"
   },
   {
    "duration": 13,
    "start_time": "2021-08-03T08:10:12.101Z"
   },
   {
    "duration": 27,
    "start_time": "2021-08-03T08:10:18.633Z"
   },
   {
    "duration": 16,
    "start_time": "2021-08-03T08:10:19.105Z"
   },
   {
    "duration": 4,
    "start_time": "2021-08-03T08:10:26.312Z"
   },
   {
    "duration": 615,
    "start_time": "2021-08-03T08:10:26.759Z"
   },
   {
    "duration": 12,
    "start_time": "2021-08-03T08:10:27.377Z"
   },
   {
    "duration": 31,
    "start_time": "2021-08-03T08:10:27.393Z"
   },
   {
    "duration": 35,
    "start_time": "2021-08-03T08:10:27.427Z"
   },
   {
    "duration": 23,
    "start_time": "2021-08-03T08:10:27.487Z"
   },
   {
    "duration": 11,
    "start_time": "2021-08-03T08:10:27.705Z"
   },
   {
    "duration": 19,
    "start_time": "2021-08-03T08:10:27.892Z"
   },
   {
    "duration": 13,
    "start_time": "2021-08-03T08:10:28.269Z"
   },
   {
    "duration": 10,
    "start_time": "2021-08-03T08:10:28.564Z"
   },
   {
    "duration": 14,
    "start_time": "2021-08-03T08:10:28.860Z"
   },
   {
    "duration": 9,
    "start_time": "2021-08-03T08:10:29.355Z"
   },
   {
    "duration": 103,
    "start_time": "2021-08-03T08:10:32.027Z"
   },
   {
    "duration": 12,
    "start_time": "2021-08-03T08:10:32.808Z"
   },
   {
    "duration": 93,
    "start_time": "2021-08-03T08:12:09.205Z"
   },
   {
    "duration": 543,
    "start_time": "2021-08-03T08:12:38.304Z"
   },
   {
    "duration": 84,
    "start_time": "2021-08-03T08:12:44.266Z"
   },
   {
    "duration": 83,
    "start_time": "2021-08-03T08:12:55.190Z"
   },
   {
    "duration": 67,
    "start_time": "2021-08-03T08:16:45.024Z"
   },
   {
    "duration": 65,
    "start_time": "2021-08-03T08:17:08.919Z"
   },
   {
    "duration": 65,
    "start_time": "2021-08-03T08:17:18.962Z"
   },
   {
    "duration": 112,
    "start_time": "2021-08-03T08:17:40.954Z"
   },
   {
    "duration": 63,
    "start_time": "2021-08-03T08:17:45.895Z"
   },
   {
    "duration": 63,
    "start_time": "2021-08-03T08:18:06.863Z"
   },
   {
    "duration": 23,
    "start_time": "2021-08-03T08:19:01.043Z"
   },
   {
    "duration": 13,
    "start_time": "2021-08-03T08:19:01.682Z"
   },
   {
    "duration": 23,
    "start_time": "2021-08-03T08:19:19.470Z"
   },
   {
    "duration": 12,
    "start_time": "2021-08-03T08:19:31.457Z"
   },
   {
    "duration": 18,
    "start_time": "2021-08-03T08:19:31.639Z"
   },
   {
    "duration": 11,
    "start_time": "2021-08-03T08:19:31.811Z"
   },
   {
    "duration": 16,
    "start_time": "2021-08-03T08:19:31.986Z"
   },
   {
    "duration": 13,
    "start_time": "2021-08-03T08:19:32.164Z"
   },
   {
    "duration": 9,
    "start_time": "2021-08-03T08:19:32.398Z"
   },
   {
    "duration": 15,
    "start_time": "2021-08-03T08:19:32.970Z"
   },
   {
    "duration": 12,
    "start_time": "2021-08-03T08:19:33.452Z"
   },
   {
    "duration": 26,
    "start_time": "2021-08-03T08:19:36.213Z"
   },
   {
    "duration": 13,
    "start_time": "2021-08-03T08:19:36.977Z"
   },
   {
    "duration": 4,
    "start_time": "2021-08-03T08:19:44.652Z"
   },
   {
    "duration": 583,
    "start_time": "2021-08-03T08:19:44.659Z"
   },
   {
    "duration": 12,
    "start_time": "2021-08-03T08:19:45.245Z"
   },
   {
    "duration": 41,
    "start_time": "2021-08-03T08:19:45.260Z"
   },
   {
    "duration": 20,
    "start_time": "2021-08-03T08:19:45.304Z"
   },
   {
    "duration": 50,
    "start_time": "2021-08-03T08:19:45.326Z"
   },
   {
    "duration": 18,
    "start_time": "2021-08-03T08:19:45.379Z"
   },
   {
    "duration": 30,
    "start_time": "2021-08-03T08:19:45.401Z"
   },
   {
    "duration": 14,
    "start_time": "2021-08-03T08:19:45.434Z"
   },
   {
    "duration": 9,
    "start_time": "2021-08-03T08:19:45.463Z"
   },
   {
    "duration": 28,
    "start_time": "2021-08-03T08:19:45.475Z"
   },
   {
    "duration": 15,
    "start_time": "2021-08-03T08:19:45.505Z"
   },
   {
    "duration": 112,
    "start_time": "2021-08-03T08:19:45.522Z"
   },
   {
    "duration": 12,
    "start_time": "2021-08-03T08:19:51.493Z"
   },
   {
    "duration": 84,
    "start_time": "2021-08-03T08:20:08.219Z"
   },
   {
    "duration": 65,
    "start_time": "2021-08-03T08:20:12.948Z"
   },
   {
    "duration": 79,
    "start_time": "2021-08-03T08:20:16.678Z"
   },
   {
    "duration": 79,
    "start_time": "2021-08-03T08:20:46.596Z"
   },
   {
    "duration": 52,
    "start_time": "2021-08-03T08:20:48.017Z"
   },
   {
    "duration": 44,
    "start_time": "2021-08-03T08:21:05.980Z"
   },
   {
    "duration": 42,
    "start_time": "2021-08-03T08:21:42.503Z"
   },
   {
    "duration": 10,
    "start_time": "2021-08-03T08:21:52.266Z"
   },
   {
    "duration": 5,
    "start_time": "2021-08-03T08:21:57.995Z"
   },
   {
    "duration": 19,
    "start_time": "2021-08-03T08:22:03.966Z"
   },
   {
    "duration": 20,
    "start_time": "2021-08-03T08:22:07.467Z"
   },
   {
    "duration": 5,
    "start_time": "2021-08-03T08:22:08.050Z"
   },
   {
    "duration": 5,
    "start_time": "2021-08-03T08:22:14.692Z"
   },
   {
    "duration": 22,
    "start_time": "2021-08-03T08:22:17.600Z"
   },
   {
    "duration": 21,
    "start_time": "2021-08-03T08:22:26.512Z"
   },
   {
    "duration": 4,
    "start_time": "2021-08-03T08:22:30.284Z"
   },
   {
    "duration": 6,
    "start_time": "2021-08-03T08:22:33.633Z"
   },
   {
    "duration": 9,
    "start_time": "2021-08-03T08:22:37.524Z"
   },
   {
    "duration": 29,
    "start_time": "2021-08-03T08:30:29.423Z"
   },
   {
    "duration": 28,
    "start_time": "2021-08-03T08:30:47.366Z"
   },
   {
    "duration": -145,
    "start_time": "2021-08-03T08:31:41.218Z"
   },
   {
    "duration": 30,
    "start_time": "2021-08-03T08:31:44.761Z"
   },
   {
    "duration": -107,
    "start_time": "2021-08-03T08:32:11.642Z"
   },
   {
    "duration": 31,
    "start_time": "2021-08-03T08:32:17.894Z"
   },
   {
    "duration": 26,
    "start_time": "2021-08-03T08:33:05.889Z"
   },
   {
    "duration": 28,
    "start_time": "2021-08-03T08:33:57.587Z"
   },
   {
    "duration": 27,
    "start_time": "2021-08-03T08:33:58.650Z"
   },
   {
    "duration": 26,
    "start_time": "2021-08-03T08:34:01.738Z"
   },
   {
    "duration": 132,
    "start_time": "2021-08-03T08:35:07.754Z"
   },
   {
    "duration": 102,
    "start_time": "2021-08-03T08:35:19.121Z"
   },
   {
    "duration": 110,
    "start_time": "2021-08-03T08:35:42.376Z"
   },
   {
    "duration": 95,
    "start_time": "2021-08-03T08:35:50.038Z"
   },
   {
    "duration": 143,
    "start_time": "2021-08-03T08:35:52.636Z"
   },
   {
    "duration": 28,
    "start_time": "2021-08-03T08:36:12.234Z"
   },
   {
    "duration": 35,
    "start_time": "2021-08-03T08:37:08.240Z"
   },
   {
    "duration": 5,
    "start_time": "2021-08-03T08:39:44.082Z"
   },
   {
    "duration": 28,
    "start_time": "2021-08-03T08:39:45.133Z"
   },
   {
    "duration": 25,
    "start_time": "2021-08-03T08:43:08.981Z"
   },
   {
    "duration": 33,
    "start_time": "2021-08-03T08:43:20.826Z"
   },
   {
    "duration": 263,
    "start_time": "2021-08-03T08:43:50.468Z"
   },
   {
    "duration": 242,
    "start_time": "2021-08-03T08:44:45.039Z"
   },
   {
    "duration": 41,
    "start_time": "2021-08-03T08:44:47.249Z"
   },
   {
    "duration": 237,
    "start_time": "2021-08-03T08:45:24.971Z"
   },
   {
    "duration": 251,
    "start_time": "2021-08-03T08:45:41.050Z"
   },
   {
    "duration": 237,
    "start_time": "2021-08-03T08:46:45.811Z"
   },
   {
    "duration": 4,
    "start_time": "2021-08-03T08:47:14.236Z"
   },
   {
    "duration": 619,
    "start_time": "2021-08-03T08:47:14.243Z"
   },
   {
    "duration": 16,
    "start_time": "2021-08-03T08:47:14.866Z"
   },
   {
    "duration": 28,
    "start_time": "2021-08-03T08:47:14.885Z"
   },
   {
    "duration": 11,
    "start_time": "2021-08-03T08:47:14.915Z"
   },
   {
    "duration": 60,
    "start_time": "2021-08-03T08:47:14.929Z"
   },
   {
    "duration": 14,
    "start_time": "2021-08-03T08:47:14.992Z"
   },
   {
    "duration": 56,
    "start_time": "2021-08-03T08:47:15.010Z"
   },
   {
    "duration": 22,
    "start_time": "2021-08-03T08:47:15.072Z"
   },
   {
    "duration": 11,
    "start_time": "2021-08-03T08:47:15.096Z"
   },
   {
    "duration": 21,
    "start_time": "2021-08-03T08:47:15.109Z"
   },
   {
    "duration": 32,
    "start_time": "2021-08-03T08:47:15.133Z"
   },
   {
    "duration": 101,
    "start_time": "2021-08-03T08:47:15.169Z"
   },
   {
    "duration": 13,
    "start_time": "2021-08-03T08:47:15.273Z"
   },
   {
    "duration": 105,
    "start_time": "2021-08-03T08:47:15.289Z"
   },
   {
    "duration": 81,
    "start_time": "2021-08-03T08:47:15.397Z"
   },
   {
    "duration": 47,
    "start_time": "2021-08-03T08:47:15.480Z"
   },
   {
    "duration": 69,
    "start_time": "2021-08-03T08:47:15.530Z"
   },
   {
    "duration": 9,
    "start_time": "2021-08-03T08:47:15.604Z"
   },
   {
    "duration": 5,
    "start_time": "2021-08-03T08:47:15.616Z"
   },
   {
    "duration": 51,
    "start_time": "2021-08-03T08:47:15.623Z"
   },
   {
    "duration": 22,
    "start_time": "2021-08-03T08:47:15.677Z"
   },
   {
    "duration": 6,
    "start_time": "2021-08-03T08:47:15.703Z"
   },
   {
    "duration": 70,
    "start_time": "2021-08-03T08:47:15.711Z"
   },
   {
    "duration": 7,
    "start_time": "2021-08-03T08:47:15.785Z"
   },
   {
    "duration": 10,
    "start_time": "2021-08-03T08:47:15.794Z"
   },
   {
    "duration": 11,
    "start_time": "2021-08-03T08:47:15.807Z"
   },
   {
    "duration": 7,
    "start_time": "2021-08-03T08:47:15.821Z"
   },
   {
    "duration": 64,
    "start_time": "2021-08-03T08:47:15.831Z"
   },
   {
    "duration": 24,
    "start_time": "2021-08-03T08:47:15.897Z"
   },
   {
    "duration": 66,
    "start_time": "2021-08-03T08:47:15.924Z"
   },
   {
    "duration": 233,
    "start_time": "2021-08-03T08:47:18.618Z"
   },
   {
    "duration": 73,
    "start_time": "2021-08-03T08:48:52.168Z"
   },
   {
    "duration": 78,
    "start_time": "2021-08-03T08:49:25.623Z"
   },
   {
    "duration": 168,
    "start_time": "2021-08-03T08:49:39.586Z"
   },
   {
    "duration": 164,
    "start_time": "2021-08-03T08:50:09.693Z"
   },
   {
    "duration": 14,
    "start_time": "2021-08-03T08:50:18.657Z"
   },
   {
    "duration": 105,
    "start_time": "2021-08-03T08:50:22.647Z"
   },
   {
    "duration": 662,
    "start_time": "2021-08-03T08:50:54.987Z"
   },
   {
    "duration": 4,
    "start_time": "2021-08-03T08:51:52.775Z"
   },
   {
    "duration": 120,
    "start_time": "2021-08-03T08:52:15.085Z"
   },
   {
    "duration": 639,
    "start_time": "2021-08-03T08:52:22.050Z"
   },
   {
    "duration": 809,
    "start_time": "2021-08-03T08:52:50.265Z"
   },
   {
    "duration": 737,
    "start_time": "2021-08-03T08:54:41.888Z"
   },
   {
    "duration": 666,
    "start_time": "2021-08-03T08:55:11.457Z"
   },
   {
    "duration": 20,
    "start_time": "2021-08-03T09:28:36.124Z"
   },
   {
    "duration": 33,
    "start_time": "2021-08-03T09:29:27.673Z"
   },
   {
    "duration": 15,
    "start_time": "2021-08-03T09:29:47.929Z"
   },
   {
    "duration": 10,
    "start_time": "2021-08-03T09:29:55.939Z"
   },
   {
    "duration": 13,
    "start_time": "2021-08-03T09:30:40.782Z"
   },
   {
    "duration": 14,
    "start_time": "2021-08-03T09:31:14.703Z"
   },
   {
    "duration": 18,
    "start_time": "2021-08-03T09:31:47.922Z"
   },
   {
    "duration": 18,
    "start_time": "2021-08-03T09:32:00.152Z"
   },
   {
    "duration": 34,
    "start_time": "2021-08-03T09:32:27.793Z"
   },
   {
    "duration": 27,
    "start_time": "2021-08-03T09:32:48.290Z"
   },
   {
    "duration": 19,
    "start_time": "2021-08-03T09:33:08.678Z"
   },
   {
    "duration": 291,
    "start_time": "2021-08-03T09:33:14.604Z"
   },
   {
    "duration": 25,
    "start_time": "2021-08-03T09:33:20.826Z"
   },
   {
    "duration": 20,
    "start_time": "2021-08-03T09:33:54.801Z"
   },
   {
    "duration": 29,
    "start_time": "2021-08-03T09:34:20.588Z"
   },
   {
    "duration": 34,
    "start_time": "2021-08-03T09:34:55.598Z"
   },
   {
    "duration": 29,
    "start_time": "2021-08-03T09:35:14.046Z"
   },
   {
    "duration": 24,
    "start_time": "2021-08-03T09:35:27.739Z"
   },
   {
    "duration": 25,
    "start_time": "2021-08-03T09:35:34.477Z"
   },
   {
    "duration": 28,
    "start_time": "2021-08-03T09:36:41.302Z"
   },
   {
    "duration": 26,
    "start_time": "2021-08-03T09:36:48.497Z"
   },
   {
    "duration": 27,
    "start_time": "2021-08-03T09:37:01.045Z"
   },
   {
    "duration": 26,
    "start_time": "2021-08-03T09:37:28.507Z"
   },
   {
    "duration": 53,
    "start_time": "2021-08-03T09:39:52.530Z"
   },
   {
    "duration": 25,
    "start_time": "2021-08-03T09:39:53.172Z"
   },
   {
    "duration": 15,
    "start_time": "2021-08-03T09:40:00.013Z"
   },
   {
    "duration": 15,
    "start_time": "2021-08-03T09:40:17.584Z"
   },
   {
    "duration": 35,
    "start_time": "2021-08-03T09:41:23.298Z"
   },
   {
    "duration": 257,
    "start_time": "2021-08-03T09:41:34.951Z"
   },
   {
    "duration": 170,
    "start_time": "2021-08-03T09:41:36.441Z"
   },
   {
    "duration": 11,
    "start_time": "2021-08-03T09:41:39.569Z"
   },
   {
    "duration": 156,
    "start_time": "2021-08-03T09:41:40.407Z"
   },
   {
    "duration": 1455,
    "start_time": "2021-08-03T09:42:05.228Z"
   },
   {
    "duration": 562,
    "start_time": "2021-08-03T09:42:06.686Z"
   },
   {
    "duration": 23,
    "start_time": "2021-08-03T09:42:07.252Z"
   },
   {
    "duration": 40,
    "start_time": "2021-08-03T09:42:07.280Z"
   },
   {
    "duration": 13,
    "start_time": "2021-08-03T09:42:07.323Z"
   },
   {
    "duration": 52,
    "start_time": "2021-08-03T09:42:07.339Z"
   },
   {
    "duration": 11,
    "start_time": "2021-08-03T09:42:07.393Z"
   },
   {
    "duration": 66,
    "start_time": "2021-08-03T09:42:07.408Z"
   },
   {
    "duration": 12,
    "start_time": "2021-08-03T09:42:07.477Z"
   },
   {
    "duration": 12,
    "start_time": "2021-08-03T09:42:07.492Z"
   },
   {
    "duration": 22,
    "start_time": "2021-08-03T09:42:07.506Z"
   },
   {
    "duration": 16,
    "start_time": "2021-08-03T09:42:07.531Z"
   },
   {
    "duration": 126,
    "start_time": "2021-08-03T09:42:07.549Z"
   },
   {
    "duration": 11,
    "start_time": "2021-08-03T09:42:07.678Z"
   },
   {
    "duration": 114,
    "start_time": "2021-08-03T09:42:07.692Z"
   },
   {
    "duration": 79,
    "start_time": "2021-08-03T09:42:07.808Z"
   },
   {
    "duration": 50,
    "start_time": "2021-08-03T09:42:07.890Z"
   },
   {
    "duration": 64,
    "start_time": "2021-08-03T09:42:07.942Z"
   },
   {
    "duration": 9,
    "start_time": "2021-08-03T09:42:08.008Z"
   },
   {
    "duration": 5,
    "start_time": "2021-08-03T09:42:08.019Z"
   },
   {
    "duration": 52,
    "start_time": "2021-08-03T09:42:08.026Z"
   },
   {
    "duration": 19,
    "start_time": "2021-08-03T09:42:08.080Z"
   },
   {
    "duration": 5,
    "start_time": "2021-08-03T09:42:08.104Z"
   },
   {
    "duration": 55,
    "start_time": "2021-08-03T09:42:08.112Z"
   },
   {
    "duration": 7,
    "start_time": "2021-08-03T09:42:08.170Z"
   },
   {
    "duration": 7,
    "start_time": "2021-08-03T09:42:08.179Z"
   },
   {
    "duration": 12,
    "start_time": "2021-08-03T09:42:08.189Z"
   },
   {
    "duration": 6,
    "start_time": "2021-08-03T09:42:08.204Z"
   },
   {
    "duration": 75,
    "start_time": "2021-08-03T09:42:08.213Z"
   },
   {
    "duration": 25,
    "start_time": "2021-08-03T09:42:08.291Z"
   },
   {
    "duration": 67,
    "start_time": "2021-08-03T09:42:08.318Z"
   },
   {
    "duration": 256,
    "start_time": "2021-08-03T09:42:08.387Z"
   },
   {
    "duration": 177,
    "start_time": "2021-08-03T09:42:08.645Z"
   },
   {
    "duration": 10,
    "start_time": "2021-08-03T09:42:08.825Z"
   },
   {
    "duration": 134,
    "start_time": "2021-08-03T09:42:08.837Z"
   },
   {
    "duration": 656,
    "start_time": "2021-08-03T09:42:08.975Z"
   },
   {
    "duration": 3,
    "start_time": "2021-08-03T09:42:09.635Z"
   },
   {
    "duration": 662,
    "start_time": "2021-08-03T09:42:09.641Z"
   },
   {
    "duration": 616,
    "start_time": "2021-08-03T09:42:10.306Z"
   },
   {
    "duration": 641,
    "start_time": "2021-08-03T09:42:10.924Z"
   },
   {
    "duration": 680,
    "start_time": "2021-08-03T09:42:11.568Z"
   },
   {
    "duration": 43,
    "start_time": "2021-08-03T09:42:12.250Z"
   },
   {
    "duration": 25,
    "start_time": "2021-08-03T09:42:12.296Z"
   },
   {
    "duration": 48,
    "start_time": "2021-08-03T09:42:12.324Z"
   },
   {
    "duration": 17,
    "start_time": "2021-08-03T09:42:12.374Z"
   },
   {
    "duration": 369,
    "start_time": "2021-08-03T10:16:45.587Z"
   },
   {
    "duration": 295,
    "start_time": "2021-08-03T10:16:52.049Z"
   },
   {
    "duration": 274,
    "start_time": "2021-08-03T10:17:04.562Z"
   },
   {
    "duration": 3,
    "start_time": "2021-08-03T10:17:13.385Z"
   },
   {
    "duration": 574,
    "start_time": "2021-08-03T10:17:13.391Z"
   },
   {
    "duration": 10,
    "start_time": "2021-08-03T10:17:13.968Z"
   },
   {
    "duration": 29,
    "start_time": "2021-08-03T10:17:13.981Z"
   },
   {
    "duration": 13,
    "start_time": "2021-08-03T10:17:14.013Z"
   },
   {
    "duration": 56,
    "start_time": "2021-08-03T10:17:14.029Z"
   },
   {
    "duration": 11,
    "start_time": "2021-08-03T10:17:14.090Z"
   },
   {
    "duration": 58,
    "start_time": "2021-08-03T10:17:14.105Z"
   },
   {
    "duration": 14,
    "start_time": "2021-08-03T10:17:14.166Z"
   },
   {
    "duration": 11,
    "start_time": "2021-08-03T10:17:14.184Z"
   },
   {
    "duration": 18,
    "start_time": "2021-08-03T10:17:14.198Z"
   },
   {
    "duration": 47,
    "start_time": "2021-08-03T10:17:14.218Z"
   },
   {
    "duration": 102,
    "start_time": "2021-08-03T10:17:14.267Z"
   },
   {
    "duration": 12,
    "start_time": "2021-08-03T10:17:14.371Z"
   },
   {
    "duration": 106,
    "start_time": "2021-08-03T10:17:14.386Z"
   },
   {
    "duration": 86,
    "start_time": "2021-08-03T10:17:14.495Z"
   },
   {
    "duration": 78,
    "start_time": "2021-08-03T10:17:14.584Z"
   },
   {
    "duration": 64,
    "start_time": "2021-08-03T10:17:14.665Z"
   },
   {
    "duration": 29,
    "start_time": "2021-08-03T10:17:14.735Z"
   },
   {
    "duration": 7,
    "start_time": "2021-08-03T10:17:14.767Z"
   },
   {
    "duration": 30,
    "start_time": "2021-08-03T10:17:14.777Z"
   },
   {
    "duration": 61,
    "start_time": "2021-08-03T10:17:14.811Z"
   },
   {
    "duration": 7,
    "start_time": "2021-08-03T10:17:14.875Z"
   },
   {
    "duration": 28,
    "start_time": "2021-08-03T10:17:14.884Z"
   },
   {
    "duration": 8,
    "start_time": "2021-08-03T10:17:14.915Z"
   },
   {
    "duration": 36,
    "start_time": "2021-08-03T10:17:14.926Z"
   },
   {
    "duration": 10,
    "start_time": "2021-08-03T10:17:14.965Z"
   },
   {
    "duration": 266,
    "start_time": "2021-08-03T10:17:18.755Z"
   },
   {
    "duration": 4,
    "start_time": "2021-08-03T10:17:55.015Z"
   },
   {
    "duration": 251,
    "start_time": "2021-08-03T10:18:07.397Z"
   },
   {
    "duration": 12,
    "start_time": "2021-08-03T10:18:12.643Z"
   },
   {
    "duration": 17,
    "start_time": "2021-08-03T10:18:22.589Z"
   },
   {
    "duration": 286,
    "start_time": "2021-08-03T10:19:36.237Z"
   },
   {
    "duration": 14,
    "start_time": "2021-08-03T10:19:48.392Z"
   },
   {
    "duration": 7389,
    "start_time": "2021-08-03T10:22:39.416Z"
   },
   {
    "duration": 6351,
    "start_time": "2021-08-03T10:22:58.990Z"
   },
   {
    "duration": 7184,
    "start_time": "2021-08-03T10:23:17.465Z"
   },
   {
    "duration": 6388,
    "start_time": "2021-08-03T10:23:45.894Z"
   },
   {
    "duration": 6603,
    "start_time": "2021-08-03T10:24:13.184Z"
   },
   {
    "duration": 16,
    "start_time": "2021-08-03T10:24:45.906Z"
   },
   {
    "duration": 30,
    "start_time": "2021-08-03T10:26:46.969Z"
   },
   {
    "duration": 26,
    "start_time": "2021-08-03T10:27:48.972Z"
   },
   {
    "duration": 27,
    "start_time": "2021-08-03T10:28:05.173Z"
   },
   {
    "duration": 5,
    "start_time": "2021-08-03T10:29:12.874Z"
   },
   {
    "duration": 30,
    "start_time": "2021-08-03T10:29:17.788Z"
   },
   {
    "duration": 23,
    "start_time": "2021-08-03T10:29:19.400Z"
   },
   {
    "duration": 32,
    "start_time": "2021-08-03T10:29:20.123Z"
   },
   {
    "duration": 430,
    "start_time": "2021-08-03T10:29:20.584Z"
   },
   {
    "duration": 245,
    "start_time": "2021-08-03T10:29:22.492Z"
   },
   {
    "duration": 14,
    "start_time": "2021-08-03T10:29:22.934Z"
   },
   {
    "duration": 1322,
    "start_time": "2021-08-03T16:43:10.213Z"
   },
   {
    "duration": 563,
    "start_time": "2021-08-03T16:43:11.538Z"
   },
   {
    "duration": 18,
    "start_time": "2021-08-03T16:43:12.105Z"
   },
   {
    "duration": 31,
    "start_time": "2021-08-03T16:43:12.126Z"
   },
   {
    "duration": 12,
    "start_time": "2021-08-03T16:43:12.160Z"
   },
   {
    "duration": 28,
    "start_time": "2021-08-03T16:43:12.175Z"
   },
   {
    "duration": 10,
    "start_time": "2021-08-03T16:43:12.206Z"
   },
   {
    "duration": 49,
    "start_time": "2021-08-03T16:43:12.218Z"
   },
   {
    "duration": 12,
    "start_time": "2021-08-03T16:43:12.271Z"
   },
   {
    "duration": 10,
    "start_time": "2021-08-03T16:43:12.286Z"
   },
   {
    "duration": 22,
    "start_time": "2021-08-03T16:43:12.299Z"
   },
   {
    "duration": 41,
    "start_time": "2021-08-03T16:43:12.323Z"
   },
   {
    "duration": 110,
    "start_time": "2021-08-03T16:43:12.366Z"
   },
   {
    "duration": 12,
    "start_time": "2021-08-03T16:43:12.478Z"
   },
   {
    "duration": 138,
    "start_time": "2021-08-03T16:43:12.493Z"
   },
   {
    "duration": 77,
    "start_time": "2021-08-03T16:43:12.634Z"
   },
   {
    "duration": 62,
    "start_time": "2021-08-03T16:43:12.714Z"
   },
   {
    "duration": 41,
    "start_time": "2021-08-03T16:43:12.779Z"
   },
   {
    "duration": 8,
    "start_time": "2021-08-03T16:43:12.822Z"
   },
   {
    "duration": 30,
    "start_time": "2021-08-03T16:43:12.832Z"
   },
   {
    "duration": 24,
    "start_time": "2021-08-03T16:43:12.864Z"
   },
   {
    "duration": 28,
    "start_time": "2021-08-03T16:43:12.890Z"
   },
   {
    "duration": 10,
    "start_time": "2021-08-03T16:43:12.921Z"
   },
   {
    "duration": 43,
    "start_time": "2021-08-03T16:43:12.934Z"
   },
   {
    "duration": 9,
    "start_time": "2021-08-03T16:43:12.979Z"
   },
   {
    "duration": 8,
    "start_time": "2021-08-03T16:43:12.990Z"
   },
   {
    "duration": 11,
    "start_time": "2021-08-03T16:43:13.003Z"
   },
   {
    "duration": 5,
    "start_time": "2021-08-03T16:43:13.016Z"
   },
   {
    "duration": 58,
    "start_time": "2021-08-03T16:43:13.023Z"
   },
   {
    "duration": 25,
    "start_time": "2021-08-03T16:43:13.084Z"
   },
   {
    "duration": 61,
    "start_time": "2021-08-03T16:43:13.112Z"
   },
   {
    "duration": 249,
    "start_time": "2021-08-03T16:43:13.175Z"
   },
   {
    "duration": 11,
    "start_time": "2021-08-03T16:43:17.360Z"
   },
   {
    "duration": 158,
    "start_time": "2021-08-03T16:43:36.114Z"
   },
   {
    "duration": 10,
    "start_time": "2021-08-03T16:43:36.275Z"
   },
   {
    "duration": 173,
    "start_time": "2021-08-03T16:43:36.288Z"
   },
   {
    "duration": 846,
    "start_time": "2021-08-03T16:43:36.464Z"
   },
   {
    "duration": 3,
    "start_time": "2021-08-03T16:43:37.363Z"
   },
   {
    "duration": 853,
    "start_time": "2021-08-03T16:43:37.368Z"
   },
   {
    "duration": 581,
    "start_time": "2021-08-03T16:43:38.223Z"
   },
   {
    "duration": 635,
    "start_time": "2021-08-03T16:43:38.806Z"
   },
   {
    "duration": 995,
    "start_time": "2021-08-03T16:43:39.446Z"
   },
   {
    "duration": 57,
    "start_time": "2021-08-03T16:43:40.445Z"
   },
   {
    "duration": 33,
    "start_time": "2021-08-03T16:43:40.506Z"
   },
   {
    "duration": 15,
    "start_time": "2021-08-03T16:43:40.563Z"
   },
   {
    "duration": 20,
    "start_time": "2021-08-03T16:43:40.580Z"
   },
   {
    "duration": 9,
    "start_time": "2021-08-03T16:43:44.579Z"
   },
   {
    "duration": 9,
    "start_time": "2021-08-03T16:44:35.190Z"
   },
   {
    "duration": 47,
    "start_time": "2021-08-03T16:46:55.706Z"
   },
   {
    "duration": 49,
    "start_time": "2021-08-03T16:47:20.874Z"
   },
   {
    "duration": 99,
    "start_time": "2021-08-03T16:48:08.817Z"
   },
   {
    "duration": 418,
    "start_time": "2021-08-04T07:57:58.065Z"
   },
   {
    "duration": 362,
    "start_time": "2021-08-04T07:58:05.061Z"
   },
   {
    "duration": 1375,
    "start_time": "2021-08-04T07:58:16.422Z"
   },
   {
    "duration": 552,
    "start_time": "2021-08-04T07:58:17.801Z"
   },
   {
    "duration": 16,
    "start_time": "2021-08-04T07:58:18.356Z"
   },
   {
    "duration": 39,
    "start_time": "2021-08-04T07:58:18.374Z"
   },
   {
    "duration": 12,
    "start_time": "2021-08-04T07:58:18.415Z"
   },
   {
    "duration": 25,
    "start_time": "2021-08-04T07:58:18.429Z"
   },
   {
    "duration": 11,
    "start_time": "2021-08-04T07:58:18.456Z"
   },
   {
    "duration": 48,
    "start_time": "2021-08-04T07:58:18.470Z"
   },
   {
    "duration": 12,
    "start_time": "2021-08-04T07:58:18.521Z"
   },
   {
    "duration": 9,
    "start_time": "2021-08-04T07:58:18.535Z"
   },
   {
    "duration": 55,
    "start_time": "2021-08-04T07:58:18.547Z"
   },
   {
    "duration": 14,
    "start_time": "2021-08-04T07:58:18.605Z"
   },
   {
    "duration": 159,
    "start_time": "2021-08-04T07:58:18.621Z"
   },
   {
    "duration": 20,
    "start_time": "2021-08-04T07:58:18.783Z"
   },
   {
    "duration": 122,
    "start_time": "2021-08-04T07:58:18.806Z"
   },
   {
    "duration": 94,
    "start_time": "2021-08-04T07:58:18.931Z"
   },
   {
    "duration": 72,
    "start_time": "2021-08-04T07:58:19.028Z"
   },
   {
    "duration": 56,
    "start_time": "2021-08-04T07:58:19.103Z"
   },
   {
    "duration": 9,
    "start_time": "2021-08-04T07:58:19.161Z"
   },
   {
    "duration": 27,
    "start_time": "2021-08-04T07:58:19.173Z"
   },
   {
    "duration": 19,
    "start_time": "2021-08-04T07:58:19.203Z"
   },
   {
    "duration": 21,
    "start_time": "2021-08-04T07:58:19.225Z"
   },
   {
    "duration": 5,
    "start_time": "2021-08-04T07:58:19.251Z"
   },
   {
    "duration": 24,
    "start_time": "2021-08-04T07:58:19.302Z"
   },
   {
    "duration": 8,
    "start_time": "2021-08-04T07:58:19.329Z"
   },
   {
    "duration": 8,
    "start_time": "2021-08-04T07:58:19.339Z"
   },
   {
    "duration": 11,
    "start_time": "2021-08-04T07:58:19.350Z"
   },
   {
    "duration": 425,
    "start_time": "2021-08-04T07:58:21.642Z"
   },
   {
    "duration": 5,
    "start_time": "2021-08-04T07:58:30.736Z"
   },
   {
    "duration": 27,
    "start_time": "2021-08-04T07:58:34.476Z"
   },
   {
    "duration": 11034,
    "start_time": "2021-08-04T07:58:36.896Z"
   },
   {
    "duration": 5246,
    "start_time": "2021-08-04T07:59:12.121Z"
   },
   {
    "duration": 10658,
    "start_time": "2021-08-04T07:59:32.258Z"
   },
   {
    "duration": 845,
    "start_time": "2021-08-04T08:00:10.778Z"
   },
   {
    "duration": -144,
    "start_time": "2021-08-04T08:00:26.185Z"
   },
   {
    "duration": 11384,
    "start_time": "2021-08-04T08:00:36.766Z"
   },
   {
    "duration": 373,
    "start_time": "2021-08-04T08:01:16.861Z"
   },
   {
    "duration": 375,
    "start_time": "2021-08-04T08:04:49.497Z"
   },
   {
    "duration": 382,
    "start_time": "2021-08-04T08:05:03.764Z"
   },
   {
    "duration": 371,
    "start_time": "2021-08-04T08:05:52.654Z"
   },
   {
    "duration": 696,
    "start_time": "2021-08-04T08:06:23.692Z"
   },
   {
    "duration": 550,
    "start_time": "2021-08-04T08:07:50.360Z"
   },
   {
    "duration": 4,
    "start_time": "2021-08-04T08:11:16.117Z"
   },
   {
    "duration": 529,
    "start_time": "2021-08-04T08:11:16.654Z"
   },
   {
    "duration": 11,
    "start_time": "2021-08-04T08:11:17.186Z"
   },
   {
    "duration": 27,
    "start_time": "2021-08-04T08:11:17.537Z"
   },
   {
    "duration": 13,
    "start_time": "2021-08-04T08:11:18.024Z"
   },
   {
    "duration": 22,
    "start_time": "2021-08-04T08:11:18.233Z"
   },
   {
    "duration": 11,
    "start_time": "2021-08-04T08:11:18.449Z"
   },
   {
    "duration": 19,
    "start_time": "2021-08-04T08:11:18.646Z"
   },
   {
    "duration": 13,
    "start_time": "2021-08-04T08:11:18.839Z"
   },
   {
    "duration": 9,
    "start_time": "2021-08-04T08:11:19.058Z"
   },
   {
    "duration": 20,
    "start_time": "2021-08-04T08:11:19.249Z"
   },
   {
    "duration": 12,
    "start_time": "2021-08-04T08:11:19.443Z"
   },
   {
    "duration": 134,
    "start_time": "2021-08-04T08:11:22.208Z"
   },
   {
    "duration": 15,
    "start_time": "2021-08-04T08:11:23.159Z"
   },
   {
    "duration": 106,
    "start_time": "2021-08-04T08:11:31.522Z"
   },
   {
    "duration": 75,
    "start_time": "2021-08-04T08:12:05.535Z"
   },
   {
    "duration": 58,
    "start_time": "2021-08-04T08:12:06.932Z"
   },
   {
    "duration": 46,
    "start_time": "2021-08-04T08:12:08.324Z"
   },
   {
    "duration": 55,
    "start_time": "2021-08-04T08:15:24.176Z"
   },
   {
    "duration": 43,
    "start_time": "2021-08-04T08:15:34.701Z"
   }
  ],
  "kernelspec": {
   "display_name": "Python 3",
   "language": "python",
   "name": "python3"
  },
  "language_info": {
   "codemirror_mode": {
    "name": "ipython",
    "version": 3
   },
   "file_extension": ".py",
   "mimetype": "text/x-python",
   "name": "python",
   "nbconvert_exporter": "python",
   "pygments_lexer": "ipython3",
   "version": "3.8.8"
  },
  "toc": {
   "base_numbering": 1,
   "nav_menu": {},
   "number_sections": true,
   "sideBar": true,
   "skip_h1_title": true,
   "title_cell": "Table of Contents",
   "title_sidebar": "Contents",
   "toc_cell": false,
   "toc_position": {
    "height": "calc(100% - 180px)",
    "left": "10px",
    "top": "150px",
    "width": "274px"
   },
   "toc_section_display": true,
   "toc_window_display": false
  }
 },
 "nbformat": 4,
 "nbformat_minor": 2
}
